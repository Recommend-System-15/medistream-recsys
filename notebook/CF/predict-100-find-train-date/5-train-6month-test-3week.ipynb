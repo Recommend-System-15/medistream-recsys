{
 "cells": [
  {
   "cell_type": "markdown",
   "id": "97dbe592",
   "metadata": {},
   "source": [
    "# 학습 데이터 기간 설정 실험\n",
    "- train test 나누고 NDCG 점수로 모델 성능을 평가를 진행\n",
    "- 1,2,3,4,6 개월 중 가장 모델 성능이 좋고 일정한 성능을 보이는 기간을 선택"
   ]
  },
  {
   "cell_type": "code",
   "execution_count": 1,
   "id": "053cf1d2",
   "metadata": {},
   "outputs": [
    {
     "name": "stdout",
     "output_type": "stream",
     "text": [
      "/home/user_3/medistream-recsys/Script\n"
     ]
    }
   ],
   "source": [
    "import pandas as pd\n",
    "import numpy as np\n",
    "import matplotlib.pyplot as plt\n",
    "import seaborn as sns\n",
    "from tqdm import tqdm\n",
    "\n",
    "import scipy.sparse as sparse\n",
    "import random\n",
    "import implicit\n",
    "from implicit.als import AlternatingLeastSquares as ALS\n",
    "\n",
    "%cd ../../../util\n",
    "from utils import *\n",
    "\n",
    "pd.set_option('display.max_rows', 300)\n",
    "pd.set_option('display.max_columns', 100)\n",
    "\n",
    "from dateutil.relativedelta import relativedelta\n",
    "from datetime import datetime, timedelta\n",
    "import scipy.sparse as sp\n",
    "from implicit.lmf import LogisticMatrixFactorization as LMF"
   ]
  },
  {
   "cell_type": "markdown",
   "id": "c5943a3d",
   "metadata": {},
   "source": [
    "# 1.Dataload"
   ]
  },
  {
   "cell_type": "code",
   "execution_count": 2,
   "id": "1bfc0ddc",
   "metadata": {},
   "outputs": [
    {
     "name": "stderr",
     "output_type": "stream",
     "text": [
      "100%|██████████| 5141/5141 [00:00<00:00, 842334.34it/s]\n"
     ]
    }
   ],
   "source": [
    "# products name 확인 용\n",
    "products_df = pd.read_json(\"/fastcampus-data/products/products.json\")\n",
    "products_df = key_to_element(['_id'],products_df)"
   ]
  },
  {
   "cell_type": "code",
   "execution_count": 3,
   "id": "392f7771",
   "metadata": {},
   "outputs": [],
   "source": [
    "df = pd.read_json('/fastcampus-data/select_column_version_4.json')"
   ]
  },
  {
   "cell_type": "code",
   "execution_count": 4,
   "id": "5a9b3f4b",
   "metadata": {},
   "outputs": [],
   "source": [
    "df['date_paid'] = pd.to_datetime(df['date_paid'])\n",
    "all_df = df.copy()"
   ]
  },
  {
   "cell_type": "code",
   "execution_count": 5,
   "id": "13e15e5c",
   "metadata": {},
   "outputs": [],
   "source": [
    "def product_name_fill(product_name_preprocess_df):\n",
    "    # 각 마지막 product_ids, name으로 채우기\n",
    "    product_ids_to_name = {}\n",
    "    for idx, row in product_name_preprocess_df.iterrows():\n",
    "        product_ids_to_name[row.product_ids] = row.name_x\n",
    "    product_name_preprocess_df['name_x'] = product_name_preprocess_df['product_ids'].apply(lambda x: product_ids_to_name[x])\n",
    "\n",
    "    name_to_product_ids = {}\n",
    "    for idx, row in product_name_preprocess_df.iterrows():\n",
    "        name_to_product_ids[row.name_x] = row.product_ids\n",
    "    product_name_preprocess_df['product_ids'] = product_name_preprocess_df['name_x'].apply(lambda x: name_to_product_ids[x])\n",
    "    return product_name_preprocess_df"
   ]
  },
  {
   "cell_type": "code",
   "execution_count": 6,
   "id": "c49f14df",
   "metadata": {},
   "outputs": [],
   "source": [
    "def promotion_proprof(df):\n",
    "    from datetime import datetime\n",
    "\n",
    "    preprocessed_book_df_date = df.copy()\n",
    "\n",
    "    promotion_book_df = preprocessed_book_df_date[preprocessed_book_df_date['date_paid'] >= '2022-01-01']\n",
    "    promotion_book_df['date_paid_date'] = promotion_book_df['date_paid'].dt.date\n",
    "    promotion_book_df['date_paid_week'] = promotion_book_df['date_paid_date'].apply(lambda x: x.isocalendar()[1])\n",
    "\n",
    "    promotion_dict = {\n",
    "        2:['트리거포인트 침치료'],\n",
    "        3:['藥徵, 약의 징표','파킨슨병 한의진료','침의 과학적 접근의 이해','길익동동','Medical acupuncture 침의 과학적 접근과 임상활용',\\\n",
    "          '동의보감 약선','수화론(水火論)'],\n",
    "        4:['실전한약가이드','음양승강으로 해석하는 사상의학: 생리병리'],\n",
    "        5:['음양승강으로 해석하는 사상의학: 생리병리'],\n",
    "        6:['윤상훈·권병조의 알짜 근육학','임상 한의사를 위한 기본 한약처방 강의 2판','트리거포인트 침치료','KCD 한방내과 진찰진단 가이드라인',\\\n",
    "          '실전한약가이드','음양승강으로 해석하는 사상의학: 생리병리','藥徵, 약의 징표','증보운곡본초학','통증치료를 위한 근육 초음파와 주사 테크닉'],\n",
    "        7:['오국통 온병명방'],\n",
    "        9:['병태생리 Visual map','NEO 인턴 핸드북','보험한약 브런치 the # 2판 개정판','Kendall 자세와 통증치료에 있어서 근육의 기능과 검사 5판',\\\n",
    "          '사상방 사용설명서','실전한약가이드','일차진료 한의사를 위한 보험한약입문 - 둘째 판','증보운곡본초학'],\n",
    "        10:['한눈에 보는 스트레칭 해부학'],\n",
    "        11:['임산부에게 사용할 수 있는 한방처방'],\n",
    "        12:['임산부에게 사용할 수 있는 한방처방'],\n",
    "        13:['MRI 자신감 키우기_족부편'],\n",
    "        14:['장골의 PI 변위는 없다'],\n",
    "        15:['윤상훈·권병조의 알짜 근육학','임상 한의사를 위한 기본 한약처방 강의 2판','KCD 한방내과 진찰진단 가이드라인','트리거포인트 침치료',\\\n",
    "           '음양승강으로 해석하는 사상의학: 생리병리','침의 과학적 접근의 이해','실전한약가이드','임산부에게 사용할 수 있는 한방처방','한눈에 보는 스트레칭 해부학',\\\n",
    "           'MRI 자신감 키우기_족부편'],\n",
    "        16:['환자상담의 달인','병의원 경영과 자산 관리 클리닉','우리 병원의 문제? 현장에서 답을 찾다!','근육학','스파이랄 및 키네지오 테이핑',\\\n",
    "           '요양병원 주치의 진료핵심'],\n",
    "        17:['오당 본초강론','운동기능장애 치료 매뉴얼','K. 한의학 임상총론','한방 활용 가이드','최강통증매선','암 치료에 이용되는 천연약물',\\\n",
    "           '왕문원 임상 평형침법','중국 왕문원 평형침구학'],\n",
    "        18:['초음파 가이드 근골격계 통증 치료의 정석'],\n",
    "        19:['초음파 가이드 근골격계 통증 치료의 정석','섭혜민 명의경방험안'],\n",
    "        20:['카이로프랙틱 기본테크닉론'],\n",
    "        21:['흔히보는 정형외과 외래진료 가이드북'],\n",
    "        22:['趙紹琴(조소금) 내과학','한의학 상담','숨찬 세상, 호흡기를 편하게',\\\n",
    "         '의학심오(醫學心悟)','안면마비 침구치료','중경서 독법 강해(상,하) /개정판'],\n",
    "        23:['선생님, 이제 그만 저 좀 포기해 주세요','한의학 상담','숨찬 세상, 호흡기를 편하게',\\\n",
    "        '의학심오(醫學心悟)','중경서 독법 강해(상,하) /개정판','안면마비 침구치료'],\n",
    "     24:['황황교수의 임상의를 위한 근거기반 상한금궤 처방 매뉴얼','황황교수의 개원 한의사를 위한 상한금궤 처방 강의록',\\\n",
    "        '선생님, 이제 그만 저 좀 포기해 주세요'],\\\n",
    "     25:['황황교수의 임상의를 위한 근거기반 상한금궤 처방 매뉴얼',\\\n",
    "       '황황교수의 개원 한의사를 위한 상한금궤 처방 강의록','약침의 정석 –통증편','갑상선 진료 완전정복',\\\n",
    "       '신경학 증상의 감별법','이것이 알고싶다! 당뇨병진료','어지럼질환의 진단과 치료','증례와 함께 하는 한약처방',\\\n",
    "       '뇌의학의 첫걸음','HAPPY 소아청소년 진료'],\\\n",
    "     26:['약침의 정석 –통증편','갑상선 진료 완전정복','신경학 증상의 감별법',\\\n",
    "       '증례와 함께 하는 한약처방','이것이 알고싶다! 당뇨병진료','HAPPY 소아청소년 진료','어지럼질환의 진단과 치료',\\\n",
    "       '뇌의학의 첫걸음','실전, 임상한의학 내과질환을 중심으로','실전, 임상한의학 알레르기질환','침구대성','평주온열경위'],\n",
    "     27:['침구과 진료매뉴얼','실전, 임상한의학 내과질환을 중심으로','실전, 임상한의학 알레르기질환','내과학 5권세트','한방순환 신경내과학',\\\n",
    "        '침구대성'],\n",
    "     28:['감별진단의 정석','기본통증진료학','약처방의 정석 (1, 2권 세트)','QBook: Case based Review',\\\n",
    "         'SMART 내과 1권 : 바이탈, 감염, 종양, 류마티스','일차진료아카데미 처방가이드'],\n",
    "     29:['비만문답','사암침의 해석과 임상'],\n",
    "     30:['플로차트 정형외과 진단','침구과 진료매뉴얼','내과학 5권세트','한방순환 신경내과학'],\n",
    "     31:['외래에서 꼭 알아야 할 통증증후군 137가지'],\n",
    "     32:['SMART 기본 일차진료매뉴얼 3판(세트)','SMART 소아진료매뉴얼 3판','SMART 응급진료매뉴얼(세트)'],\n",
    "     33:['SMART 기본 일차진료매뉴얼 3판(세트)','SMART 소아진료매뉴얼 3판','SMART 응급진료매뉴얼(세트)'],\n",
    "     34:['초음파 유도하 침 시술 가이드북'],\n",
    "     35:['영어 진료 가이드북','초음파 유도하 침 시술 가이드북'],\n",
    "     36:['영어 진료 가이드북','소아피부질환해설'],\n",
    "     37:['소아피부질환해설','醫學心悟(의학심오) 톺아보기'],}\n",
    "\n",
    "    promotion_item_list = []\n",
    "    for promotion_items in promotion_dict.values():\n",
    "        for item in promotion_items:\n",
    "            promotion_item_list.append(item)\n",
    "\n",
    "    # set(promotion_item_list), len(set(promotion_item_list))\n",
    "    \n",
    "    preprocess_promotion_df = promotion_book_df[~((promotion_book_df['name_x'].str.contains('침의 과학적 접근과 임상활용')) & \\\n",
    "                            (promotion_book_df['date_paid_week']==3))]\n",
    "    preprocess_promotion_df = preprocess_promotion_df[~((preprocess_promotion_df['name_x'].str.contains('의학심오')) & \\\n",
    "                                (preprocess_promotion_df['date_paid_week']==22))]\n",
    "    preprocess_promotion_df = preprocess_promotion_df[~((preprocess_promotion_df['name_x'].str.contains('의학심오')) & \\\n",
    "                                (preprocess_promotion_df['date_paid_week']==23))]\n",
    "    preprocess_promotion_df = preprocess_promotion_df[~((preprocess_promotion_df['name_x'].str.contains('약처방의 정석')) & \\\n",
    "                                (preprocess_promotion_df['date_paid_week']==28))]\n",
    "    preprocess_promotion_df = preprocess_promotion_df[~((preprocess_promotion_df['name_x'].str.contains('초음파 유도하 침')) & \\\n",
    "                                (preprocess_promotion_df['date_paid_week']==34))]\n",
    "    preprocess_promotion_df = preprocess_promotion_df[~((preprocess_promotion_df['name_x'].str.contains('초음파 유도하 침')) & \\\n",
    "                                (preprocess_promotion_df['date_paid_week']==34))]\n",
    "    preprocess_promotion_df = preprocess_promotion_df[~((preprocess_promotion_df['name_x'].str.contains('영어 진료 가이드북')) & \\\n",
    "                                (preprocess_promotion_df['date_paid_week']==35))]\n",
    "    preprocess_promotion_df = preprocess_promotion_df[~((preprocess_promotion_df['name_x'].str.contains('영어 진료 가이드북')) & \\\n",
    "                                (preprocess_promotion_df['date_paid_week']==36))]\n",
    "    all_promotion_df = preprocess_promotion_df[~((preprocess_promotion_df['name_x'].str.contains('의학심오')) & \\\n",
    "                                (preprocess_promotion_df['date_paid_week']==37))]\n",
    "\n",
    "    for key,value in promotion_dict.items():\n",
    "        all_promotion_df = all_promotion_df[~((all_promotion_df['name_x'].isin(value)) & (all_promotion_df['date_paid_week']==key))]\n",
    "    \n",
    "    return all_promotion_df"
   ]
  },
  {
   "cell_type": "code",
   "execution_count": 7,
   "id": "7e42cf73",
   "metadata": {},
   "outputs": [
    {
     "data": {
      "text/plain": [
       "Timestamp('2022-09-13 08:59:21.151000+0000', tz='UTC')"
      ]
     },
     "execution_count": 7,
     "metadata": {},
     "output_type": "execute_result"
    }
   ],
   "source": [
    "df['date_paid'].max()"
   ]
  },
  {
   "cell_type": "code",
   "execution_count": 8,
   "id": "912c29ad",
   "metadata": {},
   "outputs": [],
   "source": [
    "split_day_list =  []\n",
    "test_day_list = []\n",
    "\n",
    "# 1일 test 날짜 확인\n",
    "last_date_state = '2022-09-13'\n",
    "split_day = pd.to_datetime(last_date_state)-relativedelta(months=6)\n",
    "test_day = pd.to_datetime(last_date_state)\n",
    "'''\n",
    "마지막 날짜에서 개월 수를 자름 -> split_day\n",
    "months 만 바꾸면 21번 분량이 나옴\n",
    "'''\n",
    "\n",
    "for i in range(0,21):\n",
    "    sp_day = str((split_day-timedelta(days=i)).to_pydatetime().date())\n",
    "    tt_day  = str((test_day-timedelta(days=i)).to_pydatetime().date())\n",
    "    split_day_list.append(sp_day)\n",
    "    test_day_list.append(tt_day)"
   ]
  },
  {
   "cell_type": "code",
   "execution_count": 9,
   "id": "c51fdb8d",
   "metadata": {},
   "outputs": [],
   "source": [
    "class CustomEvaluator:\n",
    "    # relavence 모두 1로 동일하게 봄\n",
    "    def _idcg(self, l):\n",
    "        return sum((1.0 / np.log(i + 2) for i in range(l)))\n",
    "    \n",
    "\n",
    "    def __init__(self):\n",
    "        self._idcgs = [self._idcg(i) for i in range(1000)]\n",
    "    '''\n",
    "    idcgs 예시, item 3개 추천되므로 3.074281787960283 가 됩니다.\n",
    "    [0, 1.4426950408889634, 2.352934267515801, 3.074281787960283]\n",
    "    '''\n",
    "\n",
    "    def _ndcg(self, gt, rec):\n",
    "        dcg = 0.0\n",
    "        for i, r in enumerate(rec):\n",
    "            if r in gt:\n",
    "                dcg += 1.0 / np.log(i + 2)\n",
    "\n",
    "        return dcg / self._idcgs[len(gt)]\n",
    "    \n",
    "    def _entropy_diversity(self,rec_list):\n",
    "        import six\n",
    "        import math\n",
    "        \n",
    "        topn = len(rec_list[0]['items'])\n",
    "        users = [i.get('id',None) for i in rec_list]\n",
    "        sz = float(len(users)) * topn\n",
    "        freq = {}\n",
    "        for rec in rec_list:\n",
    "            for r in rec['items']:\n",
    "                freq[r] = freq.get(r, 0) + 1\n",
    "        ent = -sum([v / sz * math.log(v / sz) for v in six.itervalues(freq)])\n",
    "        return ent\n",
    "\n",
    "    def _eval(self, gt_list, rec_list):\n",
    "        gt_dict = {g[\"id\"]: g for g in gt_list}\n",
    "        ndcg_score = 0.0\n",
    "\n",
    "        for rec in rec_list:\n",
    "            gt = gt_dict[rec[\"id\"]]\n",
    "            ndcg_score += self._ndcg(gt[\"items\"], rec[\"items\"])\n",
    "\n",
    "\n",
    "        ndcg_score = ndcg_score / len(rec_list)\n",
    "        ent = self._entropy_diversity(rec_list)\n",
    "        \n",
    "        return ndcg_score, ent\n",
    "\n",
    "    def evaluate(self, gt_list, rec_list):\n",
    "        try:\n",
    "            ndcg_score, ent_score = self._eval(gt_list, rec_list)\n",
    "            print(f\"NDCG: {ndcg_score:.6}\")\n",
    "            print(f\"Entropy Diversity: {ent_score:.6} \")\n",
    "        except Exception as e:\n",
    "            print(e)\n"
   ]
  },
  {
   "cell_type": "code",
   "execution_count": 10,
   "id": "53019274",
   "metadata": {},
   "outputs": [],
   "source": [
    "def module(df:pd.DataFrame(), split_date, test_date, all_df)->pd.DataFrame():\n",
    "    \n",
    "    # paid orders만 가져오기\n",
    "    df['date_paid'] = pd.to_datetime(df['date_paid'])\n",
    "    df_only_paid = df[~df['date_paid'].isna()]\n",
    "    # 6개월치 데이터만 가져오기\n",
    "    df_date = df_only_paid[df_only_paid['date_paid'] >= split_date]\n",
    "    # 취소 안된 것만 가져오기\n",
    "    complete_df = df_date[(df_date['paid'] == True) & (df_date['cancelled']==False)]\n",
    "    # 도서 카테고리만 가져오기\n",
    "    only_book = complete_df[complete_df['name'] == '도서']\n",
    "\n",
    "    # 유저가 중복으로 아이템 구매 삭제\n",
    "    df_duplicated_book = only_book.drop_duplicates(subset=['customer_id','product_ids'])\n",
    "    df_book = df_duplicated_book.sort_values(by='date_paid').reset_index(drop=True)\n",
    "    \n",
    "    # medirecommend 만들기\n",
    "    df = df.dropna(subset=['product_ids','name_x'])\n",
    "\n",
    "    # 나오는 개월 수 적기\n",
    "    date_state = \"2022-06-13\"\n",
    "    # paid orders만 가져오기\n",
    "    df['date_paid'] = pd.to_datetime(df['date_paid'])\n",
    "    df_only_paid = df[~df['date_paid'].isna()]\n",
    "    # 취소 안된 것만 가져오기\n",
    "    complete_df = df_only_paid[(df_only_paid['paid'] == True) & (df_only_paid['cancelled']==False)]\n",
    "    # 도서 카테고리만 가져오기\n",
    "    only_book = complete_df[complete_df['name'] == '도서']\n",
    "\n",
    "    # 유저가 중복으로 아이템 구매 삭제\n",
    "    df_duplicated_book = only_book.drop_duplicates(subset=['customer_id','product_ids'])\n",
    "    df_sort = df_duplicated_book.sort_values(by='date_paid').reset_index(drop=True)\n",
    "    df_sort = product_name_fill(df_sort)\n",
    "    df_sort = df_sort.drop_duplicates(subset=['customer_id','product_ids']).reset_index(drop=True)\n",
    "    \n",
    "    # 변수 처리한 기간 데이터만 가져오기\n",
    "    df_book = df_sort[df_sort['date_paid'] >= split_date].reset_index(drop=True)\n",
    "\n",
    "    # 마지막 3주 제외한 medirecommend 만들기\n",
    "    mediprediction_all_df = df_sort[df_sort['date_paid'] < '2022-08-23'].reset_index(drop=True)\n",
    "    \n",
    "    train_before = df_book[df_book['date_paid'] < test_date]\n",
    "    train = promotion_proprof(train_before)\n",
    "    test = df_book[df_book['date_paid'].dt.date == pd.to_datetime(test_date)]\n",
    "    \n",
    "    \n",
    "    # test 만 있는 item 제거\n",
    "    only_test_items = set(test.product_ids.unique())-set(train.product_ids.unique())\n",
    "    if_prepro_test = test[~test['product_ids'].isin(only_test_items)]\n",
    "    \n",
    "    \n",
    "    PdIds = train.product_ids.unique()\n",
    "\n",
    "    PdIdToIndex = {}\n",
    "    indexToPdId = {}\n",
    "\n",
    "    colIdx = 0\n",
    "\n",
    "    for PdId in PdIds:\n",
    "        PdIdToIndex[PdId] = colIdx\n",
    "        indexToPdId[colIdx] = PdId\n",
    "        colIdx += 1\n",
    "\n",
    "    userIds = train.customer_id.unique()\n",
    "\n",
    "    userIdToIndex = {}\n",
    "    indexToUserId = {}\n",
    "\n",
    "    rowIdx = 0\n",
    "\n",
    "    for userId in userIds:\n",
    "        userIdToIndex[userId] = rowIdx\n",
    "        indexToUserId[rowIdx] = userId\n",
    "        rowIdx += 1\n",
    "    rows = []\n",
    "    cols = []\n",
    "    vals = []\n",
    "\n",
    "    for row in train.itertuples():\n",
    "        rows.append(userIdToIndex[row.customer_id])\n",
    "        cols.append(PdIdToIndex[row.product_ids])\n",
    "        vals.append(1)\n",
    "\n",
    "    purchase_sparse = sp.csr_matrix((vals, (rows, cols)), shape=(rowIdx,colIdx))\n",
    "\n",
    "    matrix = purchase_sparse.todense()\n",
    "\n",
    "    medistream_prediction_df = mediprediction_all_df[['date_created','regular_price','sale_price','three_months','product_ids','name_x']]\n",
    "    medistream_prediction_preprop_df = medistream_prediction_df.drop_duplicates(subset=['product_ids'], ignore_index=True)\n",
    "    medistream_prediction_preprop_df['date_created'] = pd.to_datetime(medistream_prediction_preprop_df['date_created'])    \n",
    "    \n",
    "    \n",
    "    most_popular = mediprediction_all_df.groupby(['product_ids']).count()['customer_id'].reset_index()\n",
    "    most_popular_list = most_popular.sort_values(by='customer_id',ascending=False).index\n",
    "\n",
    "    \n",
    "\n",
    "    # test 예측값, 이미 구매 했을 경우 제외\n",
    "    predict_popular_list = []\n",
    "    for user_id in test['customer_id'].unique():\n",
    "        train_purchase_list = list(train[train['customer_id']==user_id].product_ids)\n",
    "        predict_popular_list.append({'id':user_id ,'items':[most_popular.product_ids.loc[num] for num in most_popular_list \\\n",
    "                                                                if most_popular.product_ids.loc[num] not in train_purchase_list \\\n",
    "                                                                ]})\n",
    "\n",
    "    # 100 개만 예측하기\n",
    "    for idx, pred_list in enumerate(predict_popular_list):\n",
    "        predict_popular_list[idx]['items'] = pred_list['items'][:100]\n",
    "        \n",
    "    # real test \n",
    "    ground_trues = []\n",
    "    for user_id in test['customer_id'].unique():\n",
    "        ground_trues.append({'id': user_id,\\\n",
    "        'items':list(test[test['customer_id']==user_id].product_ids)\n",
    "        })\n",
    "\n",
    "    # MP\n",
    "    evaluator = CustomEvaluator()\n",
    "    mp = evaluator._eval(ground_trues, predict_popular_list)\n",
    "    \n",
    "    # 인기도순\n",
    "    medistream_popular_list = medistream_prediction_preprop_df.sort_values(by='three_months', ascending=False).index\n",
    "    # 최신순\n",
    "    medistream_latest_list = medistream_prediction_preprop_df.sort_values(by='date_created', ascending=False).index\n",
    "    # 오랜된 순\n",
    "    medistream_oldest_list = medistream_prediction_preprop_df.sort_values(by='date_created', ascending=True).index\n",
    "    # 높은 가격 순\n",
    "    medistream_high_price_list = medistream_prediction_preprop_df.sort_values(by='sale_price', ascending=False).index\n",
    "    # 낮은 가격 순\n",
    "    medistream_low_price_list = medistream_prediction_preprop_df.sort_values(by='sale_price', ascending=True).index\n",
    "    # 이름 순\n",
    "    medistream_name_sort_list = medistream_prediction_preprop_df.sort_values(by='name_x',ascending=True).index\n",
    "\n",
    "    def medistream_prediction_method(predict_num:int ,medi_predict_list:list)->list:\n",
    "        medistream_predict_list = []\n",
    "        for user_id in test['customer_id'].unique():\n",
    "            medistream_predict_list.append({'id':user_id ,'items':[medistream_prediction_preprop_df.product_ids.loc[num] \\\n",
    "                                                                           for num in medi_predict_list]})\n",
    "\n",
    "        # 100 개만 예측하기\n",
    "        for idx, pred_list in enumerate(medistream_predict_list):\n",
    "            medistream_predict_list[idx]['items'] = pred_list['items'][:predict_num]\n",
    "\n",
    "        return medistream_predict_list\n",
    "    \n",
    "    medistream_predict_popular_list = medistream_prediction_method(100, medistream_popular_list)\n",
    "    medistream_predict_latest_list = medistream_prediction_method(100, medistream_latest_list)\n",
    "    medistream_predict_oldest_list = medistream_prediction_method(100, medistream_oldest_list)\n",
    "    medistream_predict_high_price_list = medistream_prediction_method(100, medistream_high_price_list)\n",
    "    medistream_predict_low_price_list = medistream_prediction_method(100, medistream_low_price_list)\n",
    "    medistream_predict_name_sort_list = medistream_prediction_method(100, medistream_name_sort_list)\n",
    "    \n",
    "    def medistream_prediction(ground_trues:list, predict_list:list):\n",
    "        evaluator = CustomEvaluator()\n",
    "        ndcg, entropy = evaluator._eval(ground_trues, predict_list)\n",
    "\n",
    "        assert len(predict_list) == len(ground_trues)\n",
    "\n",
    "        cnt = 0\n",
    "        for gt, pred_list in zip(ground_trues, predict_list):\n",
    "            for pred in pred_list['items']:\n",
    "                if pred in gt['items']:\n",
    "                    cnt += 1\n",
    "        return ndcg, entropy, cnt\n",
    "    \n",
    "    medistream_predict_score = {'medistream_predict':['medi_popular','latest','oldest','high_price','low_price','name_sort'], \\\n",
    "                                'ndcg':[], 'entropy':[], 'cnt':[]}\n",
    "\n",
    "    medistream_predict_list = [medistream_predict_popular_list, medistream_predict_latest_list, medistream_predict_oldest_list,\\\n",
    "                              medistream_predict_high_price_list, medistream_predict_low_price_list, medistream_predict_name_sort_list]\n",
    "\n",
    "    for medistream_predict in medistream_predict_list:\n",
    "        ndcg, entropy, cnt = medistream_prediction(ground_trues, medistream_predict)\n",
    "        medistream_predict_score['ndcg'].append(ndcg)\n",
    "        medistream_predict_score['entropy'].append(entropy)\n",
    "        medistream_predict_score['cnt'].append(cnt)\n",
    "\n",
    "        \n",
    "######## hyper parameter\n",
    "    als_mf_hyper_parameter = {'factor':[],'regularization':[],'iteration':[],'NDCG':[],'entropy':[]}\n",
    "\n",
    "    factors = [5,10,15,20]\n",
    "    regularizations = [0.01,0.005]\n",
    "    iterations = [5,10,15,20,25,30,40,50]\n",
    "\n",
    "    for factor in factors:\n",
    "        for regularization in regularizations:\n",
    "            for iteration in iterations:\n",
    "                als_model = ALS(factors=factor, regularization=regularization, iterations = iteration, random_state=42)\n",
    "                als_model.fit(purchase_sparse, show_progress=False)\n",
    "\n",
    "                # 신규 유저인 경우 mp로 넣기\n",
    "                # 전체 도서에 대한 판매 만큼 정렬 후 넣기\n",
    "                most_popular_list = most_popular.sort_values(by='customer_id',ascending=False).index\n",
    "\n",
    "                # test 예측값, 이미 구매 했을 경우 제외\n",
    "                als_predict_list = []\n",
    "                for user_id in test['customer_id'].unique():\n",
    "                    try:\n",
    "                        result = als_model.recommend(userIdToIndex[user_id], purchase_sparse[userIdToIndex[user_id]], N=100)\n",
    "                        als_predict_list.append({'id':user_id ,'items':[indexToPdId[num] for num in result[0]]})\n",
    "                    except:\n",
    "                        train_purchase_list = list(train[train['customer_id']==user_id].product_ids)\n",
    "                        als_predict_list.append({'id':user_id ,'items':[most_popular.product_ids.loc[num] for num in most_popular_list \\\n",
    "                                                                            if most_popular.product_ids.loc[num] not in train_purchase_list \\\n",
    "                                                                            ]})\n",
    "\n",
    "                # 100 개만 예측하기\n",
    "                for idx, pred_list in enumerate(als_predict_list):\n",
    "                    als_predict_list[idx]['items'] = pred_list['items'][:100]\n",
    "\n",
    "                # ALS \n",
    "                evaluator = CustomEvaluator()\n",
    "                ndcg, entropy = evaluator._eval(ground_trues, als_predict_list)\n",
    "\n",
    "                als_mf_hyper_parameter['factor'].append(factor)\n",
    "                als_mf_hyper_parameter['regularization'].append(regularization)\n",
    "                als_mf_hyper_parameter['iteration'].append(iteration)\n",
    "                als_mf_hyper_parameter['NDCG'].append(ndcg)\n",
    "                als_mf_hyper_parameter['entropy'].append(entropy)\n",
    "                \n",
    "                \n",
    "    lmf_hyper_parameter = {'factor':[],'regularization':[],'iteration':[],'NDCG':[],'entropy':[]}\n",
    "\n",
    "    factors = [5,10,15,20]\n",
    "    regularizations = [0.01,0.005]\n",
    "    iterations = [5,10,15,20,25,30,40,50]\n",
    "\n",
    "    for factor in factors:\n",
    "        for regularization in regularizations:\n",
    "            for iteration in iterations:\n",
    "                lmf_model = LMF(factors=factor, regularization=regularization, iterations = iteration, random_state=42)\n",
    "                lmf_model.fit(purchase_sparse, show_progress=False)\n",
    "\n",
    "                # 신규 유저 mp로 넣기\n",
    "                most_popular_list = most_popular.sort_values(by='customer_id',ascending=False).index\n",
    "\n",
    "                # test 예측값\n",
    "                lmf_predict_list = []\n",
    "                for user_id in test['customer_id'].unique():\n",
    "                    try:\n",
    "                        result = lmf_model.recommend(userIdToIndex[user_id], purchase_sparse[userIdToIndex[user_id]], N=100)\n",
    "                        lmf_predict_list.append({'id':user_id ,'items':[indexToPdId[num] for num in result[0]]})\n",
    "                    except:\n",
    "                        train_purchase_list = list(train[train['customer_id']==user_id].product_ids)\n",
    "                        lmf_predict_list.append({'id':user_id ,'items':[most_popular.product_ids.loc[num] for num in most_popular_list \\\n",
    "                                                                            if most_popular.product_ids.loc[num] not in train_purchase_list \\\n",
    "                                                                            ]})\n",
    "\n",
    "                # 100 개만 예측하기\n",
    "                for idx, pred_list in enumerate(lmf_predict_list):\n",
    "                    lmf_predict_list[idx]['items'] = pred_list['items'][:100]\n",
    "\n",
    "                # LMF\n",
    "                evaluator = CustomEvaluator()\n",
    "                ndcg, entropy = evaluator._eval(ground_trues, lmf_predict_list)\n",
    "\n",
    "                lmf_hyper_parameter['factor'].append(factor)\n",
    "                lmf_hyper_parameter['regularization'].append(regularization)\n",
    "                lmf_hyper_parameter['iteration'].append(iteration)\n",
    "                lmf_hyper_parameter['NDCG'].append(ndcg)\n",
    "                lmf_hyper_parameter['entropy'].append(entropy)\n",
    "\n",
    "    all_prediction_df = {'first_day':[],'last_day':[],'train_데이터수':[],'train_유저수':[],'test_데이터수':[],\\\n",
    "        'test_유저수':[],'test_신규유저수':[],'test_신규아이템수':[],'원본_test수':[],'전처리진행test수':[],\\\n",
    "        'als_mf':[],'lmf':[],'mp':[],'medi_popular':[],'latest':[],\\\n",
    "        'oldest':[],'high_price':[],'low_price':[],'name_sort':[],\\\n",
    "         'als_mf_entropy':[],'lmf_entropy':[],'mp_entropy':[],'medi_popular_entropy':[],'latest_entropy':[],\\\n",
    "         'oldest_entropy':[],'high_price_entropy':[],'low_price_entropy':[],'name_sort_entropy':[]}\n",
    "    medistream_predict_df = pd.DataFrame(medistream_predict_score)\n",
    "\n",
    "    all_prediction_df['first_day'].append(str(datetime.date(train['date_paid'].min()))+' '+str(datetime.date(train['date_paid'].max())))\n",
    "    all_prediction_df['last_day'].append(str(datetime.date(test['date_paid'].min()))+' '+str(datetime.date(test['date_paid'].max())))\n",
    "    all_prediction_df['train_데이터수'].append(len(train))\n",
    "    all_prediction_df['train_유저수'].append(len(set(train.customer_id)))\n",
    "    all_prediction_df['test_데이터수'].append(len(test))\n",
    "    all_prediction_df['test_유저수'].append(len(set(test.customer_id)))\n",
    "    all_prediction_df['test_신규유저수'].append(len(set(test['customer_id'].unique())- set(train['customer_id'].unique())))\n",
    "    all_prediction_df['test_신규아이템수'].append(len(set(test.product_ids.unique())-set(train.product_ids.unique())))\n",
    "    all_prediction_df['원본_test수'].append(len(test))\n",
    "    all_prediction_df['전처리진행test수'].append(len(if_prepro_test))\n",
    "\n",
    "    # ndcg\n",
    "    all_prediction_df['als_mf'].append(pd.DataFrame(als_mf_hyper_parameter).sort_values(by='NDCG',ascending=False)['NDCG'].iloc[0])\n",
    "    all_prediction_df['lmf'].append(pd.DataFrame(lmf_hyper_parameter).sort_values(by='NDCG',ascending=False)['NDCG'].iloc[0])\n",
    "    all_prediction_df['mp'].append(evaluator._eval(ground_trues, predict_popular_list)[0])\n",
    "    all_prediction_df['medi_popular'].append(medistream_predict_df[medistream_predict_df['medistream_predict']=='medi_popular'].iloc[0]['ndcg'])\n",
    "    all_prediction_df['latest'].append(medistream_predict_df[medistream_predict_df['medistream_predict']=='latest'].iloc[0]['ndcg'])\n",
    "    all_prediction_df['oldest'].append(medistream_predict_df[medistream_predict_df['medistream_predict']=='oldest'].iloc[0]['ndcg'])\n",
    "    all_prediction_df['high_price'].append(medistream_predict_df[medistream_predict_df['medistream_predict']=='high_price'].iloc[0]['ndcg'])\n",
    "    all_prediction_df['low_price'].append(medistream_predict_df[medistream_predict_df['medistream_predict']=='low_price'].iloc[0]['ndcg'])\n",
    "    all_prediction_df['name_sort'].append(medistream_predict_df[medistream_predict_df['medistream_predict']=='name_sort'].iloc[0]['ndcg'])\n",
    "\n",
    "    # entropy\n",
    "    all_prediction_df['als_mf_entropy'].append(pd.DataFrame(als_mf_hyper_parameter).sort_values(by='entropy',ascending=False)['entropy'].iloc[0])\n",
    "    all_prediction_df['lmf_entropy'].append(pd.DataFrame(lmf_hyper_parameter).sort_values(by='entropy',ascending=False)['entropy'].iloc[0])\n",
    "    all_prediction_df['mp_entropy'].append(evaluator._eval(ground_trues, predict_popular_list)[1])\n",
    "    all_prediction_df['medi_popular_entropy'].append(medistream_predict_df[medistream_predict_df['medistream_predict']=='medi_popular'].iloc[0]['entropy'])\n",
    "    all_prediction_df['latest_entropy'].append(medistream_predict_df[medistream_predict_df['medistream_predict']=='latest'].iloc[0]['entropy'])\n",
    "    all_prediction_df['oldest_entropy'].append(medistream_predict_df[medistream_predict_df['medistream_predict']=='oldest'].iloc[0]['entropy'])\n",
    "    all_prediction_df['high_price_entropy'].append(medistream_predict_df[medistream_predict_df['medistream_predict']=='high_price'].iloc[0]['entropy'])\n",
    "    all_prediction_df['low_price_entropy'].append(medistream_predict_df[medistream_predict_df['medistream_predict']=='low_price'].iloc[0]['entropy'])\n",
    "    all_prediction_df['name_sort_entropy'].append(medistream_predict_df[medistream_predict_df['medistream_predict']=='name_sort'].iloc[0]['entropy'])\n",
    "\n",
    "    print('train 총 기간:',train['date_paid'].max()-train['date_paid'].min())\n",
    "    print('test 총 기간:',test['date_paid'].max()-test['date_paid'].min())\n",
    "    \n",
    "    return pd.DataFrame(all_prediction_df)"
   ]
  },
  {
   "cell_type": "code",
   "execution_count": 11,
   "id": "02d7e20c",
   "metadata": {
    "scrolled": false
   },
   "outputs": [
    {
     "name": "stderr",
     "output_type": "stream",
     "text": [
      "0it [00:00, ?it/s]<ipython-input-10-489f192e97f4>:23: SettingWithCopyWarning: \n",
      "A value is trying to be set on a copy of a slice from a DataFrame.\n",
      "Try using .loc[row_indexer,col_indexer] = value instead\n",
      "\n",
      "See the caveats in the documentation: https://pandas.pydata.org/pandas-docs/stable/user_guide/indexing.html#returning-a-view-versus-a-copy\n",
      "  df['date_paid'] = pd.to_datetime(df['date_paid'])\n",
      "<ipython-input-10-489f192e97f4>:90: SettingWithCopyWarning: \n",
      "A value is trying to be set on a copy of a slice from a DataFrame.\n",
      "Try using .loc[row_indexer,col_indexer] = value instead\n",
      "\n",
      "See the caveats in the documentation: https://pandas.pydata.org/pandas-docs/stable/user_guide/indexing.html#returning-a-view-versus-a-copy\n",
      "  medistream_prediction_preprop_df['date_created'] = pd.to_datetime(medistream_prediction_preprop_df['date_created'])\n"
     ]
    },
    {
     "data": {
      "application/vnd.jupyter.widget-view+json": {
       "model_id": "6e4448599c3a48879f7d869056aa2365",
       "version_major": 2,
       "version_minor": 0
      },
      "text/plain": [
       "  0%|          | 0/50 [00:00<?, ?it/s]"
      ]
     },
     "metadata": {},
     "output_type": "display_data"
    },
    {
     "data": {
      "application/vnd.jupyter.widget-view+json": {
       "model_id": "e2ebb2bc7b124dbb8b47ab256af67056",
       "version_major": 2,
       "version_minor": 0
      },
      "text/plain": [
       "  0%|          | 0/20 [00:00<?, ?it/s]"
      ]
     },
     "metadata": {},
     "output_type": "display_data"
    },
    {
     "name": "stderr",
     "output_type": "stream",
     "text": [
      "\r",
      "1it [02:16, 136.70s/it]"
     ]
    },
    {
     "name": "stdout",
     "output_type": "stream",
     "text": [
      "train 총 기간: 183 days 22:54:50.728000\n",
      "test 총 기간: 0 days 08:44:11.628000\n"
     ]
    },
    {
     "name": "stderr",
     "output_type": "stream",
     "text": [
      "<ipython-input-10-489f192e97f4>:23: SettingWithCopyWarning: \n",
      "A value is trying to be set on a copy of a slice from a DataFrame.\n",
      "Try using .loc[row_indexer,col_indexer] = value instead\n",
      "\n",
      "See the caveats in the documentation: https://pandas.pydata.org/pandas-docs/stable/user_guide/indexing.html#returning-a-view-versus-a-copy\n",
      "  df['date_paid'] = pd.to_datetime(df['date_paid'])\n",
      "<ipython-input-10-489f192e97f4>:90: SettingWithCopyWarning: \n",
      "A value is trying to be set on a copy of a slice from a DataFrame.\n",
      "Try using .loc[row_indexer,col_indexer] = value instead\n",
      "\n",
      "See the caveats in the documentation: https://pandas.pydata.org/pandas-docs/stable/user_guide/indexing.html#returning-a-view-versus-a-copy\n",
      "  medistream_prediction_preprop_df['date_created'] = pd.to_datetime(medistream_prediction_preprop_df['date_created'])\n"
     ]
    },
    {
     "data": {
      "application/vnd.jupyter.widget-view+json": {
       "model_id": "903d3f4e7ee248e1a61be432ccd07aa9",
       "version_major": 2,
       "version_minor": 0
      },
      "text/plain": [
       "  0%|          | 0/50 [00:00<?, ?it/s]"
      ]
     },
     "metadata": {},
     "output_type": "display_data"
    },
    {
     "data": {
      "application/vnd.jupyter.widget-view+json": {
       "model_id": "32a7ec4b9fc64c6bb39ddfa11139c033",
       "version_major": 2,
       "version_minor": 0
      },
      "text/plain": [
       "  0%|          | 0/20 [00:00<?, ?it/s]"
      ]
     },
     "metadata": {},
     "output_type": "display_data"
    },
    {
     "name": "stderr",
     "output_type": "stream",
     "text": [
      "\r",
      "3it [15:00, 329.93s/it]"
     ]
    },
    {
     "name": "stdout",
     "output_type": "stream",
     "text": [
      "train 총 기간: 183 days 21:36:50.476000\n",
      "test 총 기간: 0 days 07:14:08.106000\n"
     ]
    },
    {
     "name": "stderr",
     "output_type": "stream",
     "text": [
      "<ipython-input-10-489f192e97f4>:23: SettingWithCopyWarning: \n",
      "A value is trying to be set on a copy of a slice from a DataFrame.\n",
      "Try using .loc[row_indexer,col_indexer] = value instead\n",
      "\n",
      "See the caveats in the documentation: https://pandas.pydata.org/pandas-docs/stable/user_guide/indexing.html#returning-a-view-versus-a-copy\n",
      "  df['date_paid'] = pd.to_datetime(df['date_paid'])\n",
      "<ipython-input-10-489f192e97f4>:90: SettingWithCopyWarning: \n",
      "A value is trying to be set on a copy of a slice from a DataFrame.\n",
      "Try using .loc[row_indexer,col_indexer] = value instead\n",
      "\n",
      "See the caveats in the documentation: https://pandas.pydata.org/pandas-docs/stable/user_guide/indexing.html#returning-a-view-versus-a-copy\n",
      "  medistream_prediction_preprop_df['date_created'] = pd.to_datetime(medistream_prediction_preprop_df['date_created'])\n"
     ]
    },
    {
     "data": {
      "application/vnd.jupyter.widget-view+json": {
       "model_id": "fb80acae73bf4a618ccbf43addb81e1d",
       "version_major": 2,
       "version_minor": 0
      },
      "text/plain": [
       "  0%|          | 0/50 [00:00<?, ?it/s]"
      ]
     },
     "metadata": {},
     "output_type": "display_data"
    },
    {
     "data": {
      "application/vnd.jupyter.widget-view+json": {
       "model_id": "2171f5cf2b3746f392b137f3a71e4cea",
       "version_major": 2,
       "version_minor": 0
      },
      "text/plain": [
       "  0%|          | 0/20 [00:00<?, ?it/s]"
      ]
     },
     "metadata": {},
     "output_type": "display_data"
    },
    {
     "name": "stderr",
     "output_type": "stream",
     "text": [
      "\r",
      "4it [21:39, 357.09s/it]"
     ]
    },
    {
     "name": "stdout",
     "output_type": "stream",
     "text": [
      "train 총 기간: 183 days 08:59:03.597000\n",
      "test 총 기간: 0 days 00:01:36.172000\n"
     ]
    },
    {
     "name": "stderr",
     "output_type": "stream",
     "text": [
      "<ipython-input-10-489f192e97f4>:23: SettingWithCopyWarning: \n",
      "A value is trying to be set on a copy of a slice from a DataFrame.\n",
      "Try using .loc[row_indexer,col_indexer] = value instead\n",
      "\n",
      "See the caveats in the documentation: https://pandas.pydata.org/pandas-docs/stable/user_guide/indexing.html#returning-a-view-versus-a-copy\n",
      "  df['date_paid'] = pd.to_datetime(df['date_paid'])\n",
      "<ipython-input-10-489f192e97f4>:90: SettingWithCopyWarning: \n",
      "A value is trying to be set on a copy of a slice from a DataFrame.\n",
      "Try using .loc[row_indexer,col_indexer] = value instead\n",
      "\n",
      "See the caveats in the documentation: https://pandas.pydata.org/pandas-docs/stable/user_guide/indexing.html#returning-a-view-versus-a-copy\n",
      "  medistream_prediction_preprop_df['date_created'] = pd.to_datetime(medistream_prediction_preprop_df['date_created'])\n"
     ]
    },
    {
     "data": {
      "application/vnd.jupyter.widget-view+json": {
       "model_id": "0ea06e940e5e43ec802ef5263d4244ac",
       "version_major": 2,
       "version_minor": 0
      },
      "text/plain": [
       "  0%|          | 0/50 [00:00<?, ?it/s]"
      ]
     },
     "metadata": {},
     "output_type": "display_data"
    },
    {
     "data": {
      "application/vnd.jupyter.widget-view+json": {
       "model_id": "c9144b6c29ed4c9680f55e02bc058365",
       "version_major": 2,
       "version_minor": 0
      },
      "text/plain": [
       "  0%|          | 0/20 [00:00<?, ?it/s]"
      ]
     },
     "metadata": {},
     "output_type": "display_data"
    },
    {
     "name": "stderr",
     "output_type": "stream",
     "text": [
      "\r",
      "5it [28:16, 371.48s/it]"
     ]
    },
    {
     "name": "stdout",
     "output_type": "stream",
     "text": [
      "train 총 기간: 183 days 22:01:36.986000\n",
      "test 총 기간: 0 days 08:09:01.373000\n"
     ]
    },
    {
     "name": "stderr",
     "output_type": "stream",
     "text": [
      "<ipython-input-10-489f192e97f4>:23: SettingWithCopyWarning: \n",
      "A value is trying to be set on a copy of a slice from a DataFrame.\n",
      "Try using .loc[row_indexer,col_indexer] = value instead\n",
      "\n",
      "See the caveats in the documentation: https://pandas.pydata.org/pandas-docs/stable/user_guide/indexing.html#returning-a-view-versus-a-copy\n",
      "  df['date_paid'] = pd.to_datetime(df['date_paid'])\n",
      "<ipython-input-10-489f192e97f4>:90: SettingWithCopyWarning: \n",
      "A value is trying to be set on a copy of a slice from a DataFrame.\n",
      "Try using .loc[row_indexer,col_indexer] = value instead\n",
      "\n",
      "See the caveats in the documentation: https://pandas.pydata.org/pandas-docs/stable/user_guide/indexing.html#returning-a-view-versus-a-copy\n",
      "  medistream_prediction_preprop_df['date_created'] = pd.to_datetime(medistream_prediction_preprop_df['date_created'])\n"
     ]
    },
    {
     "data": {
      "application/vnd.jupyter.widget-view+json": {
       "model_id": "dc9b95f386d249779aae95b8090ec28d",
       "version_major": 2,
       "version_minor": 0
      },
      "text/plain": [
       "  0%|          | 0/50 [00:00<?, ?it/s]"
      ]
     },
     "metadata": {},
     "output_type": "display_data"
    },
    {
     "data": {
      "application/vnd.jupyter.widget-view+json": {
       "model_id": "718bfc6176054381a189913e475fc6c1",
       "version_major": 2,
       "version_minor": 0
      },
      "text/plain": [
       "  0%|          | 0/20 [00:00<?, ?it/s]"
      ]
     },
     "metadata": {},
     "output_type": "display_data"
    },
    {
     "name": "stderr",
     "output_type": "stream",
     "text": [
      "\r",
      "6it [36:10, 406.38s/it]"
     ]
    },
    {
     "name": "stdout",
     "output_type": "stream",
     "text": [
      "train 총 기간: 183 days 17:20:08.714000\n",
      "test 총 기간: 0 days 22:28:59.805000\n"
     ]
    },
    {
     "name": "stderr",
     "output_type": "stream",
     "text": [
      "<ipython-input-10-489f192e97f4>:23: SettingWithCopyWarning: \n",
      "A value is trying to be set on a copy of a slice from a DataFrame.\n",
      "Try using .loc[row_indexer,col_indexer] = value instead\n",
      "\n",
      "See the caveats in the documentation: https://pandas.pydata.org/pandas-docs/stable/user_guide/indexing.html#returning-a-view-versus-a-copy\n",
      "  df['date_paid'] = pd.to_datetime(df['date_paid'])\n",
      "<ipython-input-10-489f192e97f4>:90: SettingWithCopyWarning: \n",
      "A value is trying to be set on a copy of a slice from a DataFrame.\n",
      "Try using .loc[row_indexer,col_indexer] = value instead\n",
      "\n",
      "See the caveats in the documentation: https://pandas.pydata.org/pandas-docs/stable/user_guide/indexing.html#returning-a-view-versus-a-copy\n",
      "  medistream_prediction_preprop_df['date_created'] = pd.to_datetime(medistream_prediction_preprop_df['date_created'])\n"
     ]
    },
    {
     "data": {
      "application/vnd.jupyter.widget-view+json": {
       "model_id": "4f4681930a7d493192123cb6efe4e5a2",
       "version_major": 2,
       "version_minor": 0
      },
      "text/plain": [
       "  0%|          | 0/50 [00:00<?, ?it/s]"
      ]
     },
     "metadata": {},
     "output_type": "display_data"
    },
    {
     "data": {
      "application/vnd.jupyter.widget-view+json": {
       "model_id": "1df5f5235ea948a9a49dc0b9e58c7018",
       "version_major": 2,
       "version_minor": 0
      },
      "text/plain": [
       "  0%|          | 0/20 [00:00<?, ?it/s]"
      ]
     },
     "metadata": {},
     "output_type": "display_data"
    },
    {
     "name": "stderr",
     "output_type": "stream",
     "text": [
      "\r",
      "7it [40:34, 359.77s/it]"
     ]
    },
    {
     "name": "stdout",
     "output_type": "stream",
     "text": [
      "train 총 기간: 183 days 17:29:47.910000\n",
      "test 총 기간: 0 days 17:54:30.909000\n"
     ]
    },
    {
     "name": "stderr",
     "output_type": "stream",
     "text": [
      "<ipython-input-10-489f192e97f4>:23: SettingWithCopyWarning: \n",
      "A value is trying to be set on a copy of a slice from a DataFrame.\n",
      "Try using .loc[row_indexer,col_indexer] = value instead\n",
      "\n",
      "See the caveats in the documentation: https://pandas.pydata.org/pandas-docs/stable/user_guide/indexing.html#returning-a-view-versus-a-copy\n",
      "  df['date_paid'] = pd.to_datetime(df['date_paid'])\n",
      "<ipython-input-10-489f192e97f4>:90: SettingWithCopyWarning: \n",
      "A value is trying to be set on a copy of a slice from a DataFrame.\n",
      "Try using .loc[row_indexer,col_indexer] = value instead\n",
      "\n",
      "See the caveats in the documentation: https://pandas.pydata.org/pandas-docs/stable/user_guide/indexing.html#returning-a-view-versus-a-copy\n",
      "  medistream_prediction_preprop_df['date_created'] = pd.to_datetime(medistream_prediction_preprop_df['date_created'])\n"
     ]
    },
    {
     "data": {
      "application/vnd.jupyter.widget-view+json": {
       "model_id": "13aeabec1c5944ca9f1f6415532fe04f",
       "version_major": 2,
       "version_minor": 0
      },
      "text/plain": [
       "  0%|          | 0/50 [00:00<?, ?it/s]"
      ]
     },
     "metadata": {},
     "output_type": "display_data"
    },
    {
     "data": {
      "application/vnd.jupyter.widget-view+json": {
       "model_id": "d9e16be5b09a4b14b40182bec69a928f",
       "version_major": 2,
       "version_minor": 0
      },
      "text/plain": [
       "  0%|          | 0/20 [00:00<?, ?it/s]"
      ]
     },
     "metadata": {},
     "output_type": "display_data"
    },
    {
     "name": "stderr",
     "output_type": "stream",
     "text": [
      "\r",
      "8it [45:26, 338.06s/it]"
     ]
    },
    {
     "name": "stdout",
     "output_type": "stream",
     "text": [
      "train 총 기간: 183 days 10:01:10.587000\n",
      "test 총 기간: 0 days 21:52:14.628000\n"
     ]
    },
    {
     "name": "stderr",
     "output_type": "stream",
     "text": [
      "<ipython-input-10-489f192e97f4>:23: SettingWithCopyWarning: \n",
      "A value is trying to be set on a copy of a slice from a DataFrame.\n",
      "Try using .loc[row_indexer,col_indexer] = value instead\n",
      "\n",
      "See the caveats in the documentation: https://pandas.pydata.org/pandas-docs/stable/user_guide/indexing.html#returning-a-view-versus-a-copy\n",
      "  df['date_paid'] = pd.to_datetime(df['date_paid'])\n",
      "<ipython-input-10-489f192e97f4>:90: SettingWithCopyWarning: \n",
      "A value is trying to be set on a copy of a slice from a DataFrame.\n",
      "Try using .loc[row_indexer,col_indexer] = value instead\n",
      "\n",
      "See the caveats in the documentation: https://pandas.pydata.org/pandas-docs/stable/user_guide/indexing.html#returning-a-view-versus-a-copy\n",
      "  medistream_prediction_preprop_df['date_created'] = pd.to_datetime(medistream_prediction_preprop_df['date_created'])\n"
     ]
    },
    {
     "data": {
      "application/vnd.jupyter.widget-view+json": {
       "model_id": "952ab54959a94d8cae8533238ae681da",
       "version_major": 2,
       "version_minor": 0
      },
      "text/plain": [
       "  0%|          | 0/50 [00:00<?, ?it/s]"
      ]
     },
     "metadata": {},
     "output_type": "display_data"
    },
    {
     "data": {
      "application/vnd.jupyter.widget-view+json": {
       "model_id": "34880d71f17d422bb178fd5af5387c61",
       "version_major": 2,
       "version_minor": 0
      },
      "text/plain": [
       "  0%|          | 0/20 [00:00<?, ?it/s]"
      ]
     },
     "metadata": {},
     "output_type": "display_data"
    },
    {
     "name": "stderr",
     "output_type": "stream",
     "text": [
      "\r",
      "9it [49:49, 314.73s/it]"
     ]
    },
    {
     "name": "stdout",
     "output_type": "stream",
     "text": [
      "train 총 기간: 183 days 12:59:13.585000\n",
      "test 총 기간: 0 days 10:50:13.966000\n"
     ]
    },
    {
     "name": "stderr",
     "output_type": "stream",
     "text": [
      "<ipython-input-10-489f192e97f4>:23: SettingWithCopyWarning: \n",
      "A value is trying to be set on a copy of a slice from a DataFrame.\n",
      "Try using .loc[row_indexer,col_indexer] = value instead\n",
      "\n",
      "See the caveats in the documentation: https://pandas.pydata.org/pandas-docs/stable/user_guide/indexing.html#returning-a-view-versus-a-copy\n",
      "  df['date_paid'] = pd.to_datetime(df['date_paid'])\n",
      "<ipython-input-10-489f192e97f4>:90: SettingWithCopyWarning: \n",
      "A value is trying to be set on a copy of a slice from a DataFrame.\n",
      "Try using .loc[row_indexer,col_indexer] = value instead\n",
      "\n",
      "See the caveats in the documentation: https://pandas.pydata.org/pandas-docs/stable/user_guide/indexing.html#returning-a-view-versus-a-copy\n",
      "  medistream_prediction_preprop_df['date_created'] = pd.to_datetime(medistream_prediction_preprop_df['date_created'])\n"
     ]
    },
    {
     "data": {
      "application/vnd.jupyter.widget-view+json": {
       "model_id": "24a27efe9b4f4f199306d8c9654568bf",
       "version_major": 2,
       "version_minor": 0
      },
      "text/plain": [
       "  0%|          | 0/50 [00:00<?, ?it/s]"
      ]
     },
     "metadata": {},
     "output_type": "display_data"
    },
    {
     "data": {
      "application/vnd.jupyter.widget-view+json": {
       "model_id": "28ff4d13d4b549b0915ea7ad8cf34dd6",
       "version_major": 2,
       "version_minor": 0
      },
      "text/plain": [
       "  0%|          | 0/20 [00:00<?, ?it/s]"
      ]
     },
     "metadata": {},
     "output_type": "display_data"
    },
    {
     "name": "stderr",
     "output_type": "stream",
     "text": [
      "\r",
      "10it [54:15, 299.79s/it]"
     ]
    },
    {
     "name": "stdout",
     "output_type": "stream",
     "text": [
      "train 총 기간: 183 days 14:00:56.839000\n",
      "test 총 기간: 0 days 14:08:27.575000\n"
     ]
    },
    {
     "name": "stderr",
     "output_type": "stream",
     "text": [
      "<ipython-input-10-489f192e97f4>:23: SettingWithCopyWarning: \n",
      "A value is trying to be set on a copy of a slice from a DataFrame.\n",
      "Try using .loc[row_indexer,col_indexer] = value instead\n",
      "\n",
      "See the caveats in the documentation: https://pandas.pydata.org/pandas-docs/stable/user_guide/indexing.html#returning-a-view-versus-a-copy\n",
      "  df['date_paid'] = pd.to_datetime(df['date_paid'])\n",
      "<ipython-input-10-489f192e97f4>:90: SettingWithCopyWarning: \n",
      "A value is trying to be set on a copy of a slice from a DataFrame.\n",
      "Try using .loc[row_indexer,col_indexer] = value instead\n",
      "\n",
      "See the caveats in the documentation: https://pandas.pydata.org/pandas-docs/stable/user_guide/indexing.html#returning-a-view-versus-a-copy\n",
      "  medistream_prediction_preprop_df['date_created'] = pd.to_datetime(medistream_prediction_preprop_df['date_created'])\n"
     ]
    },
    {
     "data": {
      "application/vnd.jupyter.widget-view+json": {
       "model_id": "d48cbcc8f4f94389ab834e3807ba012c",
       "version_major": 2,
       "version_minor": 0
      },
      "text/plain": [
       "  0%|          | 0/50 [00:00<?, ?it/s]"
      ]
     },
     "metadata": {},
     "output_type": "display_data"
    },
    {
     "data": {
      "application/vnd.jupyter.widget-view+json": {
       "model_id": "e4e440602cbb464f90729d4302ec02ac",
       "version_major": 2,
       "version_minor": 0
      },
      "text/plain": [
       "  0%|          | 0/20 [00:00<?, ?it/s]"
      ]
     },
     "metadata": {},
     "output_type": "display_data"
    },
    {
     "name": "stderr",
     "output_type": "stream",
     "text": [
      "\r",
      "11it [58:39, 288.64s/it]"
     ]
    },
    {
     "name": "stdout",
     "output_type": "stream",
     "text": [
      "train 총 기간: 183 days 14:41:49.962000\n",
      "test 총 기간: 0 days 12:50:59.716000\n"
     ]
    },
    {
     "name": "stderr",
     "output_type": "stream",
     "text": [
      "<ipython-input-10-489f192e97f4>:23: SettingWithCopyWarning: \n",
      "A value is trying to be set on a copy of a slice from a DataFrame.\n",
      "Try using .loc[row_indexer,col_indexer] = value instead\n",
      "\n",
      "See the caveats in the documentation: https://pandas.pydata.org/pandas-docs/stable/user_guide/indexing.html#returning-a-view-versus-a-copy\n",
      "  df['date_paid'] = pd.to_datetime(df['date_paid'])\n",
      "<ipython-input-10-489f192e97f4>:90: SettingWithCopyWarning: \n",
      "A value is trying to be set on a copy of a slice from a DataFrame.\n",
      "Try using .loc[row_indexer,col_indexer] = value instead\n",
      "\n",
      "See the caveats in the documentation: https://pandas.pydata.org/pandas-docs/stable/user_guide/indexing.html#returning-a-view-versus-a-copy\n",
      "  medistream_prediction_preprop_df['date_created'] = pd.to_datetime(medistream_prediction_preprop_df['date_created'])\n"
     ]
    },
    {
     "data": {
      "application/vnd.jupyter.widget-view+json": {
       "model_id": "e6158013564c4fd895ebdb16276940f8",
       "version_major": 2,
       "version_minor": 0
      },
      "text/plain": [
       "  0%|          | 0/50 [00:00<?, ?it/s]"
      ]
     },
     "metadata": {},
     "output_type": "display_data"
    },
    {
     "data": {
      "application/vnd.jupyter.widget-view+json": {
       "model_id": "e6f280a4831a4650af3f3d672a1c7283",
       "version_major": 2,
       "version_minor": 0
      },
      "text/plain": [
       "  0%|          | 0/20 [00:00<?, ?it/s]"
      ]
     },
     "metadata": {},
     "output_type": "display_data"
    },
    {
     "name": "stderr",
     "output_type": "stream",
     "text": [
      "\r",
      "12it [1:03:00, 280.33s/it]"
     ]
    },
    {
     "name": "stdout",
     "output_type": "stream",
     "text": [
      "train 총 기간: 183 days 18:39:36.234000\n",
      "test 총 기간: 0 days 14:55:30.724000\n"
     ]
    },
    {
     "name": "stderr",
     "output_type": "stream",
     "text": [
      "<ipython-input-10-489f192e97f4>:23: SettingWithCopyWarning: \n",
      "A value is trying to be set on a copy of a slice from a DataFrame.\n",
      "Try using .loc[row_indexer,col_indexer] = value instead\n",
      "\n",
      "See the caveats in the documentation: https://pandas.pydata.org/pandas-docs/stable/user_guide/indexing.html#returning-a-view-versus-a-copy\n",
      "  df['date_paid'] = pd.to_datetime(df['date_paid'])\n",
      "<ipython-input-10-489f192e97f4>:90: SettingWithCopyWarning: \n",
      "A value is trying to be set on a copy of a slice from a DataFrame.\n",
      "Try using .loc[row_indexer,col_indexer] = value instead\n",
      "\n",
      "See the caveats in the documentation: https://pandas.pydata.org/pandas-docs/stable/user_guide/indexing.html#returning-a-view-versus-a-copy\n",
      "  medistream_prediction_preprop_df['date_created'] = pd.to_datetime(medistream_prediction_preprop_df['date_created'])\n"
     ]
    },
    {
     "data": {
      "application/vnd.jupyter.widget-view+json": {
       "model_id": "55648da94c7547af90ecdb41ae83bb97",
       "version_major": 2,
       "version_minor": 0
      },
      "text/plain": [
       "  0%|          | 0/50 [00:00<?, ?it/s]"
      ]
     },
     "metadata": {},
     "output_type": "display_data"
    },
    {
     "data": {
      "application/vnd.jupyter.widget-view+json": {
       "model_id": "5d9fd129cf6f462eac55e44a58736d82",
       "version_major": 2,
       "version_minor": 0
      },
      "text/plain": [
       "  0%|          | 0/20 [00:00<?, ?it/s]"
      ]
     },
     "metadata": {},
     "output_type": "display_data"
    },
    {
     "name": "stderr",
     "output_type": "stream",
     "text": [
      "\r",
      "13it [1:09:21, 310.89s/it]"
     ]
    },
    {
     "name": "stdout",
     "output_type": "stream",
     "text": [
      "train 총 기간: 183 days 14:14:50\n",
      "test 총 기간: 0 days 22:01:47.993000\n"
     ]
    },
    {
     "name": "stderr",
     "output_type": "stream",
     "text": [
      "<ipython-input-10-489f192e97f4>:23: SettingWithCopyWarning: \n",
      "A value is trying to be set on a copy of a slice from a DataFrame.\n",
      "Try using .loc[row_indexer,col_indexer] = value instead\n",
      "\n",
      "See the caveats in the documentation: https://pandas.pydata.org/pandas-docs/stable/user_guide/indexing.html#returning-a-view-versus-a-copy\n",
      "  df['date_paid'] = pd.to_datetime(df['date_paid'])\n",
      "<ipython-input-10-489f192e97f4>:90: SettingWithCopyWarning: \n",
      "A value is trying to be set on a copy of a slice from a DataFrame.\n",
      "Try using .loc[row_indexer,col_indexer] = value instead\n",
      "\n",
      "See the caveats in the documentation: https://pandas.pydata.org/pandas-docs/stable/user_guide/indexing.html#returning-a-view-versus-a-copy\n",
      "  medistream_prediction_preprop_df['date_created'] = pd.to_datetime(medistream_prediction_preprop_df['date_created'])\n"
     ]
    },
    {
     "data": {
      "application/vnd.jupyter.widget-view+json": {
       "model_id": "a009039451214557a2ecf8f48310235e",
       "version_major": 2,
       "version_minor": 0
      },
      "text/plain": [
       "  0%|          | 0/50 [00:00<?, ?it/s]"
      ]
     },
     "metadata": {},
     "output_type": "display_data"
    },
    {
     "data": {
      "application/vnd.jupyter.widget-view+json": {
       "model_id": "483ecd57bc6b4e6ba1c8d6c4e10bf095",
       "version_major": 2,
       "version_minor": 0
      },
      "text/plain": [
       "  0%|          | 0/20 [00:00<?, ?it/s]"
      ]
     },
     "metadata": {},
     "output_type": "display_data"
    },
    {
     "name": "stderr",
     "output_type": "stream",
     "text": [
      "\r",
      "14it [1:14:24, 308.47s/it]"
     ]
    },
    {
     "name": "stdout",
     "output_type": "stream",
     "text": [
      "train 총 기간: 183 days 16:18:05.146000\n",
      "test 총 기간: 0 days 17:13:15.067000\n"
     ]
    },
    {
     "name": "stderr",
     "output_type": "stream",
     "text": [
      "<ipython-input-10-489f192e97f4>:23: SettingWithCopyWarning: \n",
      "A value is trying to be set on a copy of a slice from a DataFrame.\n",
      "Try using .loc[row_indexer,col_indexer] = value instead\n",
      "\n",
      "See the caveats in the documentation: https://pandas.pydata.org/pandas-docs/stable/user_guide/indexing.html#returning-a-view-versus-a-copy\n",
      "  df['date_paid'] = pd.to_datetime(df['date_paid'])\n",
      "<ipython-input-10-489f192e97f4>:90: SettingWithCopyWarning: \n",
      "A value is trying to be set on a copy of a slice from a DataFrame.\n",
      "Try using .loc[row_indexer,col_indexer] = value instead\n",
      "\n",
      "See the caveats in the documentation: https://pandas.pydata.org/pandas-docs/stable/user_guide/indexing.html#returning-a-view-versus-a-copy\n",
      "  medistream_prediction_preprop_df['date_created'] = pd.to_datetime(medistream_prediction_preprop_df['date_created'])\n"
     ]
    },
    {
     "data": {
      "application/vnd.jupyter.widget-view+json": {
       "model_id": "bdffa7067d634b55b6a7b834cdb98173",
       "version_major": 2,
       "version_minor": 0
      },
      "text/plain": [
       "  0%|          | 0/50 [00:00<?, ?it/s]"
      ]
     },
     "metadata": {},
     "output_type": "display_data"
    },
    {
     "data": {
      "application/vnd.jupyter.widget-view+json": {
       "model_id": "517fedd43f4446e9876cf85c5ab3fc00",
       "version_major": 2,
       "version_minor": 0
      },
      "text/plain": [
       "  0%|          | 0/20 [00:00<?, ?it/s]"
      ]
     },
     "metadata": {},
     "output_type": "display_data"
    },
    {
     "name": "stderr",
     "output_type": "stream",
     "text": [
      "\r",
      "15it [1:20:50, 331.67s/it]"
     ]
    },
    {
     "name": "stdout",
     "output_type": "stream",
     "text": [
      "train 총 기간: 183 days 11:36:06.934000\n",
      "test 총 기간: 0 days 23:10:01.979000\n"
     ]
    },
    {
     "name": "stderr",
     "output_type": "stream",
     "text": [
      "<ipython-input-10-489f192e97f4>:23: SettingWithCopyWarning: \n",
      "A value is trying to be set on a copy of a slice from a DataFrame.\n",
      "Try using .loc[row_indexer,col_indexer] = value instead\n",
      "\n",
      "See the caveats in the documentation: https://pandas.pydata.org/pandas-docs/stable/user_guide/indexing.html#returning-a-view-versus-a-copy\n",
      "  df['date_paid'] = pd.to_datetime(df['date_paid'])\n",
      "<ipython-input-10-489f192e97f4>:90: SettingWithCopyWarning: \n",
      "A value is trying to be set on a copy of a slice from a DataFrame.\n",
      "Try using .loc[row_indexer,col_indexer] = value instead\n",
      "\n",
      "See the caveats in the documentation: https://pandas.pydata.org/pandas-docs/stable/user_guide/indexing.html#returning-a-view-versus-a-copy\n",
      "  medistream_prediction_preprop_df['date_created'] = pd.to_datetime(medistream_prediction_preprop_df['date_created'])\n"
     ]
    },
    {
     "data": {
      "application/vnd.jupyter.widget-view+json": {
       "model_id": "d703475de2214b198a7ecaeeb265c216",
       "version_major": 2,
       "version_minor": 0
      },
      "text/plain": [
       "  0%|          | 0/50 [00:00<?, ?it/s]"
      ]
     },
     "metadata": {},
     "output_type": "display_data"
    },
    {
     "data": {
      "application/vnd.jupyter.widget-view+json": {
       "model_id": "e929617a31474895a0706b207767451d",
       "version_major": 2,
       "version_minor": 0
      },
      "text/plain": [
       "  0%|          | 0/20 [00:00<?, ?it/s]"
      ]
     },
     "metadata": {},
     "output_type": "display_data"
    },
    {
     "name": "stderr",
     "output_type": "stream",
     "text": [
      "\r",
      "16it [1:25:09, 310.01s/it]"
     ]
    },
    {
     "name": "stdout",
     "output_type": "stream",
     "text": [
      "train 총 기간: 183 days 13:38:34.594000\n",
      "test 총 기간: 0 days 14:46:55.481000\n"
     ]
    },
    {
     "name": "stderr",
     "output_type": "stream",
     "text": [
      "<ipython-input-10-489f192e97f4>:23: SettingWithCopyWarning: \n",
      "A value is trying to be set on a copy of a slice from a DataFrame.\n",
      "Try using .loc[row_indexer,col_indexer] = value instead\n",
      "\n",
      "See the caveats in the documentation: https://pandas.pydata.org/pandas-docs/stable/user_guide/indexing.html#returning-a-view-versus-a-copy\n",
      "  df['date_paid'] = pd.to_datetime(df['date_paid'])\n",
      "<ipython-input-10-489f192e97f4>:90: SettingWithCopyWarning: \n",
      "A value is trying to be set on a copy of a slice from a DataFrame.\n",
      "Try using .loc[row_indexer,col_indexer] = value instead\n",
      "\n",
      "See the caveats in the documentation: https://pandas.pydata.org/pandas-docs/stable/user_guide/indexing.html#returning-a-view-versus-a-copy\n",
      "  medistream_prediction_preprop_df['date_created'] = pd.to_datetime(medistream_prediction_preprop_df['date_created'])\n"
     ]
    },
    {
     "data": {
      "application/vnd.jupyter.widget-view+json": {
       "model_id": "f4b27c0ff44a4f28a0ad30053247bd24",
       "version_major": 2,
       "version_minor": 0
      },
      "text/plain": [
       "  0%|          | 0/50 [00:00<?, ?it/s]"
      ]
     },
     "metadata": {},
     "output_type": "display_data"
    },
    {
     "data": {
      "application/vnd.jupyter.widget-view+json": {
       "model_id": "dea26b878ae343bead534f4fb7a6d801",
       "version_major": 2,
       "version_minor": 0
      },
      "text/plain": [
       "  0%|          | 0/20 [00:00<?, ?it/s]"
      ]
     },
     "metadata": {},
     "output_type": "display_data"
    },
    {
     "name": "stderr",
     "output_type": "stream",
     "text": [
      "\r",
      "17it [1:29:22, 292.63s/it]"
     ]
    },
    {
     "name": "stdout",
     "output_type": "stream",
     "text": [
      "train 총 기간: 183 days 12:58:48.631000\n",
      "test 총 기간: 0 days 15:15:03.304000\n"
     ]
    },
    {
     "name": "stderr",
     "output_type": "stream",
     "text": [
      "<ipython-input-10-489f192e97f4>:23: SettingWithCopyWarning: \n",
      "A value is trying to be set on a copy of a slice from a DataFrame.\n",
      "Try using .loc[row_indexer,col_indexer] = value instead\n",
      "\n",
      "See the caveats in the documentation: https://pandas.pydata.org/pandas-docs/stable/user_guide/indexing.html#returning-a-view-versus-a-copy\n",
      "  df['date_paid'] = pd.to_datetime(df['date_paid'])\n",
      "<ipython-input-10-489f192e97f4>:90: SettingWithCopyWarning: \n",
      "A value is trying to be set on a copy of a slice from a DataFrame.\n",
      "Try using .loc[row_indexer,col_indexer] = value instead\n",
      "\n",
      "See the caveats in the documentation: https://pandas.pydata.org/pandas-docs/stable/user_guide/indexing.html#returning-a-view-versus-a-copy\n",
      "  medistream_prediction_preprop_df['date_created'] = pd.to_datetime(medistream_prediction_preprop_df['date_created'])\n"
     ]
    },
    {
     "data": {
      "application/vnd.jupyter.widget-view+json": {
       "model_id": "0f7001f5978e4540adc215d8609a0038",
       "version_major": 2,
       "version_minor": 0
      },
      "text/plain": [
       "  0%|          | 0/50 [00:00<?, ?it/s]"
      ]
     },
     "metadata": {},
     "output_type": "display_data"
    },
    {
     "data": {
      "application/vnd.jupyter.widget-view+json": {
       "model_id": "3a973a2be4df4f4faf22c86426863f17",
       "version_major": 2,
       "version_minor": 0
      },
      "text/plain": [
       "  0%|          | 0/20 [00:00<?, ?it/s]"
      ]
     },
     "metadata": {},
     "output_type": "display_data"
    },
    {
     "name": "stderr",
     "output_type": "stream",
     "text": [
      "\r",
      "18it [1:33:41, 282.63s/it]"
     ]
    },
    {
     "name": "stdout",
     "output_type": "stream",
     "text": [
      "train 총 기간: 183 days 11:12:18.072000\n",
      "test 총 기간: 0 days 23:44:50.763000\n"
     ]
    },
    {
     "name": "stderr",
     "output_type": "stream",
     "text": [
      "<ipython-input-10-489f192e97f4>:23: SettingWithCopyWarning: \n",
      "A value is trying to be set on a copy of a slice from a DataFrame.\n",
      "Try using .loc[row_indexer,col_indexer] = value instead\n",
      "\n",
      "See the caveats in the documentation: https://pandas.pydata.org/pandas-docs/stable/user_guide/indexing.html#returning-a-view-versus-a-copy\n",
      "  df['date_paid'] = pd.to_datetime(df['date_paid'])\n",
      "<ipython-input-10-489f192e97f4>:90: SettingWithCopyWarning: \n",
      "A value is trying to be set on a copy of a slice from a DataFrame.\n",
      "Try using .loc[row_indexer,col_indexer] = value instead\n",
      "\n",
      "See the caveats in the documentation: https://pandas.pydata.org/pandas-docs/stable/user_guide/indexing.html#returning-a-view-versus-a-copy\n",
      "  medistream_prediction_preprop_df['date_created'] = pd.to_datetime(medistream_prediction_preprop_df['date_created'])\n"
     ]
    },
    {
     "data": {
      "application/vnd.jupyter.widget-view+json": {
       "model_id": "592fb7df62b245c5a23cb07b5e26e04c",
       "version_major": 2,
       "version_minor": 0
      },
      "text/plain": [
       "  0%|          | 0/50 [00:00<?, ?it/s]"
      ]
     },
     "metadata": {},
     "output_type": "display_data"
    },
    {
     "data": {
      "application/vnd.jupyter.widget-view+json": {
       "model_id": "6dff52e4a61243919ff616fc9fd2e168",
       "version_major": 2,
       "version_minor": 0
      },
      "text/plain": [
       "  0%|          | 0/20 [00:00<?, ?it/s]"
      ]
     },
     "metadata": {},
     "output_type": "display_data"
    },
    {
     "name": "stderr",
     "output_type": "stream",
     "text": [
      "\r",
      "19it [1:38:11, 278.86s/it]"
     ]
    },
    {
     "name": "stdout",
     "output_type": "stream",
     "text": [
      "train 총 기간: 183 days 22:55:35.853000\n",
      "test 총 기간: 0 days 23:18:49.452000\n"
     ]
    },
    {
     "name": "stderr",
     "output_type": "stream",
     "text": [
      "<ipython-input-10-489f192e97f4>:23: SettingWithCopyWarning: \n",
      "A value is trying to be set on a copy of a slice from a DataFrame.\n",
      "Try using .loc[row_indexer,col_indexer] = value instead\n",
      "\n",
      "See the caveats in the documentation: https://pandas.pydata.org/pandas-docs/stable/user_guide/indexing.html#returning-a-view-versus-a-copy\n",
      "  df['date_paid'] = pd.to_datetime(df['date_paid'])\n",
      "<ipython-input-10-489f192e97f4>:90: SettingWithCopyWarning: \n",
      "A value is trying to be set on a copy of a slice from a DataFrame.\n",
      "Try using .loc[row_indexer,col_indexer] = value instead\n",
      "\n",
      "See the caveats in the documentation: https://pandas.pydata.org/pandas-docs/stable/user_guide/indexing.html#returning-a-view-versus-a-copy\n",
      "  medistream_prediction_preprop_df['date_created'] = pd.to_datetime(medistream_prediction_preprop_df['date_created'])\n"
     ]
    },
    {
     "data": {
      "application/vnd.jupyter.widget-view+json": {
       "model_id": "743d775a0d414c9891271be1bc3543a9",
       "version_major": 2,
       "version_minor": 0
      },
      "text/plain": [
       "  0%|          | 0/50 [00:00<?, ?it/s]"
      ]
     },
     "metadata": {},
     "output_type": "display_data"
    },
    {
     "data": {
      "application/vnd.jupyter.widget-view+json": {
       "model_id": "ab7dd14839d441c3aef949cece41cbeb",
       "version_major": 2,
       "version_minor": 0
      },
      "text/plain": [
       "  0%|          | 0/20 [00:00<?, ?it/s]"
      ]
     },
     "metadata": {},
     "output_type": "display_data"
    },
    {
     "name": "stderr",
     "output_type": "stream",
     "text": [
      "\r",
      "20it [1:42:31, 273.16s/it]"
     ]
    },
    {
     "name": "stdout",
     "output_type": "stream",
     "text": [
      "train 총 기간: 183 days 13:14:54.546000\n",
      "test 총 기간: 0 days 23:24:35.809000\n"
     ]
    },
    {
     "name": "stderr",
     "output_type": "stream",
     "text": [
      "<ipython-input-10-489f192e97f4>:23: SettingWithCopyWarning: \n",
      "A value is trying to be set on a copy of a slice from a DataFrame.\n",
      "Try using .loc[row_indexer,col_indexer] = value instead\n",
      "\n",
      "See the caveats in the documentation: https://pandas.pydata.org/pandas-docs/stable/user_guide/indexing.html#returning-a-view-versus-a-copy\n",
      "  df['date_paid'] = pd.to_datetime(df['date_paid'])\n",
      "<ipython-input-10-489f192e97f4>:90: SettingWithCopyWarning: \n",
      "A value is trying to be set on a copy of a slice from a DataFrame.\n",
      "Try using .loc[row_indexer,col_indexer] = value instead\n",
      "\n",
      "See the caveats in the documentation: https://pandas.pydata.org/pandas-docs/stable/user_guide/indexing.html#returning-a-view-versus-a-copy\n",
      "  medistream_prediction_preprop_df['date_created'] = pd.to_datetime(medistream_prediction_preprop_df['date_created'])\n"
     ]
    },
    {
     "data": {
      "application/vnd.jupyter.widget-view+json": {
       "model_id": "f699451654b34916aa18e1da0afc1727",
       "version_major": 2,
       "version_minor": 0
      },
      "text/plain": [
       "  0%|          | 0/50 [00:00<?, ?it/s]"
      ]
     },
     "metadata": {},
     "output_type": "display_data"
    },
    {
     "data": {
      "application/vnd.jupyter.widget-view+json": {
       "model_id": "6d35b5d2055846ba8902cfe9b9aa140d",
       "version_major": 2,
       "version_minor": 0
      },
      "text/plain": [
       "  0%|          | 0/20 [00:00<?, ?it/s]"
      ]
     },
     "metadata": {},
     "output_type": "display_data"
    },
    {
     "name": "stderr",
     "output_type": "stream",
     "text": [
      "21it [1:46:57, 305.59s/it]"
     ]
    },
    {
     "name": "stdout",
     "output_type": "stream",
     "text": [
      "train 총 기간: 183 days 14:47:30.417000\n",
      "test 총 기간: 0 days 13:49:59\n"
     ]
    },
    {
     "name": "stderr",
     "output_type": "stream",
     "text": [
      "\n"
     ]
    },
    {
     "data": {
      "text/html": [
       "<div>\n",
       "<style scoped>\n",
       "    .dataframe tbody tr th:only-of-type {\n",
       "        vertical-align: middle;\n",
       "    }\n",
       "\n",
       "    .dataframe tbody tr th {\n",
       "        vertical-align: top;\n",
       "    }\n",
       "\n",
       "    .dataframe thead th {\n",
       "        text-align: right;\n",
       "    }\n",
       "</style>\n",
       "<table border=\"1\" class=\"dataframe\">\n",
       "  <thead>\n",
       "    <tr style=\"text-align: right;\">\n",
       "      <th></th>\n",
       "      <th>first_day</th>\n",
       "      <th>last_day</th>\n",
       "      <th>train_데이터수</th>\n",
       "      <th>train_유저수</th>\n",
       "      <th>test_데이터수</th>\n",
       "      <th>test_유저수</th>\n",
       "      <th>test_신규유저수</th>\n",
       "      <th>test_신규아이템수</th>\n",
       "      <th>원본_test수</th>\n",
       "      <th>전처리진행test수</th>\n",
       "      <th>als_mf</th>\n",
       "      <th>lmf</th>\n",
       "      <th>mp</th>\n",
       "      <th>medi_popular</th>\n",
       "      <th>latest</th>\n",
       "      <th>oldest</th>\n",
       "      <th>high_price</th>\n",
       "      <th>low_price</th>\n",
       "      <th>name_sort</th>\n",
       "      <th>als_mf_entropy</th>\n",
       "      <th>lmf_entropy</th>\n",
       "      <th>mp_entropy</th>\n",
       "      <th>medi_popular_entropy</th>\n",
       "      <th>latest_entropy</th>\n",
       "      <th>oldest_entropy</th>\n",
       "      <th>high_price_entropy</th>\n",
       "      <th>low_price_entropy</th>\n",
       "      <th>name_sort_entropy</th>\n",
       "    </tr>\n",
       "  </thead>\n",
       "  <tbody>\n",
       "    <tr>\n",
       "      <th>0</th>\n",
       "      <td>2022-03-13 2022-09-12</td>\n",
       "      <td>2022-09-13 2022-09-13</td>\n",
       "      <td>4081</td>\n",
       "      <td>1891</td>\n",
       "      <td>16</td>\n",
       "      <td>13</td>\n",
       "      <td>8</td>\n",
       "      <td>1</td>\n",
       "      <td>16</td>\n",
       "      <td>15</td>\n",
       "      <td>0.340729</td>\n",
       "      <td>0.358788</td>\n",
       "      <td>0.338343</td>\n",
       "      <td>0.237268</td>\n",
       "      <td>0.063234</td>\n",
       "      <td>0.100933</td>\n",
       "      <td>0.037457</td>\n",
       "      <td>0.052212</td>\n",
       "      <td>0.032969</td>\n",
       "      <td>5.113195</td>\n",
       "      <td>5.139326</td>\n",
       "      <td>4.623902</td>\n",
       "      <td>4.60517</td>\n",
       "      <td>4.60517</td>\n",
       "      <td>4.60517</td>\n",
       "      <td>4.60517</td>\n",
       "      <td>4.60517</td>\n",
       "      <td>4.60517</td>\n",
       "    </tr>\n",
       "    <tr>\n",
       "      <th>1</th>\n",
       "      <td>2022-03-12 2022-09-11</td>\n",
       "      <td>2022-09-12 2022-09-12</td>\n",
       "      <td>4090</td>\n",
       "      <td>1897</td>\n",
       "      <td>15</td>\n",
       "      <td>11</td>\n",
       "      <td>4</td>\n",
       "      <td>0</td>\n",
       "      <td>15</td>\n",
       "      <td>15</td>\n",
       "      <td>0.251471</td>\n",
       "      <td>0.323374</td>\n",
       "      <td>0.235122</td>\n",
       "      <td>0.303531</td>\n",
       "      <td>0.070774</td>\n",
       "      <td>0.133306</td>\n",
       "      <td>0.085115</td>\n",
       "      <td>0.018371</td>\n",
       "      <td>0.043540</td>\n",
       "      <td>5.246484</td>\n",
       "      <td>5.310796</td>\n",
       "      <td>4.633823</td>\n",
       "      <td>4.60517</td>\n",
       "      <td>4.60517</td>\n",
       "      <td>4.60517</td>\n",
       "      <td>4.60517</td>\n",
       "      <td>4.60517</td>\n",
       "      <td>4.60517</td>\n",
       "    </tr>\n",
       "    <tr>\n",
       "      <th>2</th>\n",
       "      <td>2022-03-11 2022-09-10</td>\n",
       "      <td>2022-09-11 2022-09-11</td>\n",
       "      <td>4122</td>\n",
       "      <td>1908</td>\n",
       "      <td>4</td>\n",
       "      <td>2</td>\n",
       "      <td>1</td>\n",
       "      <td>0</td>\n",
       "      <td>4</td>\n",
       "      <td>4</td>\n",
       "      <td>0.449431</td>\n",
       "      <td>0.452659</td>\n",
       "      <td>0.403287</td>\n",
       "      <td>0.459860</td>\n",
       "      <td>0.142857</td>\n",
       "      <td>0.000000</td>\n",
       "      <td>0.193426</td>\n",
       "      <td>0.064475</td>\n",
       "      <td>0.057606</td>\n",
       "      <td>4.937881</td>\n",
       "      <td>4.937881</td>\n",
       "      <td>4.605170</td>\n",
       "      <td>4.60517</td>\n",
       "      <td>4.60517</td>\n",
       "      <td>4.60517</td>\n",
       "      <td>4.60517</td>\n",
       "      <td>4.60517</td>\n",
       "      <td>4.60517</td>\n",
       "    </tr>\n",
       "    <tr>\n",
       "      <th>3</th>\n",
       "      <td>2022-03-10 2022-09-09</td>\n",
       "      <td>2022-09-10 2022-09-10</td>\n",
       "      <td>4144</td>\n",
       "      <td>1918</td>\n",
       "      <td>2</td>\n",
       "      <td>1</td>\n",
       "      <td>0</td>\n",
       "      <td>0</td>\n",
       "      <td>2</td>\n",
       "      <td>2</td>\n",
       "      <td>0.299869</td>\n",
       "      <td>0.722933</td>\n",
       "      <td>0.213849</td>\n",
       "      <td>0.233596</td>\n",
       "      <td>0.000000</td>\n",
       "      <td>0.200249</td>\n",
       "      <td>0.097267</td>\n",
       "      <td>0.103385</td>\n",
       "      <td>0.092089</td>\n",
       "      <td>4.605170</td>\n",
       "      <td>4.605170</td>\n",
       "      <td>4.605170</td>\n",
       "      <td>4.60517</td>\n",
       "      <td>4.60517</td>\n",
       "      <td>4.60517</td>\n",
       "      <td>4.60517</td>\n",
       "      <td>4.60517</td>\n",
       "      <td>4.60517</td>\n",
       "    </tr>\n",
       "    <tr>\n",
       "      <th>4</th>\n",
       "      <td>2022-03-09 2022-09-08</td>\n",
       "      <td>2022-09-09 2022-09-09</td>\n",
       "      <td>4147</td>\n",
       "      <td>1919</td>\n",
       "      <td>6</td>\n",
       "      <td>4</td>\n",
       "      <td>1</td>\n",
       "      <td>0</td>\n",
       "      <td>6</td>\n",
       "      <td>6</td>\n",
       "      <td>0.348592</td>\n",
       "      <td>0.338716</td>\n",
       "      <td>0.193213</td>\n",
       "      <td>0.163724</td>\n",
       "      <td>0.025846</td>\n",
       "      <td>0.210808</td>\n",
       "      <td>0.089909</td>\n",
       "      <td>0.000000</td>\n",
       "      <td>0.000000</td>\n",
       "      <td>5.230431</td>\n",
       "      <td>5.222191</td>\n",
       "      <td>4.649240</td>\n",
       "      <td>4.60517</td>\n",
       "      <td>4.60517</td>\n",
       "      <td>4.60517</td>\n",
       "      <td>4.60517</td>\n",
       "      <td>4.60517</td>\n",
       "      <td>4.60517</td>\n",
       "    </tr>\n",
       "    <tr>\n",
       "      <th>5</th>\n",
       "      <td>2022-03-08 2022-09-07</td>\n",
       "      <td>2022-09-08 2022-09-08</td>\n",
       "      <td>4148</td>\n",
       "      <td>1920</td>\n",
       "      <td>99</td>\n",
       "      <td>81</td>\n",
       "      <td>57</td>\n",
       "      <td>1</td>\n",
       "      <td>99</td>\n",
       "      <td>35</td>\n",
       "      <td>0.095162</td>\n",
       "      <td>0.108194</td>\n",
       "      <td>0.107052</td>\n",
       "      <td>0.077664</td>\n",
       "      <td>0.021982</td>\n",
       "      <td>0.036035</td>\n",
       "      <td>0.015614</td>\n",
       "      <td>0.021179</td>\n",
       "      <td>0.021081</td>\n",
       "      <td>5.142157</td>\n",
       "      <td>5.094475</td>\n",
       "      <td>4.634197</td>\n",
       "      <td>4.60517</td>\n",
       "      <td>4.60517</td>\n",
       "      <td>4.60517</td>\n",
       "      <td>4.60517</td>\n",
       "      <td>4.60517</td>\n",
       "      <td>4.60517</td>\n",
       "    </tr>\n",
       "    <tr>\n",
       "      <th>6</th>\n",
       "      <td>2022-03-07 2022-09-06</td>\n",
       "      <td>2022-09-07 2022-09-07</td>\n",
       "      <td>4167</td>\n",
       "      <td>1925</td>\n",
       "      <td>33</td>\n",
       "      <td>22</td>\n",
       "      <td>12</td>\n",
       "      <td>1</td>\n",
       "      <td>33</td>\n",
       "      <td>28</td>\n",
       "      <td>0.191554</td>\n",
       "      <td>0.182091</td>\n",
       "      <td>0.181746</td>\n",
       "      <td>0.228050</td>\n",
       "      <td>0.058293</td>\n",
       "      <td>0.102501</td>\n",
       "      <td>0.014734</td>\n",
       "      <td>0.065778</td>\n",
       "      <td>0.034292</td>\n",
       "      <td>5.228830</td>\n",
       "      <td>5.206494</td>\n",
       "      <td>4.633307</td>\n",
       "      <td>4.60517</td>\n",
       "      <td>4.60517</td>\n",
       "      <td>4.60517</td>\n",
       "      <td>4.60517</td>\n",
       "      <td>4.60517</td>\n",
       "      <td>4.60517</td>\n",
       "    </tr>\n",
       "    <tr>\n",
       "      <th>7</th>\n",
       "      <td>2022-03-06 2022-09-05</td>\n",
       "      <td>2022-09-06 2022-09-06</td>\n",
       "      <td>4163</td>\n",
       "      <td>1925</td>\n",
       "      <td>58</td>\n",
       "      <td>50</td>\n",
       "      <td>27</td>\n",
       "      <td>1</td>\n",
       "      <td>58</td>\n",
       "      <td>52</td>\n",
       "      <td>0.063868</td>\n",
       "      <td>0.083557</td>\n",
       "      <td>0.048631</td>\n",
       "      <td>0.254240</td>\n",
       "      <td>0.027591</td>\n",
       "      <td>0.126021</td>\n",
       "      <td>0.001807</td>\n",
       "      <td>0.011314</td>\n",
       "      <td>0.001842</td>\n",
       "      <td>5.272427</td>\n",
       "      <td>5.242237</td>\n",
       "      <td>4.624687</td>\n",
       "      <td>4.60517</td>\n",
       "      <td>4.60517</td>\n",
       "      <td>4.60517</td>\n",
       "      <td>4.60517</td>\n",
       "      <td>4.60517</td>\n",
       "      <td>4.60517</td>\n",
       "    </tr>\n",
       "    <tr>\n",
       "      <th>8</th>\n",
       "      <td>2022-03-05 2022-09-04</td>\n",
       "      <td>2022-09-05 2022-09-05</td>\n",
       "      <td>4148</td>\n",
       "      <td>1918</td>\n",
       "      <td>24</td>\n",
       "      <td>18</td>\n",
       "      <td>13</td>\n",
       "      <td>1</td>\n",
       "      <td>24</td>\n",
       "      <td>20</td>\n",
       "      <td>0.323426</td>\n",
       "      <td>0.313596</td>\n",
       "      <td>0.271937</td>\n",
       "      <td>0.249567</td>\n",
       "      <td>0.102507</td>\n",
       "      <td>0.069962</td>\n",
       "      <td>0.030700</td>\n",
       "      <td>0.051831</td>\n",
       "      <td>0.048461</td>\n",
       "      <td>5.094317</td>\n",
       "      <td>5.044415</td>\n",
       "      <td>4.627460</td>\n",
       "      <td>4.60517</td>\n",
       "      <td>4.60517</td>\n",
       "      <td>4.60517</td>\n",
       "      <td>4.60517</td>\n",
       "      <td>4.60517</td>\n",
       "      <td>4.60517</td>\n",
       "    </tr>\n",
       "    <tr>\n",
       "      <th>9</th>\n",
       "      <td>2022-03-04 2022-09-03</td>\n",
       "      <td>2022-09-04 2022-09-04</td>\n",
       "      <td>4157</td>\n",
       "      <td>1922</td>\n",
       "      <td>20</td>\n",
       "      <td>15</td>\n",
       "      <td>6</td>\n",
       "      <td>1</td>\n",
       "      <td>20</td>\n",
       "      <td>18</td>\n",
       "      <td>0.306478</td>\n",
       "      <td>0.364777</td>\n",
       "      <td>0.298518</td>\n",
       "      <td>0.226832</td>\n",
       "      <td>0.074468</td>\n",
       "      <td>0.163072</td>\n",
       "      <td>0.113595</td>\n",
       "      <td>0.011046</td>\n",
       "      <td>0.076531</td>\n",
       "      <td>5.341213</td>\n",
       "      <td>5.293400</td>\n",
       "      <td>4.639716</td>\n",
       "      <td>4.60517</td>\n",
       "      <td>4.60517</td>\n",
       "      <td>4.60517</td>\n",
       "      <td>4.60517</td>\n",
       "      <td>4.60517</td>\n",
       "      <td>4.60517</td>\n",
       "    </tr>\n",
       "    <tr>\n",
       "      <th>10</th>\n",
       "      <td>2022-03-03 2022-09-02</td>\n",
       "      <td>2022-09-03 2022-09-03</td>\n",
       "      <td>4174</td>\n",
       "      <td>1925</td>\n",
       "      <td>12</td>\n",
       "      <td>11</td>\n",
       "      <td>8</td>\n",
       "      <td>1</td>\n",
       "      <td>12</td>\n",
       "      <td>10</td>\n",
       "      <td>0.394397</td>\n",
       "      <td>0.441789</td>\n",
       "      <td>0.323686</td>\n",
       "      <td>0.368445</td>\n",
       "      <td>0.125056</td>\n",
       "      <td>0.054106</td>\n",
       "      <td>0.032694</td>\n",
       "      <td>0.058624</td>\n",
       "      <td>0.090909</td>\n",
       "      <td>5.070896</td>\n",
       "      <td>4.999996</td>\n",
       "      <td>4.616054</td>\n",
       "      <td>4.60517</td>\n",
       "      <td>4.60517</td>\n",
       "      <td>4.60517</td>\n",
       "      <td>4.60517</td>\n",
       "      <td>4.60517</td>\n",
       "      <td>4.60517</td>\n",
       "    </tr>\n",
       "    <tr>\n",
       "      <th>11</th>\n",
       "      <td>2022-03-02 2022-09-01</td>\n",
       "      <td>2022-09-02 2022-09-02</td>\n",
       "      <td>4161</td>\n",
       "      <td>1926</td>\n",
       "      <td>37</td>\n",
       "      <td>23</td>\n",
       "      <td>9</td>\n",
       "      <td>3</td>\n",
       "      <td>37</td>\n",
       "      <td>31</td>\n",
       "      <td>0.193036</td>\n",
       "      <td>0.215509</td>\n",
       "      <td>0.153689</td>\n",
       "      <td>0.128700</td>\n",
       "      <td>0.047144</td>\n",
       "      <td>0.085208</td>\n",
       "      <td>0.064323</td>\n",
       "      <td>0.025186</td>\n",
       "      <td>0.047845</td>\n",
       "      <td>5.373887</td>\n",
       "      <td>5.344631</td>\n",
       "      <td>4.631213</td>\n",
       "      <td>4.60517</td>\n",
       "      <td>4.60517</td>\n",
       "      <td>4.60517</td>\n",
       "      <td>4.60517</td>\n",
       "      <td>4.60517</td>\n",
       "      <td>4.60517</td>\n",
       "    </tr>\n",
       "    <tr>\n",
       "      <th>12</th>\n",
       "      <td>2022-03-01 2022-08-31</td>\n",
       "      <td>2022-09-01 2022-09-01</td>\n",
       "      <td>4144</td>\n",
       "      <td>1927</td>\n",
       "      <td>129</td>\n",
       "      <td>108</td>\n",
       "      <td>72</td>\n",
       "      <td>3</td>\n",
       "      <td>129</td>\n",
       "      <td>34</td>\n",
       "      <td>0.044510</td>\n",
       "      <td>0.047248</td>\n",
       "      <td>0.040518</td>\n",
       "      <td>0.049794</td>\n",
       "      <td>0.023181</td>\n",
       "      <td>0.008640</td>\n",
       "      <td>0.008377</td>\n",
       "      <td>0.007394</td>\n",
       "      <td>0.007454</td>\n",
       "      <td>5.160534</td>\n",
       "      <td>5.133551</td>\n",
       "      <td>4.620504</td>\n",
       "      <td>4.60517</td>\n",
       "      <td>4.60517</td>\n",
       "      <td>4.60517</td>\n",
       "      <td>4.60517</td>\n",
       "      <td>4.60517</td>\n",
       "      <td>4.60517</td>\n",
       "    </tr>\n",
       "    <tr>\n",
       "      <th>13</th>\n",
       "      <td>2022-02-28 2022-08-30</td>\n",
       "      <td>2022-08-31 2022-08-31</td>\n",
       "      <td>4147</td>\n",
       "      <td>1927</td>\n",
       "      <td>65</td>\n",
       "      <td>48</td>\n",
       "      <td>31</td>\n",
       "      <td>2</td>\n",
       "      <td>65</td>\n",
       "      <td>22</td>\n",
       "      <td>0.068683</td>\n",
       "      <td>0.079881</td>\n",
       "      <td>0.065632</td>\n",
       "      <td>0.076908</td>\n",
       "      <td>0.029441</td>\n",
       "      <td>0.022729</td>\n",
       "      <td>0.012340</td>\n",
       "      <td>0.020941</td>\n",
       "      <td>0.009341</td>\n",
       "      <td>5.183537</td>\n",
       "      <td>5.141581</td>\n",
       "      <td>4.632998</td>\n",
       "      <td>4.60517</td>\n",
       "      <td>4.60517</td>\n",
       "      <td>4.60517</td>\n",
       "      <td>4.60517</td>\n",
       "      <td>4.60517</td>\n",
       "      <td>4.60517</td>\n",
       "    </tr>\n",
       "    <tr>\n",
       "      <th>14</th>\n",
       "      <td>2022-02-27 2022-08-29</td>\n",
       "      <td>2022-08-30 2022-08-30</td>\n",
       "      <td>4144</td>\n",
       "      <td>1925</td>\n",
       "      <td>127</td>\n",
       "      <td>119</td>\n",
       "      <td>81</td>\n",
       "      <td>3</td>\n",
       "      <td>127</td>\n",
       "      <td>19</td>\n",
       "      <td>0.040762</td>\n",
       "      <td>0.045709</td>\n",
       "      <td>0.038213</td>\n",
       "      <td>0.033298</td>\n",
       "      <td>0.018731</td>\n",
       "      <td>0.004577</td>\n",
       "      <td>0.006377</td>\n",
       "      <td>0.006225</td>\n",
       "      <td>0.003380</td>\n",
       "      <td>5.146206</td>\n",
       "      <td>5.123295</td>\n",
       "      <td>4.626916</td>\n",
       "      <td>4.60517</td>\n",
       "      <td>4.60517</td>\n",
       "      <td>4.60517</td>\n",
       "      <td>4.60517</td>\n",
       "      <td>4.60517</td>\n",
       "      <td>4.60517</td>\n",
       "    </tr>\n",
       "    <tr>\n",
       "      <th>15</th>\n",
       "      <td>2022-02-26 2022-08-28</td>\n",
       "      <td>2022-08-29 2022-08-29</td>\n",
       "      <td>4147</td>\n",
       "      <td>1923</td>\n",
       "      <td>14</td>\n",
       "      <td>12</td>\n",
       "      <td>6</td>\n",
       "      <td>2</td>\n",
       "      <td>14</td>\n",
       "      <td>11</td>\n",
       "      <td>0.242663</td>\n",
       "      <td>0.296522</td>\n",
       "      <td>0.219947</td>\n",
       "      <td>0.227971</td>\n",
       "      <td>0.082297</td>\n",
       "      <td>0.070253</td>\n",
       "      <td>0.054326</td>\n",
       "      <td>0.044172</td>\n",
       "      <td>0.029956</td>\n",
       "      <td>5.298084</td>\n",
       "      <td>5.233032</td>\n",
       "      <td>4.629325</td>\n",
       "      <td>4.60517</td>\n",
       "      <td>4.60517</td>\n",
       "      <td>4.60517</td>\n",
       "      <td>4.60517</td>\n",
       "      <td>4.60517</td>\n",
       "      <td>4.60517</td>\n",
       "    </tr>\n",
       "    <tr>\n",
       "      <th>16</th>\n",
       "      <td>2022-02-25 2022-08-27</td>\n",
       "      <td>2022-08-28 2022-08-28</td>\n",
       "      <td>4160</td>\n",
       "      <td>1929</td>\n",
       "      <td>17</td>\n",
       "      <td>10</td>\n",
       "      <td>6</td>\n",
       "      <td>2</td>\n",
       "      <td>17</td>\n",
       "      <td>12</td>\n",
       "      <td>0.159515</td>\n",
       "      <td>0.267481</td>\n",
       "      <td>0.154218</td>\n",
       "      <td>0.190770</td>\n",
       "      <td>0.146412</td>\n",
       "      <td>0.079866</td>\n",
       "      <td>0.039000</td>\n",
       "      <td>0.030054</td>\n",
       "      <td>0.020820</td>\n",
       "      <td>5.146427</td>\n",
       "      <td>5.153046</td>\n",
       "      <td>4.620883</td>\n",
       "      <td>4.60517</td>\n",
       "      <td>4.60517</td>\n",
       "      <td>4.60517</td>\n",
       "      <td>4.60517</td>\n",
       "      <td>4.60517</td>\n",
       "      <td>4.60517</td>\n",
       "    </tr>\n",
       "    <tr>\n",
       "      <th>17</th>\n",
       "      <td>2022-02-24 2022-08-26</td>\n",
       "      <td>2022-08-27 2022-08-27</td>\n",
       "      <td>4184</td>\n",
       "      <td>1935</td>\n",
       "      <td>18</td>\n",
       "      <td>14</td>\n",
       "      <td>7</td>\n",
       "      <td>1</td>\n",
       "      <td>18</td>\n",
       "      <td>7</td>\n",
       "      <td>0.050913</td>\n",
       "      <td>0.044773</td>\n",
       "      <td>0.019352</td>\n",
       "      <td>0.044933</td>\n",
       "      <td>0.080644</td>\n",
       "      <td>0.030982</td>\n",
       "      <td>0.034317</td>\n",
       "      <td>0.006348</td>\n",
       "      <td>0.020439</td>\n",
       "      <td>5.299238</td>\n",
       "      <td>5.248000</td>\n",
       "      <td>4.629609</td>\n",
       "      <td>4.60517</td>\n",
       "      <td>4.60517</td>\n",
       "      <td>4.60517</td>\n",
       "      <td>4.60517</td>\n",
       "      <td>4.60517</td>\n",
       "      <td>4.60517</td>\n",
       "    </tr>\n",
       "    <tr>\n",
       "      <th>18</th>\n",
       "      <td>2022-02-23 2022-08-25</td>\n",
       "      <td>2022-08-26 2022-08-26</td>\n",
       "      <td>4199</td>\n",
       "      <td>1947</td>\n",
       "      <td>38</td>\n",
       "      <td>25</td>\n",
       "      <td>15</td>\n",
       "      <td>1</td>\n",
       "      <td>38</td>\n",
       "      <td>19</td>\n",
       "      <td>0.074276</td>\n",
       "      <td>0.083808</td>\n",
       "      <td>0.052574</td>\n",
       "      <td>0.064145</td>\n",
       "      <td>0.021943</td>\n",
       "      <td>0.038715</td>\n",
       "      <td>0.006597</td>\n",
       "      <td>0.030734</td>\n",
       "      <td>0.001360</td>\n",
       "      <td>5.190012</td>\n",
       "      <td>5.175823</td>\n",
       "      <td>4.636244</td>\n",
       "      <td>4.60517</td>\n",
       "      <td>4.60517</td>\n",
       "      <td>4.60517</td>\n",
       "      <td>4.60517</td>\n",
       "      <td>4.60517</td>\n",
       "      <td>4.60517</td>\n",
       "    </tr>\n",
       "    <tr>\n",
       "      <th>19</th>\n",
       "      <td>2022-02-22 2022-08-24</td>\n",
       "      <td>2022-08-25 2022-08-25</td>\n",
       "      <td>4221</td>\n",
       "      <td>1950</td>\n",
       "      <td>22</td>\n",
       "      <td>20</td>\n",
       "      <td>8</td>\n",
       "      <td>1</td>\n",
       "      <td>22</td>\n",
       "      <td>11</td>\n",
       "      <td>0.121493</td>\n",
       "      <td>0.151597</td>\n",
       "      <td>0.103276</td>\n",
       "      <td>0.111806</td>\n",
       "      <td>0.054056</td>\n",
       "      <td>0.033282</td>\n",
       "      <td>0.041004</td>\n",
       "      <td>0.000000</td>\n",
       "      <td>0.013828</td>\n",
       "      <td>5.314285</td>\n",
       "      <td>5.321727</td>\n",
       "      <td>4.631387</td>\n",
       "      <td>4.60517</td>\n",
       "      <td>4.60517</td>\n",
       "      <td>4.60517</td>\n",
       "      <td>4.60517</td>\n",
       "      <td>4.60517</td>\n",
       "      <td>4.60517</td>\n",
       "    </tr>\n",
       "    <tr>\n",
       "      <th>20</th>\n",
       "      <td>2022-02-21 2022-08-23</td>\n",
       "      <td>2022-08-24 2022-08-24</td>\n",
       "      <td>4279</td>\n",
       "      <td>1977</td>\n",
       "      <td>30</td>\n",
       "      <td>28</td>\n",
       "      <td>14</td>\n",
       "      <td>1</td>\n",
       "      <td>30</td>\n",
       "      <td>7</td>\n",
       "      <td>0.043655</td>\n",
       "      <td>0.067110</td>\n",
       "      <td>0.053500</td>\n",
       "      <td>0.057025</td>\n",
       "      <td>0.025437</td>\n",
       "      <td>0.003788</td>\n",
       "      <td>0.020751</td>\n",
       "      <td>0.000000</td>\n",
       "      <td>0.006150</td>\n",
       "      <td>5.297779</td>\n",
       "      <td>5.252177</td>\n",
       "      <td>4.626540</td>\n",
       "      <td>4.60517</td>\n",
       "      <td>4.60517</td>\n",
       "      <td>4.60517</td>\n",
       "      <td>4.60517</td>\n",
       "      <td>4.60517</td>\n",
       "      <td>4.60517</td>\n",
       "    </tr>\n",
       "  </tbody>\n",
       "</table>\n",
       "</div>"
      ],
      "text/plain": [
       "                first_day               last_day  train_데이터수  train_유저수  \\\n",
       "0   2022-03-13 2022-09-12  2022-09-13 2022-09-13        4081       1891   \n",
       "1   2022-03-12 2022-09-11  2022-09-12 2022-09-12        4090       1897   \n",
       "2   2022-03-11 2022-09-10  2022-09-11 2022-09-11        4122       1908   \n",
       "3   2022-03-10 2022-09-09  2022-09-10 2022-09-10        4144       1918   \n",
       "4   2022-03-09 2022-09-08  2022-09-09 2022-09-09        4147       1919   \n",
       "5   2022-03-08 2022-09-07  2022-09-08 2022-09-08        4148       1920   \n",
       "6   2022-03-07 2022-09-06  2022-09-07 2022-09-07        4167       1925   \n",
       "7   2022-03-06 2022-09-05  2022-09-06 2022-09-06        4163       1925   \n",
       "8   2022-03-05 2022-09-04  2022-09-05 2022-09-05        4148       1918   \n",
       "9   2022-03-04 2022-09-03  2022-09-04 2022-09-04        4157       1922   \n",
       "10  2022-03-03 2022-09-02  2022-09-03 2022-09-03        4174       1925   \n",
       "11  2022-03-02 2022-09-01  2022-09-02 2022-09-02        4161       1926   \n",
       "12  2022-03-01 2022-08-31  2022-09-01 2022-09-01        4144       1927   \n",
       "13  2022-02-28 2022-08-30  2022-08-31 2022-08-31        4147       1927   \n",
       "14  2022-02-27 2022-08-29  2022-08-30 2022-08-30        4144       1925   \n",
       "15  2022-02-26 2022-08-28  2022-08-29 2022-08-29        4147       1923   \n",
       "16  2022-02-25 2022-08-27  2022-08-28 2022-08-28        4160       1929   \n",
       "17  2022-02-24 2022-08-26  2022-08-27 2022-08-27        4184       1935   \n",
       "18  2022-02-23 2022-08-25  2022-08-26 2022-08-26        4199       1947   \n",
       "19  2022-02-22 2022-08-24  2022-08-25 2022-08-25        4221       1950   \n",
       "20  2022-02-21 2022-08-23  2022-08-24 2022-08-24        4279       1977   \n",
       "\n",
       "    test_데이터수  test_유저수  test_신규유저수  test_신규아이템수  원본_test수  전처리진행test수  \\\n",
       "0          16        13           8            1        16          15   \n",
       "1          15        11           4            0        15          15   \n",
       "2           4         2           1            0         4           4   \n",
       "3           2         1           0            0         2           2   \n",
       "4           6         4           1            0         6           6   \n",
       "5          99        81          57            1        99          35   \n",
       "6          33        22          12            1        33          28   \n",
       "7          58        50          27            1        58          52   \n",
       "8          24        18          13            1        24          20   \n",
       "9          20        15           6            1        20          18   \n",
       "10         12        11           8            1        12          10   \n",
       "11         37        23           9            3        37          31   \n",
       "12        129       108          72            3       129          34   \n",
       "13         65        48          31            2        65          22   \n",
       "14        127       119          81            3       127          19   \n",
       "15         14        12           6            2        14          11   \n",
       "16         17        10           6            2        17          12   \n",
       "17         18        14           7            1        18           7   \n",
       "18         38        25          15            1        38          19   \n",
       "19         22        20           8            1        22          11   \n",
       "20         30        28          14            1        30           7   \n",
       "\n",
       "      als_mf       lmf        mp  medi_popular    latest    oldest  \\\n",
       "0   0.340729  0.358788  0.338343      0.237268  0.063234  0.100933   \n",
       "1   0.251471  0.323374  0.235122      0.303531  0.070774  0.133306   \n",
       "2   0.449431  0.452659  0.403287      0.459860  0.142857  0.000000   \n",
       "3   0.299869  0.722933  0.213849      0.233596  0.000000  0.200249   \n",
       "4   0.348592  0.338716  0.193213      0.163724  0.025846  0.210808   \n",
       "5   0.095162  0.108194  0.107052      0.077664  0.021982  0.036035   \n",
       "6   0.191554  0.182091  0.181746      0.228050  0.058293  0.102501   \n",
       "7   0.063868  0.083557  0.048631      0.254240  0.027591  0.126021   \n",
       "8   0.323426  0.313596  0.271937      0.249567  0.102507  0.069962   \n",
       "9   0.306478  0.364777  0.298518      0.226832  0.074468  0.163072   \n",
       "10  0.394397  0.441789  0.323686      0.368445  0.125056  0.054106   \n",
       "11  0.193036  0.215509  0.153689      0.128700  0.047144  0.085208   \n",
       "12  0.044510  0.047248  0.040518      0.049794  0.023181  0.008640   \n",
       "13  0.068683  0.079881  0.065632      0.076908  0.029441  0.022729   \n",
       "14  0.040762  0.045709  0.038213      0.033298  0.018731  0.004577   \n",
       "15  0.242663  0.296522  0.219947      0.227971  0.082297  0.070253   \n",
       "16  0.159515  0.267481  0.154218      0.190770  0.146412  0.079866   \n",
       "17  0.050913  0.044773  0.019352      0.044933  0.080644  0.030982   \n",
       "18  0.074276  0.083808  0.052574      0.064145  0.021943  0.038715   \n",
       "19  0.121493  0.151597  0.103276      0.111806  0.054056  0.033282   \n",
       "20  0.043655  0.067110  0.053500      0.057025  0.025437  0.003788   \n",
       "\n",
       "    high_price  low_price  name_sort  als_mf_entropy  lmf_entropy  mp_entropy  \\\n",
       "0     0.037457   0.052212   0.032969        5.113195     5.139326    4.623902   \n",
       "1     0.085115   0.018371   0.043540        5.246484     5.310796    4.633823   \n",
       "2     0.193426   0.064475   0.057606        4.937881     4.937881    4.605170   \n",
       "3     0.097267   0.103385   0.092089        4.605170     4.605170    4.605170   \n",
       "4     0.089909   0.000000   0.000000        5.230431     5.222191    4.649240   \n",
       "5     0.015614   0.021179   0.021081        5.142157     5.094475    4.634197   \n",
       "6     0.014734   0.065778   0.034292        5.228830     5.206494    4.633307   \n",
       "7     0.001807   0.011314   0.001842        5.272427     5.242237    4.624687   \n",
       "8     0.030700   0.051831   0.048461        5.094317     5.044415    4.627460   \n",
       "9     0.113595   0.011046   0.076531        5.341213     5.293400    4.639716   \n",
       "10    0.032694   0.058624   0.090909        5.070896     4.999996    4.616054   \n",
       "11    0.064323   0.025186   0.047845        5.373887     5.344631    4.631213   \n",
       "12    0.008377   0.007394   0.007454        5.160534     5.133551    4.620504   \n",
       "13    0.012340   0.020941   0.009341        5.183537     5.141581    4.632998   \n",
       "14    0.006377   0.006225   0.003380        5.146206     5.123295    4.626916   \n",
       "15    0.054326   0.044172   0.029956        5.298084     5.233032    4.629325   \n",
       "16    0.039000   0.030054   0.020820        5.146427     5.153046    4.620883   \n",
       "17    0.034317   0.006348   0.020439        5.299238     5.248000    4.629609   \n",
       "18    0.006597   0.030734   0.001360        5.190012     5.175823    4.636244   \n",
       "19    0.041004   0.000000   0.013828        5.314285     5.321727    4.631387   \n",
       "20    0.020751   0.000000   0.006150        5.297779     5.252177    4.626540   \n",
       "\n",
       "    medi_popular_entropy  latest_entropy  oldest_entropy  high_price_entropy  \\\n",
       "0                4.60517         4.60517         4.60517             4.60517   \n",
       "1                4.60517         4.60517         4.60517             4.60517   \n",
       "2                4.60517         4.60517         4.60517             4.60517   \n",
       "3                4.60517         4.60517         4.60517             4.60517   \n",
       "4                4.60517         4.60517         4.60517             4.60517   \n",
       "5                4.60517         4.60517         4.60517             4.60517   \n",
       "6                4.60517         4.60517         4.60517             4.60517   \n",
       "7                4.60517         4.60517         4.60517             4.60517   \n",
       "8                4.60517         4.60517         4.60517             4.60517   \n",
       "9                4.60517         4.60517         4.60517             4.60517   \n",
       "10               4.60517         4.60517         4.60517             4.60517   \n",
       "11               4.60517         4.60517         4.60517             4.60517   \n",
       "12               4.60517         4.60517         4.60517             4.60517   \n",
       "13               4.60517         4.60517         4.60517             4.60517   \n",
       "14               4.60517         4.60517         4.60517             4.60517   \n",
       "15               4.60517         4.60517         4.60517             4.60517   \n",
       "16               4.60517         4.60517         4.60517             4.60517   \n",
       "17               4.60517         4.60517         4.60517             4.60517   \n",
       "18               4.60517         4.60517         4.60517             4.60517   \n",
       "19               4.60517         4.60517         4.60517             4.60517   \n",
       "20               4.60517         4.60517         4.60517             4.60517   \n",
       "\n",
       "    low_price_entropy  name_sort_entropy  \n",
       "0             4.60517            4.60517  \n",
       "1             4.60517            4.60517  \n",
       "2             4.60517            4.60517  \n",
       "3             4.60517            4.60517  \n",
       "4             4.60517            4.60517  \n",
       "5             4.60517            4.60517  \n",
       "6             4.60517            4.60517  \n",
       "7             4.60517            4.60517  \n",
       "8             4.60517            4.60517  \n",
       "9             4.60517            4.60517  \n",
       "10            4.60517            4.60517  \n",
       "11            4.60517            4.60517  \n",
       "12            4.60517            4.60517  \n",
       "13            4.60517            4.60517  \n",
       "14            4.60517            4.60517  \n",
       "15            4.60517            4.60517  \n",
       "16            4.60517            4.60517  \n",
       "17            4.60517            4.60517  \n",
       "18            4.60517            4.60517  \n",
       "19            4.60517            4.60517  \n",
       "20            4.60517            4.60517  "
      ]
     },
     "execution_count": 11,
     "metadata": {},
     "output_type": "execute_result"
    }
   ],
   "source": [
    "from tqdm import tqdm\n",
    "\n",
    "twenty_df_list = []\n",
    "for sp_day, tt_day in tqdm(zip(split_day_list,test_day_list)):\n",
    "    module_df = module(df, sp_day,tt_day, all_df)\n",
    "    twenty_df_list.append(module_df)\n",
    "twenty_df = pd.concat(twenty_df_list, ignore_index=True)\n",
    "twenty_df"
   ]
  },
  {
   "cell_type": "code",
   "execution_count": null,
   "id": "23c7dbc5",
   "metadata": {},
   "outputs": [],
   "source": []
  }
 ],
 "metadata": {
  "kernelspec": {
   "display_name": "Python 3",
   "language": "python",
   "name": "python3"
  },
  "language_info": {
   "codemirror_mode": {
    "name": "ipython",
    "version": 3
   },
   "file_extension": ".py",
   "mimetype": "text/x-python",
   "name": "python",
   "nbconvert_exporter": "python",
   "pygments_lexer": "ipython3",
   "version": "3.8.8"
  }
 },
 "nbformat": 4,
 "nbformat_minor": 5
}
