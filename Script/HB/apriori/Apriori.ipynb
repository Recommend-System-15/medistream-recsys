{
 "cells": [
  {
   "cell_type": "markdown",
   "id": "3c046387",
   "metadata": {},
   "source": [
    "# import libraries"
   ]
  },
  {
   "cell_type": "code",
   "execution_count": 1,
   "id": "d303a52e",
   "metadata": {
    "scrolled": true
   },
   "outputs": [],
   "source": [
    "import pandas as pd\n",
    "\n",
    "pd.set_option('display.max_rows', 300)\n",
    "pd.set_option('display.max_columns', 100)\n",
    "\n",
    "# ignore warning \n",
    "import warnings\n",
    "warnings.filterwarnings(\"ignore\")"
   ]
  },
  {
   "cell_type": "markdown",
   "id": "f343707b",
   "metadata": {},
   "source": [
    "# upload data"
   ]
  },
  {
   "cell_type": "code",
   "execution_count": 2,
   "id": "1a97bec0",
   "metadata": {},
   "outputs": [],
   "source": [
    "df1 = pd.read_json('/fastcampus-data/select_column_version_3.json')\n",
    "df = df1.copy()"
   ]
  },
  {
   "cell_type": "code",
   "execution_count": 3,
   "id": "050b327c",
   "metadata": {},
   "outputs": [],
   "source": [
    "# log data의 기간(4개월)과 동일한 기간의 데이터 사용하기 위해 start date 지정 \n",
    "start_date = \"2022-05-12\"\n",
    "\n",
    "# paid orders만 가져오기\n",
    "df['date_paid'] = pd.to_datetime(df['date_paid'])\n",
    "df_only_paid = df[~df['date_paid'].isna()]\n",
    "\n",
    "# 3개월치 데이터만 가져오기\n",
    "df_date = df_only_paid[df_only_paid['date_paid'] > start_date]\n",
    "\n",
    "# 취소 안된 것만 가져오기\n",
    "complete_df = df_date[(df_date['paid'] == True) & (df_date['cancelled']==False)]\n",
    "complete_df = complete_df.reset_index(drop=True)\n",
    "\n",
    "# 도서 카테고리만 가져오기\n",
    "df_book = complete_df[complete_df['name'] == '도서']\n",
    "df_book = df_book.sort_values(by='date_paid')\n"
   ]
  },
  {
   "cell_type": "markdown",
   "id": "85dce50e",
   "metadata": {},
   "source": [
    "# train test split\n",
    "최신성을 반영하기 위해 전체 데이터의 기간(4개월) 중 마지막 3주의 데이터를 test로 사용했다.\n",
    "\n",
    "\n",
    "4개월의 데이터를 활용하여 3주 이전의 데이터로 학습하고 마지막 3주를 예측한다. "
   ]
  },
  {
   "cell_type": "code",
   "execution_count": 4,
   "id": "58b7270f",
   "metadata": {},
   "outputs": [],
   "source": [
    "from datetime import datetime, timedelta\n",
    "\n",
    "# 마지막 3주를 test data로 사용\n",
    "date = df_book['date_paid'].max()-timedelta(weeks=3)\n",
    "train_before_preprocess = df_book[df_book['date_paid'] < date]\n",
    "test_before_preprocess = df_book[df_book['date_paid'] >= date]\n",
    "\n",
    "# train 1개 이상 구매 기록유저에 대한 학습 진행\n",
    "train_drop_row_index = train_before_preprocess['customer_id'].value_counts()[train_before_preprocess['customer_id'].value_counts()>=1].index\n",
    "train = train_before_preprocess[train_before_preprocess['customer_id'].isin(train_drop_row_index)]"
   ]
  },
  {
   "cell_type": "code",
   "execution_count": 5,
   "id": "89decb00",
   "metadata": {},
   "outputs": [],
   "source": [
    "# 전처리할 test index 확인: 2번 이상 구매한 고객만 추출\n",
    "drop_row_index = test_before_preprocess['customer_id'].value_counts()[test_before_preprocess['customer_id'].value_counts()>2].index\n",
    "\n",
    "# 최근 구매 3개 기록을 test 사용\n",
    "test_list = []\n",
    "for idx in drop_row_index:\n",
    "    test_list.append(test_before_preprocess[test_before_preprocess['customer_id']==idx].iloc[:])\n",
    "test = pd.concat(test_list)\n",
    "\n",
    "# train 있는 유저에 대해서만 진행\n",
    "test = test[test['customer_id'].isin(train['customer_id'])]"
   ]
  },
  {
   "cell_type": "code",
   "execution_count": 6,
   "id": "239549c0",
   "metadata": {},
   "outputs": [],
   "source": [
    "train.date_paid = pd.to_datetime(train.date_paid)"
   ]
  },
  {
   "cell_type": "code",
   "execution_count": 7,
   "id": "fae1a87a",
   "metadata": {},
   "outputs": [],
   "source": [
    "# date_paid에 날짜만 남기기\n",
    "train.date_paid = train.date_paid.apply(lambda x: x.date)"
   ]
  },
  {
   "cell_type": "markdown",
   "id": "d2ace354",
   "metadata": {},
   "source": [
    "# train test eda"
   ]
  },
  {
   "cell_type": "markdown",
   "id": "4aa02378",
   "metadata": {},
   "source": [
    "### 전처리 전후 비교\n",
    "test의 경우 2번 이상 구매한 유저에 대해서만 테스트 가능  \n",
    "전처리 후의 데이터 수 비교"
   ]
  },
  {
   "cell_type": "code",
   "execution_count": 8,
   "id": "fa864170",
   "metadata": {},
   "outputs": [
    {
     "name": "stdout",
     "output_type": "stream",
     "text": [
      "train 전처리 전: 5042 train 전처리 후: 5042\n"
     ]
    }
   ],
   "source": [
    "print('train 전처리 전:',len(train_before_preprocess), 'train 전처리 후:',len(train))"
   ]
  },
  {
   "cell_type": "code",
   "execution_count": 9,
   "id": "a23c8040",
   "metadata": {},
   "outputs": [
    {
     "name": "stdout",
     "output_type": "stream",
     "text": [
      "test 전처리 전: 889 test 전처리 후: 116\n"
     ]
    }
   ],
   "source": [
    "print('test 전처리 전:',len(test_before_preprocess), 'test 전처리 후:',len(test))"
   ]
  },
  {
   "cell_type": "markdown",
   "id": "d2b934f1",
   "metadata": {},
   "source": [
    "### user 수 비교"
   ]
  },
  {
   "cell_type": "code",
   "execution_count": 10,
   "id": "591089bc",
   "metadata": {},
   "outputs": [
    {
     "name": "stdout",
     "output_type": "stream",
     "text": [
      "train 유저 수: 2323\n"
     ]
    }
   ],
   "source": [
    "print('train 유저 수:',len(train.customer_id.unique()))"
   ]
  },
  {
   "cell_type": "code",
   "execution_count": 11,
   "id": "92ee7230",
   "metadata": {},
   "outputs": [
    {
     "name": "stdout",
     "output_type": "stream",
     "text": [
      "test 유저 수: 29\n"
     ]
    }
   ],
   "source": [
    "print('test 유저 수:',len(test.customer_id.unique()))"
   ]
  },
  {
   "cell_type": "markdown",
   "id": "afed050f",
   "metadata": {},
   "source": [
    "### item 개수 비교"
   ]
  },
  {
   "cell_type": "code",
   "execution_count": 12,
   "id": "a54f5fe0",
   "metadata": {},
   "outputs": [
    {
     "name": "stdout",
     "output_type": "stream",
     "text": [
      "train 아이템 수 : 243 test 아이템 수 : 67\n"
     ]
    }
   ],
   "source": [
    "print('train 아이템 수 :',len(set(train.product_ids)), 'test 아이템 수 :',len(set(test.product_ids)))"
   ]
  },
  {
   "cell_type": "code",
   "execution_count": 13,
   "id": "ebb53aa7",
   "metadata": {},
   "outputs": [
    {
     "name": "stdout",
     "output_type": "stream",
     "text": [
      "train 만 있는 아이템 수: 180\n"
     ]
    }
   ],
   "source": [
    "print('train 만 있는 아이템 수:',  len(set(train.product_ids)-set(test.product_ids)))"
   ]
  },
  {
   "cell_type": "code",
   "execution_count": 14,
   "id": "b6ba9aa4",
   "metadata": {},
   "outputs": [
    {
     "name": "stdout",
     "output_type": "stream",
     "text": [
      "test 만 있는 아이템 수: 4\n"
     ]
    }
   ],
   "source": [
    "print('test 만 있는 아이템 수:', len(set(test.product_ids) - set(train.product_ids)))"
   ]
  },
  {
   "cell_type": "code",
   "execution_count": null,
   "id": "91a8cf8a",
   "metadata": {
    "scrolled": false
   },
   "outputs": [
    {
     "name": "stdout",
     "output_type": "stream",
     "text": [
      "(5042, 16)\n",
      "(116, 16)\n"
     ]
    }
   ],
   "source": [
    "print(train.shape)\n",
    "print(test.shape)"
   ]
  },
  {
   "cell_type": "markdown",
   "id": "8e6dc789",
   "metadata": {},
   "source": [
    "# Load Transactions"
   ]
  },
  {
   "cell_type": "code",
   "execution_count": null,
   "id": "51417679",
   "metadata": {},
   "outputs": [],
   "source": [
    "train = train[['date_paid','customer_id','name_x','product_ids']]\n",
    "print('Train shape:',train.shape)"
   ]
  },
  {
   "cell_type": "code",
   "execution_count": null,
   "id": "a8f289d0",
   "metadata": {
    "scrolled": false
   },
   "outputs": [],
   "source": [
    "# 한 유저당 구매한 제품들의 unique -> 중복을 없앰.\n",
    "train_apri = train.groupby('customer_id')['name_x'].unique().reset_index()\n",
    "train_apri[:30]"
   ]
  },
  {
   "cell_type": "code",
   "execution_count": null,
   "id": "e52eb46b",
   "metadata": {},
   "outputs": [],
   "source": [
    "from mlxtend.preprocessing import TransactionEncoder"
   ]
  },
  {
   "cell_type": "code",
   "execution_count": null,
   "id": "353ce763",
   "metadata": {
    "scrolled": false
   },
   "outputs": [],
   "source": [
    "pd.set_option('display.max_colwidth', -1)\n",
    "transactions = [a[1]['name_x'].tolist() for a in list(train.groupby(['customer_id','date_paid']))]"
   ]
  },
  {
   "cell_type": "code",
   "execution_count": null,
   "id": "75918f82",
   "metadata": {},
   "outputs": [],
   "source": [
    "te = TransactionEncoder()\n",
    "te_ary = te.fit(transactions).transform(transactions)"
   ]
  },
  {
   "cell_type": "markdown",
   "id": "22e6fd4b",
   "metadata": {},
   "source": [
    "# Convert product list per customer_id into one-hot"
   ]
  },
  {
   "cell_type": "code",
   "execution_count": null,
   "id": "e793ce84",
   "metadata": {},
   "outputs": [],
   "source": [
    "orders_1hot = pd.DataFrame(te_ary, columns=te.columns_)\n",
    "pf = orders_1hot.describe()"
   ]
  },
  {
   "cell_type": "markdown",
   "id": "f7e88007",
   "metadata": {},
   "source": [
    "describe를 이용하여 most popular item 확인"
   ]
  },
  {
   "cell_type": "code",
   "execution_count": null,
   "id": "d8a25b46",
   "metadata": {
    "scrolled": false
   },
   "outputs": [],
   "source": [
    "f = pf.iloc[0]-pf.iloc[3] # count - frequent : f가 작을 수록 판매된 횟수가 많은 것\n",
    "a = f.tolist()\n",
    "b = list(f.index)\n",
    "item = pd.DataFrame([[a[r],b[r]]for r in range(len(a))], columns=['Count','Item'])\n",
    "item = item.sort_values(['Count'], ascending=False).head(10)\n",
    "print(\"MOST POPULAR\")\n",
    "item"
   ]
  },
  {
   "cell_type": "markdown",
   "id": "4cdf6d5d",
   "metadata": {},
   "source": [
    "# Apriori"
   ]
  },
  {
   "cell_type": "code",
   "execution_count": null,
   "id": "8b7731c9",
   "metadata": {},
   "outputs": [],
   "source": [
    "from mlxtend.frequent_patterns import apriori"
   ]
  },
  {
   "cell_type": "code",
   "execution_count": null,
   "id": "b236b767",
   "metadata": {},
   "outputs": [],
   "source": [
    "is_ap = apriori(orders_1hot, min_support=0.01, max_len=3, use_colnames=True)\n",
    "is_ap.sort_values(by = ['support'], ascending = False)"
   ]
  },
  {
   "cell_type": "markdown",
   "id": "ed9f9f60",
   "metadata": {},
   "source": [
    "# Association Rules\n",
    "confidence로 threshold를 설정하여 filtering한 다음 lift값을 기준으로 sorting한다."
   ]
  },
  {
   "cell_type": "code",
   "execution_count": null,
   "id": "ca29ddae",
   "metadata": {},
   "outputs": [],
   "source": [
    "from mlxtend.frequent_patterns import association_rules\n",
    "\n",
    "# matrix의 default가 confidence로 되어있어 따로 지정해주지 않아도 됨.\n",
    "rules_confidence_item = association_rules(is_ap, min_threshold=0.04)\n",
    "\n",
    "#lift 기준으로 sort\n",
    "rules_confidence_item = rules_confidence_item.sort_values(['lift'], ascending = False)\n",
    "display(rules_confidence_item)"
   ]
  },
  {
   "cell_type": "markdown",
   "id": "008fa710",
   "metadata": {},
   "source": [
    "### 결론: confidence가 높은 association rule의 개수가 적다.\n",
    "-> 연관성 추천이 불가능하다."
   ]
  },
  {
   "cell_type": "markdown",
   "id": "a261b6f2",
   "metadata": {},
   "source": [
    "# 예측값이 실제 구매내역에 있는지 확인\n",
    "association rule의 antecedents와 consequents에 해당하는 item을 이용하여 연관 추천"
   ]
  },
  {
   "cell_type": "code",
   "execution_count": null,
   "id": "78d80a30",
   "metadata": {
    "scrolled": true
   },
   "outputs": [],
   "source": [
    "apriori_items = rules_confidence_item[['antecedents','consequents']].iloc[:15]\n",
    "\n",
    "apriori_items['antecedents'] = apriori_items['antecedents'].apply(lambda x: list(map(str,x))[0])\n",
    "apriori_items['consequents'] = apriori_items['consequents'].apply(lambda x: list(map(str,x))[0])\n",
    "\n",
    "apriori_items.rename(columns={\"antecedents\": \"A\", \"consequents\": \"A의 연관 아이템 (B)\"})"
   ]
  },
  {
   "cell_type": "code",
   "execution_count": null,
   "id": "a755e3e2",
   "metadata": {},
   "outputs": [],
   "source": [
    "train_items = train[['date_paid','customer_id','name_x','product_ids']]\n",
    "\n",
    "# 예측값을 담을 column\n",
    "train_items['apriori_pred'] = train_items['name_x'].apply(lambda x: apriori_items[apriori_items['antecedents']==x]['consequents'].values[0] if x in list(apriori_items['antecedents']) \\\n",
    "                            else None)"
   ]
  },
  {
   "cell_type": "code",
   "execution_count": null,
   "id": "9be462a4",
   "metadata": {
    "scrolled": true
   },
   "outputs": [],
   "source": [
    "name_x_df = train_items.groupby('customer_id')['name_x'].unique().reset_index()\n",
    "apriori_pred_df  = train_items.groupby('customer_id')['apriori_pred'].unique().reset_index()\n",
    "real_pred = test.groupby('customer_id')['name_x'].unique().reset_index().rename(columns={'name_x':'real_product'})\n",
    "\n",
    "train_pred = pd.merge(name_x_df,apriori_pred_df, on='customer_id', how='left')\n",
    "train_real_pred = pd.merge(train_pred,real_pred, on='customer_id', how='right')\n",
    "\n",
    "train_real_pred[['name_x','apriori_pred','real_product']]"
   ]
  },
  {
   "cell_type": "code",
   "execution_count": null,
   "id": "5f642fde",
   "metadata": {
    "scrolled": true
   },
   "outputs": [],
   "source": [
    "# 아이템 맞춘 개수\n",
    "cnt = 0\n",
    "for preds, reals in zip(train_real_pred['apriori_pred'], train_real_pred['real_product']):\n",
    "    for pred in preds:\n",
    "        if pred in reals:\n",
    "            cnt += 1\n",
    "print('예측 성공한 아이템 개수: ',cnt)"
   ]
  }
 ],
 "metadata": {
  "kernelspec": {
   "display_name": "Python 3",
   "language": "python",
   "name": "python3"
  },
  "language_info": {
   "codemirror_mode": {
    "name": "ipython",
    "version": 3
   },
   "file_extension": ".py",
   "mimetype": "text/x-python",
   "name": "python",
   "nbconvert_exporter": "python",
   "pygments_lexer": "ipython3",
   "version": "3.8.8"
  }
 },
 "nbformat": 4,
 "nbformat_minor": 5
}
