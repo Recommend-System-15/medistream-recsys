{
 "cells": [
  {
   "cell_type": "code",
   "execution_count": 1,
   "id": "2a41609a",
   "metadata": {},
   "outputs": [],
   "source": [
    "import pandas as pd\n",
    "import numpy as np\n",
    "from tqdm import tqdm\n",
    "\n",
    "pd.set_option('display.max_rows', 400)\n",
    "pd.set_option('display.max_columns', 100)\n",
    "\n",
    "import warnings\n",
    "warnings.filterwarnings(\"ignore\")"
   ]
  },
  {
   "cell_type": "code",
   "execution_count": 2,
   "id": "dc0427de",
   "metadata": {
    "scrolled": true
   },
   "outputs": [
    {
     "name": "stderr",
     "output_type": "stream",
     "text": [
      "4it [00:33,  8.38s/it]\n"
     ]
    }
   ],
   "source": [
    "# 용량이 클 경우 chunk 사용 방법\n",
    "\n",
    "filename = '/fastcampus-data/log-data/csv_seg_all.csv'\n",
    "chunksize = 10 ** 6\n",
    "\n",
    "df_list = []\n",
    "with pd.read_csv(filename, chunksize=chunksize) as reader:\n",
    "    for chunk in tqdm(reader):\n",
    "        df_list.append(chunk)\n",
    "    df = pd.concat(df_list)\n",
    "\n",
    "df = df.reset_index( drop=True ) "
   ]
  },
  {
   "cell_type": "code",
   "execution_count": 3,
   "id": "111e57ac",
   "metadata": {},
   "outputs": [],
   "source": [
    "df = df[['userid', 'traits_customerid', 'name', 'context_page_path', 'context_page_search', 'context_page_search_keyword', 'context_page_url', 'ymd', 'properties_url', 'type']]"
   ]
  },
  {
   "cell_type": "markdown",
   "id": "5974f164",
   "metadata": {},
   "source": [
    "# preprocessing"
   ]
  },
  {
   "cell_type": "code",
   "execution_count": 4,
   "id": "a708daae",
   "metadata": {
    "scrolled": true
   },
   "outputs": [],
   "source": [
    "# split으로 마지막 path만 남기기\n",
    "df['context_page_path'] = df['context_page_path'].apply(lambda x: x.split('/')[-1])"
   ]
  },
  {
   "cell_type": "code",
   "execution_count": null,
   "id": "6e9fb27b",
   "metadata": {},
   "outputs": [],
   "source": [
    "# 모든 공백 제거하기\n",
    "df['context_page_path'] = df['context_page_path'].apply(lambda x: x.replace(\" \" , \"\"))"
   ]
  },
  {
   "cell_type": "code",
   "execution_count": null,
   "id": "2be4e314",
   "metadata": {},
   "outputs": [],
   "source": [
    "# 22700%C2%A0 같은 값 떄문에 특수문자 제거\n",
    "import re\n",
    "df['context_page_path'] = df['context_page_path'].apply(lambda x: re.sub(\"[\\{\\}\\[\\]\\/?.,;:|\\)*~`!^\\-_+<>@\\#$%&\\\\\\=\\(\\'\\\"]\", \" \", x))"
   ]
  },
  {
   "cell_type": "code",
   "execution_count": null,
   "id": "46a89cc2",
   "metadata": {
    "scrolled": true
   },
   "outputs": [],
   "source": [
    "# path가 모두 숫자이면 int type으로 바꿔주기\n",
    "df['context_page_path'] = df['context_page_path'].apply(lambda x: int(x) if x[:].isdigit() == True else str(x)  )"
   ]
  },
  {
   "cell_type": "code",
   "execution_count": null,
   "id": "c8711f5f",
   "metadata": {
    "scrolled": true
   },
   "outputs": [],
   "source": [
    "k = []\n",
    "for i in df['context_page_path']:\n",
    "    if type(i) == str:\n",
    "        k.append(i)\n",
    "print(len(list(set(k)))) # 공백 없애기 전 62개\n",
    "print(list(set(k)))"
   ]
  },
  {
   "cell_type": "markdown",
   "id": "db6b4653",
   "metadata": {},
   "source": [
    "# EDA"
   ]
  },
  {
   "cell_type": "code",
   "execution_count": null,
   "id": "c33a4d9f",
   "metadata": {},
   "outputs": [],
   "source": [
    "print(df.userid.nunique())\n",
    "# traits_customerid가 있는 userid nunique\n",
    "df[df['traits_customerid'].notna()].userid.nunique()  # traits_customerid 모두 유니크함."
   ]
  },
  {
   "cell_type": "code",
   "execution_count": null,
   "id": "d64ac38a",
   "metadata": {
    "scrolled": true
   },
   "outputs": [],
   "source": [
    "df[df['traits_customerid'].notna()].traits_customerid.nunique()"
   ]
  },
  {
   "cell_type": "markdown",
   "id": "f99c6f45",
   "metadata": {},
   "source": [
    "# groupby by userid"
   ]
  },
  {
   "cell_type": "code",
   "execution_count": null,
   "id": "fe8d58de",
   "metadata": {},
   "outputs": [],
   "source": [
    "path_group = df.groupby('userid')['context_page_path'].unique().reset_index()"
   ]
  },
  {
   "cell_type": "code",
   "execution_count": null,
   "id": "dd18d840",
   "metadata": {},
   "outputs": [],
   "source": [
    "path_group_set = path_group.context_page_path.apply(lambda x: list(set(x)))"
   ]
  },
  {
   "cell_type": "code",
   "execution_count": null,
   "id": "bdcdaa35",
   "metadata": {},
   "outputs": [],
   "source": [
    "path_group['context_page_path'].value_counts()"
   ]
  },
  {
   "cell_type": "code",
   "execution_count": null,
   "id": "f8207684",
   "metadata": {},
   "outputs": [],
   "source": [
    "path_group_set"
   ]
  },
  {
   "cell_type": "code",
   "execution_count": null,
   "id": "7ad1c67c",
   "metadata": {},
   "outputs": [],
   "source": []
  }
 ],
 "metadata": {
  "kernelspec": {
   "display_name": "Python 3",
   "language": "python",
   "name": "python3"
  },
  "language_info": {
   "codemirror_mode": {
    "name": "ipython",
    "version": 3
   },
   "file_extension": ".py",
   "mimetype": "text/x-python",
   "name": "python",
   "nbconvert_exporter": "python",
   "pygments_lexer": "ipython3",
   "version": "3.8.8"
  }
 },
 "nbformat": 4,
 "nbformat_minor": 5
}
