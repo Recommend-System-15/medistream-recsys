{
 "cells": [
  {
   "cell_type": "code",
   "execution_count": 1,
   "id": "4dee40dc",
   "metadata": {
    "scrolled": false
   },
   "outputs": [
    {
     "name": "stderr",
     "output_type": "stream",
     "text": [
      "/home/user_3/anaconda3/lib/python3.8/site-packages/scipy/__init__.py:138: UserWarning: A NumPy version >=1.16.5 and <1.23.0 is required for this version of SciPy (detected version 1.23.1)\n",
      "  warnings.warn(f\"A NumPy version >={np_minversion} and <{np_maxversion} is required for this version of \"\n"
     ]
    },
    {
     "name": "stdout",
     "output_type": "stream",
     "text": [
      "/home/user_3/medistream-recsys/Script\n"
     ]
    }
   ],
   "source": [
    "import pandas as pd\n",
    "import numpy as np\n",
    "import matplotlib.pyplot as plt\n",
    "import seaborn as sns\n",
    "from tqdm import tqdm\n",
    "%cd /home/user_3/medistream-recsys/Script\n",
    "from preprocessing import drop_columns,dict_to_column,dict_to_set,set_to_column,key_to_element\n",
    "pd.set_option('display.max_rows', 100)\n",
    "pd.set_option('display.max_columns', 100)"
   ]
  },
  {
   "cell_type": "code",
   "execution_count": 2,
   "id": "89cbccaf",
   "metadata": {},
   "outputs": [],
   "source": [
    "df = pd.read_json('/fastcampus-data/log-data/log_sampling.json')"
   ]
  },
  {
   "cell_type": "code",
   "execution_count": 3,
   "id": "cd938904",
   "metadata": {},
   "outputs": [
    {
     "data": {
      "text/html": [
       "<div>\n",
       "<style scoped>\n",
       "    .dataframe tbody tr th:only-of-type {\n",
       "        vertical-align: middle;\n",
       "    }\n",
       "\n",
       "    .dataframe tbody tr th {\n",
       "        vertical-align: top;\n",
       "    }\n",
       "\n",
       "    .dataframe thead th {\n",
       "        text-align: right;\n",
       "    }\n",
       "</style>\n",
       "<table border=\"1\" class=\"dataframe\">\n",
       "  <thead>\n",
       "    <tr style=\"text-align: right;\">\n",
       "      <th></th>\n",
       "      <th>_metadata</th>\n",
       "      <th>anonymousId</th>\n",
       "      <th>channel</th>\n",
       "      <th>context</th>\n",
       "      <th>integrations</th>\n",
       "      <th>messageId</th>\n",
       "      <th>originalTimestamp</th>\n",
       "      <th>projectId</th>\n",
       "      <th>receivedAt</th>\n",
       "      <th>sentAt</th>\n",
       "      <th>timestamp</th>\n",
       "      <th>traits</th>\n",
       "      <th>type</th>\n",
       "      <th>userId</th>\n",
       "      <th>version</th>\n",
       "      <th>properties</th>\n",
       "      <th>category</th>\n",
       "      <th>name</th>\n",
       "      <th>event</th>\n",
       "    </tr>\n",
       "  </thead>\n",
       "  <tbody>\n",
       "    <tr>\n",
       "      <th>0</th>\n",
       "      <td>{'bundled': ['Segment.io'], 'bundledIds': [], ...</td>\n",
       "      <td>623cef3e-6160-4ca8-ab57-f1046a946cb1</td>\n",
       "      <td>client</td>\n",
       "      <td>{'campaign': {}, 'ip': '220.124.80.98', 'libra...</td>\n",
       "      <td>{}</td>\n",
       "      <td>ajs-next-c1583afa7d4c5bf091c633d8232f9da3</td>\n",
       "      <td>2022-05-13T06:28:06.805Z</td>\n",
       "      <td>pAzAoFnKNpLfHxRmZ2oDF4</td>\n",
       "      <td>2022-05-13T06:28:06.815Z</td>\n",
       "      <td>2022-05-13T06:28:06.805Z</td>\n",
       "      <td>2022-05-13 06:28:06.815</td>\n",
       "      <td>{'customerId': None}</td>\n",
       "      <td>identify</td>\n",
       "      <td>3471de99bb6b2a801b0b5946389150999832d5132f2c51...</td>\n",
       "      <td>2</td>\n",
       "      <td>None</td>\n",
       "      <td>None</td>\n",
       "      <td>None</td>\n",
       "      <td>None</td>\n",
       "    </tr>\n",
       "    <tr>\n",
       "      <th>1</th>\n",
       "      <td>{'bundled': ['Segment.io'], 'bundledIds': [], ...</td>\n",
       "      <td>623cef3e-6160-4ca8-ab57-f1046a946cb1</td>\n",
       "      <td>client</td>\n",
       "      <td>{'ip': '220.124.80.98', 'library': {'name': 'a...</td>\n",
       "      <td>{}</td>\n",
       "      <td>ajs-next-9b8d710113206ffe6539e3ecc587567e</td>\n",
       "      <td>2022-05-13T06:30:54.677Z</td>\n",
       "      <td>pAzAoFnKNpLfHxRmZ2oDF4</td>\n",
       "      <td>2022-05-13T06:30:54.367Z</td>\n",
       "      <td>2022-05-13T06:30:54.677Z</td>\n",
       "      <td>2022-05-13 06:30:54.367</td>\n",
       "      <td>{'customerId': None}</td>\n",
       "      <td>identify</td>\n",
       "      <td>3471de99bb6b2a801b0b5946389150999832d5132f2c51...</td>\n",
       "      <td>2</td>\n",
       "      <td>None</td>\n",
       "      <td>None</td>\n",
       "      <td>None</td>\n",
       "      <td>None</td>\n",
       "    </tr>\n",
       "    <tr>\n",
       "      <th>2</th>\n",
       "      <td>{'bundled': ['Segment.io'], 'bundledIds': [], ...</td>\n",
       "      <td>623cef3e-6160-4ca8-ab57-f1046a946cb1</td>\n",
       "      <td>client</td>\n",
       "      <td>{'ip': '220.124.80.98', 'library': {'name': 'a...</td>\n",
       "      <td>{}</td>\n",
       "      <td>ajs-next-23c3daabb8984bada04b504404bbf197</td>\n",
       "      <td>2022-05-13T06:31:26.179Z</td>\n",
       "      <td>pAzAoFnKNpLfHxRmZ2oDF4</td>\n",
       "      <td>2022-05-13T06:31:25.869Z</td>\n",
       "      <td>2022-05-13T06:31:26.179Z</td>\n",
       "      <td>2022-05-13 06:31:25.869</td>\n",
       "      <td>None</td>\n",
       "      <td>page</td>\n",
       "      <td>3471de99bb6b2a801b0b5946389150999832d5132f2c51...</td>\n",
       "      <td>2</td>\n",
       "      <td>{'category': '', 'name': 'ArticlesArticle', 'p...</td>\n",
       "      <td></td>\n",
       "      <td>ArticlesArticle</td>\n",
       "      <td>None</td>\n",
       "    </tr>\n",
       "    <tr>\n",
       "      <th>3</th>\n",
       "      <td>{'bundled': ['Segment.io'], 'bundledIds': [], ...</td>\n",
       "      <td>b50480bc-1b18-449a-a073-39275cea3d82</td>\n",
       "      <td>client</td>\n",
       "      <td>{'campaign': {}, 'ip': '110.70.46.194', 'libra...</td>\n",
       "      <td>{}</td>\n",
       "      <td>ajs-next-04e4e02a6a6444550572ec5e2612e8e5</td>\n",
       "      <td>2022-05-13T06:33:01.601Z</td>\n",
       "      <td>pAzAoFnKNpLfHxRmZ2oDF4</td>\n",
       "      <td>2022-05-13T06:33:02.015Z</td>\n",
       "      <td>2022-05-13T06:33:01.601Z</td>\n",
       "      <td>2022-05-13 06:33:02.015</td>\n",
       "      <td>None</td>\n",
       "      <td>page</td>\n",
       "      <td>7f84cdf255bd825cbe17ec63c7cb0822ff8e5cc49201dc...</td>\n",
       "      <td>2</td>\n",
       "      <td>{'path': '/', 'referrer': 'https://medistream....</td>\n",
       "      <td>None</td>\n",
       "      <td>None</td>\n",
       "      <td>None</td>\n",
       "    </tr>\n",
       "    <tr>\n",
       "      <th>4</th>\n",
       "      <td>{'bundled': ['Segment.io'], 'bundledIds': [], ...</td>\n",
       "      <td>497f3995-1387-4c97-85af-183bcefac9c9</td>\n",
       "      <td>client</td>\n",
       "      <td>{'campaign': {}, 'ip': '104.28.102.64', 'libra...</td>\n",
       "      <td>{}</td>\n",
       "      <td>ajs-next-4286d9e866e25b67b8451692a02f297a</td>\n",
       "      <td>2022-05-13T06:40:33.953Z</td>\n",
       "      <td>pAzAoFnKNpLfHxRmZ2oDF4</td>\n",
       "      <td>2022-05-13T06:40:34.317Z</td>\n",
       "      <td>2022-05-13T06:40:33.953Z</td>\n",
       "      <td>2022-05-13 06:40:34.317</td>\n",
       "      <td>{'customerId': None}</td>\n",
       "      <td>identify</td>\n",
       "      <td>d8d3d56a1089728ddc8e489d5c9144c71d526464d1c756...</td>\n",
       "      <td>2</td>\n",
       "      <td>None</td>\n",
       "      <td>None</td>\n",
       "      <td>None</td>\n",
       "      <td>None</td>\n",
       "    </tr>\n",
       "  </tbody>\n",
       "</table>\n",
       "</div>"
      ],
      "text/plain": [
       "                                           _metadata  \\\n",
       "0  {'bundled': ['Segment.io'], 'bundledIds': [], ...   \n",
       "1  {'bundled': ['Segment.io'], 'bundledIds': [], ...   \n",
       "2  {'bundled': ['Segment.io'], 'bundledIds': [], ...   \n",
       "3  {'bundled': ['Segment.io'], 'bundledIds': [], ...   \n",
       "4  {'bundled': ['Segment.io'], 'bundledIds': [], ...   \n",
       "\n",
       "                            anonymousId channel  \\\n",
       "0  623cef3e-6160-4ca8-ab57-f1046a946cb1  client   \n",
       "1  623cef3e-6160-4ca8-ab57-f1046a946cb1  client   \n",
       "2  623cef3e-6160-4ca8-ab57-f1046a946cb1  client   \n",
       "3  b50480bc-1b18-449a-a073-39275cea3d82  client   \n",
       "4  497f3995-1387-4c97-85af-183bcefac9c9  client   \n",
       "\n",
       "                                             context integrations  \\\n",
       "0  {'campaign': {}, 'ip': '220.124.80.98', 'libra...           {}   \n",
       "1  {'ip': '220.124.80.98', 'library': {'name': 'a...           {}   \n",
       "2  {'ip': '220.124.80.98', 'library': {'name': 'a...           {}   \n",
       "3  {'campaign': {}, 'ip': '110.70.46.194', 'libra...           {}   \n",
       "4  {'campaign': {}, 'ip': '104.28.102.64', 'libra...           {}   \n",
       "\n",
       "                                   messageId         originalTimestamp  \\\n",
       "0  ajs-next-c1583afa7d4c5bf091c633d8232f9da3  2022-05-13T06:28:06.805Z   \n",
       "1  ajs-next-9b8d710113206ffe6539e3ecc587567e  2022-05-13T06:30:54.677Z   \n",
       "2  ajs-next-23c3daabb8984bada04b504404bbf197  2022-05-13T06:31:26.179Z   \n",
       "3  ajs-next-04e4e02a6a6444550572ec5e2612e8e5  2022-05-13T06:33:01.601Z   \n",
       "4  ajs-next-4286d9e866e25b67b8451692a02f297a  2022-05-13T06:40:33.953Z   \n",
       "\n",
       "                projectId                receivedAt                    sentAt  \\\n",
       "0  pAzAoFnKNpLfHxRmZ2oDF4  2022-05-13T06:28:06.815Z  2022-05-13T06:28:06.805Z   \n",
       "1  pAzAoFnKNpLfHxRmZ2oDF4  2022-05-13T06:30:54.367Z  2022-05-13T06:30:54.677Z   \n",
       "2  pAzAoFnKNpLfHxRmZ2oDF4  2022-05-13T06:31:25.869Z  2022-05-13T06:31:26.179Z   \n",
       "3  pAzAoFnKNpLfHxRmZ2oDF4  2022-05-13T06:33:02.015Z  2022-05-13T06:33:01.601Z   \n",
       "4  pAzAoFnKNpLfHxRmZ2oDF4  2022-05-13T06:40:34.317Z  2022-05-13T06:40:33.953Z   \n",
       "\n",
       "                timestamp                traits      type  \\\n",
       "0 2022-05-13 06:28:06.815  {'customerId': None}  identify   \n",
       "1 2022-05-13 06:30:54.367  {'customerId': None}  identify   \n",
       "2 2022-05-13 06:31:25.869                  None      page   \n",
       "3 2022-05-13 06:33:02.015                  None      page   \n",
       "4 2022-05-13 06:40:34.317  {'customerId': None}  identify   \n",
       "\n",
       "                                              userId  version  \\\n",
       "0  3471de99bb6b2a801b0b5946389150999832d5132f2c51...        2   \n",
       "1  3471de99bb6b2a801b0b5946389150999832d5132f2c51...        2   \n",
       "2  3471de99bb6b2a801b0b5946389150999832d5132f2c51...        2   \n",
       "3  7f84cdf255bd825cbe17ec63c7cb0822ff8e5cc49201dc...        2   \n",
       "4  d8d3d56a1089728ddc8e489d5c9144c71d526464d1c756...        2   \n",
       "\n",
       "                                          properties category  \\\n",
       "0                                               None     None   \n",
       "1                                               None     None   \n",
       "2  {'category': '', 'name': 'ArticlesArticle', 'p...            \n",
       "3  {'path': '/', 'referrer': 'https://medistream....     None   \n",
       "4                                               None     None   \n",
       "\n",
       "              name event  \n",
       "0             None  None  \n",
       "1             None  None  \n",
       "2  ArticlesArticle  None  \n",
       "3             None  None  \n",
       "4             None  None  "
      ]
     },
     "execution_count": 3,
     "metadata": {},
     "output_type": "execute_result"
    }
   ],
   "source": [
    "df.head()"
   ]
  },
  {
   "cell_type": "markdown",
   "id": "b71781d5",
   "metadata": {},
   "source": [
    "# 딕셔너리 형태 컬럼 세부 시각화"
   ]
  },
  {
   "cell_type": "markdown",
   "id": "02c72833",
   "metadata": {},
   "source": [
    "    |--anonymousId X\n",
    "    |--channel X\n",
    "    |--integrations X\n",
    "    |--messageId X\n",
    "    |--originalTimestamp O\n",
    "    |--projectId X\n",
    "    |--receivedAt X\n",
    "    |--sentAt X\n",
    "    |--timestamp X\n",
    "    |--type O\n",
    "    |--userId O\n",
    "    |--version X \n",
    "    |--category x (값이 하나 '')\n",
    "    |--name O\n",
    "    |--event X\n",
    "    |-- _metadata\n",
    "        |-- bundled x\n",
    "        |-- bundledIds x\n",
    "    |-- context\n",
    "        |-- campaign\n",
    "        |   |-- term o (컨텐츠 제목 같음 이상한컨텐츠 드롭하자)\n",
    "        |   |-- source X (kakaotalk 1 개만 있음)\n",
    "        |   |-- content X (힌의사 or 학생 컨텐츠를 나타내는 듯)\n",
    "        |   |-- name O (알림메세지 유입 나타냄)\n",
    "        |   |-- id X (한개밖에 없음)\n",
    "        |   |-- medium O (콘텐츠 카테고리 같음)\n",
    "        |              \n",
    "        |-- ip x (큰 의미 없을 듯)\n",
    "        |-- library \n",
    "        |   |-- name x\n",
    "        |   |-- version x\n",
    "        |              \n",
    "        |-- locale O\n",
    "        |-- page \n",
    "        |   |-- path O \n",
    "        |   |-- referrer x (name 으로 확인 가능)\n",
    "        |   |-- search X\n",
    "        |   |   |-- 44개 하위 컬럼 존재(utm)\n",
    "        |   |   \n",
    "        |   |-- title X (메디스트림 번호만 있음 뭘 말하는 지 모르겠음)\n",
    "        |   |-- url O \n",
    "        |              \n",
    "        |-- userAgent  O (모바일, 컴퓨터 확인 가능)\n",
    "    |-- traits \n",
    "        |-- customerId O\n",
    "    |-- properties\n",
    "        |-- category x (값이 없음)\n",
    "        |-- name x\n",
    "        |-- path X (properties path가 많고 non 없음)\n",
    "        |-- properties           \n",
    "        |   |-- version x\n",
    "        |   |-- type x\n",
    "        |   |-- category x \n",
    "        |   |-- name x\n",
    "        |              \n",
    "        |-- referrer x\n",
    "        |-- search x\n",
    "        |-- title x (메디스트림 번호만 있음 뭘 말하는 지 모르겠음)\n",
    "        |-- type x (None이 기존 type 비해 매우 많음)\n",
    "        |-- url x\n",
    "        |-- userId x (None이 기존 type 비해 매우 많음)\n",
    "        |-- version x\n",
    "\n"
   ]
  },
  {
   "cell_type": "markdown",
   "id": "c6627cc8",
   "metadata": {},
   "source": [
    "# 최종 컬럼\n",
    "- 분석 이후 최종 컬럼"
   ]
  },
  {
   "cell_type": "markdown",
   "id": "45e5dcce",
   "metadata": {},
   "source": [
    "    |--originalTimestamp O\n",
    "    |--type O\n",
    "    |--userId O\n",
    "    |--name O\n",
    "    |-- context\n",
    "        |-- campaign\n",
    "        |   |-- term o (컨텐츠 제목 같음 이상한컨텐츠 드롭하자)\n",
    "        |   |-- name O (알림메세지 유입 나타냄)\n",
    "        |   |-- medium O (콘텐츠 카테고리 같음)         \n",
    "        |              \n",
    "        |-- locale O\n",
    "        |-- page \n",
    "        |   |-- path O \n",
    "        |   |-- url O \n",
    "        |              \n",
    "        |-- userAgent  O (모바일, 컴퓨터 확인 가능)\n",
    "    |-- traits \n",
    "        |-- customerId O"
   ]
  },
  {
   "cell_type": "markdown",
   "id": "a7509ffa",
   "metadata": {},
   "source": [
    "# 1. 분석 시작"
   ]
  },
  {
   "cell_type": "code",
   "execution_count": 4,
   "id": "7e67fcfe",
   "metadata": {},
   "outputs": [],
   "source": [
    "df = pd.read_json('/fastcampus-data/log-data/log_sampling.json')"
   ]
  },
  {
   "cell_type": "markdown",
   "id": "0ad1938f",
   "metadata": {},
   "source": [
    "# originalTimestamp 분석\n",
    "- 시간은 중요 지표"
   ]
  },
  {
   "cell_type": "code",
   "execution_count": 6,
   "id": "4c1af66c",
   "metadata": {},
   "outputs": [],
   "source": [
    "df.originalTimestamp = pd.to_datetime(df.originalTimestamp)"
   ]
  },
  {
   "cell_type": "code",
   "execution_count": 14,
   "id": "e299c23f",
   "metadata": {
    "scrolled": true
   },
   "outputs": [
    {
     "data": {
      "text/plain": [
       "0    2022-05-13T06:28:06.805Z\n",
       "1    2022-05-13T06:30:54.677Z\n",
       "Name: originalTimestamp, dtype: object"
      ]
     },
     "execution_count": 14,
     "metadata": {},
     "output_type": "execute_result"
    }
   ],
   "source": [
    "df.originalTimestamp.head(2)"
   ]
  },
  {
   "cell_type": "markdown",
   "id": "0a3e0321",
   "metadata": {},
   "source": [
    "# projectId 분석\n",
    "\n",
    "- 값이 하나밖에 없음 지우자"
   ]
  },
  {
   "cell_type": "code",
   "execution_count": 214,
   "id": "3aecdf26",
   "metadata": {},
   "outputs": [
    {
     "data": {
      "text/plain": [
       "pAzAoFnKNpLfHxRmZ2oDF4    1019669\n",
       "Name: projectId, dtype: int64"
      ]
     },
     "execution_count": 214,
     "metadata": {},
     "output_type": "execute_result"
    }
   ],
   "source": [
    "df.projectId.value_counts()"
   ]
  },
  {
   "cell_type": "markdown",
   "id": "afa64ccf",
   "metadata": {},
   "source": [
    "# type 분석\n",
    "\n",
    "- page, identify 분석 필요해 보임"
   ]
  },
  {
   "cell_type": "code",
   "execution_count": 147,
   "id": "20ec3cc2",
   "metadata": {},
   "outputs": [
    {
     "data": {
      "text/plain": [
       "page        554604\n",
       "identify    464899\n",
       "track          166\n",
       "Name: type, dtype: int64"
      ]
     },
     "execution_count": 147,
     "metadata": {},
     "output_type": "execute_result"
    }
   ],
   "source": [
    "df.type.value_counts()"
   ]
  },
  {
   "cell_type": "markdown",
   "id": "29d58d48",
   "metadata": {},
   "source": [
    "# _metadata\n",
    "\n",
    "- bundled, bundledIds, unbundled\n",
    "- 값이 하나 밖에 없어서 전처리"
   ]
  },
  {
   "cell_type": "code",
   "execution_count": 132,
   "id": "107b34f7",
   "metadata": {},
   "outputs": [
    {
     "name": "stderr",
     "output_type": "stream",
     "text": [
      "100%|██████████| 1019669/1019669 [00:00<00:00, 1285646.41it/s]\n"
     ]
    },
    {
     "data": {
      "text/plain": [
       "{'bundled', 'bundledIds', 'unbundled'}"
      ]
     },
     "execution_count": 132,
     "metadata": {},
     "output_type": "execute_result"
    }
   ],
   "source": [
    "dict_to_set('_metadata')"
   ]
  },
  {
   "cell_type": "code",
   "execution_count": 228,
   "id": "aa37d382",
   "metadata": {},
   "outputs": [],
   "source": [
    "_metadata_columns = ['bundled','bundledIds','unbundled']\n",
    "_metadata_df = dict_to_column(['_metadata'] , df)[['bundled','bundledIds','unbundled']]"
   ]
  },
  {
   "cell_type": "code",
   "execution_count": 229,
   "id": "c6a08edd",
   "metadata": {},
   "outputs": [],
   "source": [
    "for col in _metadata_columns:\n",
    "    _metadata_df[col] = _metadata_df[col].apply(lambda x: None if x==None else str(x))\n"
   ]
  },
  {
   "cell_type": "code",
   "execution_count": 232,
   "id": "45a11ae2",
   "metadata": {},
   "outputs": [
    {
     "data": {
      "text/plain": [
       "(['Segment.io']    1019669\n",
       " Name: bundled, dtype: int64,\n",
       " []    1019669\n",
       " Name: bundledIds, dtype: int64,\n",
       " []    1019669\n",
       " Name: unbundled, dtype: int64)"
      ]
     },
     "execution_count": 232,
     "metadata": {},
     "output_type": "execute_result"
    }
   ],
   "source": [
    "# 모두 값이 하나밖에 없음 전처리\n",
    "_metadata_df.bundled.value_counts(), _metadata_df.bundledIds.value_counts(), _metadata_df.unbundled.value_counts()"
   ]
  },
  {
   "cell_type": "markdown",
   "id": "9ce0f98e",
   "metadata": {},
   "source": [
    "# context\n",
    "\n",
    "- "
   ]
  },
  {
   "cell_type": "code",
   "execution_count": 133,
   "id": "7adbc7e3",
   "metadata": {},
   "outputs": [
    {
     "name": "stderr",
     "output_type": "stream",
     "text": [
      "100%|██████████| 1019669/1019669 [00:07<00:00, 129150.70it/s]\n"
     ]
    },
    {
     "data": {
      "text/plain": [
       "{'campaign', 'ip', 'library', 'locale', 'page', 'userAgent'}"
      ]
     },
     "execution_count": 133,
     "metadata": {},
     "output_type": "execute_result"
    }
   ],
   "source": [
    "dict_to_set('context')"
   ]
  },
  {
   "cell_type": "markdown",
   "id": "6748593b",
   "metadata": {},
   "source": [
    "# traits\n",
    "- cutomerid\n",
    "- 유저 정보를 담고 있으므로 중요 정보"
   ]
  },
  {
   "cell_type": "code",
   "execution_count": 135,
   "id": "1ab9583f",
   "metadata": {},
   "outputs": [
    {
     "name": "stderr",
     "output_type": "stream",
     "text": [
      "100%|██████████| 1019669/1019669 [00:00<00:00, 1798999.78it/s]\n"
     ]
    },
    {
     "data": {
      "text/plain": [
       "{'customerId'}"
      ]
     },
     "execution_count": 135,
     "metadata": {},
     "output_type": "execute_result"
    }
   ],
   "source": [
    "dict_to_set('traits')"
   ]
  },
  {
   "cell_type": "markdown",
   "id": "6ea337c5",
   "metadata": {},
   "source": [
    "# properites\n",
    "- 결론적으로 무쓸모 정보들이다.\n",
    "- none 값이 압도적으로 많다."
   ]
  },
  {
   "cell_type": "code",
   "execution_count": 22,
   "id": "fffa175a",
   "metadata": {},
   "outputs": [
    {
     "name": "stderr",
     "output_type": "stream",
     "text": [
      "100%|██████████| 1019669/1019669 [00:00<00:00, 1357902.37it/s]\n"
     ]
    },
    {
     "data": {
      "text/plain": [
       "['name',\n",
       " 'title',\n",
       " 'properties',\n",
       " 'url',\n",
       " 'userId',\n",
       " 'version',\n",
       " 'referrer',\n",
       " 'category',\n",
       " 'type',\n",
       " 'path',\n",
       " 'search']"
      ]
     },
     "execution_count": 22,
     "metadata": {},
     "output_type": "execute_result"
    }
   ],
   "source": [
    "'''\n",
    "category : 일치\n",
    "name     : 5369번 빼고 일치 기존 컬럼을 쓰자\n",
    "path : 새로움 컬럼\n",
    "properties : 전부 none 드롭 (5369번 빼고)\n",
    "referrer : 새로운 컬럼\n",
    "search : 새로운 컬럼\n",
    "title : 새로운 컬럼\n",
    "type : 전부 none 드롭 (5369번 빼고)\n",
    "url : 새로운 컬럼\n",
    "userId : 전부 none 드롭 (5369번 빼고)\n",
    "version : 전부 none 드롭 (5369번 빼고)\n",
    "'''\n",
    "\n",
    "def key_set(columns:str):\n",
    "    key_set = set()\n",
    "    for i in tqdm(df[columns]):\n",
    "        if isinstance(i, dict):\n",
    "            key_set |= set(i.keys())\n",
    "    return key_set\n",
    "\n",
    "key_set('properties')"
   ]
  },
  {
   "cell_type": "markdown",
   "id": "4577c0af",
   "metadata": {},
   "source": [
    "# context 컬럼과 properties 컬럼 중복 컬럼 확인"
   ]
  },
  {
   "cell_type": "code",
   "execution_count": 7,
   "id": "c86d8ace",
   "metadata": {},
   "outputs": [],
   "source": [
    "def duplicate_confirm_columns(column:str, key:str):\n",
    "    duplicate_confirm_series = df[column].apply(lambda x: x.get(key, None) if isinstance(x, dict) else None)\n",
    "    different_cnt = (duplicate_confirm_series.fillna(0) != df[key].fillna(0)).sum()\n",
    "    different_row = duplicate_confirm_series[(duplicate_confirm_series.fillna(0) != df[key].fillna(0))]\n",
    "    return print(f'key name : {key}\\n' + 'different_cnt :', different_cnt,'\\n'+'different_row :', different_row, '\\n')"
   ]
  },
  {
   "cell_type": "markdown",
   "id": "d5ccd319",
   "metadata": {},
   "source": [
    "## properites 컬럼 key 확인하기"
   ]
  },
  {
   "cell_type": "code",
   "execution_count": 8,
   "id": "1254496a",
   "metadata": {
    "scrolled": true
   },
   "outputs": [
    {
     "name": "stdout",
     "output_type": "stream",
     "text": [
      "key name : category\n",
      "different_cnt : 0 \n",
      "different_row : Series([], Name: properties, dtype: object) \n",
      "\n",
      "key name : name\n",
      "different_cnt : 1 \n",
      "different_row : 5369    CheckoutOrderComplete\n",
      "Name: properties, dtype: object \n",
      "\n",
      "key name : type\n",
      "different_cnt : 1019668 \n",
      "different_row : 0          None\n",
      "1          None\n",
      "2          None\n",
      "3          None\n",
      "4          None\n",
      "           ... \n",
      "1019664    None\n",
      "1019665    None\n",
      "1019666    None\n",
      "1019667    None\n",
      "1019668    None\n",
      "Name: properties, Length: 1019668, dtype: object \n",
      "\n",
      "key name : userId\n",
      "different_cnt : 1019668 \n",
      "different_row : 0          None\n",
      "1          None\n",
      "2          None\n",
      "3          None\n",
      "4          None\n",
      "           ... \n",
      "1019664    None\n",
      "1019665    None\n",
      "1019666    None\n",
      "1019667    None\n",
      "1019668    None\n",
      "Name: properties, Length: 1019668, dtype: object \n",
      "\n",
      "key name : version\n",
      "different_cnt : 1019669 \n",
      "different_row : 0          None\n",
      "1          None\n",
      "2          None\n",
      "3          None\n",
      "4          None\n",
      "           ... \n",
      "1019664    None\n",
      "1019665    None\n",
      "1019666    None\n",
      "1019667    None\n",
      "1019668    None\n",
      "Name: properties, Length: 1019669, dtype: object \n",
      "\n"
     ]
    }
   ],
   "source": [
    "# keys = key_set('properties')\n",
    "# properties 컬럼 분해 & 기존 컬럼과 차이 확인\n",
    "keys = ['category','name','type','userId','version']\n",
    "for key in keys:\n",
    "    duplicate_confirm_columns('properties', key)"
   ]
  },
  {
   "cell_type": "markdown",
   "id": "6c30d5c3",
   "metadata": {},
   "source": [
    "# properties 중복 컬럼 na 비교\n",
    "\n",
    "- type, userId, version(중복 컬럼)\n",
    "- dropna 통해 남은 row 확인\n",
    "- 5369번 빼고 전부 nan\n",
    "- test 용도인 것으로  추정\n",
    "- properites 컬럼에 있는 type,userId, version은 전처리하자"
   ]
  },
  {
   "cell_type": "markdown",
   "id": "471e28ce",
   "metadata": {},
   "source": [
    "## type"
   ]
  },
  {
   "cell_type": "code",
   "execution_count": 37,
   "id": "6499cc30",
   "metadata": {},
   "outputs": [
    {
     "data": {
      "text/plain": [
       "(1019668,\n",
       " 5369    page\n",
       " Name: properties, dtype: object)"
      ]
     },
     "execution_count": 37,
     "metadata": {},
     "output_type": "execute_result"
    }
   ],
   "source": [
    "property_type = df.properties.apply(lambda x: x.get('type', None) if isinstance(x, dict) else None)\n",
    "property_type.isna().sum(), property_type.dropna()\n"
   ]
  },
  {
   "cell_type": "markdown",
   "id": "0d80f3e3",
   "metadata": {},
   "source": [
    "## userId"
   ]
  },
  {
   "cell_type": "code",
   "execution_count": 36,
   "id": "a3f5ac02",
   "metadata": {},
   "outputs": [
    {
     "data": {
      "text/plain": [
       "(1019668,\n",
       " 5369    76c6132d47e75c1c12634d133adc4b9037f1da32477df5...\n",
       " Name: properties, dtype: object)"
      ]
     },
     "execution_count": 36,
     "metadata": {},
     "output_type": "execute_result"
    }
   ],
   "source": [
    "property_userId = df.properties.apply(lambda x: x.get('userId', None) if isinstance(x, dict) else None)\n",
    "property_userId.isna().sum(), property_userId.dropna()"
   ]
  },
  {
   "cell_type": "markdown",
   "id": "dce0d14e",
   "metadata": {},
   "source": [
    "## version"
   ]
  },
  {
   "cell_type": "code",
   "execution_count": 38,
   "id": "ac08f26f",
   "metadata": {},
   "outputs": [
    {
     "data": {
      "text/plain": [
       "(1019668,\n",
       " 5369    76c6132d47e75c1c12634d133adc4b9037f1da32477df5...\n",
       " Name: properties, dtype: object)"
      ]
     },
     "execution_count": 38,
     "metadata": {},
     "output_type": "execute_result"
    }
   ],
   "source": [
    "property_version = df.properties.apply(lambda x: x.get('version', None) if isinstance(x, dict) else None)\n",
    "property_version.isna().sum(), property_userId.dropna()"
   ]
  },
  {
   "cell_type": "markdown",
   "id": "824d4dbf",
   "metadata": {},
   "source": [
    "5369번 빼고 전부 nan"
   ]
  },
  {
   "cell_type": "code",
   "execution_count": 233,
   "id": "0db65874",
   "metadata": {},
   "outputs": [
    {
     "data": {
      "text/html": [
       "<div>\n",
       "<style scoped>\n",
       "    .dataframe tbody tr th:only-of-type {\n",
       "        vertical-align: middle;\n",
       "    }\n",
       "\n",
       "    .dataframe tbody tr th {\n",
       "        vertical-align: top;\n",
       "    }\n",
       "\n",
       "    .dataframe thead th {\n",
       "        text-align: right;\n",
       "    }\n",
       "</style>\n",
       "<table border=\"1\" class=\"dataframe\">\n",
       "  <thead>\n",
       "    <tr style=\"text-align: right;\">\n",
       "      <th></th>\n",
       "      <th>_metadata</th>\n",
       "      <th>anonymousId</th>\n",
       "      <th>channel</th>\n",
       "      <th>context</th>\n",
       "      <th>integrations</th>\n",
       "      <th>messageId</th>\n",
       "      <th>originalTimestamp</th>\n",
       "      <th>projectId</th>\n",
       "      <th>receivedAt</th>\n",
       "      <th>sentAt</th>\n",
       "      <th>timestamp</th>\n",
       "      <th>traits</th>\n",
       "      <th>type</th>\n",
       "      <th>userId</th>\n",
       "      <th>version</th>\n",
       "      <th>properties</th>\n",
       "      <th>category</th>\n",
       "      <th>name</th>\n",
       "      <th>event</th>\n",
       "      <th>bundledIds</th>\n",
       "      <th>bundled</th>\n",
       "      <th>unbundled</th>\n",
       "      <th>_metadata_bundledIds</th>\n",
       "      <th>_metadata_bundled</th>\n",
       "      <th>_metadata_unbundled</th>\n",
       "    </tr>\n",
       "  </thead>\n",
       "  <tbody>\n",
       "    <tr>\n",
       "      <th>5369</th>\n",
       "      <td>{'bundled': ['Segment.io'], 'bundledIds': [], ...</td>\n",
       "      <td>3c8c87ee-ef2c-470c-8e11-3efe7f07b54a</td>\n",
       "      <td>client</td>\n",
       "      <td>{'ip': '121.152.176.140', 'library': {'name': ...</td>\n",
       "      <td>{}</td>\n",
       "      <td>ajs-next-6366a0e975b9cf851887fa5a9c00b20e</td>\n",
       "      <td>2022-05-13T13:35:34.522Z</td>\n",
       "      <td>pAzAoFnKNpLfHxRmZ2oDF4</td>\n",
       "      <td>2022-05-13T13:35:34.911Z</td>\n",
       "      <td>2022-05-13T13:35:34.522Z</td>\n",
       "      <td>2022-05-13 13:35:34.911</td>\n",
       "      <td>None</td>\n",
       "      <td>page</td>\n",
       "      <td>76c6132d47e75c1c12634d133adc4b9037f1da32477df5...</td>\n",
       "      <td>2</td>\n",
       "      <td>{'name': 'CheckoutOrderComplete', 'path': '/',...</td>\n",
       "      <td>None</td>\n",
       "      <td>None</td>\n",
       "      <td>None</td>\n",
       "      <td>[]</td>\n",
       "      <td>[Segment.io]</td>\n",
       "      <td>[]</td>\n",
       "      <td>[]</td>\n",
       "      <td>[Segment.io]</td>\n",
       "      <td>[]</td>\n",
       "    </tr>\n",
       "  </tbody>\n",
       "</table>\n",
       "</div>"
      ],
      "text/plain": [
       "                                              _metadata  \\\n",
       "5369  {'bundled': ['Segment.io'], 'bundledIds': [], ...   \n",
       "\n",
       "                               anonymousId channel  \\\n",
       "5369  3c8c87ee-ef2c-470c-8e11-3efe7f07b54a  client   \n",
       "\n",
       "                                                context integrations  \\\n",
       "5369  {'ip': '121.152.176.140', 'library': {'name': ...           {}   \n",
       "\n",
       "                                      messageId         originalTimestamp  \\\n",
       "5369  ajs-next-6366a0e975b9cf851887fa5a9c00b20e  2022-05-13T13:35:34.522Z   \n",
       "\n",
       "                   projectId                receivedAt  \\\n",
       "5369  pAzAoFnKNpLfHxRmZ2oDF4  2022-05-13T13:35:34.911Z   \n",
       "\n",
       "                        sentAt               timestamp traits  type  \\\n",
       "5369  2022-05-13T13:35:34.522Z 2022-05-13 13:35:34.911   None  page   \n",
       "\n",
       "                                                 userId version  \\\n",
       "5369  76c6132d47e75c1c12634d133adc4b9037f1da32477df5...       2   \n",
       "\n",
       "                                             properties category  name event  \\\n",
       "5369  {'name': 'CheckoutOrderComplete', 'path': '/',...     None  None  None   \n",
       "\n",
       "     bundledIds       bundled unbundled _metadata_bundledIds  \\\n",
       "5369         []  [Segment.io]        []                   []   \n",
       "\n",
       "     _metadata_bundled _metadata_unbundled  \n",
       "5369      [Segment.io]                  []  "
      ]
     },
     "execution_count": 233,
     "metadata": {},
     "output_type": "execute_result"
    }
   ],
   "source": [
    "# 5369번 확인\n",
    "# test용도인 것 추정\n",
    "pd.DataFrame(df.iloc[5369,:]).T"
   ]
  },
  {
   "cell_type": "markdown",
   "id": "46ffecab",
   "metadata": {},
   "source": [
    "# properties 컬럼의 key 컬럼화"
   ]
  },
  {
   "cell_type": "markdown",
   "id": "97fbb642",
   "metadata": {},
   "source": [
    "### properties_search None 전처리 후 데이터 확인하기"
   ]
  },
  {
   "cell_type": "code",
   "execution_count": 63,
   "id": "a37fb1cf",
   "metadata": {},
   "outputs": [],
   "source": [
    "df['search'] = df['search'].apply(lambda x: None if x == {} else x)\n",
    "search_series = df['search'].dropna()\n",
    "search_series"
   ]
  },
  {
   "cell_type": "markdown",
   "id": "83b08d49",
   "metadata": {},
   "source": [
    "### 궁금증\n",
    "- search 가 none인 것들은 메인 페이지 혹은 메뉴 중 클릭하고 메인페이지에 해당하는 아이템을 클릭한 것일까??\n",
    "- 비즈니스 분석 용도로는 어떤 검색을 많이하는 지 알수 있고 추천 시스템에 근거가 될 수도 있으므로 중요한 정보일 듯\n",
    "- 총 100만건(1019669) 요청 중 86만건(863583)은 검색을 안함"
   ]
  },
  {
   "cell_type": "code",
   "execution_count": 102,
   "id": "787b390c",
   "metadata": {
    "scrolled": true
   },
   "outputs": [
    {
     "data": {
      "text/plain": [
       "                   1019669\n",
       "utm_id             1019666\n",
       "utm_source          992661\n",
       "c                  1019581\n",
       "type               1013815\n",
       "placeholder        1014605\n",
       "boardId            1017182\n",
       "boardTitle         1016771\n",
       "articleId          1019387\n",
       "shortlink          1019581\n",
       "imp_uid            1019630\n",
       "period             1015220\n",
       "utm_term            992716\n",
       "debugCustomerId    1019565\n",
       "subOrder           1019618\n",
       "paymentMethod      1019656\n",
       "copyable           1019668\n",
       "ids                1019145\n",
       "referrer           1019623\n",
       "nameType           1017152\n",
       "af_dp              1019590\n",
       "deep_link_value    1019581\n",
       "utm_medium          992468\n",
       "rank               1019564\n",
       "imp_success        1019630\n",
       "sort               1000711\n",
       "limit              1008889\n",
       "view               1017533\n",
       "totalCount         1019618\n",
       "keyword            1006580\n",
       "pid                1019581\n",
       "merchant_uid       1019630\n",
       "category           1019660\n",
       "utm_campaign        992664\n",
       "napp               1019240\n",
       "utm_content         993103\n",
       "order              1019618\n",
       "tag                1019388\n",
       "sort...            1019669\n",
       "start              1007770\n",
       "board              1015220\n",
       "billingPayload     1019643\n",
       "subtab_h           1019291\n",
       "graduate           1019638\n",
       "dtype: int64"
      ]
     },
     "execution_count": 102,
     "metadata": {},
     "output_type": "execute_result"
    }
   ],
   "source": [
    "df_seach.isnull().sum()"
   ]
  },
  {
   "cell_type": "code",
   "execution_count": 121,
   "id": "332ca25a",
   "metadata": {},
   "outputs": [
    {
     "data": {
      "text/plain": [
       "['utm_id',\n",
       " 'utm_source',\n",
       " 'utm_term',\n",
       " 'utm_medium',\n",
       " 'utm_campaign',\n",
       " 'utm_content']"
      ]
     },
     "execution_count": 121,
     "metadata": {},
     "output_type": "execute_result"
    }
   ],
   "source": [
    "utm_columns = []\n",
    "for col in df_seach.columns:\n",
    "    if 'utm' in col:\n",
    "        utm_columns.append(col)\n",
    "        \n",
    "utm_columns"
   ]
  },
  {
   "cell_type": "code",
   "execution_count": 123,
   "id": "f94b2324",
   "metadata": {
    "scrolled": true
   },
   "outputs": [
    {
     "data": {
      "text/plain": [
       "    464889\n",
       "Name: category, dtype: int64"
      ]
     },
     "execution_count": 123,
     "metadata": {},
     "output_type": "execute_result"
    }
   ],
   "source": [
    "df.category.value_counts()"
   ]
  },
  {
   "cell_type": "markdown",
   "id": "7dfed117",
   "metadata": {},
   "source": [
    "## integrations 컬럼 분석\n",
    "\n",
    "- 다 none 이여서 전처리 하자"
   ]
  },
  {
   "cell_type": "code",
   "execution_count": 126,
   "id": "4333d800",
   "metadata": {},
   "outputs": [],
   "source": [
    "# {} 값 전처리\n",
    "df['integrations'] = df['integrations'].apply(lambda x: None if x =={} else x)"
   ]
  },
  {
   "cell_type": "code",
   "execution_count": 128,
   "id": "884197b6",
   "metadata": {},
   "outputs": [
    {
     "data": {
      "text/plain": [
       "Series([], Name: integrations, dtype: int64)"
      ]
     },
     "execution_count": 128,
     "metadata": {},
     "output_type": "execute_result"
    }
   ],
   "source": [
    "df['integrations'].value_counts()"
   ]
  },
  {
   "cell_type": "markdown",
   "id": "942c61c5",
   "metadata": {},
   "source": [
    "# 모든 컬럼 dict 검사"
   ]
  },
  {
   "cell_type": "code",
   "execution_count": 29,
   "id": "afac628b",
   "metadata": {
    "scrolled": true
   },
   "outputs": [
    {
     "name": "stderr",
     "output_type": "stream",
     "text": [
      "100%|██████████| 1019669/1019669 [00:00<00:00, 1582187.58it/s]\n",
      " 14%|█▎        | 138003/1019669 [00:00<00:00, 1378637.66it/s]"
     ]
    },
    {
     "name": "stdout",
     "output_type": "stream",
     "text": [
      "anonymousId: set()\n"
     ]
    },
    {
     "name": "stderr",
     "output_type": "stream",
     "text": [
      "100%|██████████| 1019669/1019669 [00:00<00:00, 1557024.34it/s]\n",
      " 14%|█▍        | 141969/1019669 [00:00<00:00, 1419552.59it/s]"
     ]
    },
    {
     "name": "stdout",
     "output_type": "stream",
     "text": [
      "channel: set()\n"
     ]
    },
    {
     "name": "stderr",
     "output_type": "stream",
     "text": [
      "100%|██████████| 1019669/1019669 [00:00<00:00, 1612050.94it/s]\n",
      " 14%|█▍        | 141122/1019669 [00:00<00:00, 1411016.13it/s]"
     ]
    },
    {
     "name": "stdout",
     "output_type": "stream",
     "text": [
      "integrations: set()\n"
     ]
    },
    {
     "name": "stderr",
     "output_type": "stream",
     "text": [
      "100%|██████████| 1019669/1019669 [00:00<00:00, 1555018.56it/s]\n",
      " 14%|█▎        | 139797/1019669 [00:00<00:00, 1397821.36it/s]"
     ]
    },
    {
     "name": "stdout",
     "output_type": "stream",
     "text": [
      "messageId: set()\n"
     ]
    },
    {
     "name": "stderr",
     "output_type": "stream",
     "text": [
      "100%|██████████| 1019669/1019669 [00:00<00:00, 1584972.77it/s]\n",
      " 14%|█▍        | 141733/1019669 [00:00<00:00, 1417219.85it/s]"
     ]
    },
    {
     "name": "stdout",
     "output_type": "stream",
     "text": [
      "originalTimestamp: set()\n"
     ]
    },
    {
     "name": "stderr",
     "output_type": "stream",
     "text": [
      "100%|██████████| 1019669/1019669 [00:00<00:00, 1590593.96it/s]\n",
      " 14%|█▍        | 140502/1019669 [00:00<00:00, 1404884.01it/s]"
     ]
    },
    {
     "name": "stdout",
     "output_type": "stream",
     "text": [
      "projectId: set()\n"
     ]
    },
    {
     "name": "stderr",
     "output_type": "stream",
     "text": [
      "100%|██████████| 1019669/1019669 [00:00<00:00, 1582650.13it/s]\n",
      " 14%|█▎        | 138810/1019669 [00:00<00:00, 1387952.41it/s]"
     ]
    },
    {
     "name": "stdout",
     "output_type": "stream",
     "text": [
      "receivedAt: set()\n"
     ]
    },
    {
     "name": "stderr",
     "output_type": "stream",
     "text": [
      "100%|██████████| 1019669/1019669 [00:00<00:00, 1570074.67it/s]\n",
      "  0%|          | 0/1019669 [00:00<?, ?it/s]\n",
      " 13%|█▎        | 137558/1019669 [00:00<00:00, 1375463.25it/s]"
     ]
    },
    {
     "name": "stdout",
     "output_type": "stream",
     "text": [
      "sentAt: set()\n",
      "timestamp downdown\n"
     ]
    },
    {
     "name": "stderr",
     "output_type": "stream",
     "text": [
      "100%|██████████| 1019669/1019669 [00:00<00:00, 1574456.53it/s]\n",
      " 14%|█▎        | 138058/1019669 [00:00<00:00, 1380452.96it/s]"
     ]
    },
    {
     "name": "stdout",
     "output_type": "stream",
     "text": [
      "type: set()\n"
     ]
    },
    {
     "name": "stderr",
     "output_type": "stream",
     "text": [
      "100%|██████████| 1019669/1019669 [00:00<00:00, 1571207.53it/s]\n",
      "  0%|          | 0/1019669 [00:00<?, ?it/s]\n",
      " 16%|█▋        | 166064/1019669 [00:00<00:00, 1660503.02it/s]"
     ]
    },
    {
     "name": "stdout",
     "output_type": "stream",
     "text": [
      "userId: set()\n",
      "version downdown\n"
     ]
    },
    {
     "name": "stderr",
     "output_type": "stream",
     "text": [
      "100%|██████████| 1019669/1019669 [00:00<00:00, 1904120.72it/s]\n",
      " 16%|█▌        | 162611/1019669 [00:00<00:00, 1625956.49it/s]"
     ]
    },
    {
     "name": "stdout",
     "output_type": "stream",
     "text": [
      "category: set()\n"
     ]
    },
    {
     "name": "stderr",
     "output_type": "stream",
     "text": [
      "100%|██████████| 1019669/1019669 [00:00<00:00, 1880709.79it/s]\n",
      " 21%|██        | 211910/1019669 [00:00<00:00, 2118940.36it/s]"
     ]
    },
    {
     "name": "stdout",
     "output_type": "stream",
     "text": [
      "name: set()\n"
     ]
    },
    {
     "name": "stderr",
     "output_type": "stream",
     "text": [
      "100%|██████████| 1019669/1019669 [00:00<00:00, 2401105.88it/s]\n",
      " 14%|█▍        | 142002/1019669 [00:00<00:00, 1419892.71it/s]"
     ]
    },
    {
     "name": "stdout",
     "output_type": "stream",
     "text": [
      "event: set()\n"
     ]
    },
    {
     "name": "stderr",
     "output_type": "stream",
     "text": [
      "100%|██████████| 1019669/1019669 [00:00<00:00, 1639947.78it/s]\n",
      " 13%|█▎        | 129567/1019669 [00:00<00:00, 1295550.77it/s]"
     ]
    },
    {
     "name": "stdout",
     "output_type": "stream",
     "text": [
      "bundledIds: set()\n"
     ]
    },
    {
     "name": "stderr",
     "output_type": "stream",
     "text": [
      "100%|██████████| 1019669/1019669 [00:00<00:00, 1457344.96it/s]\n",
      " 14%|█▍        | 144209/1019669 [00:00<00:00, 1441905.74it/s]"
     ]
    },
    {
     "name": "stdout",
     "output_type": "stream",
     "text": [
      "bundled: set()\n"
     ]
    },
    {
     "name": "stderr",
     "output_type": "stream",
     "text": [
      "100%|██████████| 1019669/1019669 [00:00<00:00, 1632549.66it/s]\n",
      " 11%|█         | 112547/1019669 [00:00<00:00, 1125379.85it/s]"
     ]
    },
    {
     "name": "stdout",
     "output_type": "stream",
     "text": [
      "unbundled: set()\n"
     ]
    },
    {
     "name": "stderr",
     "output_type": "stream",
     "text": [
      "100%|██████████| 1019669/1019669 [00:00<00:00, 1246536.46it/s]\n",
      " 11%|█         | 114098/1019669 [00:00<00:00, 1140869.57it/s]"
     ]
    },
    {
     "name": "stdout",
     "output_type": "stream",
     "text": [
      "ip: set()\n"
     ]
    },
    {
     "name": "stderr",
     "output_type": "stream",
     "text": [
      "100%|██████████| 1019669/1019669 [00:00<00:00, 1247532.75it/s]\n",
      "  8%|▊         | 83909/1019669 [00:00<00:01, 839000.79it/s]"
     ]
    },
    {
     "name": "stdout",
     "output_type": "stream",
     "text": [
      "locale: set()\n"
     ]
    },
    {
     "name": "stderr",
     "output_type": "stream",
     "text": [
      "100%|██████████| 1019669/1019669 [00:01<00:00, 901100.58it/s]\n",
      "  9%|▉         | 94375/1019669 [00:00<00:00, 943658.66it/s]"
     ]
    },
    {
     "name": "stdout",
     "output_type": "stream",
     "text": [
      "page: {'path', 'url', 'search', 'referrer', 'title'}\n"
     ]
    },
    {
     "name": "stderr",
     "output_type": "stream",
     "text": [
      "100%|██████████| 1019669/1019669 [00:00<00:00, 1022409.85it/s]\n",
      " 16%|█▌        | 164069/1019669 [00:00<00:00, 1640523.38it/s]"
     ]
    },
    {
     "name": "stdout",
     "output_type": "stream",
     "text": [
      "library: {'version', 'name'}\n"
     ]
    },
    {
     "name": "stderr",
     "output_type": "stream",
     "text": [
      "100%|██████████| 1019669/1019669 [00:00<00:00, 1854993.17it/s]\n",
      " 12%|█▏        | 125291/1019669 [00:00<00:00, 1252809.64it/s]"
     ]
    },
    {
     "name": "stdout",
     "output_type": "stream",
     "text": [
      "campaign: {'id', 'content', 'name', 'term', 'source', 'medium'}\n"
     ]
    },
    {
     "name": "stderr",
     "output_type": "stream",
     "text": [
      "100%|██████████| 1019669/1019669 [00:00<00:00, 1392880.89it/s]\n",
      " 17%|█▋        | 169022/1019669 [00:00<00:00, 1690048.35it/s]"
     ]
    },
    {
     "name": "stdout",
     "output_type": "stream",
     "text": [
      "userAgent: set()\n"
     ]
    },
    {
     "name": "stderr",
     "output_type": "stream",
     "text": [
      "100%|██████████| 1019669/1019669 [00:00<00:00, 1931772.68it/s]\n",
      " 20%|██        | 205179/1019669 [00:00<00:00, 2051610.97it/s]"
     ]
    },
    {
     "name": "stdout",
     "output_type": "stream",
     "text": [
      "customerId: set()\n"
     ]
    },
    {
     "name": "stderr",
     "output_type": "stream",
     "text": [
      "100%|██████████| 1019669/1019669 [00:00<00:00, 2405117.60it/s]\n",
      " 14%|█▍        | 144258/1019669 [00:00<00:00, 1442474.76it/s]"
     ]
    },
    {
     "name": "stdout",
     "output_type": "stream",
     "text": [
      "properties_userId: set()\n"
     ]
    },
    {
     "name": "stderr",
     "output_type": "stream",
     "text": [
      "100%|██████████| 1019669/1019669 [00:00<00:00, 1620323.51it/s]\n",
      " 14%|█▍        | 144147/1019669 [00:00<00:00, 1441340.79it/s]"
     ]
    },
    {
     "name": "stdout",
     "output_type": "stream",
     "text": [
      "path: set()\n"
     ]
    },
    {
     "name": "stderr",
     "output_type": "stream",
     "text": [
      "100%|██████████| 1019669/1019669 [00:00<00:00, 1609717.38it/s]\n",
      " 19%|█▊        | 189800/1019669 [00:00<00:00, 1897820.82it/s]"
     ]
    },
    {
     "name": "stdout",
     "output_type": "stream",
     "text": [
      "search: {'utm_campaign', 'utm_source', 'nameType', 'napp', '', 'pid', 'board', 'sort', 'graduate', 'placeholder', 'boardTitle', 'rank', 'category', 'utm_term', 'af_dp', 'boardId', 'utm_medium', 'type', 'keyword', 'copyable', 'merchant_uid', 'referrer', 'paymentMethod', 'utm_content', 'view', 'shortlink', 'limit', 'order', 'sort...', 'ids', 'deep_link_value', 'period', 'totalCount', 'utm_id', 'c', 'debugCustomerId', 'billingPayload', 'start', 'subOrder', 'tag', 'subtab_h', 'imp_uid', 'imp_success', 'articleId'}\n"
     ]
    },
    {
     "name": "stderr",
     "output_type": "stream",
     "text": [
      "100%|██████████| 1019669/1019669 [00:00<00:00, 2178920.08it/s]\n",
      " 16%|█▌        | 160231/1019669 [00:00<00:00, 1602040.34it/s]"
     ]
    },
    {
     "name": "stdout",
     "output_type": "stream",
     "text": [
      "url: set()\n"
     ]
    },
    {
     "name": "stderr",
     "output_type": "stream",
     "text": [
      "100%|██████████| 1019669/1019669 [00:00<00:00, 1854540.31it/s]\n",
      " 16%|█▌        | 163658/1019669 [00:00<00:00, 1636441.10it/s]"
     ]
    },
    {
     "name": "stdout",
     "output_type": "stream",
     "text": [
      "referrer: set()\n"
     ]
    },
    {
     "name": "stderr",
     "output_type": "stream",
     "text": [
      "100%|██████████| 1019669/1019669 [00:00<00:00, 1860497.45it/s]"
     ]
    },
    {
     "name": "stdout",
     "output_type": "stream",
     "text": [
      "title: set()\n"
     ]
    },
    {
     "name": "stderr",
     "output_type": "stream",
     "text": [
      "\n"
     ]
    }
   ],
   "source": [
    "for col in df.columns:\n",
    "    try:\n",
    "        key = dict_to_set(col,df)\n",
    "        print(f'{col}:',key)\n",
    "    except:\n",
    "        print(col,'downdown')"
   ]
  },
  {
   "cell_type": "markdown",
   "id": "324affe7",
   "metadata": {},
   "source": [
    "### 검사 결과 page, library,campaign,search 총 4개 만 dict 존재"
   ]
  },
  {
   "cell_type": "markdown",
   "id": "6a724b1b",
   "metadata": {},
   "source": [
    "# context_page 컬럼\n",
    "- path는 중요한 지표\n",
    "- productid를 확인할 수 있는 중요한 지표이다.\n",
    "- properties와 context_page는 search라는 하위 key를 가짐\n",
    "- 따라서 둘을 비교"
   ]
  },
  {
   "cell_type": "code",
   "execution_count": 21,
   "id": "490ec522",
   "metadata": {},
   "outputs": [
    {
     "name": "stderr",
     "output_type": "stream",
     "text": [
      "100%|██████████| 1019669/1019669 [00:01<00:00, 865445.74it/s]\n",
      "100%|██████████| 1019669/1019669 [00:00<00:00, 1333602.88it/s]\n",
      "100%|██████████| 1019669/1019669 [00:01<00:00, 893861.28it/s]\n"
     ]
    }
   ],
   "source": [
    "context_properites_df = df[['context','properties']]\n",
    "context_properites_df = dict_to_column(['context','properties'], context_properites_df)\n",
    "df_context_page = context_properites_df[['page']]\n",
    "df_context_page = dict_to_column(['page'],df_context_page)"
   ]
  },
  {
   "cell_type": "code",
   "execution_count": 239,
   "id": "95ed9697",
   "metadata": {
    "scrolled": true
   },
   "outputs": [
    {
     "data": {
      "text/plain": [
       "(398518, 863583)"
      ]
     },
     "execution_count": 239,
     "metadata": {},
     "output_type": "execute_result"
    }
   ],
   "source": [
    "# search\n",
    "# context_page_search 와 properites search 비교\n",
    "\n",
    "new_search = df_context_page['search'].apply(lambda x: None if x =={} else x)\n",
    "origin_search = context_properites_df['search'].apply(lambda x: None if x =={} else x)\n",
    "df_context_page['search'].apply(lambda x: None if x =={} else x).isna().sum(), context_properites_df['search'].apply(lambda x: None if x =={} else x).isna().sum()\n"
   ]
  },
  {
   "cell_type": "code",
   "execution_count": 247,
   "id": "d4391be1",
   "metadata": {},
   "outputs": [
    {
     "data": {
      "text/plain": [
       "44"
      ]
     },
     "execution_count": 247,
     "metadata": {},
     "output_type": "execute_result"
    }
   ],
   "source": [
    "# properites_search의 키들 확인\n",
    "properites_search_key_set = set()\n",
    "search_df = context_properites_df['search'].apply(lambda x: None if x =={} else x)\n",
    "for i in search_df:\n",
    "    if isinstance(i,dict):\n",
    "        properites_search_key_set |= set(i.keys())\n",
    "len(properites_search_key_set)"
   ]
  },
  {
   "cell_type": "code",
   "execution_count": 248,
   "id": "40a9cf45",
   "metadata": {},
   "outputs": [
    {
     "data": {
      "text/plain": [
       "44"
      ]
     },
     "execution_count": 248,
     "metadata": {},
     "output_type": "execute_result"
    }
   ],
   "source": [
    "# context_page_search 키들 확인\n",
    "context_page_search_key_set = set()\n",
    "search_df_origin = df_context_page['search'].apply(lambda x: None if x =={} else x)\n",
    "for i in search_df_origin:\n",
    "    if isinstance(i,dict):\n",
    "        context_page_search_key_set |= set(i.keys())\n",
    "len(context_page_search_key_set)        "
   ]
  },
  {
   "cell_type": "code",
   "execution_count": 252,
   "id": "cceb8ebd",
   "metadata": {},
   "outputs": [
    {
     "data": {
      "text/plain": [
       "(set(), set())"
      ]
     },
     "execution_count": 252,
     "metadata": {},
     "output_type": "execute_result"
    }
   ],
   "source": [
    "# context_page_search와 properties_search는 key는 동일\n",
    "context_page_search_key_set-properites_search_key_set, properites_search_key_set-context_page_search_key_set"
   ]
  },
  {
   "cell_type": "code",
   "execution_count": 255,
   "id": "123cc59e",
   "metadata": {},
   "outputs": [
    {
     "data": {
      "text/plain": [
       "(12641, 0)"
      ]
     },
     "execution_count": 255,
     "metadata": {},
     "output_type": "execute_result"
    }
   ],
   "source": [
    "# 두개 컬럼의 search unique 값들 확인 및 비교\n",
    "new_search_str = new_search.apply(lambda x : None if x==None else str(x))\n",
    "origin_search_str = origin_search.apply(lambda x : None if x==None else str(x))\n",
    "\n",
    "# ne_search_str 더 많이 값들이 있는 것 확인\n",
    "len(set(new_search_str[~new_search_str.isna()]) - set(origin_search_str[~origin_search_str.isna()])),\\\n",
    "len(set(origin_search_str[~origin_search_str.isna()]) - set(new_search_str[~new_search_str.isna()]))"
   ]
  },
  {
   "cell_type": "markdown",
   "id": "db00cea2",
   "metadata": {},
   "source": [
    "## referrer 비교\n",
    "- context_page_referrer과 properties_referrer 비교\n",
    "- context_page 에 있는 것이 더 적다\n",
    "- context_page_referrer 쓰자"
   ]
  },
  {
   "cell_type": "code",
   "execution_count": 256,
   "id": "5637d4f4",
   "metadata": {},
   "outputs": [
    {
     "data": {
      "text/plain": [
       "(15587, 15556)"
      ]
     },
     "execution_count": 256,
     "metadata": {},
     "output_type": "execute_result"
    }
   ],
   "source": [
    "# referrer\n",
    "len(df_context_page.path.unique()),len(context_properites_df.path.unique())"
   ]
  },
  {
   "cell_type": "code",
   "execution_count": 257,
   "id": "69c1dbd5",
   "metadata": {},
   "outputs": [
    {
     "data": {
      "text/plain": [
       "(0, 465065)"
      ]
     },
     "execution_count": 257,
     "metadata": {},
     "output_type": "execute_result"
    }
   ],
   "source": [
    "df_context_page.referrer.isna().sum(), context_properites_df.referrer.isna().sum()"
   ]
  },
  {
   "cell_type": "markdown",
   "id": "91575afa",
   "metadata": {},
   "source": [
    "## path 비교\n",
    "- context_page_path 와 properties_path 비교\n",
    "- properties path가 none 값이 많음\n",
    "- context path 쓰자"
   ]
  },
  {
   "cell_type": "code",
   "execution_count": 258,
   "id": "7bdfd6a9",
   "metadata": {},
   "outputs": [
    {
     "data": {
      "text/plain": [
       "(15587, 15556)"
      ]
     },
     "execution_count": 258,
     "metadata": {},
     "output_type": "execute_result"
    }
   ],
   "source": [
    "# path\n",
    "len(df_context_page.path.unique()),len(context_properites_df.path.unique())"
   ]
  },
  {
   "cell_type": "code",
   "execution_count": 259,
   "id": "8f6fff27",
   "metadata": {},
   "outputs": [
    {
     "data": {
      "text/plain": [
       "(0, 465065)"
      ]
     },
     "execution_count": 259,
     "metadata": {},
     "output_type": "execute_result"
    }
   ],
   "source": [
    "df_context_page.path.isna().sum(),context_properites_df.path.isna().sum()"
   ]
  },
  {
   "cell_type": "markdown",
   "id": "ba76b2f8",
   "metadata": {},
   "source": [
    "## title\n",
    "- context_page_title 와 properties_path 비교\n",
    "- 일단 값 자체가 추천에 의미있는 값들이 아님\n",
    "- title 컬럼은 전처리 진행하자"
   ]
  },
  {
   "cell_type": "code",
   "execution_count": 265,
   "id": "2221758c",
   "metadata": {},
   "outputs": [
    {
     "data": {
      "text/plain": [
       "메디스트림 | Medistream         933829\n",
       "(1) 메디스트림 | Medistream      33131\n",
       "(2) 메디스트림 | Medistream      14681\n",
       "(3) 메디스트림 | Medistream       6603\n",
       "(13) 메디스트림 | Medistream      4464\n",
       "Name: title, dtype: int64"
      ]
     },
     "execution_count": 265,
     "metadata": {},
     "output_type": "execute_result"
    }
   ],
   "source": [
    "# context_page title 값 확인해보기\n",
    "df_context_page.title.value_counts().head()"
   ]
  },
  {
   "cell_type": "code",
   "execution_count": 264,
   "id": "dfc5a9fc",
   "metadata": {},
   "outputs": [
    {
     "data": {
      "text/plain": [
       "메디스트림 | Medistream         511735\n",
       "(1) 메디스트림 | Medistream      16552\n",
       "(2) 메디스트림 | Medistream       7331\n",
       "(3) 메디스트림 | Medistream       3299\n",
       "(13) 메디스트림 | Medistream      2233\n",
       "Name: title, dtype: int64"
      ]
     },
     "execution_count": 264,
     "metadata": {},
     "output_type": "execute_result"
    }
   ],
   "source": [
    "# properties title 값 확인해보기\n",
    "context_properites_df.title.value_counts().head()"
   ]
  },
  {
   "cell_type": "code",
   "execution_count": 260,
   "id": "4877c384",
   "metadata": {},
   "outputs": [
    {
     "data": {
      "text/plain": [
       "(168, 169)"
      ]
     },
     "execution_count": 260,
     "metadata": {},
     "output_type": "execute_result"
    }
   ],
   "source": [
    "# title\n",
    "# none 때문에 하나 더 있음\n",
    "len(df_context_page.title.unique()),len(context_properites_df.title.unique())"
   ]
  },
  {
   "cell_type": "code",
   "execution_count": 54,
   "id": "8eb49088",
   "metadata": {},
   "outputs": [
    {
     "data": {
      "text/plain": [
       "(0, 465065)"
      ]
     },
     "execution_count": 54,
     "metadata": {},
     "output_type": "execute_result"
    }
   ],
   "source": [
    "df1.title.isna().sum(),df.title.isna().sum()"
   ]
  },
  {
   "cell_type": "markdown",
   "id": "b266a55c",
   "metadata": {},
   "source": [
    "## url\n",
    "- context_page_url 와 properties_url 비교\n",
    "- properties url 은 none 매우 많음\n",
    "- context_page url을 스자\n",
    "- path와 용도가 겹치지만 일단 분석해보자"
   ]
  },
  {
   "cell_type": "code",
   "execution_count": 266,
   "id": "495f9505",
   "metadata": {},
   "outputs": [
    {
     "data": {
      "text/plain": [
       "(76716, 60386)"
      ]
     },
     "execution_count": 266,
     "metadata": {},
     "output_type": "execute_result"
    }
   ],
   "source": [
    "# url\n",
    "len(df_context_page.url.unique()),len(context_properites_df.url.unique())"
   ]
  },
  {
   "cell_type": "code",
   "execution_count": 267,
   "id": "e6d100a9",
   "metadata": {
    "scrolled": true
   },
   "outputs": [
    {
     "data": {
      "text/plain": [
       "(0, 929788)"
      ]
     },
     "execution_count": 267,
     "metadata": {},
     "output_type": "execute_result"
    }
   ],
   "source": [
    "df_context_page.url.isna().sum(),context_properites_df.url.isna().sum()"
   ]
  },
  {
   "cell_type": "markdown",
   "id": "f1d74116",
   "metadata": {},
   "source": [
    "# product ids 확인할 수 있는 컬럼 확인(context)\n",
    "- path, url, referrer 에서 product ids 확인 가능\n",
    "- path가 가장 유의미하게 확인 가능하였음\n",
    "- 개수가 다른 이유는 메디스트림 메인페이지 주소로 찍히는 결측치들이 존재하였음"
   ]
  },
  {
   "cell_type": "code",
   "execution_count": 17,
   "id": "7d7c4d18",
   "metadata": {},
   "outputs": [],
   "source": [
    "# 제일 잘팔린 products 3개월 \n",
    "products = ['5ff2d56f5ae455001b219ae2','60d018b7d26af90681b18980','6226b268f967570023fa9ea3','60236e092c593a001ace9ffa','6153c87c4cf9a5002287c4a6']"
   ]
  },
  {
   "cell_type": "code",
   "execution_count": 23,
   "id": "72ba0a34",
   "metadata": {},
   "outputs": [
    {
     "data": {
      "text/plain": [
       "38"
      ]
     },
     "execution_count": 23,
     "metadata": {},
     "output_type": "execute_result"
    }
   ],
   "source": [
    "# path, url, referrer 에서 product ids 확인 가능\n",
    "len(df_context_page.path[df_context_page.path.str.contains('60d018b7d26af90681b18980')])"
   ]
  },
  {
   "cell_type": "code",
   "execution_count": 24,
   "id": "bd33308c",
   "metadata": {},
   "outputs": [
    {
     "data": {
      "text/plain": [
       "20"
      ]
     },
     "execution_count": 24,
     "metadata": {},
     "output_type": "execute_result"
    }
   ],
   "source": [
    "# url\n",
    "len(df_context_page.url[df_context_page.url.str.contains('60d018b7d26af90681b18980')])"
   ]
  },
  {
   "cell_type": "code",
   "execution_count": 25,
   "id": "a630368e",
   "metadata": {},
   "outputs": [
    {
     "data": {
      "text/plain": [
       "0"
      ]
     },
     "execution_count": 25,
     "metadata": {},
     "output_type": "execute_result"
    }
   ],
   "source": [
    "# referrer\n",
    "len(df_context_page.referrer[df_context_page.referrer.str.contains('60d018b7d26af90681b18980')])"
   ]
  },
  {
   "cell_type": "markdown",
   "id": "dff677b4",
   "metadata": {},
   "source": [
    "# 결론, context_page 컬럼들과 properties 컬럼 비교\n",
    "- properites 는 none 값이 너무많음\n",
    "- context_page 안 컬럼들에 정보가 다들어있고 더 많음\n",
    "- properties는 쓸만한 정보들은 context에 들어있고 이를 사용하자"
   ]
  },
  {
   "cell_type": "code",
   "execution_count": 268,
   "id": "da4e03c3",
   "metadata": {
    "scrolled": true
   },
   "outputs": [
    {
     "data": {
      "text/plain": [
       "url         0\n",
       "path        0\n",
       "referrer    0\n",
       "title       0\n",
       "search      0\n",
       "dtype: int64"
      ]
     },
     "metadata": {},
     "output_type": "display_data"
    },
    {
     "data": {
      "text/plain": [
       "path        465065\n",
       "url         929788\n",
       "search      465065\n",
       "referrer    465065\n",
       "title       465065\n",
       "dtype: int64"
      ]
     },
     "metadata": {},
     "output_type": "display_data"
    }
   ],
   "source": [
    "display(df_context_page.isna().sum())\n",
    "display(context_properites_df[['path','url','search','referrer','title']].isna().sum())"
   ]
  },
  {
   "cell_type": "markdown",
   "id": "55544500",
   "metadata": {},
   "source": [
    "# context page 외 나머지 컬럼 분석\n",
    "- library, campaign, locale, ip, userAgent"
   ]
  },
  {
   "cell_type": "code",
   "execution_count": 3,
   "id": "752a94d0",
   "metadata": {
    "scrolled": false
   },
   "outputs": [
    {
     "name": "stderr",
     "output_type": "stream",
     "text": [
      "100%|██████████| 1019669/1019669 [00:01<00:00, 877365.20it/s]\n",
      "/home/user_3/medistream-recsys/Script/preprocessing.py:53: SettingWithCopyWarning: \n",
      "A value is trying to be set on a copy of a slice from a DataFrame.\n",
      "Try using .loc[row_indexer,col_indexer] = value instead\n",
      "\n",
      "See the caveats in the documentation: https://pandas.pydata.org/pandas-docs/stable/user_guide/indexing.html#returning-a-view-versus-a-copy\n",
      "  df[key] = df[column].apply(lambda x: x.get(key, None) if isinstance(x, dict) else None if x==None\n"
     ]
    }
   ],
   "source": [
    "# 분석위해 data reload\n",
    "context_df = df[['context']]\n",
    "context_all_df =  dict_to_column(['context'] ,context_df)"
   ]
  },
  {
   "cell_type": "markdown",
   "id": "e91c45a6",
   "metadata": {},
   "source": [
    "# context_library_version\n",
    "- 의미없음 모두 지우자\n",
    "- 분석하거나 추천 도움될만한 데이터가 아님\n",
    "- 전처리 진행"
   ]
  },
  {
   "cell_type": "code",
   "execution_count": 6,
   "id": "141fcd83",
   "metadata": {},
   "outputs": [
    {
     "name": "stderr",
     "output_type": "stream",
     "text": [
      "100%|██████████| 1019669/1019669 [00:01<00:00, 1000779.87it/s]\n"
     ]
    }
   ],
   "source": [
    "context_library_df = dict_to_column(['library'], context_all_df)"
   ]
  },
  {
   "cell_type": "code",
   "execution_count": 281,
   "id": "f0527cff",
   "metadata": {},
   "outputs": [
    {
     "data": {
      "text/plain": [
       "next-1.41.0    388226\n",
       "next-1.37.0    233715\n",
       "next-1.39.1    167033\n",
       "next-1.38.0     97618\n",
       "next-1.43.0     83529\n",
       "Name: version, dtype: int64"
      ]
     },
     "execution_count": 281,
     "metadata": {},
     "output_type": "execute_result"
    }
   ],
   "source": [
    "context_library_df['version'].value_counts().head()"
   ]
  },
  {
   "cell_type": "markdown",
   "id": "5ca3ac64",
   "metadata": {},
   "source": [
    "# context_library_name\n",
    "- 값이 하나밖에 없음\n",
    "- 전처리 진행"
   ]
  },
  {
   "cell_type": "code",
   "execution_count": 283,
   "id": "f33c8f7b",
   "metadata": {},
   "outputs": [
    {
     "data": {
      "text/plain": [
       "analytics.js    1019669\n",
       "Name: name, dtype: int64"
      ]
     },
     "execution_count": 283,
     "metadata": {},
     "output_type": "execute_result"
    }
   ],
   "source": [
    "context_library_df['name'].value_counts().head()"
   ]
  },
  {
   "cell_type": "markdown",
   "id": "b94b1e4f",
   "metadata": {},
   "source": [
    "# context_campaign 분석\n",
    "- campaign 안 컬럼들 분석"
   ]
  },
  {
   "cell_type": "code",
   "execution_count": 10,
   "id": "443947e5",
   "metadata": {},
   "outputs": [
    {
     "data": {
      "text/plain": [
       "{'content', 'id', 'medium', 'name', 'source', 'term'}"
      ]
     },
     "execution_count": 10,
     "metadata": {},
     "output_type": "execute_result"
    }
   ],
   "source": [
    "context_campaign_key_set = set()\n",
    "for i in context_all_df.campaign:\n",
    "    if isinstance(i,dict):\n",
    "        context_campaign_key_set |= set(i.keys())\n",
    "context_campaign_key_set"
   ]
  },
  {
   "cell_type": "code",
   "execution_count": 4,
   "id": "e3d6688b",
   "metadata": {},
   "outputs": [
    {
     "name": "stderr",
     "output_type": "stream",
     "text": [
      "100%|██████████| 1019669/1019669 [00:00<00:00, 1736249.83it/s]\n"
     ]
    }
   ],
   "source": [
    "# campaign 컬럼들 \n",
    "context_campaign_df = dict_to_column(['campaign'], context_all_df)"
   ]
  },
  {
   "cell_type": "markdown",
   "id": "f939bfbf",
   "metadata": {},
   "source": [
    "# context_campaign 분석\n",
    "- loop 로 value_counts를 통해 의미있는 컬럼들인지 분석해보자\n",
    "- na 값이 많아서 전처리 해야될 듯"
   ]
  },
  {
   "cell_type": "code",
   "execution_count": 12,
   "id": "272061a6",
   "metadata": {},
   "outputs": [],
   "source": [
    "context_campaign_all_df = context_campaign_df[list(context_campaign_key_set)]"
   ]
  },
  {
   "cell_type": "code",
   "execution_count": 13,
   "id": "59bd5e69",
   "metadata": {
    "scrolled": true
   },
   "outputs": [
    {
     "name": "stdout",
     "output_type": "stream",
     "text": [
      "kakaotalk    21129\n",
      "Name: source, dtype: int64\n",
      "01GBW6JC74C6XQ3B0V4SN55WR5    1\n",
      "Name: id, dtype: int64\n",
      "최저가로 협상해왔습니다. 한의사를 위한 초음파, 아큐비즈 공동구매 시작합니다.                  236\n",
      "구매 목록 보기                                                     217\n",
      "한의사로 살면서 없애야 할 생각                                            217\n",
      "한의사랑 대기업비교.\\r                                                186\n",
      "절판되었던 인기 도서, 이제 만나보실 수 있습니다. <비만문답> 등 가온해미디어 도서 2종 할인 판매.    159\n",
      "                                                            ... \n",
      "다음 카페 인기글 순위에 올라온 전문직 소득\\r                                     1\n",
      "Medistream 허리 진단, 검진 2편 - 척추관 협착증                              1\n",
      "장마철 고영희씨와 파전 어떠신지?                                             1\n",
      "선배님들 국시공부가 그렇게 도움이 안되는 공부인가요?                                  1\n",
      "SLAP, 어떻게 진단할 수 있을까요?                                          1\n",
      "Name: term, Length: 1224, dtype: int64\n",
      "sat_14       3395\n",
      "mon_14       2662\n",
      "tue_14       2485\n",
      "thu_14       2258\n",
      "wed_14       2086\n",
      "fri_14       2054\n",
      "mon_17        808\n",
      "fri_09        778\n",
      "fri_17        768\n",
      "wed_09        640\n",
      "mon_09        609\n",
      "tue_17        532\n",
      "thu_17        497\n",
      "thu_09        348\n",
      "wed_17        345\n",
      "tue_09        278\n",
      "ecp           225\n",
      "push          216\n",
      "web_alarm     126\n",
      "promotion     102\n",
      "sat_09         24\n",
      "Helpme          9\n",
      "always          7\n",
      "단톡방 공지          3\n",
      "share           1\n",
      "Name: name, dtype: int64\n",
      "KMDForest                                 8325\n",
      "KMSForest                                 4887\n",
      "AlarmForest                               2924\n",
      "market                                    1018\n",
      "SeriesForest                               985\n",
      "ClinicContents                             839\n",
      "class                                      782\n",
      "MeetUp                                     235\n",
      "ShoppingList                               228\n",
      "AndroMedi                                  183\n",
      "medi-market.order-status.request-close     155\n",
      "Job                                        141\n",
      "KMJForest                                  129\n",
      "Announcement                                85\n",
      "community-user-subscription                 75\n",
      "job                                         73\n",
      "KMUForest                                   60\n",
      "community-board                             60\n",
      "ClinicForest                                54\n",
      "community-article-like                      25\n",
      "medi-market.point.issued                    22\n",
      "ManagementContents                          15\n",
      "click                                        9\n",
      "mediorganic                                  6\n",
      "community-keyword-notification               5\n",
      "education                                    4\n",
      "gongji                                       3\n",
      "Name: medium, dtype: int64\n",
      "hanisa     15048\n",
      "all         4564\n",
      "student     1189\n",
      "Helpme         9\n",
      "dantalk        3\n",
      "Name: content, dtype: int64\n"
     ]
    }
   ],
   "source": [
    "for col in context_campaign_all_df.columns:\n",
    "    print(context_campaign_all_df[col].value_counts())"
   ]
  },
  {
   "cell_type": "markdown",
   "id": "511ed571",
   "metadata": {},
   "source": [
    "# context_locale 분석\n",
    "\n",
    "- 있어야됨 한국 유저 대상으로 만 진행해야 일반화 쉬울 듯"
   ]
  },
  {
   "cell_type": "code",
   "execution_count": 130,
   "id": "9b19cb5e",
   "metadata": {},
   "outputs": [
    {
     "data": {
      "text/plain": [
       "ko-KR    868342\n",
       "ko       132048\n",
       "ko-kr     17809\n",
       "en-US       942\n",
       "en-CA       490\n",
       "en-PH        19\n",
       "en-us        10\n",
       "en-GB         4\n",
       "ja-JP         3\n",
       "es-ES         2\n",
       "Name: locale, dtype: int64"
      ]
     },
     "execution_count": 130,
     "metadata": {},
     "output_type": "execute_result"
    }
   ],
   "source": [
    "context_all_df.locale.value_counts()"
   ]
  },
  {
   "cell_type": "markdown",
   "id": "b69b5528",
   "metadata": {},
   "source": [
    "# context_ip 분석\n",
    "\n",
    "- 있어야할 할듯 특정 트레픽으로만 많이 발생하면 문제라고 판단해야할듯"
   ]
  },
  {
   "cell_type": "code",
   "execution_count": 134,
   "id": "585ac639",
   "metadata": {},
   "outputs": [
    {
     "data": {
      "text/plain": [
       "61.253.178.119     18677\n",
       "110.8.170.95       17184\n",
       "220.87.56.106      13381\n",
       "211.216.221.207    12096\n",
       "121.143.67.140     11919\n",
       "                   ...  \n",
       "118.235.33.101         1\n",
       "106.102.128.7          1\n",
       "118.235.5.245          1\n",
       "223.38.36.186          1\n",
       "211.234.180.1          1\n",
       "Name: ip, Length: 13940, dtype: int64"
      ]
     },
     "execution_count": 134,
     "metadata": {},
     "output_type": "execute_result"
    }
   ],
   "source": [
    "context_all_df.ip.value_counts()"
   ]
  },
  {
   "cell_type": "code",
   "execution_count": 135,
   "id": "00160431",
   "metadata": {},
   "outputs": [
    {
     "data": {
      "text/plain": [
       "13940"
      ]
     },
     "execution_count": 135,
     "metadata": {},
     "output_type": "execute_result"
    }
   ],
   "source": [
    "len(context_all_df.ip.unique())"
   ]
  },
  {
   "cell_type": "markdown",
   "id": "0f6daa24",
   "metadata": {},
   "source": [
    "# context_useragent 분석\n",
    "\n",
    "- 모바일 pc 분석 가능함\n",
    "- 디바이스 종류는 추천에 있어서 중요한 요인이라고 생각"
   ]
  },
  {
   "cell_type": "code",
   "execution_count": 143,
   "id": "2b8fd99b",
   "metadata": {},
   "outputs": [
    {
     "data": {
      "text/plain": [
       "Mozilla/5.0 (Windows NT 10.0; Win64; x64) AppleWebKit/537.36 (KHTML, like Gecko) Chrome/103.0.0.0 Safari/537.36                                                                                                 61317\n",
       "Mozilla/5.0 (iPhone; CPU iPhone OS 15_5 like Mac OS X) AppleWebKit/605.1.15 (KHTML, like Gecko) Version/15.5 Mobile/15E148 Safari/604.1                                                                         54355\n",
       "Mozilla/5.0 (Windows NT 10.0; Win64; x64) AppleWebKit/537.36 (KHTML, like Gecko) Chrome/104.0.0.0 Safari/537.36                                                                                                 37197\n",
       "Mozilla/5.0 (Windows NT 10.0; Win64; x64) AppleWebKit/537.36 (KHTML, like Gecko) Chrome/102.0.0.0 Safari/537.36                                                                                                 27679\n",
       "Mozilla/5.0 (iPhone; CPU iPhone OS 15_5 like Mac OS X) AppleWebKit/605.1.15 (KHTML, like Gecko) Mobile/15E148 Medistream/True MediAppVersion/1.2.0                                                              21812\n",
       "                                                                                                                                                                                                                ...  \n",
       "Mozilla/5.0 (Linux; Android 12; SAMSUNG SM-G970N) AppleWebKit/537.36 (KHTML, like Gecko) SamsungBrowser/18.0 Chrome/99.0.4844.88 Mobile Safari/537.36                                                               1\n",
       "Mozilla/5.0 (Linux; Android 11; LM-Q920N Build/RKQ1.210106.002; wv) AppleWebKit/537.36 (KHTML, like Gecko) Version/4.0 Chrome/102.0.5005.125 Mobile Safari/537.36;KAKAOTALK 2409800                                 1\n",
       "Unknown Medistream/True MediAppVersion/1.1.2 Safearea/25                                                                                                                                                            1\n",
       "Unknown Medistream/True MediAppVersion/1.1.2 Safearea/47                                                                                                                                                            1\n",
       "Mozilla/5.0 (Linux; Android 12; SM-G991N Build/SP1A.210812.016; wv) AppleWebKit/537.36 (KHTML, like Gecko) Version/4.0 Chrome/101.0.4951.61 Mobile Safari/537.36 Medistream/True MediAppVersion/ Safearea/26        1\n",
       "Name: userAgent, Length: 2948, dtype: int64"
      ]
     },
     "execution_count": 143,
     "metadata": {},
     "output_type": "execute_result"
    }
   ],
   "source": [
    "df.userAgent.value_counts()"
   ]
  },
  {
   "cell_type": "markdown",
   "id": "4b497c8b",
   "metadata": {},
   "source": [
    "# 2. 컬럼별 분석은 끝\n",
    "- 이후 none 값 채우기 위한 전처리 및 최종 데이터프레임 만들기"
   ]
  },
  {
   "cell_type": "markdown",
   "id": "23c1482e",
   "metadata": {},
   "source": [
    "# 최종 컬럼"
   ]
  },
  {
   "cell_type": "markdown",
   "id": "e8c98cd0",
   "metadata": {},
   "source": [
    "    |--originalTimestamp O\n",
    "    |--type O\n",
    "    |--userId O\n",
    "    |--name O\n",
    "    |-- context\n",
    "        |-- campaign\n",
    "        |   |-- term o (컨텐츠 제목 같음 이상한컨텐츠 드롭하자)\n",
    "        |   |-- name O (알림메세지 유입 나타냄)\n",
    "        |   |-- medium O (콘텐츠 카테고리 같음)    \n",
    "        |              \n",
    "        |-- locale O\n",
    "        |-- page \n",
    "        |   |-- path O \n",
    "        |   |-- url O \n",
    "        |              \n",
    "        |-- userAgent  O (모바일, 컴퓨터 확인 가능)\n",
    "    |-- traits \n",
    "        |-- customerId O"
   ]
  },
  {
   "cell_type": "code",
   "execution_count": 148,
   "id": "b3440e30",
   "metadata": {},
   "outputs": [
    {
     "name": "stderr",
     "output_type": "stream",
     "text": [
      "100%|██████████| 1019669/1019669 [00:00<00:00, 1688411.39it/s]\n",
      "100%|██████████| 1019669/1019669 [00:01<00:00, 870920.92it/s]\n",
      "100%|██████████| 1019669/1019669 [00:01<00:00, 865583.94it/s]\n",
      "100%|██████████| 1019669/1019669 [00:00<00:00, 1810645.91it/s]\n"
     ]
    }
   ],
   "source": [
    "df = pd.read_json('/fastcampus-data/log-data/log_sampling.json')\n",
    "# 최종 컬럼\n",
    "final_columns = ['originalTimestamp','type','userId','name','context','traits']\n",
    "# 최종 데이터프레임 만들기\n",
    "df_final_column = df[final_columns]\n",
    "final_log = key_to_element(['traits'],df_final_column)\n",
    "final_log = dict_to_column(['context','page'], final_log)\n",
    "final_all_dict_log = dict_to_column(['campaign'], final_log)"
   ]
  },
  {
   "cell_type": "code",
   "execution_count": 156,
   "id": "be37515c",
   "metadata": {},
   "outputs": [],
   "source": [
    "df_final_all_before_rename = final_all_dict_log[['originalTimestamp','type','userId','name','traits','locale','userAgent','url','path','term','medium','campaign_name']]\n",
    "df_final_all_after_rename = df_final_all_before_rename.rename(columns={'traits':'customerId'})"
   ]
  },
  {
   "cell_type": "markdown",
   "id": "3cd89b48",
   "metadata": {},
   "source": [
    "# userId 와 customerId 비교 분석"
   ]
  },
  {
   "cell_type": "code",
   "execution_count": 272,
   "id": "de8679c3",
   "metadata": {},
   "outputs": [],
   "source": [
    "df_user_customer = df[['userId','customerId']].copy()"
   ]
  },
  {
   "cell_type": "code",
   "execution_count": 273,
   "id": "2978bd9f",
   "metadata": {},
   "outputs": [],
   "source": [
    "# 딕셔너리 리스트에 두개이상 값이 담기는경우('') 없애기\n",
    "df_user_customer.customerId = df_user_customer.customerId.apply(lambda x: None if x == '' else x)"
   ]
  },
  {
   "cell_type": "code",
   "execution_count": 274,
   "id": "2f12af93",
   "metadata": {},
   "outputs": [
    {
     "data": {
      "text/plain": [
       "(1054, 0)"
      ]
     },
     "execution_count": 274,
     "metadata": {},
     "output_type": "execute_result"
    }
   ],
   "source": [
    "# userId\n",
    "# 전부 값이 채워져 있음\"\n",
    " \n",
    "len(df_user_customer.userId.unique()), df_user_customer.userId.isna().sum()"
   ]
  },
  {
   "cell_type": "code",
   "execution_count": 275,
   "id": "5493eb26",
   "metadata": {},
   "outputs": [
    {
     "data": {
      "text/plain": [
       "(862, 556793)"
      ]
     },
     "execution_count": 275,
     "metadata": {},
     "output_type": "execute_result"
    }
   ],
   "source": [
    "# customerId\n",
    "# Nan 값이 너무 많음 \n",
    "len(df_user_customer.customerId.unique()), df_user_customer.customerId.isna().sum()"
   ]
  },
  {
   "cell_type": "code",
   "execution_count": 276,
   "id": "db737d6f",
   "metadata": {
    "scrolled": false
   },
   "outputs": [
    {
     "data": {
      "text/plain": [
       "0                              None\n",
       "1                              None\n",
       "2                              None\n",
       "3                              None\n",
       "4                              None\n",
       "                     ...           \n",
       "1019664    5d6fd2b219efa30eb29141b6\n",
       "1019665                        None\n",
       "1019666                        None\n",
       "1019667                        None\n",
       "1019668    5d610ff44e77525ec5ca151a\n",
       "Name: customerId, Length: 1019668, dtype: object"
      ]
     },
     "execution_count": 276,
     "metadata": {},
     "output_type": "execute_result"
    }
   ],
   "source": [
    "# userId로 customerId 맵핑 가능한지 확인하기 \n",
    "# nan 값 있는 것 확인함\n",
    "df_customer_none_na = df_user_customer[df_user_customer.customerId.isna()]\n",
    "df_user_customer[df_user_customer.userId.isin(df_customer_none_na.userId)].customerId"
   ]
  },
  {
   "cell_type": "code",
   "execution_count": 247,
   "id": "db3f4ec9",
   "metadata": {},
   "outputs": [],
   "source": [
    "#userid 에 1대1 매칭 되도록 만들기 그리고 확인\n",
    "userId_dict = { i:[] for i in df.userId}\n",
    "for row in df.itertuples():\n",
    "    if isinstance(row.customerId,str):\n",
    "        if row.customerId not in (list(userId_dict[row.userId])):\n",
    "            userId_dict[row.userId].append(row.customerId)"
   ]
  },
  {
   "cell_type": "code",
   "execution_count": 248,
   "id": "13dd3a70",
   "metadata": {},
   "outputs": [],
   "source": [
    "\n",
    "# 두개 이상 들어간 customer 확인\n",
    "for i in userId_dict.values():\n",
    "    if len(i)>1:\n",
    "        print(i)"
   ]
  },
  {
   "cell_type": "code",
   "execution_count": 263,
   "id": "664b72a8",
   "metadata": {
    "scrolled": true
   },
   "outputs": [
    {
     "ename": "KeyboardInterrupt",
     "evalue": "",
     "output_type": "error",
     "traceback": [
      "\u001b[0;31m---------------------------------------------------------------------------\u001b[0m",
      "\u001b[0;31mKeyboardInterrupt\u001b[0m                         Traceback (most recent call last)",
      "\u001b[0;32m<ipython-input-263-5350d3df9ffa>\u001b[0m in \u001b[0;36m<module>\u001b[0;34m\u001b[0m\n\u001b[1;32m      2\u001b[0m     \u001b[0;32mif\u001b[0m \u001b[0mrow\u001b[0m\u001b[0;34m.\u001b[0m\u001b[0mcustomerId\u001b[0m \u001b[0;34m==\u001b[0m \u001b[0;32mNone\u001b[0m\u001b[0;34m:\u001b[0m\u001b[0;34m\u001b[0m\u001b[0;34m\u001b[0m\u001b[0m\n\u001b[1;32m      3\u001b[0m         \u001b[0;32mif\u001b[0m \u001b[0mlen\u001b[0m\u001b[0;34m(\u001b[0m\u001b[0muserId_dict\u001b[0m\u001b[0;34m[\u001b[0m\u001b[0mrow\u001b[0m\u001b[0;34m.\u001b[0m\u001b[0muserId\u001b[0m\u001b[0;34m]\u001b[0m\u001b[0;34m)\u001b[0m \u001b[0;34m==\u001b[0m \u001b[0;36m1\u001b[0m\u001b[0;34m:\u001b[0m\u001b[0;34m\u001b[0m\u001b[0;34m\u001b[0m\u001b[0m\n\u001b[0;32m----> 4\u001b[0;31m             \u001b[0mdf\u001b[0m\u001b[0;34m.\u001b[0m\u001b[0mloc\u001b[0m\u001b[0;34m[\u001b[0m\u001b[0midx\u001b[0m\u001b[0;34m,\u001b[0m\u001b[0;34m'customerId'\u001b[0m\u001b[0;34m]\u001b[0m \u001b[0;34m=\u001b[0m \u001b[0muserId_dict\u001b[0m\u001b[0;34m[\u001b[0m\u001b[0mrow\u001b[0m\u001b[0;34m.\u001b[0m\u001b[0muserId\u001b[0m\u001b[0;34m]\u001b[0m\u001b[0;34m[\u001b[0m\u001b[0;36m0\u001b[0m\u001b[0;34m]\u001b[0m\u001b[0;34m\u001b[0m\u001b[0;34m\u001b[0m\u001b[0m\n\u001b[0m",
      "\u001b[0;32m~/anaconda3/lib/python3.8/site-packages/pandas/core/indexing.py\u001b[0m in \u001b[0;36m__setitem__\u001b[0;34m(self, key, value)\u001b[0m\n\u001b[1;32m    690\u001b[0m \u001b[0;34m\u001b[0m\u001b[0m\n\u001b[1;32m    691\u001b[0m         \u001b[0miloc\u001b[0m \u001b[0;34m=\u001b[0m \u001b[0mself\u001b[0m \u001b[0;32mif\u001b[0m \u001b[0mself\u001b[0m\u001b[0;34m.\u001b[0m\u001b[0mname\u001b[0m \u001b[0;34m==\u001b[0m \u001b[0;34m\"iloc\"\u001b[0m \u001b[0;32melse\u001b[0m \u001b[0mself\u001b[0m\u001b[0;34m.\u001b[0m\u001b[0mobj\u001b[0m\u001b[0;34m.\u001b[0m\u001b[0miloc\u001b[0m\u001b[0;34m\u001b[0m\u001b[0;34m\u001b[0m\u001b[0m\n\u001b[0;32m--> 692\u001b[0;31m         \u001b[0miloc\u001b[0m\u001b[0;34m.\u001b[0m\u001b[0m_setitem_with_indexer\u001b[0m\u001b[0;34m(\u001b[0m\u001b[0mindexer\u001b[0m\u001b[0;34m,\u001b[0m \u001b[0mvalue\u001b[0m\u001b[0;34m,\u001b[0m \u001b[0mself\u001b[0m\u001b[0;34m.\u001b[0m\u001b[0mname\u001b[0m\u001b[0;34m)\u001b[0m\u001b[0;34m\u001b[0m\u001b[0;34m\u001b[0m\u001b[0m\n\u001b[0m\u001b[1;32m    693\u001b[0m \u001b[0;34m\u001b[0m\u001b[0m\n\u001b[1;32m    694\u001b[0m     \u001b[0;32mdef\u001b[0m \u001b[0m_validate_key\u001b[0m\u001b[0;34m(\u001b[0m\u001b[0mself\u001b[0m\u001b[0;34m,\u001b[0m \u001b[0mkey\u001b[0m\u001b[0;34m,\u001b[0m \u001b[0maxis\u001b[0m\u001b[0;34m:\u001b[0m \u001b[0mint\u001b[0m\u001b[0;34m)\u001b[0m\u001b[0;34m:\u001b[0m\u001b[0;34m\u001b[0m\u001b[0;34m\u001b[0m\u001b[0m\n",
      "\u001b[0;32m~/anaconda3/lib/python3.8/site-packages/pandas/core/indexing.py\u001b[0m in \u001b[0;36m_setitem_with_indexer\u001b[0;34m(self, indexer, value, name)\u001b[0m\n\u001b[1;32m   1633\u001b[0m         \u001b[0;32mif\u001b[0m \u001b[0mtake_split_path\u001b[0m\u001b[0;34m:\u001b[0m\u001b[0;34m\u001b[0m\u001b[0;34m\u001b[0m\u001b[0m\n\u001b[1;32m   1634\u001b[0m             \u001b[0;31m# We have to operate column-wise\u001b[0m\u001b[0;34m\u001b[0m\u001b[0;34m\u001b[0m\u001b[0;34m\u001b[0m\u001b[0m\n\u001b[0;32m-> 1635\u001b[0;31m             \u001b[0mself\u001b[0m\u001b[0;34m.\u001b[0m\u001b[0m_setitem_with_indexer_split_path\u001b[0m\u001b[0;34m(\u001b[0m\u001b[0mindexer\u001b[0m\u001b[0;34m,\u001b[0m \u001b[0mvalue\u001b[0m\u001b[0;34m,\u001b[0m \u001b[0mname\u001b[0m\u001b[0;34m)\u001b[0m\u001b[0;34m\u001b[0m\u001b[0;34m\u001b[0m\u001b[0m\n\u001b[0m\u001b[1;32m   1636\u001b[0m         \u001b[0;32melse\u001b[0m\u001b[0;34m:\u001b[0m\u001b[0;34m\u001b[0m\u001b[0;34m\u001b[0m\u001b[0m\n\u001b[1;32m   1637\u001b[0m             \u001b[0mself\u001b[0m\u001b[0;34m.\u001b[0m\u001b[0m_setitem_single_block\u001b[0m\u001b[0;34m(\u001b[0m\u001b[0mindexer\u001b[0m\u001b[0;34m,\u001b[0m \u001b[0mvalue\u001b[0m\u001b[0;34m,\u001b[0m \u001b[0mname\u001b[0m\u001b[0;34m)\u001b[0m\u001b[0;34m\u001b[0m\u001b[0;34m\u001b[0m\u001b[0m\n",
      "\u001b[0;32m~/anaconda3/lib/python3.8/site-packages/pandas/core/indexing.py\u001b[0m in \u001b[0;36m_setitem_with_indexer_split_path\u001b[0;34m(self, indexer, value, name)\u001b[0m\n\u001b[1;32m   1718\u001b[0m             \u001b[0;31m# scalar value\u001b[0m\u001b[0;34m\u001b[0m\u001b[0;34m\u001b[0m\u001b[0;34m\u001b[0m\u001b[0m\n\u001b[1;32m   1719\u001b[0m             \u001b[0;32mfor\u001b[0m \u001b[0mloc\u001b[0m \u001b[0;32min\u001b[0m \u001b[0milocs\u001b[0m\u001b[0;34m:\u001b[0m\u001b[0;34m\u001b[0m\u001b[0;34m\u001b[0m\u001b[0m\n\u001b[0;32m-> 1720\u001b[0;31m                 \u001b[0mself\u001b[0m\u001b[0;34m.\u001b[0m\u001b[0m_setitem_single_column\u001b[0m\u001b[0;34m(\u001b[0m\u001b[0mloc\u001b[0m\u001b[0;34m,\u001b[0m \u001b[0mvalue\u001b[0m\u001b[0;34m,\u001b[0m \u001b[0mpi\u001b[0m\u001b[0;34m)\u001b[0m\u001b[0;34m\u001b[0m\u001b[0;34m\u001b[0m\u001b[0m\n\u001b[0m\u001b[1;32m   1721\u001b[0m \u001b[0;34m\u001b[0m\u001b[0m\n\u001b[1;32m   1722\u001b[0m     \u001b[0;32mdef\u001b[0m \u001b[0m_setitem_with_indexer_2d_value\u001b[0m\u001b[0;34m(\u001b[0m\u001b[0mself\u001b[0m\u001b[0;34m,\u001b[0m \u001b[0mindexer\u001b[0m\u001b[0;34m,\u001b[0m \u001b[0mvalue\u001b[0m\u001b[0;34m)\u001b[0m\u001b[0;34m:\u001b[0m\u001b[0;34m\u001b[0m\u001b[0;34m\u001b[0m\u001b[0m\n",
      "\u001b[0;31mKeyboardInterrupt\u001b[0m: "
     ]
    }
   ],
   "source": [
    "# 1대1 매칭 되면 딕셔너리 있는 cutomerid 넣기\n",
    "for idx, row in enumerate(df.itertuples()):\n",
    "    if row.customerId == None:\n",
    "        if len(userId_dict[row.userId]) == 1:\n",
    "            df.loc[idx,'customerId'] = userId_dict[row.userId][0]"
   ]
  },
  {
   "cell_type": "code",
   "execution_count": 207,
   "id": "c2901ed7",
   "metadata": {},
   "outputs": [
    {
     "data": {
      "text/plain": [
       "1019669"
      ]
     },
     "execution_count": 207,
     "metadata": {},
     "output_type": "execute_result"
    }
   ],
   "source": [
    "# 전체 데이터 수\n",
    "len(df_final_all_after_rename)"
   ]
  },
  {
   "cell_type": "code",
   "execution_count": 157,
   "id": "fde6936a",
   "metadata": {
    "scrolled": true
   },
   "outputs": [
    {
     "data": {
      "text/plain": [
       "originalTimestamp         0\n",
       "type                      0\n",
       "userId                    0\n",
       "name                 554780\n",
       "customerId           556763\n",
       "locale                    0\n",
       "userAgent                 0\n",
       "url                       0\n",
       "path                      0\n",
       "term                 998684\n",
       "medium               998342\n",
       "campaign_name        998413\n",
       "dtype: int64"
      ]
     },
     "execution_count": 157,
     "metadata": {},
     "output_type": "execute_result"
    }
   ],
   "source": [
    "df_final_all_after_rename.isna().sum()"
   ]
  },
  {
   "cell_type": "markdown",
   "id": "fc0e348c",
   "metadata": {},
   "source": [
    "## samplig log 유저와 아이템 수"
   ]
  },
  {
   "cell_type": "code",
   "execution_count": 205,
   "id": "114eaf05",
   "metadata": {
    "scrolled": true
   },
   "outputs": [
    {
     "data": {
      "text/plain": [
       "(863, 15587)"
      ]
     },
     "execution_count": 205,
     "metadata": {},
     "output_type": "execute_result"
    }
   ],
   "source": [
    "len(df_final_all_after_rename.customerId.unique()), len(df_final_all_after_rename.path.unique())"
   ]
  },
  {
   "cell_type": "markdown",
   "id": "1b87dc7c",
   "metadata": {},
   "source": [
    "# name의 productsproduct 만 아이템임\n",
    "- none name 값은 path를 통해 확인할 수 있음"
   ]
  },
  {
   "cell_type": "code",
   "execution_count": 196,
   "id": "7a421c1e",
   "metadata": {},
   "outputs": [
    {
     "data": {
      "text/plain": [
       "originalTimestamp       0\n",
       "type                    0\n",
       "userId                  0\n",
       "name                 1769\n",
       "customerId           5563\n",
       "locale                  0\n",
       "userAgent               0\n",
       "url                     0\n",
       "path                    0\n",
       "term                 7057\n",
       "medium               7057\n",
       "campaign_name        7057\n",
       "dtype: int64"
      ]
     },
     "execution_count": 196,
     "metadata": {},
     "output_type": "execute_result"
    }
   ],
   "source": [
    "df_final_all_after_rename[df_final_all_after_rename.path.str.contains('product')].isna().sum()"
   ]
  },
  {
   "cell_type": "code",
   "execution_count": 203,
   "id": "c0ff6ce7",
   "metadata": {},
   "outputs": [
    {
     "data": {
      "text/plain": [
       "42782      /products/628c5f8f9d9388002406e579\n",
       "42892      /products/5ff2d56f5ae455001b219ae2\n",
       "43047      /products/62ff2f43ca740b0024397ca4\n",
       "43084      /products/62f34a970b5b9e002b2dd52f\n",
       "43236      /products/5f51fbd9a0b91001bf48f1ec\n",
       "                          ...                \n",
       "1018732    /products/5fa35b6751203163343219bf\n",
       "1018850    /products/608b97c50ccc56001bc7cb41\n",
       "1019284    /products/620315dbceda5e0024734524\n",
       "1019317    /products/6220537ef967570023fa7d66\n",
       "1019627    /products/62fc9add0b5b9e002b2e0488\n",
       "Name: path, Length: 1769, dtype: object"
      ]
     },
     "execution_count": 203,
     "metadata": {},
     "output_type": "execute_result"
    }
   ],
   "source": [
    "a = df_final_all_after_rename[df_final_all_after_rename.path.str.contains('product')]\n",
    "a[a.name.isna()].path"
   ]
  },
  {
   "cell_type": "code",
   "execution_count": null,
   "id": "d323975a",
   "metadata": {},
   "outputs": [],
   "source": []
  }
 ],
 "metadata": {
  "kernelspec": {
   "display_name": "Python 3",
   "language": "python",
   "name": "python3"
  },
  "language_info": {
   "codemirror_mode": {
    "name": "ipython",
    "version": 3
   },
   "file_extension": ".py",
   "mimetype": "text/x-python",
   "name": "python",
   "nbconvert_exporter": "python",
   "pygments_lexer": "ipython3",
   "version": "3.8.8"
  }
 },
 "nbformat": 4,
 "nbformat_minor": 5
}
