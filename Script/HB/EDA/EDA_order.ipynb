{
 "cells": [
  {
   "cell_type": "code",
   "execution_count": 1,
   "id": "d0299e6a",
   "metadata": {},
   "outputs": [
    {
     "name": "stdout",
     "output_type": "stream",
     "text": [
      "/home/user_3/medistream-recsys/Script\n"
     ]
    }
   ],
   "source": [
    "import pandas as pd\n",
    "import numpy as np\n",
    "import matplotlib.pyplot as plt\n",
    "import seaborn as sns\n",
    "from tqdm import tqdm\n",
    "\n",
    "import scipy.sparse as sparse\n",
    "import random\n",
    "import implicit\n",
    "from implicit.als import AlternatingLeastSquares as ALS\n",
    "\n",
    "%cd /home/user_3/medistream-recsys/Script\n",
    "from preprocessing import drop_columns,dict_to_column,dict_to_set,set_to_column,key_to_element\n",
    "\n",
    "pd.set_option('display.max_rows', 1000)\n",
    "pd.set_option('display.max_columns', 100)"
   ]
  },
  {
   "cell_type": "markdown",
   "id": "6c3f5b19",
   "metadata": {},
   "source": [
    "# Dataload"
   ]
  },
  {
   "cell_type": "code",
   "execution_count": 4,
   "id": "b71f6b2e",
   "metadata": {},
   "outputs": [],
   "source": [
    "# products name 확인 용\n",
    "products_df = pd.read_json(\"/fastcampus-data/products/products.json\")\n",
    "products_df = key_to_element(['_id'],products_df)\n",
    "\n",
    "df = pd.read_json('/fastcampus-data/select_column_version_4.json')"
   ]
  },
  {
   "cell_type": "markdown",
   "id": "65044119",
   "metadata": {},
   "source": [
    "## 전체 기간"
   ]
  },
  {
   "cell_type": "code",
   "execution_count": 6,
   "id": "4a2052e2",
   "metadata": {},
   "outputs": [
    {
     "data": {
      "text/plain": [
       "(Timestamp('2019-08-26 02:41:49.950000+0000', tz='UTC'),\n",
       " Timestamp('2022-09-13 08:59:21.151000+0000', tz='UTC'))"
      ]
     },
     "execution_count": 6,
     "metadata": {},
     "output_type": "execute_result"
    }
   ],
   "source": [
    "df['date_paid'] = pd.to_datetime(df['date_paid'])\n",
    "df['date_paid'].min(), df['date_paid'].max()"
   ]
  },
  {
   "cell_type": "code",
   "execution_count": 7,
   "id": "8caea039",
   "metadata": {
    "scrolled": true
   },
   "outputs": [
    {
     "data": {
      "text/plain": [
       "Timedelta('1114 days 06:17:31.201000')"
      ]
     },
     "execution_count": 7,
     "metadata": {},
     "output_type": "execute_result"
    }
   ],
   "source": [
    "df['date_paid'].max() - df['date_paid'].min()"
   ]
  },
  {
   "cell_type": "markdown",
   "id": "44821eb8",
   "metadata": {},
   "source": [
    "# 전체 카테고리 판매율"
   ]
  },
  {
   "cell_type": "code",
   "execution_count": 115,
   "id": "6e892cb3",
   "metadata": {},
   "outputs": [
    {
     "data": {
      "text/plain": [
       "온라인 강의    73262\n",
       "도서        54422\n",
       "소모품       34400\n",
       "한약재       22944\n",
       "의료기기      12784\n",
       "의약품       10071\n",
       "식품         8374\n",
       "의류/잡화      5331\n",
       "치료실 물품     3979\n",
       "가전/가구      3962\n",
       "Name: name, dtype: int64"
      ]
     },
     "execution_count": 115,
     "metadata": {},
     "output_type": "execute_result"
    }
   ],
   "source": [
    "df['name'].value_counts().head(10)"
   ]
  },
  {
   "cell_type": "code",
   "execution_count": 150,
   "id": "28507232",
   "metadata": {},
   "outputs": [],
   "source": [
    "import matplotlib.font_manager as fm\n",
    "font_list = matplotlib.font_manager.findSystemFonts(fontpaths=None, fontext='ttf')\n",
    "[matplotlib.font_manager.FontProperties(fname=font).get_name() for font in font_list if 'Nanum' in font]\n",
    "plt.rcParams[\"font.family\"] = 'NanumGothic'"
   ]
  },
  {
   "cell_type": "code",
   "execution_count": 154,
   "id": "3b7bcb2e",
   "metadata": {},
   "outputs": [
    {
     "name": "stdout",
     "output_type": "stream",
     "text": [
      "버전:  3.5.0\n",
      "설치 위치:  /home/user_4/anaconda3/lib/python3.8/site-packages/matplotlib/__init__.py\n",
      "설정 위치:  /home/user_4/.config/matplotlib\n",
      "캐시 위치:  /home/user_4/.cache/matplotlib\n",
      "설정파일 위치:  /home/user_4/anaconda3/lib/python3.8/site-packages/matplotlib/mpl-data/matplotlibrc\n",
      "62\n",
      "62\n"
     ]
    },
    {
     "data": {
      "text/plain": [
       "[]"
      ]
     },
     "execution_count": 154,
     "metadata": {},
     "output_type": "execute_result"
    }
   ],
   "source": [
    "print ('버전: ', matplotlib.__version__)\n",
    "print ('설치 위치: ', matplotlib.__file__)\n",
    "print ('설정 위치: ', matplotlib.get_configdir())\n",
    "print ('캐시 위치: ', matplotlib.get_cachedir())\n",
    "print ('설정파일 위치: ', matplotlib.matplotlib_fname())\n",
    "font_list = fm.findSystemFonts(fontpaths=None, fontext='ttf')\n",
    "\n",
    "# ttf 폰트 전체갯수\n",
    "print(len(font_list)) \n",
    "\n",
    "f = [f.name for f in fm.fontManager.ttflist]\n",
    "print(len(font_list))\n",
    "# 10개의 폰트명 만 출력\n",
    "f[:10]\n",
    "\n",
    "[(f.name, f.fname) for f in fm.fontManager.ttflist if 'Nanum' in f.name]"
   ]
  },
  {
   "cell_type": "code",
   "execution_count": 144,
   "id": "979f66a4",
   "metadata": {
    "scrolled": false
   },
   "outputs": [
    {
     "name": "stderr",
     "output_type": "stream",
     "text": [
      "findfont: Font family ['NanumGothic'] not found. Falling back to DejaVu Sans.\n",
      "/home/user_4/anaconda3/lib/python3.8/site-packages/IPython/core/pylabtools.py:132: UserWarning: Glyph 50728 (\\N{HANGUL SYLLABLE ON}) missing from current font.\n",
      "  fig.canvas.print_figure(bytes_io, **kw)\n",
      "/home/user_4/anaconda3/lib/python3.8/site-packages/IPython/core/pylabtools.py:132: UserWarning: Glyph 46972 (\\N{HANGUL SYLLABLE RA}) missing from current font.\n",
      "  fig.canvas.print_figure(bytes_io, **kw)\n",
      "/home/user_4/anaconda3/lib/python3.8/site-packages/IPython/core/pylabtools.py:132: UserWarning: Glyph 51064 (\\N{HANGUL SYLLABLE IN}) missing from current font.\n",
      "  fig.canvas.print_figure(bytes_io, **kw)\n",
      "/home/user_4/anaconda3/lib/python3.8/site-packages/IPython/core/pylabtools.py:132: UserWarning: Glyph 44053 (\\N{HANGUL SYLLABLE GANG}) missing from current font.\n",
      "  fig.canvas.print_figure(bytes_io, **kw)\n",
      "/home/user_4/anaconda3/lib/python3.8/site-packages/IPython/core/pylabtools.py:132: UserWarning: Glyph 51032 (\\N{HANGUL SYLLABLE YI}) missing from current font.\n",
      "  fig.canvas.print_figure(bytes_io, **kw)\n",
      "/home/user_4/anaconda3/lib/python3.8/site-packages/IPython/core/pylabtools.py:132: UserWarning: Glyph 46020 (\\N{HANGUL SYLLABLE DO}) missing from current font.\n",
      "  fig.canvas.print_figure(bytes_io, **kw)\n",
      "/home/user_4/anaconda3/lib/python3.8/site-packages/IPython/core/pylabtools.py:132: UserWarning: Glyph 49436 (\\N{HANGUL SYLLABLE SEO}) missing from current font.\n",
      "  fig.canvas.print_figure(bytes_io, **kw)\n",
      "/home/user_4/anaconda3/lib/python3.8/site-packages/IPython/core/pylabtools.py:132: UserWarning: Glyph 49548 (\\N{HANGUL SYLLABLE SO}) missing from current font.\n",
      "  fig.canvas.print_figure(bytes_io, **kw)\n",
      "/home/user_4/anaconda3/lib/python3.8/site-packages/IPython/core/pylabtools.py:132: UserWarning: Glyph 47784 (\\N{HANGUL SYLLABLE MO}) missing from current font.\n",
      "  fig.canvas.print_figure(bytes_io, **kw)\n",
      "/home/user_4/anaconda3/lib/python3.8/site-packages/IPython/core/pylabtools.py:132: UserWarning: Glyph 54408 (\\N{HANGUL SYLLABLE PUM}) missing from current font.\n",
      "  fig.canvas.print_figure(bytes_io, **kw)\n",
      "/home/user_4/anaconda3/lib/python3.8/site-packages/IPython/core/pylabtools.py:132: UserWarning: Glyph 54620 (\\N{HANGUL SYLLABLE HAN}) missing from current font.\n",
      "  fig.canvas.print_figure(bytes_io, **kw)\n",
      "/home/user_4/anaconda3/lib/python3.8/site-packages/IPython/core/pylabtools.py:132: UserWarning: Glyph 50557 (\\N{HANGUL SYLLABLE YAG}) missing from current font.\n",
      "  fig.canvas.print_figure(bytes_io, **kw)\n",
      "/home/user_4/anaconda3/lib/python3.8/site-packages/IPython/core/pylabtools.py:132: UserWarning: Glyph 51116 (\\N{HANGUL SYLLABLE JAE}) missing from current font.\n",
      "  fig.canvas.print_figure(bytes_io, **kw)\n",
      "/home/user_4/anaconda3/lib/python3.8/site-packages/IPython/core/pylabtools.py:132: UserWarning: Glyph 47308 (\\N{HANGUL SYLLABLE RYO}) missing from current font.\n",
      "  fig.canvas.print_figure(bytes_io, **kw)\n",
      "/home/user_4/anaconda3/lib/python3.8/site-packages/IPython/core/pylabtools.py:132: UserWarning: Glyph 44592 (\\N{HANGUL SYLLABLE GI}) missing from current font.\n",
      "  fig.canvas.print_figure(bytes_io, **kw)\n",
      "/home/user_4/anaconda3/lib/python3.8/site-packages/IPython/core/pylabtools.py:132: UserWarning: Glyph 49885 (\\N{HANGUL SYLLABLE SIG}) missing from current font.\n",
      "  fig.canvas.print_figure(bytes_io, **kw)\n",
      "/home/user_4/anaconda3/lib/python3.8/site-packages/IPython/core/pylabtools.py:132: UserWarning: Glyph 47448 (\\N{HANGUL SYLLABLE RYU}) missing from current font.\n",
      "  fig.canvas.print_figure(bytes_io, **kw)\n",
      "/home/user_4/anaconda3/lib/python3.8/site-packages/IPython/core/pylabtools.py:132: UserWarning: Glyph 51105 (\\N{HANGUL SYLLABLE JAB}) missing from current font.\n",
      "  fig.canvas.print_figure(bytes_io, **kw)\n",
      "/home/user_4/anaconda3/lib/python3.8/site-packages/IPython/core/pylabtools.py:132: UserWarning: Glyph 54868 (\\N{HANGUL SYLLABLE HWA}) missing from current font.\n",
      "  fig.canvas.print_figure(bytes_io, **kw)\n",
      "/home/user_4/anaconda3/lib/python3.8/site-packages/IPython/core/pylabtools.py:132: UserWarning: Glyph 52824 (\\N{HANGUL SYLLABLE CI}) missing from current font.\n",
      "  fig.canvas.print_figure(bytes_io, **kw)\n",
      "/home/user_4/anaconda3/lib/python3.8/site-packages/IPython/core/pylabtools.py:132: UserWarning: Glyph 49892 (\\N{HANGUL SYLLABLE SIL}) missing from current font.\n",
      "  fig.canvas.print_figure(bytes_io, **kw)\n",
      "/home/user_4/anaconda3/lib/python3.8/site-packages/IPython/core/pylabtools.py:132: UserWarning: Glyph 47932 (\\N{HANGUL SYLLABLE MUL}) missing from current font.\n",
      "  fig.canvas.print_figure(bytes_io, **kw)\n",
      "/home/user_4/anaconda3/lib/python3.8/site-packages/IPython/core/pylabtools.py:132: UserWarning: Glyph 44032 (\\N{HANGUL SYLLABLE GA}) missing from current font.\n",
      "  fig.canvas.print_figure(bytes_io, **kw)\n",
      "/home/user_4/anaconda3/lib/python3.8/site-packages/IPython/core/pylabtools.py:132: UserWarning: Glyph 51204 (\\N{HANGUL SYLLABLE JEON}) missing from current font.\n",
      "  fig.canvas.print_figure(bytes_io, **kw)\n",
      "/home/user_4/anaconda3/lib/python3.8/site-packages/IPython/core/pylabtools.py:132: UserWarning: Glyph 44396 (\\N{HANGUL SYLLABLE GU}) missing from current font.\n",
      "  fig.canvas.print_figure(bytes_io, **kw)\n",
      "/home/user_4/anaconda3/lib/python3.8/site-packages/IPython/core/pylabtools.py:132: UserWarning: Glyph 47700 (\\N{HANGUL SYLLABLE ME}) missing from current font.\n",
      "  fig.canvas.print_figure(bytes_io, **kw)\n",
      "/home/user_4/anaconda3/lib/python3.8/site-packages/IPython/core/pylabtools.py:132: UserWarning: Glyph 46356 (\\N{HANGUL SYLLABLE DI}) missing from current font.\n",
      "  fig.canvas.print_figure(bytes_io, **kw)\n",
      "/home/user_4/anaconda3/lib/python3.8/site-packages/IPython/core/pylabtools.py:132: UserWarning: Glyph 49373 (\\N{HANGUL SYLLABLE SAENG}) missing from current font.\n",
      "  fig.canvas.print_figure(bytes_io, **kw)\n",
      "/home/user_4/anaconda3/lib/python3.8/site-packages/IPython/core/pylabtools.py:132: UserWarning: Glyph 54876 (\\N{HANGUL SYLLABLE HWAL}) missing from current font.\n",
      "  fig.canvas.print_figure(bytes_io, **kw)\n",
      "/home/user_4/anaconda3/lib/python3.8/site-packages/IPython/core/pylabtools.py:132: UserWarning: Glyph 50724 (\\N{HANGUL SYLLABLE O}) missing from current font.\n",
      "  fig.canvas.print_figure(bytes_io, **kw)\n",
      "/home/user_4/anaconda3/lib/python3.8/site-packages/IPython/core/pylabtools.py:132: UserWarning: Glyph 54532 (\\N{HANGUL SYLLABLE PEU}) missing from current font.\n",
      "  fig.canvas.print_figure(bytes_io, **kw)\n",
      "/home/user_4/anaconda3/lib/python3.8/site-packages/IPython/core/pylabtools.py:132: UserWarning: Glyph 46021 (\\N{HANGUL SYLLABLE DOG}) missing from current font.\n",
      "  fig.canvas.print_figure(bytes_io, **kw)\n",
      "/home/user_4/anaconda3/lib/python3.8/site-packages/IPython/core/pylabtools.py:132: UserWarning: Glyph 54644 (\\N{HANGUL SYLLABLE HAE}) missing from current font.\n",
      "  fig.canvas.print_figure(bytes_io, **kw)\n",
      "/home/user_4/anaconda3/lib/python3.8/site-packages/IPython/core/pylabtools.py:132: UserWarning: Glyph 48512 (\\N{HANGUL SYLLABLE BU}) missing from current font.\n",
      "  fig.canvas.print_figure(bytes_io, **kw)\n",
      "/home/user_4/anaconda3/lib/python3.8/site-packages/IPython/core/pylabtools.py:132: UserWarning: Glyph 54617 (\\N{HANGUL SYLLABLE HAG}) missing from current font.\n",
      "  fig.canvas.print_figure(bytes_io, **kw)\n",
      "/home/user_4/anaconda3/lib/python3.8/site-packages/IPython/core/pylabtools.py:132: UserWarning: Glyph 54805 (\\N{HANGUL SYLLABLE HYEONG}) missing from current font.\n",
      "  fig.canvas.print_figure(bytes_io, **kw)\n",
      "/home/user_4/anaconda3/lib/python3.8/site-packages/IPython/core/pylabtools.py:132: UserWarning: Glyph 50857 (\\N{HANGUL SYLLABLE YONG}) missing from current font.\n",
      "  fig.canvas.print_figure(bytes_io, **kw)\n",
      "/home/user_4/anaconda3/lib/python3.8/site-packages/IPython/core/pylabtools.py:132: UserWarning: Glyph 51088 (\\N{HANGUL SYLLABLE JA}) missing from current font.\n",
      "  fig.canvas.print_figure(bytes_io, **kw)\n",
      "/home/user_4/anaconda3/lib/python3.8/site-packages/IPython/core/pylabtools.py:132: UserWarning: Glyph 53440 (\\N{HANGUL SYLLABLE TA}) missing from current font.\n",
      "  fig.canvas.print_figure(bytes_io, **kw)\n",
      "/home/user_4/anaconda3/lib/python3.8/site-packages/IPython/core/pylabtools.py:132: UserWarning: Glyph 49549 (\\N{HANGUL SYLLABLE SOG}) missing from current font.\n",
      "  fig.canvas.print_figure(bytes_io, **kw)\n",
      "/home/user_4/anaconda3/lib/python3.8/site-packages/IPython/core/pylabtools.py:132: UserWarning: Glyph 52376 (\\N{HANGUL SYLLABLE CEO}) missing from current font.\n",
      "  fig.canvas.print_figure(bytes_io, **kw)\n",
      "/home/user_4/anaconda3/lib/python3.8/site-packages/IPython/core/pylabtools.py:132: UserWarning: Glyph 48169 (\\N{HANGUL SYLLABLE BANG}) missing from current font.\n",
      "  fig.canvas.print_figure(bytes_io, **kw)\n",
      "/home/user_4/anaconda3/lib/python3.8/site-packages/IPython/core/pylabtools.py:132: UserWarning: Glyph 54925 (\\N{HANGUL SYLLABLE HOEG}) missing from current font.\n",
      "  fig.canvas.print_figure(bytes_io, **kw)\n",
      "/home/user_4/anaconda3/lib/python3.8/site-packages/IPython/core/pylabtools.py:132: UserWarning: Glyph 48708 (\\N{HANGUL SYLLABLE BI}) missing from current font.\n",
      "  fig.canvas.print_figure(bytes_io, **kw)\n",
      "/home/user_4/anaconda3/lib/python3.8/site-packages/IPython/core/pylabtools.py:132: UserWarning: Glyph 49828 (\\N{HANGUL SYLLABLE SEU}) missing from current font.\n",
      "  fig.canvas.print_figure(bytes_io, **kw)\n",
      "/home/user_4/anaconda3/lib/python3.8/site-packages/IPython/core/pylabtools.py:132: UserWarning: Glyph 51452 (\\N{HANGUL SYLLABLE JU}) missing from current font.\n",
      "  fig.canvas.print_figure(bytes_io, **kw)\n"
     ]
    },
    {
     "data": {
      "image/png": "[encoded data removed]",
      "text/plain": [
       "<Figure size 432x576 with 1 Axes>"
      ]
     },
     "metadata": {},
     "output_type": "display_data"
    }
   ],
   "source": [
    "sum_ = df['name'].value_counts().head(10).sum()\n",
    "data = round(df['name'].value_counts() / sum_, 3)\n",
    "labels = ['온라인 강의', '도서', '소모품', '한약재', '의료기기', '의약품', '식품', '의류/잡화', '치료실 물품',\n",
    "       '가전/가구', '메디TV', '생활', '오프라인 강의', '구독', '해부학 모형', '재활 용품', '디자인', '기타',\n",
    "       '약속처방', '기획서비스', '주류']\n",
    "\n",
    "plt.figure(figsize=(6,8))\n",
    "plt.pie(data, labels = labels)\n",
    "plt.show()"
   ]
  },
  {
   "cell_type": "code",
   "execution_count": 139,
   "id": "85f71f87",
   "metadata": {},
   "outputs": [
    {
     "data": {
      "text/plain": [
       "Index(['온라인 강의', '도서', '소모품', '한약재', '의료기기', '의약품', '식품', '의류/잡화', '치료실 물품',\n",
       "       '가전/가구', '메디TV', '생활', '오프라인 강의', '구독', '해부학 모형', '재활 용품', '디자인', '기타',\n",
       "       '약속처방', '기획서비스', '주류'],\n",
       "      dtype='object')"
      ]
     },
     "execution_count": 139,
     "metadata": {},
     "output_type": "execute_result"
    }
   ],
   "source": [
    "df['name'].value_counts().keys()"
   ]
  },
  {
   "cell_type": "code",
   "execution_count": 121,
   "id": "bf405af2",
   "metadata": {},
   "outputs": [
    {
     "data": {
      "text/plain": [
       "array([None, '의약품', '도서', '온라인 강의', '의료기기', '소모품', '가전/가구', '재활 용품', '식품',\n",
       "       '구독', '의류/잡화', '오프라인 강의', '한약재', '디자인', '해부학 모형', '생활', '치료실 물품',\n",
       "       '기타', '약속처방', '메디TV', '주류', '기획서비스'], dtype=object)"
      ]
     },
     "execution_count": 121,
     "metadata": {},
     "output_type": "execute_result"
    }
   ],
   "source": [
    "df['name'].unique()"
   ]
  },
  {
   "cell_type": "markdown",
   "id": "9005c3cb",
   "metadata": {},
   "source": [
    "## filtering"
   ]
  },
  {
   "cell_type": "code",
   "execution_count": 8,
   "id": "d8758bdf",
   "metadata": {},
   "outputs": [],
   "source": [
    "# paid orders만 가져오기\n",
    "df['date_paid'] = pd.to_datetime(df['date_paid'])\n",
    "df_only_paid = df[~df['date_paid'].isna()]\n",
    "\n",
    "# 취소 안된 것만 가져오기\n",
    "complete_df = df_only_paid[(df_only_paid['paid'] == True) & (df_only_paid['cancelled']==False)]\n",
    "\n",
    "# 도서 카테고리만 가져오기\n",
    "only_book = complete_df[complete_df['name'] == '도서']\n",
    "\n",
    "# 유저가 중복으로 아이템 구매 삭제\n",
    "df_duplicated_book = only_book.drop_duplicates(subset=['customer_id','product_ids'])\n",
    "df_book = df_duplicated_book.sort_values(by='date_paid').reset_index(drop=True)"
   ]
  },
  {
   "cell_type": "code",
   "execution_count": 9,
   "id": "29df1041",
   "metadata": {},
   "outputs": [
    {
     "data": {
      "text/plain": [
       "_id                 0\n",
       "date_created        0\n",
       "regular_price       0\n",
       "sale_price          0\n",
       "three_months        0\n",
       "date_paid           0\n",
       "customer_id         0\n",
       "paid                0\n",
       "name_x              0\n",
       "category_id_y       0\n",
       "product_ids         0\n",
       "quantity            0\n",
       "price               0\n",
       "price_total         0\n",
       "age_group        3007\n",
       "한의사 여부             79\n",
       "사업자 여부             79\n",
       "cancelled           0\n",
       "name                0\n",
       "slug                0\n",
       "dtype: int64"
      ]
     },
     "execution_count": 9,
     "metadata": {},
     "output_type": "execute_result"
    }
   ],
   "source": [
    "# none 값 확인\n",
    "df_book.isna().sum()"
   ]
  },
  {
   "cell_type": "markdown",
   "id": "0801bd2c",
   "metadata": {},
   "source": [
    "# 전체 데이터 EDA"
   ]
  },
  {
   "cell_type": "markdown",
   "id": "92c160c9",
   "metadata": {},
   "source": [
    "### 데이터 중복 확인"
   ]
  },
  {
   "cell_type": "code",
   "execution_count": 10,
   "id": "bf5fbd9b",
   "metadata": {},
   "outputs": [
    {
     "data": {
      "text/plain": [
       "(342, 370)"
      ]
     },
     "execution_count": 10,
     "metadata": {},
     "output_type": "execute_result"
    }
   ],
   "source": [
    "# product_ids, name_x 일치하지 않음, 전처리 필요\n",
    "len(df_book.product_ids.unique()), len(df_book.name_x.unique())"
   ]
  },
  {
   "cell_type": "code",
   "execution_count": 11,
   "id": "e329381c",
   "metadata": {},
   "outputs": [
    {
     "data": {
      "text/plain": [
       "370"
      ]
     },
     "execution_count": 11,
     "metadata": {},
     "output_type": "execute_result"
    }
   ],
   "source": [
    "# 중복 제거 후 수 비교 확인\n",
    "len(df_book.drop_duplicates(subset=['product_ids','name_x']).name_x.unique())"
   ]
  },
  {
   "cell_type": "markdown",
   "id": "bc51d2c9",
   "metadata": {},
   "source": [
    "product_id보다 name이 더 많다. 즉, 동일한 id의 가진 제품의 이름이 다른 경우가 있다는 의미이다. \n",
    "\n",
    "같은 id를 가진 제품은 모두 동일한 이름을 갖도록 전처리한다."
   ]
  },
  {
   "cell_type": "code",
   "execution_count": 13,
   "id": "ff5a6a6b",
   "metadata": {},
   "outputs": [],
   "source": [
    "product_name_preprocess_df = df_book.copy()"
   ]
  },
  {
   "cell_type": "code",
   "execution_count": 14,
   "id": "99794913",
   "metadata": {},
   "outputs": [],
   "source": [
    "# 각 마지막 product_ids, name으로 채우기\n",
    "product_ids_to_name = {}\n",
    "for idx, row in product_name_preprocess_df.iterrows():\n",
    "    product_ids_to_name[row.product_ids] = row.name_x\n",
    "product_name_preprocess_df['name_x'] = product_name_preprocess_df['product_ids'].apply(lambda x: product_ids_to_name[x])\n",
    "\n",
    "name_to_product_ids = {}\n",
    "for idx, row in product_name_preprocess_df.iterrows():\n",
    "    name_to_product_ids[row.name_x] = row.product_ids\n",
    "product_name_preprocess_df['product_ids'] = product_name_preprocess_df['name_x'].apply(lambda x: name_to_product_ids[x])"
   ]
  },
  {
   "cell_type": "code",
   "execution_count": 15,
   "id": "93bea166",
   "metadata": {},
   "outputs": [
    {
     "data": {
      "text/plain": [
       "(340, 340)"
      ]
     },
     "execution_count": 15,
     "metadata": {},
     "output_type": "execute_result"
    }
   ],
   "source": [
    "# product_ids, name_x 일치 확인\n",
    "len(product_name_preprocess_df.product_ids.unique()), len(product_name_preprocess_df.name_x.unique())"
   ]
  },
  {
   "cell_type": "code",
   "execution_count": 17,
   "id": "deda8fe7",
   "metadata": {},
   "outputs": [],
   "source": [
    "# name, product 전처리에 따라서 다시 중복 제거\n",
    "df_reduplicated_book = product_name_preprocess_df.drop_duplicates(subset=['customer_id','product_ids'])\n",
    "preprocessed_book_df = df_reduplicated_book.sort_values(by='date_paid').reset_index(drop=True)"
   ]
  },
  {
   "cell_type": "markdown",
   "id": "289bdb42",
   "metadata": {},
   "source": [
    "### 데이터 수 확인"
   ]
  },
  {
   "cell_type": "code",
   "execution_count": 19,
   "id": "2873a519",
   "metadata": {},
   "outputs": [
    {
     "name": "stdout",
     "output_type": "stream",
     "text": [
      "전체 유저 수: 7410\n",
      "전체 아이템 수: 340\n"
     ]
    }
   ],
   "source": [
    "print('전체 유저 수:',len(set(preprocessed_book_df.customer_id)))\n",
    "print('전체 아이템 수:', len(set(preprocessed_book_df.product_ids)))"
   ]
  },
  {
   "cell_type": "markdown",
   "id": "793f65d9",
   "metadata": {},
   "source": [
    "전체 유저 수 대비 책을 구매한 유저의 비율이다.  \n",
    "약 1.5%로 매우 낮은 편에 속한다."
   ]
  },
  {
   "cell_type": "code",
   "execution_count": 24,
   "id": "33f187d8",
   "metadata": {},
   "outputs": [
    {
     "name": "stdout",
     "output_type": "stream",
     "text": [
      "전체 구매율:  0.015028578232912598\n"
     ]
    }
   ],
   "source": [
    "# 전체 구매 백분율\n",
    "print('전체 구매율: ', len(preprocessed_book_df)/(len(set(preprocessed_book_df.customer_id))*len(set(preprocessed_book_df.product_ids))))"
   ]
  },
  {
   "cell_type": "code",
   "execution_count": 25,
   "id": "41d6b7bb",
   "metadata": {},
   "outputs": [
    {
     "name": "stdout",
     "output_type": "stream",
     "text": [
      "유저 최대 구매 횟수: 130\n",
      "유저 중간 구매 횟수: 3.0\n",
      "유저 최소 구매 횟수: 1\n"
     ]
    }
   ],
   "source": [
    "print('유저 최대 구매 횟수:',preprocessed_book_df.customer_id.value_counts().max())\n",
    "print('유저 중간 구매 횟수:',preprocessed_book_df.customer_id.value_counts().median())\n",
    "print('유저 최소 구매 횟수:',preprocessed_book_df.customer_id.value_counts().min())"
   ]
  },
  {
   "cell_type": "markdown",
   "id": "6cba5b2d",
   "metadata": {},
   "source": [
    "# 날짜별 구매량 시각화"
   ]
  },
  {
   "cell_type": "code",
   "execution_count": 26,
   "id": "8b71a897",
   "metadata": {
    "scrolled": true
   },
   "outputs": [
    {
     "data": {
      "image/png": "[encoded data removed]",
      "text/plain": [
       "<Figure size 2160x1080 with 1 Axes>"
      ]
     },
     "metadata": {
      "needs_background": "light"
     },
     "output_type": "display_data"
    }
   ],
   "source": [
    "from datetime import datetime,date\n",
    "preprocessed_book_df['date_created'] = pd.to_datetime(preprocessed_book_df['date_created']).dt.date\n",
    "\n",
    "dat_groupby = preprocessed_book_df.groupby(['date_created'])[['product_ids']].count().reset_index().rename(columns={'product_ids':'cnt'})\n",
    "dat_sort = dat_groupby.sort_values(by='date_created')\n",
    "\n",
    "x = dat_sort['date_created']\n",
    "y = dat_sort['cnt']\n",
    "\n",
    "plt.figure(figsize=(30,15))\n",
    "ax = sns.barplot(x=x,y=y)\n",
    "total_len = len(x)\n",
    "ax.set_xticks(np.arange(0, total_len+1, 3))\n",
    "plt.xticks(rotation=90)\n",
    "plt.show()"
   ]
  },
  {
   "cell_type": "markdown",
   "id": "c6f96d89",
   "metadata": {},
   "source": [
    "* 특정 일자에 갑자기 구매량이 급격히 증가하는 현상을 보임\n",
    "* 주마다 도서에 대한 프로모션을 진행하는 것을 확인\n",
    "\n",
    "    -> 프로모션에 의한 구매는 제거하는 것 고려"
   ]
  },
  {
   "cell_type": "code",
   "execution_count": 35,
   "id": "b3533120",
   "metadata": {},
   "outputs": [
    {
     "data": {
      "text/html": [
       "<div>\n",
       "<style scoped>\n",
       "    .dataframe tbody tr th:only-of-type {\n",
       "        vertical-align: middle;\n",
       "    }\n",
       "\n",
       "    .dataframe tbody tr th {\n",
       "        vertical-align: top;\n",
       "    }\n",
       "\n",
       "    .dataframe thead th {\n",
       "        text-align: right;\n",
       "    }\n",
       "</style>\n",
       "<table border=\"1\" class=\"dataframe\">\n",
       "  <thead>\n",
       "    <tr style=\"text-align: right;\">\n",
       "      <th></th>\n",
       "      <th>cnt</th>\n",
       "    </tr>\n",
       "  </thead>\n",
       "  <tbody>\n",
       "    <tr>\n",
       "      <th>count</th>\n",
       "      <td>129.000000</td>\n",
       "    </tr>\n",
       "    <tr>\n",
       "      <th>mean</th>\n",
       "      <td>293.511628</td>\n",
       "    </tr>\n",
       "    <tr>\n",
       "      <th>std</th>\n",
       "      <td>334.229527</td>\n",
       "    </tr>\n",
       "    <tr>\n",
       "      <th>min</th>\n",
       "      <td>1.000000</td>\n",
       "    </tr>\n",
       "    <tr>\n",
       "      <th>25%</th>\n",
       "      <td>85.000000</td>\n",
       "    </tr>\n",
       "    <tr>\n",
       "      <th>50%</th>\n",
       "      <td>210.000000</td>\n",
       "    </tr>\n",
       "    <tr>\n",
       "      <th>75%</th>\n",
       "      <td>371.000000</td>\n",
       "    </tr>\n",
       "    <tr>\n",
       "      <th>max</th>\n",
       "      <td>2126.000000</td>\n",
       "    </tr>\n",
       "  </tbody>\n",
       "</table>\n",
       "</div>"
      ],
      "text/plain": [
       "               cnt\n",
       "count   129.000000\n",
       "mean    293.511628\n",
       "std     334.229527\n",
       "min       1.000000\n",
       "25%      85.000000\n",
       "50%     210.000000\n",
       "75%     371.000000\n",
       "max    2126.000000"
      ]
     },
     "execution_count": 35,
     "metadata": {},
     "output_type": "execute_result"
    }
   ],
   "source": [
    "dat_sort.describe()"
   ]
  },
  {
   "cell_type": "code",
   "execution_count": 34,
   "id": "f1e56873",
   "metadata": {
    "scrolled": true
   },
   "outputs": [
    {
     "data": {
      "text/html": [
       "<div>\n",
       "<style scoped>\n",
       "    .dataframe tbody tr th:only-of-type {\n",
       "        vertical-align: middle;\n",
       "    }\n",
       "\n",
       "    .dataframe tbody tr th {\n",
       "        vertical-align: top;\n",
       "    }\n",
       "\n",
       "    .dataframe thead th {\n",
       "        text-align: right;\n",
       "    }\n",
       "</style>\n",
       "<table border=\"1\" class=\"dataframe\">\n",
       "  <thead>\n",
       "    <tr style=\"text-align: right;\">\n",
       "      <th></th>\n",
       "      <th>date_created</th>\n",
       "      <th>cnt</th>\n",
       "    </tr>\n",
       "  </thead>\n",
       "  <tbody>\n",
       "    <tr>\n",
       "      <th>85</th>\n",
       "      <td>2021-06-21</td>\n",
       "      <td>2126</td>\n",
       "    </tr>\n",
       "    <tr>\n",
       "      <th>4</th>\n",
       "      <td>2019-09-11</td>\n",
       "      <td>1750</td>\n",
       "    </tr>\n",
       "    <tr>\n",
       "      <th>30</th>\n",
       "      <td>2020-02-11</td>\n",
       "      <td>1600</td>\n",
       "    </tr>\n",
       "    <tr>\n",
       "      <th>32</th>\n",
       "      <td>2020-02-18</td>\n",
       "      <td>1125</td>\n",
       "    </tr>\n",
       "    <tr>\n",
       "      <th>120</th>\n",
       "      <td>2022-06-02</td>\n",
       "      <td>1008</td>\n",
       "    </tr>\n",
       "    <tr>\n",
       "      <th>42</th>\n",
       "      <td>2020-05-18</td>\n",
       "      <td>961</td>\n",
       "    </tr>\n",
       "    <tr>\n",
       "      <th>0</th>\n",
       "      <td>2019-06-26</td>\n",
       "      <td>868</td>\n",
       "    </tr>\n",
       "    <tr>\n",
       "      <th>8</th>\n",
       "      <td>2019-10-10</td>\n",
       "      <td>844</td>\n",
       "    </tr>\n",
       "    <tr>\n",
       "      <th>93</th>\n",
       "      <td>2021-08-05</td>\n",
       "      <td>838</td>\n",
       "    </tr>\n",
       "    <tr>\n",
       "      <th>21</th>\n",
       "      <td>2019-12-09</td>\n",
       "      <td>776</td>\n",
       "    </tr>\n",
       "  </tbody>\n",
       "</table>\n",
       "</div>"
      ],
      "text/plain": [
       "    date_created   cnt\n",
       "85    2021-06-21  2126\n",
       "4     2019-09-11  1750\n",
       "30    2020-02-11  1600\n",
       "32    2020-02-18  1125\n",
       "120   2022-06-02  1008\n",
       "42    2020-05-18   961\n",
       "0     2019-06-26   868\n",
       "8     2019-10-10   844\n",
       "93    2021-08-05   838\n",
       "21    2019-12-09   776"
      ]
     },
     "execution_count": 34,
     "metadata": {},
     "output_type": "execute_result"
    }
   ],
   "source": [
    "dat_sort.sort_values(['cnt'], ascending = False).head(10)"
   ]
  },
  {
   "cell_type": "markdown",
   "id": "7f6de20c",
   "metadata": {},
   "source": [
    "###**구매량이 많은 날짜에 구매된 책들이 무엇인지 알아보기. 그래야 프로모션이 영향이 있었는지 판단가능**"
   ]
  },
  {
   "cell_type": "markdown",
   "id": "295adb3b",
   "metadata": {},
   "source": [
    "### Most Popular(프로모션 구매 포함)"
   ]
  },
  {
   "cell_type": "code",
   "execution_count": 85,
   "id": "a8b15f1f",
   "metadata": {},
   "outputs": [],
   "source": [
    "most_popular_list = preprocessed_book_df.groupby(['name_x','product_ids']).count()['customer_id'].reset_index().rename(columns={'customer_id':'cnt'})"
   ]
  },
  {
   "cell_type": "code",
   "execution_count": 86,
   "id": "6933b716",
   "metadata": {},
   "outputs": [],
   "source": [
    "dt_sort_cnt = preprocessed_book_df.copy()\n",
    "dt_sort_cnt_add = pd.merge(dt_sort_cnt, most_popular_list[['product_ids','cnt']], how='left', on='product_ids')"
   ]
  },
  {
   "cell_type": "code",
   "execution_count": 87,
   "id": "022aca92",
   "metadata": {},
   "outputs": [],
   "source": [
    "top20_product_ids = most_popular_list.sort_values(by='cnt',ascending=False).head(20).product_ids.values"
   ]
  },
  {
   "cell_type": "code",
   "execution_count": 90,
   "id": "72433552",
   "metadata": {},
   "outputs": [
    {
     "data": {
      "text/html": [
       "<div>\n",
       "<style scoped>\n",
       "    .dataframe tbody tr th:only-of-type {\n",
       "        vertical-align: middle;\n",
       "    }\n",
       "\n",
       "    .dataframe tbody tr th {\n",
       "        vertical-align: top;\n",
       "    }\n",
       "\n",
       "    .dataframe thead th {\n",
       "        text-align: right;\n",
       "    }\n",
       "</style>\n",
       "<table border=\"1\" class=\"dataframe\">\n",
       "  <thead>\n",
       "    <tr style=\"text-align: right;\">\n",
       "      <th></th>\n",
       "      <th>date_created</th>\n",
       "      <th>sale_price</th>\n",
       "      <th>three_months</th>\n",
       "      <th>name_x</th>\n",
       "      <th>product_ids</th>\n",
       "      <th>cnt</th>\n",
       "    </tr>\n",
       "  </thead>\n",
       "  <tbody>\n",
       "    <tr>\n",
       "      <th>19</th>\n",
       "      <td>2022-06-29</td>\n",
       "      <td>57000.0</td>\n",
       "      <td>463.0</td>\n",
       "      <td>플로차트 정형외과 진단</td>\n",
       "      <td>62bbee3a08e04900234e36c8</td>\n",
       "      <td>461</td>\n",
       "    </tr>\n",
       "    <tr>\n",
       "      <th>18</th>\n",
       "      <td>2022-06-02</td>\n",
       "      <td>42750.0</td>\n",
       "      <td>596.0</td>\n",
       "      <td>비만문답</td>\n",
       "      <td>629860599d93880024071acc</td>\n",
       "      <td>592</td>\n",
       "    </tr>\n",
       "    <tr>\n",
       "      <th>17</th>\n",
       "      <td>2021-08-05</td>\n",
       "      <td>76500.0</td>\n",
       "      <td>109.0</td>\n",
       "      <td>임상 한의사를 위한 기본 한약처방 강의 2판</td>\n",
       "      <td>610b6f9ad26af90681b1e699</td>\n",
       "      <td>838</td>\n",
       "    </tr>\n",
       "    <tr>\n",
       "      <th>16</th>\n",
       "      <td>2021-07-09</td>\n",
       "      <td>36100.0</td>\n",
       "      <td>35.0</td>\n",
       "      <td>침의 과학적 접근의 이해</td>\n",
       "      <td>60e7e0b0d26af90681b1b61c</td>\n",
       "      <td>499</td>\n",
       "    </tr>\n",
       "    <tr>\n",
       "      <th>15</th>\n",
       "      <td>2021-06-21</td>\n",
       "      <td>18000.0</td>\n",
       "      <td>219.0</td>\n",
       "      <td>윤상훈·권병조의 알짜 근육학</td>\n",
       "      <td>60d018b7d26af90681b18980</td>\n",
       "      <td>2126</td>\n",
       "    </tr>\n",
       "    <tr>\n",
       "      <th>14</th>\n",
       "      <td>2021-05-17</td>\n",
       "      <td>18000.0</td>\n",
       "      <td>0.0</td>\n",
       "      <td>통장잔고 2배 늘려주는 병의원 절세비법</td>\n",
       "      <td>60a22e62c1908b001a6466e1</td>\n",
       "      <td>512</td>\n",
       "    </tr>\n",
       "    <tr>\n",
       "      <th>13</th>\n",
       "      <td>2021-01-18</td>\n",
       "      <td>64800.0</td>\n",
       "      <td>28.0</td>\n",
       "      <td>근골격계 약침의학</td>\n",
       "      <td>6005151da6432d001a69b21b</td>\n",
       "      <td>409</td>\n",
       "    </tr>\n",
       "    <tr>\n",
       "      <th>12</th>\n",
       "      <td>2020-09-21</td>\n",
       "      <td>45000.0</td>\n",
       "      <td>46.0</td>\n",
       "      <td>사상방 사용설명서</td>\n",
       "      <td>5f6860f348060c52caf14690</td>\n",
       "      <td>757</td>\n",
       "    </tr>\n",
       "    <tr>\n",
       "      <th>11</th>\n",
       "      <td>2020-04-27</td>\n",
       "      <td>45000.0</td>\n",
       "      <td>4.0</td>\n",
       "      <td>사진으로 공부하는 이비인후과학</td>\n",
       "      <td>5ea643ec1a3ca36b96784a07</td>\n",
       "      <td>516</td>\n",
       "    </tr>\n",
       "    <tr>\n",
       "      <th>10</th>\n",
       "      <td>2020-04-13</td>\n",
       "      <td>47700.0</td>\n",
       "      <td>6.0</td>\n",
       "      <td>한방처방정석</td>\n",
       "      <td>5e93e5d6bfe426094478533e</td>\n",
       "      <td>520</td>\n",
       "    </tr>\n",
       "    <tr>\n",
       "      <th>9</th>\n",
       "      <td>2020-02-07</td>\n",
       "      <td>120000.0</td>\n",
       "      <td>0.0</td>\n",
       "      <td>증보운곡본초학</td>\n",
       "      <td>60334e122c593a001aceb158</td>\n",
       "      <td>646</td>\n",
       "    </tr>\n",
       "    <tr>\n",
       "      <th>8</th>\n",
       "      <td>2020-01-29</td>\n",
       "      <td>42300.0</td>\n",
       "      <td>15.0</td>\n",
       "      <td>말초신경 약침의학</td>\n",
       "      <td>5e31324b4267e105dfff0e37</td>\n",
       "      <td>431</td>\n",
       "    </tr>\n",
       "    <tr>\n",
       "      <th>7</th>\n",
       "      <td>2019-12-23</td>\n",
       "      <td>40500.0</td>\n",
       "      <td>5.0</td>\n",
       "      <td>한방치료 44철칙</td>\n",
       "      <td>5e0032004267e105dffefd59</td>\n",
       "      <td>410</td>\n",
       "    </tr>\n",
       "    <tr>\n",
       "      <th>6</th>\n",
       "      <td>2019-12-09</td>\n",
       "      <td>36000.0</td>\n",
       "      <td>21.0</td>\n",
       "      <td>한의 피부진료 첫 걸음</td>\n",
       "      <td>5dedb5e04267e105dffeef43</td>\n",
       "      <td>776</td>\n",
       "    </tr>\n",
       "    <tr>\n",
       "      <th>5</th>\n",
       "      <td>2019-11-07</td>\n",
       "      <td>85500.0</td>\n",
       "      <td>27.0</td>\n",
       "      <td>그림과 사진으로 보는 질환별 통증치료 Essential</td>\n",
       "      <td>5dc388aa2bb59605ca3cf794</td>\n",
       "      <td>658</td>\n",
       "    </tr>\n",
       "    <tr>\n",
       "      <th>4</th>\n",
       "      <td>2019-10-11</td>\n",
       "      <td>162000.0</td>\n",
       "      <td>6.0</td>\n",
       "      <td>SMART 일차진료매뉴얼</td>\n",
       "      <td>5d9ff4170dabe405b156e45c</td>\n",
       "      <td>457</td>\n",
       "    </tr>\n",
       "    <tr>\n",
       "      <th>3</th>\n",
       "      <td>2019-10-10</td>\n",
       "      <td>67500.0</td>\n",
       "      <td>27.0</td>\n",
       "      <td>藥徵, 약의 징표</td>\n",
       "      <td>5d9edd880dabe405b156e20f</td>\n",
       "      <td>503</td>\n",
       "    </tr>\n",
       "    <tr>\n",
       "      <th>1</th>\n",
       "      <td>2019-09-11</td>\n",
       "      <td>71200.0</td>\n",
       "      <td>9.0</td>\n",
       "      <td>Medical acupuncture '침의 과학적 접근과 임상활용'</td>\n",
       "      <td>5d784bac19efa30eb29143d0</td>\n",
       "      <td>503</td>\n",
       "    </tr>\n",
       "    <tr>\n",
       "      <th>2</th>\n",
       "      <td>2019-08-19</td>\n",
       "      <td>22500.0</td>\n",
       "      <td>40.0</td>\n",
       "      <td>일차진료 한의사를 위한 보험한약입문 - 둘째 판</td>\n",
       "      <td>5d59ee854e77525ec5ca1212</td>\n",
       "      <td>517</td>\n",
       "    </tr>\n",
       "    <tr>\n",
       "      <th>0</th>\n",
       "      <td>2019-06-26</td>\n",
       "      <td>135000.0</td>\n",
       "      <td>35.0</td>\n",
       "      <td>KCD 한방내과 진찰진단 가이드라인</td>\n",
       "      <td>5d13115e32026c0b35383897</td>\n",
       "      <td>805</td>\n",
       "    </tr>\n",
       "  </tbody>\n",
       "</table>\n",
       "</div>"
      ],
      "text/plain": [
       "   date_created  sale_price  three_months  \\\n",
       "19   2022-06-29     57000.0         463.0   \n",
       "18   2022-06-02     42750.0         596.0   \n",
       "17   2021-08-05     76500.0         109.0   \n",
       "16   2021-07-09     36100.0          35.0   \n",
       "15   2021-06-21     18000.0         219.0   \n",
       "14   2021-05-17     18000.0           0.0   \n",
       "13   2021-01-18     64800.0          28.0   \n",
       "12   2020-09-21     45000.0          46.0   \n",
       "11   2020-04-27     45000.0           4.0   \n",
       "10   2020-04-13     47700.0           6.0   \n",
       "9    2020-02-07    120000.0           0.0   \n",
       "8    2020-01-29     42300.0          15.0   \n",
       "7    2019-12-23     40500.0           5.0   \n",
       "6    2019-12-09     36000.0          21.0   \n",
       "5    2019-11-07     85500.0          27.0   \n",
       "4    2019-10-11    162000.0           6.0   \n",
       "3    2019-10-10     67500.0          27.0   \n",
       "1    2019-09-11     71200.0           9.0   \n",
       "2    2019-08-19     22500.0          40.0   \n",
       "0    2019-06-26    135000.0          35.0   \n",
       "\n",
       "                                    name_x               product_ids   cnt  \n",
       "19                            플로차트 정형외과 진단  62bbee3a08e04900234e36c8   461  \n",
       "18                                    비만문답  629860599d93880024071acc   592  \n",
       "17                임상 한의사를 위한 기본 한약처방 강의 2판  610b6f9ad26af90681b1e699   838  \n",
       "16                           침의 과학적 접근의 이해  60e7e0b0d26af90681b1b61c   499  \n",
       "15                         윤상훈·권병조의 알짜 근육학  60d018b7d26af90681b18980  2126  \n",
       "14                   통장잔고 2배 늘려주는 병의원 절세비법  60a22e62c1908b001a6466e1   512  \n",
       "13                               근골격계 약침의학  6005151da6432d001a69b21b   409  \n",
       "12                               사상방 사용설명서  5f6860f348060c52caf14690   757  \n",
       "11                        사진으로 공부하는 이비인후과학  5ea643ec1a3ca36b96784a07   516  \n",
       "10                                  한방처방정석  5e93e5d6bfe426094478533e   520  \n",
       "9                                  증보운곡본초학  60334e122c593a001aceb158   646  \n",
       "8                                말초신경 약침의학  5e31324b4267e105dfff0e37   431  \n",
       "7                                한방치료 44철칙  5e0032004267e105dffefd59   410  \n",
       "6                             한의 피부진료 첫 걸음  5dedb5e04267e105dffeef43   776  \n",
       "5           그림과 사진으로 보는 질환별 통증치료 Essential  5dc388aa2bb59605ca3cf794   658  \n",
       "4                            SMART 일차진료매뉴얼  5d9ff4170dabe405b156e45c   457  \n",
       "3                                藥徵, 약의 징표  5d9edd880dabe405b156e20f   503  \n",
       "1   Medical acupuncture '침의 과학적 접근과 임상활용'   5d784bac19efa30eb29143d0   503  \n",
       "2               일차진료 한의사를 위한 보험한약입문 - 둘째 판  5d59ee854e77525ec5ca1212   517  \n",
       "0                      KCD 한방내과 진찰진단 가이드라인  5d13115e32026c0b35383897   805  "
      ]
     },
     "execution_count": 90,
     "metadata": {},
     "output_type": "execute_result"
    }
   ],
   "source": [
    "top20_df = dt_sort_cnt_add[dt_sort_cnt_add['product_ids'].isin(top20_product_ids)].drop_duplicates(subset=['name_x','product_ids'], ignore_index=True)\n",
    "top20_df.sort_values(by=['date_created','cnt'], ascending=False)[['date_created','sale_price','three_months','name_x','product_ids','cnt']]"
   ]
  },
  {
   "cell_type": "markdown",
   "id": "9ef3dfad",
   "metadata": {},
   "source": [
    "# product_id별 누적 판매량"
   ]
  },
  {
   "cell_type": "code",
   "execution_count": 92,
   "id": "f56bb82d",
   "metadata": {},
   "outputs": [],
   "source": [
    "before_product_df = preprocessed_book_df.groupby('product_ids')[['product_ids']].count().rename(columns={'product_ids':'cnt'}).reset_index().sort_values(by='cnt',ascending=False)"
   ]
  },
  {
   "cell_type": "code",
   "execution_count": 93,
   "id": "6c354af5",
   "metadata": {},
   "outputs": [
    {
     "data": {
      "image/png": "[encoded data removed]",
      "text/plain": [
       "<Figure size 2160x1080 with 1 Axes>"
      ]
     },
     "metadata": {
      "needs_background": "light"
     },
     "output_type": "display_data"
    }
   ],
   "source": [
    "x = before_product_df['product_ids']\n",
    "y = before_product_df['cnt']\n",
    "\n",
    "plt.figure(figsize=(30,15))\n",
    "ax = sns.barplot(x=x,y=y)\n",
    "total_len = len(x)\n",
    "ax.set_xticks(np.arange(0, total_len+1, 30))\n",
    "ax.set_xlabel('product',fontsize=30)\n",
    "ax.set_ylabel('count',fontsize=30)\n",
    "plt.xticks(rotation=90)\n",
    "plt.show()"
   ]
  },
  {
   "cell_type": "code",
   "execution_count": 94,
   "id": "805120c1",
   "metadata": {},
   "outputs": [
    {
     "name": "stdout",
     "output_type": "stream",
     "text": [
      "제품 누적 판매 횟수: product_ids    63182f4d6c2e37002369d6bc\n",
      "cnt                                2126\n",
      "dtype: object\n",
      "제품 medina 판매 횟수: cnt    35.0\n",
      "dtype: float64\n"
     ]
    }
   ],
   "source": [
    "print('제품 누적 판매 횟수:', before_product_df.max())\n",
    "print('제품 medina 판매 횟수:', before_product_df.median())"
   ]
  },
  {
   "cell_type": "markdown",
   "id": "9557eec7",
   "metadata": {},
   "source": [
    "# 고객 segment별 나이 비율"
   ]
  },
  {
   "cell_type": "code",
   "execution_count": 108,
   "id": "93201035",
   "metadata": {
    "scrolled": false
   },
   "outputs": [
    {
     "name": "stdout",
     "output_type": "stream",
     "text": [
      "고객 segment별 나이 비율: \n",
      "\n",
      "[ceo_doctor]\n",
      "30-39    0.55\n",
      "40-49    0.25\n",
      "20-29    0.11\n",
      "50-59    0.08\n",
      "60-      0.01\n",
      "Name: age_group, dtype: float64\n",
      "\n",
      "[pay_doctor]\n",
      "20-29    0.62\n",
      "30-39    0.31\n",
      "40-49    0.06\n",
      "50-59    0.02\n",
      "60-      0.00\n",
      "0-9      0.00\n",
      "Name: age_group, dtype: float64\n",
      "\n",
      "[ceo]\n",
      "30-39    0.65\n",
      "20-29    0.17\n",
      "40-49    0.17\n",
      "50-59    0.01\n",
      "Name: age_group, dtype: float64\n",
      "\n",
      "[student]\n",
      "20-29    0.84\n",
      "30-39    0.13\n",
      "40-49    0.02\n",
      "50-59    0.01\n",
      "60-      0.00\n",
      "10-19    0.00\n",
      "0-9      0.00\n",
      "Name: age_group, dtype: float64\n",
      "\n"
     ]
    }
   ],
   "source": [
    "# 원장님\n",
    "ceo_doctor = df[(df['한의사 여부'] == 1.0) & (df['사업자 여부'] == 1.0)]\n",
    "\n",
    "# 페이 닥터\n",
    "pay_doctor = df[(df['한의사 여부'] == 1.0) & (df['사업자 여부'] == 0.0)]\n",
    "\n",
    "# 한의대생\n",
    "student = df[(df['한의사 여부'] == 0.0) & (df['사업자 여부'] == 0.0)]\n",
    "\n",
    "# 창업가?\n",
    "ceo = df[(df['한의사 여부'] == 0.0) & (df['사업자 여부'] == 1.0)]\n",
    "\n",
    "all = [ceo, ceo_doctor, student, pay_doctor]\n",
    "\n",
    "\n",
    "print('고객 segment별 나이 비율: ')\n",
    "print()\n",
    "all = [ceo_doctor, pay_doctor, ceo, student]\n",
    "all2 = ['ceo_doctor', 'pay_doctor', 'ceo', 'student']\n",
    "\n",
    "for i in range(len(all)):\n",
    "    print(f'[{all2[i]}]')\n",
    "    a = all[i].age_group.value_counts().sum()\n",
    "    print(round(all[i].age_group.value_counts() / a, 2))\n",
    "    print()"
   ]
  },
  {
   "cell_type": "markdown",
   "id": "0b5dcd7a",
   "metadata": {},
   "source": [
    "**병원장(ceo_doctor)을 제외한 모든 segment에서 2030의 비율이 제일 높다.**"
   ]
  },
  {
   "cell_type": "markdown",
   "id": "91364042",
   "metadata": {},
   "source": [
    "# 고객별 누적 판매횟수"
   ]
  },
  {
   "cell_type": "code",
   "execution_count": 98,
   "id": "87bdf379",
   "metadata": {},
   "outputs": [
    {
     "ename": "NameError",
     "evalue": "name 'all_promotion_df' is not defined",
     "output_type": "error",
     "traceback": [
      "\u001b[0;31m---------------------------------------------------------------------------\u001b[0m",
      "\u001b[0;31mNameError\u001b[0m                                 Traceback (most recent call last)",
      "\u001b[0;32m<ipython-input-98-b22d8b8bb5ad>\u001b[0m in \u001b[0;36m<module>\u001b[0;34m\u001b[0m\n\u001b[0;32m----> 1\u001b[0;31m \u001b[0mbefore_user_group_df\u001b[0m \u001b[0;34m=\u001b[0m \u001b[0mall_promotion_df\u001b[0m\u001b[0;34m.\u001b[0m\u001b[0mgroupby\u001b[0m\u001b[0;34m(\u001b[0m\u001b[0;34m'customer_id'\u001b[0m\u001b[0;34m)\u001b[0m\u001b[0;34m[\u001b[0m\u001b[0;34m[\u001b[0m\u001b[0;34m'customer_id'\u001b[0m\u001b[0;34m]\u001b[0m\u001b[0;34m]\u001b[0m\u001b[0;34m.\u001b[0m\u001b[0mcount\u001b[0m\u001b[0;34m(\u001b[0m\u001b[0;34m)\u001b[0m\u001b[0;34m.\u001b[0m\u001b[0mrename\u001b[0m\u001b[0;34m(\u001b[0m\u001b[0mcolumns\u001b[0m\u001b[0;34m=\u001b[0m\u001b[0;34m{\u001b[0m\u001b[0;34m'customer_id'\u001b[0m\u001b[0;34m:\u001b[0m\u001b[0;34m'cnt'\u001b[0m\u001b[0;34m}\u001b[0m\u001b[0;34m)\u001b[0m\u001b[0;34m.\u001b[0m\u001b[0mreset_index\u001b[0m\u001b[0;34m(\u001b[0m\u001b[0;34m)\u001b[0m\u001b[0;34m.\u001b[0m\u001b[0msort_values\u001b[0m\u001b[0;34m(\u001b[0m\u001b[0mby\u001b[0m\u001b[0;34m=\u001b[0m\u001b[0;34m'cnt'\u001b[0m\u001b[0;34m,\u001b[0m\u001b[0mascending\u001b[0m\u001b[0;34m=\u001b[0m\u001b[0;32mFalse\u001b[0m\u001b[0;34m)\u001b[0m\u001b[0;34m\u001b[0m\u001b[0;34m\u001b[0m\u001b[0m\n\u001b[0m\u001b[1;32m      2\u001b[0m \u001b[0mx\u001b[0m \u001b[0;34m=\u001b[0m \u001b[0mbefore_user_group_df\u001b[0m\u001b[0;34m[\u001b[0m\u001b[0;34m'customer_id'\u001b[0m\u001b[0;34m]\u001b[0m\u001b[0;34m\u001b[0m\u001b[0;34m\u001b[0m\u001b[0m\n\u001b[1;32m      3\u001b[0m \u001b[0my\u001b[0m \u001b[0;34m=\u001b[0m \u001b[0mbefore_user_group_df\u001b[0m\u001b[0;34m[\u001b[0m\u001b[0;34m'cnt'\u001b[0m\u001b[0;34m]\u001b[0m\u001b[0;34m\u001b[0m\u001b[0;34m\u001b[0m\u001b[0m\n\u001b[1;32m      4\u001b[0m \u001b[0;34m\u001b[0m\u001b[0m\n\u001b[1;32m      5\u001b[0m \u001b[0mplt\u001b[0m\u001b[0;34m.\u001b[0m\u001b[0mfigure\u001b[0m\u001b[0;34m(\u001b[0m\u001b[0mfigsize\u001b[0m\u001b[0;34m=\u001b[0m\u001b[0;34m(\u001b[0m\u001b[0;36m30\u001b[0m\u001b[0;34m,\u001b[0m\u001b[0;36m15\u001b[0m\u001b[0;34m)\u001b[0m\u001b[0;34m)\u001b[0m\u001b[0;34m\u001b[0m\u001b[0;34m\u001b[0m\u001b[0m\n",
      "\u001b[0;31mNameError\u001b[0m: name 'all_promotion_df' is not defined"
     ]
    }
   ],
   "source": [
    "before_user_group_df = all_promotion_df.groupby('customer_id')[['customer_id']].count().rename(columns={'customer_id':'cnt'}).reset_index().sort_values(by='cnt',ascending=False)\n",
    "x = before_user_group_df['customer_id']\n",
    "y = before_user_group_df['cnt']\n",
    "\n",
    "plt.figure(figsize=(30,15))\n",
    "ax = sns.barplot(x=x,y=y)\n",
    "total_len = len(x)\n",
    "ax.set_xticks(np.arange(0, total_len+1, 30))\n",
    "ax.set_xlabel('customer',fontsize=30)\n",
    "ax.set_ylabel('count',fontsize=30)\n",
    "plt.xticks(rotation=90)\n",
    "plt.show()"
   ]
  },
  {
   "cell_type": "code",
   "execution_count": 99,
   "id": "1a4f086a",
   "metadata": {},
   "outputs": [
    {
     "ename": "NameError",
     "evalue": "name 'before_user_group_df' is not defined",
     "output_type": "error",
     "traceback": [
      "\u001b[0;31m---------------------------------------------------------------------------\u001b[0m",
      "\u001b[0;31mNameError\u001b[0m                                 Traceback (most recent call last)",
      "\u001b[0;32m<ipython-input-99-8e229bf2e093>\u001b[0m in \u001b[0;36m<module>\u001b[0;34m\u001b[0m\n\u001b[0;32m----> 1\u001b[0;31m \u001b[0mprint\u001b[0m\u001b[0;34m(\u001b[0m\u001b[0;34m'유저 최대 누적 구매 횟수:'\u001b[0m\u001b[0;34m,\u001b[0m\u001b[0mbefore_user_group_df\u001b[0m\u001b[0;34m.\u001b[0m\u001b[0mmax\u001b[0m\u001b[0;34m(\u001b[0m\u001b[0;34m)\u001b[0m\u001b[0;34m)\u001b[0m\u001b[0;34m\u001b[0m\u001b[0;34m\u001b[0m\u001b[0m\n\u001b[0m\u001b[1;32m      2\u001b[0m \u001b[0mprint\u001b[0m\u001b[0;34m(\u001b[0m\u001b[0;34m'유저 median 누적 구매 횟수:'\u001b[0m\u001b[0;34m,\u001b[0m\u001b[0mbefore_user_group_df\u001b[0m\u001b[0;34m.\u001b[0m\u001b[0mmedian\u001b[0m\u001b[0;34m(\u001b[0m\u001b[0;34m)\u001b[0m\u001b[0;34m)\u001b[0m\u001b[0;34m\u001b[0m\u001b[0;34m\u001b[0m\u001b[0m\n",
      "\u001b[0;31mNameError\u001b[0m: name 'before_user_group_df' is not defined"
     ]
    }
   ],
   "source": [
    "print('유저 최대 누적 구매 횟수:',before_user_group_df.max())\n",
    "print('유저 median 누적 구매 횟수:',before_user_group_df.median())"
   ]
  },
  {
   "cell_type": "code",
   "execution_count": 100,
   "id": "8bfcb3e6",
   "metadata": {},
   "outputs": [
    {
     "data": {
      "text/html": [
       "<div>\n",
       "<style scoped>\n",
       "    .dataframe tbody tr th:only-of-type {\n",
       "        vertical-align: middle;\n",
       "    }\n",
       "\n",
       "    .dataframe tbody tr th {\n",
       "        vertical-align: top;\n",
       "    }\n",
       "\n",
       "    .dataframe thead th {\n",
       "        text-align: right;\n",
       "    }\n",
       "</style>\n",
       "<table border=\"1\" class=\"dataframe\">\n",
       "  <thead>\n",
       "    <tr style=\"text-align: right;\">\n",
       "      <th></th>\n",
       "      <th>_id</th>\n",
       "      <th>date_created</th>\n",
       "      <th>regular_price</th>\n",
       "      <th>sale_price</th>\n",
       "      <th>three_months</th>\n",
       "      <th>date_paid</th>\n",
       "      <th>customer_id</th>\n",
       "      <th>paid</th>\n",
       "      <th>name_x</th>\n",
       "      <th>category_id_y</th>\n",
       "      <th>product_ids</th>\n",
       "      <th>quantity</th>\n",
       "      <th>price</th>\n",
       "      <th>price_total</th>\n",
       "      <th>age_group</th>\n",
       "      <th>한의사 여부</th>\n",
       "      <th>사업자 여부</th>\n",
       "      <th>cancelled</th>\n",
       "      <th>name</th>\n",
       "      <th>slug</th>\n",
       "    </tr>\n",
       "  </thead>\n",
       "  <tbody>\n",
       "    <tr>\n",
       "      <th>0</th>\n",
       "      <td>5d60cebb4e77525ec5ca141c</td>\n",
       "      <td>NaT</td>\n",
       "      <td>NaN</td>\n",
       "      <td>NaN</td>\n",
       "      <td>NaN</td>\n",
       "      <td>NaT</td>\n",
       "      <td>5d60cea34e77525ec5ca1413</td>\n",
       "      <td>False</td>\n",
       "      <td>None</td>\n",
       "      <td>None</td>\n",
       "      <td>None</td>\n",
       "      <td>NaN</td>\n",
       "      <td>NaN</td>\n",
       "      <td>NaN</td>\n",
       "      <td>20-29</td>\n",
       "      <td>1.0</td>\n",
       "      <td>0.0</td>\n",
       "      <td>False</td>\n",
       "      <td>None</td>\n",
       "      <td>None</td>\n",
       "    </tr>\n",
       "    <tr>\n",
       "      <th>1</th>\n",
       "      <td>5d60daf14e77525ec5ca1497</td>\n",
       "      <td>2019-08-21 05:04:55.728000+00:00</td>\n",
       "      <td>66000.0</td>\n",
       "      <td>0.0</td>\n",
       "      <td>NaN</td>\n",
       "      <td>NaT</td>\n",
       "      <td>5d60ceba4e77525ec5ca1419</td>\n",
       "      <td>False</td>\n",
       "      <td>제일 경옥고</td>\n",
       "      <td>5cf8bbba0098b2225c5dfaa2</td>\n",
       "      <td>5d5cd0f74e77525ec5ca12ab</td>\n",
       "      <td>3.0</td>\n",
       "      <td>59400.0</td>\n",
       "      <td>178200.0</td>\n",
       "      <td>20-29</td>\n",
       "      <td>1.0</td>\n",
       "      <td>0.0</td>\n",
       "      <td>True</td>\n",
       "      <td>의약품</td>\n",
       "      <td>medicine</td>\n",
       "    </tr>\n",
       "    <tr>\n",
       "      <th>2</th>\n",
       "      <td>5d60d2d04e77525ec5ca145b</td>\n",
       "      <td>2019-08-21 05:04:55.728000+00:00</td>\n",
       "      <td>66000.0</td>\n",
       "      <td>0.0</td>\n",
       "      <td>NaN</td>\n",
       "      <td>2019-09-06 09:13:26.749000+00:00</td>\n",
       "      <td>5d60d0a94e77525ec5ca1446</td>\n",
       "      <td>True</td>\n",
       "      <td>제일 경옥고</td>\n",
       "      <td>5cf8bbba0098b2225c5dfaa2</td>\n",
       "      <td>5d5cd0f74e77525ec5ca12ab</td>\n",
       "      <td>1.0</td>\n",
       "      <td>59400.0</td>\n",
       "      <td>59400.0</td>\n",
       "      <td>30-39</td>\n",
       "      <td>0.0</td>\n",
       "      <td>1.0</td>\n",
       "      <td>False</td>\n",
       "      <td>의약품</td>\n",
       "      <td>medicine</td>\n",
       "    </tr>\n",
       "    <tr>\n",
       "      <th>3</th>\n",
       "      <td>5d60e27c4e77525ec5ca14b6</td>\n",
       "      <td>2019-10-16 04:03:00.777000+00:00</td>\n",
       "      <td>44800.0</td>\n",
       "      <td>37900.0</td>\n",
       "      <td>0.0</td>\n",
       "      <td>2019-10-21 02:18:23.528000+00:00</td>\n",
       "      <td>5d60e2694e77525ec5ca14b5</td>\n",
       "      <td>True</td>\n",
       "      <td>한의원 원장님도 기획자가 돼야한다 생각한다면, 읽어야 하는 책</td>\n",
       "      <td>5cf8bbba0098b2225c5dfaa3</td>\n",
       "      <td>5da696740dabe405b156eb5c</td>\n",
       "      <td>1.0</td>\n",
       "      <td>37000.0</td>\n",
       "      <td>37000.0</td>\n",
       "      <td>20-29</td>\n",
       "      <td>0.0</td>\n",
       "      <td>0.0</td>\n",
       "      <td>False</td>\n",
       "      <td>도서</td>\n",
       "      <td>book</td>\n",
       "    </tr>\n",
       "    <tr>\n",
       "      <th>4</th>\n",
       "      <td>5d60f8764e77525ec5ca14e5</td>\n",
       "      <td>NaT</td>\n",
       "      <td>NaN</td>\n",
       "      <td>NaN</td>\n",
       "      <td>NaN</td>\n",
       "      <td>NaT</td>\n",
       "      <td>5d60f3a74e77525ec5ca14da</td>\n",
       "      <td>False</td>\n",
       "      <td>None</td>\n",
       "      <td>None</td>\n",
       "      <td>None</td>\n",
       "      <td>NaN</td>\n",
       "      <td>NaN</td>\n",
       "      <td>NaN</td>\n",
       "      <td>40-49</td>\n",
       "      <td>1.0</td>\n",
       "      <td>1.0</td>\n",
       "      <td>False</td>\n",
       "      <td>None</td>\n",
       "      <td>None</td>\n",
       "    </tr>\n",
       "    <tr>\n",
       "      <th>...</th>\n",
       "      <td>...</td>\n",
       "      <td>...</td>\n",
       "      <td>...</td>\n",
       "      <td>...</td>\n",
       "      <td>...</td>\n",
       "      <td>...</td>\n",
       "      <td>...</td>\n",
       "      <td>...</td>\n",
       "      <td>...</td>\n",
       "      <td>...</td>\n",
       "      <td>...</td>\n",
       "      <td>...</td>\n",
       "      <td>...</td>\n",
       "      <td>...</td>\n",
       "      <td>...</td>\n",
       "      <td>...</td>\n",
       "      <td>...</td>\n",
       "      <td>...</td>\n",
       "      <td>...</td>\n",
       "      <td>...</td>\n",
       "    </tr>\n",
       "    <tr>\n",
       "      <th>266653</th>\n",
       "      <td>632044cb6c2e37002369f129</td>\n",
       "      <td>2022-02-16 04:01:35.033000+00:00</td>\n",
       "      <td>41500.0</td>\n",
       "      <td>35200.0</td>\n",
       "      <td>NaN</td>\n",
       "      <td>2022-09-13 08:53:42.268000+00:00</td>\n",
       "      <td>5d918f180dabe405b156d5e5</td>\n",
       "      <td>True</td>\n",
       "      <td>[씨케이주식회사] 황기(편) (5묶음) 600g*5ea, 중국</td>\n",
       "      <td>5fb32f7a5120316334323fd8</td>\n",
       "      <td>620c771fd41623002392d61b</td>\n",
       "      <td>1.0</td>\n",
       "      <td>35200.0</td>\n",
       "      <td>35200.0</td>\n",
       "      <td>30-39</td>\n",
       "      <td>0.0</td>\n",
       "      <td>1.0</td>\n",
       "      <td>False</td>\n",
       "      <td>한약재</td>\n",
       "      <td>medicinal-herbs</td>\n",
       "    </tr>\n",
       "    <tr>\n",
       "      <th>266654</th>\n",
       "      <td>632044cb6c2e37002369f129</td>\n",
       "      <td>2020-11-20 06:59:35.395000+00:00</td>\n",
       "      <td>4900.0</td>\n",
       "      <td>4200.0</td>\n",
       "      <td>NaN</td>\n",
       "      <td>2022-09-13 08:53:42.268000+00:00</td>\n",
       "      <td>5d918f180dabe405b156d5e5</td>\n",
       "      <td>True</td>\n",
       "      <td>[씨케이주식회사] 어성초 600g, 중국</td>\n",
       "      <td>5fb32f7a5120316334323fd8</td>\n",
       "      <td>5fb769575120316334324a69</td>\n",
       "      <td>1.0</td>\n",
       "      <td>4200.0</td>\n",
       "      <td>4200.0</td>\n",
       "      <td>30-39</td>\n",
       "      <td>0.0</td>\n",
       "      <td>1.0</td>\n",
       "      <td>False</td>\n",
       "      <td>한약재</td>\n",
       "      <td>medicinal-herbs</td>\n",
       "    </tr>\n",
       "    <tr>\n",
       "      <th>266655</th>\n",
       "      <td>632044cb6c2e37002369f129</td>\n",
       "      <td>2020-11-20 06:59:36.047000+00:00</td>\n",
       "      <td>3900.0</td>\n",
       "      <td>3300.0</td>\n",
       "      <td>NaN</td>\n",
       "      <td>2022-09-13 08:53:42.268000+00:00</td>\n",
       "      <td>5d918f180dabe405b156d5e5</td>\n",
       "      <td>True</td>\n",
       "      <td>[씨케이주식회사] 여정실 600g, 중국</td>\n",
       "      <td>5fb32f7a5120316334323fd8</td>\n",
       "      <td>5fb769585120316334324a6a</td>\n",
       "      <td>1.0</td>\n",
       "      <td>3300.0</td>\n",
       "      <td>3300.0</td>\n",
       "      <td>30-39</td>\n",
       "      <td>0.0</td>\n",
       "      <td>1.0</td>\n",
       "      <td>False</td>\n",
       "      <td>한약재</td>\n",
       "      <td>medicinal-herbs</td>\n",
       "    </tr>\n",
       "    <tr>\n",
       "      <th>266656</th>\n",
       "      <td>632045696c2e37002369f136</td>\n",
       "      <td>2022-08-30 00:42:13.239000+00:00</td>\n",
       "      <td>330000.0</td>\n",
       "      <td>0.0</td>\n",
       "      <td>386.0</td>\n",
       "      <td>2022-09-13 08:59:21.151000+00:00</td>\n",
       "      <td>628ecb419d9388002406f007</td>\n",
       "      <td>True</td>\n",
       "      <td>맘 편하게 한약 처방하기</td>\n",
       "      <td>5ea40b671a3ca36b967849ad</td>\n",
       "      <td>630d5ce568554000236d9a5d</td>\n",
       "      <td>1.0</td>\n",
       "      <td>264000.0</td>\n",
       "      <td>264000.0</td>\n",
       "      <td>None</td>\n",
       "      <td>1.0</td>\n",
       "      <td>0.0</td>\n",
       "      <td>False</td>\n",
       "      <td>온라인 강의</td>\n",
       "      <td>lecture</td>\n",
       "    </tr>\n",
       "    <tr>\n",
       "      <th>266657</th>\n",
       "      <td>6320470f6c2e37002369f145</td>\n",
       "      <td>2021-10-07 08:26:25.167000+00:00</td>\n",
       "      <td>45750.0</td>\n",
       "      <td>0.0</td>\n",
       "      <td>NaN</td>\n",
       "      <td>NaT</td>\n",
       "      <td>5ec65c7ee510ee503167b1e3</td>\n",
       "      <td>False</td>\n",
       "      <td>정우 반하후박탕정 150포 (50일분/1회 용량 2정)</td>\n",
       "      <td>5cf8bbba0098b2225c5dfaa2</td>\n",
       "      <td>615eaf314cf9a5002287e582</td>\n",
       "      <td>1.0</td>\n",
       "      <td>45750.0</td>\n",
       "      <td>45750.0</td>\n",
       "      <td>30-39</td>\n",
       "      <td>0.0</td>\n",
       "      <td>0.0</td>\n",
       "      <td>False</td>\n",
       "      <td>의약품</td>\n",
       "      <td>medicine</td>\n",
       "    </tr>\n",
       "  </tbody>\n",
       "</table>\n",
       "<p>266658 rows × 20 columns</p>\n",
       "</div>"
      ],
      "text/plain": [
       "                             _id                     date_created  \\\n",
       "0       5d60cebb4e77525ec5ca141c                              NaT   \n",
       "1       5d60daf14e77525ec5ca1497 2019-08-21 05:04:55.728000+00:00   \n",
       "2       5d60d2d04e77525ec5ca145b 2019-08-21 05:04:55.728000+00:00   \n",
       "3       5d60e27c4e77525ec5ca14b6 2019-10-16 04:03:00.777000+00:00   \n",
       "4       5d60f8764e77525ec5ca14e5                              NaT   \n",
       "...                          ...                              ...   \n",
       "266653  632044cb6c2e37002369f129 2022-02-16 04:01:35.033000+00:00   \n",
       "266654  632044cb6c2e37002369f129 2020-11-20 06:59:35.395000+00:00   \n",
       "266655  632044cb6c2e37002369f129 2020-11-20 06:59:36.047000+00:00   \n",
       "266656  632045696c2e37002369f136 2022-08-30 00:42:13.239000+00:00   \n",
       "266657  6320470f6c2e37002369f145 2021-10-07 08:26:25.167000+00:00   \n",
       "\n",
       "        regular_price  sale_price  three_months  \\\n",
       "0                 NaN         NaN           NaN   \n",
       "1             66000.0         0.0           NaN   \n",
       "2             66000.0         0.0           NaN   \n",
       "3             44800.0     37900.0           0.0   \n",
       "4                 NaN         NaN           NaN   \n",
       "...               ...         ...           ...   \n",
       "266653        41500.0     35200.0           NaN   \n",
       "266654         4900.0      4200.0           NaN   \n",
       "266655         3900.0      3300.0           NaN   \n",
       "266656       330000.0         0.0         386.0   \n",
       "266657        45750.0         0.0           NaN   \n",
       "\n",
       "                              date_paid               customer_id   paid  \\\n",
       "0                                   NaT  5d60cea34e77525ec5ca1413  False   \n",
       "1                                   NaT  5d60ceba4e77525ec5ca1419  False   \n",
       "2      2019-09-06 09:13:26.749000+00:00  5d60d0a94e77525ec5ca1446   True   \n",
       "3      2019-10-21 02:18:23.528000+00:00  5d60e2694e77525ec5ca14b5   True   \n",
       "4                                   NaT  5d60f3a74e77525ec5ca14da  False   \n",
       "...                                 ...                       ...    ...   \n",
       "266653 2022-09-13 08:53:42.268000+00:00  5d918f180dabe405b156d5e5   True   \n",
       "266654 2022-09-13 08:53:42.268000+00:00  5d918f180dabe405b156d5e5   True   \n",
       "266655 2022-09-13 08:53:42.268000+00:00  5d918f180dabe405b156d5e5   True   \n",
       "266656 2022-09-13 08:59:21.151000+00:00  628ecb419d9388002406f007   True   \n",
       "266657                              NaT  5ec65c7ee510ee503167b1e3  False   \n",
       "\n",
       "                                    name_x             category_id_y  \\\n",
       "0                                     None                      None   \n",
       "1                                   제일 경옥고  5cf8bbba0098b2225c5dfaa2   \n",
       "2                                   제일 경옥고  5cf8bbba0098b2225c5dfaa2   \n",
       "3       한의원 원장님도 기획자가 돼야한다 생각한다면, 읽어야 하는 책  5cf8bbba0098b2225c5dfaa3   \n",
       "4                                     None                      None   \n",
       "...                                    ...                       ...   \n",
       "266653  [씨케이주식회사] 황기(편) (5묶음) 600g*5ea, 중국  5fb32f7a5120316334323fd8   \n",
       "266654              [씨케이주식회사] 어성초 600g, 중국  5fb32f7a5120316334323fd8   \n",
       "266655              [씨케이주식회사] 여정실 600g, 중국  5fb32f7a5120316334323fd8   \n",
       "266656                       맘 편하게 한약 처방하기  5ea40b671a3ca36b967849ad   \n",
       "266657      정우 반하후박탕정 150포 (50일분/1회 용량 2정)  5cf8bbba0098b2225c5dfaa2   \n",
       "\n",
       "                     product_ids  quantity     price  price_total age_group  \\\n",
       "0                           None       NaN       NaN          NaN     20-29   \n",
       "1       5d5cd0f74e77525ec5ca12ab       3.0   59400.0     178200.0     20-29   \n",
       "2       5d5cd0f74e77525ec5ca12ab       1.0   59400.0      59400.0     30-39   \n",
       "3       5da696740dabe405b156eb5c       1.0   37000.0      37000.0     20-29   \n",
       "4                           None       NaN       NaN          NaN     40-49   \n",
       "...                          ...       ...       ...          ...       ...   \n",
       "266653  620c771fd41623002392d61b       1.0   35200.0      35200.0     30-39   \n",
       "266654  5fb769575120316334324a69       1.0    4200.0       4200.0     30-39   \n",
       "266655  5fb769585120316334324a6a       1.0    3300.0       3300.0     30-39   \n",
       "266656  630d5ce568554000236d9a5d       1.0  264000.0     264000.0      None   \n",
       "266657  615eaf314cf9a5002287e582       1.0   45750.0      45750.0     30-39   \n",
       "\n",
       "        한의사 여부  사업자 여부  cancelled    name             slug  \n",
       "0          1.0     0.0      False    None             None  \n",
       "1          1.0     0.0       True     의약품         medicine  \n",
       "2          0.0     1.0      False     의약품         medicine  \n",
       "3          0.0     0.0      False      도서             book  \n",
       "4          1.0     1.0      False    None             None  \n",
       "...        ...     ...        ...     ...              ...  \n",
       "266653     0.0     1.0      False     한약재  medicinal-herbs  \n",
       "266654     0.0     1.0      False     한약재  medicinal-herbs  \n",
       "266655     0.0     1.0      False     한약재  medicinal-herbs  \n",
       "266656     1.0     0.0      False  온라인 강의          lecture  \n",
       "266657     0.0     0.0      False     의약품         medicine  \n",
       "\n",
       "[266658 rows x 20 columns]"
      ]
     },
     "execution_count": 100,
     "metadata": {},
     "output_type": "execute_result"
    }
   ],
   "source": [
    "df"
   ]
  },
  {
   "cell_type": "code",
   "execution_count": null,
   "id": "1d0812d4",
   "metadata": {},
   "outputs": [],
   "source": []
  }
 ],
 "metadata": {
  "kernelspec": {
   "display_name": "Python 3",
   "language": "python",
   "name": "python3"
  },
  "language_info": {
   "codemirror_mode": {
    "name": "ipython",
    "version": 3
   },
   "file_extension": ".py",
   "mimetype": "text/x-python",
   "name": "python",
   "nbconvert_exporter": "python",
   "pygments_lexer": "ipython3",
   "version": "3.8.8"
  }
 },
 "nbformat": 4,
 "nbformat_minor": 5
}
