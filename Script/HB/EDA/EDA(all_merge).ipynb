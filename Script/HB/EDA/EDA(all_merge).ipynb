{
 "cells": [
  {
   "cell_type": "code",
   "execution_count": 2,
   "id": "230e517a",
   "metadata": {},
   "outputs": [],
   "source": [
    "import pandas as pd\n",
    "import numpy as np\n",
    "import matplotlib.pyplot as plt\n",
    "import seaborn as sns\n",
    "plt.rcParams['figure.figsize'] = [10, 8]\n",
    "from tqdm import tqdm\n",
    "\n",
    "import warnings\n",
    "warnings.filterwarnings('ignore')"
   ]
  },
  {
   "cell_type": "code",
   "execution_count": 3,
   "id": "0d70d9cb",
   "metadata": {},
   "outputs": [],
   "source": [
    "df_all_merge = pd.read_json('/fastcampus-data/select_column.json', encoding = 'utf-8')\n",
    "df = df_all_merge.copy()\n",
    "\n",
    "# 사용할 컬럼 정렬\n",
    "df = df[['_id','customer_id','age_group', '한의사 여부', '사업자 여부',\n",
    "         'name_x','name','slug','product_ids', 'category_id_y','regular_price',\n",
    "         'date_paid', 'paid','cancelled',\n",
    "         ]]"
   ]
  },
  {
   "cell_type": "code",
   "execution_count": 6,
   "id": "0faf11de",
   "metadata": {},
   "outputs": [
    {
     "data": {
      "text/plain": [
       "180211"
      ]
     },
     "execution_count": 6,
     "metadata": {},
     "output_type": "execute_result"
    }
   ],
   "source": [
    "len(df_all_merge)"
   ]
  },
  {
   "cell_type": "code",
   "execution_count": 5,
   "id": "3291870a",
   "metadata": {},
   "outputs": [
    {
     "data": {
      "text/plain": [
       "5ff2d56f5ae455001b219ae2    4390\n",
       "60d018b7d26af90681b18980    2505\n",
       "6226b268f967570023fa9ea3    2486\n",
       "60236e092c593a001ace9ffa    1696\n",
       "6153c87c4cf9a5002287c4a6    1539\n",
       "                            ... \n",
       "5fb769785120316334324aaa       1\n",
       "5fbde8bece872a1a803a7d60       1\n",
       "5fd1c8920204ef001a67f617       1\n",
       "609a372a0ccc56001bc7db0f       1\n",
       "6108cb63d26af90681b1e127       1\n",
       "Name: product_ids, Length: 3367, dtype: int64"
      ]
     },
     "execution_count": 5,
     "metadata": {},
     "output_type": "execute_result"
    }
   ],
   "source": [
    "df_all_merge.product_ids.value_counts()"
   ]
  },
  {
   "cell_type": "markdown",
   "id": "f815a653",
   "metadata": {},
   "source": [
    "# preprocessing"
   ]
  },
  {
   "cell_type": "markdown",
   "id": "ab609aae",
   "metadata": {},
   "source": [
    "## 1. label encoding"
   ]
  },
  {
   "cell_type": "code",
   "execution_count": 5,
   "id": "0c2ae45a",
   "metadata": {
    "scrolled": false
   },
   "outputs": [],
   "source": [
    "# label encoding\n",
    "from sklearn.preprocessing import LabelEncoder\n",
    "\n",
    "le = LabelEncoder()\n",
    "\n",
    "df.loc[:,'cancelled'] = le.fit_transform(df['cancelled'])\n",
    "df.loc[:,'paid'] = le.fit_transform(df['paid'])"
   ]
  },
  {
   "cell_type": "markdown",
   "id": "5fc79d05",
   "metadata": {},
   "source": [
    "## 2. paid_date processing"
   ]
  },
  {
   "cell_type": "code",
   "execution_count": 6,
   "id": "6c2a2380",
   "metadata": {},
   "outputs": [],
   "source": [
    "# date 조회하기 위해 전처리\n",
    "df['date_paid'] = df['date_paid'].apply(lambda x: x.replace('T', ' ')[:-5] if type(x)==str else None)"
   ]
  },
  {
   "cell_type": "markdown",
   "id": "251fce63",
   "metadata": {},
   "source": [
    "# df_paid_complete: 지불 완료하고 취소 안한 거래"
   ]
  },
  {
   "cell_type": "code",
   "execution_count": 7,
   "id": "5be9d950",
   "metadata": {},
   "outputs": [],
   "source": [
    "# real paid\n",
    "df_paid_complete = df[(df['paid'] == 1) & (df['cancelled'] == 0)]"
   ]
  },
  {
   "cell_type": "code",
   "execution_count": 8,
   "id": "1172f8a9",
   "metadata": {
    "scrolled": false
   },
   "outputs": [
    {
     "name": "stdout",
     "output_type": "stream",
     "text": [
      "원본   : (180211, 14)\n",
      "지불완료:  (137395, 14)\n"
     ]
    }
   ],
   "source": [
    "print('원본   :', df.shape)\n",
    "print('지불완료: ', df_paid_complete.shape)"
   ]
  },
  {
   "cell_type": "code",
   "execution_count": 10,
   "id": "8649c7eb",
   "metadata": {},
   "outputs": [],
   "source": [
    "# save to df_paid_complete.csv\n",
    "\n",
    "from pathlib import Path \n",
    "filepath = Path('/home/user_4/apriori/df_paid_complete.csv')  \n",
    "filepath.parent.mkdir(parents=True, exist_ok=True)  \n",
    "df_paid_complete.to_csv(filepath)"
   ]
  },
  {
   "cell_type": "markdown",
   "id": "9c3baa2b",
   "metadata": {},
   "source": [
    "# df_clean: 22.5.12 이후의 데이터"
   ]
  },
  {
   "cell_type": "code",
   "execution_count": 55,
   "id": "0e4a563a",
   "metadata": {},
   "outputs": [],
   "source": [
    "from datetime import datetime\n",
    "\n",
    "df_paid_complete.date_paid = pd.to_datetime(df_paid_complete.date_paid)\n",
    "df_clean = df_paid_complete[df_paid_complete.date_paid >= \"2022-05-12\"]"
   ]
  },
  {
   "cell_type": "code",
   "execution_count": 57,
   "id": "08d4e7a3",
   "metadata": {
    "scrolled": true
   },
   "outputs": [
    {
     "data": {
      "text/plain": [
       "(48874, 14)"
      ]
     },
     "execution_count": 57,
     "metadata": {},
     "output_type": "execute_result"
    }
   ],
   "source": [
    "df_clean.shape"
   ]
  },
  {
   "cell_type": "code",
   "execution_count": 202,
   "id": "3b013f82",
   "metadata": {},
   "outputs": [
    {
     "data": {
      "text/html": [
       "<div>\n",
       "<style scoped>\n",
       "    .dataframe tbody tr th:only-of-type {\n",
       "        vertical-align: middle;\n",
       "    }\n",
       "\n",
       "    .dataframe tbody tr th {\n",
       "        vertical-align: top;\n",
       "    }\n",
       "\n",
       "    .dataframe thead th {\n",
       "        text-align: right;\n",
       "    }\n",
       "</style>\n",
       "<table border=\"1\" class=\"dataframe\">\n",
       "  <thead>\n",
       "    <tr style=\"text-align: right;\">\n",
       "      <th></th>\n",
       "      <th>_id</th>\n",
       "      <th>customer_id</th>\n",
       "      <th>age_group</th>\n",
       "      <th>한의사 여부</th>\n",
       "      <th>사업자 여부</th>\n",
       "      <th>name_x</th>\n",
       "      <th>name</th>\n",
       "      <th>slug</th>\n",
       "      <th>product_ids</th>\n",
       "      <th>category_id_y</th>\n",
       "      <th>regular_price</th>\n",
       "      <th>date_paid</th>\n",
       "      <th>paid</th>\n",
       "      <th>cancelled</th>\n",
       "    </tr>\n",
       "  </thead>\n",
       "  <tbody>\n",
       "    <tr>\n",
       "      <th>122257</th>\n",
       "      <td>62354552f967570023fb002e</td>\n",
       "      <td>5dad06d10dabe405b156ee57</td>\n",
       "      <td>30-39</td>\n",
       "      <td>1.0</td>\n",
       "      <td>1.0</td>\n",
       "      <td>동방 수침 9,000쌈+1,000쌈 증정 (100,000pcs)</td>\n",
       "      <td>소모품</td>\n",
       "      <td>expendables</td>\n",
       "      <td>60893ae9c1908b001a63fc79</td>\n",
       "      <td>5e91ce6fbfe42609447852d1</td>\n",
       "      <td>1700000</td>\n",
       "      <td>2022-05-13 04:04:00</td>\n",
       "      <td>1</td>\n",
       "      <td>0</td>\n",
       "    </tr>\n",
       "    <tr>\n",
       "      <th>125972</th>\n",
       "      <td>6243ac5e6f766b002466abda</td>\n",
       "      <td>5db11be70dabe405b156f2b9</td>\n",
       "      <td>20-29</td>\n",
       "      <td>1.0</td>\n",
       "      <td>1.0</td>\n",
       "      <td>HCK 엘리베이션베드 (E100)</td>\n",
       "      <td>치료실 물품</td>\n",
       "      <td>clincal-equipment</td>\n",
       "      <td>610cd88909c63a06ed1489fe</td>\n",
       "      <td>5e5d8fe7bfe4260944782c19</td>\n",
       "      <td>850000</td>\n",
       "      <td>2022-06-13 06:02:00</td>\n",
       "      <td>1</td>\n",
       "      <td>0</td>\n",
       "    </tr>\n",
       "    <tr>\n",
       "      <th>135510</th>\n",
       "      <td>626bf75996089d00224134c4</td>\n",
       "      <td>625aa5cbcb28e6002469eb79</td>\n",
       "      <td>None</td>\n",
       "      <td>0.0</td>\n",
       "      <td>0.0</td>\n",
       "      <td>임상해부학 특강</td>\n",
       "      <td>온라인 강의</td>\n",
       "      <td>lecture</td>\n",
       "      <td>60236e092c593a001ace9ffa</td>\n",
       "      <td>5ea40b671a3ca36b967849ad</td>\n",
       "      <td>88000</td>\n",
       "      <td>2022-05-18 01:04:00</td>\n",
       "      <td>1</td>\n",
       "      <td>0</td>\n",
       "    </tr>\n",
       "    <tr>\n",
       "      <th>138220</th>\n",
       "      <td>6278da149d93880024062480</td>\n",
       "      <td>5e5a51f4bfe4260944782b2a</td>\n",
       "      <td>20-29</td>\n",
       "      <td>1.0</td>\n",
       "      <td>1.0</td>\n",
       "      <td>유한킴벌리 덴탈마스크 50매</td>\n",
       "      <td>치료실 물품</td>\n",
       "      <td>clincal-equipment</td>\n",
       "      <td>62625488c1ca560032c7a803</td>\n",
       "      <td>5e5d8fe7bfe4260944782c19</td>\n",
       "      <td>9000</td>\n",
       "      <td>2022-05-12 09:02:00</td>\n",
       "      <td>1</td>\n",
       "      <td>0</td>\n",
       "    </tr>\n",
       "    <tr>\n",
       "      <th>138527</th>\n",
       "      <td>627a29789d93880024062a27</td>\n",
       "      <td>627a24dd9d938800240629fd</td>\n",
       "      <td>None</td>\n",
       "      <td>1.0</td>\n",
       "      <td>0.0</td>\n",
       "      <td>[보수교육] 2022년 대한한방내과학회 춘계 학술대회</td>\n",
       "      <td>온라인 강의</td>\n",
       "      <td>lecture</td>\n",
       "      <td>623d77426f766b0024669852</td>\n",
       "      <td>5ea40b671a3ca36b967849ad</td>\n",
       "      <td>40000</td>\n",
       "      <td>2022-05-17 02:00:00</td>\n",
       "      <td>1</td>\n",
       "      <td>0</td>\n",
       "    </tr>\n",
       "    <tr>\n",
       "      <th>...</th>\n",
       "      <td>...</td>\n",
       "      <td>...</td>\n",
       "      <td>...</td>\n",
       "      <td>...</td>\n",
       "      <td>...</td>\n",
       "      <td>...</td>\n",
       "      <td>...</td>\n",
       "      <td>...</td>\n",
       "      <td>...</td>\n",
       "      <td>...</td>\n",
       "      <td>...</td>\n",
       "      <td>...</td>\n",
       "      <td>...</td>\n",
       "      <td>...</td>\n",
       "    </tr>\n",
       "    <tr>\n",
       "      <th>207141</th>\n",
       "      <td>632040cf6c2e37002369f109</td>\n",
       "      <td>5e7c92adbfe4260944784430</td>\n",
       "      <td>30-39</td>\n",
       "      <td>1.0</td>\n",
       "      <td>1.0</td>\n",
       "      <td>메디TV Ep.02</td>\n",
       "      <td>메디TV</td>\n",
       "      <td>medi-tv</td>\n",
       "      <td>62c2951888c7dc00239bc04a</td>\n",
       "      <td>62bc13f608e04900234e38d0</td>\n",
       "      <td>5999</td>\n",
       "      <td>2022-09-13 08:35:46</td>\n",
       "      <td>1</td>\n",
       "      <td>0</td>\n",
       "    </tr>\n",
       "    <tr>\n",
       "      <th>207142</th>\n",
       "      <td>632040eb6c2e37002369f10b</td>\n",
       "      <td>5d9ef3790dabe405b156e346</td>\n",
       "      <td>20-29</td>\n",
       "      <td>1.0</td>\n",
       "      <td>0.0</td>\n",
       "      <td>아크메시 노치넥 프론트 포켓 스크럽 남성 탑 (Dry up) WARM GRAY</td>\n",
       "      <td>의류/잡화</td>\n",
       "      <td>clothes</td>\n",
       "      <td>5eb9112309982e0735b2d59b</td>\n",
       "      <td>5e8e8b25bfe4260944785088</td>\n",
       "      <td>55000</td>\n",
       "      <td>2022-09-13 08:39:57</td>\n",
       "      <td>1</td>\n",
       "      <td>0</td>\n",
       "    </tr>\n",
       "    <tr>\n",
       "      <th>207144</th>\n",
       "      <td>632042d86c2e37002369f117</td>\n",
       "      <td>5d70ccd419efa30eb2914271</td>\n",
       "      <td>30-39</td>\n",
       "      <td>1.0</td>\n",
       "      <td>1.0</td>\n",
       "      <td>다나침 한쌈용 1,000쌈 (10,000pcs)</td>\n",
       "      <td>소모품</td>\n",
       "      <td>expendables</td>\n",
       "      <td>5fe3ffe7fccb62001a21e836</td>\n",
       "      <td>5e91ce6fbfe42609447852d1</td>\n",
       "      <td>143000</td>\n",
       "      <td>2022-09-13 08:46:18</td>\n",
       "      <td>1</td>\n",
       "      <td>0</td>\n",
       "    </tr>\n",
       "    <tr>\n",
       "      <th>207146</th>\n",
       "      <td>632044cb6c2e37002369f129</td>\n",
       "      <td>5d918f180dabe405b156d5e5</td>\n",
       "      <td>30-39</td>\n",
       "      <td>0.0</td>\n",
       "      <td>1.0</td>\n",
       "      <td>[씨케이주식회사] 작약[한국] (5묶음) 600g*5ea, 한국</td>\n",
       "      <td>한약재</td>\n",
       "      <td>medicinal-herbs</td>\n",
       "      <td>620c7728d41623002392d628</td>\n",
       "      <td>5fb32f7a5120316334323fd8</td>\n",
       "      <td>56000</td>\n",
       "      <td>2022-09-13 08:53:42</td>\n",
       "      <td>1</td>\n",
       "      <td>0</td>\n",
       "    </tr>\n",
       "    <tr>\n",
       "      <th>207147</th>\n",
       "      <td>632045696c2e37002369f136</td>\n",
       "      <td>628ecb419d9388002406f007</td>\n",
       "      <td>None</td>\n",
       "      <td>1.0</td>\n",
       "      <td>0.0</td>\n",
       "      <td>맘 편하게 한약 처방하기</td>\n",
       "      <td>온라인 강의</td>\n",
       "      <td>lecture</td>\n",
       "      <td>630d5ce568554000236d9a5d</td>\n",
       "      <td>5ea40b671a3ca36b967849ad</td>\n",
       "      <td>330000</td>\n",
       "      <td>2022-09-13 08:59:21</td>\n",
       "      <td>1</td>\n",
       "      <td>0</td>\n",
       "    </tr>\n",
       "  </tbody>\n",
       "</table>\n",
       "<p>48874 rows × 14 columns</p>\n",
       "</div>"
      ],
      "text/plain": [
       "                             _id               customer_id age_group  한의사 여부  \\\n",
       "122257  62354552f967570023fb002e  5dad06d10dabe405b156ee57     30-39     1.0   \n",
       "125972  6243ac5e6f766b002466abda  5db11be70dabe405b156f2b9     20-29     1.0   \n",
       "135510  626bf75996089d00224134c4  625aa5cbcb28e6002469eb79      None     0.0   \n",
       "138220  6278da149d93880024062480  5e5a51f4bfe4260944782b2a     20-29     1.0   \n",
       "138527  627a29789d93880024062a27  627a24dd9d938800240629fd      None     1.0   \n",
       "...                          ...                       ...       ...     ...   \n",
       "207141  632040cf6c2e37002369f109  5e7c92adbfe4260944784430     30-39     1.0   \n",
       "207142  632040eb6c2e37002369f10b  5d9ef3790dabe405b156e346     20-29     1.0   \n",
       "207144  632042d86c2e37002369f117  5d70ccd419efa30eb2914271     30-39     1.0   \n",
       "207146  632044cb6c2e37002369f129  5d918f180dabe405b156d5e5     30-39     0.0   \n",
       "207147  632045696c2e37002369f136  628ecb419d9388002406f007      None     1.0   \n",
       "\n",
       "        사업자 여부                                       name_x    name  \\\n",
       "122257     1.0          동방 수침 9,000쌈+1,000쌈 증정 (100,000pcs)     소모품   \n",
       "125972     1.0                           HCK 엘리베이션베드 (E100)  치료실 물품   \n",
       "135510     0.0                                     임상해부학 특강  온라인 강의   \n",
       "138220     1.0                              유한킴벌리 덴탈마스크 50매  치료실 물품   \n",
       "138527     0.0                [보수교육] 2022년 대한한방내과학회 춘계 학술대회  온라인 강의   \n",
       "...        ...                                          ...     ...   \n",
       "207141     1.0                                  메디TV Ep.02     메디TV   \n",
       "207142     0.0  아크메시 노치넥 프론트 포켓 스크럽 남성 탑 (Dry up) WARM GRAY   의류/잡화   \n",
       "207144     1.0                   다나침 한쌈용 1,000쌈 (10,000pcs)     소모품   \n",
       "207146     1.0          [씨케이주식회사] 작약[한국] (5묶음) 600g*5ea, 한국     한약재   \n",
       "207147     0.0                                맘 편하게 한약 처방하기  온라인 강의   \n",
       "\n",
       "                     slug               product_ids             category_id_y  \\\n",
       "122257        expendables  60893ae9c1908b001a63fc79  5e91ce6fbfe42609447852d1   \n",
       "125972  clincal-equipment  610cd88909c63a06ed1489fe  5e5d8fe7bfe4260944782c19   \n",
       "135510            lecture  60236e092c593a001ace9ffa  5ea40b671a3ca36b967849ad   \n",
       "138220  clincal-equipment  62625488c1ca560032c7a803  5e5d8fe7bfe4260944782c19   \n",
       "138527            lecture  623d77426f766b0024669852  5ea40b671a3ca36b967849ad   \n",
       "...                   ...                       ...                       ...   \n",
       "207141            medi-tv  62c2951888c7dc00239bc04a  62bc13f608e04900234e38d0   \n",
       "207142            clothes  5eb9112309982e0735b2d59b  5e8e8b25bfe4260944785088   \n",
       "207144        expendables  5fe3ffe7fccb62001a21e836  5e91ce6fbfe42609447852d1   \n",
       "207146    medicinal-herbs  620c7728d41623002392d628  5fb32f7a5120316334323fd8   \n",
       "207147            lecture  630d5ce568554000236d9a5d  5ea40b671a3ca36b967849ad   \n",
       "\n",
       "        regular_price           date_paid  paid  cancelled  \n",
       "122257        1700000 2022-05-13 04:04:00     1          0  \n",
       "125972         850000 2022-06-13 06:02:00     1          0  \n",
       "135510          88000 2022-05-18 01:04:00     1          0  \n",
       "138220           9000 2022-05-12 09:02:00     1          0  \n",
       "138527          40000 2022-05-17 02:00:00     1          0  \n",
       "...               ...                 ...   ...        ...  \n",
       "207141           5999 2022-09-13 08:35:46     1          0  \n",
       "207142          55000 2022-09-13 08:39:57     1          0  \n",
       "207144         143000 2022-09-13 08:46:18     1          0  \n",
       "207146          56000 2022-09-13 08:53:42     1          0  \n",
       "207147         330000 2022-09-13 08:59:21     1          0  \n",
       "\n",
       "[48874 rows x 14 columns]"
      ]
     },
     "execution_count": 202,
     "metadata": {},
     "output_type": "execute_result"
    }
   ],
   "source": [
    "df_clean"
   ]
  },
  {
   "cell_type": "markdown",
   "id": "585979fe",
   "metadata": {},
   "source": [
    "# save to csv"
   ]
  },
  {
   "cell_type": "code",
   "execution_count": 199,
   "id": "4715c7ff",
   "metadata": {
    "scrolled": false
   },
   "outputs": [],
   "source": [
    "# save to csv\n",
    "from pathlib import Path  \n",
    "filepath = Path('/home/user_4/apriori/clean_df.csv')  \n",
    "filepath.parent.mkdir(parents=True, exist_ok=True)  \n",
    "df_clean.to_csv(filepath)"
   ]
  },
  {
   "cell_type": "markdown",
   "id": "a8c23e26",
   "metadata": {},
   "source": [
    "# df_clean로 분석 시작!!"
   ]
  },
  {
   "cell_type": "code",
   "execution_count": 58,
   "id": "20c9a8a7",
   "metadata": {
    "scrolled": true
   },
   "outputs": [
    {
     "name": "stdout",
     "output_type": "stream",
     "text": [
      "<class 'pandas.core.frame.DataFrame'>\n",
      "Int64Index: 48874 entries, 122257 to 207147\n",
      "Data columns (total 14 columns):\n",
      " #   Column         Non-Null Count  Dtype         \n",
      "---  ------         --------------  -----         \n",
      " 0   _id            48874 non-null  object        \n",
      " 1   customer_id    48874 non-null  object        \n",
      " 2   age_group      36809 non-null  object        \n",
      " 3   한의사 여부         48613 non-null  float64       \n",
      " 4   사업자 여부         48613 non-null  float64       \n",
      " 5   name_x         48874 non-null  object        \n",
      " 6   name           48874 non-null  object        \n",
      " 7   slug           48874 non-null  object        \n",
      " 8   product_ids    48874 non-null  object        \n",
      " 9   category_id_y  48874 non-null  object        \n",
      " 10  regular_price  48874 non-null  int64         \n",
      " 11  date_paid      48874 non-null  datetime64[ns]\n",
      " 12  paid           48874 non-null  int64         \n",
      " 13  cancelled      48874 non-null  int64         \n",
      "dtypes: datetime64[ns](1), float64(2), int64(3), object(8)\n",
      "memory usage: 5.6+ MB\n"
     ]
    }
   ],
   "source": [
    "df_clean.info()"
   ]
  },
  {
   "cell_type": "code",
   "execution_count": 59,
   "id": "b0b08307",
   "metadata": {},
   "outputs": [
    {
     "data": {
      "text/plain": [
       "5d886c5a0dabe405b156d48f    266\n",
       "5d96a6be0dabe405b156daf2    197\n",
       "5d6f967319efa30eb291416e    178\n",
       "5d6344944e77525ec5ca15e9    172\n",
       "5d918f180dabe405b156d5e5    134\n",
       "5da43b0a0dabe405b156eaba    127\n",
       "5f3c84aaa0b91001bf48cf6b    120\n",
       "613810003b4626001a056277    116\n",
       "5d968f610dabe405b156d869    111\n",
       "5d60d0a94e77525ec5ca1446    108\n",
       "62c648cf02b69848824347a3    103\n",
       "5f11a010221c8b5f77c8eff9     97\n",
       "5e042abf4267e105dfff008a     93\n",
       "5d6f71e319efa30eb2914020     91\n",
       "5d843ef40dabe405b156d3cb     89\n",
       "5e00bd6c4267e105dffefeaf     86\n",
       "5d8dfd2e0dabe405b156d58b     82\n",
       "5e763010bfe4260944783dbd     80\n",
       "5d71cd0f19efa30eb291433a     77\n",
       "5d60cd634e77525ec5ca1402     71\n",
       "Name: customer_id, dtype: int64"
      ]
     },
     "execution_count": 59,
     "metadata": {},
     "output_type": "execute_result"
    }
   ],
   "source": [
    "df_clean['customer_id'].value_counts().head(20)"
   ]
  },
  {
   "cell_type": "code",
   "execution_count": 60,
   "id": "fdddd0e5",
   "metadata": {},
   "outputs": [
    {
     "data": {
      "text/plain": [
       "5ff2d56f5ae455001b219ae2    1110\n",
       "62821d459d9388002406452b     828\n",
       "62821da29d9388002406454f     828\n",
       "62821ca79d93880024064505     828\n",
       "62821e2b9d93880024064584     828\n",
       "62821e519d93880024064590     828\n",
       "62821e919d938800240645a7     828\n",
       "62821d249d93880024064523     828\n",
       "62821ecf9d938800240645b9     828\n",
       "62821de79d9388002406456b     828\n",
       "Name: product_ids, dtype: int64"
      ]
     },
     "execution_count": 60,
     "metadata": {},
     "output_type": "execute_result"
    }
   ],
   "source": [
    "df_clean['product_ids'].value_counts().head(10)"
   ]
  },
  {
   "cell_type": "code",
   "execution_count": 117,
   "id": "d22e9ac0",
   "metadata": {
    "scrolled": false
   },
   "outputs": [
    {
     "data": {
      "text/plain": [
       "온라인 강의    31518\n",
       "도서         4529\n",
       "소모품        3564\n",
       "메디TV       2564\n",
       "한약재        1380\n",
       "식품         1057\n",
       "의료기기       1040\n",
       "의약품         942\n",
       "의류/잡화       490\n",
       "치료실 물품      450\n",
       "Name: name, dtype: int64"
      ]
     },
     "execution_count": 117,
     "metadata": {},
     "output_type": "execute_result"
    }
   ],
   "source": [
    "df_clean['name'].value_counts().head(10)"
   ]
  },
  {
   "cell_type": "code",
   "execution_count": 126,
   "id": "b4b96446",
   "metadata": {},
   "outputs": [
    {
     "name": "stdout",
     "output_type": "stream",
     "text": [
      "온라인 강의     0.645\n",
      "도서         0.093\n",
      "소모품        0.073\n",
      "메디TV       0.052\n",
      "한약재        0.028\n",
      "식품         0.022\n",
      "의료기기       0.021\n",
      "의약품        0.019\n",
      "의류/잡화      0.010\n",
      "치료실 물품     0.009\n",
      "구독         0.006\n",
      "오프라인 강의    0.006\n",
      "생활         0.006\n",
      "가전/가구      0.004\n",
      "디자인        0.002\n",
      "재활 용품      0.001\n",
      "해부학 모형     0.001\n",
      "약속처방       0.001\n",
      "기타         0.000\n",
      "기획서비스      0.000\n",
      "Name: name, dtype: float64\n"
     ]
    }
   ],
   "source": [
    "sum_ = df_clean['name'].value_counts().sum()\n",
    "print(round(df_clean['name'].value_counts() / sum_, 3))"
   ]
  },
  {
   "cell_type": "markdown",
   "id": "6001ce47",
   "metadata": {},
   "source": [
    "m# only books"
   ]
  },
  {
   "cell_type": "code",
   "execution_count": 62,
   "id": "0002916c",
   "metadata": {},
   "outputs": [],
   "source": [
    "df_book = df_clean[df_clean['name'] == '도서']\n",
    "\n",
    "# 필요한 컬럼만 추리기\n",
    "df_book = df_book[['_id', 'customer_id', 'age_group', '한의사 여부', '사업자 여부', \n",
    "                   'name_x', 'product_ids', 'regular_price', 'date_paid']]"
   ]
  },
  {
   "cell_type": "code",
   "execution_count": 127,
   "id": "f691cad3",
   "metadata": {},
   "outputs": [
    {
     "name": "stdout",
     "output_type": "stream",
     "text": [
      "<class 'pandas.core.frame.DataFrame'>\n",
      "Int64Index: 4529 entries, 138587 to 207130\n",
      "Data columns (total 9 columns):\n",
      " #   Column         Non-Null Count  Dtype         \n",
      "---  ------         --------------  -----         \n",
      " 0   _id            4529 non-null   object        \n",
      " 1   customer_id    4529 non-null   object        \n",
      " 2   age_group      3811 non-null   object        \n",
      " 3   한의사 여부         4528 non-null   float64       \n",
      " 4   사업자 여부         4528 non-null   float64       \n",
      " 5   name_x         4529 non-null   object        \n",
      " 6   product_ids    4529 non-null   object        \n",
      " 7   regular_price  4529 non-null   int64         \n",
      " 8   date_paid      4529 non-null   datetime64[ns]\n",
      "dtypes: datetime64[ns](1), float64(2), int64(1), object(5)\n",
      "memory usage: 353.8+ KB\n"
     ]
    }
   ],
   "source": [
    "df_book.info()"
   ]
  },
  {
   "cell_type": "code",
   "execution_count": 64,
   "id": "4f5241e9",
   "metadata": {},
   "outputs": [
    {
     "data": {
      "text/plain": [
       "223"
      ]
     },
     "execution_count": 64,
     "metadata": {},
     "output_type": "execute_result"
    }
   ],
   "source": [
    "df_book['product_ids'].nunique()"
   ]
  },
  {
   "cell_type": "code",
   "execution_count": 65,
   "id": "7671014f",
   "metadata": {},
   "outputs": [
    {
     "data": {
      "text/plain": [
       "Index(['_id', 'customer_id', 'age_group', '한의사 여부', '사업자 여부', 'name_x',\n",
       "       'product_ids', 'regular_price', 'date_paid'],\n",
       "      dtype='object')"
      ]
     },
     "execution_count": 65,
     "metadata": {},
     "output_type": "execute_result"
    }
   ],
   "source": [
    "df_book.columns"
   ]
  },
  {
   "cell_type": "code",
   "execution_count": 66,
   "id": "9d5fb04f",
   "metadata": {},
   "outputs": [],
   "source": [
    "df_book = df_book[['_id', 'customer_id', 'age_group', '한의사 여부', '사업자 여부', \n",
    "                   'name_x', 'product_ids', 'regular_price', 'date_paid']]"
   ]
  },
  {
   "cell_type": "code",
   "execution_count": 67,
   "id": "35dc22e2",
   "metadata": {
    "scrolled": true
   },
   "outputs": [
    {
     "data": {
      "text/html": [
       "<div>\n",
       "<style scoped>\n",
       "    .dataframe tbody tr th:only-of-type {\n",
       "        vertical-align: middle;\n",
       "    }\n",
       "\n",
       "    .dataframe tbody tr th {\n",
       "        vertical-align: top;\n",
       "    }\n",
       "\n",
       "    .dataframe thead th {\n",
       "        text-align: right;\n",
       "    }\n",
       "</style>\n",
       "<table border=\"1\" class=\"dataframe\">\n",
       "  <thead>\n",
       "    <tr style=\"text-align: right;\">\n",
       "      <th></th>\n",
       "      <th>_id</th>\n",
       "      <th>customer_id</th>\n",
       "      <th>age_group</th>\n",
       "      <th>한의사 여부</th>\n",
       "      <th>사업자 여부</th>\n",
       "      <th>name_x</th>\n",
       "      <th>product_ids</th>\n",
       "      <th>regular_price</th>\n",
       "      <th>date_paid</th>\n",
       "    </tr>\n",
       "  </thead>\n",
       "  <tbody>\n",
       "    <tr>\n",
       "      <th>138587</th>\n",
       "      <td>627a68ad9d93880024062b39</td>\n",
       "      <td>5dbd44572bb59605ca3cf52b</td>\n",
       "      <td>20-29</td>\n",
       "      <td>1.0</td>\n",
       "      <td>0.0</td>\n",
       "      <td>섭혜민 명의경방험안</td>\n",
       "      <td>626a4b8ae1579900234bd4b0</td>\n",
       "      <td>130000</td>\n",
       "      <td>2022-05-12 02:16:04</td>\n",
       "    </tr>\n",
       "    <tr>\n",
       "      <th>139004</th>\n",
       "      <td>627c50279d9388002406326a</td>\n",
       "      <td>5d838c7f3f0e6805c4706894</td>\n",
       "      <td>30-39</td>\n",
       "      <td>1.0</td>\n",
       "      <td>0.0</td>\n",
       "      <td>장골의 PI 변위는 없다</td>\n",
       "      <td>623bc8886f766b0024668eb5</td>\n",
       "      <td>40000</td>\n",
       "      <td>2022-05-12 00:10:00</td>\n",
       "    </tr>\n",
       "    <tr>\n",
       "      <th>139007</th>\n",
       "      <td>627c519c9d93880024063275</td>\n",
       "      <td>5ebc8bee09982e0735b2d835</td>\n",
       "      <td>30-39</td>\n",
       "      <td>1.0</td>\n",
       "      <td>1.0</td>\n",
       "      <td>초음파 가이드 근골격계 통증 치료의 정석</td>\n",
       "      <td>626a4b89e1579900234bd4af</td>\n",
       "      <td>210000</td>\n",
       "      <td>2022-05-12 00:15:59</td>\n",
       "    </tr>\n",
       "    <tr>\n",
       "      <th>139008</th>\n",
       "      <td>627c51a69d93880024063278</td>\n",
       "      <td>5dae9a8d0dabe405b156efd0</td>\n",
       "      <td>30-39</td>\n",
       "      <td>1.0</td>\n",
       "      <td>1.0</td>\n",
       "      <td>초음파 가이드 근골격계 통증 치료의 정석</td>\n",
       "      <td>626a4b89e1579900234bd4af</td>\n",
       "      <td>210000</td>\n",
       "      <td>2022-05-12 00:02:00</td>\n",
       "    </tr>\n",
       "    <tr>\n",
       "      <th>139009</th>\n",
       "      <td>627c51c69d9388002406327e</td>\n",
       "      <td>5f6be49c48060c52caf1528e</td>\n",
       "      <td>50-59</td>\n",
       "      <td>1.0</td>\n",
       "      <td>1.0</td>\n",
       "      <td>초음파 가이드 근골격계 통증 치료의 정석</td>\n",
       "      <td>626a4b89e1579900234bd4af</td>\n",
       "      <td>210000</td>\n",
       "      <td>2022-05-12 00:17:17</td>\n",
       "    </tr>\n",
       "    <tr>\n",
       "      <th>...</th>\n",
       "      <td>...</td>\n",
       "      <td>...</td>\n",
       "      <td>...</td>\n",
       "      <td>...</td>\n",
       "      <td>...</td>\n",
       "      <td>...</td>\n",
       "      <td>...</td>\n",
       "      <td>...</td>\n",
       "      <td>...</td>\n",
       "    </tr>\n",
       "    <tr>\n",
       "      <th>207070</th>\n",
       "      <td>632024716c2e37002369f008</td>\n",
       "      <td>5e5f01c7bfe4260944782d10</td>\n",
       "      <td>30-39</td>\n",
       "      <td>1.0</td>\n",
       "      <td>1.0</td>\n",
       "      <td>한의 피부진료 첫 걸음</td>\n",
       "      <td>5dedb5e04267e105dffeef43</td>\n",
       "      <td>40000</td>\n",
       "      <td>2022-09-13 08:05:00</td>\n",
       "    </tr>\n",
       "    <tr>\n",
       "      <th>207086</th>\n",
       "      <td>632029a46c2e37002369f03b</td>\n",
       "      <td>6131f79097686100197d7860</td>\n",
       "      <td>None</td>\n",
       "      <td>0.0</td>\n",
       "      <td>0.0</td>\n",
       "      <td>윤상훈·권병조의 알짜 근육학</td>\n",
       "      <td>60d018b7d26af90681b18980</td>\n",
       "      <td>20000</td>\n",
       "      <td>2022-09-13 06:05:00</td>\n",
       "    </tr>\n",
       "    <tr>\n",
       "      <th>207101</th>\n",
       "      <td>63202f736c2e37002369f06e</td>\n",
       "      <td>5dee019d4267e105dffef02d</td>\n",
       "      <td>20-29</td>\n",
       "      <td>1.0</td>\n",
       "      <td>0.0</td>\n",
       "      <td>트리거포인트 침치료</td>\n",
       "      <td>617a3aacbc63410023471ab6</td>\n",
       "      <td>65000</td>\n",
       "      <td>2022-09-13 07:22:18</td>\n",
       "    </tr>\n",
       "    <tr>\n",
       "      <th>207110</th>\n",
       "      <td>632033be6c2e37002369f09a</td>\n",
       "      <td>617e903bbc6341002347262a</td>\n",
       "      <td>None</td>\n",
       "      <td>1.0</td>\n",
       "      <td>1.0</td>\n",
       "      <td>스파이랄 및 키네지오 테이핑</td>\n",
       "      <td>62551d67cb28e6002469d8fb</td>\n",
       "      <td>30000</td>\n",
       "      <td>2022-09-13 07:40:23</td>\n",
       "    </tr>\n",
       "    <tr>\n",
       "      <th>207130</th>\n",
       "      <td>63203ac86c2e37002369f0e7</td>\n",
       "      <td>6136d8e597686100197d7db2</td>\n",
       "      <td>40-49</td>\n",
       "      <td>1.0</td>\n",
       "      <td>1.0</td>\n",
       "      <td>소아피부질환해설</td>\n",
       "      <td>5e4215f84267e105dfff17b9</td>\n",
       "      <td>55000</td>\n",
       "      <td>2022-09-13 08:01:00</td>\n",
       "    </tr>\n",
       "  </tbody>\n",
       "</table>\n",
       "<p>4529 rows × 9 columns</p>\n",
       "</div>"
      ],
      "text/plain": [
       "                             _id               customer_id age_group  한의사 여부  \\\n",
       "138587  627a68ad9d93880024062b39  5dbd44572bb59605ca3cf52b     20-29     1.0   \n",
       "139004  627c50279d9388002406326a  5d838c7f3f0e6805c4706894     30-39     1.0   \n",
       "139007  627c519c9d93880024063275  5ebc8bee09982e0735b2d835     30-39     1.0   \n",
       "139008  627c51a69d93880024063278  5dae9a8d0dabe405b156efd0     30-39     1.0   \n",
       "139009  627c51c69d9388002406327e  5f6be49c48060c52caf1528e     50-59     1.0   \n",
       "...                          ...                       ...       ...     ...   \n",
       "207070  632024716c2e37002369f008  5e5f01c7bfe4260944782d10     30-39     1.0   \n",
       "207086  632029a46c2e37002369f03b  6131f79097686100197d7860      None     0.0   \n",
       "207101  63202f736c2e37002369f06e  5dee019d4267e105dffef02d     20-29     1.0   \n",
       "207110  632033be6c2e37002369f09a  617e903bbc6341002347262a      None     1.0   \n",
       "207130  63203ac86c2e37002369f0e7  6136d8e597686100197d7db2     40-49     1.0   \n",
       "\n",
       "        사업자 여부                  name_x               product_ids  \\\n",
       "138587     0.0              섭혜민 명의경방험안  626a4b8ae1579900234bd4b0   \n",
       "139004     0.0           장골의 PI 변위는 없다  623bc8886f766b0024668eb5   \n",
       "139007     1.0  초음파 가이드 근골격계 통증 치료의 정석  626a4b89e1579900234bd4af   \n",
       "139008     1.0  초음파 가이드 근골격계 통증 치료의 정석  626a4b89e1579900234bd4af   \n",
       "139009     1.0  초음파 가이드 근골격계 통증 치료의 정석  626a4b89e1579900234bd4af   \n",
       "...        ...                     ...                       ...   \n",
       "207070     1.0            한의 피부진료 첫 걸음  5dedb5e04267e105dffeef43   \n",
       "207086     0.0         윤상훈·권병조의 알짜 근육학  60d018b7d26af90681b18980   \n",
       "207101     0.0              트리거포인트 침치료  617a3aacbc63410023471ab6   \n",
       "207110     1.0         스파이랄 및 키네지오 테이핑  62551d67cb28e6002469d8fb   \n",
       "207130     1.0                소아피부질환해설  5e4215f84267e105dfff17b9   \n",
       "\n",
       "        regular_price           date_paid  \n",
       "138587         130000 2022-05-12 02:16:04  \n",
       "139004          40000 2022-05-12 00:10:00  \n",
       "139007         210000 2022-05-12 00:15:59  \n",
       "139008         210000 2022-05-12 00:02:00  \n",
       "139009         210000 2022-05-12 00:17:17  \n",
       "...               ...                 ...  \n",
       "207070          40000 2022-09-13 08:05:00  \n",
       "207086          20000 2022-09-13 06:05:00  \n",
       "207101          65000 2022-09-13 07:22:18  \n",
       "207110          30000 2022-09-13 07:40:23  \n",
       "207130          55000 2022-09-13 08:01:00  \n",
       "\n",
       "[4529 rows x 9 columns]"
      ]
     },
     "execution_count": 67,
     "metadata": {},
     "output_type": "execute_result"
    }
   ],
   "source": [
    "df_book"
   ]
  },
  {
   "cell_type": "code",
   "execution_count": 128,
   "id": "a12fcfd4",
   "metadata": {
    "scrolled": false
   },
   "outputs": [
    {
     "data": {
      "text/plain": [
       "비만문답                              531\n",
       "플로차트 정형외과 진단                      439\n",
       "초음파 유도하 침 시술 가이드북                 347\n",
       "흔히보는 정형외과 외래진료 가이드북               293\n",
       "영어 진료 가이드북                        215\n",
       "윤상훈·권병조의 알짜 근육학                   214\n",
       "외래에서 꼭 알아야 할 통증증후군 137가지          136\n",
       "카이로프랙틱 기본테크닉론                     127\n",
       "황황교수의 개원 한의사를 위한 상한금궤 처방 강의록      123\n",
       "황황교수의 임상의를 위한 근거기반 상한금궤 처방 매뉴얼    104\n",
       "임상 한의사를 위한 기본 한약처방 강의 2판           90\n",
       "약침의 정석 –통증편                        73\n",
       "선생님, 이제 그만 저 좀 포기해 주세요             70\n",
       "사암침의 해석과 임상                        66\n",
       "趙紹琴(조소금) 내과학                       65\n",
       "초음파 가이드 근골격계 통증 치료의 정석             52\n",
       "소아피부질환해설                           49\n",
       "침구과 진료매뉴얼                          47\n",
       "SMART 기본 일차진료매뉴얼 3판(세트)            43\n",
       "숲을 보는 요통치료                         42\n",
       "사상방 사용설명서                          40\n",
       "트리거포인트 침치료                         39\n",
       "플로차트 한약치료                          32\n",
       "KCD 한방내과 진찰진단 가이드라인                30\n",
       "침의 과학적 접근의 이해                      29\n",
       "일차진료 한의사를 위한 보험한약입문 - 둘째 판         28\n",
       "그림과 사진으로 보는 질환별 통증치료 Essential     27\n",
       "의학입문 맥학강의                          26\n",
       "감별진단의 정석                           24\n",
       "근골격계 약침의학                          24\n",
       "Name: name_x, dtype: int64"
      ]
     },
     "execution_count": 128,
     "metadata": {},
     "output_type": "execute_result"
    }
   ],
   "source": [
    "# Top_10\n",
    "df_book['name_x'].value_counts()[:30]"
   ]
  },
  {
   "cell_type": "code",
   "execution_count": null,
   "id": "163164e2",
   "metadata": {},
   "outputs": [],
   "source": [
    "import platform\n",
    "if platform.system() == 'Darwin': #맥\n",
    "        plt.rc('font', family='AppleGothic') \n",
    "elif platform.system() == 'Windows': #윈도우\n",
    "        plt.rc('font', family='Malgun Gothic') \n",
    "elif platform.system() == 'Linux': #리눅스 (구글 콜랩)\n",
    "        #!wget \"https://www.wfonts.com/download/data/2016/06/13/malgun-gothic/malgun.ttf\"\n",
    "        #!mv malgun.ttf /usr/share/fonts/truetype/\n",
    "        #import matplotlib.font_manager as fm \n",
    "        #fm._rebuild() \n",
    "        plt.rc('font', family='Malgun Gothic') \n",
    "plt.rcParams['axes.unicode_minus'] = False #한글 폰트 사용시 마이너스 폰트 깨짐 해결\n",
    "#matplotlib 패키지 한글 깨짐 처리 끝"
   ]
  },
  {
   "cell_type": "code",
   "execution_count": 77,
   "id": "ebb4b731",
   "metadata": {},
   "outputs": [
    {
     "data": {
      "text/plain": [
       "<AxesSubplot:>"
      ]
     },
     "execution_count": 77,
     "metadata": {},
     "output_type": "execute_result"
    },
    {
     "name": "stderr",
     "output_type": "stream",
     "text": [
      "findfont: Font family ['Malgun Gothic'] not found. Falling back to DejaVu Sans.\n"
     ]
    },
    {
     "data": {
      "image/png": "[encoded data removed]",
      "text/plain": [
       "<Figure size 720x576 with 1 Axes>"
      ]
     },
     "metadata": {
      "needs_background": "light"
     },
     "output_type": "display_data"
    }
   ],
   "source": [
    "df_book['name_x'].value_counts()[:10].plot(kind='bar')"
   ]
  },
  {
   "cell_type": "code",
   "execution_count": 130,
   "id": "2efaa401",
   "metadata": {},
   "outputs": [
    {
     "data": {
      "text/plain": [
       "30-39    0.41\n",
       "20-29    0.38\n",
       "40-49    0.16\n",
       "50-59    0.05\n",
       "60-      0.00\n",
       "Name: age_group, dtype: float64"
      ]
     },
     "execution_count": 130,
     "metadata": {},
     "output_type": "execute_result"
    }
   ],
   "source": [
    "# top1. 비만 문답은 2-30대가 가장 많이 구매함\n",
    "book_sum = df_book['age_group'][df_book['name_x'] == '비만문답'].value_counts().sum()\n",
    "round(df_book['age_group'][df_book['name_x'] == '비만문답'].value_counts() / book_sum, 2)\n"
   ]
  },
  {
   "cell_type": "code",
   "execution_count": 82,
   "id": "d08b1392",
   "metadata": {
    "scrolled": true
   },
   "outputs": [
    {
     "data": {
      "text/plain": [
       "5d9a8bbe0dabe405b156dfdc    2\n",
       "5eeb1a92e510ee503167cf7f    2\n",
       "5e5223e84267e105dfff2112    1\n",
       "60498f640ccc56001bc78700    1\n",
       "5ec3586fe510ee503167aa4c    1\n",
       "                           ..\n",
       "5d969b160dabe405b156da75    1\n",
       "5d6f83c119efa30eb2914138    1\n",
       "5ec4bf6fe510ee503167ac71    1\n",
       "5da047700dabe405b156e6d5    1\n",
       "5f9a94c0512031633432077c    1\n",
       "Name: customer_id, Length: 529, dtype: int64"
      ]
     },
     "execution_count": 82,
     "metadata": {},
     "output_type": "execute_result"
    }
   ],
   "source": [
    "df_book['customer_id'][df_book['name_x'] == '비만문답'].value_counts()"
   ]
  },
  {
   "cell_type": "markdown",
   "id": "66cc8c33",
   "metadata": {},
   "source": [
    "# 고객 분류 별 나이 분포\n"
   ]
  },
  {
   "cell_type": "code",
   "execution_count": 162,
   "id": "05e27c5d",
   "metadata": {},
   "outputs": [
    {
     "name": "stdout",
     "output_type": "stream",
     "text": [
      "각 segment별 나이 비율: \n",
      "\n",
      "30-39    0.60\n",
      "40-49    0.20\n",
      "20-29    0.14\n",
      "50-59    0.06\n",
      "60-      0.01\n",
      "Name: age_group, dtype: float64\n",
      "\n",
      "20-29    0.65\n",
      "30-39    0.29\n",
      "40-49    0.04\n",
      "50-59    0.01\n",
      "60-      0.00\n",
      "0-9      0.00\n",
      "Name: age_group, dtype: float64\n",
      "\n",
      "30-39    0.66\n",
      "20-29    0.21\n",
      "40-49    0.12\n",
      "50-59    0.01\n",
      "Name: age_group, dtype: float64\n",
      "\n",
      "20-29    0.89\n",
      "30-39    0.09\n",
      "40-49    0.02\n",
      "50-59    0.00\n",
      "Name: age_group, dtype: float64\n",
      "\n"
     ]
    }
   ],
   "source": [
    "# 원장님\n",
    "ceo_doctor = df_clean[(df_clean['한의사 여부'] == 1.0) & (df_clean['사업자 여부'] == 1.0)]\n",
    "\n",
    "# 페이 닥터\n",
    "pay_doctor = df_clean[(df_clean['한의사 여부'] == 1.0) & (df_clean['사업자 여부'] == 0.0)]\n",
    "\n",
    "# 한의대생\n",
    "student = df_clean[(df_clean['한의사 여부'] == 0.0) & (df_clean['사업자 여부'] == 0.0)]\n",
    "\n",
    "# 창업가?\n",
    "ceo = df_clean[(df_clean['한의사 여부'] == 0.0) & (df_clean['사업자 여부'] == 1.0)]\n",
    "\n",
    "all = [ceo, ceo_doctor, student, pay_doctor]\n",
    "\n",
    "\n",
    "print('각 segment별 나이 비율: ')\n",
    "print()\n",
    "all = [ceo_doctor, pay_doctor, ceo, student]\n",
    "for i in all:\n",
    "    a = i.age_group.value_counts().sum()\n",
    "    print(round(i.age_group.value_counts() / a, 2))\n",
    "    print()"
   ]
  },
  {
   "cell_type": "code",
   "execution_count": 192,
   "id": "1c85af1f",
   "metadata": {},
   "outputs": [
    {
     "name": "stdout",
     "output_type": "stream",
     "text": [
      "각 segment별 most popular: \n",
      "\n",
      "[멤버스] Medistream MEMBERS _구독가입형    0.39\n",
      "동방 일회용 부항컵 1,000개                  0.39\n",
      "<도전! 베스트 강의> 올인원 패키지               0.09\n",
      "온뜸 의료용 양면테이프                       0.07\n",
      "초음파 유도하 침 시술 가이드북                  0.07\n",
      "Name: name_x, dtype: float64\n",
      "\n",
      "동방 일회용 부항컵 1,000개       0.51\n",
      "임상해부학 특강: 골학 02. 상지     0.17\n",
      "비만문답                    0.12\n",
      "플로차트 정형외과 진단            0.10\n",
      "<도전! 베스트 강의> 올인원 패키지    0.09\n",
      "Name: name_x, dtype: float64\n",
      "\n",
      "[제32기 전졸협] 국시특강 외과학        0.2\n",
      "[제32기 전졸협] 국시특강 본초학특강      0.2\n",
      "[제32기 전졸협] 국시특강 신계내과학      0.2\n",
      "[제32기 전졸협] 국시특강 안이비인후과학    0.2\n",
      "[제32기 전졸협] 국시특강 간계내과학      0.2\n",
      "Name: name_x, dtype: float64\n",
      "\n",
      "[보수교육] 척추신경추나의학회 2022년 5월 온라인 중앙세미나    0.24\n",
      "<도전! 베스트 강의> 올인원 패키지                   0.24\n",
      "비만문답                                   0.20\n",
      "플로차트 정형외과 진단                           0.16\n",
      "방성혜 부인과 전문의서 처방 강의                     0.16\n",
      "Name: name_x, dtype: float64\n",
      "\n"
     ]
    }
   ],
   "source": [
    "# 원장님\n",
    "ceo_doctor = df_clean[(df_clean['한의사 여부'] == 1.0) & (df_clean['사업자 여부'] == 1.0)]\n",
    "\n",
    "# 페이 닥터\n",
    "pay_doctor = df_clean[(df_clean['한의사 여부'] == 1.0) & (df_clean['사업자 여부'] == 0.0)]\n",
    "\n",
    "# 한의대생\n",
    "student = df_clean[(df_clean['한의사 여부'] == 0.0) & (df_clean['사업자 여부'] == 0.0)]\n",
    "\n",
    "# 창업가?\n",
    "ceo = df_clean[(df_clean['한의사 여부'] == 0.0) & (df_clean['사업자 여부'] == 1.0)]\n",
    "\n",
    "all = [ceo, ceo_doctor, student, pay_doctor]\n",
    "# all_2 = ['ceo', 'ce/o_doctor', 'student', 'pay_doctor'] \n",
    "\n",
    "print('각 segment별 most popular: ')\n",
    "print()\n",
    "\n",
    "# for i in all_2:\n",
    "#     print(f\"[{i}]\")\n",
    "    \n",
    "for j in all:\n",
    "#     print(j.index)\n",
    "    a = j.name_x.value_counts().head(5).sum()\n",
    "    print(round(j.name_x.value_counts().head(5) / a, 2))\n",
    "    print()"
   ]
  },
  {
   "cell_type": "code",
   "execution_count": 145,
   "id": "164afca6",
   "metadata": {},
   "outputs": [
    {
     "ename": "TypeError",
     "evalue": "'list' object cannot be interpreted as an integer",
     "output_type": "error",
     "traceback": [
      "\u001b[0;31m---------------------------------------------------------------------------\u001b[0m",
      "\u001b[0;31mTypeError\u001b[0m                                 Traceback (most recent call last)",
      "\u001b[0;32m<ipython-input-145-d7b05a20ac41>\u001b[0m in \u001b[0;36m<module>\u001b[0;34m\u001b[0m\n\u001b[1;32m      1\u001b[0m \u001b[0mall\u001b[0m \u001b[0;34m=\u001b[0m \u001b[0;34m[\u001b[0m\u001b[0;34m'ceo'\u001b[0m\u001b[0;34m,\u001b[0m \u001b[0;34m'ceo_doctor'\u001b[0m\u001b[0;34m,\u001b[0m \u001b[0;34m'student'\u001b[0m\u001b[0;34m,\u001b[0m \u001b[0;34m'pay_doctor'\u001b[0m\u001b[0;34m]\u001b[0m\u001b[0;34m\u001b[0m\u001b[0;34m\u001b[0m\u001b[0m\n\u001b[1;32m      2\u001b[0m \u001b[0;34m\u001b[0m\u001b[0m\n\u001b[0;32m----> 3\u001b[0;31m \u001b[0;32mfor\u001b[0m \u001b[0mi\u001b[0m \u001b[0;32min\u001b[0m \u001b[0mrange\u001b[0m\u001b[0;34m(\u001b[0m\u001b[0mall\u001b[0m\u001b[0;34m)\u001b[0m\u001b[0;34m:\u001b[0m\u001b[0;34m\u001b[0m\u001b[0;34m\u001b[0m\u001b[0m\n\u001b[0m\u001b[1;32m      4\u001b[0m     \u001b[0ma\u001b[0m \u001b[0;34m=\u001b[0m \u001b[0mceo\u001b[0m\u001b[0;34m.\u001b[0m\u001b[0mage_group\u001b[0m\u001b[0;34m.\u001b[0m\u001b[0mvalue_counts\u001b[0m\u001b[0;34m(\u001b[0m\u001b[0;34m)\u001b[0m\u001b[0;34m\u001b[0m\u001b[0;34m\u001b[0m\u001b[0m\n\u001b[1;32m      5\u001b[0m     \u001b[0mprint\u001b[0m\u001b[0;34m(\u001b[0m\u001b[0ma\u001b[0m\u001b[0;34m)\u001b[0m\u001b[0;34m\u001b[0m\u001b[0;34m\u001b[0m\u001b[0m\n",
      "\u001b[0;31mTypeError\u001b[0m: 'list' object cannot be interpreted as an integer"
     ]
    }
   ],
   "source": [
    "all = ['ceo', 'ceo_doctor', 'student', 'pay_doctor']\n",
    "\n",
    "for i in range(all):\n",
    "    a = all[i].age_group.value_counts()\n",
    "    print(a)"
   ]
  },
  {
   "cell_type": "code",
   "execution_count": 95,
   "id": "95c92d76",
   "metadata": {},
   "outputs": [
    {
     "data": {
      "text/plain": [
       "[멤버스] Medistream MEMBERS _구독가입형          144\n",
       "동방 일회용 부항컵 1,000개                         83\n",
       "부항컵 동방 일회용 1,000개                         61\n",
       "<도전! 베스트 강의> 올인원 패키지                      32\n",
       "온뜸 의료용 양면테이프                              24\n",
       "                                        ... \n",
       "[SPIRIT] 간호사용 고급형 3색상혼합(CK-603PW)          1\n",
       "아크메시 브이넥 프론트 3포켓 스크럽 여성 탑 WARM GRAY        1\n",
       "[씨케이주식회사] 사인초 600g, 베트남                    1\n",
       "크라시에 육군자탕 엑스세립                             1\n",
       "청병 6도(대) 무광 2줄라인 금색 내경 22mm 100개세트/1봉      1\n",
       "Name: name_x, Length: 653, dtype: int64"
      ]
     },
     "execution_count": 95,
     "metadata": {},
     "output_type": "execute_result"
    }
   ],
   "source": [
    "what['name_x'].value_counts()"
   ]
  },
  {
   "cell_type": "code",
   "execution_count": 99,
   "id": "79ad0e7c",
   "metadata": {},
   "outputs": [
    {
     "data": {
      "text/plain": [
       "array(['5ff2d56f5ae455001b219ae2'], dtype=object)"
      ]
     },
     "metadata": {},
     "output_type": "display_data"
    },
    {
     "data": {
      "text/plain": [
       "array(['5ff2d56f5ae455001b219ae2'], dtype=object)"
      ]
     },
     "metadata": {},
     "output_type": "display_data"
    }
   ],
   "source": [
    "display(df_clean['product_ids'][df_clean['name_x'] == '동방 일회용 부항컵 1,000개'].unique())\n",
    "display(df_clean['product_ids'][df_clean['name_x'] == '부항컵 동방 일회용 1,000개'].unique())"
   ]
  },
  {
   "cell_type": "code",
   "execution_count": 100,
   "id": "2c6eb61b",
   "metadata": {},
   "outputs": [
    {
     "data": {
      "text/plain": [
       "array([ True])"
      ]
     },
     "execution_count": 100,
     "metadata": {},
     "output_type": "execute_result"
    }
   ],
   "source": [
    "a = df_clean['product_ids'][df_clean['name_x'] == '동방 일회용 부항컵 1,000개'].unique()\n",
    "b = df_clean['product_ids'][df_clean['name_x'] == '부항컵 동방 일회용 1,000개'].unique()\n",
    "a == b"
   ]
  },
  {
   "cell_type": "markdown",
   "id": "7f1b7b2c",
   "metadata": {},
   "source": [
    "# 부항컵 preprocessing"
   ]
  },
  {
   "cell_type": "code",
   "execution_count": 113,
   "id": "72079c30",
   "metadata": {},
   "outputs": [],
   "source": [
    "# 동방 일회용 부항컵 1,000개 == 부항컵 동방 일회용 1,000개 같은 제품이다. product_id가 같다.\n",
    "\n",
    "df_clean['name_x'][df_clean['name_x'] == '부항컵 동방 일회용 1,000개'] = df_clean['name_x'][df_clean['name_x'] == '부항컵 동방 일회용 1,000개'].apply(lambda x: '동방 일회용 부항컵 1,000개' if x == '부항컵 동방 일회용 1,000개' else None)"
   ]
  },
  {
   "cell_type": "code",
   "execution_count": 116,
   "id": "db7fe660",
   "metadata": {},
   "outputs": [
    {
     "data": {
      "text/html": [
       "<div>\n",
       "<style scoped>\n",
       "    .dataframe tbody tr th:only-of-type {\n",
       "        vertical-align: middle;\n",
       "    }\n",
       "\n",
       "    .dataframe tbody tr th {\n",
       "        vertical-align: top;\n",
       "    }\n",
       "\n",
       "    .dataframe thead th {\n",
       "        text-align: right;\n",
       "    }\n",
       "</style>\n",
       "<table border=\"1\" class=\"dataframe\">\n",
       "  <thead>\n",
       "    <tr style=\"text-align: right;\">\n",
       "      <th></th>\n",
       "      <th>_id</th>\n",
       "      <th>customer_id</th>\n",
       "      <th>age_group</th>\n",
       "      <th>한의사 여부</th>\n",
       "      <th>사업자 여부</th>\n",
       "      <th>name_x</th>\n",
       "      <th>name</th>\n",
       "      <th>slug</th>\n",
       "      <th>product_ids</th>\n",
       "      <th>category_id_y</th>\n",
       "      <th>regular_price</th>\n",
       "      <th>date_paid</th>\n",
       "      <th>paid</th>\n",
       "      <th>cancelled</th>\n",
       "    </tr>\n",
       "  </thead>\n",
       "  <tbody>\n",
       "    <tr>\n",
       "      <th>139099</th>\n",
       "      <td>627c5d8c9d93880024063407</td>\n",
       "      <td>5fa11f3c51203163343214dd</td>\n",
       "      <td>30-39</td>\n",
       "      <td>1.0</td>\n",
       "      <td>1.0</td>\n",
       "      <td>동방 일회용 부항컵 1,000개</td>\n",
       "      <td>소모품</td>\n",
       "      <td>expendables</td>\n",
       "      <td>5ff2d56f5ae455001b219ae2</td>\n",
       "      <td>5e91ce6fbfe42609447852d1</td>\n",
       "      <td>117000</td>\n",
       "      <td>2022-05-12 01:06:46</td>\n",
       "      <td>1</td>\n",
       "      <td>0</td>\n",
       "    </tr>\n",
       "    <tr>\n",
       "      <th>139111</th>\n",
       "      <td>627c619b9d93880024063435</td>\n",
       "      <td>5d631b614e77525ec5ca15cb</td>\n",
       "      <td>30-39</td>\n",
       "      <td>1.0</td>\n",
       "      <td>1.0</td>\n",
       "      <td>동방 일회용 부항컵 1,000개</td>\n",
       "      <td>소모품</td>\n",
       "      <td>expendables</td>\n",
       "      <td>5ff2d56f5ae455001b219ae2</td>\n",
       "      <td>5e91ce6fbfe42609447852d1</td>\n",
       "      <td>117000</td>\n",
       "      <td>2022-05-12 01:24:11</td>\n",
       "      <td>1</td>\n",
       "      <td>0</td>\n",
       "    </tr>\n",
       "    <tr>\n",
       "      <th>139121</th>\n",
       "      <td>627c638d9d9388002406345d</td>\n",
       "      <td>5d6f8d2319efa30eb2914160</td>\n",
       "      <td>30-39</td>\n",
       "      <td>0.0</td>\n",
       "      <td>1.0</td>\n",
       "      <td>동방 일회용 부항컵 1,000개</td>\n",
       "      <td>소모품</td>\n",
       "      <td>expendables</td>\n",
       "      <td>5ff2d56f5ae455001b219ae2</td>\n",
       "      <td>5e91ce6fbfe42609447852d1</td>\n",
       "      <td>117000</td>\n",
       "      <td>2022-05-12 01:32:49</td>\n",
       "      <td>1</td>\n",
       "      <td>0</td>\n",
       "    </tr>\n",
       "    <tr>\n",
       "      <th>139202</th>\n",
       "      <td>627c77b79d93880024063579</td>\n",
       "      <td>5d69aa4e19efa30eb2913dd1</td>\n",
       "      <td>30-39</td>\n",
       "      <td>1.0</td>\n",
       "      <td>1.0</td>\n",
       "      <td>동방 일회용 부항컵 1,000개</td>\n",
       "      <td>소모품</td>\n",
       "      <td>expendables</td>\n",
       "      <td>5ff2d56f5ae455001b219ae2</td>\n",
       "      <td>5e91ce6fbfe42609447852d1</td>\n",
       "      <td>117000</td>\n",
       "      <td>2022-05-12 02:58:21</td>\n",
       "      <td>1</td>\n",
       "      <td>0</td>\n",
       "    </tr>\n",
       "    <tr>\n",
       "      <th>139207</th>\n",
       "      <td>627c7b569d93880024063592</td>\n",
       "      <td>5f65416048060c52caf14217</td>\n",
       "      <td>30-39</td>\n",
       "      <td>1.0</td>\n",
       "      <td>1.0</td>\n",
       "      <td>동방 일회용 부항컵 1,000개</td>\n",
       "      <td>소모품</td>\n",
       "      <td>expendables</td>\n",
       "      <td>5ff2d56f5ae455001b219ae2</td>\n",
       "      <td>5e91ce6fbfe42609447852d1</td>\n",
       "      <td>117000</td>\n",
       "      <td>2022-05-12 03:18:13</td>\n",
       "      <td>1</td>\n",
       "      <td>0</td>\n",
       "    </tr>\n",
       "    <tr>\n",
       "      <th>...</th>\n",
       "      <td>...</td>\n",
       "      <td>...</td>\n",
       "      <td>...</td>\n",
       "      <td>...</td>\n",
       "      <td>...</td>\n",
       "      <td>...</td>\n",
       "      <td>...</td>\n",
       "      <td>...</td>\n",
       "      <td>...</td>\n",
       "      <td>...</td>\n",
       "      <td>...</td>\n",
       "      <td>...</td>\n",
       "      <td>...</td>\n",
       "      <td>...</td>\n",
       "    </tr>\n",
       "    <tr>\n",
       "      <th>206923</th>\n",
       "      <td>63200f8e6c2e37002369ee1c</td>\n",
       "      <td>5db7b9f60dabe405b156f807</td>\n",
       "      <td>30-39</td>\n",
       "      <td>1.0</td>\n",
       "      <td>1.0</td>\n",
       "      <td>동방 일회용 부항컵 1,000개</td>\n",
       "      <td>소모품</td>\n",
       "      <td>expendables</td>\n",
       "      <td>5ff2d56f5ae455001b219ae2</td>\n",
       "      <td>5e91ce6fbfe42609447852d1</td>\n",
       "      <td>117000</td>\n",
       "      <td>2022-09-13 05:05:39</td>\n",
       "      <td>1</td>\n",
       "      <td>0</td>\n",
       "    </tr>\n",
       "    <tr>\n",
       "      <th>206930</th>\n",
       "      <td>6320122c6c2e37002369ee3e</td>\n",
       "      <td>5f32053fa0b91001bf48c060</td>\n",
       "      <td>30-39</td>\n",
       "      <td>1.0</td>\n",
       "      <td>1.0</td>\n",
       "      <td>동방 일회용 부항컵 1,000개</td>\n",
       "      <td>소모품</td>\n",
       "      <td>expendables</td>\n",
       "      <td>5ff2d56f5ae455001b219ae2</td>\n",
       "      <td>5e91ce6fbfe42609447852d1</td>\n",
       "      <td>117000</td>\n",
       "      <td>2022-09-13 05:16:53</td>\n",
       "      <td>1</td>\n",
       "      <td>0</td>\n",
       "    </tr>\n",
       "    <tr>\n",
       "      <th>207031</th>\n",
       "      <td>632017836c2e37002369ef2d</td>\n",
       "      <td>5dae9a600dabe405b156efcf</td>\n",
       "      <td>30-39</td>\n",
       "      <td>1.0</td>\n",
       "      <td>1.0</td>\n",
       "      <td>동방 일회용 부항컵 1,000개</td>\n",
       "      <td>소모품</td>\n",
       "      <td>expendables</td>\n",
       "      <td>5ff2d56f5ae455001b219ae2</td>\n",
       "      <td>5e91ce6fbfe42609447852d1</td>\n",
       "      <td>117000</td>\n",
       "      <td>2022-09-13 05:39:51</td>\n",
       "      <td>1</td>\n",
       "      <td>0</td>\n",
       "    </tr>\n",
       "    <tr>\n",
       "      <th>207041</th>\n",
       "      <td>63201a636c2e37002369ef50</td>\n",
       "      <td>5f362f6ba0b91001bf48cb2c</td>\n",
       "      <td>30-39</td>\n",
       "      <td>1.0</td>\n",
       "      <td>1.0</td>\n",
       "      <td>동방 일회용 부항컵 1,000개</td>\n",
       "      <td>소모품</td>\n",
       "      <td>expendables</td>\n",
       "      <td>5ff2d56f5ae455001b219ae2</td>\n",
       "      <td>5e91ce6fbfe42609447852d1</td>\n",
       "      <td>117000</td>\n",
       "      <td>2022-09-13 05:51:56</td>\n",
       "      <td>1</td>\n",
       "      <td>0</td>\n",
       "    </tr>\n",
       "    <tr>\n",
       "      <th>207113</th>\n",
       "      <td>632034376c2e37002369f0a4</td>\n",
       "      <td>5d6e2e2219efa30eb2913f40</td>\n",
       "      <td>30-39</td>\n",
       "      <td>1.0</td>\n",
       "      <td>1.0</td>\n",
       "      <td>동방 일회용 부항컵 1,000개</td>\n",
       "      <td>소모품</td>\n",
       "      <td>expendables</td>\n",
       "      <td>5ff2d56f5ae455001b219ae2</td>\n",
       "      <td>5e91ce6fbfe42609447852d1</td>\n",
       "      <td>117000</td>\n",
       "      <td>2022-09-13 07:04:00</td>\n",
       "      <td>1</td>\n",
       "      <td>0</td>\n",
       "    </tr>\n",
       "  </tbody>\n",
       "</table>\n",
       "<p>1110 rows × 14 columns</p>\n",
       "</div>"
      ],
      "text/plain": [
       "                             _id               customer_id age_group  한의사 여부  \\\n",
       "139099  627c5d8c9d93880024063407  5fa11f3c51203163343214dd     30-39     1.0   \n",
       "139111  627c619b9d93880024063435  5d631b614e77525ec5ca15cb     30-39     1.0   \n",
       "139121  627c638d9d9388002406345d  5d6f8d2319efa30eb2914160     30-39     0.0   \n",
       "139202  627c77b79d93880024063579  5d69aa4e19efa30eb2913dd1     30-39     1.0   \n",
       "139207  627c7b569d93880024063592  5f65416048060c52caf14217     30-39     1.0   \n",
       "...                          ...                       ...       ...     ...   \n",
       "206923  63200f8e6c2e37002369ee1c  5db7b9f60dabe405b156f807     30-39     1.0   \n",
       "206930  6320122c6c2e37002369ee3e  5f32053fa0b91001bf48c060     30-39     1.0   \n",
       "207031  632017836c2e37002369ef2d  5dae9a600dabe405b156efcf     30-39     1.0   \n",
       "207041  63201a636c2e37002369ef50  5f362f6ba0b91001bf48cb2c     30-39     1.0   \n",
       "207113  632034376c2e37002369f0a4  5d6e2e2219efa30eb2913f40     30-39     1.0   \n",
       "\n",
       "        사업자 여부             name_x name         slug               product_ids  \\\n",
       "139099     1.0  동방 일회용 부항컵 1,000개  소모품  expendables  5ff2d56f5ae455001b219ae2   \n",
       "139111     1.0  동방 일회용 부항컵 1,000개  소모품  expendables  5ff2d56f5ae455001b219ae2   \n",
       "139121     1.0  동방 일회용 부항컵 1,000개  소모품  expendables  5ff2d56f5ae455001b219ae2   \n",
       "139202     1.0  동방 일회용 부항컵 1,000개  소모품  expendables  5ff2d56f5ae455001b219ae2   \n",
       "139207     1.0  동방 일회용 부항컵 1,000개  소모품  expendables  5ff2d56f5ae455001b219ae2   \n",
       "...        ...                ...  ...          ...                       ...   \n",
       "206923     1.0  동방 일회용 부항컵 1,000개  소모품  expendables  5ff2d56f5ae455001b219ae2   \n",
       "206930     1.0  동방 일회용 부항컵 1,000개  소모품  expendables  5ff2d56f5ae455001b219ae2   \n",
       "207031     1.0  동방 일회용 부항컵 1,000개  소모품  expendables  5ff2d56f5ae455001b219ae2   \n",
       "207041     1.0  동방 일회용 부항컵 1,000개  소모품  expendables  5ff2d56f5ae455001b219ae2   \n",
       "207113     1.0  동방 일회용 부항컵 1,000개  소모품  expendables  5ff2d56f5ae455001b219ae2   \n",
       "\n",
       "                   category_id_y  regular_price           date_paid  paid  \\\n",
       "139099  5e91ce6fbfe42609447852d1         117000 2022-05-12 01:06:46     1   \n",
       "139111  5e91ce6fbfe42609447852d1         117000 2022-05-12 01:24:11     1   \n",
       "139121  5e91ce6fbfe42609447852d1         117000 2022-05-12 01:32:49     1   \n",
       "139202  5e91ce6fbfe42609447852d1         117000 2022-05-12 02:58:21     1   \n",
       "139207  5e91ce6fbfe42609447852d1         117000 2022-05-12 03:18:13     1   \n",
       "...                          ...            ...                 ...   ...   \n",
       "206923  5e91ce6fbfe42609447852d1         117000 2022-09-13 05:05:39     1   \n",
       "206930  5e91ce6fbfe42609447852d1         117000 2022-09-13 05:16:53     1   \n",
       "207031  5e91ce6fbfe42609447852d1         117000 2022-09-13 05:39:51     1   \n",
       "207041  5e91ce6fbfe42609447852d1         117000 2022-09-13 05:51:56     1   \n",
       "207113  5e91ce6fbfe42609447852d1         117000 2022-09-13 07:04:00     1   \n",
       "\n",
       "        cancelled  \n",
       "139099          0  \n",
       "139111          0  \n",
       "139121          0  \n",
       "139202          0  \n",
       "139207          0  \n",
       "...           ...  \n",
       "206923          0  \n",
       "206930          0  \n",
       "207031          0  \n",
       "207041          0  \n",
       "207113          0  \n",
       "\n",
       "[1110 rows x 14 columns]"
      ]
     },
     "execution_count": 116,
     "metadata": {},
     "output_type": "execute_result"
    }
   ],
   "source": [
    "df_clean[df_clean['name_x'] == '동방 일회용 부항컵 1,000개']"
   ]
  },
  {
   "cell_type": "code",
   "execution_count": null,
   "id": "903783c5",
   "metadata": {},
   "outputs": [],
   "source": []
  }
 ],
 "metadata": {
  "kernelspec": {
   "display_name": "Python 3",
   "language": "python",
   "name": "python3"
  },
  "language_info": {
   "codemirror_mode": {
    "name": "ipython",
    "version": 3
   },
   "file_extension": ".py",
   "mimetype": "text/x-python",
   "name": "python",
   "nbconvert_exporter": "python",
   "pygments_lexer": "ipython3",
   "version": "3.8.8"
  }
 },
 "nbformat": 4,
 "nbformat_minor": 5
}
