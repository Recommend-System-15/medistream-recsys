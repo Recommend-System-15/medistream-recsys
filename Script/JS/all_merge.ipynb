{
 "cells": [
  {
   "cell_type": "code",
   "execution_count": 1,
   "id": "38af2d5c",
   "metadata": {},
   "outputs": [
    {
     "name": "stdout",
     "output_type": "stream",
     "text": [
      "/home/user_3/medistream-recsys/Script\n"
     ]
    }
   ],
   "source": [
    "import pandas as pd\n",
    "import numpy as np\n",
    "from tqdm import tqdm\n",
    "%cd /home/user_3/medistream-recsys/Script\n",
    "from preprocessing import drop_columns,dict_to_column,dict_to_set,set_to_column,key_to_element\n",
    "pd.set_option('display.max_rows', 100)\n",
    "pd.set_option('display.max_columns', 100)"
   ]
  },
  {
   "cell_type": "markdown",
   "id": "08b949ef",
   "metadata": {},
   "source": [
    "# product, orders, users, product_category 합치기"
   ]
  },
  {
   "cell_type": "code",
   "execution_count": null,
   "id": "e0c4ea10",
   "metadata": {},
   "outputs": [],
   "source": [
    "# data load\n",
    "df_orders = pd.read_json('/fastcampus-data/orders/orders.json')\n",
    "df_product = pd.read_json('/fastcampus-data/products/products.json')\n",
    "df_user = pd.read_json('/fastcampus-data/users/users.json', lines=True)\n",
    "df_product_category = pd.read_json('/fastcampus-data/products/productCategories.json/products')\n",
    "\n",
    "# orders 전처리\n",
    "columns = ['_id','date_created','date_placed','date_updated','date_closed','date_paid',\\\n",
    " 'customer_id','status_id','payment_method_id','shipping_method_id']\n",
    "df_orders = key_to_element(columns,df_orders)\n",
    "df_orders = dict_to_column(['items'],df_orders)\n",
    "df_orders = key_to_element(['id','variant_id','product_id'],df_orders)\n",
    "df_orders = df_orders.rename(columns={'product_id':'product_ids'})\n",
    "\n",
    "# product 전처리\n",
    "df_product = key_to_element(['_id','date_created','date_updated'],df_product)\n",
    "df_product = df_product.rename(columns={'_id':'product_ids'})\n",
    "\n",
    "# user 전처리\n",
    "df_user = df_user.drop_duplicates(['realname_sha_id'], keep='last')\n",
    "df_user = df_user[~df_user['customer_id'].isna()]\n",
    "\n",
    "# product_category 전처리\n",
    "df_product_category = df_product_category.rename(columns={'_id':'product_ids'})\n",
    "df_product_category = key_to_element(['product_ids'],df_product_category)"
   ]
  },
  {
   "cell_type": "code",
   "execution_count": 81,
   "id": "533d74c4",
   "metadata": {},
   "outputs": [],
   "source": [
    "# 모든 파일 merge\n",
    "df_order_product = pd.merge(df_orders,df_product, how='left', on='product_ids')\n",
    "df_order_product_user = pd.merge(df_order_product,df_user, how='left', on='customer_id')\n",
    "df_all_sum = pd.merge(df_order_product_user,df_product_category, how='left',on='product_ids')"
   ]
  },
  {
   "cell_type": "code",
   "execution_count": 116,
   "id": "2fad91d2",
   "metadata": {},
   "outputs": [
    {
     "data": {
      "text/plain": [
       "{'5e957f03bfe42609447858e5',\n",
       " '5f1009e2221c8b5f77c8e54f',\n",
       " '5f1009e3221c8b5f77c8e550',\n",
       " '5f1009e4221c8b5f77c8e551',\n",
       " '5f55d798a0b91001bf48f55e',\n",
       " '5f892894512031633431e6c5',\n",
       " '5f927537512031633431f672',\n",
       " '6064035f0ccc56001bc7a2fd',\n",
       " None}"
      ]
     },
     "execution_count": 116,
     "metadata": {},
     "output_type": "execute_result"
    }
   ],
   "source": [
    "# orders 있지만 products 없는 ids 확인\n",
    "order_product_id_set= set(df_orders.product_ids)\n",
    "meta_product_id_set= set(df_product.product_ids)\n",
    "len(order_product_id_set), len(meta_product_id_set)\n",
    "delete_product_id = order_product_id_set - meta_product_id_set\n",
    "delete_product_id"
   ]
  },
  {
   "cell_type": "code",
   "execution_count": 102,
   "id": "22dfe137",
   "metadata": {},
   "outputs": [],
   "source": [
    "# orders 있지만 products 없는 ids 드롭\n",
    "df_all_sum = df_all_sum[~df_all_sum['product_ids'].isna()]\n",
    "df_all_sum = df_all_sum[~df_all_sum['product_ids'].isin(delete_product_id)]"
   ]
  },
  {
   "cell_type": "code",
   "execution_count": 133,
   "id": "2ff68d2a",
   "metadata": {},
   "outputs": [],
   "source": [
    "# 저장한 파일 불러오기\n",
    "df = pd.read_json('/fastcampus-data/all_sum.json')"
   ]
  }
 ],
 "metadata": {
  "kernelspec": {
   "display_name": "Python 3",
   "language": "python",
   "name": "python3"
  },
  "language_info": {
   "codemirror_mode": {
    "name": "ipython",
    "version": 3
   },
   "file_extension": ".py",
   "mimetype": "text/x-python",
   "name": "python",
   "nbconvert_exporter": "python",
   "pygments_lexer": "ipython3",
   "version": "3.8.8"
  }
 },
 "nbformat": 4,
 "nbformat_minor": 5
}
