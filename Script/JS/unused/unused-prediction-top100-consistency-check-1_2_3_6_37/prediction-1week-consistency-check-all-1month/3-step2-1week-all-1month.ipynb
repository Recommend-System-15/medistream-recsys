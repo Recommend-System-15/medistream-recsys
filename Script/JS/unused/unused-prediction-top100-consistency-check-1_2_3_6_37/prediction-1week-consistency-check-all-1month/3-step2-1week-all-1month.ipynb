{
 "cells": [
  {
   "cell_type": "markdown",
   "id": "144c71b0",
   "metadata": {},
   "source": [
    "https://assaeunji.github.io/machine%20learning/2020-11-29-implicitfeedback/"
   ]
  },
  {
   "cell_type": "markdown",
   "id": "1758f1b3",
   "metadata": {},
   "source": [
    "# test 3주 정합성 검증\n",
    "- "
   ]
  },
  {
   "cell_type": "markdown",
   "id": "97dbe592",
   "metadata": {},
   "source": [
    "# 추천 모델\n",
    "- ALS MF, LMF, MP (총 3개)\n",
    "- 총 3개의 추천을 진행하며 MF와 LMF 의 경우 콜드스타트 유저(신규 유저)인 경우 MP로 추천 진행"
   ]
  },
  {
   "cell_type": "code",
   "execution_count": 1,
   "id": "053cf1d2",
   "metadata": {},
   "outputs": [
    {
     "name": "stdout",
     "output_type": "stream",
     "text": [
      "/home/user_3/medistream-recsys/Script\n"
     ]
    }
   ],
   "source": [
    "import pandas as pd\n",
    "import numpy as np\n",
    "import matplotlib.pyplot as plt\n",
    "import seaborn as sns\n",
    "from tqdm import tqdm\n",
    "\n",
    "import scipy.sparse as sparse\n",
    "import random\n",
    "import implicit\n",
    "from implicit.als import AlternatingLeastSquares as ALS\n",
    "\n",
    "%cd /home/user_3/medistream-recsys/Script\n",
    "from preprocessing import drop_columns,dict_to_column,dict_to_set,set_to_column,key_to_element\n",
    "\n",
    "pd.set_option('display.max_rows', 300)\n",
    "pd.set_option('display.max_columns', 100)"
   ]
  },
  {
   "cell_type": "markdown",
   "id": "c5943a3d",
   "metadata": {},
   "source": [
    "# 1.Dataload"
   ]
  },
  {
   "cell_type": "code",
   "execution_count": 2,
   "id": "1bfc0ddc",
   "metadata": {},
   "outputs": [
    {
     "name": "stderr",
     "output_type": "stream",
     "text": [
      "100%|██████████| 5141/5141 [00:00<00:00, 681421.97it/s]\n"
     ]
    }
   ],
   "source": [
    "# products name 확인 용\n",
    "products_df = pd.read_json(\"/fastcampus-data/products/products.json\")\n",
    "products_df = key_to_element(['_id'],products_df)"
   ]
  },
  {
   "cell_type": "code",
   "execution_count": 3,
   "id": "392f7771",
   "metadata": {},
   "outputs": [],
   "source": [
    "df = pd.read_json('/fastcampus-data/select_column_version_4.json')"
   ]
  },
  {
   "cell_type": "code",
   "execution_count": 4,
   "id": "5a9b3f4b",
   "metadata": {},
   "outputs": [
    {
     "data": {
      "text/plain": [
       "Timestamp('2022-08-13 08:59:21.151000+0000', tz='UTC')"
      ]
     },
     "execution_count": 4,
     "metadata": {},
     "output_type": "execute_result"
    }
   ],
   "source": [
    "from dateutil.relativedelta import relativedelta\n",
    "from datetime import datetime\n",
    "\n",
    "df['date_paid'] = pd.to_datetime(df['date_paid'])\n",
    "# 3개월 전 날짜 확인\n",
    "df['date_paid'].max()-relativedelta(months=1)"
   ]
  },
  {
   "cell_type": "code",
   "execution_count": 5,
   "id": "6d2ff4f8",
   "metadata": {},
   "outputs": [],
   "source": [
    "date_state = \"2022-08-13\"\n",
    "\n",
    "# paid orders만 가져오기\n",
    "df['date_paid'] = pd.to_datetime(df['date_paid'])\n",
    "df_only_paid = df[~df['date_paid'].isna()]\n",
    "# 3개월치 데이터만 가져오기\n",
    "df_date = df_only_paid[df_only_paid['date_paid'] >= date_state]\n",
    "# 취소 안된 것만 가져오기\n",
    "complete_df = df_date[(df_date['paid'] == True) & (df_date['cancelled']==False)]\n",
    "# 도서 카테고리만 가져오기\n",
    "only_book = complete_df[complete_df['name'] == '도서']\n",
    "\n",
    "# 유저가 중복으로 아이템 구매 삭제\n",
    "df_duplicated_book = only_book.drop_duplicates(subset=['customer_id','product_ids'])\n",
    "df_book = df_duplicated_book.sort_values(by='date_paid').reset_index(drop=True)\n",
    "\n",
    "# 도서, 소모품 카테고리\n",
    "# df_book = complete_df[complete_df['name'].isin(['도서','소모품'])].sort_values(by='date_paid')"
   ]
  },
  {
   "cell_type": "code",
   "execution_count": 6,
   "id": "05871ebc",
   "metadata": {},
   "outputs": [
    {
     "data": {
      "text/plain": [
       "_id                0\n",
       "date_created       0\n",
       "regular_price      0\n",
       "sale_price         0\n",
       "three_months       0\n",
       "date_paid          0\n",
       "customer_id        0\n",
       "paid               0\n",
       "name_x             0\n",
       "category_id_y      0\n",
       "product_ids        0\n",
       "quantity           0\n",
       "price              0\n",
       "price_total        0\n",
       "age_group        182\n",
       "한의사 여부             0\n",
       "사업자 여부             0\n",
       "cancelled          0\n",
       "name               0\n",
       "slug               0\n",
       "dtype: int64"
      ]
     },
     "execution_count": 6,
     "metadata": {},
     "output_type": "execute_result"
    }
   ],
   "source": [
    "# none 값 확인하기\n",
    "df_book.isna().sum()"
   ]
  },
  {
   "cell_type": "markdown",
   "id": "e1485275",
   "metadata": {},
   "source": [
    "## 전체 데이터 EDA"
   ]
  },
  {
   "cell_type": "code",
   "execution_count": 7,
   "id": "ee8c91fa",
   "metadata": {},
   "outputs": [
    {
     "name": "stdout",
     "output_type": "stream",
     "text": [
      "중복 제거 전: 1231 중복 제거 후: 1228\n"
     ]
    }
   ],
   "source": [
    "print('중복 제거 전:',len(only_book), '중복 제거 후:',len(df_book))"
   ]
  },
  {
   "cell_type": "code",
   "execution_count": 8,
   "id": "c882d891",
   "metadata": {},
   "outputs": [
    {
     "name": "stdout",
     "output_type": "stream",
     "text": [
      "전체 데이터 수: 1228\n"
     ]
    }
   ],
   "source": [
    "print('전체 데이터 수:',len(df_book))"
   ]
  },
  {
   "cell_type": "code",
   "execution_count": 9,
   "id": "80095379",
   "metadata": {},
   "outputs": [
    {
     "name": "stdout",
     "output_type": "stream",
     "text": [
      "아이템 수: 153 유저 수: 877\n"
     ]
    }
   ],
   "source": [
    "print('아이템 수:',len(df_book.product_ids.unique()),'유저 수:',len(df_book.customer_id.unique()))"
   ]
  },
  {
   "cell_type": "markdown",
   "id": "bbebd6a1",
   "metadata": {},
   "source": [
    "# 2.train test split\n",
    "- 마지막 3주 분량을 test로 선정합니다."
   ]
  },
  {
   "cell_type": "code",
   "execution_count": 10,
   "id": "054c8f8f",
   "metadata": {},
   "outputs": [
    {
     "data": {
      "text/plain": [
       "Timestamp('2022-09-13 08:51:40+0000', tz='UTC')"
      ]
     },
     "execution_count": 10,
     "metadata": {},
     "output_type": "execute_result"
    }
   ],
   "source": [
    "from datetime import datetime, timedelta\n",
    "\n",
    "# 마지막 날 시간이 짧으므로 이전 날부터 하루 씩 test 분할\n",
    "df_book['date_paid'].max()"
   ]
  },
  {
   "cell_type": "code",
   "execution_count": 11,
   "id": "dca8ff1f",
   "metadata": {},
   "outputs": [
    {
     "data": {
      "text/plain": [
       "datetime.datetime(2022, 9, 10, 0, 0)"
      ]
     },
     "execution_count": 11,
     "metadata": {},
     "output_type": "execute_result"
    }
   ],
   "source": [
    "# 마지막 날 기준으로 test 전처리\n",
    "datetime(2022,9,13)-timedelta(days=3)"
   ]
  },
  {
   "cell_type": "code",
   "execution_count": 12,
   "id": "a0aad083",
   "metadata": {},
   "outputs": [],
   "source": [
    "# train test 분리\n",
    "date = '2022-09-10'\n",
    "train_before_preprocess = df_book[df_book['date_paid'] < date]\n",
    "test_before_preprocess = df_book[df_book['date_paid'].dt.date == pd.to_datetime(date)]"
   ]
  },
  {
   "cell_type": "code",
   "execution_count": 13,
   "id": "a9789c92",
   "metadata": {},
   "outputs": [
    {
     "name": "stdout",
     "output_type": "stream",
     "text": [
      "첫날 : 2022-09-10 22:38:23.774000+00:00 마지막 날: 2022-09-10 22:39:59.946000+00:00\n",
      "test 총 기간: 0 days 00:01:36.172000\n"
     ]
    }
   ],
   "source": [
    "# test 날짜 확인\n",
    "print('첫날 :',test_before_preprocess['date_paid'].min(),'마지막 날:',test_before_preprocess['date_paid'].max())\n",
    "print('test 총 기간:',test_before_preprocess['date_paid'].max()-test_before_preprocess['date_paid'].min())"
   ]
  },
  {
   "cell_type": "markdown",
   "id": "30999e38",
   "metadata": {},
   "source": [
    "## 전체 아이템 중복 확인"
   ]
  },
  {
   "cell_type": "code",
   "execution_count": 14,
   "id": "cc90f9b6",
   "metadata": {},
   "outputs": [
    {
     "data": {
      "text/plain": [
       "(153, 153)"
      ]
     },
     "execution_count": 14,
     "metadata": {},
     "output_type": "execute_result"
    }
   ],
   "source": [
    "# product_ids, name_x 수는 일치\n",
    "len(df_book.product_ids.unique()), len(df_book.name_x.unique())"
   ]
  },
  {
   "cell_type": "code",
   "execution_count": 15,
   "id": "cea01f9b",
   "metadata": {},
   "outputs": [
    {
     "data": {
      "text/plain": [
       "153"
      ]
     },
     "execution_count": 15,
     "metadata": {},
     "output_type": "execute_result"
    }
   ],
   "source": [
    "# 중복 제거 후 수 비교 확인\n",
    "# 252로 일치하여 문제 없음\n",
    "len(df_book.drop_duplicates(subset=['product_ids','name_x']).name_x.unique())"
   ]
  },
  {
   "cell_type": "markdown",
   "id": "ae44431e",
   "metadata": {},
   "source": [
    "## train test 아이템 중복 확인"
   ]
  },
  {
   "cell_type": "code",
   "execution_count": 16,
   "id": "137c94be",
   "metadata": {},
   "outputs": [
    {
     "data": {
      "text/plain": [
       "(150, 2)"
      ]
     },
     "execution_count": 16,
     "metadata": {},
     "output_type": "execute_result"
    }
   ],
   "source": [
    "len(train_before_preprocess.product_ids.unique()),len(test_before_preprocess.product_ids.unique())"
   ]
  },
  {
   "cell_type": "code",
   "execution_count": 17,
   "id": "e70aeedf",
   "metadata": {},
   "outputs": [
    {
     "data": {
      "text/plain": [
       "148"
      ]
     },
     "execution_count": 17,
     "metadata": {},
     "output_type": "execute_result"
    }
   ],
   "source": [
    "len(set(train_before_preprocess.product_ids.unique())-set(test_before_preprocess.product_ids.unique()))"
   ]
  },
  {
   "cell_type": "code",
   "execution_count": 18,
   "id": "cdf1afc0",
   "metadata": {},
   "outputs": [
    {
     "data": {
      "text/plain": [
       "0"
      ]
     },
     "execution_count": 18,
     "metadata": {},
     "output_type": "execute_result"
    }
   ],
   "source": [
    "# test 아이템에 train 없는 아이템 확인\n",
    "len(set(test_before_preprocess.product_ids.unique())-set(train_before_preprocess.product_ids.unique()))"
   ]
  },
  {
   "cell_type": "code",
   "execution_count": 19,
   "id": "acd3352c",
   "metadata": {},
   "outputs": [],
   "source": [
    "# test 만 있는 item 제거\n",
    "only_test_items = set(test_before_preprocess.product_ids.unique())-set(train_before_preprocess.product_ids.unique())\n",
    "if_prepro_test = test_before_preprocess[~test_before_preprocess['product_ids'].isin(only_test_items)]"
   ]
  },
  {
   "cell_type": "code",
   "execution_count": 20,
   "id": "90bc83a6",
   "metadata": {},
   "outputs": [],
   "source": [
    "test = test_before_preprocess.copy()"
   ]
  },
  {
   "cell_type": "code",
   "execution_count": 21,
   "id": "e2a94995",
   "metadata": {},
   "outputs": [],
   "source": [
    "# train 변수 명 변경\n",
    "train = train_before_preprocess.copy()"
   ]
  },
  {
   "cell_type": "code",
   "execution_count": 22,
   "id": "e9eab185",
   "metadata": {},
   "outputs": [
    {
     "name": "stdout",
     "output_type": "stream",
     "text": [
      "원본 test 수: 2\n",
      "전처리 진행했을 경우 test 수: 2\n"
     ]
    }
   ],
   "source": [
    "# test 전처리 진행했을 경우\n",
    "print('원본 test 수:', len(test))\n",
    "print('전처리 진행했을 경우 test 수:', len(if_prepro_test))"
   ]
  },
  {
   "cell_type": "markdown",
   "id": "a24a4b77",
   "metadata": {},
   "source": [
    "# train test eda"
   ]
  },
  {
   "cell_type": "markdown",
   "id": "952ba9d0",
   "metadata": {},
   "source": [
    "### 전처리 전후 비교"
   ]
  },
  {
   "cell_type": "code",
   "execution_count": 23,
   "id": "25e9863f",
   "metadata": {},
   "outputs": [
    {
     "name": "stdout",
     "output_type": "stream",
     "text": [
      "train 전처리 전: 1191 train 전처리 후: 1191\n"
     ]
    }
   ],
   "source": [
    "print('train 전처리 전:',len(train_before_preprocess), 'train 전처리 후:',len(train))"
   ]
  },
  {
   "cell_type": "code",
   "execution_count": 24,
   "id": "8bacd384",
   "metadata": {
    "scrolled": true
   },
   "outputs": [
    {
     "name": "stdout",
     "output_type": "stream",
     "text": [
      "test 전처리 전: 2 test 전처리 후: 2\n"
     ]
    }
   ],
   "source": [
    "print('test 전처리 전:',len(test_before_preprocess), 'test 전처리 후:',len(test))"
   ]
  },
  {
   "cell_type": "markdown",
   "id": "9797c9d0",
   "metadata": {},
   "source": [
    "### user 수 비교 "
   ]
  },
  {
   "cell_type": "code",
   "execution_count": 25,
   "id": "2e702d72",
   "metadata": {},
   "outputs": [
    {
     "name": "stdout",
     "output_type": "stream",
     "text": [
      "train 유저 수: 858\n"
     ]
    }
   ],
   "source": [
    "print('train 유저 수:',len(train.customer_id.unique()))"
   ]
  },
  {
   "cell_type": "code",
   "execution_count": 26,
   "id": "b2d4c5c9",
   "metadata": {},
   "outputs": [
    {
     "name": "stdout",
     "output_type": "stream",
     "text": [
      "test 유저 수: 1\n"
     ]
    }
   ],
   "source": [
    "print('test 유저 수:',len(test.customer_id.unique()))"
   ]
  },
  {
   "cell_type": "code",
   "execution_count": 27,
   "id": "18e1b5ec",
   "metadata": {},
   "outputs": [
    {
     "name": "stdout",
     "output_type": "stream",
     "text": [
      "test 만 있는 신규 유저 : 0\n"
     ]
    }
   ],
   "source": [
    "# 신규 유저는 MP 같은 다른 방법으로 추천 진행해야 함\n",
    "print('test 만 있는 신규 유저 :',len(set(test['customer_id'].unique())- set(train['customer_id'].unique())))"
   ]
  },
  {
   "cell_type": "markdown",
   "id": "197dd8fb",
   "metadata": {},
   "source": [
    "### item 개수 비교"
   ]
  },
  {
   "cell_type": "code",
   "execution_count": 28,
   "id": "3aba7272",
   "metadata": {},
   "outputs": [
    {
     "name": "stdout",
     "output_type": "stream",
     "text": [
      "train 아이템 수 : 150 test 아이템 수 : 2\n"
     ]
    }
   ],
   "source": [
    "print('train 아이템 수 :',len(set(train.product_ids)), 'test 아이템 수 :',len(set(test.product_ids)))"
   ]
  },
  {
   "cell_type": "code",
   "execution_count": 29,
   "id": "102316b1",
   "metadata": {},
   "outputs": [
    {
     "name": "stdout",
     "output_type": "stream",
     "text": [
      "train 만 있는 아이템 수: 148\n"
     ]
    }
   ],
   "source": [
    "print('train 만 있는 아이템 수:',  len(set(train.product_ids)-set(test.product_ids)))"
   ]
  },
  {
   "cell_type": "code",
   "execution_count": 30,
   "id": "41589650",
   "metadata": {
    "scrolled": true
   },
   "outputs": [
    {
     "name": "stdout",
     "output_type": "stream",
     "text": [
      "test 만 있는 아이템 수: 0\n"
     ]
    }
   ],
   "source": [
    "print('test 만 있는 아이템 수:', len(set(test.product_ids) - set(train.product_ids)))"
   ]
  },
  {
   "cell_type": "markdown",
   "id": "a19564e8",
   "metadata": {},
   "source": [
    "# 3. sparse matrix 만들기"
   ]
  },
  {
   "cell_type": "markdown",
   "id": "4bf19f8d",
   "metadata": {},
   "source": [
    "## ALS MF Matrix"
   ]
  },
  {
   "cell_type": "code",
   "execution_count": 31,
   "id": "dbfcb32b",
   "metadata": {},
   "outputs": [
    {
     "data": {
      "text/plain": [
       "matrix([[1, 1, 0, ..., 0, 0, 0],\n",
       "        [0, 0, 1, ..., 0, 0, 0],\n",
       "        [0, 0, 0, ..., 0, 0, 0],\n",
       "        ...,\n",
       "        [0, 0, 0, ..., 0, 0, 0],\n",
       "        [0, 0, 0, ..., 0, 0, 0],\n",
       "        [0, 0, 0, ..., 0, 0, 1]])"
      ]
     },
     "execution_count": 31,
     "metadata": {},
     "output_type": "execute_result"
    }
   ],
   "source": [
    "PdIds = train.product_ids.unique()\n",
    "\n",
    "PdIdToIndex = {}\n",
    "indexToPdId = {}\n",
    "\n",
    "colIdx = 0\n",
    "\n",
    "for PdId in PdIds:\n",
    "    PdIdToIndex[PdId] = colIdx\n",
    "    indexToPdId[colIdx] = PdId\n",
    "    colIdx += 1\n",
    "    \n",
    "userIds = train.customer_id.unique()\n",
    "\n",
    "userIdToIndex = {}\n",
    "indexToUserId = {}\n",
    "\n",
    "rowIdx = 0\n",
    "\n",
    "for userId in userIds:\n",
    "    userIdToIndex[userId] = rowIdx\n",
    "    indexToUserId[rowIdx] = userId\n",
    "    rowIdx += 1\n",
    "\n",
    "import scipy.sparse as sp\n",
    "\n",
    "rows = []\n",
    "cols = []\n",
    "vals = []\n",
    "\n",
    "for row in train.itertuples():\n",
    "    rows.append(userIdToIndex[row.customer_id])\n",
    "    cols.append(PdIdToIndex[row.product_ids])\n",
    "    vals.append(1)\n",
    "\n",
    "purchase_sparse = sp.csr_matrix((vals, (rows, cols)), shape=(rowIdx,colIdx))\n",
    "\n",
    "matrix = purchase_sparse.todense()\n",
    "matrix"
   ]
  },
  {
   "cell_type": "markdown",
   "id": "f283e658",
   "metadata": {},
   "source": [
    "### Most_popular_matrix"
   ]
  },
  {
   "cell_type": "code",
   "execution_count": 32,
   "id": "8a75fe54",
   "metadata": {},
   "outputs": [
    {
     "data": {
      "text/html": [
       "<div>\n",
       "<style scoped>\n",
       "    .dataframe tbody tr th:only-of-type {\n",
       "        vertical-align: middle;\n",
       "    }\n",
       "\n",
       "    .dataframe tbody tr th {\n",
       "        vertical-align: top;\n",
       "    }\n",
       "\n",
       "    .dataframe thead th {\n",
       "        text-align: right;\n",
       "    }\n",
       "</style>\n",
       "<table border=\"1\" class=\"dataframe\">\n",
       "  <thead>\n",
       "    <tr style=\"text-align: right;\">\n",
       "      <th></th>\n",
       "      <th>product_ids</th>\n",
       "      <th>name_x</th>\n",
       "      <th>customer_id</th>\n",
       "    </tr>\n",
       "  </thead>\n",
       "  <tbody>\n",
       "    <tr>\n",
       "      <th>0</th>\n",
       "      <td>5d13115e32026c0b35383897</td>\n",
       "      <td>KCD 한방내과 진찰진단 가이드라인</td>\n",
       "      <td>5</td>\n",
       "    </tr>\n",
       "    <tr>\n",
       "      <th>1</th>\n",
       "      <td>5d5373e94e77525ec5ca1135</td>\n",
       "      <td>통증치료를 위한 근육 초음파와 주사 테크닉</td>\n",
       "      <td>7</td>\n",
       "    </tr>\n",
       "    <tr>\n",
       "      <th>2</th>\n",
       "      <td>5d59ee854e77525ec5ca1212</td>\n",
       "      <td>일차진료 한의사를 위한 보험한약입문 - 둘째 판</td>\n",
       "      <td>9</td>\n",
       "    </tr>\n",
       "    <tr>\n",
       "      <th>3</th>\n",
       "      <td>5d77b31f19efa30eb29143c9</td>\n",
       "      <td>NEO 인턴 핸드북</td>\n",
       "      <td>4</td>\n",
       "    </tr>\n",
       "    <tr>\n",
       "      <th>4</th>\n",
       "      <td>5d77b73619efa30eb29143ca</td>\n",
       "      <td>병태생리 Visual map</td>\n",
       "      <td>1</td>\n",
       "    </tr>\n",
       "    <tr>\n",
       "      <th>5</th>\n",
       "      <td>5d78491b19efa30eb29143cc</td>\n",
       "      <td>플로차트 한약치료</td>\n",
       "      <td>10</td>\n",
       "    </tr>\n",
       "    <tr>\n",
       "      <th>6</th>\n",
       "      <td>5d784bac19efa30eb29143d0</td>\n",
       "      <td>Medical acupuncture '침의 과학적 접근과 임상활용'</td>\n",
       "      <td>4</td>\n",
       "    </tr>\n",
       "    <tr>\n",
       "      <th>7</th>\n",
       "      <td>5d784e1719efa30eb29143d1</td>\n",
       "      <td>근골격계 질환의 진단 및 재활치료, 4판</td>\n",
       "      <td>3</td>\n",
       "    </tr>\n",
       "    <tr>\n",
       "      <th>8</th>\n",
       "      <td>5d78505019efa30eb29143d2</td>\n",
       "      <td>개원의를 위한 통증사냥법</td>\n",
       "      <td>4</td>\n",
       "    </tr>\n",
       "    <tr>\n",
       "      <th>9</th>\n",
       "      <td>5d7852c519efa30eb29143d3</td>\n",
       "      <td>Cyriax 정형의학 3판</td>\n",
       "      <td>2</td>\n",
       "    </tr>\n",
       "    <tr>\n",
       "      <th>10</th>\n",
       "      <td>5d930c1a0dabe405b156d610</td>\n",
       "      <td>Kendall 자세와 통증치료에 있어서 근육의 기능과 검사 5판</td>\n",
       "      <td>5</td>\n",
       "    </tr>\n",
       "    <tr>\n",
       "      <th>11</th>\n",
       "      <td>5d96811f0dabe405b156d83a</td>\n",
       "      <td>통증치료를 위한 알기 쉬운 근골격계 이학적 검사법</td>\n",
       "      <td>3</td>\n",
       "    </tr>\n",
       "    <tr>\n",
       "      <th>12</th>\n",
       "      <td>5d9edd880dabe405b156e20f</td>\n",
       "      <td>藥徵, 약의 징표</td>\n",
       "      <td>3</td>\n",
       "    </tr>\n",
       "    <tr>\n",
       "      <th>13</th>\n",
       "      <td>5d9edfe70dabe405b156e213</td>\n",
       "      <td>우리 아이 감기</td>\n",
       "      <td>2</td>\n",
       "    </tr>\n",
       "    <tr>\n",
       "      <th>14</th>\n",
       "      <td>5db8d6140dabe405b156f856</td>\n",
       "      <td>보험한약 브런치 the # 2판 개정판</td>\n",
       "      <td>1</td>\n",
       "    </tr>\n",
       "    <tr>\n",
       "      <th>15</th>\n",
       "      <td>5dc388aa2bb59605ca3cf794</td>\n",
       "      <td>그림과 사진으로 보는 질환별 통증치료 Essential</td>\n",
       "      <td>2</td>\n",
       "    </tr>\n",
       "    <tr>\n",
       "      <th>16</th>\n",
       "      <td>5dd397592bb59605ca3d01ea</td>\n",
       "      <td>한방피부진료레슨</td>\n",
       "      <td>1</td>\n",
       "    </tr>\n",
       "    <tr>\n",
       "      <th>17</th>\n",
       "      <td>5ddc689c2bb59605ca3d0872</td>\n",
       "      <td>유도주 상한론강의 1권</td>\n",
       "      <td>1</td>\n",
       "    </tr>\n",
       "    <tr>\n",
       "      <th>18</th>\n",
       "      <td>5ddf84182bb59605ca3d0afe</td>\n",
       "      <td>등중갑 방제학강의</td>\n",
       "      <td>2</td>\n",
       "    </tr>\n",
       "    <tr>\n",
       "      <th>19</th>\n",
       "      <td>5de4c8804267e105dffeea5a</td>\n",
       "      <td>근막시스템의 기능해부학</td>\n",
       "      <td>1</td>\n",
       "    </tr>\n",
       "    <tr>\n",
       "      <th>20</th>\n",
       "      <td>5dedb5e04267e105dffeef43</td>\n",
       "      <td>한의 피부진료 첫 걸음</td>\n",
       "      <td>8</td>\n",
       "    </tr>\n",
       "    <tr>\n",
       "      <th>21</th>\n",
       "      <td>5df720784267e105dffef934</td>\n",
       "      <td>유도주 상한론강의 2권</td>\n",
       "      <td>1</td>\n",
       "    </tr>\n",
       "    <tr>\n",
       "      <th>22</th>\n",
       "      <td>5e1ec0fe4267e105dfff0942</td>\n",
       "      <td>비뇨기질환의 한방치료</td>\n",
       "      <td>2</td>\n",
       "    </tr>\n",
       "    <tr>\n",
       "      <th>23</th>\n",
       "      <td>5e31324b4267e105dfff0e37</td>\n",
       "      <td>말초신경 약침의학</td>\n",
       "      <td>3</td>\n",
       "    </tr>\n",
       "    <tr>\n",
       "      <th>24</th>\n",
       "      <td>5e3cb2904267e105dfff13b3</td>\n",
       "      <td>통증치료를 위한 신경초음파와 하이드로다이섹션 테크닉</td>\n",
       "      <td>1</td>\n",
       "    </tr>\n",
       "    <tr>\n",
       "      <th>25</th>\n",
       "      <td>5e3d02de4267e105dfff13dd</td>\n",
       "      <td>The 정형내과(The Orthopaedic Medicine)</td>\n",
       "      <td>1</td>\n",
       "    </tr>\n",
       "    <tr>\n",
       "      <th>26</th>\n",
       "      <td>5e3d189d4267e105dfff13f2</td>\n",
       "      <td>통증진단의 정석</td>\n",
       "      <td>4</td>\n",
       "    </tr>\n",
       "    <tr>\n",
       "      <th>27</th>\n",
       "      <td>5e40b4e54267e105dfff1544</td>\n",
       "      <td>길익동동</td>\n",
       "      <td>1</td>\n",
       "    </tr>\n",
       "    <tr>\n",
       "      <th>28</th>\n",
       "      <td>5e40cab84267e105dfff155b</td>\n",
       "      <td>근삼침</td>\n",
       "      <td>1</td>\n",
       "    </tr>\n",
       "    <tr>\n",
       "      <th>29</th>\n",
       "      <td>5e40cbc04267e105dfff155c</td>\n",
       "      <td>동씨침법입문 2판</td>\n",
       "      <td>3</td>\n",
       "    </tr>\n",
       "    <tr>\n",
       "      <th>30</th>\n",
       "      <td>5e40d6ea4267e105dfff1564</td>\n",
       "      <td>도설본초문답</td>\n",
       "      <td>1</td>\n",
       "    </tr>\n",
       "    <tr>\n",
       "      <th>31</th>\n",
       "      <td>5e40d9f24267e105dfff1565</td>\n",
       "      <td>맥학심오 강의</td>\n",
       "      <td>4</td>\n",
       "    </tr>\n",
       "    <tr>\n",
       "      <th>32</th>\n",
       "      <td>5e42118d4267e105dfff17b0</td>\n",
       "      <td>면역학강의</td>\n",
       "      <td>1</td>\n",
       "    </tr>\n",
       "    <tr>\n",
       "      <th>33</th>\n",
       "      <td>5e42133a4267e105dfff17b1</td>\n",
       "      <td>호희서 금궤요략강의</td>\n",
       "      <td>1</td>\n",
       "    </tr>\n",
       "    <tr>\n",
       "      <th>34</th>\n",
       "      <td>5e4214414267e105dfff17b4</td>\n",
       "      <td>미안침</td>\n",
       "      <td>1</td>\n",
       "    </tr>\n",
       "    <tr>\n",
       "      <th>35</th>\n",
       "      <td>5e4214f94267e105dfff17b8</td>\n",
       "      <td>유경원 온병학강의</td>\n",
       "      <td>4</td>\n",
       "    </tr>\n",
       "    <tr>\n",
       "      <th>36</th>\n",
       "      <td>5e4215f84267e105dfff17b9</td>\n",
       "      <td>소아피부질환해설</td>\n",
       "      <td>45</td>\n",
       "    </tr>\n",
       "    <tr>\n",
       "      <th>37</th>\n",
       "      <td>5e4216cd4267e105dfff17bc</td>\n",
       "      <td>주인강 피부외과의안</td>\n",
       "      <td>1</td>\n",
       "    </tr>\n",
       "    <tr>\n",
       "      <th>38</th>\n",
       "      <td>5e423fa84267e105dfff181d</td>\n",
       "      <td>의학입문 맥학강의</td>\n",
       "      <td>3</td>\n",
       "    </tr>\n",
       "    <tr>\n",
       "      <th>39</th>\n",
       "      <td>5e42406f4267e105dfff1824</td>\n",
       "      <td>파킨슨병 한의진료</td>\n",
       "      <td>1</td>\n",
       "    </tr>\n",
       "    <tr>\n",
       "      <th>40</th>\n",
       "      <td>5e4241204267e105dfff182a</td>\n",
       "      <td>나가노식 치료</td>\n",
       "      <td>1</td>\n",
       "    </tr>\n",
       "    <tr>\n",
       "      <th>41</th>\n",
       "      <td>5e42421d4267e105dfff182b</td>\n",
       "      <td>생태본초</td>\n",
       "      <td>1</td>\n",
       "    </tr>\n",
       "    <tr>\n",
       "      <th>42</th>\n",
       "      <td>5e4242be4267e105dfff182c</td>\n",
       "      <td>비수술정형외과</td>\n",
       "      <td>1</td>\n",
       "    </tr>\n",
       "    <tr>\n",
       "      <th>43</th>\n",
       "      <td>5e4244c74267e105dfff1832</td>\n",
       "      <td>호희서 상한론강의</td>\n",
       "      <td>1</td>\n",
       "    </tr>\n",
       "    <tr>\n",
       "      <th>44</th>\n",
       "      <td>5e42455e4267e105dfff1833</td>\n",
       "      <td>턱관절균형요법</td>\n",
       "      <td>1</td>\n",
       "    </tr>\n",
       "    <tr>\n",
       "      <th>45</th>\n",
       "      <td>5e42469b4267e105dfff1836</td>\n",
       "      <td>라리마건강법</td>\n",
       "      <td>1</td>\n",
       "    </tr>\n",
       "    <tr>\n",
       "      <th>46</th>\n",
       "      <td>5e425e674267e105dfff1856</td>\n",
       "      <td>사상임상약물대전</td>\n",
       "      <td>6</td>\n",
       "    </tr>\n",
       "    <tr>\n",
       "      <th>47</th>\n",
       "      <td>5e4b427d4267e105dfff1de7</td>\n",
       "      <td>알기 쉬운 이비인후과 한약처방가이드</td>\n",
       "      <td>2</td>\n",
       "    </tr>\n",
       "    <tr>\n",
       "      <th>48</th>\n",
       "      <td>5e4b6a984267e105dfff1dfe</td>\n",
       "      <td>이해하면 보이는 어깨치료 ABC</td>\n",
       "      <td>3</td>\n",
       "    </tr>\n",
       "    <tr>\n",
       "      <th>49</th>\n",
       "      <td>5e4b72fd4267e105dfff1e13</td>\n",
       "      <td>이것만 알면 할 수 있는 치과한방치료</td>\n",
       "      <td>1</td>\n",
       "    </tr>\n",
       "    <tr>\n",
       "      <th>50</th>\n",
       "      <td>5e4b73b14267e105dfff1e14</td>\n",
       "      <td>수면장애의 한방치료</td>\n",
       "      <td>4</td>\n",
       "    </tr>\n",
       "    <tr>\n",
       "      <th>51</th>\n",
       "      <td>5e4cb11d4267e105dfff1e8d</td>\n",
       "      <td>경락상관론</td>\n",
       "      <td>1</td>\n",
       "    </tr>\n",
       "    <tr>\n",
       "      <th>52</th>\n",
       "      <td>5e4cca6b4267e105dfff1e95</td>\n",
       "      <td>경혈학</td>\n",
       "      <td>1</td>\n",
       "    </tr>\n",
       "    <tr>\n",
       "      <th>53</th>\n",
       "      <td>5e4ccce44267e105dfff1e99</td>\n",
       "      <td>고령자 한방진료</td>\n",
       "      <td>1</td>\n",
       "    </tr>\n",
       "    <tr>\n",
       "      <th>54</th>\n",
       "      <td>5e93e5d6bfe426094478533e</td>\n",
       "      <td>한방처방정석</td>\n",
       "      <td>1</td>\n",
       "    </tr>\n",
       "    <tr>\n",
       "      <th>55</th>\n",
       "      <td>5ea643ec1a3ca36b96784a07</td>\n",
       "      <td>사진으로 공부하는 이비인후과학</td>\n",
       "      <td>1</td>\n",
       "    </tr>\n",
       "    <tr>\n",
       "      <th>56</th>\n",
       "      <td>5ecb7356e510ee503167b897</td>\n",
       "      <td>그린만의 수기의학 원리</td>\n",
       "      <td>2</td>\n",
       "    </tr>\n",
       "    <tr>\n",
       "      <th>57</th>\n",
       "      <td>5ecb7358e510ee503167b898</td>\n",
       "      <td>정골의학 핵심정리</td>\n",
       "      <td>1</td>\n",
       "    </tr>\n",
       "    <tr>\n",
       "      <th>58</th>\n",
       "      <td>5ef28cb0e510ee503167d374</td>\n",
       "      <td>해리슨 내과학 제20판</td>\n",
       "      <td>1</td>\n",
       "    </tr>\n",
       "    <tr>\n",
       "      <th>59</th>\n",
       "      <td>5f06a1f6221c8b5f77c8de3b</td>\n",
       "      <td>피부질환 임상아틀라스</td>\n",
       "      <td>1</td>\n",
       "    </tr>\n",
       "    <tr>\n",
       "      <th>60</th>\n",
       "      <td>5f06a1f7221c8b5f77c8de3d</td>\n",
       "      <td>근골격 초음파학</td>\n",
       "      <td>1</td>\n",
       "    </tr>\n",
       "    <tr>\n",
       "      <th>61</th>\n",
       "      <td>5f1550bf221c8b5f77c8f35b</td>\n",
       "      <td>한의사를 위한 통증치료 매뉴얼 Part 3</td>\n",
       "      <td>7</td>\n",
       "    </tr>\n",
       "    <tr>\n",
       "      <th>62</th>\n",
       "      <td>5f1550c2221c8b5f77c8f35d</td>\n",
       "      <td>임상 한의사를 위한 주성완 원장 강의록</td>\n",
       "      <td>1</td>\n",
       "    </tr>\n",
       "    <tr>\n",
       "      <th>63</th>\n",
       "      <td>5f167b21221c8b5f77c8f686</td>\n",
       "      <td>일차진료의를 위한 이비인후과</td>\n",
       "      <td>1</td>\n",
       "    </tr>\n",
       "    <tr>\n",
       "      <th>64</th>\n",
       "      <td>5f167b2d221c8b5f77c8f69d</td>\n",
       "      <td>일반혈액검사 판독법</td>\n",
       "      <td>2</td>\n",
       "    </tr>\n",
       "    <tr>\n",
       "      <th>65</th>\n",
       "      <td>5f167b2e221c8b5f77c8f6a0</td>\n",
       "      <td>외래진료 달인되기</td>\n",
       "      <td>1</td>\n",
       "    </tr>\n",
       "    <tr>\n",
       "      <th>66</th>\n",
       "      <td>5f1e78fa221c8b5f77c9049e</td>\n",
       "      <td>토털매선의학</td>\n",
       "      <td>2</td>\n",
       "    </tr>\n",
       "    <tr>\n",
       "      <th>67</th>\n",
       "      <td>5f27d31c70973e5c1622477f</td>\n",
       "      <td>복증기람(익)</td>\n",
       "      <td>1</td>\n",
       "    </tr>\n",
       "    <tr>\n",
       "      <th>68</th>\n",
       "      <td>5f4cb3eaa0b91001bf48e78e</td>\n",
       "      <td>약처방의 정석 (1, 2권 세트)</td>\n",
       "      <td>2</td>\n",
       "    </tr>\n",
       "    <tr>\n",
       "      <th>69</th>\n",
       "      <td>5f6860f348060c52caf14690</td>\n",
       "      <td>사상방 사용설명서</td>\n",
       "      <td>15</td>\n",
       "    </tr>\n",
       "    <tr>\n",
       "      <th>70</th>\n",
       "      <td>5f9676b2512031633431fa6b</td>\n",
       "      <td>적방! 한약처방 100문 100답</td>\n",
       "      <td>4</td>\n",
       "    </tr>\n",
       "    <tr>\n",
       "      <th>71</th>\n",
       "      <td>5fc50adfce872a1a803a8eea</td>\n",
       "      <td>망설식병</td>\n",
       "      <td>2</td>\n",
       "    </tr>\n",
       "    <tr>\n",
       "      <th>72</th>\n",
       "      <td>5fc8a12bce872a1a803a95ce</td>\n",
       "      <td>The DOs (한국어판)</td>\n",
       "      <td>1</td>\n",
       "    </tr>\n",
       "    <tr>\n",
       "      <th>73</th>\n",
       "      <td>5ff2b50cd6491c001b178242</td>\n",
       "      <td>신종바이러스 감염증 예방과 치료를 위한 한방진료전략</td>\n",
       "      <td>1</td>\n",
       "    </tr>\n",
       "    <tr>\n",
       "      <th>74</th>\n",
       "      <td>6005151da6432d001a69b21b</td>\n",
       "      <td>근골격계 약침의학</td>\n",
       "      <td>6</td>\n",
       "    </tr>\n",
       "    <tr>\n",
       "      <th>75</th>\n",
       "      <td>602cf652527223001a209635</td>\n",
       "      <td>알기쉬운 표면해부학</td>\n",
       "      <td>1</td>\n",
       "    </tr>\n",
       "    <tr>\n",
       "      <th>76</th>\n",
       "      <td>602cf6532c593a001aceac88</td>\n",
       "      <td>초음파 유도하 말초신경의 치료 (Ultrasound-Guided Peripheral...</td>\n",
       "      <td>1</td>\n",
       "    </tr>\n",
       "    <tr>\n",
       "      <th>77</th>\n",
       "      <td>602cf654527223001a209638</td>\n",
       "      <td>족부의학의 일차진료</td>\n",
       "      <td>1</td>\n",
       "    </tr>\n",
       "    <tr>\n",
       "      <th>78</th>\n",
       "      <td>602cf6552c593a001aceac8a</td>\n",
       "      <td>그림과 모식도로 배우는 복부초음파</td>\n",
       "      <td>1</td>\n",
       "    </tr>\n",
       "    <tr>\n",
       "      <th>79</th>\n",
       "      <td>602cf6582c593a001aceac8d</td>\n",
       "      <td>Netters 근육뼈대계 간결해부학</td>\n",
       "      <td>4</td>\n",
       "    </tr>\n",
       "    <tr>\n",
       "      <th>80</th>\n",
       "      <td>60334e0d527223001a209c16</td>\n",
       "      <td>운곡본초도감</td>\n",
       "      <td>2</td>\n",
       "    </tr>\n",
       "    <tr>\n",
       "      <th>81</th>\n",
       "      <td>60334e122c593a001aceb158</td>\n",
       "      <td>증보운곡본초학</td>\n",
       "      <td>2</td>\n",
       "    </tr>\n",
       "    <tr>\n",
       "      <th>82</th>\n",
       "      <td>6034b5a5527223001a209f6f</td>\n",
       "      <td>채소손 논치난임증</td>\n",
       "      <td>1</td>\n",
       "    </tr>\n",
       "    <tr>\n",
       "      <th>83</th>\n",
       "      <td>608654080ccc56001bc7c269</td>\n",
       "      <td>최수용의 기능의학 해설</td>\n",
       "      <td>2</td>\n",
       "    </tr>\n",
       "    <tr>\n",
       "      <th>84</th>\n",
       "      <td>60b49711c1908b001a649f0f</td>\n",
       "      <td>한방 123처방 임상 해설</td>\n",
       "      <td>4</td>\n",
       "    </tr>\n",
       "    <tr>\n",
       "      <th>85</th>\n",
       "      <td>60bdb431c1908b001a64ab9d</td>\n",
       "      <td>[세트] 말초신경 약침의학, 근골격계 약침의학</td>\n",
       "      <td>1</td>\n",
       "    </tr>\n",
       "    <tr>\n",
       "      <th>86</th>\n",
       "      <td>60d018b7d26af90681b18980</td>\n",
       "      <td>윤상훈·권병조의 알짜 근육학</td>\n",
       "      <td>49</td>\n",
       "    </tr>\n",
       "    <tr>\n",
       "      <th>87</th>\n",
       "      <td>60d9891cd26af90681b1a019</td>\n",
       "      <td>현동의감</td>\n",
       "      <td>1</td>\n",
       "    </tr>\n",
       "    <tr>\n",
       "      <th>88</th>\n",
       "      <td>60e29e3709c63a06ed145dc0</td>\n",
       "      <td>플로차트 정신질환의 한방치료</td>\n",
       "      <td>1</td>\n",
       "    </tr>\n",
       "    <tr>\n",
       "      <th>89</th>\n",
       "      <td>60e7e0b0d26af90681b1b61c</td>\n",
       "      <td>침의 과학적 접근의 이해</td>\n",
       "      <td>15</td>\n",
       "    </tr>\n",
       "    <tr>\n",
       "      <th>90</th>\n",
       "      <td>60f7d005d26af90681b1ceac</td>\n",
       "      <td>무릎통증(아프니까 무릎이다)</td>\n",
       "      <td>2</td>\n",
       "    </tr>\n",
       "    <tr>\n",
       "      <th>91</th>\n",
       "      <td>60f7d00ad26af90681b1ceae</td>\n",
       "      <td>필라테스 해부학(PILATES ANATOMY)</td>\n",
       "      <td>3</td>\n",
       "    </tr>\n",
       "    <tr>\n",
       "      <th>92</th>\n",
       "      <td>60f7d00b09c63a06ed1476c3</td>\n",
       "      <td>알기쉬운 골격해부학</td>\n",
       "      <td>1</td>\n",
       "    </tr>\n",
       "    <tr>\n",
       "      <th>93</th>\n",
       "      <td>60f8dba1d26af90681b1d066</td>\n",
       "      <td>감별진단의 정석</td>\n",
       "      <td>1</td>\n",
       "    </tr>\n",
       "    <tr>\n",
       "      <th>94</th>\n",
       "      <td>610b6f9ad26af90681b1e699</td>\n",
       "      <td>임상 한의사를 위한 기본 한약처방 강의 2판</td>\n",
       "      <td>29</td>\n",
       "    </tr>\n",
       "    <tr>\n",
       "      <th>95</th>\n",
       "      <td>613eab4f6b61d0001afbbb40</td>\n",
       "      <td>조소금 임증험안정선</td>\n",
       "      <td>1</td>\n",
       "    </tr>\n",
       "    <tr>\n",
       "      <th>96</th>\n",
       "      <td>613eec936b61d0001afbbc68</td>\n",
       "      <td>소화기질환과 장내 미생물</td>\n",
       "      <td>1</td>\n",
       "    </tr>\n",
       "    <tr>\n",
       "      <th>97</th>\n",
       "      <td>613eec976b61d0001afbbc6a</td>\n",
       "      <td>알아두면 쓸모있는 비만치료</td>\n",
       "      <td>1</td>\n",
       "    </tr>\n",
       "    <tr>\n",
       "      <th>98</th>\n",
       "      <td>617656c209772c00249eeb93</td>\n",
       "      <td>부항요법</td>\n",
       "      <td>1</td>\n",
       "    </tr>\n",
       "    <tr>\n",
       "      <th>99</th>\n",
       "      <td>617a3aacbc63410023471ab6</td>\n",
       "      <td>트리거포인트 침치료</td>\n",
       "      <td>14</td>\n",
       "    </tr>\n",
       "    <tr>\n",
       "      <th>100</th>\n",
       "      <td>617f9228bc63410023472aa4</td>\n",
       "      <td>숲을 보는 요통치료</td>\n",
       "      <td>8</td>\n",
       "    </tr>\n",
       "    <tr>\n",
       "      <th>101</th>\n",
       "      <td>6182113bbc63410023473754</td>\n",
       "      <td>흔히보는 정형외과 외래진료 가이드북</td>\n",
       "      <td>16</td>\n",
       "    </tr>\n",
       "    <tr>\n",
       "      <th>102</th>\n",
       "      <td>61a49096bc6341002347aa22</td>\n",
       "      <td>주문봉 진단학강의</td>\n",
       "      <td>3</td>\n",
       "    </tr>\n",
       "    <tr>\n",
       "      <th>103</th>\n",
       "      <td>61d7a0d87560f900324cdaa3</td>\n",
       "      <td>한눈에 보는 스트레칭 해부학</td>\n",
       "      <td>3</td>\n",
       "    </tr>\n",
       "    <tr>\n",
       "      <th>104</th>\n",
       "      <td>61dfde887560f900324cf6bc</td>\n",
       "      <td>실전한약가이드</td>\n",
       "      <td>3</td>\n",
       "    </tr>\n",
       "    <tr>\n",
       "      <th>105</th>\n",
       "      <td>61e777f57c9ea1003fa99d6f</td>\n",
       "      <td>음양승강으로 해석하는 사상의학: 생리병리</td>\n",
       "      <td>6</td>\n",
       "    </tr>\n",
       "    <tr>\n",
       "      <th>106</th>\n",
       "      <td>61e777f67c9ea1003fa99d70</td>\n",
       "      <td>치매의 간단진단과 치료</td>\n",
       "      <td>2</td>\n",
       "    </tr>\n",
       "    <tr>\n",
       "      <th>107</th>\n",
       "      <td>62173789d41623002392f9ca</td>\n",
       "      <td>간단 한방철칙</td>\n",
       "      <td>1</td>\n",
       "    </tr>\n",
       "    <tr>\n",
       "      <th>108</th>\n",
       "      <td>621737b3d41623002392f9d3</td>\n",
       "      <td>간단 한방처방</td>\n",
       "      <td>1</td>\n",
       "    </tr>\n",
       "    <tr>\n",
       "      <th>109</th>\n",
       "      <td>62186965f6430000243670ca</td>\n",
       "      <td>바른 자세를 위한 교정운동</td>\n",
       "      <td>1</td>\n",
       "    </tr>\n",
       "    <tr>\n",
       "      <th>110</th>\n",
       "      <td>62314ccef967570023fae609</td>\n",
       "      <td>임산부에게 사용할 수 있는 한방처방</td>\n",
       "      <td>7</td>\n",
       "    </tr>\n",
       "    <tr>\n",
       "      <th>111</th>\n",
       "      <td>62392e146f766b0024667fe2</td>\n",
       "      <td>카이로프랙틱 기본테크닉론</td>\n",
       "      <td>6</td>\n",
       "    </tr>\n",
       "    <tr>\n",
       "      <th>112</th>\n",
       "      <td>623bc8886f766b0024668eb5</td>\n",
       "      <td>장골의 PI 변위는 없다</td>\n",
       "      <td>8</td>\n",
       "    </tr>\n",
       "    <tr>\n",
       "      <th>113</th>\n",
       "      <td>62551d64cb28e6002469d8f9</td>\n",
       "      <td>근육학</td>\n",
       "      <td>5</td>\n",
       "    </tr>\n",
       "    <tr>\n",
       "      <th>114</th>\n",
       "      <td>62551d66cb28e6002469d8fa</td>\n",
       "      <td>환자상담의 달인</td>\n",
       "      <td>3</td>\n",
       "    </tr>\n",
       "    <tr>\n",
       "      <th>115</th>\n",
       "      <td>62551d67cb28e6002469d8fb</td>\n",
       "      <td>스파이랄 및 키네지오 테이핑</td>\n",
       "      <td>3</td>\n",
       "    </tr>\n",
       "    <tr>\n",
       "      <th>116</th>\n",
       "      <td>62551d69cb28e6002469d8fc</td>\n",
       "      <td>병의원 경영과 자산 관리 클리닉</td>\n",
       "      <td>1</td>\n",
       "    </tr>\n",
       "    <tr>\n",
       "      <th>117</th>\n",
       "      <td>62551d6ccb28e6002469d8fe</td>\n",
       "      <td>우리 병원의 문제? 현장에서 답을 찾다!</td>\n",
       "      <td>1</td>\n",
       "    </tr>\n",
       "    <tr>\n",
       "      <th>118</th>\n",
       "      <td>625e57080d1b510022676c26</td>\n",
       "      <td>K. 한의학 임상총론</td>\n",
       "      <td>1</td>\n",
       "    </tr>\n",
       "    <tr>\n",
       "      <th>119</th>\n",
       "      <td>625e57080d1b510022676c27</td>\n",
       "      <td>암 치료에 이용되는 천연약물</td>\n",
       "      <td>1</td>\n",
       "    </tr>\n",
       "    <tr>\n",
       "      <th>120</th>\n",
       "      <td>625e570a0d1b510022676c28</td>\n",
       "      <td>오당 본초강론</td>\n",
       "      <td>2</td>\n",
       "    </tr>\n",
       "    <tr>\n",
       "      <th>121</th>\n",
       "      <td>625e570f0d1b510022676c2b</td>\n",
       "      <td>최강통증매선</td>\n",
       "      <td>6</td>\n",
       "    </tr>\n",
       "    <tr>\n",
       "      <th>122</th>\n",
       "      <td>6279c9439d93880024062730</td>\n",
       "      <td>2022 통장잔고 2배 늘려주는 병의원 절세비법</td>\n",
       "      <td>2</td>\n",
       "    </tr>\n",
       "    <tr>\n",
       "      <th>123</th>\n",
       "      <td>6285af5c9d9388002406533e</td>\n",
       "      <td>숨찬 세상, 호흡기를 편하게</td>\n",
       "      <td>1</td>\n",
       "    </tr>\n",
       "    <tr>\n",
       "      <th>124</th>\n",
       "      <td>6285af5e9d9388002406533f</td>\n",
       "      <td>실전, 임상한의학 내과질환을 중심으로</td>\n",
       "      <td>2</td>\n",
       "    </tr>\n",
       "    <tr>\n",
       "      <th>125</th>\n",
       "      <td>6285af629d93880024065342</td>\n",
       "      <td>의학심오(醫學心悟)</td>\n",
       "      <td>1</td>\n",
       "    </tr>\n",
       "    <tr>\n",
       "      <th>126</th>\n",
       "      <td>6285af659d93880024065346</td>\n",
       "      <td>한의학 상담</td>\n",
       "      <td>3</td>\n",
       "    </tr>\n",
       "    <tr>\n",
       "      <th>127</th>\n",
       "      <td>628df3509d9388002406ed08</td>\n",
       "      <td>趙紹琴(조소금) 내과학</td>\n",
       "      <td>2</td>\n",
       "    </tr>\n",
       "    <tr>\n",
       "      <th>128</th>\n",
       "      <td>628ecd689d9388002406f058</td>\n",
       "      <td>갑상선 진료 완전정복</td>\n",
       "      <td>3</td>\n",
       "    </tr>\n",
       "    <tr>\n",
       "      <th>129</th>\n",
       "      <td>628ecd6a9d9388002406f059</td>\n",
       "      <td>뇌의학의 첫걸음</td>\n",
       "      <td>2</td>\n",
       "    </tr>\n",
       "    <tr>\n",
       "      <th>130</th>\n",
       "      <td>628ecd6a9d9388002406f05a</td>\n",
       "      <td>신경학 증상의 감별법</td>\n",
       "      <td>4</td>\n",
       "    </tr>\n",
       "    <tr>\n",
       "      <th>131</th>\n",
       "      <td>628ecd6b9d9388002406f05b</td>\n",
       "      <td>약침의 정석 –통증편</td>\n",
       "      <td>3</td>\n",
       "    </tr>\n",
       "    <tr>\n",
       "      <th>132</th>\n",
       "      <td>628ecd6c9d9388002406f05c</td>\n",
       "      <td>어지럼질환의 진단과 치료</td>\n",
       "      <td>1</td>\n",
       "    </tr>\n",
       "    <tr>\n",
       "      <th>133</th>\n",
       "      <td>628ecd6d9d9388002406f05d</td>\n",
       "      <td>이것이 알고싶다! 당뇨병진료</td>\n",
       "      <td>2</td>\n",
       "    </tr>\n",
       "    <tr>\n",
       "      <th>134</th>\n",
       "      <td>628ecd6e9d9388002406f05f</td>\n",
       "      <td>증례와 함께 하는 한약처방</td>\n",
       "      <td>3</td>\n",
       "    </tr>\n",
       "    <tr>\n",
       "      <th>135</th>\n",
       "      <td>628ecd709d9388002406f060</td>\n",
       "      <td>HAPPY 소아청소년 진료</td>\n",
       "      <td>1</td>\n",
       "    </tr>\n",
       "    <tr>\n",
       "      <th>136</th>\n",
       "      <td>629860569d93880024071aca</td>\n",
       "      <td>황황교수의 개원 한의사를 위한 상한금궤 처방 강의록</td>\n",
       "      <td>10</td>\n",
       "    </tr>\n",
       "    <tr>\n",
       "      <th>137</th>\n",
       "      <td>629860589d93880024071acb</td>\n",
       "      <td>황황교수의 임상의를 위한 근거기반 상한금궤 처방 매뉴얼</td>\n",
       "      <td>9</td>\n",
       "    </tr>\n",
       "    <tr>\n",
       "      <th>138</th>\n",
       "      <td>629860599d93880024071acc</td>\n",
       "      <td>비만문답</td>\n",
       "      <td>23</td>\n",
       "    </tr>\n",
       "    <tr>\n",
       "      <th>139</th>\n",
       "      <td>62ab120708e04900234df576</td>\n",
       "      <td>한눈에 보는 근력운동 해부학</td>\n",
       "      <td>1</td>\n",
       "    </tr>\n",
       "    <tr>\n",
       "      <th>140</th>\n",
       "      <td>62bbee3a08e04900234e36c8</td>\n",
       "      <td>플로차트 정형외과 진단</td>\n",
       "      <td>21</td>\n",
       "    </tr>\n",
       "    <tr>\n",
       "      <th>141</th>\n",
       "      <td>62cd2c353fc97a002bec8509</td>\n",
       "      <td>SMART 기본 일차진료매뉴얼 3판(세트)</td>\n",
       "      <td>23</td>\n",
       "    </tr>\n",
       "    <tr>\n",
       "      <th>142</th>\n",
       "      <td>62cd2c373fc97a002bec850a</td>\n",
       "      <td>SMART 소아진료매뉴얼 3판</td>\n",
       "      <td>12</td>\n",
       "    </tr>\n",
       "    <tr>\n",
       "      <th>143</th>\n",
       "      <td>62cd2c383fc97a002bec850b</td>\n",
       "      <td>SMART 응급진료매뉴얼(세트)</td>\n",
       "      <td>9</td>\n",
       "    </tr>\n",
       "    <tr>\n",
       "      <th>144</th>\n",
       "      <td>62cd2dbb3fc97a002bec851b</td>\n",
       "      <td>사암침의 해석과 임상</td>\n",
       "      <td>1</td>\n",
       "    </tr>\n",
       "    <tr>\n",
       "      <th>145</th>\n",
       "      <td>62da5dd81b3c480022189fdf</td>\n",
       "      <td>외래에서 꼭 알아야 할 통증증후군 137가지</td>\n",
       "      <td>7</td>\n",
       "    </tr>\n",
       "    <tr>\n",
       "      <th>146</th>\n",
       "      <td>62ff2f43ca740b0024397ca4</td>\n",
       "      <td>초음파 유도하 침 시술 가이드북</td>\n",
       "      <td>354</td>\n",
       "    </tr>\n",
       "    <tr>\n",
       "      <th>147</th>\n",
       "      <td>63046e9358e1680033a580d6</td>\n",
       "      <td>영어 진료 가이드북</td>\n",
       "      <td>225</td>\n",
       "    </tr>\n",
       "    <tr>\n",
       "      <th>148</th>\n",
       "      <td>630dbd6f68554000236d9fda</td>\n",
       "      <td>(증보판)사상의학의 원리와 방제</td>\n",
       "      <td>1</td>\n",
       "    </tr>\n",
       "    <tr>\n",
       "      <th>149</th>\n",
       "      <td>630dbd7068554000236d9fdb</td>\n",
       "      <td>여과백문</td>\n",
       "      <td>1</td>\n",
       "    </tr>\n",
       "  </tbody>\n",
       "</table>\n",
       "</div>"
      ],
      "text/plain": [
       "                  product_ids  \\\n",
       "0    5d13115e32026c0b35383897   \n",
       "1    5d5373e94e77525ec5ca1135   \n",
       "2    5d59ee854e77525ec5ca1212   \n",
       "3    5d77b31f19efa30eb29143c9   \n",
       "4    5d77b73619efa30eb29143ca   \n",
       "5    5d78491b19efa30eb29143cc   \n",
       "6    5d784bac19efa30eb29143d0   \n",
       "7    5d784e1719efa30eb29143d1   \n",
       "8    5d78505019efa30eb29143d2   \n",
       "9    5d7852c519efa30eb29143d3   \n",
       "10   5d930c1a0dabe405b156d610   \n",
       "11   5d96811f0dabe405b156d83a   \n",
       "12   5d9edd880dabe405b156e20f   \n",
       "13   5d9edfe70dabe405b156e213   \n",
       "14   5db8d6140dabe405b156f856   \n",
       "15   5dc388aa2bb59605ca3cf794   \n",
       "16   5dd397592bb59605ca3d01ea   \n",
       "17   5ddc689c2bb59605ca3d0872   \n",
       "18   5ddf84182bb59605ca3d0afe   \n",
       "19   5de4c8804267e105dffeea5a   \n",
       "20   5dedb5e04267e105dffeef43   \n",
       "21   5df720784267e105dffef934   \n",
       "22   5e1ec0fe4267e105dfff0942   \n",
       "23   5e31324b4267e105dfff0e37   \n",
       "24   5e3cb2904267e105dfff13b3   \n",
       "25   5e3d02de4267e105dfff13dd   \n",
       "26   5e3d189d4267e105dfff13f2   \n",
       "27   5e40b4e54267e105dfff1544   \n",
       "28   5e40cab84267e105dfff155b   \n",
       "29   5e40cbc04267e105dfff155c   \n",
       "30   5e40d6ea4267e105dfff1564   \n",
       "31   5e40d9f24267e105dfff1565   \n",
       "32   5e42118d4267e105dfff17b0   \n",
       "33   5e42133a4267e105dfff17b1   \n",
       "34   5e4214414267e105dfff17b4   \n",
       "35   5e4214f94267e105dfff17b8   \n",
       "36   5e4215f84267e105dfff17b9   \n",
       "37   5e4216cd4267e105dfff17bc   \n",
       "38   5e423fa84267e105dfff181d   \n",
       "39   5e42406f4267e105dfff1824   \n",
       "40   5e4241204267e105dfff182a   \n",
       "41   5e42421d4267e105dfff182b   \n",
       "42   5e4242be4267e105dfff182c   \n",
       "43   5e4244c74267e105dfff1832   \n",
       "44   5e42455e4267e105dfff1833   \n",
       "45   5e42469b4267e105dfff1836   \n",
       "46   5e425e674267e105dfff1856   \n",
       "47   5e4b427d4267e105dfff1de7   \n",
       "48   5e4b6a984267e105dfff1dfe   \n",
       "49   5e4b72fd4267e105dfff1e13   \n",
       "50   5e4b73b14267e105dfff1e14   \n",
       "51   5e4cb11d4267e105dfff1e8d   \n",
       "52   5e4cca6b4267e105dfff1e95   \n",
       "53   5e4ccce44267e105dfff1e99   \n",
       "54   5e93e5d6bfe426094478533e   \n",
       "55   5ea643ec1a3ca36b96784a07   \n",
       "56   5ecb7356e510ee503167b897   \n",
       "57   5ecb7358e510ee503167b898   \n",
       "58   5ef28cb0e510ee503167d374   \n",
       "59   5f06a1f6221c8b5f77c8de3b   \n",
       "60   5f06a1f7221c8b5f77c8de3d   \n",
       "61   5f1550bf221c8b5f77c8f35b   \n",
       "62   5f1550c2221c8b5f77c8f35d   \n",
       "63   5f167b21221c8b5f77c8f686   \n",
       "64   5f167b2d221c8b5f77c8f69d   \n",
       "65   5f167b2e221c8b5f77c8f6a0   \n",
       "66   5f1e78fa221c8b5f77c9049e   \n",
       "67   5f27d31c70973e5c1622477f   \n",
       "68   5f4cb3eaa0b91001bf48e78e   \n",
       "69   5f6860f348060c52caf14690   \n",
       "70   5f9676b2512031633431fa6b   \n",
       "71   5fc50adfce872a1a803a8eea   \n",
       "72   5fc8a12bce872a1a803a95ce   \n",
       "73   5ff2b50cd6491c001b178242   \n",
       "74   6005151da6432d001a69b21b   \n",
       "75   602cf652527223001a209635   \n",
       "76   602cf6532c593a001aceac88   \n",
       "77   602cf654527223001a209638   \n",
       "78   602cf6552c593a001aceac8a   \n",
       "79   602cf6582c593a001aceac8d   \n",
       "80   60334e0d527223001a209c16   \n",
       "81   60334e122c593a001aceb158   \n",
       "82   6034b5a5527223001a209f6f   \n",
       "83   608654080ccc56001bc7c269   \n",
       "84   60b49711c1908b001a649f0f   \n",
       "85   60bdb431c1908b001a64ab9d   \n",
       "86   60d018b7d26af90681b18980   \n",
       "87   60d9891cd26af90681b1a019   \n",
       "88   60e29e3709c63a06ed145dc0   \n",
       "89   60e7e0b0d26af90681b1b61c   \n",
       "90   60f7d005d26af90681b1ceac   \n",
       "91   60f7d00ad26af90681b1ceae   \n",
       "92   60f7d00b09c63a06ed1476c3   \n",
       "93   60f8dba1d26af90681b1d066   \n",
       "94   610b6f9ad26af90681b1e699   \n",
       "95   613eab4f6b61d0001afbbb40   \n",
       "96   613eec936b61d0001afbbc68   \n",
       "97   613eec976b61d0001afbbc6a   \n",
       "98   617656c209772c00249eeb93   \n",
       "99   617a3aacbc63410023471ab6   \n",
       "100  617f9228bc63410023472aa4   \n",
       "101  6182113bbc63410023473754   \n",
       "102  61a49096bc6341002347aa22   \n",
       "103  61d7a0d87560f900324cdaa3   \n",
       "104  61dfde887560f900324cf6bc   \n",
       "105  61e777f57c9ea1003fa99d6f   \n",
       "106  61e777f67c9ea1003fa99d70   \n",
       "107  62173789d41623002392f9ca   \n",
       "108  621737b3d41623002392f9d3   \n",
       "109  62186965f6430000243670ca   \n",
       "110  62314ccef967570023fae609   \n",
       "111  62392e146f766b0024667fe2   \n",
       "112  623bc8886f766b0024668eb5   \n",
       "113  62551d64cb28e6002469d8f9   \n",
       "114  62551d66cb28e6002469d8fa   \n",
       "115  62551d67cb28e6002469d8fb   \n",
       "116  62551d69cb28e6002469d8fc   \n",
       "117  62551d6ccb28e6002469d8fe   \n",
       "118  625e57080d1b510022676c26   \n",
       "119  625e57080d1b510022676c27   \n",
       "120  625e570a0d1b510022676c28   \n",
       "121  625e570f0d1b510022676c2b   \n",
       "122  6279c9439d93880024062730   \n",
       "123  6285af5c9d9388002406533e   \n",
       "124  6285af5e9d9388002406533f   \n",
       "125  6285af629d93880024065342   \n",
       "126  6285af659d93880024065346   \n",
       "127  628df3509d9388002406ed08   \n",
       "128  628ecd689d9388002406f058   \n",
       "129  628ecd6a9d9388002406f059   \n",
       "130  628ecd6a9d9388002406f05a   \n",
       "131  628ecd6b9d9388002406f05b   \n",
       "132  628ecd6c9d9388002406f05c   \n",
       "133  628ecd6d9d9388002406f05d   \n",
       "134  628ecd6e9d9388002406f05f   \n",
       "135  628ecd709d9388002406f060   \n",
       "136  629860569d93880024071aca   \n",
       "137  629860589d93880024071acb   \n",
       "138  629860599d93880024071acc   \n",
       "139  62ab120708e04900234df576   \n",
       "140  62bbee3a08e04900234e36c8   \n",
       "141  62cd2c353fc97a002bec8509   \n",
       "142  62cd2c373fc97a002bec850a   \n",
       "143  62cd2c383fc97a002bec850b   \n",
       "144  62cd2dbb3fc97a002bec851b   \n",
       "145  62da5dd81b3c480022189fdf   \n",
       "146  62ff2f43ca740b0024397ca4   \n",
       "147  63046e9358e1680033a580d6   \n",
       "148  630dbd6f68554000236d9fda   \n",
       "149  630dbd7068554000236d9fdb   \n",
       "\n",
       "                                                name_x  customer_id  \n",
       "0                                  KCD 한방내과 진찰진단 가이드라인            5  \n",
       "1                              통증치료를 위한 근육 초음파와 주사 테크닉            7  \n",
       "2                           일차진료 한의사를 위한 보험한약입문 - 둘째 판            9  \n",
       "3                                           NEO 인턴 핸드북            4  \n",
       "4                                      병태생리 Visual map            1  \n",
       "5                                            플로차트 한약치료           10  \n",
       "6               Medical acupuncture '침의 과학적 접근과 임상활용'             4  \n",
       "7                               근골격계 질환의 진단 및 재활치료, 4판            3  \n",
       "8                                        개원의를 위한 통증사냥법            4  \n",
       "9                                       Cyriax 정형의학 3판            2  \n",
       "10                 Kendall 자세와 통증치료에 있어서 근육의 기능과 검사 5판            5  \n",
       "11                         통증치료를 위한 알기 쉬운 근골격계 이학적 검사법            3  \n",
       "12                                           藥徵, 약의 징표            3  \n",
       "13                                            우리 아이 감기            2  \n",
       "14                               보험한약 브런치 the # 2판 개정판            1  \n",
       "15                      그림과 사진으로 보는 질환별 통증치료 Essential            2  \n",
       "16                                            한방피부진료레슨            1  \n",
       "17                                        유도주 상한론강의 1권            1  \n",
       "18                                           등중갑 방제학강의            2  \n",
       "19                                        근막시스템의 기능해부학            1  \n",
       "20                                        한의 피부진료 첫 걸음            8  \n",
       "21                                        유도주 상한론강의 2권            1  \n",
       "22                                         비뇨기질환의 한방치료            2  \n",
       "23                                           말초신경 약침의학            3  \n",
       "24                        통증치료를 위한 신경초음파와 하이드로다이섹션 테크닉            1  \n",
       "25                  The 정형내과(The Orthopaedic Medicine)            1  \n",
       "26                                            통증진단의 정석            4  \n",
       "27                                                길익동동            1  \n",
       "28                                                 근삼침            1  \n",
       "29                                           동씨침법입문 2판            3  \n",
       "30                                              도설본초문답            1  \n",
       "31                                             맥학심오 강의            4  \n",
       "32                                               면역학강의            1  \n",
       "33                                          호희서 금궤요략강의            1  \n",
       "34                                                 미안침            1  \n",
       "35                                           유경원 온병학강의            4  \n",
       "36                                            소아피부질환해설           45  \n",
       "37                                          주인강 피부외과의안            1  \n",
       "38                                           의학입문 맥학강의            3  \n",
       "39                                           파킨슨병 한의진료            1  \n",
       "40                                             나가노식 치료            1  \n",
       "41                                                생태본초            1  \n",
       "42                                             비수술정형외과            1  \n",
       "43                                           호희서 상한론강의            1  \n",
       "44                                             턱관절균형요법            1  \n",
       "45                                              라리마건강법            1  \n",
       "46                                            사상임상약물대전            6  \n",
       "47                                 알기 쉬운 이비인후과 한약처방가이드            2  \n",
       "48                                   이해하면 보이는 어깨치료 ABC            3  \n",
       "49                                이것만 알면 할 수 있는 치과한방치료            1  \n",
       "50                                          수면장애의 한방치료            4  \n",
       "51                                               경락상관론            1  \n",
       "52                                                 경혈학            1  \n",
       "53                                            고령자 한방진료            1  \n",
       "54                                              한방처방정석            1  \n",
       "55                                    사진으로 공부하는 이비인후과학            1  \n",
       "56                                        그린만의 수기의학 원리            2  \n",
       "57                                           정골의학 핵심정리            1  \n",
       "58                                        해리슨 내과학 제20판            1  \n",
       "59                                         피부질환 임상아틀라스            1  \n",
       "60                                            근골격 초음파학            1  \n",
       "61                             한의사를 위한 통증치료 매뉴얼 Part 3            7  \n",
       "62                               임상 한의사를 위한 주성완 원장 강의록            1  \n",
       "63                                     일차진료의를 위한 이비인후과            1  \n",
       "64                                          일반혈액검사 판독법            2  \n",
       "65                                           외래진료 달인되기            1  \n",
       "66                                              토털매선의학            2  \n",
       "67                                             복증기람(익)            1  \n",
       "68                                 약처방의 정석 (1, 2권 세트)             2  \n",
       "69                                           사상방 사용설명서           15  \n",
       "70                                  적방! 한약처방 100문 100답            4  \n",
       "71                                                망설식병            2  \n",
       "72                                      The DOs (한국어판)            1  \n",
       "73                        신종바이러스 감염증 예방과 치료를 위한 한방진료전략            1  \n",
       "74                                           근골격계 약침의학            6  \n",
       "75                                          알기쉬운 표면해부학            1  \n",
       "76   초음파 유도하 말초신경의 치료 (Ultrasound-Guided Peripheral...            1  \n",
       "77                                          족부의학의 일차진료            1  \n",
       "78                                  그림과 모식도로 배우는 복부초음파            1  \n",
       "79                                 Netters 근육뼈대계 간결해부학            4  \n",
       "80                                              운곡본초도감            2  \n",
       "81                                             증보운곡본초학            2  \n",
       "82                                           채소손 논치난임증            1  \n",
       "83                                        최수용의 기능의학 해설            2  \n",
       "84                                      한방 123처방 임상 해설            4  \n",
       "85                           [세트] 말초신경 약침의학, 근골격계 약침의학            1  \n",
       "86                                     윤상훈·권병조의 알짜 근육학           49  \n",
       "87                                                현동의감            1  \n",
       "88                                     플로차트 정신질환의 한방치료            1  \n",
       "89                                       침의 과학적 접근의 이해           15  \n",
       "90                                     무릎통증(아프니까 무릎이다)            2  \n",
       "91                           필라테스 해부학(PILATES ANATOMY)            3  \n",
       "92                                          알기쉬운 골격해부학            1  \n",
       "93                                            감별진단의 정석            1  \n",
       "94                            임상 한의사를 위한 기본 한약처방 강의 2판           29  \n",
       "95                                          조소금 임증험안정선            1  \n",
       "96                                       소화기질환과 장내 미생물            1  \n",
       "97                                      알아두면 쓸모있는 비만치료            1  \n",
       "98                                                부항요법            1  \n",
       "99                                          트리거포인트 침치료           14  \n",
       "100                                         숲을 보는 요통치료            8  \n",
       "101                                흔히보는 정형외과 외래진료 가이드북           16  \n",
       "102                                          주문봉 진단학강의            3  \n",
       "103                                    한눈에 보는 스트레칭 해부학            3  \n",
       "104                                            실전한약가이드            3  \n",
       "105                             음양승강으로 해석하는 사상의학: 생리병리            6  \n",
       "106                                       치매의 간단진단과 치료            2  \n",
       "107                                            간단 한방철칙            1  \n",
       "108                                            간단 한방처방            1  \n",
       "109                                     바른 자세를 위한 교정운동            1  \n",
       "110                                임산부에게 사용할 수 있는 한방처방            7  \n",
       "111                                      카이로프랙틱 기본테크닉론            6  \n",
       "112                                      장골의 PI 변위는 없다            8  \n",
       "113                                                근육학            5  \n",
       "114                                           환자상담의 달인            3  \n",
       "115                                    스파이랄 및 키네지오 테이핑            3  \n",
       "116                                  병의원 경영과 자산 관리 클리닉            1  \n",
       "117                             우리 병원의 문제? 현장에서 답을 찾다!            1  \n",
       "118                                        K. 한의학 임상총론            1  \n",
       "119                                    암 치료에 이용되는 천연약물            1  \n",
       "120                                            오당 본초강론            2  \n",
       "121                                             최강통증매선            6  \n",
       "122                         2022 통장잔고 2배 늘려주는 병의원 절세비법            2  \n",
       "123                                    숨찬 세상, 호흡기를 편하게            1  \n",
       "124                               실전, 임상한의학 내과질환을 중심으로            2  \n",
       "125                                         의학심오(醫學心悟)            1  \n",
       "126                                             한의학 상담            3  \n",
       "127                                       趙紹琴(조소금) 내과학            2  \n",
       "128                                        갑상선 진료 완전정복            3  \n",
       "129                                           뇌의학의 첫걸음            2  \n",
       "130                                        신경학 증상의 감별법            4  \n",
       "131                                        약침의 정석 –통증편            3  \n",
       "132                                      어지럼질환의 진단과 치료            1  \n",
       "133                                    이것이 알고싶다! 당뇨병진료            2  \n",
       "134                                     증례와 함께 하는 한약처방            3  \n",
       "135                                     HAPPY 소아청소년 진료            1  \n",
       "136                       황황교수의 개원 한의사를 위한 상한금궤 처방 강의록           10  \n",
       "137                     황황교수의 임상의를 위한 근거기반 상한금궤 처방 매뉴얼            9  \n",
       "138                                               비만문답           23  \n",
       "139                                    한눈에 보는 근력운동 해부학            1  \n",
       "140                                       플로차트 정형외과 진단           21  \n",
       "141                            SMART 기본 일차진료매뉴얼 3판(세트)           23  \n",
       "142                                   SMART 소아진료매뉴얼 3판           12  \n",
       "143                                  SMART 응급진료매뉴얼(세트)            9  \n",
       "144                                        사암침의 해석과 임상            1  \n",
       "145                           외래에서 꼭 알아야 할 통증증후군 137가지            7  \n",
       "146                                  초음파 유도하 침 시술 가이드북          354  \n",
       "147                                        영어 진료 가이드북           225  \n",
       "148                                  (증보판)사상의학의 원리와 방제            1  \n",
       "149                                               여과백문            1  "
      ]
     },
     "execution_count": 32,
     "metadata": {},
     "output_type": "execute_result"
    }
   ],
   "source": [
    "most_popular = train.groupby(['product_ids','name_x']).count()['customer_id'].reset_index()\n",
    "most_popular"
   ]
  },
  {
   "cell_type": "markdown",
   "id": "ad8f772f",
   "metadata": {},
   "source": [
    "### Medistream_prediction_matrix\n",
    "- 메디스트림 메디마켓에서 제공하는 정렬 추천 성능 비교를 위한 df 구현\n",
    "- 인기도순, 최신순, 과거순, 높은 가격순, 낮은 가격순, 이름순 (총 6 가지)\n",
    "- 각각 구현해보고 학습 모델 대비 성능 비교"
   ]
  },
  {
   "cell_type": "code",
   "execution_count": 33,
   "id": "77e30e41",
   "metadata": {},
   "outputs": [
    {
     "name": "stderr",
     "output_type": "stream",
     "text": [
      "<ipython-input-33-4d4e36d189e6>:3: SettingWithCopyWarning: \n",
      "A value is trying to be set on a copy of a slice from a DataFrame.\n",
      "Try using .loc[row_indexer,col_indexer] = value instead\n",
      "\n",
      "See the caveats in the documentation: https://pandas.pydata.org/pandas-docs/stable/user_guide/indexing.html#returning-a-view-versus-a-copy\n",
      "  medistream_prediction_preprop_df['date_created'] = pd.to_datetime(medistream_prediction_preprop_df['date_created'])\n"
     ]
    }
   ],
   "source": [
    "medistream_prediction_df = train[['date_created','regular_price','sale_price','three_months','product_ids','name_x']]\n",
    "medistream_prediction_preprop_df = medistream_prediction_df.drop_duplicates(subset=['product_ids'], ignore_index=True)\n",
    "medistream_prediction_preprop_df['date_created'] = pd.to_datetime(medistream_prediction_preprop_df['date_created'])\n",
    "# sale_prices가 0이면 regular_price 값으로 채워넣어야하는데 0이 없음(전처리 필요 무)"
   ]
  },
  {
   "cell_type": "markdown",
   "id": "7ca1abb4",
   "metadata": {},
   "source": [
    "# Sparsity 확인"
   ]
  },
  {
   "cell_type": "code",
   "execution_count": 34,
   "id": "47f55717",
   "metadata": {},
   "outputs": [
    {
     "data": {
      "text/plain": [
       "99.07459207459208"
      ]
     },
     "execution_count": 34,
     "metadata": {},
     "output_type": "execute_result"
    }
   ],
   "source": [
    "# Sparsity: 얼마나 비어있나?\n",
    "matrix_size = purchase_sparse.shape[0]* purchase_sparse.shape[1]\n",
    "num_purchases = len(purchase_sparse.nonzero()[0])\n",
    "sparsity = 100 * (1 - (num_purchases / matrix_size))\n",
    "sparsity"
   ]
  },
  {
   "cell_type": "markdown",
   "id": "8cbe9ba0",
   "metadata": {},
   "source": [
    "# 4. Model"
   ]
  },
  {
   "cell_type": "markdown",
   "id": "641764ad",
   "metadata": {},
   "source": [
    "## Model 학습 진행\n",
    "- real test 만들기\n",
    "- implict 라이브러리 사용(MF,LMF)\n",
    "- MF 구현 모델 사용"
   ]
  },
  {
   "cell_type": "code",
   "execution_count": 35,
   "id": "b8adfc91",
   "metadata": {},
   "outputs": [],
   "source": [
    "# real test \n",
    "ground_trues = []\n",
    "for user_id in test['customer_id'].unique():\n",
    "    ground_trues.append({'id': user_id,\\\n",
    "    'items':list(test[test['customer_id']==user_id].product_ids)\n",
    "    })"
   ]
  },
  {
   "cell_type": "markdown",
   "id": "a7b4b0d1",
   "metadata": {},
   "source": [
    "## ALS fit"
   ]
  },
  {
   "cell_type": "code",
   "execution_count": 36,
   "id": "71f6003c",
   "metadata": {},
   "outputs": [
    {
     "data": {
      "application/vnd.jupyter.widget-view+json": {
       "model_id": "0bc4005d78894b0bac25a369f01c7930",
       "version_major": 2,
       "version_minor": 0
      },
      "text/plain": [
       "  0%|          | 0/50 [00:00<?, ?it/s]"
      ]
     },
     "metadata": {},
     "output_type": "display_data"
    }
   ],
   "source": [
    "als_model = ALS(factors=20, regularization=0.01, iterations = 50, random_state=42)\n",
    "als_model.fit(purchase_sparse)"
   ]
  },
  {
   "cell_type": "code",
   "execution_count": 37,
   "id": "25274f0c",
   "metadata": {},
   "outputs": [],
   "source": [
    "# item, user vector 추출\n",
    "als_item_factors = als_model.item_factors\n",
    "als_user_factors = als_model.user_factors"
   ]
  },
  {
   "cell_type": "code",
   "execution_count": 38,
   "id": "eefa9052",
   "metadata": {},
   "outputs": [
    {
     "data": {
      "text/plain": [
       "((150, 20), (858, 20))"
      ]
     },
     "execution_count": 38,
     "metadata": {},
     "output_type": "execute_result"
    }
   ],
   "source": [
    "# 각 shape 확인\n",
    "als_item_factors.shape, als_user_factors.shape"
   ]
  },
  {
   "cell_type": "markdown",
   "id": "9085617c",
   "metadata": {},
   "source": [
    "## LMF fit"
   ]
  },
  {
   "cell_type": "code",
   "execution_count": 39,
   "id": "515f2663",
   "metadata": {},
   "outputs": [],
   "source": [
    "from implicit.lmf import LogisticMatrixFactorization as LMF"
   ]
  },
  {
   "cell_type": "code",
   "execution_count": 40,
   "id": "aea5ab56",
   "metadata": {},
   "outputs": [
    {
     "data": {
      "application/vnd.jupyter.widget-view+json": {
       "model_id": "b60389f54c7d45228b7041038f696546",
       "version_major": 2,
       "version_minor": 0
      },
      "text/plain": [
       "  0%|          | 0/20 [00:00<?, ?it/s]"
      ]
     },
     "metadata": {},
     "output_type": "display_data"
    }
   ],
   "source": [
    "lmf_model = LMF(factors=20, regularization=0.001, iterations = 20, random_state=42)\n",
    "lmf_model.fit(purchase_sparse)"
   ]
  },
  {
   "cell_type": "code",
   "execution_count": 41,
   "id": "9a49d79c",
   "metadata": {},
   "outputs": [],
   "source": [
    "lmf_item_factors = lmf_model.item_factors\n",
    "lmf_user_factors = lmf_model.user_factors"
   ]
  },
  {
   "cell_type": "code",
   "execution_count": 42,
   "id": "4c983490",
   "metadata": {},
   "outputs": [
    {
     "data": {
      "text/plain": [
       "((858, 22), (150, 22))"
      ]
     },
     "execution_count": 42,
     "metadata": {},
     "output_type": "execute_result"
    }
   ],
   "source": [
    "lmf_user_factors.shape, lmf_item_factors.shape"
   ]
  },
  {
   "cell_type": "markdown",
   "id": "fabd609a",
   "metadata": {},
   "source": [
    "# 5. prediction"
   ]
  },
  {
   "cell_type": "markdown",
   "id": "814fddf3",
   "metadata": {},
   "source": [
    "# ALS mf prediction"
   ]
  },
  {
   "cell_type": "code",
   "execution_count": 43,
   "id": "c88db67e",
   "metadata": {},
   "outputs": [],
   "source": [
    "# 신규 유저인 경우 mp로 넣기\n",
    "# 전체 도서에 대한 판매 만큼 정렬 후 넣기\n",
    "most_popular_list = most_popular.sort_values(by='customer_id',ascending=False).index\n",
    "\n",
    "# test 예측값, 이미 구매 했을 경우 제외\n",
    "als_predict_list = []\n",
    "for user_id in test['customer_id'].unique():\n",
    "    try:\n",
    "        result = als_model.recommend(userIdToIndex[user_id], purchase_sparse[userIdToIndex[user_id]], N=100)\n",
    "        als_predict_list.append({'id':user_id ,'items':[indexToPdId[num] for num in result[0]]})\n",
    "    except:\n",
    "        train_purchase_list = list(train[train['customer_id']==user_id].product_ids)\n",
    "        als_predict_list.append({'id':user_id ,'items':[most_popular.product_ids.loc[num] for num in most_popular_list \\\n",
    "                                                            if most_popular.product_ids.loc[num] not in train_purchase_list \\\n",
    "                                                            ]})\n",
    "        \n",
    "# 100 개만 예측하기\n",
    "for idx, pred_list in enumerate(als_predict_list):\n",
    "    als_predict_list[idx]['items'] = pred_list['items'][:100]"
   ]
  },
  {
   "cell_type": "markdown",
   "id": "fee59f90",
   "metadata": {},
   "source": [
    "# LMF prediction"
   ]
  },
  {
   "cell_type": "code",
   "execution_count": 44,
   "id": "7551f606",
   "metadata": {},
   "outputs": [],
   "source": [
    "# 신규 유저 mp로 넣기\n",
    "most_popular_list = most_popular.sort_values(by='customer_id',ascending=False).index\n",
    "\n",
    "# test 예측값\n",
    "lmf_predict_list = []\n",
    "for user_id in test['customer_id'].unique():\n",
    "    try:\n",
    "        result = lmf_model.recommend(userIdToIndex[user_id], purchase_sparse[userIdToIndex[user_id]], N=100)\n",
    "        lmf_predict_list.append({'id':user_id ,'items':[indexToPdId[num] for num in result[0]]})\n",
    "    except:\n",
    "        train_purchase_list = list(train[train['customer_id']==user_id].product_ids)\n",
    "        lmf_predict_list.append({'id':user_id ,'items':[most_popular.product_ids.loc[num] for num in most_popular_list \\\n",
    "                                                            if most_popular.product_ids.loc[num] not in train_purchase_list \\\n",
    "                                                            ]})\n",
    "        \n",
    "# 100 개만 예측하기\n",
    "for idx, pred_list in enumerate(lmf_predict_list):\n",
    "    lmf_predict_list[idx]['items'] = pred_list['items'][:100]"
   ]
  },
  {
   "cell_type": "markdown",
   "id": "65633ab7",
   "metadata": {},
   "source": [
    "# most popular prediction"
   ]
  },
  {
   "cell_type": "code",
   "execution_count": 45,
   "id": "c1f592ec",
   "metadata": {},
   "outputs": [],
   "source": [
    "# 전체 도서에 대한 판매 만큼 정렬 후 넣기\n",
    "most_popular_list = most_popular.sort_values(by='customer_id',ascending=False).index\n",
    "\n",
    "# test 예측값, 이미 구매 했을 경우 제외\n",
    "predict_popular_list = []\n",
    "for user_id in test['customer_id'].unique():\n",
    "    train_purchase_list = list(train[train['customer_id']==user_id].product_ids)\n",
    "    predict_popular_list.append({'id':user_id ,'items':[most_popular.product_ids.loc[num] for num in most_popular_list \\\n",
    "                                                            if most_popular.product_ids.loc[num] not in train_purchase_list \\\n",
    "                                                            ]})\n",
    "\n",
    "# 100 개만 예측하기\n",
    "for idx, pred_list in enumerate(predict_popular_list):\n",
    "    predict_popular_list[idx]['items'] = pred_list['items'][:100]"
   ]
  },
  {
   "cell_type": "markdown",
   "id": "eb7a3268",
   "metadata": {},
   "source": [
    "# medistream prediction\n",
    "- 메디스트림 메디마켓에서 제공하는 정렬 추천 성능 비교\n",
    "- 인기도순, 최신순, 과거순, 높은 가격순, 낮은 가격순, 이름순 (총 6 가지)\n",
    "- 각각 구현해보고 학습 모델 대비 성능 비교"
   ]
  },
  {
   "cell_type": "code",
   "execution_count": 46,
   "id": "8eb849d1",
   "metadata": {},
   "outputs": [],
   "source": [
    "# 인기도순\n",
    "medistream_popular_list = medistream_prediction_preprop_df.sort_values(by='three_months', ascending=False).index\n",
    "# 최신순\n",
    "medistream_latest_list = medistream_prediction_preprop_df.sort_values(by='date_created', ascending=False).index\n",
    "# 오랜된 순\n",
    "medistream_oldest_list = medistream_prediction_preprop_df.sort_values(by='date_created', ascending=True).index\n",
    "# 높은 가격 순\n",
    "medistream_high_price_list = medistream_prediction_preprop_df.sort_values(by='sale_price', ascending=False).index\n",
    "# 낮은 가격 순\n",
    "medistream_low_price_list = medistream_prediction_preprop_df.sort_values(by='sale_price', ascending=True).index\n",
    "# 이름 순\n",
    "medistream_name_sort_list = medistream_prediction_preprop_df.sort_values(by='name_x',ascending=True).index\n",
    "\n",
    "def medistream_prediction_method(predict_num:int ,medi_predict_list:list)->list:\n",
    "    medistream_predict_list = []\n",
    "    for user_id in test['customer_id'].unique():\n",
    "        medistream_predict_list.append({'id':user_id ,'items':[medistream_prediction_preprop_df.product_ids.loc[num] \\\n",
    "                                                                       for num in medi_predict_list]})\n",
    "\n",
    "    # 100 개만 예측하기\n",
    "    for idx, pred_list in enumerate(medistream_predict_list):\n",
    "        medistream_predict_list[idx]['items'] = pred_list['items'][:predict_num]\n",
    "        \n",
    "    return medistream_predict_list"
   ]
  },
  {
   "cell_type": "code",
   "execution_count": 47,
   "id": "c2d668a6",
   "metadata": {},
   "outputs": [],
   "source": [
    "medistream_predict_popular_list = medistream_prediction_method(100, medistream_popular_list)\n",
    "medistream_predict_latest_list = medistream_prediction_method(100, medistream_latest_list)\n",
    "medistream_predict_oldest_list = medistream_prediction_method(100, medistream_oldest_list)\n",
    "medistream_predict_high_price_list = medistream_prediction_method(100, medistream_high_price_list)\n",
    "medistream_predict_low_price_list = medistream_prediction_method(100, medistream_low_price_list)\n",
    "medistream_predict_name_sort_list = medistream_prediction_method(100, medistream_name_sort_list)"
   ]
  },
  {
   "cell_type": "markdown",
   "id": "f8b5a451",
   "metadata": {},
   "source": [
    "# 6. evaluation"
   ]
  },
  {
   "cell_type": "markdown",
   "id": "2c0f739b",
   "metadata": {},
   "source": [
    "## NDCG 평가지표"
   ]
  },
  {
   "cell_type": "code",
   "execution_count": 48,
   "id": "2124a43a",
   "metadata": {},
   "outputs": [],
   "source": [
    "class CustomEvaluator:\n",
    "    # relavence 모두 1로 동일하게 봄\n",
    "    def _idcg(self, l):\n",
    "        return sum((1.0 / np.log(i + 2) for i in range(l)))\n",
    "    \n",
    "\n",
    "    def __init__(self):\n",
    "        self._idcgs = [self._idcg(i) for i in range(1000)]\n",
    "    '''\n",
    "    idcgs 예시, item 3개 추천되므로 3.074281787960283 가 됩니다.\n",
    "    [0, 1.4426950408889634, 2.352934267515801, 3.074281787960283]\n",
    "    '''\n",
    "\n",
    "    def _ndcg(self, gt, rec):\n",
    "        dcg = 0.0\n",
    "        for i, r in enumerate(rec):\n",
    "            if r in gt:\n",
    "                dcg += 1.0 / np.log(i + 2)\n",
    "\n",
    "        return dcg / self._idcgs[len(gt)]\n",
    "\n",
    "    def _eval(self, gt_list, rec_list):\n",
    "        gt_dict = {g[\"id\"]: g for g in gt_list}\n",
    "        ndcg_score = 0.0\n",
    "\n",
    "        for rec in rec_list:\n",
    "            gt = gt_dict[rec[\"id\"]]\n",
    "            ndcg_score += self._ndcg(gt[\"items\"], rec[\"items\"])\n",
    "\n",
    "\n",
    "        ndcg_score = ndcg_score / len(rec_list)\n",
    "\n",
    "\n",
    "        return ndcg_score\n",
    "\n",
    "    def evaluate(self, gt_list, rec_list):\n",
    "        try:\n",
    "            ndcg_score = self._eval(gt_list, rec_list)\n",
    "            print(f\"nDCG: {ndcg_score:.6}\")\n",
    "        except Exception as e:\n",
    "            print(e)\n"
   ]
  },
  {
   "cell_type": "markdown",
   "id": "7486873f",
   "metadata": {},
   "source": [
    "# ALS NDCG"
   ]
  },
  {
   "cell_type": "code",
   "execution_count": 49,
   "id": "d4fadc15",
   "metadata": {},
   "outputs": [
    {
     "name": "stdout",
     "output_type": "stream",
     "text": [
      "nDCG: 0.120521\n"
     ]
    }
   ],
   "source": [
    "# ALS \n",
    "evaluator = CustomEvaluator()\n",
    "evaluator.evaluate(ground_trues, als_predict_list)"
   ]
  },
  {
   "cell_type": "code",
   "execution_count": 50,
   "id": "7b83ab8b",
   "metadata": {},
   "outputs": [
    {
     "data": {
      "text/plain": [
       "(1, 1)"
      ]
     },
     "execution_count": 50,
     "metadata": {},
     "output_type": "execute_result"
    }
   ],
   "source": [
    "len(als_predict_list),len(ground_trues)"
   ]
  },
  {
   "cell_type": "code",
   "execution_count": 51,
   "id": "27ca4578",
   "metadata": {},
   "outputs": [
    {
     "data": {
      "text/plain": [
       "1"
      ]
     },
     "execution_count": 51,
     "metadata": {},
     "output_type": "execute_result"
    }
   ],
   "source": [
    "# 아이템 맞춘 개수\n",
    "cnt = 0\n",
    "for gt, pred_list in zip(ground_trues, als_predict_list):\n",
    "    for pred in pred_list['items']:\n",
    "        if pred in gt['items']:\n",
    "            cnt += 1\n",
    "cnt"
   ]
  },
  {
   "cell_type": "markdown",
   "id": "6f58a979",
   "metadata": {},
   "source": [
    "# LMF NDCG"
   ]
  },
  {
   "cell_type": "code",
   "execution_count": 52,
   "id": "b1a2906d",
   "metadata": {},
   "outputs": [
    {
     "name": "stdout",
     "output_type": "stream",
     "text": [
      "nDCG: 0.139595\n"
     ]
    }
   ],
   "source": [
    "# ALS \n",
    "evaluator = CustomEvaluator()\n",
    "evaluator.evaluate(ground_trues, lmf_predict_list)"
   ]
  },
  {
   "cell_type": "code",
   "execution_count": 53,
   "id": "a9b49aa9",
   "metadata": {},
   "outputs": [
    {
     "data": {
      "text/plain": [
       "(1, 1)"
      ]
     },
     "execution_count": 53,
     "metadata": {},
     "output_type": "execute_result"
    }
   ],
   "source": [
    "len(lmf_predict_list),len(ground_trues)"
   ]
  },
  {
   "cell_type": "code",
   "execution_count": 54,
   "id": "d23667e7",
   "metadata": {},
   "outputs": [
    {
     "data": {
      "text/plain": [
       "1"
      ]
     },
     "execution_count": 54,
     "metadata": {},
     "output_type": "execute_result"
    }
   ],
   "source": [
    "# 아이템 맞춘 개수\n",
    "cnt = 0\n",
    "for gt, pred_list in zip(ground_trues, lmf_predict_list):\n",
    "    for pred in pred_list['items']:\n",
    "        if pred in gt['items']:\n",
    "            cnt += 1\n",
    "cnt"
   ]
  },
  {
   "cell_type": "markdown",
   "id": "a8ad479c",
   "metadata": {},
   "source": [
    "# most popular NDCG"
   ]
  },
  {
   "cell_type": "code",
   "execution_count": 55,
   "id": "3c0a471b",
   "metadata": {
    "scrolled": true
   },
   "outputs": [
    {
     "name": "stdout",
     "output_type": "stream",
     "text": [
      "nDCG: 0.224323\n"
     ]
    }
   ],
   "source": [
    "# most popular\n",
    "evaluator = CustomEvaluator()\n",
    "evaluator.evaluate(ground_trues, predict_popular_list)"
   ]
  },
  {
   "cell_type": "code",
   "execution_count": 56,
   "id": "4e693715",
   "metadata": {
    "scrolled": true
   },
   "outputs": [
    {
     "data": {
      "text/plain": [
       "(1, 1)"
      ]
     },
     "execution_count": 56,
     "metadata": {},
     "output_type": "execute_result"
    }
   ],
   "source": [
    "len(predict_popular_list),len(ground_trues)"
   ]
  },
  {
   "cell_type": "code",
   "execution_count": 57,
   "id": "b1436bee",
   "metadata": {},
   "outputs": [
    {
     "data": {
      "text/plain": [
       "2"
      ]
     },
     "execution_count": 57,
     "metadata": {},
     "output_type": "execute_result"
    }
   ],
   "source": [
    "# 아이템 맞춘 개수\n",
    "cnt = 0\n",
    "for gt, pred_list in zip(ground_trues, predict_popular_list):\n",
    "    for pred in pred_list['items']:\n",
    "        if pred in gt['items']:\n",
    "            cnt += 1\n",
    "cnt"
   ]
  },
  {
   "cell_type": "markdown",
   "id": "ec1c6374",
   "metadata": {},
   "source": [
    "## medistream prediction NDCG"
   ]
  },
  {
   "cell_type": "code",
   "execution_count": 58,
   "id": "b68bf469",
   "metadata": {},
   "outputs": [],
   "source": [
    "def medistream_prediction(ground_trues:list, predict_list:list):\n",
    "    evaluator = CustomEvaluator()\n",
    "    ndcg = evaluator._eval(ground_trues, predict_list)\n",
    "    \n",
    "    assert len(predict_list) == len(ground_trues)\n",
    "    \n",
    "    cnt = 0\n",
    "    for gt, pred_list in zip(ground_trues, predict_list):\n",
    "        for pred in pred_list['items']:\n",
    "            if pred in gt['items']:\n",
    "                cnt += 1\n",
    "    return ndcg, cnt"
   ]
  },
  {
   "cell_type": "code",
   "execution_count": 59,
   "id": "cb76690e",
   "metadata": {},
   "outputs": [
    {
     "data": {
      "text/html": [
       "<div>\n",
       "<style scoped>\n",
       "    .dataframe tbody tr th:only-of-type {\n",
       "        vertical-align: middle;\n",
       "    }\n",
       "\n",
       "    .dataframe tbody tr th {\n",
       "        vertical-align: top;\n",
       "    }\n",
       "\n",
       "    .dataframe thead th {\n",
       "        text-align: right;\n",
       "    }\n",
       "</style>\n",
       "<table border=\"1\" class=\"dataframe\">\n",
       "  <thead>\n",
       "    <tr style=\"text-align: right;\">\n",
       "      <th></th>\n",
       "      <th>medistream_predict</th>\n",
       "      <th>ndcg</th>\n",
       "      <th>cnt</th>\n",
       "    </tr>\n",
       "  </thead>\n",
       "  <tbody>\n",
       "    <tr>\n",
       "      <th>0</th>\n",
       "      <td>medi_popular</td>\n",
       "      <td>0.233596</td>\n",
       "      <td>2</td>\n",
       "    </tr>\n",
       "    <tr>\n",
       "      <th>1</th>\n",
       "      <td>latest</td>\n",
       "      <td>0.000000</td>\n",
       "      <td>0</td>\n",
       "    </tr>\n",
       "    <tr>\n",
       "      <th>2</th>\n",
       "      <td>oldest</td>\n",
       "      <td>0.236762</td>\n",
       "      <td>2</td>\n",
       "    </tr>\n",
       "    <tr>\n",
       "      <th>3</th>\n",
       "      <td>higt_price</td>\n",
       "      <td>0.119539</td>\n",
       "      <td>1</td>\n",
       "    </tr>\n",
       "    <tr>\n",
       "      <th>4</th>\n",
       "      <td>low_price</td>\n",
       "      <td>0.141869</td>\n",
       "      <td>1</td>\n",
       "    </tr>\n",
       "    <tr>\n",
       "      <th>5</th>\n",
       "      <td>name_sort</td>\n",
       "      <td>0.204119</td>\n",
       "      <td>2</td>\n",
       "    </tr>\n",
       "  </tbody>\n",
       "</table>\n",
       "</div>"
      ],
      "text/plain": [
       "  medistream_predict      ndcg  cnt\n",
       "0       medi_popular  0.233596    2\n",
       "1             latest  0.000000    0\n",
       "2             oldest  0.236762    2\n",
       "3         higt_price  0.119539    1\n",
       "4          low_price  0.141869    1\n",
       "5          name_sort  0.204119    2"
      ]
     },
     "execution_count": 59,
     "metadata": {},
     "output_type": "execute_result"
    }
   ],
   "source": [
    "medistream_predict_score = {'medistream_predict':['medi_popular','latest','oldest','higt_price','low_price','name_sort'], \\\n",
    "                            'ndcg':[], 'cnt':[]}\n",
    "\n",
    "medistream_predict_list = [medistream_predict_popular_list, medistream_predict_latest_list, medistream_predict_oldest_list,\\\n",
    "                          medistream_predict_high_price_list, medistream_predict_low_price_list, medistream_predict_name_sort_list]\n",
    "\n",
    "for medistream_predict in medistream_predict_list:\n",
    "    ndcg, cnt = medistream_prediction(ground_trues, medistream_predict)\n",
    "    medistream_predict_score['ndcg'].append(ndcg)\n",
    "    medistream_predict_score['cnt'].append(cnt)\n",
    "pd.DataFrame(medistream_predict_score)    "
   ]
  },
  {
   "cell_type": "markdown",
   "id": "a8681a8c",
   "metadata": {},
   "source": [
    "# 7. hyper parameter tuning"
   ]
  },
  {
   "cell_type": "markdown",
   "id": "a67775ea",
   "metadata": {},
   "source": [
    "## 7-1. ALS MF hypter parameter tuning"
   ]
  },
  {
   "cell_type": "code",
   "execution_count": 60,
   "id": "8f63d65a",
   "metadata": {},
   "outputs": [],
   "source": [
    "als_mf_hyper_parameter = {'factor':[],'regularization':[],'iteration':[],'NDCG':[]}\n",
    "\n",
    "factors = [5,10,15,20]\n",
    "regularizations = [0.01,0.005]\n",
    "iterations = [5,10,15,20,25,30,40,50]\n",
    "\n",
    "for factor in factors:\n",
    "    for regularization in regularizations:\n",
    "        for iteration in iterations:\n",
    "            als_model = ALS(factors=factor, regularization=regularization, iterations = iteration, random_state=42)\n",
    "            als_model.fit(purchase_sparse, show_progress=False)\n",
    "            \n",
    "            # 신규 유저인 경우 mp로 넣기\n",
    "            # 전체 도서에 대한 판매 만큼 정렬 후 넣기\n",
    "            most_popular_list = most_popular.sort_values(by='customer_id',ascending=False).index\n",
    "\n",
    "            # test 예측값, 이미 구매 했을 경우 제외\n",
    "            als_predict_list = []\n",
    "            for user_id in test['customer_id'].unique():\n",
    "                try:\n",
    "                    result = als_model.recommend(userIdToIndex[user_id], purchase_sparse[userIdToIndex[user_id]], N=100)\n",
    "                    als_predict_list.append({'id':user_id ,'items':[indexToPdId[num] for num in result[0]]})\n",
    "                except:\n",
    "                    train_purchase_list = list(train[train['customer_id']==user_id].product_ids)\n",
    "                    als_predict_list.append({'id':user_id ,'items':[most_popular.product_ids.loc[num] for num in most_popular_list \\\n",
    "                                                                        if most_popular.product_ids.loc[num] not in train_purchase_list \\\n",
    "                                                                        ]})\n",
    "\n",
    "            # 100 개만 예측하기\n",
    "            for idx, pred_list in enumerate(als_predict_list):\n",
    "                als_predict_list[idx]['items'] = pred_list['items'][:100]\n",
    "                \n",
    "            # ALS \n",
    "            evaluator = CustomEvaluator()\n",
    "            ndcg = evaluator._eval(ground_trues, als_predict_list)\n",
    "            \n",
    "            als_mf_hyper_parameter['factor'].append(factor)\n",
    "            als_mf_hyper_parameter['regularization'].append(regularization)\n",
    "            als_mf_hyper_parameter['iteration'].append(iteration)\n",
    "            als_mf_hyper_parameter['NDCG'].append(ndcg)"
   ]
  },
  {
   "cell_type": "code",
   "execution_count": 61,
   "id": "123852a8",
   "metadata": {},
   "outputs": [
    {
     "data": {
      "text/html": [
       "<div>\n",
       "<style scoped>\n",
       "    .dataframe tbody tr th:only-of-type {\n",
       "        vertical-align: middle;\n",
       "    }\n",
       "\n",
       "    .dataframe tbody tr th {\n",
       "        vertical-align: top;\n",
       "    }\n",
       "\n",
       "    .dataframe thead th {\n",
       "        text-align: right;\n",
       "    }\n",
       "</style>\n",
       "<table border=\"1\" class=\"dataframe\">\n",
       "  <thead>\n",
       "    <tr style=\"text-align: right;\">\n",
       "      <th></th>\n",
       "      <th>factor</th>\n",
       "      <th>regularization</th>\n",
       "      <th>iteration</th>\n",
       "      <th>NDCG</th>\n",
       "    </tr>\n",
       "  </thead>\n",
       "  <tbody>\n",
       "    <tr>\n",
       "      <th>17</th>\n",
       "      <td>10</td>\n",
       "      <td>0.010</td>\n",
       "      <td>10</td>\n",
       "      <td>0.243310</td>\n",
       "    </tr>\n",
       "    <tr>\n",
       "      <th>25</th>\n",
       "      <td>10</td>\n",
       "      <td>0.005</td>\n",
       "      <td>10</td>\n",
       "      <td>0.243310</td>\n",
       "    </tr>\n",
       "    <tr>\n",
       "      <th>18</th>\n",
       "      <td>10</td>\n",
       "      <td>0.010</td>\n",
       "      <td>15</td>\n",
       "      <td>0.240673</td>\n",
       "    </tr>\n",
       "    <tr>\n",
       "      <th>20</th>\n",
       "      <td>10</td>\n",
       "      <td>0.010</td>\n",
       "      <td>25</td>\n",
       "      <td>0.240318</td>\n",
       "    </tr>\n",
       "    <tr>\n",
       "      <th>26</th>\n",
       "      <td>10</td>\n",
       "      <td>0.005</td>\n",
       "      <td>15</td>\n",
       "      <td>0.240318</td>\n",
       "    </tr>\n",
       "  </tbody>\n",
       "</table>\n",
       "</div>"
      ],
      "text/plain": [
       "    factor  regularization  iteration      NDCG\n",
       "17      10           0.010         10  0.243310\n",
       "25      10           0.005         10  0.243310\n",
       "18      10           0.010         15  0.240673\n",
       "20      10           0.010         25  0.240318\n",
       "26      10           0.005         15  0.240318"
      ]
     },
     "execution_count": 61,
     "metadata": {},
     "output_type": "execute_result"
    }
   ],
   "source": [
    "pd.DataFrame(als_mf_hyper_parameter).sort_values(by='NDCG',ascending=False).head()"
   ]
  },
  {
   "cell_type": "markdown",
   "id": "d17c5f24",
   "metadata": {},
   "source": [
    "## 7-2. LMF hypter parameter tuning"
   ]
  },
  {
   "cell_type": "code",
   "execution_count": 62,
   "id": "6f3f8134",
   "metadata": {},
   "outputs": [],
   "source": [
    "lmf_hyper_parameter = {'factor':[],'regularization':[],'iteration':[],'NDCG':[]}\n",
    "\n",
    "factors = [5,10,15,20]\n",
    "regularizations = [0.01,0.005]\n",
    "iterations = [5,10,15,20,25,30,40,50]\n",
    "\n",
    "for factor in factors:\n",
    "    for regularization in regularizations:\n",
    "        for iteration in iterations:\n",
    "            lmf_model = LMF(factors=factor, regularization=regularization, iterations = iteration, random_state=42)\n",
    "            lmf_model.fit(purchase_sparse, show_progress=False)\n",
    "            \n",
    "            # 신규 유저 mp로 넣기\n",
    "            most_popular_list = most_popular.sort_values(by='customer_id',ascending=False).index\n",
    "\n",
    "            # test 예측값\n",
    "            lmf_predict_list = []\n",
    "            for user_id in test['customer_id'].unique():\n",
    "                try:\n",
    "                    result = lmf_model.recommend(userIdToIndex[user_id], purchase_sparse[userIdToIndex[user_id]], N=100)\n",
    "                    lmf_predict_list.append({'id':user_id ,'items':[indexToPdId[num] for num in result[0]]})\n",
    "                except:\n",
    "                    train_purchase_list = list(train[train['customer_id']==user_id].product_ids)\n",
    "                    lmf_predict_list.append({'id':user_id ,'items':[most_popular.product_ids.loc[num] for num in most_popular_list \\\n",
    "                                                                        if most_popular.product_ids.loc[num] not in train_purchase_list \\\n",
    "                                                                        ]})\n",
    "\n",
    "            # 100 개만 예측하기\n",
    "            for idx, pred_list in enumerate(lmf_predict_list):\n",
    "                lmf_predict_list[idx]['items'] = pred_list['items'][:100]\n",
    "                \n",
    "            # LMF\n",
    "            evaluator = CustomEvaluator()\n",
    "            ndcg = evaluator._eval(ground_trues, lmf_predict_list)\n",
    "            \n",
    "            lmf_hyper_parameter['factor'].append(factor)\n",
    "            lmf_hyper_parameter['regularization'].append(regularization)\n",
    "            lmf_hyper_parameter['iteration'].append(iteration)\n",
    "            lmf_hyper_parameter['NDCG'].append(ndcg)"
   ]
  },
  {
   "cell_type": "code",
   "execution_count": 63,
   "id": "d200968a",
   "metadata": {},
   "outputs": [
    {
     "data": {
      "text/html": [
       "<div>\n",
       "<style scoped>\n",
       "    .dataframe tbody tr th:only-of-type {\n",
       "        vertical-align: middle;\n",
       "    }\n",
       "\n",
       "    .dataframe tbody tr th {\n",
       "        vertical-align: top;\n",
       "    }\n",
       "\n",
       "    .dataframe thead th {\n",
       "        text-align: right;\n",
       "    }\n",
       "</style>\n",
       "<table border=\"1\" class=\"dataframe\">\n",
       "  <thead>\n",
       "    <tr style=\"text-align: right;\">\n",
       "      <th></th>\n",
       "      <th>factor</th>\n",
       "      <th>regularization</th>\n",
       "      <th>iteration</th>\n",
       "      <th>NDCG</th>\n",
       "    </tr>\n",
       "  </thead>\n",
       "  <tbody>\n",
       "    <tr>\n",
       "      <th>1</th>\n",
       "      <td>5</td>\n",
       "      <td>0.010</td>\n",
       "      <td>10</td>\n",
       "      <td>0.482517</td>\n",
       "    </tr>\n",
       "    <tr>\n",
       "      <th>9</th>\n",
       "      <td>5</td>\n",
       "      <td>0.005</td>\n",
       "      <td>10</td>\n",
       "      <td>0.481537</td>\n",
       "    </tr>\n",
       "    <tr>\n",
       "      <th>4</th>\n",
       "      <td>5</td>\n",
       "      <td>0.010</td>\n",
       "      <td>25</td>\n",
       "      <td>0.401022</td>\n",
       "    </tr>\n",
       "    <tr>\n",
       "      <th>12</th>\n",
       "      <td>5</td>\n",
       "      <td>0.005</td>\n",
       "      <td>25</td>\n",
       "      <td>0.400791</td>\n",
       "    </tr>\n",
       "    <tr>\n",
       "      <th>15</th>\n",
       "      <td>5</td>\n",
       "      <td>0.005</td>\n",
       "      <td>50</td>\n",
       "      <td>0.335942</td>\n",
       "    </tr>\n",
       "  </tbody>\n",
       "</table>\n",
       "</div>"
      ],
      "text/plain": [
       "    factor  regularization  iteration      NDCG\n",
       "1        5           0.010         10  0.482517\n",
       "9        5           0.005         10  0.481537\n",
       "4        5           0.010         25  0.401022\n",
       "12       5           0.005         25  0.400791\n",
       "15       5           0.005         50  0.335942"
      ]
     },
     "execution_count": 63,
     "metadata": {},
     "output_type": "execute_result"
    }
   ],
   "source": [
    "pd.DataFrame(lmf_hyper_parameter).sort_values(by='NDCG',ascending=False).head()"
   ]
  },
  {
   "cell_type": "markdown",
   "id": "6f716977",
   "metadata": {},
   "source": [
    "# 8. 결론"
   ]
  },
  {
   "cell_type": "markdown",
   "id": "eb332430",
   "metadata": {},
   "source": [
    "- als mf : 0.200100 (factor: 10, regularization: 0.005, iteration: 15)\n",
    "- lmf : 0.206777    (factor: 15, regularization: 0.005, iteration: 25)\n",
    "- mp : 0.184859     \n",
    "\n",
    "- test 신규 아이템을 포함하여 예측을 진행했다고 하더라도 나쁘지 않은 점수가 나옴"
   ]
  },
  {
   "cell_type": "markdown",
   "id": "4f4f841d",
   "metadata": {},
   "source": [
    "# 9. 추천된 items 확인"
   ]
  },
  {
   "cell_type": "code",
   "execution_count": 64,
   "id": "2378d08b",
   "metadata": {},
   "outputs": [
    {
     "name": "stderr",
     "output_type": "stream",
     "text": [
      "100%|██████████| 5141/5141 [00:00<00:00, 330927.68it/s]\n"
     ]
    }
   ],
   "source": [
    "products_df = pd.read_json(\"/fastcampus-data/products/products.json\")\n",
    "products_df = key_to_element(['_id'],products_df)"
   ]
  },
  {
   "cell_type": "code",
   "execution_count": 65,
   "id": "7444667b",
   "metadata": {},
   "outputs": [],
   "source": [
    "# pred_item, rea_item 비교\n",
    "def pred_real_dataframe(user_num):\n",
    "    pred_items_names = []\n",
    "    predict_dict = als_predict_list[user_num]['items']\n",
    "    for item in predict_dict:\n",
    "        pred_items_names.append(products_df[products_df['_id'] == item].meta_title.unique())\n",
    "\n",
    "    real_items_names = []\n",
    "    trues_dict = ground_trues[user_num]['items']\n",
    "    for item in trues_dict:\n",
    "        real_items_names.append(products_df[products_df['_id'] == item].meta_title.unique())\n",
    "    return pd.DataFrame({'pred_item':pred_items_names,'real_item':real_items_names})\n",
    "    "
   ]
  },
  {
   "cell_type": "code",
   "execution_count": 66,
   "id": "7e10cf48",
   "metadata": {},
   "outputs": [],
   "source": [
    "# train_item, pred_item, real_item 비교\n",
    "def train_pred_items(user_nums):\n",
    "    train_pred_items_df = pd.DataFrame(columns=['train_item','pred_item'])\n",
    "    for user_num in range(1,user_nums):\n",
    "        train_item_names = []\n",
    "        for idx in grouped_purchased[grouped_purchased['customer_id']==ground_trues[user_num]['id']].product_ids:\n",
    "            train_item_names.append(products_df[products_df['_id'] == idx].meta_title.unique()[0])\n",
    "\n",
    "        pred_items_names = []\n",
    "        predict_dict = als_predict_list[user_num]['items']\n",
    "        for item in predict_dict:\n",
    "            pred_items_names.append(products_df[products_df['_id'] == item].meta_title.unique())\n",
    "\n",
    "\n",
    "        \n",
    "        train_pred_items_df.loc[user_num,'train_item'] = train_item_names\n",
    "        train_pred_items_df.loc[user_num,'pred_item'] = pred_items_names\n",
    "    return train_pred_items_df\n"
   ]
  },
  {
   "cell_type": "code",
   "execution_count": 67,
   "id": "b14de4a2",
   "metadata": {},
   "outputs": [],
   "source": [
    "# 예측 유저 구매 횟수 확인\n",
    "# pd.DataFrame(purchase_sparse[1].todense()).T.value_counts()"
   ]
  },
  {
   "cell_type": "code",
   "execution_count": 68,
   "id": "2188b8bf",
   "metadata": {
    "scrolled": false
   },
   "outputs": [
    {
     "name": "stdout",
     "output_type": "stream",
     "text": [
      "첫날 : 2022-08-13 01:53:10.519000+00:00 마지막 날: 2022-09-09 10:23:16+00:00\n",
      "train 총 기간: 27 days 08:30:05.481000\n",
      "______________________________________________________\n",
      "첫날 : 2022-09-10 22:38:23.774000+00:00 마지막 날: 2022-09-10 22:39:59.946000+00:00\n",
      "test 총 기간: 0 days 00:01:36.172000\n",
      "______________________________________________________\n",
      "train 데이터수: 1191\n",
      "______________________________________________________\n",
      "train 유저수: 858\n",
      "______________________________________________________\n",
      "test 데이터수: 2\n",
      "______________________________________________________\n",
      "test 유저수: 1\n",
      "______________________________________________________\n",
      "test 신규 유저 수: 0\n",
      "______________________________________________________\n",
      "test 신규 아이템 수: 0\n",
      "______________________________________________________\n",
      "원본 test 수: 2\n",
      "______________________________________________________\n",
      "전처리 진행했을 경우 test 수: 2\n",
      "______________________________________________________\n",
      "mf\n"
     ]
    },
    {
     "data": {
      "text/html": [
       "<div>\n",
       "<style scoped>\n",
       "    .dataframe tbody tr th:only-of-type {\n",
       "        vertical-align: middle;\n",
       "    }\n",
       "\n",
       "    .dataframe tbody tr th {\n",
       "        vertical-align: top;\n",
       "    }\n",
       "\n",
       "    .dataframe thead th {\n",
       "        text-align: right;\n",
       "    }\n",
       "</style>\n",
       "<table border=\"1\" class=\"dataframe\">\n",
       "  <thead>\n",
       "    <tr style=\"text-align: right;\">\n",
       "      <th></th>\n",
       "      <th>factor</th>\n",
       "      <th>regularization</th>\n",
       "      <th>iteration</th>\n",
       "      <th>NDCG</th>\n",
       "    </tr>\n",
       "  </thead>\n",
       "  <tbody>\n",
       "    <tr>\n",
       "      <th>17</th>\n",
       "      <td>10</td>\n",
       "      <td>0.010</td>\n",
       "      <td>10</td>\n",
       "      <td>0.24331</td>\n",
       "    </tr>\n",
       "    <tr>\n",
       "      <th>25</th>\n",
       "      <td>10</td>\n",
       "      <td>0.005</td>\n",
       "      <td>10</td>\n",
       "      <td>0.24331</td>\n",
       "    </tr>\n",
       "  </tbody>\n",
       "</table>\n",
       "</div>"
      ],
      "text/plain": [
       "    factor  regularization  iteration     NDCG\n",
       "17      10           0.010         10  0.24331\n",
       "25      10           0.005         10  0.24331"
      ]
     },
     "metadata": {},
     "output_type": "display_data"
    },
    {
     "name": "stdout",
     "output_type": "stream",
     "text": [
      "______________________________________________________\n",
      "lmf\n"
     ]
    },
    {
     "data": {
      "text/html": [
       "<div>\n",
       "<style scoped>\n",
       "    .dataframe tbody tr th:only-of-type {\n",
       "        vertical-align: middle;\n",
       "    }\n",
       "\n",
       "    .dataframe tbody tr th {\n",
       "        vertical-align: top;\n",
       "    }\n",
       "\n",
       "    .dataframe thead th {\n",
       "        text-align: right;\n",
       "    }\n",
       "</style>\n",
       "<table border=\"1\" class=\"dataframe\">\n",
       "  <thead>\n",
       "    <tr style=\"text-align: right;\">\n",
       "      <th></th>\n",
       "      <th>factor</th>\n",
       "      <th>regularization</th>\n",
       "      <th>iteration</th>\n",
       "      <th>NDCG</th>\n",
       "    </tr>\n",
       "  </thead>\n",
       "  <tbody>\n",
       "    <tr>\n",
       "      <th>1</th>\n",
       "      <td>5</td>\n",
       "      <td>0.010</td>\n",
       "      <td>10</td>\n",
       "      <td>0.482517</td>\n",
       "    </tr>\n",
       "    <tr>\n",
       "      <th>9</th>\n",
       "      <td>5</td>\n",
       "      <td>0.005</td>\n",
       "      <td>10</td>\n",
       "      <td>0.481537</td>\n",
       "    </tr>\n",
       "  </tbody>\n",
       "</table>\n",
       "</div>"
      ],
      "text/plain": [
       "   factor  regularization  iteration      NDCG\n",
       "1       5           0.010         10  0.482517\n",
       "9       5           0.005         10  0.481537"
      ]
     },
     "metadata": {},
     "output_type": "display_data"
    },
    {
     "name": "stdout",
     "output_type": "stream",
     "text": [
      "______________________________________________________\n",
      "mp\n",
      "nDCG: 0.224323\n",
      "______________________________________________________\n"
     ]
    },
    {
     "data": {
      "text/html": [
       "<div>\n",
       "<style scoped>\n",
       "    .dataframe tbody tr th:only-of-type {\n",
       "        vertical-align: middle;\n",
       "    }\n",
       "\n",
       "    .dataframe tbody tr th {\n",
       "        vertical-align: top;\n",
       "    }\n",
       "\n",
       "    .dataframe thead th {\n",
       "        text-align: right;\n",
       "    }\n",
       "</style>\n",
       "<table border=\"1\" class=\"dataframe\">\n",
       "  <thead>\n",
       "    <tr style=\"text-align: right;\">\n",
       "      <th></th>\n",
       "      <th>medistream_predict</th>\n",
       "      <th>ndcg</th>\n",
       "      <th>cnt</th>\n",
       "    </tr>\n",
       "  </thead>\n",
       "  <tbody>\n",
       "    <tr>\n",
       "      <th>0</th>\n",
       "      <td>medi_popular</td>\n",
       "      <td>0.233596</td>\n",
       "      <td>2</td>\n",
       "    </tr>\n",
       "    <tr>\n",
       "      <th>1</th>\n",
       "      <td>latest</td>\n",
       "      <td>0.000000</td>\n",
       "      <td>0</td>\n",
       "    </tr>\n",
       "    <tr>\n",
       "      <th>2</th>\n",
       "      <td>oldest</td>\n",
       "      <td>0.236762</td>\n",
       "      <td>2</td>\n",
       "    </tr>\n",
       "    <tr>\n",
       "      <th>3</th>\n",
       "      <td>higt_price</td>\n",
       "      <td>0.119539</td>\n",
       "      <td>1</td>\n",
       "    </tr>\n",
       "    <tr>\n",
       "      <th>4</th>\n",
       "      <td>low_price</td>\n",
       "      <td>0.141869</td>\n",
       "      <td>1</td>\n",
       "    </tr>\n",
       "    <tr>\n",
       "      <th>5</th>\n",
       "      <td>name_sort</td>\n",
       "      <td>0.204119</td>\n",
       "      <td>2</td>\n",
       "    </tr>\n",
       "  </tbody>\n",
       "</table>\n",
       "</div>"
      ],
      "text/plain": [
       "  medistream_predict      ndcg  cnt\n",
       "0       medi_popular  0.233596    2\n",
       "1             latest  0.000000    0\n",
       "2             oldest  0.236762    2\n",
       "3         higt_price  0.119539    1\n",
       "4          low_price  0.141869    1\n",
       "5          name_sort  0.204119    2"
      ]
     },
     "metadata": {},
     "output_type": "display_data"
    }
   ],
   "source": [
    "print('첫날 :',train['date_paid'].min(),'마지막 날:',train['date_paid'].max())\n",
    "print('train 총 기간:',train['date_paid'].max()-train['date_paid'].min())\n",
    "print('______________________________________________________')\n",
    "print('첫날 :',test['date_paid'].min(),'마지막 날:',test['date_paid'].max())\n",
    "print('test 총 기간:',test['date_paid'].max()-test['date_paid'].min())\n",
    "print('______________________________________________________')\n",
    "print('train 데이터수:', len(train))\n",
    "print('______________________________________________________')\n",
    "print('train 유저수:',len(set(train.customer_id)))\n",
    "print('______________________________________________________')\n",
    "print('test 데이터수:',len(test))\n",
    "print('______________________________________________________')\n",
    "print('test 유저수:',len(set(test.customer_id)))\n",
    "print('______________________________________________________')\n",
    "print('test 신규 유저 수:',len(set(test['customer_id'].unique())- set(train['customer_id'].unique())))\n",
    "print('______________________________________________________')\n",
    "print('test 신규 아이템 수:',len(set(test_before_preprocess.product_ids.unique())-set(train_before_preprocess.product_ids.unique())))\n",
    "# test 전처리 진행했을 경우\n",
    "print('______________________________________________________')\n",
    "print('원본 test 수:', len(test))\n",
    "print('______________________________________________________')\n",
    "print('전처리 진행했을 경우 test 수:', len(if_prepro_test))\n",
    "print('______________________________________________________')\n",
    "print('mf')\n",
    "display(pd.DataFrame(als_mf_hyper_parameter).sort_values(by='NDCG',ascending=False).head(2))\n",
    "print('______________________________________________________')\n",
    "print('lmf')\n",
    "display(pd.DataFrame(lmf_hyper_parameter).sort_values(by='NDCG',ascending=False).head(2))\n",
    "print('______________________________________________________')\n",
    "print('mp')\n",
    "evaluator.evaluate(ground_trues, predict_popular_list)\n",
    "print('______________________________________________________')\n",
    "display(pd.DataFrame(medistream_predict_score))"
   ]
  }
 ],
 "metadata": {
  "kernelspec": {
   "display_name": "Python 3",
   "language": "python",
   "name": "python3"
  },
  "language_info": {
   "codemirror_mode": {
    "name": "ipython",
    "version": 3
   },
   "file_extension": ".py",
   "mimetype": "text/x-python",
   "name": "python",
   "nbconvert_exporter": "python",
   "pygments_lexer": "ipython3",
   "version": "3.8.8"
  }
 },
 "nbformat": 4,
 "nbformat_minor": 5
}
