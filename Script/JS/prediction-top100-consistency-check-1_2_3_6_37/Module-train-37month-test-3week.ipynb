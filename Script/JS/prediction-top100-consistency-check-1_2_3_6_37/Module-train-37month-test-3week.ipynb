{
 "cells": [
  {
   "cell_type": "markdown",
   "id": "144c71b0",
   "metadata": {},
   "source": [
    "https://assaeunji.github.io/machine%20learning/2020-11-29-implicitfeedback/"
   ]
  },
  {
   "cell_type": "markdown",
   "id": "1758f1b3",
   "metadata": {},
   "source": [
    "# test 3주 정합성 검증\n",
    "- "
   ]
  },
  {
   "cell_type": "markdown",
   "id": "97dbe592",
   "metadata": {},
   "source": [
    "# 추천 모델\n",
    "- ALS MF, LMF, MP (총 3개)\n",
    "- 총 3개의 추천을 진행하며 MF와 LMF 의 경우 콜드스타트 유저(신규 유저)인 경우 MP로 추천 진행"
   ]
  },
  {
   "cell_type": "code",
   "execution_count": 14,
   "id": "053cf1d2",
   "metadata": {},
   "outputs": [
    {
     "name": "stdout",
     "output_type": "stream",
     "text": [
      "/home/user_3/medistream-recsys/Script\n"
     ]
    }
   ],
   "source": [
    "import pandas as pd\n",
    "import numpy as np\n",
    "import matplotlib.pyplot as plt\n",
    "import seaborn as sns\n",
    "from tqdm import tqdm\n",
    "\n",
    "import scipy.sparse as sparse\n",
    "import random\n",
    "import implicit\n",
    "from implicit.als import AlternatingLeastSquares as ALS\n",
    "\n",
    "%cd /home/user_3/medistream-recsys/Script\n",
    "from preprocessing import drop_columns,dict_to_column,dict_to_set,set_to_column,key_to_element\n",
    "\n",
    "pd.set_option('display.max_rows', 300)\n",
    "pd.set_option('display.max_columns', 100)\n",
    "\n",
    "from dateutil.relativedelta import relativedelta\n",
    "from datetime import datetime, timedelta\n",
    "import scipy.sparse as sp\n",
    "from implicit.lmf import LogisticMatrixFactorization as LMF"
   ]
  },
  {
   "cell_type": "markdown",
   "id": "c5943a3d",
   "metadata": {},
   "source": [
    "# 1.Dataload"
   ]
  },
  {
   "cell_type": "code",
   "execution_count": 15,
   "id": "1bfc0ddc",
   "metadata": {},
   "outputs": [
    {
     "name": "stderr",
     "output_type": "stream",
     "text": [
      "100%|██████████| 5141/5141 [00:00<00:00, 748348.61it/s]\n"
     ]
    }
   ],
   "source": [
    "# products name 확인 용\n",
    "products_df = pd.read_json(\"/fastcampus-data/products/products.json\")\n",
    "products_df = key_to_element(['_id'],products_df)"
   ]
  },
  {
   "cell_type": "code",
   "execution_count": 16,
   "id": "392f7771",
   "metadata": {},
   "outputs": [],
   "source": [
    "df = pd.read_json('/fastcampus-data/select_column_version_4.json')"
   ]
  },
  {
   "cell_type": "code",
   "execution_count": 17,
   "id": "5a9b3f4b",
   "metadata": {},
   "outputs": [],
   "source": [
    "df['date_paid'] = pd.to_datetime(df['date_paid'])"
   ]
  },
  {
   "cell_type": "code",
   "execution_count": 18,
   "id": "7e42cf73",
   "metadata": {},
   "outputs": [
    {
     "data": {
      "text/plain": [
       "Timestamp('2022-09-13 08:59:21.151000+0000', tz='UTC')"
      ]
     },
     "execution_count": 18,
     "metadata": {},
     "output_type": "execute_result"
    }
   ],
   "source": [
    "df['date_paid'].max()"
   ]
  },
  {
   "cell_type": "code",
   "execution_count": 19,
   "id": "912c29ad",
   "metadata": {},
   "outputs": [],
   "source": [
    "split_day_list =  []\n",
    "test_day_list = []\n",
    "\n",
    "# 1일 test 날짜 확인\n",
    "last_date_state = '2022-09-13'\n",
    "split_day = pd.to_datetime(last_date_state)-relativedelta(months=37)\n",
    "test_day = pd.to_datetime(last_date_state)\n",
    "'''\n",
    "마지막 날짜에서 개월 수를 자름 -> split_day\n",
    "months 만 바꾸면 21번 분량이 나옴\n",
    "'''\n",
    "\n",
    "for i in range(0,21):\n",
    "    sp_day = str((split_day-timedelta(days=i)).to_pydatetime().date())\n",
    "    tt_day  = str((test_day-timedelta(days=i)).to_pydatetime().date())\n",
    "    split_day_list.append(sp_day)\n",
    "    test_day_list.append(tt_day)"
   ]
  },
  {
   "cell_type": "code",
   "execution_count": 20,
   "id": "c51fdb8d",
   "metadata": {},
   "outputs": [],
   "source": [
    "class CustomEvaluator:\n",
    "    # relavence 모두 1로 동일하게 봄\n",
    "    def _idcg(self, l):\n",
    "        return sum((1.0 / np.log(i + 2) for i in range(l)))\n",
    "    \n",
    "\n",
    "    def __init__(self):\n",
    "        self._idcgs = [self._idcg(i) for i in range(1000)]\n",
    "    '''\n",
    "    idcgs 예시, item 3개 추천되므로 3.074281787960283 가 됩니다.\n",
    "    [0, 1.4426950408889634, 2.352934267515801, 3.074281787960283]\n",
    "    '''\n",
    "\n",
    "    def _ndcg(self, gt, rec):\n",
    "        dcg = 0.0\n",
    "        for i, r in enumerate(rec):\n",
    "            if r in gt:\n",
    "                dcg += 1.0 / np.log(i + 2)\n",
    "\n",
    "        return dcg / self._idcgs[len(gt)]\n",
    "    \n",
    "    def _entropy_diversity(self,rec_list):\n",
    "        import six\n",
    "        import math\n",
    "        \n",
    "        topn = len(rec_list[0]['items'])\n",
    "        users = [i.get('id',None) for i in rec_list]\n",
    "        sz = float(len(users)) * topn\n",
    "        freq = {}\n",
    "        for rec in rec_list:\n",
    "            for r in rec['items']:\n",
    "                freq[r] = freq.get(r, 0) + 1\n",
    "        ent = -sum([v / sz * math.log(v / sz) for v in six.itervalues(freq)])\n",
    "        return ent\n",
    "\n",
    "    def _eval(self, gt_list, rec_list):\n",
    "        gt_dict = {g[\"id\"]: g for g in gt_list}\n",
    "        ndcg_score = 0.0\n",
    "\n",
    "        for rec in rec_list:\n",
    "            gt = gt_dict[rec[\"id\"]]\n",
    "            ndcg_score += self._ndcg(gt[\"items\"], rec[\"items\"])\n",
    "\n",
    "\n",
    "        ndcg_score = ndcg_score / len(rec_list)\n",
    "        ent = self._entropy_diversity(rec_list)\n",
    "        \n",
    "        return ndcg_score, ent\n",
    "\n",
    "    def evaluate(self, gt_list, rec_list):\n",
    "        try:\n",
    "            ndcg_score, ent_score = self._eval(gt_list, rec_list)\n",
    "            print(f\"NDCG: {ndcg_score:.6}\")\n",
    "            print(f\"Entropy Diversity: {ent_score:.6} \")\n",
    "        except Exception as e:\n",
    "            print(e)\n"
   ]
  },
  {
   "cell_type": "code",
   "execution_count": 21,
   "id": "53019274",
   "metadata": {},
   "outputs": [],
   "source": [
    "def module(df:pd.DataFrame(), split_date, test_date)->pd.DataFrame():\n",
    "    \n",
    "    # paid orders만 가져오기\n",
    "    df['date_paid'] = pd.to_datetime(df['date_paid'])\n",
    "    df_only_paid = df[~df['date_paid'].isna()]\n",
    "    # 3개월치 데이터만 가져오기\n",
    "    df_date = df_only_paid[df_only_paid['date_paid'] >= split_date]\n",
    "    # 취소 안된 것만 가져오기\n",
    "    complete_df = df_date[(df_date['paid'] == True) & (df_date['cancelled']==False)]\n",
    "    # 도서 카테고리만 가져오기\n",
    "    only_book = complete_df[complete_df['name'] == '도서']\n",
    "\n",
    "    # 유저가 중복으로 아이템 구매 삭제\n",
    "    df_duplicated_book = only_book.drop_duplicates(subset=['customer_id','product_ids'])\n",
    "    df_book = df_duplicated_book.sort_values(by='date_paid').reset_index(drop=True)\n",
    "    \n",
    "    train = df_book[df_book['date_paid'] < test_date]\n",
    "    test = df_book[df_book['date_paid'].dt.date == pd.to_datetime(test_date)]\n",
    "    \n",
    "    \n",
    "    # test 만 있는 item 제거\n",
    "    only_test_items = set(test.product_ids.unique())-set(train.product_ids.unique())\n",
    "    if_prepro_test = test[~test['product_ids'].isin(only_test_items)]\n",
    "    \n",
    "    \n",
    "    PdIds = train.product_ids.unique()\n",
    "\n",
    "    PdIdToIndex = {}\n",
    "    indexToPdId = {}\n",
    "\n",
    "    colIdx = 0\n",
    "\n",
    "    for PdId in PdIds:\n",
    "        PdIdToIndex[PdId] = colIdx\n",
    "        indexToPdId[colIdx] = PdId\n",
    "        colIdx += 1\n",
    "\n",
    "    userIds = train.customer_id.unique()\n",
    "\n",
    "    userIdToIndex = {}\n",
    "    indexToUserId = {}\n",
    "\n",
    "    rowIdx = 0\n",
    "\n",
    "    for userId in userIds:\n",
    "        userIdToIndex[userId] = rowIdx\n",
    "        indexToUserId[rowIdx] = userId\n",
    "        rowIdx += 1\n",
    "    rows = []\n",
    "    cols = []\n",
    "    vals = []\n",
    "\n",
    "    for row in train.itertuples():\n",
    "        rows.append(userIdToIndex[row.customer_id])\n",
    "        cols.append(PdIdToIndex[row.product_ids])\n",
    "        vals.append(1)\n",
    "\n",
    "    purchase_sparse = sp.csr_matrix((vals, (rows, cols)), shape=(rowIdx,colIdx))\n",
    "\n",
    "    matrix = purchase_sparse.todense()\n",
    "\n",
    "    medistream_prediction_df = train[['date_created','regular_price','sale_price','three_months','product_ids','name_x']]\n",
    "    medistream_prediction_preprop_df = medistream_prediction_df.drop_duplicates(subset=['product_ids'], ignore_index=True)\n",
    "    medistream_prediction_preprop_df['date_created'] = pd.to_datetime(medistream_prediction_preprop_df['date_created'])    \n",
    "    \n",
    "    als_model = ALS(factors=20,regularization=0.01, iterations = 50, random_state=42)\n",
    "    alsmodel = als_model.fit(purchase_sparse)\n",
    "    lmf_model = LMF(factors=20, regularization=0.001, iterations = 20, random_state=42)\n",
    "    lmfmodel = lmf_model.fit(purchase_sparse)\n",
    "    \n",
    "    most_popular = train.groupby(['product_ids','name_x']).count()['customer_id'].reset_index()\n",
    "    most_popular_list = most_popular.sort_values(by='customer_id',ascending=False).index\n",
    "    \n",
    "\n",
    "        # test 예측값, 이미 구매 했을 경우 제외\n",
    "    als_predict_list = []\n",
    "    for user_id in test['customer_id'].unique():\n",
    "        try:\n",
    "            result = als_model.recommend(userIdToIndex[user_id], purchase_sparse[userIdToIndex[user_id]], N=100)\n",
    "            als_predict_list.append({'id':user_id ,'items':[indexToPdId[num] for num in result[0]]})\n",
    "        except:\n",
    "            train_purchase_list = list(train[train['customer_id']==user_id].product_ids)\n",
    "            als_predict_list.append({'id':user_id ,'items':[most_popular.product_ids.loc[num] for num in most_popular_list \\\n",
    "                                                                if most_popular.product_ids.loc[num] not in train_purchase_list \\\n",
    "                                                                ]})\n",
    "\n",
    "        # 100 개만 예측하기\n",
    "    for idx, pred_list in enumerate(als_predict_list):\n",
    "        als_predict_list[idx]['items'] = pred_list['items'][:100]\n",
    "\n",
    "    \n",
    "\n",
    "        # test 예측값\n",
    "    lmf_predict_list = []\n",
    "    for user_id in test['customer_id'].unique():\n",
    "        try:\n",
    "            result = lmf_model.recommend(userIdToIndex[user_id], purchase_sparse[userIdToIndex[user_id]], N=100)\n",
    "            lmf_predict_list.append({'id':user_id ,'items':[indexToPdId[num] for num in result[0]]})\n",
    "        except:\n",
    "            train_purchase_list = list(train[train['customer_id']==user_id].product_ids)\n",
    "            lmf_predict_list.append({'id':user_id ,'items':[most_popular.product_ids.loc[num] for num in most_popular_list \\\n",
    "                                                                if most_popular.product_ids.loc[num] not in train_purchase_list \\\n",
    "                                                                ]})\n",
    "\n",
    "        # 100 개만 예측하기\n",
    "    for idx, pred_list in enumerate(lmf_predict_list):\n",
    "        lmf_predict_list[idx]['items'] = pred_list['items'][:100]\n",
    "\n",
    "    \n",
    "\n",
    "        # test 예측값, 이미 구매 했을 경우 제외\n",
    "    predict_popular_list = []\n",
    "    for user_id in test['customer_id'].unique():\n",
    "        train_purchase_list = list(train[train['customer_id']==user_id].product_ids)\n",
    "        predict_popular_list.append({'id':user_id ,'items':[most_popular.product_ids.loc[num] for num in most_popular_list \\\n",
    "                                                                if most_popular.product_ids.loc[num] not in train_purchase_list \\\n",
    "                                                                ]})\n",
    "\n",
    "        # 100 개만 예측하기\n",
    "    for idx, pred_list in enumerate(predict_popular_list):\n",
    "        predict_popular_list[idx]['items'] = pred_list['items'][:100]\n",
    "        \n",
    "    # real test \n",
    "    ground_trues = []\n",
    "    for user_id in test['customer_id'].unique():\n",
    "        ground_trues.append({'id': user_id,\\\n",
    "        'items':list(test[test['customer_id']==user_id].product_ids)\n",
    "        })\n",
    "    # ALS \n",
    "    evaluator = CustomEvaluator()\n",
    "    als = evaluator._eval(ground_trues, als_predict_list)\n",
    "    \n",
    "    # LMF \n",
    "    evaluator = CustomEvaluator()\n",
    "    lmf = evaluator._eval(ground_trues, lmf_predict_list)\n",
    "    # MP\n",
    "    evaluator = CustomEvaluator()\n",
    "    mp = evaluator._eval(ground_trues, predict_popular_list)\n",
    "    \n",
    "    # 인기도순\n",
    "    medistream_popular_list = medistream_prediction_preprop_df.sort_values(by='three_months', ascending=False).index\n",
    "    # 최신순\n",
    "    medistream_latest_list = medistream_prediction_preprop_df.sort_values(by='date_created', ascending=False).index\n",
    "    # 오랜된 순\n",
    "    medistream_oldest_list = medistream_prediction_preprop_df.sort_values(by='date_created', ascending=True).index\n",
    "    # 높은 가격 순\n",
    "    medistream_high_price_list = medistream_prediction_preprop_df.sort_values(by='sale_price', ascending=False).index\n",
    "    # 낮은 가격 순\n",
    "    medistream_low_price_list = medistream_prediction_preprop_df.sort_values(by='sale_price', ascending=True).index\n",
    "    # 이름 순\n",
    "    medistream_name_sort_list = medistream_prediction_preprop_df.sort_values(by='name_x',ascending=True).index\n",
    "\n",
    "    def medistream_prediction_method(predict_num:int ,medi_predict_list:list)->list:\n",
    "        medistream_predict_list = []\n",
    "        for user_id in test['customer_id'].unique():\n",
    "            medistream_predict_list.append({'id':user_id ,'items':[medistream_prediction_preprop_df.product_ids.loc[num] \\\n",
    "                                                                           for num in medi_predict_list]})\n",
    "\n",
    "        # 100 개만 예측하기\n",
    "        for idx, pred_list in enumerate(medistream_predict_list):\n",
    "            medistream_predict_list[idx]['items'] = pred_list['items'][:predict_num]\n",
    "\n",
    "        return medistream_predict_list\n",
    "    \n",
    "    medistream_predict_popular_list = medistream_prediction_method(100, medistream_popular_list)\n",
    "    medistream_predict_latest_list = medistream_prediction_method(100, medistream_latest_list)\n",
    "    medistream_predict_oldest_list = medistream_prediction_method(100, medistream_oldest_list)\n",
    "    medistream_predict_high_price_list = medistream_prediction_method(100, medistream_high_price_list)\n",
    "    medistream_predict_low_price_list = medistream_prediction_method(100, medistream_low_price_list)\n",
    "    medistream_predict_name_sort_list = medistream_prediction_method(100, medistream_name_sort_list)\n",
    "    \n",
    "    def medistream_prediction(ground_trues:list, predict_list:list):\n",
    "        evaluator = CustomEvaluator()\n",
    "        ndcg, entropy = evaluator._eval(ground_trues, predict_list)\n",
    "\n",
    "        assert len(predict_list) == len(ground_trues)\n",
    "\n",
    "        cnt = 0\n",
    "        for gt, pred_list in zip(ground_trues, predict_list):\n",
    "            for pred in pred_list['items']:\n",
    "                if pred in gt['items']:\n",
    "                    cnt += 1\n",
    "        return ndcg, entropy, cnt\n",
    "    \n",
    "    medistream_predict_score = {'medistream_predict':['medi_popular','latest','oldest','high_price','low_price','name_sort'], \\\n",
    "                                'ndcg':[], 'entropy':[], 'cnt':[]}\n",
    "\n",
    "    medistream_predict_list = [medistream_predict_popular_list, medistream_predict_latest_list, medistream_predict_oldest_list,\\\n",
    "                              medistream_predict_high_price_list, medistream_predict_low_price_list, medistream_predict_name_sort_list]\n",
    "\n",
    "    for medistream_predict in medistream_predict_list:\n",
    "        ndcg, entropy, cnt = medistream_prediction(ground_trues, medistream_predict)\n",
    "        medistream_predict_score['ndcg'].append(ndcg)\n",
    "        medistream_predict_score['entropy'].append(entropy)\n",
    "        medistream_predict_score['cnt'].append(cnt)\n",
    "\n",
    "        \n",
    "######## hyper parameter\n",
    "    als_mf_hyper_parameter = {'factor':[],'regularization':[],'iteration':[],'NDCG':[],'entropy':[]}\n",
    "\n",
    "    factors = [5,10,15,20]\n",
    "    regularizations = [0.01,0.005]\n",
    "    iterations = [5,10,15,20,25,30,40,50]\n",
    "\n",
    "    for factor in factors:\n",
    "        for regularization in regularizations:\n",
    "            for iteration in iterations:\n",
    "                als_model = ALS(factors=factor, regularization=regularization, iterations = iteration, random_state=42)\n",
    "                als_model.fit(purchase_sparse, show_progress=False)\n",
    "\n",
    "                # 신규 유저인 경우 mp로 넣기\n",
    "                # 전체 도서에 대한 판매 만큼 정렬 후 넣기\n",
    "                most_popular_list = most_popular.sort_values(by='customer_id',ascending=False).index\n",
    "\n",
    "                # test 예측값, 이미 구매 했을 경우 제외\n",
    "                als_predict_list = []\n",
    "                for user_id in test['customer_id'].unique():\n",
    "                    try:\n",
    "                        result = als_model.recommend(userIdToIndex[user_id], purchase_sparse[userIdToIndex[user_id]], N=100)\n",
    "                        als_predict_list.append({'id':user_id ,'items':[indexToPdId[num] for num in result[0]]})\n",
    "                    except:\n",
    "                        train_purchase_list = list(train[train['customer_id']==user_id].product_ids)\n",
    "                        als_predict_list.append({'id':user_id ,'items':[most_popular.product_ids.loc[num] for num in most_popular_list \\\n",
    "                                                                            if most_popular.product_ids.loc[num] not in train_purchase_list \\\n",
    "                                                                            ]})\n",
    "\n",
    "                # 100 개만 예측하기\n",
    "                for idx, pred_list in enumerate(als_predict_list):\n",
    "                    als_predict_list[idx]['items'] = pred_list['items'][:100]\n",
    "\n",
    "                # ALS \n",
    "                evaluator = CustomEvaluator()\n",
    "                ndcg, entropy = evaluator._eval(ground_trues, als_predict_list)\n",
    "\n",
    "                als_mf_hyper_parameter['factor'].append(factor)\n",
    "                als_mf_hyper_parameter['regularization'].append(regularization)\n",
    "                als_mf_hyper_parameter['iteration'].append(iteration)\n",
    "                als_mf_hyper_parameter['NDCG'].append(ndcg)\n",
    "                als_mf_hyper_parameter['entropy'].append(entropy)\n",
    "                \n",
    "                \n",
    "    lmf_hyper_parameter = {'factor':[],'regularization':[],'iteration':[],'NDCG':[],'entropy':[]}\n",
    "\n",
    "    factors = [5,10,15,20]\n",
    "    regularizations = [0.01,0.005]\n",
    "    iterations = [5,10,15,20,25,30,40,50]\n",
    "\n",
    "    for factor in factors:\n",
    "        for regularization in regularizations:\n",
    "            for iteration in iterations:\n",
    "                lmf_model = LMF(factors=factor, regularization=regularization, iterations = iteration, random_state=42)\n",
    "                lmf_model.fit(purchase_sparse, show_progress=False)\n",
    "\n",
    "                # 신규 유저 mp로 넣기\n",
    "                most_popular_list = most_popular.sort_values(by='customer_id',ascending=False).index\n",
    "\n",
    "                # test 예측값\n",
    "                lmf_predict_list = []\n",
    "                for user_id in test['customer_id'].unique():\n",
    "                    try:\n",
    "                        result = lmf_model.recommend(userIdToIndex[user_id], purchase_sparse[userIdToIndex[user_id]], N=100)\n",
    "                        lmf_predict_list.append({'id':user_id ,'items':[indexToPdId[num] for num in result[0]]})\n",
    "                    except:\n",
    "                        train_purchase_list = list(train[train['customer_id']==user_id].product_ids)\n",
    "                        lmf_predict_list.append({'id':user_id ,'items':[most_popular.product_ids.loc[num] for num in most_popular_list \\\n",
    "                                                                            if most_popular.product_ids.loc[num] not in train_purchase_list \\\n",
    "                                                                            ]})\n",
    "\n",
    "                # 100 개만 예측하기\n",
    "                for idx, pred_list in enumerate(lmf_predict_list):\n",
    "                    lmf_predict_list[idx]['items'] = pred_list['items'][:100]\n",
    "\n",
    "                # LMF\n",
    "                evaluator = CustomEvaluator()\n",
    "                ndcg, entropy = evaluator._eval(ground_trues, lmf_predict_list)\n",
    "\n",
    "                lmf_hyper_parameter['factor'].append(factor)\n",
    "                lmf_hyper_parameter['regularization'].append(regularization)\n",
    "                lmf_hyper_parameter['iteration'].append(iteration)\n",
    "                lmf_hyper_parameter['NDCG'].append(ndcg)\n",
    "                lmf_hyper_parameter['entropy'].append(entropy)\n",
    "                \n",
    "#     return als_mf_hyper_parameter, lmf_hyper_parameter, medistream_predict_score\n",
    "\n",
    "    all_prediction_df = {'first_day':[],'last_day':[],'train_데이터수':[],'train_유저수':[],'test_데이터수':[],\\\n",
    "        'test_유저수':[],'test_신규유저수':[],'test_신규아이템수':[],'원본_test수':[],'전처리진행test수':[],\\\n",
    "        'als_mf':[],'lmf':[],'mp':[],'medi_popular':[],'latest':[],\\\n",
    "        'oldest':[],'high_price':[],'low_price':[],'name_sort':[],\\\n",
    "         'als_mf_entropy':[],'lmf_entropy':[],'mp_entropy':[],'medi_popular_entropy':[],'latest_entropy':[],\\\n",
    "         'oldest_entropy':[],'high_price_entropy':[],'low_price_entropy':[],'name_sort_entropy':[]}\n",
    "    medistream_predict_df = pd.DataFrame(medistream_predict_score)\n",
    "\n",
    "    all_prediction_df['first_day'].append(str(datetime.date(train['date_paid'].min()))+' '+str(datetime.date(train['date_paid'].max())))\n",
    "    all_prediction_df['last_day'].append(str(datetime.date(test['date_paid'].min()))+' '+str(datetime.date(test['date_paid'].max())))\n",
    "    all_prediction_df['train_데이터수'].append(len(train))\n",
    "    all_prediction_df['train_유저수'].append(len(set(train.customer_id)))\n",
    "    all_prediction_df['test_데이터수'].append(len(test))\n",
    "    all_prediction_df['test_유저수'].append(len(set(test.customer_id)))\n",
    "    all_prediction_df['test_신규유저수'].append(len(set(test['customer_id'].unique())- set(train['customer_id'].unique())))\n",
    "    all_prediction_df['test_신규아이템수'].append(len(set(test.product_ids.unique())-set(train.product_ids.unique())))\n",
    "    all_prediction_df['원본_test수'].append(len(test))\n",
    "    all_prediction_df['전처리진행test수'].append(len(if_prepro_test))\n",
    "\n",
    "    # ndcg\n",
    "    all_prediction_df['als_mf'].append(pd.DataFrame(als_mf_hyper_parameter).sort_values(by='NDCG',ascending=False)['NDCG'].iloc[0])\n",
    "    all_prediction_df['lmf'].append(pd.DataFrame(lmf_hyper_parameter).sort_values(by='NDCG',ascending=False)['NDCG'].iloc[0])\n",
    "    all_prediction_df['mp'].append(evaluator._eval(ground_trues, predict_popular_list)[0])\n",
    "    all_prediction_df['medi_popular'].append(medistream_predict_df[medistream_predict_df['medistream_predict']=='medi_popular'].iloc[0]['ndcg'])\n",
    "    all_prediction_df['latest'].append(medistream_predict_df[medistream_predict_df['medistream_predict']=='latest'].iloc[0]['ndcg'])\n",
    "    all_prediction_df['oldest'].append(medistream_predict_df[medistream_predict_df['medistream_predict']=='oldest'].iloc[0]['ndcg'])\n",
    "    all_prediction_df['high_price'].append(medistream_predict_df[medistream_predict_df['medistream_predict']=='high_price'].iloc[0]['ndcg'])\n",
    "    all_prediction_df['low_price'].append(medistream_predict_df[medistream_predict_df['medistream_predict']=='low_price'].iloc[0]['ndcg'])\n",
    "    all_prediction_df['name_sort'].append(medistream_predict_df[medistream_predict_df['medistream_predict']=='name_sort'].iloc[0]['ndcg'])\n",
    "\n",
    "#     entropy\n",
    "    all_prediction_df['als_mf_entropy'].append(pd.DataFrame(als_mf_hyper_parameter).sort_values(by='entropy',ascending=False)['entropy'].iloc[0])\n",
    "    all_prediction_df['lmf_entropy'].append(pd.DataFrame(lmf_hyper_parameter).sort_values(by='entropy',ascending=False)['entropy'].iloc[0])\n",
    "    all_prediction_df['mp_entropy'].append(evaluator._eval(ground_trues, predict_popular_list)[1])\n",
    "    all_prediction_df['medi_popular_entropy'].append(medistream_predict_df[medistream_predict_df['medistream_predict']=='medi_popular'].iloc[0]['entropy'])\n",
    "    all_prediction_df['latest_entropy'].append(medistream_predict_df[medistream_predict_df['medistream_predict']=='latest'].iloc[0]['entropy'])\n",
    "    all_prediction_df['oldest_entropy'].append(medistream_predict_df[medistream_predict_df['medistream_predict']=='oldest'].iloc[0]['entropy'])\n",
    "    all_prediction_df['high_price_entropy'].append(medistream_predict_df[medistream_predict_df['medistream_predict']=='high_price'].iloc[0]['entropy'])\n",
    "    all_prediction_df['low_price_entropy'].append(medistream_predict_df[medistream_predict_df['medistream_predict']=='low_price'].iloc[0]['entropy'])\n",
    "    all_prediction_df['name_sort_entropy'].append(medistream_predict_df[medistream_predict_df['medistream_predict']=='name_sort'].iloc[0]['entropy'])\n",
    "\n",
    "    print('train 총 기간:',train['date_paid'].max()-train['date_paid'].min())\n",
    "    print('test 총 기간:',test['date_paid'].max()-test['date_paid'].min())\n",
    "    \n",
    "    return pd.DataFrame(all_prediction_df)"
   ]
  },
  {
   "cell_type": "code",
   "execution_count": 22,
   "id": "02d7e20c",
   "metadata": {
    "scrolled": false
   },
   "outputs": [
    {
     "name": "stderr",
     "output_type": "stream",
     "text": [
      "0it [00:00, ?it/s]<ipython-input-21-b3ae7dbb3584>:64: SettingWithCopyWarning: \n",
      "A value is trying to be set on a copy of a slice from a DataFrame.\n",
      "Try using .loc[row_indexer,col_indexer] = value instead\n",
      "\n",
      "See the caveats in the documentation: https://pandas.pydata.org/pandas-docs/stable/user_guide/indexing.html#returning-a-view-versus-a-copy\n",
      "  medistream_prediction_preprop_df['date_created'] = pd.to_datetime(medistream_prediction_preprop_df['date_created'])\n"
     ]
    },
    {
     "data": {
      "application/vnd.jupyter.widget-view+json": {
       "model_id": "6cdf809a02e04278b04c6f2f5f95f1c9",
       "version_major": 2,
       "version_minor": 0
      },
      "text/plain": [
       "  0%|          | 0/50 [00:00<?, ?it/s]"
      ]
     },
     "metadata": {},
     "output_type": "display_data"
    },
    {
     "data": {
      "application/vnd.jupyter.widget-view+json": {
       "model_id": "b9fe33f2a3da46edb445ffabbf103a82",
       "version_major": 2,
       "version_minor": 0
      },
      "text/plain": [
       "  0%|          | 0/20 [00:00<?, ?it/s]"
      ]
     },
     "metadata": {},
     "output_type": "display_data"
    },
    {
     "name": "stderr",
     "output_type": "stream",
     "text": [
      "\r",
      "1it [04:54, 294.88s/it]"
     ]
    },
    {
     "name": "stdout",
     "output_type": "stream",
     "text": [
      "train 총 기간: 1085 days 23:08:32.448000\n",
      "test 총 기간: 0 days 08:44:11.628000\n"
     ]
    },
    {
     "name": "stderr",
     "output_type": "stream",
     "text": [
      "<ipython-input-21-b3ae7dbb3584>:64: SettingWithCopyWarning: \n",
      "A value is trying to be set on a copy of a slice from a DataFrame.\n",
      "Try using .loc[row_indexer,col_indexer] = value instead\n",
      "\n",
      "See the caveats in the documentation: https://pandas.pydata.org/pandas-docs/stable/user_guide/indexing.html#returning-a-view-versus-a-copy\n",
      "  medistream_prediction_preprop_df['date_created'] = pd.to_datetime(medistream_prediction_preprop_df['date_created'])\n"
     ]
    },
    {
     "data": {
      "application/vnd.jupyter.widget-view+json": {
       "model_id": "b749adcaac154d18b90ed755ee195077",
       "version_major": 2,
       "version_minor": 0
      },
      "text/plain": [
       "  0%|          | 0/50 [00:00<?, ?it/s]"
      ]
     },
     "metadata": {},
     "output_type": "display_data"
    },
    {
     "data": {
      "application/vnd.jupyter.widget-view+json": {
       "model_id": "539c68ac32aa4d538349e6c99635cb1e",
       "version_major": 2,
       "version_minor": 0
      },
      "text/plain": [
       "  0%|          | 0/20 [00:00<?, ?it/s]"
      ]
     },
     "metadata": {},
     "output_type": "display_data"
    },
    {
     "name": "stderr",
     "output_type": "stream",
     "text": [
      "\r",
      "2it [09:45, 292.65s/it]"
     ]
    },
    {
     "name": "stdout",
     "output_type": "stream",
     "text": [
      "train 총 기간: 1084 days 19:51:42.651000\n",
      "test 총 기간: 0 days 23:18:07.974000\n"
     ]
    },
    {
     "name": "stderr",
     "output_type": "stream",
     "text": [
      "<ipython-input-21-b3ae7dbb3584>:64: SettingWithCopyWarning: \n",
      "A value is trying to be set on a copy of a slice from a DataFrame.\n",
      "Try using .loc[row_indexer,col_indexer] = value instead\n",
      "\n",
      "See the caveats in the documentation: https://pandas.pydata.org/pandas-docs/stable/user_guide/indexing.html#returning-a-view-versus-a-copy\n",
      "  medistream_prediction_preprop_df['date_created'] = pd.to_datetime(medistream_prediction_preprop_df['date_created'])\n"
     ]
    },
    {
     "data": {
      "application/vnd.jupyter.widget-view+json": {
       "model_id": "e10fc3e7223f4ae2a214c446b9ffea18",
       "version_major": 2,
       "version_minor": 0
      },
      "text/plain": [
       "  0%|          | 0/50 [00:00<?, ?it/s]"
      ]
     },
     "metadata": {},
     "output_type": "display_data"
    },
    {
     "data": {
      "application/vnd.jupyter.widget-view+json": {
       "model_id": "6d21e4dedf7042f59463c5bf2024f6d0",
       "version_major": 2,
       "version_minor": 0
      },
      "text/plain": [
       "  0%|          | 0/20 [00:00<?, ?it/s]"
      ]
     },
     "metadata": {},
     "output_type": "display_data"
    },
    {
     "name": "stderr",
     "output_type": "stream",
     "text": [
      "\r",
      "3it [14:37, 292.17s/it]"
     ]
    },
    {
     "name": "stdout",
     "output_type": "stream",
     "text": [
      "train 총 기간: 1083 days 22:14:18.705000\n",
      "test 총 기간: 0 days 07:14:08.106000\n"
     ]
    },
    {
     "name": "stderr",
     "output_type": "stream",
     "text": [
      "<ipython-input-21-b3ae7dbb3584>:64: SettingWithCopyWarning: \n",
      "A value is trying to be set on a copy of a slice from a DataFrame.\n",
      "Try using .loc[row_indexer,col_indexer] = value instead\n",
      "\n",
      "See the caveats in the documentation: https://pandas.pydata.org/pandas-docs/stable/user_guide/indexing.html#returning-a-view-versus-a-copy\n",
      "  medistream_prediction_preprop_df['date_created'] = pd.to_datetime(medistream_prediction_preprop_df['date_created'])\n"
     ]
    },
    {
     "data": {
      "application/vnd.jupyter.widget-view+json": {
       "model_id": "d50346ec58854c60bdb4aed2aed467c9",
       "version_major": 2,
       "version_minor": 0
      },
      "text/plain": [
       "  0%|          | 0/50 [00:00<?, ?it/s]"
      ]
     },
     "metadata": {},
     "output_type": "display_data"
    },
    {
     "data": {
      "application/vnd.jupyter.widget-view+json": {
       "model_id": "8c20d87f178d41c786f2f95675efe4af",
       "version_major": 2,
       "version_minor": 0
      },
      "text/plain": [
       "  0%|          | 0/20 [00:00<?, ?it/s]"
      ]
     },
     "metadata": {},
     "output_type": "display_data"
    },
    {
     "name": "stderr",
     "output_type": "stream",
     "text": [
      "\r",
      "4it [21:36, 342.24s/it]"
     ]
    },
    {
     "name": "stdout",
     "output_type": "stream",
     "text": [
      "train 총 기간: 1082 days 09:57:34.759000\n",
      "test 총 기간: 0 days 00:01:36.172000\n"
     ]
    },
    {
     "name": "stderr",
     "output_type": "stream",
     "text": [
      "<ipython-input-21-b3ae7dbb3584>:64: SettingWithCopyWarning: \n",
      "A value is trying to be set on a copy of a slice from a DataFrame.\n",
      "Try using .loc[row_indexer,col_indexer] = value instead\n",
      "\n",
      "See the caveats in the documentation: https://pandas.pydata.org/pandas-docs/stable/user_guide/indexing.html#returning-a-view-versus-a-copy\n",
      "  medistream_prediction_preprop_df['date_created'] = pd.to_datetime(medistream_prediction_preprop_df['date_created'])\n"
     ]
    },
    {
     "data": {
      "application/vnd.jupyter.widget-view+json": {
       "model_id": "cbf82b12b5dc432195afdb93a3589d90",
       "version_major": 2,
       "version_minor": 0
      },
      "text/plain": [
       "  0%|          | 0/50 [00:00<?, ?it/s]"
      ]
     },
     "metadata": {},
     "output_type": "display_data"
    },
    {
     "data": {
      "application/vnd.jupyter.widget-view+json": {
       "model_id": "7f74f016fe2643c1af3ee12ab4c965f5",
       "version_major": 2,
       "version_minor": 0
      },
      "text/plain": [
       "  0%|          | 0/20 [00:00<?, ?it/s]"
      ]
     },
     "metadata": {},
     "output_type": "display_data"
    },
    {
     "name": "stderr",
     "output_type": "stream",
     "text": [
      "\r",
      "5it [28:33, 369.13s/it]"
     ]
    },
    {
     "name": "stdout",
     "output_type": "stream",
     "text": [
      "train 총 기간: 1081 days 22:10:06.999000\n",
      "test 총 기간: 0 days 08:09:01.373000\n"
     ]
    },
    {
     "name": "stderr",
     "output_type": "stream",
     "text": [
      "<ipython-input-21-b3ae7dbb3584>:64: SettingWithCopyWarning: \n",
      "A value is trying to be set on a copy of a slice from a DataFrame.\n",
      "Try using .loc[row_indexer,col_indexer] = value instead\n",
      "\n",
      "See the caveats in the documentation: https://pandas.pydata.org/pandas-docs/stable/user_guide/indexing.html#returning-a-view-versus-a-copy\n",
      "  medistream_prediction_preprop_df['date_created'] = pd.to_datetime(medistream_prediction_preprop_df['date_created'])\n"
     ]
    },
    {
     "data": {
      "application/vnd.jupyter.widget-view+json": {
       "model_id": "b90109f30e224badab5758089a7abe23",
       "version_major": 2,
       "version_minor": 0
      },
      "text/plain": [
       "  0%|          | 0/50 [00:00<?, ?it/s]"
      ]
     },
     "metadata": {},
     "output_type": "display_data"
    },
    {
     "data": {
      "application/vnd.jupyter.widget-view+json": {
       "model_id": "b71a195b20ab41009c33999b74489df3",
       "version_major": 2,
       "version_minor": 0
      },
      "text/plain": [
       "  0%|          | 0/20 [00:00<?, ?it/s]"
      ]
     },
     "metadata": {},
     "output_type": "display_data"
    },
    {
     "name": "stderr",
     "output_type": "stream",
     "text": [
      "\r",
      "6it [36:18, 401.68s/it]"
     ]
    },
    {
     "name": "stdout",
     "output_type": "stream",
     "text": [
      "train 총 기간: 1080 days 18:12:59.668000\n",
      "test 총 기간: 0 days 22:28:59.805000\n"
     ]
    },
    {
     "name": "stderr",
     "output_type": "stream",
     "text": [
      "<ipython-input-21-b3ae7dbb3584>:64: SettingWithCopyWarning: \n",
      "A value is trying to be set on a copy of a slice from a DataFrame.\n",
      "Try using .loc[row_indexer,col_indexer] = value instead\n",
      "\n",
      "See the caveats in the documentation: https://pandas.pydata.org/pandas-docs/stable/user_guide/indexing.html#returning-a-view-versus-a-copy\n",
      "  medistream_prediction_preprop_df['date_created'] = pd.to_datetime(medistream_prediction_preprop_df['date_created'])\n"
     ]
    },
    {
     "data": {
      "application/vnd.jupyter.widget-view+json": {
       "model_id": "55ecfb9938ba4f3d962db74816cc6339",
       "version_major": 2,
       "version_minor": 0
      },
      "text/plain": [
       "  0%|          | 0/50 [00:00<?, ?it/s]"
      ]
     },
     "metadata": {},
     "output_type": "display_data"
    },
    {
     "data": {
      "application/vnd.jupyter.widget-view+json": {
       "model_id": "6865e29ab4e749ab9b225beb0047f82b",
       "version_major": 2,
       "version_minor": 0
      },
      "text/plain": [
       "  0%|          | 0/20 [00:00<?, ?it/s]"
      ]
     },
     "metadata": {},
     "output_type": "display_data"
    },
    {
     "name": "stderr",
     "output_type": "stream",
     "text": [
      "\r",
      "7it [43:27, 410.80s/it]"
     ]
    },
    {
     "name": "stdout",
     "output_type": "stream",
     "text": [
      "train 총 기간: 1079 days 23:26:16.356000\n",
      "test 총 기간: 0 days 17:54:30.909000\n"
     ]
    },
    {
     "name": "stderr",
     "output_type": "stream",
     "text": [
      "<ipython-input-21-b3ae7dbb3584>:64: SettingWithCopyWarning: \n",
      "A value is trying to be set on a copy of a slice from a DataFrame.\n",
      "Try using .loc[row_indexer,col_indexer] = value instead\n",
      "\n",
      "See the caveats in the documentation: https://pandas.pydata.org/pandas-docs/stable/user_guide/indexing.html#returning-a-view-versus-a-copy\n",
      "  medistream_prediction_preprop_df['date_created'] = pd.to_datetime(medistream_prediction_preprop_df['date_created'])\n"
     ]
    },
    {
     "data": {
      "application/vnd.jupyter.widget-view+json": {
       "model_id": "ab782e76e3044cc787c34f8df0abdbb4",
       "version_major": 2,
       "version_minor": 0
      },
      "text/plain": [
       "  0%|          | 0/50 [00:00<?, ?it/s]"
      ]
     },
     "metadata": {},
     "output_type": "display_data"
    },
    {
     "data": {
      "application/vnd.jupyter.widget-view+json": {
       "model_id": "653504ed40494ae39fdf1c780c781b77",
       "version_major": 2,
       "version_minor": 0
      },
      "text/plain": [
       "  0%|          | 0/20 [00:00<?, ?it/s]"
      ]
     },
     "metadata": {},
     "output_type": "display_data"
    },
    {
     "name": "stderr",
     "output_type": "stream",
     "text": [
      "\r",
      "8it [50:37, 416.88s/it]"
     ]
    },
    {
     "name": "stdout",
     "output_type": "stream",
     "text": [
      "train 총 기간: 1078 days 10:46:02.725000\n",
      "test 총 기간: 0 days 21:52:14.628000\n"
     ]
    },
    {
     "name": "stderr",
     "output_type": "stream",
     "text": [
      "<ipython-input-21-b3ae7dbb3584>:64: SettingWithCopyWarning: \n",
      "A value is trying to be set on a copy of a slice from a DataFrame.\n",
      "Try using .loc[row_indexer,col_indexer] = value instead\n",
      "\n",
      "See the caveats in the documentation: https://pandas.pydata.org/pandas-docs/stable/user_guide/indexing.html#returning-a-view-versus-a-copy\n",
      "  medistream_prediction_preprop_df['date_created'] = pd.to_datetime(medistream_prediction_preprop_df['date_created'])\n"
     ]
    },
    {
     "data": {
      "application/vnd.jupyter.widget-view+json": {
       "model_id": "51ed14b84b484748b5b8d882d7473e49",
       "version_major": 2,
       "version_minor": 0
      },
      "text/plain": [
       "  0%|          | 0/50 [00:00<?, ?it/s]"
      ]
     },
     "metadata": {},
     "output_type": "display_data"
    },
    {
     "data": {
      "application/vnd.jupyter.widget-view+json": {
       "model_id": "a9d608c5d69149efbd83b32f4f00195b",
       "version_major": 2,
       "version_minor": 0
      },
      "text/plain": [
       "  0%|          | 0/20 [00:00<?, ?it/s]"
      ]
     },
     "metadata": {},
     "output_type": "display_data"
    },
    {
     "name": "stderr",
     "output_type": "stream",
     "text": [
      "\r",
      "9it [57:43, 419.72s/it]"
     ]
    },
    {
     "name": "stdout",
     "output_type": "stream",
     "text": [
      "train 총 기간: 1077 days 15:47:51.052000\n",
      "test 총 기간: 0 days 10:50:13.966000\n"
     ]
    },
    {
     "name": "stderr",
     "output_type": "stream",
     "text": [
      "<ipython-input-21-b3ae7dbb3584>:64: SettingWithCopyWarning: \n",
      "A value is trying to be set on a copy of a slice from a DataFrame.\n",
      "Try using .loc[row_indexer,col_indexer] = value instead\n",
      "\n",
      "See the caveats in the documentation: https://pandas.pydata.org/pandas-docs/stable/user_guide/indexing.html#returning-a-view-versus-a-copy\n",
      "  medistream_prediction_preprop_df['date_created'] = pd.to_datetime(medistream_prediction_preprop_df['date_created'])\n"
     ]
    },
    {
     "data": {
      "application/vnd.jupyter.widget-view+json": {
       "model_id": "f9c4a02963aa4982b12410ce31825278",
       "version_major": 2,
       "version_minor": 0
      },
      "text/plain": [
       "  0%|          | 0/50 [00:00<?, ?it/s]"
      ]
     },
     "metadata": {},
     "output_type": "display_data"
    },
    {
     "data": {
      "application/vnd.jupyter.widget-view+json": {
       "model_id": "43356bb7f73c48e7a6fe92454b85646a",
       "version_major": 2,
       "version_minor": 0
      },
      "text/plain": [
       "  0%|          | 0/20 [00:00<?, ?it/s]"
      ]
     },
     "metadata": {},
     "output_type": "display_data"
    },
    {
     "name": "stderr",
     "output_type": "stream",
     "text": [
      "\r",
      "10it [1:04:31, 416.04s/it]"
     ]
    },
    {
     "name": "stdout",
     "output_type": "stream",
     "text": [
      "train 총 기간: 1076 days 14:07:03.759000\n",
      "test 총 기간: 0 days 14:08:27.575000\n"
     ]
    },
    {
     "name": "stderr",
     "output_type": "stream",
     "text": [
      "<ipython-input-21-b3ae7dbb3584>:64: SettingWithCopyWarning: \n",
      "A value is trying to be set on a copy of a slice from a DataFrame.\n",
      "Try using .loc[row_indexer,col_indexer] = value instead\n",
      "\n",
      "See the caveats in the documentation: https://pandas.pydata.org/pandas-docs/stable/user_guide/indexing.html#returning-a-view-versus-a-copy\n",
      "  medistream_prediction_preprop_df['date_created'] = pd.to_datetime(medistream_prediction_preprop_df['date_created'])\n"
     ]
    },
    {
     "data": {
      "application/vnd.jupyter.widget-view+json": {
       "model_id": "04d4f554d9c94910ab190abeb23f2656",
       "version_major": 2,
       "version_minor": 0
      },
      "text/plain": [
       "  0%|          | 0/50 [00:00<?, ?it/s]"
      ]
     },
     "metadata": {},
     "output_type": "display_data"
    },
    {
     "data": {
      "application/vnd.jupyter.widget-view+json": {
       "model_id": "1667bccef2e64afdb48367a3f83419af",
       "version_major": 2,
       "version_minor": 0
      },
      "text/plain": [
       "  0%|          | 0/20 [00:00<?, ?it/s]"
      ]
     },
     "metadata": {},
     "output_type": "display_data"
    },
    {
     "name": "stderr",
     "output_type": "stream",
     "text": [
      "\r",
      "11it [1:11:20, 413.86s/it]"
     ]
    },
    {
     "name": "stdout",
     "output_type": "stream",
     "text": [
      "train 총 기간: 1075 days 14:38:08.721000\n",
      "test 총 기간: 0 days 12:50:59.716000\n"
     ]
    },
    {
     "name": "stderr",
     "output_type": "stream",
     "text": [
      "\r",
      "12it [1:18:17, 414.85s/it]"
     ]
    },
    {
     "name": "stdout",
     "output_type": "stream",
     "text": [
      "train 총 기간: 1074 days 22:02:06.688000\n",
      "test 총 기간: 0 days 14:55:30.724000\n"
     ]
    },
    {
     "name": "stderr",
     "output_type": "stream",
     "text": [
      "<ipython-input-21-b3ae7dbb3584>:64: SettingWithCopyWarning: \n",
      "A value is trying to be set on a copy of a slice from a DataFrame.\n",
      "Try using .loc[row_indexer,col_indexer] = value instead\n",
      "\n",
      "See the caveats in the documentation: https://pandas.pydata.org/pandas-docs/stable/user_guide/indexing.html#returning-a-view-versus-a-copy\n",
      "  medistream_prediction_preprop_df['date_created'] = pd.to_datetime(medistream_prediction_preprop_df['date_created'])\n"
     ]
    },
    {
     "data": {
      "application/vnd.jupyter.widget-view+json": {
       "model_id": "dd58911ef2ee47e7a823e24aa51bb629",
       "version_major": 2,
       "version_minor": 0
      },
      "text/plain": [
       "  0%|          | 0/50 [00:00<?, ?it/s]"
      ]
     },
     "metadata": {},
     "output_type": "display_data"
    },
    {
     "data": {
      "application/vnd.jupyter.widget-view+json": {
       "model_id": "abcfe3a95e454705954714e24b9beae6",
       "version_major": 2,
       "version_minor": 0
      },
      "text/plain": [
       "  0%|          | 0/20 [00:00<?, ?it/s]"
      ]
     },
     "metadata": {},
     "output_type": "display_data"
    },
    {
     "name": "stderr",
     "output_type": "stream",
     "text": [
      "\r",
      "13it [1:26:08, 431.93s/it]"
     ]
    },
    {
     "name": "stdout",
     "output_type": "stream",
     "text": [
      "train 총 기간: 1073 days 17:19:22.522000\n",
      "test 총 기간: 0 days 22:01:47.993000\n"
     ]
    },
    {
     "name": "stderr",
     "output_type": "stream",
     "text": [
      "<ipython-input-21-b3ae7dbb3584>:64: SettingWithCopyWarning: \n",
      "A value is trying to be set on a copy of a slice from a DataFrame.\n",
      "Try using .loc[row_indexer,col_indexer] = value instead\n",
      "\n",
      "See the caveats in the documentation: https://pandas.pydata.org/pandas-docs/stable/user_guide/indexing.html#returning-a-view-versus-a-copy\n",
      "  medistream_prediction_preprop_df['date_created'] = pd.to_datetime(medistream_prediction_preprop_df['date_created'])\n"
     ]
    },
    {
     "data": {
      "application/vnd.jupyter.widget-view+json": {
       "model_id": "badbd2363d66493abfd64b18635f9e46",
       "version_major": 2,
       "version_minor": 0
      },
      "text/plain": [
       "  0%|          | 0/50 [00:00<?, ?it/s]"
      ]
     },
     "metadata": {},
     "output_type": "display_data"
    },
    {
     "data": {
      "application/vnd.jupyter.widget-view+json": {
       "model_id": "5a4c682ba82242888e98ab4f23756c90",
       "version_major": 2,
       "version_minor": 0
      },
      "text/plain": [
       "  0%|          | 0/20 [00:00<?, ?it/s]"
      ]
     },
     "metadata": {},
     "output_type": "display_data"
    },
    {
     "name": "stderr",
     "output_type": "stream",
     "text": [
      "\r",
      "14it [1:33:32, 435.40s/it]"
     ]
    },
    {
     "name": "stdout",
     "output_type": "stream",
     "text": [
      "train 총 기간: 1072 days 23:10:35.759000\n",
      "test 총 기간: 0 days 17:13:15.067000\n"
     ]
    },
    {
     "name": "stderr",
     "output_type": "stream",
     "text": [
      "<ipython-input-21-b3ae7dbb3584>:64: SettingWithCopyWarning: \n",
      "A value is trying to be set on a copy of a slice from a DataFrame.\n",
      "Try using .loc[row_indexer,col_indexer] = value instead\n",
      "\n",
      "See the caveats in the documentation: https://pandas.pydata.org/pandas-docs/stable/user_guide/indexing.html#returning-a-view-versus-a-copy\n",
      "  medistream_prediction_preprop_df['date_created'] = pd.to_datetime(medistream_prediction_preprop_df['date_created'])\n"
     ]
    },
    {
     "data": {
      "application/vnd.jupyter.widget-view+json": {
       "model_id": "9ec3c2f18e60425bb9a23fe809bf4165",
       "version_major": 2,
       "version_minor": 0
      },
      "text/plain": [
       "  0%|          | 0/50 [00:00<?, ?it/s]"
      ]
     },
     "metadata": {},
     "output_type": "display_data"
    },
    {
     "data": {
      "application/vnd.jupyter.widget-view+json": {
       "model_id": "a032df68645844e69a502154a60ea81c",
       "version_major": 2,
       "version_minor": 0
      },
      "text/plain": [
       "  0%|          | 0/20 [00:00<?, ?it/s]"
      ]
     },
     "metadata": {},
     "output_type": "display_data"
    },
    {
     "name": "stderr",
     "output_type": "stream",
     "text": [
      "\r",
      "15it [1:41:40, 451.47s/it]"
     ]
    },
    {
     "name": "stdout",
     "output_type": "stream",
     "text": [
      "train 총 기간: 1071 days 14:48:35.759000\n",
      "test 총 기간: 0 days 23:10:01.979000\n"
     ]
    },
    {
     "name": "stderr",
     "output_type": "stream",
     "text": [
      "<ipython-input-21-b3ae7dbb3584>:64: SettingWithCopyWarning: \n",
      "A value is trying to be set on a copy of a slice from a DataFrame.\n",
      "Try using .loc[row_indexer,col_indexer] = value instead\n",
      "\n",
      "See the caveats in the documentation: https://pandas.pydata.org/pandas-docs/stable/user_guide/indexing.html#returning-a-view-versus-a-copy\n",
      "  medistream_prediction_preprop_df['date_created'] = pd.to_datetime(medistream_prediction_preprop_df['date_created'])\n"
     ]
    },
    {
     "data": {
      "application/vnd.jupyter.widget-view+json": {
       "model_id": "6ba36159668b4153bd954c088d0bb0f5",
       "version_major": 2,
       "version_minor": 0
      },
      "text/plain": [
       "  0%|          | 0/50 [00:00<?, ?it/s]"
      ]
     },
     "metadata": {},
     "output_type": "display_data"
    },
    {
     "data": {
      "application/vnd.jupyter.widget-view+json": {
       "model_id": "d51bbf7ef0c24ed184481faa29004d30",
       "version_major": 2,
       "version_minor": 0
      },
      "text/plain": [
       "  0%|          | 0/20 [00:00<?, ?it/s]"
      ]
     },
     "metadata": {},
     "output_type": "display_data"
    },
    {
     "name": "stderr",
     "output_type": "stream",
     "text": [
      "\r",
      "16it [1:48:33, 439.92s/it]"
     ]
    },
    {
     "name": "stdout",
     "output_type": "stream",
     "text": [
      "train 총 기간: 1070 days 16:04:52.810000\n",
      "test 총 기간: 0 days 14:46:55.481000\n"
     ]
    },
    {
     "name": "stderr",
     "output_type": "stream",
     "text": [
      "<ipython-input-21-b3ae7dbb3584>:64: SettingWithCopyWarning: \n",
      "A value is trying to be set on a copy of a slice from a DataFrame.\n",
      "Try using .loc[row_indexer,col_indexer] = value instead\n",
      "\n",
      "See the caveats in the documentation: https://pandas.pydata.org/pandas-docs/stable/user_guide/indexing.html#returning-a-view-versus-a-copy\n",
      "  medistream_prediction_preprop_df['date_created'] = pd.to_datetime(medistream_prediction_preprop_df['date_created'])\n"
     ]
    },
    {
     "data": {
      "application/vnd.jupyter.widget-view+json": {
       "model_id": "079271e7f79242dd8cca70b1419a2424",
       "version_major": 2,
       "version_minor": 0
      },
      "text/plain": [
       "  0%|          | 0/50 [00:00<?, ?it/s]"
      ]
     },
     "metadata": {},
     "output_type": "display_data"
    },
    {
     "data": {
      "application/vnd.jupyter.widget-view+json": {
       "model_id": "f7078c352a3d4d128b2e34d8647cfdfb",
       "version_major": 2,
       "version_minor": 0
      },
      "text/plain": [
       "  0%|          | 0/20 [00:00<?, ?it/s]"
      ]
     },
     "metadata": {},
     "output_type": "display_data"
    },
    {
     "name": "stderr",
     "output_type": "stream",
     "text": [
      "\r",
      "17it [1:55:13, 427.76s/it]"
     ]
    },
    {
     "name": "stdout",
     "output_type": "stream",
     "text": [
      "train 총 기간: 1069 days 23:33:14.522000\n",
      "test 총 기간: 0 days 15:15:03.304000\n"
     ]
    },
    {
     "name": "stderr",
     "output_type": "stream",
     "text": [
      "<ipython-input-21-b3ae7dbb3584>:64: SettingWithCopyWarning: \n",
      "A value is trying to be set on a copy of a slice from a DataFrame.\n",
      "Try using .loc[row_indexer,col_indexer] = value instead\n",
      "\n",
      "See the caveats in the documentation: https://pandas.pydata.org/pandas-docs/stable/user_guide/indexing.html#returning-a-view-versus-a-copy\n",
      "  medistream_prediction_preprop_df['date_created'] = pd.to_datetime(medistream_prediction_preprop_df['date_created'])\n"
     ]
    },
    {
     "data": {
      "application/vnd.jupyter.widget-view+json": {
       "model_id": "df254fc7644b461aa6ea29970c6c5f15",
       "version_major": 2,
       "version_minor": 0
      },
      "text/plain": [
       "  0%|          | 0/50 [00:00<?, ?it/s]"
      ]
     },
     "metadata": {},
     "output_type": "display_data"
    },
    {
     "data": {
      "application/vnd.jupyter.widget-view+json": {
       "model_id": "16682e8441bd4e88b2ef1385239127af",
       "version_major": 2,
       "version_minor": 0
      },
      "text/plain": [
       "  0%|          | 0/20 [00:00<?, ?it/s]"
      ]
     },
     "metadata": {},
     "output_type": "display_data"
    },
    {
     "name": "stderr",
     "output_type": "stream",
     "text": [
      "\r",
      "18it [2:00:41, 397.73s/it]"
     ]
    },
    {
     "name": "stdout",
     "output_type": "stream",
     "text": [
      "train 총 기간: 1068 days 23:09:52.197000\n",
      "test 총 기간: 0 days 23:44:50.763000\n"
     ]
    },
    {
     "name": "stderr",
     "output_type": "stream",
     "text": [
      "<ipython-input-21-b3ae7dbb3584>:64: SettingWithCopyWarning: \n",
      "A value is trying to be set on a copy of a slice from a DataFrame.\n",
      "Try using .loc[row_indexer,col_indexer] = value instead\n",
      "\n",
      "See the caveats in the documentation: https://pandas.pydata.org/pandas-docs/stable/user_guide/indexing.html#returning-a-view-versus-a-copy\n",
      "  medistream_prediction_preprop_df['date_created'] = pd.to_datetime(medistream_prediction_preprop_df['date_created'])\n"
     ]
    },
    {
     "data": {
      "application/vnd.jupyter.widget-view+json": {
       "model_id": "df9f0c6f3c8940589347774795b46651",
       "version_major": 2,
       "version_minor": 0
      },
      "text/plain": [
       "  0%|          | 0/50 [00:00<?, ?it/s]"
      ]
     },
     "metadata": {},
     "output_type": "display_data"
    },
    {
     "data": {
      "application/vnd.jupyter.widget-view+json": {
       "model_id": "777d4dab7bd84dd9b757c3932ac95e30",
       "version_major": 2,
       "version_minor": 0
      },
      "text/plain": [
       "  0%|          | 0/20 [00:00<?, ?it/s]"
      ]
     },
     "metadata": {},
     "output_type": "display_data"
    },
    {
     "name": "stderr",
     "output_type": "stream",
     "text": [
      "\r",
      "19it [2:05:33, 365.98s/it]"
     ]
    },
    {
     "name": "stdout",
     "output_type": "stream",
     "text": [
      "train 총 기간: 1067 days 23:14:35.568000\n",
      "test 총 기간: 0 days 23:18:49.452000\n"
     ]
    },
    {
     "name": "stderr",
     "output_type": "stream",
     "text": [
      "<ipython-input-21-b3ae7dbb3584>:64: SettingWithCopyWarning: \n",
      "A value is trying to be set on a copy of a slice from a DataFrame.\n",
      "Try using .loc[row_indexer,col_indexer] = value instead\n",
      "\n",
      "See the caveats in the documentation: https://pandas.pydata.org/pandas-docs/stable/user_guide/indexing.html#returning-a-view-versus-a-copy\n",
      "  medistream_prediction_preprop_df['date_created'] = pd.to_datetime(medistream_prediction_preprop_df['date_created'])\n"
     ]
    },
    {
     "data": {
      "application/vnd.jupyter.widget-view+json": {
       "model_id": "f8e307fde6744a5da1ddf1beffdc2d70",
       "version_major": 2,
       "version_minor": 0
      },
      "text/plain": [
       "  0%|          | 0/50 [00:00<?, ?it/s]"
      ]
     },
     "metadata": {},
     "output_type": "display_data"
    },
    {
     "data": {
      "application/vnd.jupyter.widget-view+json": {
       "model_id": "a244fcc6ef0e4674bf6edce85e4037cf",
       "version_major": 2,
       "version_minor": 0
      },
      "text/plain": [
       "  0%|          | 0/20 [00:00<?, ?it/s]"
      ]
     },
     "metadata": {},
     "output_type": "display_data"
    },
    {
     "name": "stderr",
     "output_type": "stream",
     "text": [
      "\r",
      "20it [2:10:28, 344.62s/it]"
     ]
    },
    {
     "name": "stdout",
     "output_type": "stream",
     "text": [
      "train 총 기간: 1066 days 13:34:21.510000\n",
      "test 총 기간: 0 days 23:24:35.809000\n"
     ]
    },
    {
     "name": "stderr",
     "output_type": "stream",
     "text": [
      "<ipython-input-21-b3ae7dbb3584>:64: SettingWithCopyWarning: \n",
      "A value is trying to be set on a copy of a slice from a DataFrame.\n",
      "Try using .loc[row_indexer,col_indexer] = value instead\n",
      "\n",
      "See the caveats in the documentation: https://pandas.pydata.org/pandas-docs/stable/user_guide/indexing.html#returning-a-view-versus-a-copy\n",
      "  medistream_prediction_preprop_df['date_created'] = pd.to_datetime(medistream_prediction_preprop_df['date_created'])\n"
     ]
    },
    {
     "data": {
      "application/vnd.jupyter.widget-view+json": {
       "model_id": "a0a0c937bf74492c8b71e5bfd5301924",
       "version_major": 2,
       "version_minor": 0
      },
      "text/plain": [
       "  0%|          | 0/50 [00:00<?, ?it/s]"
      ]
     },
     "metadata": {},
     "output_type": "display_data"
    },
    {
     "data": {
      "application/vnd.jupyter.widget-view+json": {
       "model_id": "4bad8430ffd24fa59f98d8fcbfec6268",
       "version_major": 2,
       "version_minor": 0
      },
      "text/plain": [
       "  0%|          | 0/20 [00:00<?, ?it/s]"
      ]
     },
     "metadata": {},
     "output_type": "display_data"
    },
    {
     "name": "stderr",
     "output_type": "stream",
     "text": [
      "21it [2:15:20, 386.69s/it]"
     ]
    },
    {
     "name": "stdout",
     "output_type": "stream",
     "text": [
      "train 총 기간: 1065 days 23:26:33.394000\n",
      "test 총 기간: 0 days 13:49:59\n"
     ]
    },
    {
     "name": "stderr",
     "output_type": "stream",
     "text": [
      "\n"
     ]
    },
    {
     "data": {
      "text/html": [
       "<div>\n",
       "<style scoped>\n",
       "    .dataframe tbody tr th:only-of-type {\n",
       "        vertical-align: middle;\n",
       "    }\n",
       "\n",
       "    .dataframe tbody tr th {\n",
       "        vertical-align: top;\n",
       "    }\n",
       "\n",
       "    .dataframe thead th {\n",
       "        text-align: right;\n",
       "    }\n",
       "</style>\n",
       "<table border=\"1\" class=\"dataframe\">\n",
       "  <thead>\n",
       "    <tr style=\"text-align: right;\">\n",
       "      <th></th>\n",
       "      <th>first_day</th>\n",
       "      <th>last_day</th>\n",
       "      <th>train_데이터수</th>\n",
       "      <th>train_유저수</th>\n",
       "      <th>test_데이터수</th>\n",
       "      <th>test_유저수</th>\n",
       "      <th>test_신규유저수</th>\n",
       "      <th>test_신규아이템수</th>\n",
       "      <th>원본_test수</th>\n",
       "      <th>전처리진행test수</th>\n",
       "      <th>als_mf</th>\n",
       "      <th>lmf</th>\n",
       "      <th>mp</th>\n",
       "      <th>medi_popular</th>\n",
       "      <th>latest</th>\n",
       "      <th>oldest</th>\n",
       "      <th>high_price</th>\n",
       "      <th>low_price</th>\n",
       "      <th>name_sort</th>\n",
       "      <th>als_mf_entropy</th>\n",
       "      <th>lmf_entropy</th>\n",
       "      <th>mp_entropy</th>\n",
       "      <th>medi_popular_entropy</th>\n",
       "      <th>latest_entropy</th>\n",
       "      <th>oldest_entropy</th>\n",
       "      <th>high_price_entropy</th>\n",
       "      <th>low_price_entropy</th>\n",
       "      <th>name_sort_entropy</th>\n",
       "    </tr>\n",
       "  </thead>\n",
       "  <tbody>\n",
       "    <tr>\n",
       "      <th>0</th>\n",
       "      <td>2019-09-23 2022-09-12</td>\n",
       "      <td>2022-09-13 2022-09-13</td>\n",
       "      <td>37850</td>\n",
       "      <td>7409</td>\n",
       "      <td>16</td>\n",
       "      <td>13</td>\n",
       "      <td>1</td>\n",
       "      <td>1</td>\n",
       "      <td>16</td>\n",
       "      <td>15</td>\n",
       "      <td>0.257257</td>\n",
       "      <td>0.286001</td>\n",
       "      <td>0.348660</td>\n",
       "      <td>0.212806</td>\n",
       "      <td>0.110887</td>\n",
       "      <td>0.100933</td>\n",
       "      <td>0.037917</td>\n",
       "      <td>0.060388</td>\n",
       "      <td>0.099823</td>\n",
       "      <td>5.389125</td>\n",
       "      <td>5.522476</td>\n",
       "      <td>4.728534</td>\n",
       "      <td>4.60517</td>\n",
       "      <td>4.60517</td>\n",
       "      <td>4.60517</td>\n",
       "      <td>4.60517</td>\n",
       "      <td>4.60517</td>\n",
       "      <td>4.60517</td>\n",
       "    </tr>\n",
       "    <tr>\n",
       "      <th>1</th>\n",
       "      <td>2019-09-23 2022-09-11</td>\n",
       "      <td>2022-09-12 2022-09-12</td>\n",
       "      <td>37835</td>\n",
       "      <td>7406</td>\n",
       "      <td>15</td>\n",
       "      <td>11</td>\n",
       "      <td>3</td>\n",
       "      <td>0</td>\n",
       "      <td>15</td>\n",
       "      <td>15</td>\n",
       "      <td>0.297711</td>\n",
       "      <td>0.245029</td>\n",
       "      <td>0.227500</td>\n",
       "      <td>0.292188</td>\n",
       "      <td>0.065425</td>\n",
       "      <td>0.133306</td>\n",
       "      <td>0.082232</td>\n",
       "      <td>0.019405</td>\n",
       "      <td>0.035447</td>\n",
       "      <td>5.183278</td>\n",
       "      <td>5.411535</td>\n",
       "      <td>4.776034</td>\n",
       "      <td>4.60517</td>\n",
       "      <td>4.60517</td>\n",
       "      <td>4.60517</td>\n",
       "      <td>4.60517</td>\n",
       "      <td>4.60517</td>\n",
       "      <td>4.60517</td>\n",
       "    </tr>\n",
       "    <tr>\n",
       "      <th>2</th>\n",
       "      <td>2019-09-23 2022-09-10</td>\n",
       "      <td>2022-09-11 2022-09-11</td>\n",
       "      <td>37831</td>\n",
       "      <td>7406</td>\n",
       "      <td>4</td>\n",
       "      <td>2</td>\n",
       "      <td>0</td>\n",
       "      <td>0</td>\n",
       "      <td>4</td>\n",
       "      <td>4</td>\n",
       "      <td>0.154827</td>\n",
       "      <td>0.240090</td>\n",
       "      <td>0.425172</td>\n",
       "      <td>0.425172</td>\n",
       "      <td>0.082848</td>\n",
       "      <td>0.000000</td>\n",
       "      <td>0.193426</td>\n",
       "      <td>0.072170</td>\n",
       "      <td>0.058004</td>\n",
       "      <td>5.090373</td>\n",
       "      <td>5.062647</td>\n",
       "      <td>4.612102</td>\n",
       "      <td>4.60517</td>\n",
       "      <td>4.60517</td>\n",
       "      <td>4.60517</td>\n",
       "      <td>4.60517</td>\n",
       "      <td>4.60517</td>\n",
       "      <td>4.60517</td>\n",
       "    </tr>\n",
       "    <tr>\n",
       "      <th>3</th>\n",
       "      <td>2019-09-23 2022-09-09</td>\n",
       "      <td>2022-09-10 2022-09-10</td>\n",
       "      <td>37829</td>\n",
       "      <td>7406</td>\n",
       "      <td>2</td>\n",
       "      <td>1</td>\n",
       "      <td>0</td>\n",
       "      <td>0</td>\n",
       "      <td>2</td>\n",
       "      <td>2</td>\n",
       "      <td>0.403287</td>\n",
       "      <td>1.000000</td>\n",
       "      <td>0.226957</td>\n",
       "      <td>0.229675</td>\n",
       "      <td>0.000000</td>\n",
       "      <td>0.200249</td>\n",
       "      <td>0.095413</td>\n",
       "      <td>0.102977</td>\n",
       "      <td>0.000000</td>\n",
       "      <td>4.605170</td>\n",
       "      <td>4.605170</td>\n",
       "      <td>4.577444</td>\n",
       "      <td>4.60517</td>\n",
       "      <td>4.60517</td>\n",
       "      <td>4.60517</td>\n",
       "      <td>4.60517</td>\n",
       "      <td>4.60517</td>\n",
       "      <td>4.60517</td>\n",
       "    </tr>\n",
       "    <tr>\n",
       "      <th>4</th>\n",
       "      <td>2019-09-23 2022-09-08</td>\n",
       "      <td>2022-09-09 2022-09-09</td>\n",
       "      <td>37823</td>\n",
       "      <td>7406</td>\n",
       "      <td>6</td>\n",
       "      <td>4</td>\n",
       "      <td>0</td>\n",
       "      <td>0</td>\n",
       "      <td>6</td>\n",
       "      <td>6</td>\n",
       "      <td>0.307050</td>\n",
       "      <td>0.264646</td>\n",
       "      <td>0.191046</td>\n",
       "      <td>0.162690</td>\n",
       "      <td>0.025453</td>\n",
       "      <td>0.210808</td>\n",
       "      <td>0.091671</td>\n",
       "      <td>0.023072</td>\n",
       "      <td>0.000000</td>\n",
       "      <td>5.187007</td>\n",
       "      <td>5.359580</td>\n",
       "      <td>4.680191</td>\n",
       "      <td>4.60517</td>\n",
       "      <td>4.60517</td>\n",
       "      <td>4.60517</td>\n",
       "      <td>4.60517</td>\n",
       "      <td>4.60517</td>\n",
       "      <td>4.60517</td>\n",
       "    </tr>\n",
       "    <tr>\n",
       "      <th>5</th>\n",
       "      <td>2019-09-23 2022-09-07</td>\n",
       "      <td>2022-09-08 2022-09-08</td>\n",
       "      <td>37724</td>\n",
       "      <td>7395</td>\n",
       "      <td>99</td>\n",
       "      <td>81</td>\n",
       "      <td>11</td>\n",
       "      <td>0</td>\n",
       "      <td>99</td>\n",
       "      <td>99</td>\n",
       "      <td>0.187531</td>\n",
       "      <td>0.193552</td>\n",
       "      <td>0.232427</td>\n",
       "      <td>0.398146</td>\n",
       "      <td>0.396668</td>\n",
       "      <td>0.036035</td>\n",
       "      <td>0.015691</td>\n",
       "      <td>0.020938</td>\n",
       "      <td>0.020789</td>\n",
       "      <td>5.392370</td>\n",
       "      <td>5.530995</td>\n",
       "      <td>4.724608</td>\n",
       "      <td>4.60517</td>\n",
       "      <td>4.60517</td>\n",
       "      <td>4.60517</td>\n",
       "      <td>4.60517</td>\n",
       "      <td>4.60517</td>\n",
       "      <td>4.60517</td>\n",
       "    </tr>\n",
       "    <tr>\n",
       "      <th>6</th>\n",
       "      <td>2019-09-23 2022-09-06</td>\n",
       "      <td>2022-09-07 2022-09-07</td>\n",
       "      <td>37691</td>\n",
       "      <td>7393</td>\n",
       "      <td>33</td>\n",
       "      <td>22</td>\n",
       "      <td>2</td>\n",
       "      <td>0</td>\n",
       "      <td>33</td>\n",
       "      <td>33</td>\n",
       "      <td>0.244371</td>\n",
       "      <td>0.274589</td>\n",
       "      <td>0.223568</td>\n",
       "      <td>0.299082</td>\n",
       "      <td>0.142594</td>\n",
       "      <td>0.102501</td>\n",
       "      <td>0.014464</td>\n",
       "      <td>0.070644</td>\n",
       "      <td>0.033362</td>\n",
       "      <td>5.387111</td>\n",
       "      <td>5.501660</td>\n",
       "      <td>4.718836</td>\n",
       "      <td>4.60517</td>\n",
       "      <td>4.60517</td>\n",
       "      <td>4.60517</td>\n",
       "      <td>4.60517</td>\n",
       "      <td>4.60517</td>\n",
       "      <td>4.60517</td>\n",
       "    </tr>\n",
       "    <tr>\n",
       "      <th>7</th>\n",
       "      <td>2019-09-23 2022-09-05</td>\n",
       "      <td>2022-09-06 2022-09-06</td>\n",
       "      <td>37633</td>\n",
       "      <td>7390</td>\n",
       "      <td>58</td>\n",
       "      <td>50</td>\n",
       "      <td>3</td>\n",
       "      <td>0</td>\n",
       "      <td>58</td>\n",
       "      <td>58</td>\n",
       "      <td>0.113358</td>\n",
       "      <td>0.104374</td>\n",
       "      <td>0.076439</td>\n",
       "      <td>0.291598</td>\n",
       "      <td>0.079309</td>\n",
       "      <td>0.126021</td>\n",
       "      <td>0.001778</td>\n",
       "      <td>0.009945</td>\n",
       "      <td>0.000000</td>\n",
       "      <td>5.393536</td>\n",
       "      <td>5.562302</td>\n",
       "      <td>4.818455</td>\n",
       "      <td>4.60517</td>\n",
       "      <td>4.60517</td>\n",
       "      <td>4.60517</td>\n",
       "      <td>4.60517</td>\n",
       "      <td>4.60517</td>\n",
       "      <td>4.60517</td>\n",
       "    </tr>\n",
       "    <tr>\n",
       "      <th>8</th>\n",
       "      <td>2019-09-23 2022-09-04</td>\n",
       "      <td>2022-09-05 2022-09-05</td>\n",
       "      <td>37609</td>\n",
       "      <td>7384</td>\n",
       "      <td>24</td>\n",
       "      <td>18</td>\n",
       "      <td>6</td>\n",
       "      <td>0</td>\n",
       "      <td>24</td>\n",
       "      <td>24</td>\n",
       "      <td>0.275464</td>\n",
       "      <td>0.318540</td>\n",
       "      <td>0.311774</td>\n",
       "      <td>0.329348</td>\n",
       "      <td>0.195413</td>\n",
       "      <td>0.069962</td>\n",
       "      <td>0.030477</td>\n",
       "      <td>0.045998</td>\n",
       "      <td>0.042236</td>\n",
       "      <td>5.256010</td>\n",
       "      <td>5.415130</td>\n",
       "      <td>4.712613</td>\n",
       "      <td>4.60517</td>\n",
       "      <td>4.60517</td>\n",
       "      <td>4.60517</td>\n",
       "      <td>4.60517</td>\n",
       "      <td>4.60517</td>\n",
       "      <td>4.60517</td>\n",
       "    </tr>\n",
       "    <tr>\n",
       "      <th>9</th>\n",
       "      <td>2019-09-23 2022-09-03</td>\n",
       "      <td>2022-09-04 2022-09-04</td>\n",
       "      <td>37589</td>\n",
       "      <td>7383</td>\n",
       "      <td>20</td>\n",
       "      <td>15</td>\n",
       "      <td>1</td>\n",
       "      <td>0</td>\n",
       "      <td>20</td>\n",
       "      <td>20</td>\n",
       "      <td>0.362326</td>\n",
       "      <td>0.229839</td>\n",
       "      <td>0.329322</td>\n",
       "      <td>0.267457</td>\n",
       "      <td>0.120659</td>\n",
       "      <td>0.163072</td>\n",
       "      <td>0.115002</td>\n",
       "      <td>0.011046</td>\n",
       "      <td>0.085243</td>\n",
       "      <td>5.386794</td>\n",
       "      <td>5.455410</td>\n",
       "      <td>4.719519</td>\n",
       "      <td>4.60517</td>\n",
       "      <td>4.60517</td>\n",
       "      <td>4.60517</td>\n",
       "      <td>4.60517</td>\n",
       "      <td>4.60517</td>\n",
       "      <td>4.60517</td>\n",
       "    </tr>\n",
       "    <tr>\n",
       "      <th>10</th>\n",
       "      <td>2019-09-23 2022-09-02</td>\n",
       "      <td>2022-09-03 2022-09-03</td>\n",
       "      <td>37577</td>\n",
       "      <td>7382</td>\n",
       "      <td>12</td>\n",
       "      <td>11</td>\n",
       "      <td>1</td>\n",
       "      <td>0</td>\n",
       "      <td>12</td>\n",
       "      <td>12</td>\n",
       "      <td>0.400649</td>\n",
       "      <td>0.301680</td>\n",
       "      <td>0.379036</td>\n",
       "      <td>0.424917</td>\n",
       "      <td>0.185356</td>\n",
       "      <td>0.054106</td>\n",
       "      <td>0.033335</td>\n",
       "      <td>0.063187</td>\n",
       "      <td>0.057357</td>\n",
       "      <td>5.396502</td>\n",
       "      <td>5.430337</td>\n",
       "      <td>4.703096</td>\n",
       "      <td>4.60517</td>\n",
       "      <td>4.60517</td>\n",
       "      <td>4.60517</td>\n",
       "      <td>4.60517</td>\n",
       "      <td>4.60517</td>\n",
       "      <td>4.60517</td>\n",
       "    </tr>\n",
       "    <tr>\n",
       "      <th>11</th>\n",
       "      <td>2019-09-23 2022-09-01</td>\n",
       "      <td>2022-09-02 2022-09-02</td>\n",
       "      <td>37540</td>\n",
       "      <td>7377</td>\n",
       "      <td>37</td>\n",
       "      <td>23</td>\n",
       "      <td>5</td>\n",
       "      <td>1</td>\n",
       "      <td>37</td>\n",
       "      <td>36</td>\n",
       "      <td>0.160412</td>\n",
       "      <td>0.265462</td>\n",
       "      <td>0.182230</td>\n",
       "      <td>0.172309</td>\n",
       "      <td>0.135053</td>\n",
       "      <td>0.085208</td>\n",
       "      <td>0.057659</td>\n",
       "      <td>0.023872</td>\n",
       "      <td>0.047067</td>\n",
       "      <td>5.326946</td>\n",
       "      <td>5.466142</td>\n",
       "      <td>4.712767</td>\n",
       "      <td>4.60517</td>\n",
       "      <td>4.60517</td>\n",
       "      <td>4.60517</td>\n",
       "      <td>4.60517</td>\n",
       "      <td>4.60517</td>\n",
       "      <td>4.60517</td>\n",
       "    </tr>\n",
       "    <tr>\n",
       "      <th>12</th>\n",
       "      <td>2019-09-23 2022-08-31</td>\n",
       "      <td>2022-09-01 2022-09-01</td>\n",
       "      <td>37411</td>\n",
       "      <td>7362</td>\n",
       "      <td>129</td>\n",
       "      <td>108</td>\n",
       "      <td>15</td>\n",
       "      <td>1</td>\n",
       "      <td>129</td>\n",
       "      <td>128</td>\n",
       "      <td>0.235454</td>\n",
       "      <td>0.192381</td>\n",
       "      <td>0.196115</td>\n",
       "      <td>0.460699</td>\n",
       "      <td>0.624909</td>\n",
       "      <td>0.008640</td>\n",
       "      <td>0.008311</td>\n",
       "      <td>0.115411</td>\n",
       "      <td>0.003150</td>\n",
       "      <td>5.396294</td>\n",
       "      <td>5.535563</td>\n",
       "      <td>4.720306</td>\n",
       "      <td>4.60517</td>\n",
       "      <td>4.60517</td>\n",
       "      <td>4.60517</td>\n",
       "      <td>4.60517</td>\n",
       "      <td>4.60517</td>\n",
       "      <td>4.60517</td>\n",
       "    </tr>\n",
       "    <tr>\n",
       "      <th>13</th>\n",
       "      <td>2019-09-23 2022-08-30</td>\n",
       "      <td>2022-08-31 2022-08-31</td>\n",
       "      <td>37346</td>\n",
       "      <td>7356</td>\n",
       "      <td>65</td>\n",
       "      <td>48</td>\n",
       "      <td>6</td>\n",
       "      <td>0</td>\n",
       "      <td>65</td>\n",
       "      <td>65</td>\n",
       "      <td>0.165713</td>\n",
       "      <td>0.145740</td>\n",
       "      <td>0.157969</td>\n",
       "      <td>0.431836</td>\n",
       "      <td>0.686469</td>\n",
       "      <td>0.022729</td>\n",
       "      <td>0.010303</td>\n",
       "      <td>0.074463</td>\n",
       "      <td>0.008074</td>\n",
       "      <td>5.379143</td>\n",
       "      <td>5.510157</td>\n",
       "      <td>4.779692</td>\n",
       "      <td>4.60517</td>\n",
       "      <td>4.60517</td>\n",
       "      <td>4.60517</td>\n",
       "      <td>4.60517</td>\n",
       "      <td>4.60517</td>\n",
       "      <td>4.60517</td>\n",
       "    </tr>\n",
       "    <tr>\n",
       "      <th>14</th>\n",
       "      <td>2019-09-23 2022-08-29</td>\n",
       "      <td>2022-08-30 2022-08-30</td>\n",
       "      <td>37219</td>\n",
       "      <td>7329</td>\n",
       "      <td>127</td>\n",
       "      <td>119</td>\n",
       "      <td>27</td>\n",
       "      <td>2</td>\n",
       "      <td>127</td>\n",
       "      <td>33</td>\n",
       "      <td>0.066224</td>\n",
       "      <td>0.060228</td>\n",
       "      <td>0.060103</td>\n",
       "      <td>0.085092</td>\n",
       "      <td>0.123150</td>\n",
       "      <td>0.004577</td>\n",
       "      <td>0.006422</td>\n",
       "      <td>0.023519</td>\n",
       "      <td>0.003547</td>\n",
       "      <td>5.323263</td>\n",
       "      <td>5.505405</td>\n",
       "      <td>4.775213</td>\n",
       "      <td>4.60517</td>\n",
       "      <td>4.60517</td>\n",
       "      <td>4.60517</td>\n",
       "      <td>4.60517</td>\n",
       "      <td>4.60517</td>\n",
       "      <td>4.60517</td>\n",
       "    </tr>\n",
       "    <tr>\n",
       "      <th>15</th>\n",
       "      <td>2019-09-23 2022-08-28</td>\n",
       "      <td>2022-08-29 2022-08-29</td>\n",
       "      <td>37205</td>\n",
       "      <td>7328</td>\n",
       "      <td>14</td>\n",
       "      <td>12</td>\n",
       "      <td>1</td>\n",
       "      <td>0</td>\n",
       "      <td>14</td>\n",
       "      <td>14</td>\n",
       "      <td>0.213825</td>\n",
       "      <td>0.233158</td>\n",
       "      <td>0.265073</td>\n",
       "      <td>0.287780</td>\n",
       "      <td>0.247781</td>\n",
       "      <td>0.070253</td>\n",
       "      <td>0.053473</td>\n",
       "      <td>0.074386</td>\n",
       "      <td>0.030269</td>\n",
       "      <td>5.394034</td>\n",
       "      <td>5.457094</td>\n",
       "      <td>4.668724</td>\n",
       "      <td>4.60517</td>\n",
       "      <td>4.60517</td>\n",
       "      <td>4.60517</td>\n",
       "      <td>4.60517</td>\n",
       "      <td>4.60517</td>\n",
       "      <td>4.60517</td>\n",
       "    </tr>\n",
       "    <tr>\n",
       "      <th>16</th>\n",
       "      <td>2019-09-23 2022-08-27</td>\n",
       "      <td>2022-08-28 2022-08-28</td>\n",
       "      <td>37188</td>\n",
       "      <td>7327</td>\n",
       "      <td>17</td>\n",
       "      <td>10</td>\n",
       "      <td>1</td>\n",
       "      <td>0</td>\n",
       "      <td>17</td>\n",
       "      <td>17</td>\n",
       "      <td>0.266045</td>\n",
       "      <td>0.394477</td>\n",
       "      <td>0.256676</td>\n",
       "      <td>0.388030</td>\n",
       "      <td>0.521828</td>\n",
       "      <td>0.079866</td>\n",
       "      <td>0.039225</td>\n",
       "      <td>0.093425</td>\n",
       "      <td>0.021861</td>\n",
       "      <td>5.331736</td>\n",
       "      <td>5.457271</td>\n",
       "      <td>4.797522</td>\n",
       "      <td>4.60517</td>\n",
       "      <td>4.60517</td>\n",
       "      <td>4.60517</td>\n",
       "      <td>4.60517</td>\n",
       "      <td>4.60517</td>\n",
       "      <td>4.60517</td>\n",
       "    </tr>\n",
       "    <tr>\n",
       "      <th>17</th>\n",
       "      <td>2019-09-23 2022-08-26</td>\n",
       "      <td>2022-08-27 2022-08-27</td>\n",
       "      <td>37170</td>\n",
       "      <td>7324</td>\n",
       "      <td>18</td>\n",
       "      <td>14</td>\n",
       "      <td>3</td>\n",
       "      <td>0</td>\n",
       "      <td>18</td>\n",
       "      <td>18</td>\n",
       "      <td>0.180905</td>\n",
       "      <td>0.215190</td>\n",
       "      <td>0.157120</td>\n",
       "      <td>0.436078</td>\n",
       "      <td>0.839961</td>\n",
       "      <td>0.030982</td>\n",
       "      <td>0.033590</td>\n",
       "      <td>0.130574</td>\n",
       "      <td>0.021603</td>\n",
       "      <td>5.298095</td>\n",
       "      <td>5.436971</td>\n",
       "      <td>4.702141</td>\n",
       "      <td>4.60517</td>\n",
       "      <td>4.60517</td>\n",
       "      <td>4.60517</td>\n",
       "      <td>4.60517</td>\n",
       "      <td>4.60517</td>\n",
       "      <td>4.60517</td>\n",
       "    </tr>\n",
       "    <tr>\n",
       "      <th>18</th>\n",
       "      <td>2019-09-23 2022-08-25</td>\n",
       "      <td>2022-08-26 2022-08-26</td>\n",
       "      <td>37132</td>\n",
       "      <td>7321</td>\n",
       "      <td>38</td>\n",
       "      <td>25</td>\n",
       "      <td>3</td>\n",
       "      <td>0</td>\n",
       "      <td>38</td>\n",
       "      <td>38</td>\n",
       "      <td>0.215745</td>\n",
       "      <td>0.166471</td>\n",
       "      <td>0.187339</td>\n",
       "      <td>0.442993</td>\n",
       "      <td>0.781404</td>\n",
       "      <td>0.038715</td>\n",
       "      <td>0.006504</td>\n",
       "      <td>0.151145</td>\n",
       "      <td>0.009697</td>\n",
       "      <td>5.369661</td>\n",
       "      <td>5.521944</td>\n",
       "      <td>4.695562</td>\n",
       "      <td>4.60517</td>\n",
       "      <td>4.60517</td>\n",
       "      <td>4.60517</td>\n",
       "      <td>4.60517</td>\n",
       "      <td>4.60517</td>\n",
       "      <td>4.60517</td>\n",
       "    </tr>\n",
       "    <tr>\n",
       "      <th>19</th>\n",
       "      <td>2019-09-23 2022-08-24</td>\n",
       "      <td>2022-08-25 2022-08-25</td>\n",
       "      <td>37110</td>\n",
       "      <td>7317</td>\n",
       "      <td>22</td>\n",
       "      <td>20</td>\n",
       "      <td>4</td>\n",
       "      <td>0</td>\n",
       "      <td>22</td>\n",
       "      <td>22</td>\n",
       "      <td>0.227518</td>\n",
       "      <td>0.186576</td>\n",
       "      <td>0.182149</td>\n",
       "      <td>0.384601</td>\n",
       "      <td>0.582757</td>\n",
       "      <td>0.024280</td>\n",
       "      <td>0.041861</td>\n",
       "      <td>0.084181</td>\n",
       "      <td>0.013889</td>\n",
       "      <td>5.299598</td>\n",
       "      <td>5.479677</td>\n",
       "      <td>4.778593</td>\n",
       "      <td>4.60517</td>\n",
       "      <td>4.60517</td>\n",
       "      <td>4.60517</td>\n",
       "      <td>4.60517</td>\n",
       "      <td>4.60517</td>\n",
       "      <td>4.60517</td>\n",
       "    </tr>\n",
       "    <tr>\n",
       "      <th>20</th>\n",
       "      <td>2019-09-23 2022-08-23</td>\n",
       "      <td>2022-08-24 2022-08-24</td>\n",
       "      <td>37080</td>\n",
       "      <td>7314</td>\n",
       "      <td>30</td>\n",
       "      <td>28</td>\n",
       "      <td>3</td>\n",
       "      <td>0</td>\n",
       "      <td>30</td>\n",
       "      <td>30</td>\n",
       "      <td>0.201750</td>\n",
       "      <td>0.220217</td>\n",
       "      <td>0.188157</td>\n",
       "      <td>0.459939</td>\n",
       "      <td>0.832194</td>\n",
       "      <td>0.003788</td>\n",
       "      <td>0.017386</td>\n",
       "      <td>0.128116</td>\n",
       "      <td>0.006206</td>\n",
       "      <td>5.356120</td>\n",
       "      <td>5.506751</td>\n",
       "      <td>4.714455</td>\n",
       "      <td>4.60517</td>\n",
       "      <td>4.60517</td>\n",
       "      <td>4.60517</td>\n",
       "      <td>4.60517</td>\n",
       "      <td>4.60517</td>\n",
       "      <td>4.60517</td>\n",
       "    </tr>\n",
       "  </tbody>\n",
       "</table>\n",
       "</div>"
      ],
      "text/plain": [
       "                first_day               last_day  train_데이터수  train_유저수  \\\n",
       "0   2019-09-23 2022-09-12  2022-09-13 2022-09-13       37850       7409   \n",
       "1   2019-09-23 2022-09-11  2022-09-12 2022-09-12       37835       7406   \n",
       "2   2019-09-23 2022-09-10  2022-09-11 2022-09-11       37831       7406   \n",
       "3   2019-09-23 2022-09-09  2022-09-10 2022-09-10       37829       7406   \n",
       "4   2019-09-23 2022-09-08  2022-09-09 2022-09-09       37823       7406   \n",
       "5   2019-09-23 2022-09-07  2022-09-08 2022-09-08       37724       7395   \n",
       "6   2019-09-23 2022-09-06  2022-09-07 2022-09-07       37691       7393   \n",
       "7   2019-09-23 2022-09-05  2022-09-06 2022-09-06       37633       7390   \n",
       "8   2019-09-23 2022-09-04  2022-09-05 2022-09-05       37609       7384   \n",
       "9   2019-09-23 2022-09-03  2022-09-04 2022-09-04       37589       7383   \n",
       "10  2019-09-23 2022-09-02  2022-09-03 2022-09-03       37577       7382   \n",
       "11  2019-09-23 2022-09-01  2022-09-02 2022-09-02       37540       7377   \n",
       "12  2019-09-23 2022-08-31  2022-09-01 2022-09-01       37411       7362   \n",
       "13  2019-09-23 2022-08-30  2022-08-31 2022-08-31       37346       7356   \n",
       "14  2019-09-23 2022-08-29  2022-08-30 2022-08-30       37219       7329   \n",
       "15  2019-09-23 2022-08-28  2022-08-29 2022-08-29       37205       7328   \n",
       "16  2019-09-23 2022-08-27  2022-08-28 2022-08-28       37188       7327   \n",
       "17  2019-09-23 2022-08-26  2022-08-27 2022-08-27       37170       7324   \n",
       "18  2019-09-23 2022-08-25  2022-08-26 2022-08-26       37132       7321   \n",
       "19  2019-09-23 2022-08-24  2022-08-25 2022-08-25       37110       7317   \n",
       "20  2019-09-23 2022-08-23  2022-08-24 2022-08-24       37080       7314   \n",
       "\n",
       "    test_데이터수  test_유저수  test_신규유저수  test_신규아이템수  원본_test수  전처리진행test수  \\\n",
       "0          16        13           1            1        16          15   \n",
       "1          15        11           3            0        15          15   \n",
       "2           4         2           0            0         4           4   \n",
       "3           2         1           0            0         2           2   \n",
       "4           6         4           0            0         6           6   \n",
       "5          99        81          11            0        99          99   \n",
       "6          33        22           2            0        33          33   \n",
       "7          58        50           3            0        58          58   \n",
       "8          24        18           6            0        24          24   \n",
       "9          20        15           1            0        20          20   \n",
       "10         12        11           1            0        12          12   \n",
       "11         37        23           5            1        37          36   \n",
       "12        129       108          15            1       129         128   \n",
       "13         65        48           6            0        65          65   \n",
       "14        127       119          27            2       127          33   \n",
       "15         14        12           1            0        14          14   \n",
       "16         17        10           1            0        17          17   \n",
       "17         18        14           3            0        18          18   \n",
       "18         38        25           3            0        38          38   \n",
       "19         22        20           4            0        22          22   \n",
       "20         30        28           3            0        30          30   \n",
       "\n",
       "      als_mf       lmf        mp  medi_popular    latest    oldest  \\\n",
       "0   0.257257  0.286001  0.348660      0.212806  0.110887  0.100933   \n",
       "1   0.297711  0.245029  0.227500      0.292188  0.065425  0.133306   \n",
       "2   0.154827  0.240090  0.425172      0.425172  0.082848  0.000000   \n",
       "3   0.403287  1.000000  0.226957      0.229675  0.000000  0.200249   \n",
       "4   0.307050  0.264646  0.191046      0.162690  0.025453  0.210808   \n",
       "5   0.187531  0.193552  0.232427      0.398146  0.396668  0.036035   \n",
       "6   0.244371  0.274589  0.223568      0.299082  0.142594  0.102501   \n",
       "7   0.113358  0.104374  0.076439      0.291598  0.079309  0.126021   \n",
       "8   0.275464  0.318540  0.311774      0.329348  0.195413  0.069962   \n",
       "9   0.362326  0.229839  0.329322      0.267457  0.120659  0.163072   \n",
       "10  0.400649  0.301680  0.379036      0.424917  0.185356  0.054106   \n",
       "11  0.160412  0.265462  0.182230      0.172309  0.135053  0.085208   \n",
       "12  0.235454  0.192381  0.196115      0.460699  0.624909  0.008640   \n",
       "13  0.165713  0.145740  0.157969      0.431836  0.686469  0.022729   \n",
       "14  0.066224  0.060228  0.060103      0.085092  0.123150  0.004577   \n",
       "15  0.213825  0.233158  0.265073      0.287780  0.247781  0.070253   \n",
       "16  0.266045  0.394477  0.256676      0.388030  0.521828  0.079866   \n",
       "17  0.180905  0.215190  0.157120      0.436078  0.839961  0.030982   \n",
       "18  0.215745  0.166471  0.187339      0.442993  0.781404  0.038715   \n",
       "19  0.227518  0.186576  0.182149      0.384601  0.582757  0.024280   \n",
       "20  0.201750  0.220217  0.188157      0.459939  0.832194  0.003788   \n",
       "\n",
       "    high_price  low_price  name_sort  als_mf_entropy  lmf_entropy  mp_entropy  \\\n",
       "0     0.037917   0.060388   0.099823        5.389125     5.522476    4.728534   \n",
       "1     0.082232   0.019405   0.035447        5.183278     5.411535    4.776034   \n",
       "2     0.193426   0.072170   0.058004        5.090373     5.062647    4.612102   \n",
       "3     0.095413   0.102977   0.000000        4.605170     4.605170    4.577444   \n",
       "4     0.091671   0.023072   0.000000        5.187007     5.359580    4.680191   \n",
       "5     0.015691   0.020938   0.020789        5.392370     5.530995    4.724608   \n",
       "6     0.014464   0.070644   0.033362        5.387111     5.501660    4.718836   \n",
       "7     0.001778   0.009945   0.000000        5.393536     5.562302    4.818455   \n",
       "8     0.030477   0.045998   0.042236        5.256010     5.415130    4.712613   \n",
       "9     0.115002   0.011046   0.085243        5.386794     5.455410    4.719519   \n",
       "10    0.033335   0.063187   0.057357        5.396502     5.430337    4.703096   \n",
       "11    0.057659   0.023872   0.047067        5.326946     5.466142    4.712767   \n",
       "12    0.008311   0.115411   0.003150        5.396294     5.535563    4.720306   \n",
       "13    0.010303   0.074463   0.008074        5.379143     5.510157    4.779692   \n",
       "14    0.006422   0.023519   0.003547        5.323263     5.505405    4.775213   \n",
       "15    0.053473   0.074386   0.030269        5.394034     5.457094    4.668724   \n",
       "16    0.039225   0.093425   0.021861        5.331736     5.457271    4.797522   \n",
       "17    0.033590   0.130574   0.021603        5.298095     5.436971    4.702141   \n",
       "18    0.006504   0.151145   0.009697        5.369661     5.521944    4.695562   \n",
       "19    0.041861   0.084181   0.013889        5.299598     5.479677    4.778593   \n",
       "20    0.017386   0.128116   0.006206        5.356120     5.506751    4.714455   \n",
       "\n",
       "    medi_popular_entropy  latest_entropy  oldest_entropy  high_price_entropy  \\\n",
       "0                4.60517         4.60517         4.60517             4.60517   \n",
       "1                4.60517         4.60517         4.60517             4.60517   \n",
       "2                4.60517         4.60517         4.60517             4.60517   \n",
       "3                4.60517         4.60517         4.60517             4.60517   \n",
       "4                4.60517         4.60517         4.60517             4.60517   \n",
       "5                4.60517         4.60517         4.60517             4.60517   \n",
       "6                4.60517         4.60517         4.60517             4.60517   \n",
       "7                4.60517         4.60517         4.60517             4.60517   \n",
       "8                4.60517         4.60517         4.60517             4.60517   \n",
       "9                4.60517         4.60517         4.60517             4.60517   \n",
       "10               4.60517         4.60517         4.60517             4.60517   \n",
       "11               4.60517         4.60517         4.60517             4.60517   \n",
       "12               4.60517         4.60517         4.60517             4.60517   \n",
       "13               4.60517         4.60517         4.60517             4.60517   \n",
       "14               4.60517         4.60517         4.60517             4.60517   \n",
       "15               4.60517         4.60517         4.60517             4.60517   \n",
       "16               4.60517         4.60517         4.60517             4.60517   \n",
       "17               4.60517         4.60517         4.60517             4.60517   \n",
       "18               4.60517         4.60517         4.60517             4.60517   \n",
       "19               4.60517         4.60517         4.60517             4.60517   \n",
       "20               4.60517         4.60517         4.60517             4.60517   \n",
       "\n",
       "    low_price_entropy  name_sort_entropy  \n",
       "0             4.60517            4.60517  \n",
       "1             4.60517            4.60517  \n",
       "2             4.60517            4.60517  \n",
       "3             4.60517            4.60517  \n",
       "4             4.60517            4.60517  \n",
       "5             4.60517            4.60517  \n",
       "6             4.60517            4.60517  \n",
       "7             4.60517            4.60517  \n",
       "8             4.60517            4.60517  \n",
       "9             4.60517            4.60517  \n",
       "10            4.60517            4.60517  \n",
       "11            4.60517            4.60517  \n",
       "12            4.60517            4.60517  \n",
       "13            4.60517            4.60517  \n",
       "14            4.60517            4.60517  \n",
       "15            4.60517            4.60517  \n",
       "16            4.60517            4.60517  \n",
       "17            4.60517            4.60517  \n",
       "18            4.60517            4.60517  \n",
       "19            4.60517            4.60517  \n",
       "20            4.60517            4.60517  "
      ]
     },
     "execution_count": 22,
     "metadata": {},
     "output_type": "execute_result"
    }
   ],
   "source": [
    "from tqdm import tqdm\n",
    "\n",
    "twenty_df_list = []\n",
    "for sp_day, tt_day in tqdm(zip(split_day_list,test_day_list)):\n",
    "    module_df = module(df, sp_day,tt_day)\n",
    "    twenty_df_list.append(module_df)\n",
    "twenty_df = pd.concat(twenty_df_list, ignore_index=True)\n",
    "twenty_df"
   ]
  },
  {
   "cell_type": "code",
   "execution_count": null,
   "id": "72d35993",
   "metadata": {},
   "outputs": [],
   "source": []
  }
 ],
 "metadata": {
  "kernelspec": {
   "display_name": "Python 3",
   "language": "python",
   "name": "python3"
  },
  "language_info": {
   "codemirror_mode": {
    "name": "ipython",
    "version": 3
   },
   "file_extension": ".py",
   "mimetype": "text/x-python",
   "name": "python",
   "nbconvert_exporter": "python",
   "pygments_lexer": "ipython3",
   "version": "3.8.8"
  }
 },
 "nbformat": 4,
 "nbformat_minor": 5
}
