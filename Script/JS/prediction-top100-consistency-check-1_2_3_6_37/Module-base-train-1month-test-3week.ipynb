{
 "cells": [
  {
   "cell_type": "markdown",
   "id": "144c71b0",
   "metadata": {},
   "source": [
    "https://assaeunji.github.io/machine%20learning/2020-11-29-implicitfeedback/"
   ]
  },
  {
   "cell_type": "markdown",
   "id": "1758f1b3",
   "metadata": {},
   "source": [
    "# test 3주 정합성 검증\n",
    "- "
   ]
  },
  {
   "cell_type": "markdown",
   "id": "97dbe592",
   "metadata": {},
   "source": [
    "# 추천 모델\n",
    "- ALS MF, LMF, MP (총 3개)\n",
    "- 총 3개의 추천을 진행하며 MF와 LMF 의 경우 콜드스타트 유저(신규 유저)인 경우 MP로 추천 진행"
   ]
  },
  {
   "cell_type": "code",
   "execution_count": 1,
   "id": "053cf1d2",
   "metadata": {},
   "outputs": [
    {
     "name": "stdout",
     "output_type": "stream",
     "text": [
      "/home/user_3/medistream-recsys/Script\n"
     ]
    }
   ],
   "source": [
    "import pandas as pd\n",
    "import numpy as np\n",
    "import matplotlib.pyplot as plt\n",
    "import seaborn as sns\n",
    "from tqdm import tqdm\n",
    "\n",
    "import scipy.sparse as sparse\n",
    "import random\n",
    "import implicit\n",
    "from implicit.als import AlternatingLeastSquares as ALS\n",
    "\n",
    "%cd /home/user_3/medistream-recsys/Script\n",
    "from preprocessing import drop_columns,dict_to_column,dict_to_set,set_to_column,key_to_element\n",
    "\n",
    "pd.set_option('display.max_rows', 300)\n",
    "pd.set_option('display.max_columns', 100)\n",
    "\n",
    "from dateutil.relativedelta import relativedelta\n",
    "from datetime import datetime, timedelta\n",
    "import scipy.sparse as sp\n",
    "from implicit.lmf import LogisticMatrixFactorization as LMF"
   ]
  },
  {
   "cell_type": "markdown",
   "id": "c5943a3d",
   "metadata": {},
   "source": [
    "# 1.Dataload"
   ]
  },
  {
   "cell_type": "code",
   "execution_count": 2,
   "id": "1bfc0ddc",
   "metadata": {},
   "outputs": [
    {
     "name": "stderr",
     "output_type": "stream",
     "text": [
      "100%|██████████| 5141/5141 [00:00<00:00, 728526.15it/s]\n"
     ]
    }
   ],
   "source": [
    "# products name 확인 용\n",
    "products_df = pd.read_json(\"/fastcampus-data/products/products.json\")\n",
    "products_df = key_to_element(['_id'],products_df)"
   ]
  },
  {
   "cell_type": "code",
   "execution_count": 3,
   "id": "392f7771",
   "metadata": {},
   "outputs": [],
   "source": [
    "df = pd.read_json('/fastcampus-data/select_column_version_4.json')"
   ]
  },
  {
   "cell_type": "code",
   "execution_count": 4,
   "id": "5a9b3f4b",
   "metadata": {},
   "outputs": [],
   "source": [
    "df['date_paid'] = pd.to_datetime(df['date_paid'])"
   ]
  },
  {
   "cell_type": "code",
   "execution_count": 5,
   "id": "7e42cf73",
   "metadata": {},
   "outputs": [
    {
     "data": {
      "text/plain": [
       "Timestamp('2022-09-13 08:59:21.151000+0000', tz='UTC')"
      ]
     },
     "execution_count": 5,
     "metadata": {},
     "output_type": "execute_result"
    }
   ],
   "source": [
    "df['date_paid'].max()"
   ]
  },
  {
   "cell_type": "code",
   "execution_count": 6,
   "id": "912c29ad",
   "metadata": {},
   "outputs": [],
   "source": [
    "split_day_list =  []\n",
    "test_day_list = []\n",
    "\n",
    "# 1일 test 날짜 확인\n",
    "last_date_state = '2022-09-13'\n",
    "split_day = pd.to_datetime(last_date_state)-relativedelta(months=1)\n",
    "test_day = pd.to_datetime(last_date_state)\n",
    "'''\n",
    "마지막 날짜에서 개월 수를 자름 -> split_day\n",
    "months 만 바꾸면 21번 분량이 나옴\n",
    "'''\n",
    "\n",
    "for i in range(0,21):\n",
    "    sp_day = str((split_day-timedelta(days=i)).to_pydatetime().date())\n",
    "    tt_day  = str((test_day-timedelta(days=i)).to_pydatetime().date())\n",
    "    split_day_list.append(sp_day)\n",
    "    test_day_list.append(tt_day)"
   ]
  },
  {
   "cell_type": "code",
   "execution_count": 7,
   "id": "c51fdb8d",
   "metadata": {},
   "outputs": [],
   "source": [
    "class CustomEvaluator:\n",
    "    # relavence 모두 1로 동일하게 봄\n",
    "    def _idcg(self, l):\n",
    "        return sum((1.0 / np.log(i + 2) for i in range(l)))\n",
    "    \n",
    "\n",
    "    def __init__(self):\n",
    "        self._idcgs = [self._idcg(i) for i in range(1000)]\n",
    "    '''\n",
    "    idcgs 예시, item 3개 추천되므로 3.074281787960283 가 됩니다.\n",
    "    [0, 1.4426950408889634, 2.352934267515801, 3.074281787960283]\n",
    "    '''\n",
    "\n",
    "    def _ndcg(self, gt, rec):\n",
    "        dcg = 0.0\n",
    "        for i, r in enumerate(rec):\n",
    "            if r in gt:\n",
    "                dcg += 1.0 / np.log(i + 2)\n",
    "\n",
    "        return dcg / self._idcgs[len(gt)]\n",
    "    \n",
    "    def _entropy_diversity(self,rec_list):\n",
    "        import six\n",
    "        import math\n",
    "        \n",
    "        topn = len(rec_list[0]['items'])\n",
    "        users = [i.get('id',None) for i in rec_list]\n",
    "        sz = float(len(users)) * topn\n",
    "        freq = {}\n",
    "        for rec in rec_list:\n",
    "            for r in rec['items']:\n",
    "                freq[r] = freq.get(r, 0) + 1\n",
    "        ent = -sum([v / sz * math.log(v / sz) for v in six.itervalues(freq)])\n",
    "        return ent\n",
    "\n",
    "    def _eval(self, gt_list, rec_list):\n",
    "        gt_dict = {g[\"id\"]: g for g in gt_list}\n",
    "        ndcg_score = 0.0\n",
    "\n",
    "        for rec in rec_list:\n",
    "            gt = gt_dict[rec[\"id\"]]\n",
    "            ndcg_score += self._ndcg(gt[\"items\"], rec[\"items\"])\n",
    "\n",
    "\n",
    "        ndcg_score = ndcg_score / len(rec_list)\n",
    "        ent = self._entropy_diversity(rec_list)\n",
    "        \n",
    "        return ndcg_score, ent\n",
    "\n",
    "    def evaluate(self, gt_list, rec_list):\n",
    "        try:\n",
    "            ndcg_score, ent_score = self._eval(gt_list, rec_list)\n",
    "            print(f\"NDCG: {ndcg_score:.6}\")\n",
    "            print(f\"Entropy Diversity: {ent_score:.6} \")\n",
    "        except Exception as e:\n",
    "            print(e)\n"
   ]
  },
  {
   "cell_type": "code",
   "execution_count": 8,
   "id": "53019274",
   "metadata": {},
   "outputs": [],
   "source": [
    "def module(df:pd.DataFrame(), split_date, test_date)->pd.DataFrame():\n",
    "    \n",
    "    # paid orders만 가져오기\n",
    "    df['date_paid'] = pd.to_datetime(df['date_paid'])\n",
    "    df_only_paid = df[~df['date_paid'].isna()]\n",
    "    # 3개월치 데이터만 가져오기\n",
    "    df_date = df_only_paid[df_only_paid['date_paid'] >= split_date]\n",
    "    # 취소 안된 것만 가져오기\n",
    "    complete_df = df_date[(df_date['paid'] == True) & (df_date['cancelled']==False)]\n",
    "    # 도서 카테고리만 가져오기\n",
    "    only_book = complete_df[complete_df['name'] == '도서']\n",
    "\n",
    "    # 유저가 중복으로 아이템 구매 삭제\n",
    "    df_duplicated_book = only_book.drop_duplicates(subset=['customer_id','product_ids'])\n",
    "    df_book = df_duplicated_book.sort_values(by='date_paid').reset_index(drop=True)\n",
    "    \n",
    "    train = df_book[df_book['date_paid'] < test_date]\n",
    "    test = df_book[df_book['date_paid'].dt.date == pd.to_datetime(test_date)]\n",
    "    \n",
    "    \n",
    "    # test 만 있는 item 제거\n",
    "    only_test_items = set(test.product_ids.unique())-set(train.product_ids.unique())\n",
    "    if_prepro_test = test[~test['product_ids'].isin(only_test_items)]\n",
    "    \n",
    "    \n",
    "    PdIds = train.product_ids.unique()\n",
    "\n",
    "    PdIdToIndex = {}\n",
    "    indexToPdId = {}\n",
    "\n",
    "    colIdx = 0\n",
    "\n",
    "    for PdId in PdIds:\n",
    "        PdIdToIndex[PdId] = colIdx\n",
    "        indexToPdId[colIdx] = PdId\n",
    "        colIdx += 1\n",
    "\n",
    "    userIds = train.customer_id.unique()\n",
    "\n",
    "    userIdToIndex = {}\n",
    "    indexToUserId = {}\n",
    "\n",
    "    rowIdx = 0\n",
    "\n",
    "    for userId in userIds:\n",
    "        userIdToIndex[userId] = rowIdx\n",
    "        indexToUserId[rowIdx] = userId\n",
    "        rowIdx += 1\n",
    "    rows = []\n",
    "    cols = []\n",
    "    vals = []\n",
    "\n",
    "    for row in train.itertuples():\n",
    "        rows.append(userIdToIndex[row.customer_id])\n",
    "        cols.append(PdIdToIndex[row.product_ids])\n",
    "        vals.append(1)\n",
    "\n",
    "    purchase_sparse = sp.csr_matrix((vals, (rows, cols)), shape=(rowIdx,colIdx))\n",
    "\n",
    "    matrix = purchase_sparse.todense()\n",
    "\n",
    "    medistream_prediction_df = train[['date_created','regular_price','sale_price','three_months','product_ids','name_x']]\n",
    "    medistream_prediction_preprop_df = medistream_prediction_df.drop_duplicates(subset=['product_ids'], ignore_index=True)\n",
    "    medistream_prediction_preprop_df['date_created'] = pd.to_datetime(medistream_prediction_preprop_df['date_created'])    \n",
    "    \n",
    "    als_model = ALS(factors=20,regularization=0.01, iterations = 50, random_state=42)\n",
    "    alsmodel = als_model.fit(purchase_sparse)\n",
    "    lmf_model = LMF(factors=20, regularization=0.001, iterations = 20, random_state=42)\n",
    "    lmfmodel = lmf_model.fit(purchase_sparse)\n",
    "    \n",
    "    most_popular = train.groupby(['product_ids','name_x']).count()['customer_id'].reset_index()\n",
    "    most_popular_list = most_popular.sort_values(by='customer_id',ascending=False).index\n",
    "    \n",
    "\n",
    "        # test 예측값, 이미 구매 했을 경우 제외\n",
    "    als_predict_list = []\n",
    "    for user_id in test['customer_id'].unique():\n",
    "        try:\n",
    "            result = als_model.recommend(userIdToIndex[user_id], purchase_sparse[userIdToIndex[user_id]], N=100)\n",
    "            als_predict_list.append({'id':user_id ,'items':[indexToPdId[num] for num in result[0]]})\n",
    "        except:\n",
    "            train_purchase_list = list(train[train['customer_id']==user_id].product_ids)\n",
    "            als_predict_list.append({'id':user_id ,'items':[most_popular.product_ids.loc[num] for num in most_popular_list \\\n",
    "                                                                if most_popular.product_ids.loc[num] not in train_purchase_list \\\n",
    "                                                                ]})\n",
    "\n",
    "        # 100 개만 예측하기\n",
    "    for idx, pred_list in enumerate(als_predict_list):\n",
    "        als_predict_list[idx]['items'] = pred_list['items'][:100]\n",
    "\n",
    "    \n",
    "\n",
    "        # test 예측값\n",
    "    lmf_predict_list = []\n",
    "    for user_id in test['customer_id'].unique():\n",
    "        try:\n",
    "            result = lmf_model.recommend(userIdToIndex[user_id], purchase_sparse[userIdToIndex[user_id]], N=100)\n",
    "            lmf_predict_list.append({'id':user_id ,'items':[indexToPdId[num] for num in result[0]]})\n",
    "        except:\n",
    "            train_purchase_list = list(train[train['customer_id']==user_id].product_ids)\n",
    "            lmf_predict_list.append({'id':user_id ,'items':[most_popular.product_ids.loc[num] for num in most_popular_list \\\n",
    "                                                                if most_popular.product_ids.loc[num] not in train_purchase_list \\\n",
    "                                                                ]})\n",
    "\n",
    "        # 100 개만 예측하기\n",
    "    for idx, pred_list in enumerate(lmf_predict_list):\n",
    "        lmf_predict_list[idx]['items'] = pred_list['items'][:100]\n",
    "\n",
    "    \n",
    "\n",
    "        # test 예측값, 이미 구매 했을 경우 제외\n",
    "    predict_popular_list = []\n",
    "    for user_id in test['customer_id'].unique():\n",
    "        train_purchase_list = list(train[train['customer_id']==user_id].product_ids)\n",
    "        predict_popular_list.append({'id':user_id ,'items':[most_popular.product_ids.loc[num] for num in most_popular_list \\\n",
    "                                                                if most_popular.product_ids.loc[num] not in train_purchase_list \\\n",
    "                                                                ]})\n",
    "\n",
    "        # 100 개만 예측하기\n",
    "    for idx, pred_list in enumerate(predict_popular_list):\n",
    "        predict_popular_list[idx]['items'] = pred_list['items'][:100]\n",
    "        \n",
    "    # real test \n",
    "    ground_trues = []\n",
    "    for user_id in test['customer_id'].unique():\n",
    "        ground_trues.append({'id': user_id,\\\n",
    "        'items':list(test[test['customer_id']==user_id].product_ids)\n",
    "        })\n",
    "    # ALS \n",
    "    evaluator = CustomEvaluator()\n",
    "    als = evaluator._eval(ground_trues, als_predict_list)\n",
    "    \n",
    "    # LMF \n",
    "    evaluator = CustomEvaluator()\n",
    "    lmf = evaluator._eval(ground_trues, lmf_predict_list)\n",
    "    # MP\n",
    "    evaluator = CustomEvaluator()\n",
    "    mp = evaluator._eval(ground_trues, predict_popular_list)\n",
    "    \n",
    "    # 인기도순\n",
    "    medistream_popular_list = medistream_prediction_preprop_df.sort_values(by='three_months', ascending=False).index\n",
    "    # 최신순\n",
    "    medistream_latest_list = medistream_prediction_preprop_df.sort_values(by='date_created', ascending=False).index\n",
    "    # 오랜된 순\n",
    "    medistream_oldest_list = medistream_prediction_preprop_df.sort_values(by='date_created', ascending=True).index\n",
    "    # 높은 가격 순\n",
    "    medistream_high_price_list = medistream_prediction_preprop_df.sort_values(by='sale_price', ascending=False).index\n",
    "    # 낮은 가격 순\n",
    "    medistream_low_price_list = medistream_prediction_preprop_df.sort_values(by='sale_price', ascending=True).index\n",
    "    # 이름 순\n",
    "    medistream_name_sort_list = medistream_prediction_preprop_df.sort_values(by='name_x',ascending=True).index\n",
    "\n",
    "    def medistream_prediction_method(predict_num:int ,medi_predict_list:list)->list:\n",
    "        medistream_predict_list = []\n",
    "        for user_id in test['customer_id'].unique():\n",
    "            medistream_predict_list.append({'id':user_id ,'items':[medistream_prediction_preprop_df.product_ids.loc[num] \\\n",
    "                                                                           for num in medi_predict_list]})\n",
    "\n",
    "        # 100 개만 예측하기\n",
    "        for idx, pred_list in enumerate(medistream_predict_list):\n",
    "            medistream_predict_list[idx]['items'] = pred_list['items'][:predict_num]\n",
    "\n",
    "        return medistream_predict_list\n",
    "    \n",
    "    medistream_predict_popular_list = medistream_prediction_method(100, medistream_popular_list)\n",
    "    medistream_predict_latest_list = medistream_prediction_method(100, medistream_latest_list)\n",
    "    medistream_predict_oldest_list = medistream_prediction_method(100, medistream_oldest_list)\n",
    "    medistream_predict_high_price_list = medistream_prediction_method(100, medistream_high_price_list)\n",
    "    medistream_predict_low_price_list = medistream_prediction_method(100, medistream_low_price_list)\n",
    "    medistream_predict_name_sort_list = medistream_prediction_method(100, medistream_name_sort_list)\n",
    "    \n",
    "    def medistream_prediction(ground_trues:list, predict_list:list):\n",
    "        evaluator = CustomEvaluator()\n",
    "        ndcg, entropy = evaluator._eval(ground_trues, predict_list)\n",
    "\n",
    "        assert len(predict_list) == len(ground_trues)\n",
    "\n",
    "        cnt = 0\n",
    "        for gt, pred_list in zip(ground_trues, predict_list):\n",
    "            for pred in pred_list['items']:\n",
    "                if pred in gt['items']:\n",
    "                    cnt += 1\n",
    "        return ndcg, entropy, cnt\n",
    "    \n",
    "    medistream_predict_score = {'medistream_predict':['medi_popular','latest','oldest','high_price','low_price','name_sort'], \\\n",
    "                                'ndcg':[], 'entropy':[], 'cnt':[]}\n",
    "\n",
    "    medistream_predict_list = [medistream_predict_popular_list, medistream_predict_latest_list, medistream_predict_oldest_list,\\\n",
    "                              medistream_predict_high_price_list, medistream_predict_low_price_list, medistream_predict_name_sort_list]\n",
    "\n",
    "    for medistream_predict in medistream_predict_list:\n",
    "        ndcg, entropy, cnt = medistream_prediction(ground_trues, medistream_predict)\n",
    "        medistream_predict_score['ndcg'].append(ndcg)\n",
    "        medistream_predict_score['entropy'].append(entropy)\n",
    "        medistream_predict_score['cnt'].append(cnt)\n",
    "\n",
    "        \n",
    "######## hyper parameter\n",
    "    als_mf_hyper_parameter = {'factor':[],'regularization':[],'iteration':[],'NDCG':[],'entropy':[]}\n",
    "\n",
    "    factors = [5,10,15,20]\n",
    "    regularizations = [0.01,0.005]\n",
    "    iterations = [5,10,15,20,25,30,40,50]\n",
    "\n",
    "    for factor in factors:\n",
    "        for regularization in regularizations:\n",
    "            for iteration in iterations:\n",
    "                als_model = ALS(factors=factor, regularization=regularization, iterations = iteration, random_state=42)\n",
    "                als_model.fit(purchase_sparse, show_progress=False)\n",
    "\n",
    "                # 신규 유저인 경우 mp로 넣기\n",
    "                # 전체 도서에 대한 판매 만큼 정렬 후 넣기\n",
    "                most_popular_list = most_popular.sort_values(by='customer_id',ascending=False).index\n",
    "\n",
    "                # test 예측값, 이미 구매 했을 경우 제외\n",
    "                als_predict_list = []\n",
    "                for user_id in test['customer_id'].unique():\n",
    "                    try:\n",
    "                        result = als_model.recommend(userIdToIndex[user_id], purchase_sparse[userIdToIndex[user_id]], N=100)\n",
    "                        als_predict_list.append({'id':user_id ,'items':[indexToPdId[num] for num in result[0]]})\n",
    "                    except:\n",
    "                        train_purchase_list = list(train[train['customer_id']==user_id].product_ids)\n",
    "                        als_predict_list.append({'id':user_id ,'items':[most_popular.product_ids.loc[num] for num in most_popular_list \\\n",
    "                                                                            if most_popular.product_ids.loc[num] not in train_purchase_list \\\n",
    "                                                                            ]})\n",
    "\n",
    "                # 100 개만 예측하기\n",
    "                for idx, pred_list in enumerate(als_predict_list):\n",
    "                    als_predict_list[idx]['items'] = pred_list['items'][:100]\n",
    "\n",
    "                # ALS \n",
    "                evaluator = CustomEvaluator()\n",
    "                ndcg, entropy = evaluator._eval(ground_trues, als_predict_list)\n",
    "\n",
    "                als_mf_hyper_parameter['factor'].append(factor)\n",
    "                als_mf_hyper_parameter['regularization'].append(regularization)\n",
    "                als_mf_hyper_parameter['iteration'].append(iteration)\n",
    "                als_mf_hyper_parameter['NDCG'].append(ndcg)\n",
    "                als_mf_hyper_parameter['entropy'].append(entropy)\n",
    "                \n",
    "                \n",
    "    lmf_hyper_parameter = {'factor':[],'regularization':[],'iteration':[],'NDCG':[],'entropy':[]}\n",
    "\n",
    "    factors = [5,10,15,20]\n",
    "    regularizations = [0.01,0.005]\n",
    "    iterations = [5,10,15,20,25,30,40,50]\n",
    "\n",
    "    for factor in factors:\n",
    "        for regularization in regularizations:\n",
    "            for iteration in iterations:\n",
    "                lmf_model = LMF(factors=factor, regularization=regularization, iterations = iteration, random_state=42)\n",
    "                lmf_model.fit(purchase_sparse, show_progress=False)\n",
    "\n",
    "                # 신규 유저 mp로 넣기\n",
    "                most_popular_list = most_popular.sort_values(by='customer_id',ascending=False).index\n",
    "\n",
    "                # test 예측값\n",
    "                lmf_predict_list = []\n",
    "                for user_id in test['customer_id'].unique():\n",
    "                    try:\n",
    "                        result = lmf_model.recommend(userIdToIndex[user_id], purchase_sparse[userIdToIndex[user_id]], N=100)\n",
    "                        lmf_predict_list.append({'id':user_id ,'items':[indexToPdId[num] for num in result[0]]})\n",
    "                    except:\n",
    "                        train_purchase_list = list(train[train['customer_id']==user_id].product_ids)\n",
    "                        lmf_predict_list.append({'id':user_id ,'items':[most_popular.product_ids.loc[num] for num in most_popular_list \\\n",
    "                                                                            if most_popular.product_ids.loc[num] not in train_purchase_list \\\n",
    "                                                                            ]})\n",
    "\n",
    "                # 100 개만 예측하기\n",
    "                for idx, pred_list in enumerate(lmf_predict_list):\n",
    "                    lmf_predict_list[idx]['items'] = pred_list['items'][:100]\n",
    "\n",
    "                # LMF\n",
    "                evaluator = CustomEvaluator()\n",
    "                ndcg, entropy = evaluator._eval(ground_trues, lmf_predict_list)\n",
    "\n",
    "                lmf_hyper_parameter['factor'].append(factor)\n",
    "                lmf_hyper_parameter['regularization'].append(regularization)\n",
    "                lmf_hyper_parameter['iteration'].append(iteration)\n",
    "                lmf_hyper_parameter['NDCG'].append(ndcg)\n",
    "                lmf_hyper_parameter['entropy'].append(entropy)\n",
    "                \n",
    "#     return als_mf_hyper_parameter, lmf_hyper_parameter, medistream_predict_score\n",
    "\n",
    "    all_prediction_df = {'first_day':[],'last_day':[],'train_데이터수':[],'train_유저수':[],'test_데이터수':[],\\\n",
    "        'test_유저수':[],'test_신규유저수':[],'test_신규아이템수':[],'원본_test수':[],'전처리진행test수':[],\\\n",
    "        'als_mf':[],'lmf':[],'mp':[],'medi_popular':[],'latest':[],\\\n",
    "        'oldest':[],'high_price':[],'low_price':[],'name_sort':[],\\\n",
    "         'als_mf_entropy':[],'lmf_entropy':[],'mp_entropy':[],'medi_popular_entropy':[],'latest_entropy':[],\\\n",
    "         'oldest_entropy':[],'high_price_entropy':[],'low_price_entropy':[],'name_sort_entropy':[]}\n",
    "    medistream_predict_df = pd.DataFrame(medistream_predict_score)\n",
    "\n",
    "    all_prediction_df['first_day'].append(str(datetime.date(train['date_paid'].min()))+' '+str(datetime.date(train['date_paid'].max())))\n",
    "    all_prediction_df['last_day'].append(str(datetime.date(test['date_paid'].min()))+' '+str(datetime.date(test['date_paid'].max())))\n",
    "    all_prediction_df['train_데이터수'].append(len(train))\n",
    "    all_prediction_df['train_유저수'].append(len(set(train.customer_id)))\n",
    "    all_prediction_df['test_데이터수'].append(len(test))\n",
    "    all_prediction_df['test_유저수'].append(len(set(test.customer_id)))\n",
    "    all_prediction_df['test_신규유저수'].append(len(set(test['customer_id'].unique())- set(train['customer_id'].unique())))\n",
    "    all_prediction_df['test_신규아이템수'].append(len(set(test.product_ids.unique())-set(train.product_ids.unique())))\n",
    "    all_prediction_df['원본_test수'].append(len(test))\n",
    "    all_prediction_df['전처리진행test수'].append(len(if_prepro_test))\n",
    "\n",
    "    # ndcg\n",
    "    all_prediction_df['als_mf'].append(pd.DataFrame(als_mf_hyper_parameter).sort_values(by='NDCG',ascending=False)['NDCG'].iloc[0])\n",
    "    all_prediction_df['lmf'].append(pd.DataFrame(lmf_hyper_parameter).sort_values(by='NDCG',ascending=False)['NDCG'].iloc[0])\n",
    "    all_prediction_df['mp'].append(evaluator._eval(ground_trues, predict_popular_list)[0])\n",
    "    all_prediction_df['medi_popular'].append(medistream_predict_df[medistream_predict_df['medistream_predict']=='medi_popular'].iloc[0]['ndcg'])\n",
    "    all_prediction_df['latest'].append(medistream_predict_df[medistream_predict_df['medistream_predict']=='latest'].iloc[0]['ndcg'])\n",
    "    all_prediction_df['oldest'].append(medistream_predict_df[medistream_predict_df['medistream_predict']=='oldest'].iloc[0]['ndcg'])\n",
    "    all_prediction_df['high_price'].append(medistream_predict_df[medistream_predict_df['medistream_predict']=='high_price'].iloc[0]['ndcg'])\n",
    "    all_prediction_df['low_price'].append(medistream_predict_df[medistream_predict_df['medistream_predict']=='low_price'].iloc[0]['ndcg'])\n",
    "    all_prediction_df['name_sort'].append(medistream_predict_df[medistream_predict_df['medistream_predict']=='name_sort'].iloc[0]['ndcg'])\n",
    "\n",
    "#     entropy\n",
    "    all_prediction_df['als_mf_entropy'].append(pd.DataFrame(als_mf_hyper_parameter).sort_values(by='entropy',ascending=False)['entropy'].iloc[0])\n",
    "    all_prediction_df['lmf_entropy'].append(pd.DataFrame(lmf_hyper_parameter).sort_values(by='entropy',ascending=False)['entropy'].iloc[0])\n",
    "    all_prediction_df['mp_entropy'].append(evaluator._eval(ground_trues, predict_popular_list)[1])\n",
    "    all_prediction_df['medi_popular_entropy'].append(medistream_predict_df[medistream_predict_df['medistream_predict']=='medi_popular'].iloc[0]['entropy'])\n",
    "    all_prediction_df['latest_entropy'].append(medistream_predict_df[medistream_predict_df['medistream_predict']=='latest'].iloc[0]['entropy'])\n",
    "    all_prediction_df['oldest_entropy'].append(medistream_predict_df[medistream_predict_df['medistream_predict']=='oldest'].iloc[0]['entropy'])\n",
    "    all_prediction_df['high_price_entropy'].append(medistream_predict_df[medistream_predict_df['medistream_predict']=='high_price'].iloc[0]['entropy'])\n",
    "    all_prediction_df['low_price_entropy'].append(medistream_predict_df[medistream_predict_df['medistream_predict']=='low_price'].iloc[0]['entropy'])\n",
    "    all_prediction_df['name_sort_entropy'].append(medistream_predict_df[medistream_predict_df['medistream_predict']=='name_sort'].iloc[0]['entropy'])\n",
    "\n",
    "    print('train 총 기간:',train['date_paid'].max()-train['date_paid'].min())\n",
    "    print('test 총 기간:',test['date_paid'].max()-test['date_paid'].min())\n",
    "    \n",
    "    return pd.DataFrame(all_prediction_df)"
   ]
  },
  {
   "cell_type": "code",
   "execution_count": 11,
   "id": "02d7e20c",
   "metadata": {
    "scrolled": false
   },
   "outputs": [
    {
     "name": "stderr",
     "output_type": "stream",
     "text": [
      "0it [00:00, ?it/s]<ipython-input-8-b3ae7dbb3584>:64: SettingWithCopyWarning: \n",
      "A value is trying to be set on a copy of a slice from a DataFrame.\n",
      "Try using .loc[row_indexer,col_indexer] = value instead\n",
      "\n",
      "See the caveats in the documentation: https://pandas.pydata.org/pandas-docs/stable/user_guide/indexing.html#returning-a-view-versus-a-copy\n",
      "  medistream_prediction_preprop_df['date_created'] = pd.to_datetime(medistream_prediction_preprop_df['date_created'])\n"
     ]
    },
    {
     "data": {
      "application/vnd.jupyter.widget-view+json": {
       "model_id": "f1420de9ce40488ca9de05b906cf5c34",
       "version_major": 2,
       "version_minor": 0
      },
      "text/plain": [
       "  0%|          | 0/50 [00:00<?, ?it/s]"
      ]
     },
     "metadata": {},
     "output_type": "display_data"
    },
    {
     "data": {
      "application/vnd.jupyter.widget-view+json": {
       "model_id": "2e71bf89f6ee4041953209f5a14f0a23",
       "version_major": 2,
       "version_minor": 0
      },
      "text/plain": [
       "  0%|          | 0/20 [00:00<?, ?it/s]"
      ]
     },
     "metadata": {},
     "output_type": "display_data"
    },
    {
     "name": "stderr",
     "output_type": "stream",
     "text": [
      "\r",
      "1it [03:35, 215.29s/it]"
     ]
    },
    {
     "name": "stdout",
     "output_type": "stream",
     "text": [
      "train 총 기간: 30 days 21:41:03.170000\n",
      "test 총 기간: 0 days 08:44:11.628000\n"
     ]
    },
    {
     "name": "stderr",
     "output_type": "stream",
     "text": [
      "<ipython-input-8-b3ae7dbb3584>:64: SettingWithCopyWarning: \n",
      "A value is trying to be set on a copy of a slice from a DataFrame.\n",
      "Try using .loc[row_indexer,col_indexer] = value instead\n",
      "\n",
      "See the caveats in the documentation: https://pandas.pydata.org/pandas-docs/stable/user_guide/indexing.html#returning-a-view-versus-a-copy\n",
      "  medistream_prediction_preprop_df['date_created'] = pd.to_datetime(medistream_prediction_preprop_df['date_created'])\n"
     ]
    },
    {
     "data": {
      "application/vnd.jupyter.widget-view+json": {
       "model_id": "dda3587620bb4a10a9ce92214cfdb9fe",
       "version_major": 2,
       "version_minor": 0
      },
      "text/plain": [
       "  0%|          | 0/50 [00:00<?, ?it/s]"
      ]
     },
     "metadata": {},
     "output_type": "display_data"
    },
    {
     "data": {
      "application/vnd.jupyter.widget-view+json": {
       "model_id": "b5cec94e77714c44a71fd31ea9c2a151",
       "version_major": 2,
       "version_minor": 0
      },
      "text/plain": [
       "  0%|          | 0/20 [00:00<?, ?it/s]"
      ]
     },
     "metadata": {},
     "output_type": "display_data"
    },
    {
     "name": "stderr",
     "output_type": "stream",
     "text": [
      "\r",
      "2it [07:06, 212.72s/it]"
     ]
    },
    {
     "name": "stdout",
     "output_type": "stream",
     "text": [
      "train 총 기간: 30 days 20:05:07.845000\n",
      "test 총 기간: 0 days 23:18:07.974000\n"
     ]
    },
    {
     "name": "stderr",
     "output_type": "stream",
     "text": [
      "<ipython-input-8-b3ae7dbb3584>:64: SettingWithCopyWarning: \n",
      "A value is trying to be set on a copy of a slice from a DataFrame.\n",
      "Try using .loc[row_indexer,col_indexer] = value instead\n",
      "\n",
      "See the caveats in the documentation: https://pandas.pydata.org/pandas-docs/stable/user_guide/indexing.html#returning-a-view-versus-a-copy\n",
      "  medistream_prediction_preprop_df['date_created'] = pd.to_datetime(medistream_prediction_preprop_df['date_created'])\n"
     ]
    },
    {
     "data": {
      "application/vnd.jupyter.widget-view+json": {
       "model_id": "8cb63669f9474620a9cb266f229cb68f",
       "version_major": 2,
       "version_minor": 0
      },
      "text/plain": [
       "  0%|          | 0/50 [00:00<?, ?it/s]"
      ]
     },
     "metadata": {},
     "output_type": "display_data"
    },
    {
     "data": {
      "application/vnd.jupyter.widget-view+json": {
       "model_id": "92de5caadf214d049c108eb45958360c",
       "version_major": 2,
       "version_minor": 0
      },
      "text/plain": [
       "  0%|          | 0/20 [00:00<?, ?it/s]"
      ]
     },
     "metadata": {},
     "output_type": "display_data"
    },
    {
     "name": "stderr",
     "output_type": "stream",
     "text": [
      "\r",
      "3it [10:45, 215.77s/it]"
     ]
    },
    {
     "name": "stdout",
     "output_type": "stream",
     "text": [
      "train 총 기간: 30 days 22:35:25.684000\n",
      "test 총 기간: 0 days 07:14:08.106000\n"
     ]
    },
    {
     "name": "stderr",
     "output_type": "stream",
     "text": [
      "<ipython-input-8-b3ae7dbb3584>:64: SettingWithCopyWarning: \n",
      "A value is trying to be set on a copy of a slice from a DataFrame.\n",
      "Try using .loc[row_indexer,col_indexer] = value instead\n",
      "\n",
      "See the caveats in the documentation: https://pandas.pydata.org/pandas-docs/stable/user_guide/indexing.html#returning-a-view-versus-a-copy\n",
      "  medistream_prediction_preprop_df['date_created'] = pd.to_datetime(medistream_prediction_preprop_df['date_created'])\n"
     ]
    },
    {
     "data": {
      "application/vnd.jupyter.widget-view+json": {
       "model_id": "1775c817bb25481aa484d496f9d61a2a",
       "version_major": 2,
       "version_minor": 0
      },
      "text/plain": [
       "  0%|          | 0/50 [00:00<?, ?it/s]"
      ]
     },
     "metadata": {},
     "output_type": "display_data"
    },
    {
     "data": {
      "application/vnd.jupyter.widget-view+json": {
       "model_id": "b6e19d1f711749e8a552dd1aa414cd41",
       "version_major": 2,
       "version_minor": 0
      },
      "text/plain": [
       "  0%|          | 0/20 [00:00<?, ?it/s]"
      ]
     },
     "metadata": {},
     "output_type": "display_data"
    },
    {
     "name": "stderr",
     "output_type": "stream",
     "text": [
      "\r",
      "4it [14:04, 209.25s/it]"
     ]
    },
    {
     "name": "stdout",
     "output_type": "stream",
     "text": [
      "train 총 기간: 30 days 10:02:39.690000\n",
      "test 총 기간: 0 days 00:01:36.172000\n"
     ]
    },
    {
     "name": "stderr",
     "output_type": "stream",
     "text": [
      "<ipython-input-8-b3ae7dbb3584>:64: SettingWithCopyWarning: \n",
      "A value is trying to be set on a copy of a slice from a DataFrame.\n",
      "Try using .loc[row_indexer,col_indexer] = value instead\n",
      "\n",
      "See the caveats in the documentation: https://pandas.pydata.org/pandas-docs/stable/user_guide/indexing.html#returning-a-view-versus-a-copy\n",
      "  medistream_prediction_preprop_df['date_created'] = pd.to_datetime(medistream_prediction_preprop_df['date_created'])\n"
     ]
    },
    {
     "data": {
      "application/vnd.jupyter.widget-view+json": {
       "model_id": "fff8a65b6d9048eeb44105266d3bd443",
       "version_major": 2,
       "version_minor": 0
      },
      "text/plain": [
       "  0%|          | 0/50 [00:00<?, ?it/s]"
      ]
     },
     "metadata": {},
     "output_type": "display_data"
    },
    {
     "data": {
      "application/vnd.jupyter.widget-view+json": {
       "model_id": "95eb422b392d43b3ac18ac49ba49aef2",
       "version_major": 2,
       "version_minor": 0
      },
      "text/plain": [
       "  0%|          | 0/20 [00:00<?, ?it/s]"
      ]
     },
     "metadata": {},
     "output_type": "display_data"
    },
    {
     "name": "stderr",
     "output_type": "stream",
     "text": [
      "\r",
      "5it [17:32, 208.65s/it]"
     ]
    },
    {
     "name": "stdout",
     "output_type": "stream",
     "text": [
      "train 총 기간: 30 days 22:08:15.935000\n",
      "test 총 기간: 0 days 08:09:01.373000\n"
     ]
    },
    {
     "name": "stderr",
     "output_type": "stream",
     "text": [
      "<ipython-input-8-b3ae7dbb3584>:64: SettingWithCopyWarning: \n",
      "A value is trying to be set on a copy of a slice from a DataFrame.\n",
      "Try using .loc[row_indexer,col_indexer] = value instead\n",
      "\n",
      "See the caveats in the documentation: https://pandas.pydata.org/pandas-docs/stable/user_guide/indexing.html#returning-a-view-versus-a-copy\n",
      "  medistream_prediction_preprop_df['date_created'] = pd.to_datetime(medistream_prediction_preprop_df['date_created'])\n"
     ]
    },
    {
     "data": {
      "application/vnd.jupyter.widget-view+json": {
       "model_id": "8acfe297b8614be1b3c077197b24958f",
       "version_major": 2,
       "version_minor": 0
      },
      "text/plain": [
       "  0%|          | 0/50 [00:00<?, ?it/s]"
      ]
     },
     "metadata": {},
     "output_type": "display_data"
    },
    {
     "data": {
      "application/vnd.jupyter.widget-view+json": {
       "model_id": "51f2f059680943458f08fee180c528a0",
       "version_major": 2,
       "version_minor": 0
      },
      "text/plain": [
       "  0%|          | 0/20 [00:00<?, ?it/s]"
      ]
     },
     "metadata": {},
     "output_type": "display_data"
    },
    {
     "name": "stderr",
     "output_type": "stream",
     "text": [
      "\r",
      "6it [22:15, 233.84s/it]"
     ]
    },
    {
     "name": "stdout",
     "output_type": "stream",
     "text": [
      "train 총 기간: 30 days 17:16:32.296000\n",
      "test 총 기간: 0 days 22:28:59.805000\n"
     ]
    },
    {
     "name": "stderr",
     "output_type": "stream",
     "text": [
      "<ipython-input-8-b3ae7dbb3584>:64: SettingWithCopyWarning: \n",
      "A value is trying to be set on a copy of a slice from a DataFrame.\n",
      "Try using .loc[row_indexer,col_indexer] = value instead\n",
      "\n",
      "See the caveats in the documentation: https://pandas.pydata.org/pandas-docs/stable/user_guide/indexing.html#returning-a-view-versus-a-copy\n",
      "  medistream_prediction_preprop_df['date_created'] = pd.to_datetime(medistream_prediction_preprop_df['date_created'])\n"
     ]
    },
    {
     "data": {
      "application/vnd.jupyter.widget-view+json": {
       "model_id": "c4a2fe6868854636ac10657d3b468b41",
       "version_major": 2,
       "version_minor": 0
      },
      "text/plain": [
       "  0%|          | 0/50 [00:00<?, ?it/s]"
      ]
     },
     "metadata": {},
     "output_type": "display_data"
    },
    {
     "data": {
      "application/vnd.jupyter.widget-view+json": {
       "model_id": "47261c57f77b4ac79fb410282eb1e276",
       "version_major": 2,
       "version_minor": 0
      },
      "text/plain": [
       "  0%|          | 0/20 [00:00<?, ?it/s]"
      ]
     },
     "metadata": {},
     "output_type": "display_data"
    },
    {
     "name": "stderr",
     "output_type": "stream",
     "text": [
      "\r",
      "7it [25:53, 228.60s/it]"
     ]
    },
    {
     "name": "stdout",
     "output_type": "stream",
     "text": [
      "train 총 기간: 30 days 21:41:57.597000\n",
      "test 총 기간: 0 days 17:54:30.909000\n"
     ]
    },
    {
     "name": "stderr",
     "output_type": "stream",
     "text": [
      "<ipython-input-8-b3ae7dbb3584>:64: SettingWithCopyWarning: \n",
      "A value is trying to be set on a copy of a slice from a DataFrame.\n",
      "Try using .loc[row_indexer,col_indexer] = value instead\n",
      "\n",
      "See the caveats in the documentation: https://pandas.pydata.org/pandas-docs/stable/user_guide/indexing.html#returning-a-view-versus-a-copy\n",
      "  medistream_prediction_preprop_df['date_created'] = pd.to_datetime(medistream_prediction_preprop_df['date_created'])\n"
     ]
    },
    {
     "data": {
      "application/vnd.jupyter.widget-view+json": {
       "model_id": "b193a9db4dfa4551ab60d76396d15f00",
       "version_major": 2,
       "version_minor": 0
      },
      "text/plain": [
       "  0%|          | 0/50 [00:00<?, ?it/s]"
      ]
     },
     "metadata": {},
     "output_type": "display_data"
    },
    {
     "data": {
      "application/vnd.jupyter.widget-view+json": {
       "model_id": "cc7b71c8dab4474dad80f924edf5c5a1",
       "version_major": 2,
       "version_minor": 0
      },
      "text/plain": [
       "  0%|          | 0/20 [00:00<?, ?it/s]"
      ]
     },
     "metadata": {},
     "output_type": "display_data"
    },
    {
     "name": "stderr",
     "output_type": "stream",
     "text": [
      "\r",
      "8it [29:40, 228.17s/it]"
     ]
    },
    {
     "name": "stdout",
     "output_type": "stream",
     "text": [
      "train 총 기간: 30 days 10:14:30.772000\n",
      "test 총 기간: 0 days 21:52:14.628000\n"
     ]
    },
    {
     "name": "stderr",
     "output_type": "stream",
     "text": [
      "<ipython-input-8-b3ae7dbb3584>:64: SettingWithCopyWarning: \n",
      "A value is trying to be set on a copy of a slice from a DataFrame.\n",
      "Try using .loc[row_indexer,col_indexer] = value instead\n",
      "\n",
      "See the caveats in the documentation: https://pandas.pydata.org/pandas-docs/stable/user_guide/indexing.html#returning-a-view-versus-a-copy\n",
      "  medistream_prediction_preprop_df['date_created'] = pd.to_datetime(medistream_prediction_preprop_df['date_created'])\n"
     ]
    },
    {
     "data": {
      "application/vnd.jupyter.widget-view+json": {
       "model_id": "c12ca804bebc4aa9b1bf98dcefef6713",
       "version_major": 2,
       "version_minor": 0
      },
      "text/plain": [
       "  0%|          | 0/50 [00:00<?, ?it/s]"
      ]
     },
     "metadata": {},
     "output_type": "display_data"
    },
    {
     "data": {
      "application/vnd.jupyter.widget-view+json": {
       "model_id": "5bca585dc9b449a9b7afb5efec4bf218",
       "version_major": 2,
       "version_minor": 0
      },
      "text/plain": [
       "  0%|          | 0/20 [00:00<?, ?it/s]"
      ]
     },
     "metadata": {},
     "output_type": "display_data"
    },
    {
     "name": "stderr",
     "output_type": "stream",
     "text": [
      "\r",
      "9it [33:20, 225.68s/it]"
     ]
    },
    {
     "name": "stdout",
     "output_type": "stream",
     "text": [
      "train 총 기간: 30 days 14:15:49.253000\n",
      "test 총 기간: 0 days 10:50:13.966000\n"
     ]
    },
    {
     "name": "stderr",
     "output_type": "stream",
     "text": [
      "<ipython-input-8-b3ae7dbb3584>:64: SettingWithCopyWarning: \n",
      "A value is trying to be set on a copy of a slice from a DataFrame.\n",
      "Try using .loc[row_indexer,col_indexer] = value instead\n",
      "\n",
      "See the caveats in the documentation: https://pandas.pydata.org/pandas-docs/stable/user_guide/indexing.html#returning-a-view-versus-a-copy\n",
      "  medistream_prediction_preprop_df['date_created'] = pd.to_datetime(medistream_prediction_preprop_df['date_created'])\n"
     ]
    },
    {
     "data": {
      "application/vnd.jupyter.widget-view+json": {
       "model_id": "c42994793bba4c08bda30d1b41c90aa7",
       "version_major": 2,
       "version_minor": 0
      },
      "text/plain": [
       "  0%|          | 0/50 [00:00<?, ?it/s]"
      ]
     },
     "metadata": {},
     "output_type": "display_data"
    },
    {
     "data": {
      "application/vnd.jupyter.widget-view+json": {
       "model_id": "4f3040804a61452cb59904a155c3e5b9",
       "version_major": 2,
       "version_minor": 0
      },
      "text/plain": [
       "  0%|          | 0/20 [00:00<?, ?it/s]"
      ]
     },
     "metadata": {},
     "output_type": "display_data"
    },
    {
     "name": "stderr",
     "output_type": "stream",
     "text": [
      "\r",
      "10it [36:56, 222.79s/it]"
     ]
    },
    {
     "name": "stdout",
     "output_type": "stream",
     "text": [
      "train 총 기간: 30 days 14:06:59.622000\n",
      "test 총 기간: 0 days 14:08:27.575000\n"
     ]
    },
    {
     "name": "stderr",
     "output_type": "stream",
     "text": [
      "<ipython-input-8-b3ae7dbb3584>:64: SettingWithCopyWarning: \n",
      "A value is trying to be set on a copy of a slice from a DataFrame.\n",
      "Try using .loc[row_indexer,col_indexer] = value instead\n",
      "\n",
      "See the caveats in the documentation: https://pandas.pydata.org/pandas-docs/stable/user_guide/indexing.html#returning-a-view-versus-a-copy\n",
      "  medistream_prediction_preprop_df['date_created'] = pd.to_datetime(medistream_prediction_preprop_df['date_created'])\n"
     ]
    },
    {
     "data": {
      "application/vnd.jupyter.widget-view+json": {
       "model_id": "6934fa4c67bd438a99db401f3404cc4f",
       "version_major": 2,
       "version_minor": 0
      },
      "text/plain": [
       "  0%|          | 0/50 [00:00<?, ?it/s]"
      ]
     },
     "metadata": {},
     "output_type": "display_data"
    },
    {
     "data": {
      "application/vnd.jupyter.widget-view+json": {
       "model_id": "6b96e6c0506844719e24d9eb6a6e8d1e",
       "version_major": 2,
       "version_minor": 0
      },
      "text/plain": [
       "  0%|          | 0/20 [00:00<?, ?it/s]"
      ]
     },
     "metadata": {},
     "output_type": "display_data"
    },
    {
     "name": "stderr",
     "output_type": "stream",
     "text": [
      "\r",
      "11it [40:29, 219.56s/it]"
     ]
    },
    {
     "name": "stdout",
     "output_type": "stream",
     "text": [
      "train 총 기간: 30 days 14:57:31.697000\n",
      "test 총 기간: 0 days 12:50:59.716000\n"
     ]
    },
    {
     "name": "stderr",
     "output_type": "stream",
     "text": [
      "<ipython-input-8-b3ae7dbb3584>:64: SettingWithCopyWarning: \n",
      "A value is trying to be set on a copy of a slice from a DataFrame.\n",
      "Try using .loc[row_indexer,col_indexer] = value instead\n",
      "\n",
      "See the caveats in the documentation: https://pandas.pydata.org/pandas-docs/stable/user_guide/indexing.html#returning-a-view-versus-a-copy\n",
      "  medistream_prediction_preprop_df['date_created'] = pd.to_datetime(medistream_prediction_preprop_df['date_created'])\n"
     ]
    },
    {
     "data": {
      "application/vnd.jupyter.widget-view+json": {
       "model_id": "d91356c45d264219ba6ab3ecf6a6d64e",
       "version_major": 2,
       "version_minor": 0
      },
      "text/plain": [
       "  0%|          | 0/50 [00:00<?, ?it/s]"
      ]
     },
     "metadata": {},
     "output_type": "display_data"
    },
    {
     "data": {
      "application/vnd.jupyter.widget-view+json": {
       "model_id": "fdbd8f04a375428fa0211dcd8c427fde",
       "version_major": 2,
       "version_minor": 0
      },
      "text/plain": [
       "  0%|          | 0/20 [00:00<?, ?it/s]"
      ]
     },
     "metadata": {},
     "output_type": "display_data"
    },
    {
     "name": "stderr",
     "output_type": "stream",
     "text": [
      "\r",
      "12it [44:11, 220.57s/it]"
     ]
    },
    {
     "name": "stdout",
     "output_type": "stream",
     "text": [
      "train 총 기간: 30 days 22:17:30.929000\n",
      "test 총 기간: 0 days 14:55:30.724000\n"
     ]
    },
    {
     "name": "stderr",
     "output_type": "stream",
     "text": [
      "<ipython-input-8-b3ae7dbb3584>:64: SettingWithCopyWarning: \n",
      "A value is trying to be set on a copy of a slice from a DataFrame.\n",
      "Try using .loc[row_indexer,col_indexer] = value instead\n",
      "\n",
      "See the caveats in the documentation: https://pandas.pydata.org/pandas-docs/stable/user_guide/indexing.html#returning-a-view-versus-a-copy\n",
      "  medistream_prediction_preprop_df['date_created'] = pd.to_datetime(medistream_prediction_preprop_df['date_created'])\n"
     ]
    },
    {
     "data": {
      "application/vnd.jupyter.widget-view+json": {
       "model_id": "7ce9723dc2c34b2b9507b22c89cb4075",
       "version_major": 2,
       "version_minor": 0
      },
      "text/plain": [
       "  0%|          | 0/50 [00:00<?, ?it/s]"
      ]
     },
     "metadata": {},
     "output_type": "display_data"
    },
    {
     "data": {
      "application/vnd.jupyter.widget-view+json": {
       "model_id": "598dd0874aa74a7e9eec16478ee943ef",
       "version_major": 2,
       "version_minor": 0
      },
      "text/plain": [
       "  0%|          | 0/20 [00:00<?, ?it/s]"
      ]
     },
     "metadata": {},
     "output_type": "display_data"
    },
    {
     "name": "stderr",
     "output_type": "stream",
     "text": [
      "\r",
      "13it [48:58, 240.60s/it]"
     ]
    },
    {
     "name": "stdout",
     "output_type": "stream",
     "text": [
      "train 총 기간: 30 days 16:43:20.009000\n",
      "test 총 기간: 0 days 22:01:47.993000\n"
     ]
    },
    {
     "name": "stderr",
     "output_type": "stream",
     "text": [
      "<ipython-input-8-b3ae7dbb3584>:64: SettingWithCopyWarning: \n",
      "A value is trying to be set on a copy of a slice from a DataFrame.\n",
      "Try using .loc[row_indexer,col_indexer] = value instead\n",
      "\n",
      "See the caveats in the documentation: https://pandas.pydata.org/pandas-docs/stable/user_guide/indexing.html#returning-a-view-versus-a-copy\n",
      "  medistream_prediction_preprop_df['date_created'] = pd.to_datetime(medistream_prediction_preprop_df['date_created'])\n"
     ]
    },
    {
     "data": {
      "application/vnd.jupyter.widget-view+json": {
       "model_id": "9aa5629404e14817bb59185b41a2c976",
       "version_major": 2,
       "version_minor": 0
      },
      "text/plain": [
       "  0%|          | 0/50 [00:00<?, ?it/s]"
      ]
     },
     "metadata": {},
     "output_type": "display_data"
    },
    {
     "data": {
      "application/vnd.jupyter.widget-view+json": {
       "model_id": "b4c5d1f2fc034b4eb33fe0a838fa8263",
       "version_major": 2,
       "version_minor": 0
      },
      "text/plain": [
       "  0%|          | 0/20 [00:00<?, ?it/s]"
      ]
     },
     "metadata": {},
     "output_type": "display_data"
    },
    {
     "name": "stderr",
     "output_type": "stream",
     "text": [
      "\r",
      "14it [53:01, 241.30s/it]"
     ]
    },
    {
     "name": "stdout",
     "output_type": "stream",
     "text": [
      "train 총 기간: 30 days 23:13:56.153000\n",
      "test 총 기간: 0 days 17:13:15.067000\n"
     ]
    },
    {
     "name": "stderr",
     "output_type": "stream",
     "text": [
      "<ipython-input-8-b3ae7dbb3584>:64: SettingWithCopyWarning: \n",
      "A value is trying to be set on a copy of a slice from a DataFrame.\n",
      "Try using .loc[row_indexer,col_indexer] = value instead\n",
      "\n",
      "See the caveats in the documentation: https://pandas.pydata.org/pandas-docs/stable/user_guide/indexing.html#returning-a-view-versus-a-copy\n",
      "  medistream_prediction_preprop_df['date_created'] = pd.to_datetime(medistream_prediction_preprop_df['date_created'])\n"
     ]
    },
    {
     "data": {
      "application/vnd.jupyter.widget-view+json": {
       "model_id": "ca8902a369ca46d38fd6e60e4a1705af",
       "version_major": 2,
       "version_minor": 0
      },
      "text/plain": [
       "  0%|          | 0/50 [00:00<?, ?it/s]"
      ]
     },
     "metadata": {},
     "output_type": "display_data"
    },
    {
     "data": {
      "application/vnd.jupyter.widget-view+json": {
       "model_id": "419a33af967b477f91f8157ea47c8680",
       "version_major": 2,
       "version_minor": 0
      },
      "text/plain": [
       "  0%|          | 0/20 [00:00<?, ?it/s]"
      ]
     },
     "metadata": {},
     "output_type": "display_data"
    },
    {
     "name": "stderr",
     "output_type": "stream",
     "text": [
      "\r",
      "15it [57:45, 254.22s/it]"
     ]
    },
    {
     "name": "stdout",
     "output_type": "stream",
     "text": [
      "train 총 기간: 30 days 13:04:11\n",
      "test 총 기간: 0 days 23:10:01.979000\n"
     ]
    },
    {
     "name": "stderr",
     "output_type": "stream",
     "text": [
      "<ipython-input-8-b3ae7dbb3584>:64: SettingWithCopyWarning: \n",
      "A value is trying to be set on a copy of a slice from a DataFrame.\n",
      "Try using .loc[row_indexer,col_indexer] = value instead\n",
      "\n",
      "See the caveats in the documentation: https://pandas.pydata.org/pandas-docs/stable/user_guide/indexing.html#returning-a-view-versus-a-copy\n",
      "  medistream_prediction_preprop_df['date_created'] = pd.to_datetime(medistream_prediction_preprop_df['date_created'])\n"
     ]
    },
    {
     "data": {
      "application/vnd.jupyter.widget-view+json": {
       "model_id": "b43af2ff30f04233861d941abe4be387",
       "version_major": 2,
       "version_minor": 0
      },
      "text/plain": [
       "  0%|          | 0/50 [00:00<?, ?it/s]"
      ]
     },
     "metadata": {},
     "output_type": "display_data"
    },
    {
     "data": {
      "application/vnd.jupyter.widget-view+json": {
       "model_id": "1dda64c81e0044efb7a316da1efc54c4",
       "version_major": 2,
       "version_minor": 0
      },
      "text/plain": [
       "  0%|          | 0/20 [00:00<?, ?it/s]"
      ]
     },
     "metadata": {},
     "output_type": "display_data"
    },
    {
     "name": "stderr",
     "output_type": "stream",
     "text": [
      "\r",
      "16it [1:01:17, 241.60s/it]"
     ]
    },
    {
     "name": "stdout",
     "output_type": "stream",
     "text": [
      "train 총 기간: 30 days 16:11:43.794000\n",
      "test 총 기간: 0 days 14:46:55.481000\n"
     ]
    },
    {
     "name": "stderr",
     "output_type": "stream",
     "text": [
      "<ipython-input-8-b3ae7dbb3584>:64: SettingWithCopyWarning: \n",
      "A value is trying to be set on a copy of a slice from a DataFrame.\n",
      "Try using .loc[row_indexer,col_indexer] = value instead\n",
      "\n",
      "See the caveats in the documentation: https://pandas.pydata.org/pandas-docs/stable/user_guide/indexing.html#returning-a-view-versus-a-copy\n",
      "  medistream_prediction_preprop_df['date_created'] = pd.to_datetime(medistream_prediction_preprop_df['date_created'])\n"
     ]
    },
    {
     "data": {
      "application/vnd.jupyter.widget-view+json": {
       "model_id": "f7a2364bd4c64148b45d815167ddbe85",
       "version_major": 2,
       "version_minor": 0
      },
      "text/plain": [
       "  0%|          | 0/50 [00:00<?, ?it/s]"
      ]
     },
     "metadata": {},
     "output_type": "display_data"
    },
    {
     "data": {
      "application/vnd.jupyter.widget-view+json": {
       "model_id": "793b21c35e844f758c4dd890b8c0f64e",
       "version_major": 2,
       "version_minor": 0
      },
      "text/plain": [
       "  0%|          | 0/20 [00:00<?, ?it/s]"
      ]
     },
     "metadata": {},
     "output_type": "display_data"
    },
    {
     "name": "stderr",
     "output_type": "stream",
     "text": [
      "\r",
      "17it [1:04:52, 233.43s/it]"
     ]
    },
    {
     "name": "stdout",
     "output_type": "stream",
     "text": [
      "train 총 기간: 30 days 23:44:31.889000\n",
      "test 총 기간: 0 days 15:15:03.304000\n"
     ]
    },
    {
     "name": "stderr",
     "output_type": "stream",
     "text": [
      "<ipython-input-8-b3ae7dbb3584>:64: SettingWithCopyWarning: \n",
      "A value is trying to be set on a copy of a slice from a DataFrame.\n",
      "Try using .loc[row_indexer,col_indexer] = value instead\n",
      "\n",
      "See the caveats in the documentation: https://pandas.pydata.org/pandas-docs/stable/user_guide/indexing.html#returning-a-view-versus-a-copy\n",
      "  medistream_prediction_preprop_df['date_created'] = pd.to_datetime(medistream_prediction_preprop_df['date_created'])\n"
     ]
    },
    {
     "data": {
      "application/vnd.jupyter.widget-view+json": {
       "model_id": "8301bfbdcb404f1481e6cfd4814b4f72",
       "version_major": 2,
       "version_minor": 0
      },
      "text/plain": [
       "  0%|          | 0/50 [00:00<?, ?it/s]"
      ]
     },
     "metadata": {},
     "output_type": "display_data"
    },
    {
     "data": {
      "application/vnd.jupyter.widget-view+json": {
       "model_id": "49e3744b7a344cc688330665b99fb90b",
       "version_major": 2,
       "version_minor": 0
      },
      "text/plain": [
       "  0%|          | 0/20 [00:00<?, ?it/s]"
      ]
     },
     "metadata": {},
     "output_type": "display_data"
    },
    {
     "name": "stderr",
     "output_type": "stream",
     "text": [
      "\r",
      "18it [1:08:32, 229.30s/it]"
     ]
    },
    {
     "name": "stdout",
     "output_type": "stream",
     "text": [
      "train 총 기간: 30 days 23:14:54.735000\n",
      "test 총 기간: 0 days 23:44:50.763000\n"
     ]
    },
    {
     "name": "stderr",
     "output_type": "stream",
     "text": [
      "<ipython-input-8-b3ae7dbb3584>:64: SettingWithCopyWarning: \n",
      "A value is trying to be set on a copy of a slice from a DataFrame.\n",
      "Try using .loc[row_indexer,col_indexer] = value instead\n",
      "\n",
      "See the caveats in the documentation: https://pandas.pydata.org/pandas-docs/stable/user_guide/indexing.html#returning-a-view-versus-a-copy\n",
      "  medistream_prediction_preprop_df['date_created'] = pd.to_datetime(medistream_prediction_preprop_df['date_created'])\n"
     ]
    },
    {
     "data": {
      "application/vnd.jupyter.widget-view+json": {
       "model_id": "f04900301c4d4577af21be7a7cfb5a18",
       "version_major": 2,
       "version_minor": 0
      },
      "text/plain": [
       "  0%|          | 0/50 [00:00<?, ?it/s]"
      ]
     },
     "metadata": {},
     "output_type": "display_data"
    },
    {
     "data": {
      "application/vnd.jupyter.widget-view+json": {
       "model_id": "b85ae6ff58ef4eb8952821bdf4476876",
       "version_major": 2,
       "version_minor": 0
      },
      "text/plain": [
       "  0%|          | 0/20 [00:00<?, ?it/s]"
      ]
     },
     "metadata": {},
     "output_type": "display_data"
    },
    {
     "name": "stderr",
     "output_type": "stream",
     "text": [
      "\r",
      "19it [1:12:21, 229.41s/it]"
     ]
    },
    {
     "name": "stdout",
     "output_type": "stream",
     "text": [
      "train 총 기간: 30 days 23:34:38.037000\n",
      "test 총 기간: 0 days 23:18:49.452000\n"
     ]
    },
    {
     "name": "stderr",
     "output_type": "stream",
     "text": [
      "<ipython-input-8-b3ae7dbb3584>:64: SettingWithCopyWarning: \n",
      "A value is trying to be set on a copy of a slice from a DataFrame.\n",
      "Try using .loc[row_indexer,col_indexer] = value instead\n",
      "\n",
      "See the caveats in the documentation: https://pandas.pydata.org/pandas-docs/stable/user_guide/indexing.html#returning-a-view-versus-a-copy\n",
      "  medistream_prediction_preprop_df['date_created'] = pd.to_datetime(medistream_prediction_preprop_df['date_created'])\n"
     ]
    },
    {
     "data": {
      "application/vnd.jupyter.widget-view+json": {
       "model_id": "c160771674454590926a2b225caf7b7b",
       "version_major": 2,
       "version_minor": 0
      },
      "text/plain": [
       "  0%|          | 0/50 [00:00<?, ?it/s]"
      ]
     },
     "metadata": {},
     "output_type": "display_data"
    },
    {
     "data": {
      "application/vnd.jupyter.widget-view+json": {
       "model_id": "888b4f293ddf4da7bab35063ff29f1d6",
       "version_major": 2,
       "version_minor": 0
      },
      "text/plain": [
       "  0%|          | 0/20 [00:00<?, ?it/s]"
      ]
     },
     "metadata": {},
     "output_type": "display_data"
    },
    {
     "name": "stderr",
     "output_type": "stream",
     "text": [
      "\r",
      "20it [1:16:05, 227.63s/it]"
     ]
    },
    {
     "name": "stdout",
     "output_type": "stream",
     "text": [
      "train 총 기간: 30 days 13:28:55.144000\n",
      "test 총 기간: 0 days 23:24:35.809000\n"
     ]
    },
    {
     "name": "stderr",
     "output_type": "stream",
     "text": [
      "<ipython-input-8-b3ae7dbb3584>:64: SettingWithCopyWarning: \n",
      "A value is trying to be set on a copy of a slice from a DataFrame.\n",
      "Try using .loc[row_indexer,col_indexer] = value instead\n",
      "\n",
      "See the caveats in the documentation: https://pandas.pydata.org/pandas-docs/stable/user_guide/indexing.html#returning-a-view-versus-a-copy\n",
      "  medistream_prediction_preprop_df['date_created'] = pd.to_datetime(medistream_prediction_preprop_df['date_created'])\n"
     ]
    },
    {
     "data": {
      "application/vnd.jupyter.widget-view+json": {
       "model_id": "98ad9ebfaff146139e6389b3d306941d",
       "version_major": 2,
       "version_minor": 0
      },
      "text/plain": [
       "  0%|          | 0/50 [00:00<?, ?it/s]"
      ]
     },
     "metadata": {},
     "output_type": "display_data"
    },
    {
     "data": {
      "application/vnd.jupyter.widget-view+json": {
       "model_id": "729247753191437db7f767845dd30099",
       "version_major": 2,
       "version_minor": 0
      },
      "text/plain": [
       "  0%|          | 0/20 [00:00<?, ?it/s]"
      ]
     },
     "metadata": {},
     "output_type": "display_data"
    },
    {
     "name": "stderr",
     "output_type": "stream",
     "text": [
      "\r",
      "21it [1:20:07, 231.97s/it]"
     ]
    },
    {
     "name": "stdout",
     "output_type": "stream",
     "text": [
      "train 총 기간: 30 days 15:45:45.643000\n",
      "test 총 기간: 0 days 13:49:59\n"
     ]
    },
    {
     "name": "stderr",
     "output_type": "stream",
     "text": [
      "<ipython-input-8-b3ae7dbb3584>:64: SettingWithCopyWarning: \n",
      "A value is trying to be set on a copy of a slice from a DataFrame.\n",
      "Try using .loc[row_indexer,col_indexer] = value instead\n",
      "\n",
      "See the caveats in the documentation: https://pandas.pydata.org/pandas-docs/stable/user_guide/indexing.html#returning-a-view-versus-a-copy\n",
      "  medistream_prediction_preprop_df['date_created'] = pd.to_datetime(medistream_prediction_preprop_df['date_created'])\n"
     ]
    },
    {
     "data": {
      "application/vnd.jupyter.widget-view+json": {
       "model_id": "05bf49edbcc84be6bf03332536b019c5",
       "version_major": 2,
       "version_minor": 0
      },
      "text/plain": [
       "  0%|          | 0/50 [00:00<?, ?it/s]"
      ]
     },
     "metadata": {},
     "output_type": "display_data"
    },
    {
     "data": {
      "application/vnd.jupyter.widget-view+json": {
       "model_id": "6113d3a3999344389c3a2477dd6a1f26",
       "version_major": 2,
       "version_minor": 0
      },
      "text/plain": [
       "  0%|          | 0/20 [00:00<?, ?it/s]"
      ]
     },
     "metadata": {},
     "output_type": "display_data"
    },
    {
     "name": "stderr",
     "output_type": "stream",
     "text": [
      "22it [1:25:59, 234.51s/it]"
     ]
    },
    {
     "name": "stdout",
     "output_type": "stream",
     "text": [
      "train 총 기간: 30 days 13:24:33.190000\n",
      "test 총 기간: 0 days 20:54:19.574000\n"
     ]
    },
    {
     "name": "stderr",
     "output_type": "stream",
     "text": [
      "\n"
     ]
    },
    {
     "data": {
      "text/html": [
       "<div>\n",
       "<style scoped>\n",
       "    .dataframe tbody tr th:only-of-type {\n",
       "        vertical-align: middle;\n",
       "    }\n",
       "\n",
       "    .dataframe tbody tr th {\n",
       "        vertical-align: top;\n",
       "    }\n",
       "\n",
       "    .dataframe thead th {\n",
       "        text-align: right;\n",
       "    }\n",
       "</style>\n",
       "<table border=\"1\" class=\"dataframe\">\n",
       "  <thead>\n",
       "    <tr style=\"text-align: right;\">\n",
       "      <th></th>\n",
       "      <th>first_day</th>\n",
       "      <th>last_day</th>\n",
       "      <th>train_데이터수</th>\n",
       "      <th>train_유저수</th>\n",
       "      <th>test_데이터수</th>\n",
       "      <th>test_유저수</th>\n",
       "      <th>test_신규유저수</th>\n",
       "      <th>test_신규아이템수</th>\n",
       "      <th>원본_test수</th>\n",
       "      <th>전처리진행test수</th>\n",
       "      <th>als_mf</th>\n",
       "      <th>lmf</th>\n",
       "      <th>mp</th>\n",
       "      <th>medi_popular</th>\n",
       "      <th>latest</th>\n",
       "      <th>oldest</th>\n",
       "      <th>high_price</th>\n",
       "      <th>low_price</th>\n",
       "      <th>name_sort</th>\n",
       "      <th>als_mf_entropy</th>\n",
       "      <th>lmf_entropy</th>\n",
       "      <th>mp_entropy</th>\n",
       "      <th>medi_popular_entropy</th>\n",
       "      <th>latest_entropy</th>\n",
       "      <th>oldest_entropy</th>\n",
       "      <th>high_price_entropy</th>\n",
       "      <th>low_price_entropy</th>\n",
       "      <th>name_sort_entropy</th>\n",
       "    </tr>\n",
       "  </thead>\n",
       "  <tbody>\n",
       "    <tr>\n",
       "      <th>0</th>\n",
       "      <td>2022-08-13 2022-09-12</td>\n",
       "      <td>2022-09-13 2022-09-13</td>\n",
       "      <td>1212</td>\n",
       "      <td>869</td>\n",
       "      <td>16</td>\n",
       "      <td>13</td>\n",
       "      <td>8</td>\n",
       "      <td>1</td>\n",
       "      <td>16</td>\n",
       "      <td>15</td>\n",
       "      <td>0.353550</td>\n",
       "      <td>0.338572</td>\n",
       "      <td>0.296450</td>\n",
       "      <td>0.216167</td>\n",
       "      <td>0.142202</td>\n",
       "      <td>0.156531</td>\n",
       "      <td>0.111285</td>\n",
       "      <td>0.128103</td>\n",
       "      <td>0.186616</td>\n",
       "      <td>4.916165</td>\n",
       "      <td>4.893878</td>\n",
       "      <td>4.612341</td>\n",
       "      <td>4.60517</td>\n",
       "      <td>4.60517</td>\n",
       "      <td>4.60517</td>\n",
       "      <td>4.60517</td>\n",
       "      <td>4.60517</td>\n",
       "      <td>4.60517</td>\n",
       "    </tr>\n",
       "    <tr>\n",
       "      <th>1</th>\n",
       "      <td>2022-08-12 2022-09-11</td>\n",
       "      <td>2022-09-12 2022-09-12</td>\n",
       "      <td>1229</td>\n",
       "      <td>872</td>\n",
       "      <td>15</td>\n",
       "      <td>11</td>\n",
       "      <td>9</td>\n",
       "      <td>1</td>\n",
       "      <td>15</td>\n",
       "      <td>14</td>\n",
       "      <td>0.262005</td>\n",
       "      <td>0.281450</td>\n",
       "      <td>0.254012</td>\n",
       "      <td>0.281336</td>\n",
       "      <td>0.065337</td>\n",
       "      <td>0.163230</td>\n",
       "      <td>0.183660</td>\n",
       "      <td>0.078122</td>\n",
       "      <td>0.125741</td>\n",
       "      <td>4.837213</td>\n",
       "      <td>4.812226</td>\n",
       "      <td>4.616095</td>\n",
       "      <td>4.60517</td>\n",
       "      <td>4.60517</td>\n",
       "      <td>4.60517</td>\n",
       "      <td>4.60517</td>\n",
       "      <td>4.60517</td>\n",
       "      <td>4.60517</td>\n",
       "    </tr>\n",
       "    <tr>\n",
       "      <th>2</th>\n",
       "      <td>2022-08-11 2022-09-10</td>\n",
       "      <td>2022-09-11 2022-09-11</td>\n",
       "      <td>1262</td>\n",
       "      <td>879</td>\n",
       "      <td>4</td>\n",
       "      <td>2</td>\n",
       "      <td>2</td>\n",
       "      <td>1</td>\n",
       "      <td>4</td>\n",
       "      <td>3</td>\n",
       "      <td>0.255478</td>\n",
       "      <td>0.255478</td>\n",
       "      <td>0.255478</td>\n",
       "      <td>0.425172</td>\n",
       "      <td>0.133036</td>\n",
       "      <td>0.097945</td>\n",
       "      <td>0.046451</td>\n",
       "      <td>0.184278</td>\n",
       "      <td>0.115196</td>\n",
       "      <td>4.605170</td>\n",
       "      <td>4.605170</td>\n",
       "      <td>4.605170</td>\n",
       "      <td>4.60517</td>\n",
       "      <td>4.60517</td>\n",
       "      <td>4.60517</td>\n",
       "      <td>4.60517</td>\n",
       "      <td>4.60517</td>\n",
       "      <td>4.60517</td>\n",
       "    </tr>\n",
       "    <tr>\n",
       "      <th>3</th>\n",
       "      <td>2022-08-10 2022-09-09</td>\n",
       "      <td>2022-09-10 2022-09-10</td>\n",
       "      <td>1306</td>\n",
       "      <td>902</td>\n",
       "      <td>2</td>\n",
       "      <td>1</td>\n",
       "      <td>0</td>\n",
       "      <td>0</td>\n",
       "      <td>2</td>\n",
       "      <td>2</td>\n",
       "      <td>0.249733</td>\n",
       "      <td>0.265580</td>\n",
       "      <td>0.214430</td>\n",
       "      <td>0.233596</td>\n",
       "      <td>0.000000</td>\n",
       "      <td>0.229346</td>\n",
       "      <td>0.112996</td>\n",
       "      <td>0.135545</td>\n",
       "      <td>0.106056</td>\n",
       "      <td>4.605170</td>\n",
       "      <td>4.605170</td>\n",
       "      <td>4.605170</td>\n",
       "      <td>4.60517</td>\n",
       "      <td>4.60517</td>\n",
       "      <td>4.60517</td>\n",
       "      <td>4.60517</td>\n",
       "      <td>4.60517</td>\n",
       "      <td>4.60517</td>\n",
       "    </tr>\n",
       "    <tr>\n",
       "      <th>4</th>\n",
       "      <td>2022-08-09 2022-09-08</td>\n",
       "      <td>2022-09-09 2022-09-09</td>\n",
       "      <td>1363</td>\n",
       "      <td>921</td>\n",
       "      <td>6</td>\n",
       "      <td>4</td>\n",
       "      <td>1</td>\n",
       "      <td>2</td>\n",
       "      <td>6</td>\n",
       "      <td>4</td>\n",
       "      <td>0.198809</td>\n",
       "      <td>0.130982</td>\n",
       "      <td>0.114730</td>\n",
       "      <td>0.139993</td>\n",
       "      <td>0.065012</td>\n",
       "      <td>0.224884</td>\n",
       "      <td>0.150790</td>\n",
       "      <td>0.065254</td>\n",
       "      <td>0.025094</td>\n",
       "      <td>5.061256</td>\n",
       "      <td>5.037913</td>\n",
       "      <td>4.618575</td>\n",
       "      <td>4.60517</td>\n",
       "      <td>4.60517</td>\n",
       "      <td>4.60517</td>\n",
       "      <td>4.60517</td>\n",
       "      <td>4.60517</td>\n",
       "      <td>4.60517</td>\n",
       "    </tr>\n",
       "    <tr>\n",
       "      <th>5</th>\n",
       "      <td>2022-08-08 2022-09-07</td>\n",
       "      <td>2022-09-08 2022-09-08</td>\n",
       "      <td>1286</td>\n",
       "      <td>859</td>\n",
       "      <td>99</td>\n",
       "      <td>81</td>\n",
       "      <td>67</td>\n",
       "      <td>5</td>\n",
       "      <td>99</td>\n",
       "      <td>94</td>\n",
       "      <td>0.494561</td>\n",
       "      <td>0.583995</td>\n",
       "      <td>0.581955</td>\n",
       "      <td>0.396995</td>\n",
       "      <td>0.406119</td>\n",
       "      <td>0.048871</td>\n",
       "      <td>0.145521</td>\n",
       "      <td>0.157057</td>\n",
       "      <td>0.154866</td>\n",
       "      <td>4.840746</td>\n",
       "      <td>4.809365</td>\n",
       "      <td>4.621257</td>\n",
       "      <td>4.60517</td>\n",
       "      <td>4.60517</td>\n",
       "      <td>4.60517</td>\n",
       "      <td>4.60517</td>\n",
       "      <td>4.60517</td>\n",
       "      <td>4.60517</td>\n",
       "    </tr>\n",
       "    <tr>\n",
       "      <th>6</th>\n",
       "      <td>2022-08-07 2022-09-06</td>\n",
       "      <td>2022-09-07 2022-09-07</td>\n",
       "      <td>1275</td>\n",
       "      <td>853</td>\n",
       "      <td>33</td>\n",
       "      <td>22</td>\n",
       "      <td>13</td>\n",
       "      <td>3</td>\n",
       "      <td>33</td>\n",
       "      <td>30</td>\n",
       "      <td>0.293131</td>\n",
       "      <td>0.401472</td>\n",
       "      <td>0.364429</td>\n",
       "      <td>0.302510</td>\n",
       "      <td>0.166077</td>\n",
       "      <td>0.154527</td>\n",
       "      <td>0.103156</td>\n",
       "      <td>0.183597</td>\n",
       "      <td>0.113703</td>\n",
       "      <td>4.973831</td>\n",
       "      <td>4.944066</td>\n",
       "      <td>4.612595</td>\n",
       "      <td>4.60517</td>\n",
       "      <td>4.60517</td>\n",
       "      <td>4.60517</td>\n",
       "      <td>4.60517</td>\n",
       "      <td>4.60517</td>\n",
       "      <td>4.60517</td>\n",
       "    </tr>\n",
       "    <tr>\n",
       "      <th>7</th>\n",
       "      <td>2022-08-06 2022-09-05</td>\n",
       "      <td>2022-09-06 2022-09-06</td>\n",
       "      <td>1230</td>\n",
       "      <td>831</td>\n",
       "      <td>58</td>\n",
       "      <td>50</td>\n",
       "      <td>28</td>\n",
       "      <td>1</td>\n",
       "      <td>58</td>\n",
       "      <td>20</td>\n",
       "      <td>0.113630</td>\n",
       "      <td>0.126646</td>\n",
       "      <td>0.114224</td>\n",
       "      <td>0.111575</td>\n",
       "      <td>0.086616</td>\n",
       "      <td>0.011297</td>\n",
       "      <td>0.030361</td>\n",
       "      <td>0.043933</td>\n",
       "      <td>0.033004</td>\n",
       "      <td>4.997683</td>\n",
       "      <td>4.959772</td>\n",
       "      <td>4.623511</td>\n",
       "      <td>4.60517</td>\n",
       "      <td>4.60517</td>\n",
       "      <td>4.60517</td>\n",
       "      <td>4.60517</td>\n",
       "      <td>4.60517</td>\n",
       "      <td>4.60517</td>\n",
       "    </tr>\n",
       "    <tr>\n",
       "      <th>8</th>\n",
       "      <td>2022-08-05 2022-09-04</td>\n",
       "      <td>2022-09-05 2022-09-05</td>\n",
       "      <td>1228</td>\n",
       "      <td>831</td>\n",
       "      <td>25</td>\n",
       "      <td>19</td>\n",
       "      <td>15</td>\n",
       "      <td>2</td>\n",
       "      <td>25</td>\n",
       "      <td>23</td>\n",
       "      <td>0.390747</td>\n",
       "      <td>0.360060</td>\n",
       "      <td>0.338807</td>\n",
       "      <td>0.323696</td>\n",
       "      <td>0.204135</td>\n",
       "      <td>0.105226</td>\n",
       "      <td>0.117397</td>\n",
       "      <td>0.150745</td>\n",
       "      <td>0.145788</td>\n",
       "      <td>4.868604</td>\n",
       "      <td>4.833350</td>\n",
       "      <td>4.613894</td>\n",
       "      <td>4.60517</td>\n",
       "      <td>4.60517</td>\n",
       "      <td>4.60517</td>\n",
       "      <td>4.60517</td>\n",
       "      <td>4.60517</td>\n",
       "      <td>4.60517</td>\n",
       "    </tr>\n",
       "    <tr>\n",
       "      <th>9</th>\n",
       "      <td>2022-08-04 2022-09-03</td>\n",
       "      <td>2022-09-04 2022-09-04</td>\n",
       "      <td>1309</td>\n",
       "      <td>890</td>\n",
       "      <td>20</td>\n",
       "      <td>15</td>\n",
       "      <td>12</td>\n",
       "      <td>0</td>\n",
       "      <td>20</td>\n",
       "      <td>20</td>\n",
       "      <td>0.295990</td>\n",
       "      <td>0.304810</td>\n",
       "      <td>0.274540</td>\n",
       "      <td>0.272593</td>\n",
       "      <td>0.165423</td>\n",
       "      <td>0.218156</td>\n",
       "      <td>0.204768</td>\n",
       "      <td>0.070634</td>\n",
       "      <td>0.143932</td>\n",
       "      <td>4.871124</td>\n",
       "      <td>4.848534</td>\n",
       "      <td>4.619446</td>\n",
       "      <td>4.60517</td>\n",
       "      <td>4.60517</td>\n",
       "      <td>4.60517</td>\n",
       "      <td>4.60517</td>\n",
       "      <td>4.60517</td>\n",
       "      <td>4.60517</td>\n",
       "    </tr>\n",
       "    <tr>\n",
       "      <th>10</th>\n",
       "      <td>2022-08-03 2022-09-02</td>\n",
       "      <td>2022-09-03 2022-09-03</td>\n",
       "      <td>1336</td>\n",
       "      <td>894</td>\n",
       "      <td>12</td>\n",
       "      <td>11</td>\n",
       "      <td>8</td>\n",
       "      <td>1</td>\n",
       "      <td>12</td>\n",
       "      <td>11</td>\n",
       "      <td>0.420457</td>\n",
       "      <td>0.415419</td>\n",
       "      <td>0.357200</td>\n",
       "      <td>0.413206</td>\n",
       "      <td>0.221313</td>\n",
       "      <td>0.075809</td>\n",
       "      <td>0.121266</td>\n",
       "      <td>0.117930</td>\n",
       "      <td>0.061180</td>\n",
       "      <td>4.933188</td>\n",
       "      <td>4.888960</td>\n",
       "      <td>4.620320</td>\n",
       "      <td>4.60517</td>\n",
       "      <td>4.60517</td>\n",
       "      <td>4.60517</td>\n",
       "      <td>4.60517</td>\n",
       "      <td>4.60517</td>\n",
       "      <td>4.60517</td>\n",
       "    </tr>\n",
       "    <tr>\n",
       "      <th>11</th>\n",
       "      <td>2022-08-02 2022-09-01</td>\n",
       "      <td>2022-09-02 2022-09-02</td>\n",
       "      <td>1342</td>\n",
       "      <td>904</td>\n",
       "      <td>37</td>\n",
       "      <td>23</td>\n",
       "      <td>18</td>\n",
       "      <td>4</td>\n",
       "      <td>37</td>\n",
       "      <td>33</td>\n",
       "      <td>0.247578</td>\n",
       "      <td>0.239378</td>\n",
       "      <td>0.226899</td>\n",
       "      <td>0.201607</td>\n",
       "      <td>0.170560</td>\n",
       "      <td>0.118254</td>\n",
       "      <td>0.133509</td>\n",
       "      <td>0.101306</td>\n",
       "      <td>0.102175</td>\n",
       "      <td>4.881380</td>\n",
       "      <td>4.845569</td>\n",
       "      <td>4.620722</td>\n",
       "      <td>4.60517</td>\n",
       "      <td>4.60517</td>\n",
       "      <td>4.60517</td>\n",
       "      <td>4.60517</td>\n",
       "      <td>4.60517</td>\n",
       "      <td>4.60517</td>\n",
       "    </tr>\n",
       "    <tr>\n",
       "      <th>12</th>\n",
       "      <td>2022-08-01 2022-08-31</td>\n",
       "      <td>2022-09-01 2022-09-01</td>\n",
       "      <td>1275</td>\n",
       "      <td>845</td>\n",
       "      <td>131</td>\n",
       "      <td>108</td>\n",
       "      <td>90</td>\n",
       "      <td>5</td>\n",
       "      <td>131</td>\n",
       "      <td>126</td>\n",
       "      <td>0.714513</td>\n",
       "      <td>0.776669</td>\n",
       "      <td>0.803111</td>\n",
       "      <td>0.462363</td>\n",
       "      <td>0.625282</td>\n",
       "      <td>0.013704</td>\n",
       "      <td>0.044801</td>\n",
       "      <td>0.179293</td>\n",
       "      <td>0.040996</td>\n",
       "      <td>4.844560</td>\n",
       "      <td>4.810103</td>\n",
       "      <td>4.611734</td>\n",
       "      <td>4.60517</td>\n",
       "      <td>4.60517</td>\n",
       "      <td>4.60517</td>\n",
       "      <td>4.60517</td>\n",
       "      <td>4.60517</td>\n",
       "      <td>4.60517</td>\n",
       "    </tr>\n",
       "    <tr>\n",
       "      <th>13</th>\n",
       "      <td>2022-07-31 2022-08-30</td>\n",
       "      <td>2022-08-31 2022-08-31</td>\n",
       "      <td>1235</td>\n",
       "      <td>822</td>\n",
       "      <td>66</td>\n",
       "      <td>48</td>\n",
       "      <td>34</td>\n",
       "      <td>2</td>\n",
       "      <td>66</td>\n",
       "      <td>64</td>\n",
       "      <td>0.498652</td>\n",
       "      <td>0.582836</td>\n",
       "      <td>0.626800</td>\n",
       "      <td>0.437717</td>\n",
       "      <td>0.688653</td>\n",
       "      <td>0.036947</td>\n",
       "      <td>0.096290</td>\n",
       "      <td>0.169258</td>\n",
       "      <td>0.102857</td>\n",
       "      <td>4.946885</td>\n",
       "      <td>4.910183</td>\n",
       "      <td>4.622024</td>\n",
       "      <td>4.60517</td>\n",
       "      <td>4.60517</td>\n",
       "      <td>4.60517</td>\n",
       "      <td>4.60517</td>\n",
       "      <td>4.60517</td>\n",
       "      <td>4.60517</td>\n",
       "    </tr>\n",
       "    <tr>\n",
       "      <th>14</th>\n",
       "      <td>2022-07-30 2022-08-29</td>\n",
       "      <td>2022-08-30 2022-08-30</td>\n",
       "      <td>1113</td>\n",
       "      <td>730</td>\n",
       "      <td>127</td>\n",
       "      <td>119</td>\n",
       "      <td>97</td>\n",
       "      <td>3</td>\n",
       "      <td>127</td>\n",
       "      <td>32</td>\n",
       "      <td>0.129952</td>\n",
       "      <td>0.138304</td>\n",
       "      <td>0.140530</td>\n",
       "      <td>0.086879</td>\n",
       "      <td>0.130159</td>\n",
       "      <td>0.011000</td>\n",
       "      <td>0.015509</td>\n",
       "      <td>0.038304</td>\n",
       "      <td>0.013970</td>\n",
       "      <td>4.859130</td>\n",
       "      <td>4.832985</td>\n",
       "      <td>4.618051</td>\n",
       "      <td>4.60517</td>\n",
       "      <td>4.60517</td>\n",
       "      <td>4.60517</td>\n",
       "      <td>4.60517</td>\n",
       "      <td>4.60517</td>\n",
       "      <td>4.60517</td>\n",
       "    </tr>\n",
       "    <tr>\n",
       "      <th>15</th>\n",
       "      <td>2022-07-29 2022-08-28</td>\n",
       "      <td>2022-08-29 2022-08-29</td>\n",
       "      <td>1129</td>\n",
       "      <td>741</td>\n",
       "      <td>14</td>\n",
       "      <td>12</td>\n",
       "      <td>10</td>\n",
       "      <td>2</td>\n",
       "      <td>14</td>\n",
       "      <td>12</td>\n",
       "      <td>0.335269</td>\n",
       "      <td>0.341760</td>\n",
       "      <td>0.337497</td>\n",
       "      <td>0.289326</td>\n",
       "      <td>0.272029</td>\n",
       "      <td>0.064926</td>\n",
       "      <td>0.085933</td>\n",
       "      <td>0.116310</td>\n",
       "      <td>0.092900</td>\n",
       "      <td>4.839524</td>\n",
       "      <td>4.805405</td>\n",
       "      <td>4.612620</td>\n",
       "      <td>4.60517</td>\n",
       "      <td>4.60517</td>\n",
       "      <td>4.60517</td>\n",
       "      <td>4.60517</td>\n",
       "      <td>4.60517</td>\n",
       "      <td>4.60517</td>\n",
       "    </tr>\n",
       "    <tr>\n",
       "      <th>16</th>\n",
       "      <td>2022-07-28 2022-08-27</td>\n",
       "      <td>2022-08-28 2022-08-28</td>\n",
       "      <td>1328</td>\n",
       "      <td>868</td>\n",
       "      <td>17</td>\n",
       "      <td>10</td>\n",
       "      <td>7</td>\n",
       "      <td>1</td>\n",
       "      <td>17</td>\n",
       "      <td>16</td>\n",
       "      <td>0.405259</td>\n",
       "      <td>0.604177</td>\n",
       "      <td>0.569434</td>\n",
       "      <td>0.394703</td>\n",
       "      <td>0.524682</td>\n",
       "      <td>0.086101</td>\n",
       "      <td>0.085621</td>\n",
       "      <td>0.163255</td>\n",
       "      <td>0.080826</td>\n",
       "      <td>4.954674</td>\n",
       "      <td>4.899789</td>\n",
       "      <td>4.611627</td>\n",
       "      <td>4.60517</td>\n",
       "      <td>4.60517</td>\n",
       "      <td>4.60517</td>\n",
       "      <td>4.60517</td>\n",
       "      <td>4.60517</td>\n",
       "      <td>4.60517</td>\n",
       "    </tr>\n",
       "    <tr>\n",
       "      <th>17</th>\n",
       "      <td>2022-07-27 2022-08-26</td>\n",
       "      <td>2022-08-27 2022-08-27</td>\n",
       "      <td>1362</td>\n",
       "      <td>886</td>\n",
       "      <td>18</td>\n",
       "      <td>14</td>\n",
       "      <td>11</td>\n",
       "      <td>2</td>\n",
       "      <td>18</td>\n",
       "      <td>16</td>\n",
       "      <td>0.482050</td>\n",
       "      <td>0.586931</td>\n",
       "      <td>0.583252</td>\n",
       "      <td>0.436366</td>\n",
       "      <td>0.847441</td>\n",
       "      <td>0.034346</td>\n",
       "      <td>0.045620</td>\n",
       "      <td>0.152576</td>\n",
       "      <td>0.030984</td>\n",
       "      <td>4.891143</td>\n",
       "      <td>4.857906</td>\n",
       "      <td>4.613109</td>\n",
       "      <td>4.60517</td>\n",
       "      <td>4.60517</td>\n",
       "      <td>4.60517</td>\n",
       "      <td>4.60517</td>\n",
       "      <td>4.60517</td>\n",
       "      <td>4.60517</td>\n",
       "    </tr>\n",
       "    <tr>\n",
       "      <th>18</th>\n",
       "      <td>2022-07-26 2022-08-25</td>\n",
       "      <td>2022-08-26 2022-08-26</td>\n",
       "      <td>1409</td>\n",
       "      <td>929</td>\n",
       "      <td>38</td>\n",
       "      <td>25</td>\n",
       "      <td>20</td>\n",
       "      <td>1</td>\n",
       "      <td>38</td>\n",
       "      <td>37</td>\n",
       "      <td>0.525043</td>\n",
       "      <td>0.568340</td>\n",
       "      <td>0.538379</td>\n",
       "      <td>0.442984</td>\n",
       "      <td>0.792492</td>\n",
       "      <td>0.057625</td>\n",
       "      <td>0.020630</td>\n",
       "      <td>0.193624</td>\n",
       "      <td>0.011023</td>\n",
       "      <td>4.875545</td>\n",
       "      <td>4.839501</td>\n",
       "      <td>4.618175</td>\n",
       "      <td>4.60517</td>\n",
       "      <td>4.60517</td>\n",
       "      <td>4.60517</td>\n",
       "      <td>4.60517</td>\n",
       "      <td>4.60517</td>\n",
       "      <td>4.60517</td>\n",
       "    </tr>\n",
       "    <tr>\n",
       "      <th>19</th>\n",
       "      <td>2022-07-25 2022-08-24</td>\n",
       "      <td>2022-08-25 2022-08-25</td>\n",
       "      <td>1570</td>\n",
       "      <td>1035</td>\n",
       "      <td>22</td>\n",
       "      <td>20</td>\n",
       "      <td>14</td>\n",
       "      <td>2</td>\n",
       "      <td>22</td>\n",
       "      <td>20</td>\n",
       "      <td>0.396345</td>\n",
       "      <td>0.531123</td>\n",
       "      <td>0.540651</td>\n",
       "      <td>0.380403</td>\n",
       "      <td>0.599865</td>\n",
       "      <td>0.040860</td>\n",
       "      <td>0.072857</td>\n",
       "      <td>0.124476</td>\n",
       "      <td>0.032775</td>\n",
       "      <td>4.954653</td>\n",
       "      <td>4.925895</td>\n",
       "      <td>4.620165</td>\n",
       "      <td>4.60517</td>\n",
       "      <td>4.60517</td>\n",
       "      <td>4.60517</td>\n",
       "      <td>4.60517</td>\n",
       "      <td>4.60517</td>\n",
       "      <td>4.60517</td>\n",
       "    </tr>\n",
       "    <tr>\n",
       "      <th>20</th>\n",
       "      <td>2022-07-24 2022-08-23</td>\n",
       "      <td>2022-08-24 2022-08-24</td>\n",
       "      <td>1550</td>\n",
       "      <td>1014</td>\n",
       "      <td>31</td>\n",
       "      <td>29</td>\n",
       "      <td>24</td>\n",
       "      <td>0</td>\n",
       "      <td>31</td>\n",
       "      <td>31</td>\n",
       "      <td>0.548626</td>\n",
       "      <td>0.614950</td>\n",
       "      <td>0.605994</td>\n",
       "      <td>0.462180</td>\n",
       "      <td>0.820670</td>\n",
       "      <td>0.014890</td>\n",
       "      <td>0.032916</td>\n",
       "      <td>0.158361</td>\n",
       "      <td>0.010200</td>\n",
       "      <td>4.849817</td>\n",
       "      <td>4.831521</td>\n",
       "      <td>4.619714</td>\n",
       "      <td>4.60517</td>\n",
       "      <td>4.60517</td>\n",
       "      <td>4.60517</td>\n",
       "      <td>4.60517</td>\n",
       "      <td>4.60517</td>\n",
       "      <td>4.60517</td>\n",
       "    </tr>\n",
       "    <tr>\n",
       "      <th>21</th>\n",
       "      <td>2022-07-23 2022-08-22</td>\n",
       "      <td>2022-08-23 2022-08-23</td>\n",
       "      <td>1371</td>\n",
       "      <td>887</td>\n",
       "      <td>188</td>\n",
       "      <td>182</td>\n",
       "      <td>131</td>\n",
       "      <td>2</td>\n",
       "      <td>188</td>\n",
       "      <td>9</td>\n",
       "      <td>0.011482</td>\n",
       "      <td>0.015217</td>\n",
       "      <td>0.012822</td>\n",
       "      <td>0.012740</td>\n",
       "      <td>0.006196</td>\n",
       "      <td>0.003314</td>\n",
       "      <td>0.004661</td>\n",
       "      <td>0.002620</td>\n",
       "      <td>0.002566</td>\n",
       "      <td>4.929401</td>\n",
       "      <td>4.906574</td>\n",
       "      <td>4.619477</td>\n",
       "      <td>4.60517</td>\n",
       "      <td>4.60517</td>\n",
       "      <td>4.60517</td>\n",
       "      <td>4.60517</td>\n",
       "      <td>4.60517</td>\n",
       "      <td>4.60517</td>\n",
       "    </tr>\n",
       "  </tbody>\n",
       "</table>\n",
       "</div>"
      ],
      "text/plain": [
       "                first_day               last_day  train_데이터수  train_유저수  \\\n",
       "0   2022-08-13 2022-09-12  2022-09-13 2022-09-13        1212        869   \n",
       "1   2022-08-12 2022-09-11  2022-09-12 2022-09-12        1229        872   \n",
       "2   2022-08-11 2022-09-10  2022-09-11 2022-09-11        1262        879   \n",
       "3   2022-08-10 2022-09-09  2022-09-10 2022-09-10        1306        902   \n",
       "4   2022-08-09 2022-09-08  2022-09-09 2022-09-09        1363        921   \n",
       "5   2022-08-08 2022-09-07  2022-09-08 2022-09-08        1286        859   \n",
       "6   2022-08-07 2022-09-06  2022-09-07 2022-09-07        1275        853   \n",
       "7   2022-08-06 2022-09-05  2022-09-06 2022-09-06        1230        831   \n",
       "8   2022-08-05 2022-09-04  2022-09-05 2022-09-05        1228        831   \n",
       "9   2022-08-04 2022-09-03  2022-09-04 2022-09-04        1309        890   \n",
       "10  2022-08-03 2022-09-02  2022-09-03 2022-09-03        1336        894   \n",
       "11  2022-08-02 2022-09-01  2022-09-02 2022-09-02        1342        904   \n",
       "12  2022-08-01 2022-08-31  2022-09-01 2022-09-01        1275        845   \n",
       "13  2022-07-31 2022-08-30  2022-08-31 2022-08-31        1235        822   \n",
       "14  2022-07-30 2022-08-29  2022-08-30 2022-08-30        1113        730   \n",
       "15  2022-07-29 2022-08-28  2022-08-29 2022-08-29        1129        741   \n",
       "16  2022-07-28 2022-08-27  2022-08-28 2022-08-28        1328        868   \n",
       "17  2022-07-27 2022-08-26  2022-08-27 2022-08-27        1362        886   \n",
       "18  2022-07-26 2022-08-25  2022-08-26 2022-08-26        1409        929   \n",
       "19  2022-07-25 2022-08-24  2022-08-25 2022-08-25        1570       1035   \n",
       "20  2022-07-24 2022-08-23  2022-08-24 2022-08-24        1550       1014   \n",
       "21  2022-07-23 2022-08-22  2022-08-23 2022-08-23        1371        887   \n",
       "\n",
       "    test_데이터수  test_유저수  test_신규유저수  test_신규아이템수  원본_test수  전처리진행test수  \\\n",
       "0          16        13           8            1        16          15   \n",
       "1          15        11           9            1        15          14   \n",
       "2           4         2           2            1         4           3   \n",
       "3           2         1           0            0         2           2   \n",
       "4           6         4           1            2         6           4   \n",
       "5          99        81          67            5        99          94   \n",
       "6          33        22          13            3        33          30   \n",
       "7          58        50          28            1        58          20   \n",
       "8          25        19          15            2        25          23   \n",
       "9          20        15          12            0        20          20   \n",
       "10         12        11           8            1        12          11   \n",
       "11         37        23          18            4        37          33   \n",
       "12        131       108          90            5       131         126   \n",
       "13         66        48          34            2        66          64   \n",
       "14        127       119          97            3       127          32   \n",
       "15         14        12          10            2        14          12   \n",
       "16         17        10           7            1        17          16   \n",
       "17         18        14          11            2        18          16   \n",
       "18         38        25          20            1        38          37   \n",
       "19         22        20          14            2        22          20   \n",
       "20         31        29          24            0        31          31   \n",
       "21        188       182         131            2       188           9   \n",
       "\n",
       "      als_mf       lmf        mp  medi_popular    latest    oldest  \\\n",
       "0   0.353550  0.338572  0.296450      0.216167  0.142202  0.156531   \n",
       "1   0.262005  0.281450  0.254012      0.281336  0.065337  0.163230   \n",
       "2   0.255478  0.255478  0.255478      0.425172  0.133036  0.097945   \n",
       "3   0.249733  0.265580  0.214430      0.233596  0.000000  0.229346   \n",
       "4   0.198809  0.130982  0.114730      0.139993  0.065012  0.224884   \n",
       "5   0.494561  0.583995  0.581955      0.396995  0.406119  0.048871   \n",
       "6   0.293131  0.401472  0.364429      0.302510  0.166077  0.154527   \n",
       "7   0.113630  0.126646  0.114224      0.111575  0.086616  0.011297   \n",
       "8   0.390747  0.360060  0.338807      0.323696  0.204135  0.105226   \n",
       "9   0.295990  0.304810  0.274540      0.272593  0.165423  0.218156   \n",
       "10  0.420457  0.415419  0.357200      0.413206  0.221313  0.075809   \n",
       "11  0.247578  0.239378  0.226899      0.201607  0.170560  0.118254   \n",
       "12  0.714513  0.776669  0.803111      0.462363  0.625282  0.013704   \n",
       "13  0.498652  0.582836  0.626800      0.437717  0.688653  0.036947   \n",
       "14  0.129952  0.138304  0.140530      0.086879  0.130159  0.011000   \n",
       "15  0.335269  0.341760  0.337497      0.289326  0.272029  0.064926   \n",
       "16  0.405259  0.604177  0.569434      0.394703  0.524682  0.086101   \n",
       "17  0.482050  0.586931  0.583252      0.436366  0.847441  0.034346   \n",
       "18  0.525043  0.568340  0.538379      0.442984  0.792492  0.057625   \n",
       "19  0.396345  0.531123  0.540651      0.380403  0.599865  0.040860   \n",
       "20  0.548626  0.614950  0.605994      0.462180  0.820670  0.014890   \n",
       "21  0.011482  0.015217  0.012822      0.012740  0.006196  0.003314   \n",
       "\n",
       "    high_price  low_price  name_sort  als_mf_entropy  lmf_entropy  mp_entropy  \\\n",
       "0     0.111285   0.128103   0.186616        4.916165     4.893878    4.612341   \n",
       "1     0.183660   0.078122   0.125741        4.837213     4.812226    4.616095   \n",
       "2     0.046451   0.184278   0.115196        4.605170     4.605170    4.605170   \n",
       "3     0.112996   0.135545   0.106056        4.605170     4.605170    4.605170   \n",
       "4     0.150790   0.065254   0.025094        5.061256     5.037913    4.618575   \n",
       "5     0.145521   0.157057   0.154866        4.840746     4.809365    4.621257   \n",
       "6     0.103156   0.183597   0.113703        4.973831     4.944066    4.612595   \n",
       "7     0.030361   0.043933   0.033004        4.997683     4.959772    4.623511   \n",
       "8     0.117397   0.150745   0.145788        4.868604     4.833350    4.613894   \n",
       "9     0.204768   0.070634   0.143932        4.871124     4.848534    4.619446   \n",
       "10    0.121266   0.117930   0.061180        4.933188     4.888960    4.620320   \n",
       "11    0.133509   0.101306   0.102175        4.881380     4.845569    4.620722   \n",
       "12    0.044801   0.179293   0.040996        4.844560     4.810103    4.611734   \n",
       "13    0.096290   0.169258   0.102857        4.946885     4.910183    4.622024   \n",
       "14    0.015509   0.038304   0.013970        4.859130     4.832985    4.618051   \n",
       "15    0.085933   0.116310   0.092900        4.839524     4.805405    4.612620   \n",
       "16    0.085621   0.163255   0.080826        4.954674     4.899789    4.611627   \n",
       "17    0.045620   0.152576   0.030984        4.891143     4.857906    4.613109   \n",
       "18    0.020630   0.193624   0.011023        4.875545     4.839501    4.618175   \n",
       "19    0.072857   0.124476   0.032775        4.954653     4.925895    4.620165   \n",
       "20    0.032916   0.158361   0.010200        4.849817     4.831521    4.619714   \n",
       "21    0.004661   0.002620   0.002566        4.929401     4.906574    4.619477   \n",
       "\n",
       "    medi_popular_entropy  latest_entropy  oldest_entropy  high_price_entropy  \\\n",
       "0                4.60517         4.60517         4.60517             4.60517   \n",
       "1                4.60517         4.60517         4.60517             4.60517   \n",
       "2                4.60517         4.60517         4.60517             4.60517   \n",
       "3                4.60517         4.60517         4.60517             4.60517   \n",
       "4                4.60517         4.60517         4.60517             4.60517   \n",
       "5                4.60517         4.60517         4.60517             4.60517   \n",
       "6                4.60517         4.60517         4.60517             4.60517   \n",
       "7                4.60517         4.60517         4.60517             4.60517   \n",
       "8                4.60517         4.60517         4.60517             4.60517   \n",
       "9                4.60517         4.60517         4.60517             4.60517   \n",
       "10               4.60517         4.60517         4.60517             4.60517   \n",
       "11               4.60517         4.60517         4.60517             4.60517   \n",
       "12               4.60517         4.60517         4.60517             4.60517   \n",
       "13               4.60517         4.60517         4.60517             4.60517   \n",
       "14               4.60517         4.60517         4.60517             4.60517   \n",
       "15               4.60517         4.60517         4.60517             4.60517   \n",
       "16               4.60517         4.60517         4.60517             4.60517   \n",
       "17               4.60517         4.60517         4.60517             4.60517   \n",
       "18               4.60517         4.60517         4.60517             4.60517   \n",
       "19               4.60517         4.60517         4.60517             4.60517   \n",
       "20               4.60517         4.60517         4.60517             4.60517   \n",
       "21               4.60517         4.60517         4.60517             4.60517   \n",
       "\n",
       "    low_price_entropy  name_sort_entropy  \n",
       "0             4.60517            4.60517  \n",
       "1             4.60517            4.60517  \n",
       "2             4.60517            4.60517  \n",
       "3             4.60517            4.60517  \n",
       "4             4.60517            4.60517  \n",
       "5             4.60517            4.60517  \n",
       "6             4.60517            4.60517  \n",
       "7             4.60517            4.60517  \n",
       "8             4.60517            4.60517  \n",
       "9             4.60517            4.60517  \n",
       "10            4.60517            4.60517  \n",
       "11            4.60517            4.60517  \n",
       "12            4.60517            4.60517  \n",
       "13            4.60517            4.60517  \n",
       "14            4.60517            4.60517  \n",
       "15            4.60517            4.60517  \n",
       "16            4.60517            4.60517  \n",
       "17            4.60517            4.60517  \n",
       "18            4.60517            4.60517  \n",
       "19            4.60517            4.60517  \n",
       "20            4.60517            4.60517  \n",
       "21            4.60517            4.60517  "
      ]
     },
     "execution_count": 11,
     "metadata": {},
     "output_type": "execute_result"
    }
   ],
   "source": [
    "from tqdm import tqdm\n",
    "\n",
    "twenty_df_list = []\n",
    "for sp_day, tt_day in tqdm(zip(split_day_list,test_day_list)):\n",
    "    module_df = module(df, sp_day,tt_day)\n",
    "    twenty_df_list.append(module_df)\n",
    "twenty_df = pd.concat(twenty_df_list, ignore_index=True)\n",
    "twenty_df"
   ]
  },
  {
   "cell_type": "code",
   "execution_count": null,
   "id": "23c7dbc5",
   "metadata": {},
   "outputs": [],
   "source": []
  }
 ],
 "metadata": {
  "kernelspec": {
   "display_name": "Python 3",
   "language": "python",
   "name": "python3"
  },
  "language_info": {
   "codemirror_mode": {
    "name": "ipython",
    "version": 3
   },
   "file_extension": ".py",
   "mimetype": "text/x-python",
   "name": "python",
   "nbconvert_exporter": "python",
   "pygments_lexer": "ipython3",
   "version": "3.8.8"
  }
 },
 "nbformat": 4,
 "nbformat_minor": 5
}
