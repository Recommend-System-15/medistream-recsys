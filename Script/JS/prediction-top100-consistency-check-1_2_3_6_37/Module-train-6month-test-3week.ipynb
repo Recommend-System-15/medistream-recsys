{
 "cells": [
  {
   "cell_type": "markdown",
   "id": "144c71b0",
   "metadata": {},
   "source": [
    "https://assaeunji.github.io/machine%20learning/2020-11-29-implicitfeedback/"
   ]
  },
  {
   "cell_type": "markdown",
   "id": "1758f1b3",
   "metadata": {},
   "source": [
    "# test 3주 정합성 검증\n",
    "- "
   ]
  },
  {
   "cell_type": "markdown",
   "id": "97dbe592",
   "metadata": {},
   "source": [
    "# 추천 모델\n",
    "- ALS MF, LMF, MP (총 3개)\n",
    "- 총 3개의 추천을 진행하며 MF와 LMF 의 경우 콜드스타트 유저(신규 유저)인 경우 MP로 추천 진행"
   ]
  },
  {
   "cell_type": "code",
   "execution_count": 1,
   "id": "053cf1d2",
   "metadata": {},
   "outputs": [
    {
     "name": "stdout",
     "output_type": "stream",
     "text": [
      "/home/user_3/medistream-recsys/Script\n"
     ]
    }
   ],
   "source": [
    "import pandas as pd\n",
    "import numpy as np\n",
    "import matplotlib.pyplot as plt\n",
    "import seaborn as sns\n",
    "from tqdm import tqdm\n",
    "\n",
    "import scipy.sparse as sparse\n",
    "import random\n",
    "import implicit\n",
    "from implicit.als import AlternatingLeastSquares as ALS\n",
    "\n",
    "%cd /home/user_3/medistream-recsys/Script\n",
    "from preprocessing import drop_columns,dict_to_column,dict_to_set,set_to_column,key_to_element\n",
    "\n",
    "pd.set_option('display.max_rows', 300)\n",
    "pd.set_option('display.max_columns', 100)\n",
    "\n",
    "from dateutil.relativedelta import relativedelta\n",
    "from datetime import datetime, timedelta\n",
    "import scipy.sparse as sp\n",
    "from implicit.lmf import LogisticMatrixFactorization as LMF"
   ]
  },
  {
   "cell_type": "markdown",
   "id": "c5943a3d",
   "metadata": {},
   "source": [
    "# 1.Dataload"
   ]
  },
  {
   "cell_type": "code",
   "execution_count": 2,
   "id": "1bfc0ddc",
   "metadata": {},
   "outputs": [
    {
     "name": "stderr",
     "output_type": "stream",
     "text": [
      "100%|██████████| 5141/5141 [00:00<00:00, 727690.23it/s]\n"
     ]
    }
   ],
   "source": [
    "# products name 확인 용\n",
    "products_df = pd.read_json(\"/fastcampus-data/products/products.json\")\n",
    "products_df = key_to_element(['_id'],products_df)"
   ]
  },
  {
   "cell_type": "code",
   "execution_count": 3,
   "id": "392f7771",
   "metadata": {},
   "outputs": [],
   "source": [
    "df = pd.read_json('/fastcampus-data/select_column_version_4.json')"
   ]
  },
  {
   "cell_type": "code",
   "execution_count": 4,
   "id": "5a9b3f4b",
   "metadata": {},
   "outputs": [],
   "source": [
    "df['date_paid'] = pd.to_datetime(df['date_paid'])"
   ]
  },
  {
   "cell_type": "code",
   "execution_count": 5,
   "id": "7e42cf73",
   "metadata": {},
   "outputs": [
    {
     "data": {
      "text/plain": [
       "Timestamp('2022-09-13 08:59:21.151000+0000', tz='UTC')"
      ]
     },
     "execution_count": 5,
     "metadata": {},
     "output_type": "execute_result"
    }
   ],
   "source": [
    "df['date_paid'].max()"
   ]
  },
  {
   "cell_type": "code",
   "execution_count": 6,
   "id": "912c29ad",
   "metadata": {},
   "outputs": [],
   "source": [
    "split_day_list =  []\n",
    "test_day_list = []\n",
    "\n",
    "# 1일 test 날짜 확인\n",
    "last_date_state = '2022-09-13'\n",
    "split_day = pd.to_datetime(last_date_state)-relativedelta(months=6)\n",
    "test_day = pd.to_datetime(last_date_state)\n",
    "'''\n",
    "마지막 날짜에서 개월 수를 자름 -> split_day\n",
    "months 만 바꾸면 21번 분량이 나옴\n",
    "'''\n",
    "\n",
    "for i in range(0,21):\n",
    "    sp_day = str((split_day-timedelta(days=i)).to_pydatetime().date())\n",
    "    tt_day  = str((test_day-timedelta(days=i)).to_pydatetime().date())\n",
    "    split_day_list.append(sp_day)\n",
    "    test_day_list.append(tt_day)"
   ]
  },
  {
   "cell_type": "code",
   "execution_count": 7,
   "id": "c51fdb8d",
   "metadata": {},
   "outputs": [],
   "source": [
    "class CustomEvaluator:\n",
    "    # relavence 모두 1로 동일하게 봄\n",
    "    def _idcg(self, l):\n",
    "        return sum((1.0 / np.log(i + 2) for i in range(l)))\n",
    "    \n",
    "\n",
    "    def __init__(self):\n",
    "        self._idcgs = [self._idcg(i) for i in range(1000)]\n",
    "    '''\n",
    "    idcgs 예시, item 3개 추천되므로 3.074281787960283 가 됩니다.\n",
    "    [0, 1.4426950408889634, 2.352934267515801, 3.074281787960283]\n",
    "    '''\n",
    "\n",
    "    def _ndcg(self, gt, rec):\n",
    "        dcg = 0.0\n",
    "        for i, r in enumerate(rec):\n",
    "            if r in gt:\n",
    "                dcg += 1.0 / np.log(i + 2)\n",
    "\n",
    "        return dcg / self._idcgs[len(gt)]\n",
    "    \n",
    "    def _entropy_diversity(self,rec_list):\n",
    "        import six\n",
    "        import math\n",
    "        \n",
    "        topn = len(rec_list[0]['items'])\n",
    "        users = [i.get('id',None) for i in rec_list]\n",
    "        sz = float(len(users)) * topn\n",
    "        freq = {}\n",
    "        for rec in rec_list:\n",
    "            for r in rec['items']:\n",
    "                freq[r] = freq.get(r, 0) + 1\n",
    "        ent = -sum([v / sz * math.log(v / sz) for v in six.itervalues(freq)])\n",
    "        return ent\n",
    "\n",
    "    def _eval(self, gt_list, rec_list):\n",
    "        gt_dict = {g[\"id\"]: g for g in gt_list}\n",
    "        ndcg_score = 0.0\n",
    "\n",
    "        for rec in rec_list:\n",
    "            gt = gt_dict[rec[\"id\"]]\n",
    "            ndcg_score += self._ndcg(gt[\"items\"], rec[\"items\"])\n",
    "\n",
    "\n",
    "        ndcg_score = ndcg_score / len(rec_list)\n",
    "        ent = self._entropy_diversity(rec_list)\n",
    "        \n",
    "        return ndcg_score, ent\n",
    "\n",
    "    def evaluate(self, gt_list, rec_list):\n",
    "        try:\n",
    "            ndcg_score, ent_score = self._eval(gt_list, rec_list)\n",
    "            print(f\"NDCG: {ndcg_score:.6}\")\n",
    "            print(f\"Entropy Diversity: {ent_score:.6} \")\n",
    "        except Exception as e:\n",
    "            print(e)\n"
   ]
  },
  {
   "cell_type": "code",
   "execution_count": 8,
   "id": "53019274",
   "metadata": {},
   "outputs": [],
   "source": [
    "def module(df:pd.DataFrame(), split_date, test_date)->pd.DataFrame():\n",
    "    \n",
    "    # paid orders만 가져오기\n",
    "    df['date_paid'] = pd.to_datetime(df['date_paid'])\n",
    "    df_only_paid = df[~df['date_paid'].isna()]\n",
    "    # 3개월치 데이터만 가져오기\n",
    "    df_date = df_only_paid[df_only_paid['date_paid'] >= split_date]\n",
    "    # 취소 안된 것만 가져오기\n",
    "    complete_df = df_date[(df_date['paid'] == True) & (df_date['cancelled']==False)]\n",
    "    # 도서 카테고리만 가져오기\n",
    "    only_book = complete_df[complete_df['name'] == '도서']\n",
    "\n",
    "    # 유저가 중복으로 아이템 구매 삭제\n",
    "    df_duplicated_book = only_book.drop_duplicates(subset=['customer_id','product_ids'])\n",
    "    df_book = df_duplicated_book.sort_values(by='date_paid').reset_index(drop=True)\n",
    "    \n",
    "    train = df_book[df_book['date_paid'] < test_date]\n",
    "    test = df_book[df_book['date_paid'].dt.date == pd.to_datetime(test_date)]\n",
    "    \n",
    "    \n",
    "    # test 만 있는 item 제거\n",
    "    only_test_items = set(test.product_ids.unique())-set(train.product_ids.unique())\n",
    "    if_prepro_test = test[~test['product_ids'].isin(only_test_items)]\n",
    "    \n",
    "    \n",
    "    PdIds = train.product_ids.unique()\n",
    "\n",
    "    PdIdToIndex = {}\n",
    "    indexToPdId = {}\n",
    "\n",
    "    colIdx = 0\n",
    "\n",
    "    for PdId in PdIds:\n",
    "        PdIdToIndex[PdId] = colIdx\n",
    "        indexToPdId[colIdx] = PdId\n",
    "        colIdx += 1\n",
    "\n",
    "    userIds = train.customer_id.unique()\n",
    "\n",
    "    userIdToIndex = {}\n",
    "    indexToUserId = {}\n",
    "\n",
    "    rowIdx = 0\n",
    "\n",
    "    for userId in userIds:\n",
    "        userIdToIndex[userId] = rowIdx\n",
    "        indexToUserId[rowIdx] = userId\n",
    "        rowIdx += 1\n",
    "    rows = []\n",
    "    cols = []\n",
    "    vals = []\n",
    "\n",
    "    for row in train.itertuples():\n",
    "        rows.append(userIdToIndex[row.customer_id])\n",
    "        cols.append(PdIdToIndex[row.product_ids])\n",
    "        vals.append(1)\n",
    "\n",
    "    purchase_sparse = sp.csr_matrix((vals, (rows, cols)), shape=(rowIdx,colIdx))\n",
    "\n",
    "    matrix = purchase_sparse.todense()\n",
    "\n",
    "    medistream_prediction_df = train[['date_created','regular_price','sale_price','three_months','product_ids','name_x']]\n",
    "    medistream_prediction_preprop_df = medistream_prediction_df.drop_duplicates(subset=['product_ids'], ignore_index=True)\n",
    "    medistream_prediction_preprop_df['date_created'] = pd.to_datetime(medistream_prediction_preprop_df['date_created'])    \n",
    "    \n",
    "    als_model = ALS(factors=20,regularization=0.01, iterations = 50, random_state=42)\n",
    "    alsmodel = als_model.fit(purchase_sparse)\n",
    "    lmf_model = LMF(factors=20, regularization=0.001, iterations = 20, random_state=42)\n",
    "    lmfmodel = lmf_model.fit(purchase_sparse)\n",
    "    \n",
    "    most_popular = train.groupby(['product_ids','name_x']).count()['customer_id'].reset_index()\n",
    "    most_popular_list = most_popular.sort_values(by='customer_id',ascending=False).index\n",
    "    \n",
    "\n",
    "        # test 예측값, 이미 구매 했을 경우 제외\n",
    "    als_predict_list = []\n",
    "    for user_id in test['customer_id'].unique():\n",
    "        try:\n",
    "            result = als_model.recommend(userIdToIndex[user_id], purchase_sparse[userIdToIndex[user_id]], N=100)\n",
    "            als_predict_list.append({'id':user_id ,'items':[indexToPdId[num] for num in result[0]]})\n",
    "        except:\n",
    "            train_purchase_list = list(train[train['customer_id']==user_id].product_ids)\n",
    "            als_predict_list.append({'id':user_id ,'items':[most_popular.product_ids.loc[num] for num in most_popular_list \\\n",
    "                                                                if most_popular.product_ids.loc[num] not in train_purchase_list \\\n",
    "                                                                ]})\n",
    "\n",
    "        # 100 개만 예측하기\n",
    "    for idx, pred_list in enumerate(als_predict_list):\n",
    "        als_predict_list[idx]['items'] = pred_list['items'][:100]\n",
    "\n",
    "    \n",
    "\n",
    "        # test 예측값\n",
    "    lmf_predict_list = []\n",
    "    for user_id in test['customer_id'].unique():\n",
    "        try:\n",
    "            result = lmf_model.recommend(userIdToIndex[user_id], purchase_sparse[userIdToIndex[user_id]], N=100)\n",
    "            lmf_predict_list.append({'id':user_id ,'items':[indexToPdId[num] for num in result[0]]})\n",
    "        except:\n",
    "            train_purchase_list = list(train[train['customer_id']==user_id].product_ids)\n",
    "            lmf_predict_list.append({'id':user_id ,'items':[most_popular.product_ids.loc[num] for num in most_popular_list \\\n",
    "                                                                if most_popular.product_ids.loc[num] not in train_purchase_list \\\n",
    "                                                                ]})\n",
    "\n",
    "        # 100 개만 예측하기\n",
    "    for idx, pred_list in enumerate(lmf_predict_list):\n",
    "        lmf_predict_list[idx]['items'] = pred_list['items'][:100]\n",
    "\n",
    "    \n",
    "\n",
    "        # test 예측값, 이미 구매 했을 경우 제외\n",
    "    predict_popular_list = []\n",
    "    for user_id in test['customer_id'].unique():\n",
    "        train_purchase_list = list(train[train['customer_id']==user_id].product_ids)\n",
    "        predict_popular_list.append({'id':user_id ,'items':[most_popular.product_ids.loc[num] for num in most_popular_list \\\n",
    "                                                                if most_popular.product_ids.loc[num] not in train_purchase_list \\\n",
    "                                                                ]})\n",
    "\n",
    "        # 100 개만 예측하기\n",
    "    for idx, pred_list in enumerate(predict_popular_list):\n",
    "        predict_popular_list[idx]['items'] = pred_list['items'][:100]\n",
    "        \n",
    "    # real test \n",
    "    ground_trues = []\n",
    "    for user_id in test['customer_id'].unique():\n",
    "        ground_trues.append({'id': user_id,\\\n",
    "        'items':list(test[test['customer_id']==user_id].product_ids)\n",
    "        })\n",
    "    # ALS \n",
    "    evaluator = CustomEvaluator()\n",
    "    als = evaluator._eval(ground_trues, als_predict_list)\n",
    "    \n",
    "    # LMF \n",
    "    evaluator = CustomEvaluator()\n",
    "    lmf = evaluator._eval(ground_trues, lmf_predict_list)\n",
    "    # MP\n",
    "    evaluator = CustomEvaluator()\n",
    "    mp = evaluator._eval(ground_trues, predict_popular_list)\n",
    "    \n",
    "    # 인기도순\n",
    "    medistream_popular_list = medistream_prediction_preprop_df.sort_values(by='three_months', ascending=False).index\n",
    "    # 최신순\n",
    "    medistream_latest_list = medistream_prediction_preprop_df.sort_values(by='date_created', ascending=False).index\n",
    "    # 오랜된 순\n",
    "    medistream_oldest_list = medistream_prediction_preprop_df.sort_values(by='date_created', ascending=True).index\n",
    "    # 높은 가격 순\n",
    "    medistream_high_price_list = medistream_prediction_preprop_df.sort_values(by='sale_price', ascending=False).index\n",
    "    # 낮은 가격 순\n",
    "    medistream_low_price_list = medistream_prediction_preprop_df.sort_values(by='sale_price', ascending=True).index\n",
    "    # 이름 순\n",
    "    medistream_name_sort_list = medistream_prediction_preprop_df.sort_values(by='name_x',ascending=True).index\n",
    "\n",
    "    def medistream_prediction_method(predict_num:int ,medi_predict_list:list)->list:\n",
    "        medistream_predict_list = []\n",
    "        for user_id in test['customer_id'].unique():\n",
    "            medistream_predict_list.append({'id':user_id ,'items':[medistream_prediction_preprop_df.product_ids.loc[num] \\\n",
    "                                                                           for num in medi_predict_list]})\n",
    "\n",
    "        # 100 개만 예측하기\n",
    "        for idx, pred_list in enumerate(medistream_predict_list):\n",
    "            medistream_predict_list[idx]['items'] = pred_list['items'][:predict_num]\n",
    "\n",
    "        return medistream_predict_list\n",
    "    \n",
    "    medistream_predict_popular_list = medistream_prediction_method(100, medistream_popular_list)\n",
    "    medistream_predict_latest_list = medistream_prediction_method(100, medistream_latest_list)\n",
    "    medistream_predict_oldest_list = medistream_prediction_method(100, medistream_oldest_list)\n",
    "    medistream_predict_high_price_list = medistream_prediction_method(100, medistream_high_price_list)\n",
    "    medistream_predict_low_price_list = medistream_prediction_method(100, medistream_low_price_list)\n",
    "    medistream_predict_name_sort_list = medistream_prediction_method(100, medistream_name_sort_list)\n",
    "    \n",
    "    def medistream_prediction(ground_trues:list, predict_list:list):\n",
    "        evaluator = CustomEvaluator()\n",
    "        ndcg, entropy = evaluator._eval(ground_trues, predict_list)\n",
    "\n",
    "        assert len(predict_list) == len(ground_trues)\n",
    "\n",
    "        cnt = 0\n",
    "        for gt, pred_list in zip(ground_trues, predict_list):\n",
    "            for pred in pred_list['items']:\n",
    "                if pred in gt['items']:\n",
    "                    cnt += 1\n",
    "        return ndcg, entropy, cnt\n",
    "    \n",
    "    medistream_predict_score = {'medistream_predict':['medi_popular','latest','oldest','high_price','low_price','name_sort'], \\\n",
    "                                'ndcg':[], 'entropy':[], 'cnt':[]}\n",
    "\n",
    "    medistream_predict_list = [medistream_predict_popular_list, medistream_predict_latest_list, medistream_predict_oldest_list,\\\n",
    "                              medistream_predict_high_price_list, medistream_predict_low_price_list, medistream_predict_name_sort_list]\n",
    "\n",
    "    for medistream_predict in medistream_predict_list:\n",
    "        ndcg, entropy, cnt = medistream_prediction(ground_trues, medistream_predict)\n",
    "        medistream_predict_score['ndcg'].append(ndcg)\n",
    "        medistream_predict_score['entropy'].append(entropy)\n",
    "        medistream_predict_score['cnt'].append(cnt)\n",
    "\n",
    "        \n",
    "######## hyper parameter\n",
    "    als_mf_hyper_parameter = {'factor':[],'regularization':[],'iteration':[],'NDCG':[],'entropy':[]}\n",
    "\n",
    "    factors = [5,10,15,20]\n",
    "    regularizations = [0.01,0.005]\n",
    "    iterations = [5,10,15,20,25,30,40,50]\n",
    "\n",
    "    for factor in factors:\n",
    "        for regularization in regularizations:\n",
    "            for iteration in iterations:\n",
    "                als_model = ALS(factors=factor, regularization=regularization, iterations = iteration, random_state=42)\n",
    "                als_model.fit(purchase_sparse, show_progress=False)\n",
    "\n",
    "                # 신규 유저인 경우 mp로 넣기\n",
    "                # 전체 도서에 대한 판매 만큼 정렬 후 넣기\n",
    "                most_popular_list = most_popular.sort_values(by='customer_id',ascending=False).index\n",
    "\n",
    "                # test 예측값, 이미 구매 했을 경우 제외\n",
    "                als_predict_list = []\n",
    "                for user_id in test['customer_id'].unique():\n",
    "                    try:\n",
    "                        result = als_model.recommend(userIdToIndex[user_id], purchase_sparse[userIdToIndex[user_id]], N=100)\n",
    "                        als_predict_list.append({'id':user_id ,'items':[indexToPdId[num] for num in result[0]]})\n",
    "                    except:\n",
    "                        train_purchase_list = list(train[train['customer_id']==user_id].product_ids)\n",
    "                        als_predict_list.append({'id':user_id ,'items':[most_popular.product_ids.loc[num] for num in most_popular_list \\\n",
    "                                                                            if most_popular.product_ids.loc[num] not in train_purchase_list \\\n",
    "                                                                            ]})\n",
    "\n",
    "                # 100 개만 예측하기\n",
    "                for idx, pred_list in enumerate(als_predict_list):\n",
    "                    als_predict_list[idx]['items'] = pred_list['items'][:100]\n",
    "\n",
    "                # ALS \n",
    "                evaluator = CustomEvaluator()\n",
    "                ndcg, entropy = evaluator._eval(ground_trues, als_predict_list)\n",
    "\n",
    "                als_mf_hyper_parameter['factor'].append(factor)\n",
    "                als_mf_hyper_parameter['regularization'].append(regularization)\n",
    "                als_mf_hyper_parameter['iteration'].append(iteration)\n",
    "                als_mf_hyper_parameter['NDCG'].append(ndcg)\n",
    "                als_mf_hyper_parameter['entropy'].append(entropy)\n",
    "                \n",
    "                \n",
    "    lmf_hyper_parameter = {'factor':[],'regularization':[],'iteration':[],'NDCG':[],'entropy':[]}\n",
    "\n",
    "    factors = [5,10,15,20]\n",
    "    regularizations = [0.01,0.005]\n",
    "    iterations = [5,10,15,20,25,30,40,50]\n",
    "\n",
    "    for factor in factors:\n",
    "        for regularization in regularizations:\n",
    "            for iteration in iterations:\n",
    "                lmf_model = LMF(factors=factor, regularization=regularization, iterations = iteration, random_state=42)\n",
    "                lmf_model.fit(purchase_sparse, show_progress=False)\n",
    "\n",
    "                # 신규 유저 mp로 넣기\n",
    "                most_popular_list = most_popular.sort_values(by='customer_id',ascending=False).index\n",
    "\n",
    "                # test 예측값\n",
    "                lmf_predict_list = []\n",
    "                for user_id in test['customer_id'].unique():\n",
    "                    try:\n",
    "                        result = lmf_model.recommend(userIdToIndex[user_id], purchase_sparse[userIdToIndex[user_id]], N=100)\n",
    "                        lmf_predict_list.append({'id':user_id ,'items':[indexToPdId[num] for num in result[0]]})\n",
    "                    except:\n",
    "                        train_purchase_list = list(train[train['customer_id']==user_id].product_ids)\n",
    "                        lmf_predict_list.append({'id':user_id ,'items':[most_popular.product_ids.loc[num] for num in most_popular_list \\\n",
    "                                                                            if most_popular.product_ids.loc[num] not in train_purchase_list \\\n",
    "                                                                            ]})\n",
    "\n",
    "                # 100 개만 예측하기\n",
    "                for idx, pred_list in enumerate(lmf_predict_list):\n",
    "                    lmf_predict_list[idx]['items'] = pred_list['items'][:100]\n",
    "\n",
    "                # LMF\n",
    "                evaluator = CustomEvaluator()\n",
    "                ndcg, entropy = evaluator._eval(ground_trues, lmf_predict_list)\n",
    "\n",
    "                lmf_hyper_parameter['factor'].append(factor)\n",
    "                lmf_hyper_parameter['regularization'].append(regularization)\n",
    "                lmf_hyper_parameter['iteration'].append(iteration)\n",
    "                lmf_hyper_parameter['NDCG'].append(ndcg)\n",
    "                lmf_hyper_parameter['entropy'].append(entropy)\n",
    "                \n",
    "#     return als_mf_hyper_parameter, lmf_hyper_parameter, medistream_predict_score\n",
    "\n",
    "    all_prediction_df = {'first_day':[],'last_day':[],'train_데이터수':[],'train_유저수':[],'test_데이터수':[],\\\n",
    "        'test_유저수':[],'test_신규유저수':[],'test_신규아이템수':[],'원본_test수':[],'전처리진행test수':[],\\\n",
    "        'als_mf':[],'lmf':[],'mp':[],'medi_popular':[],'latest':[],\\\n",
    "        'oldest':[],'high_price':[],'low_price':[],'name_sort':[],\\\n",
    "         'als_mf_entropy':[],'lmf_entropy':[],'mp_entropy':[],'medi_popular_entropy':[],'latest_entropy':[],\\\n",
    "         'oldest_entropy':[],'high_price_entropy':[],'low_price_entropy':[],'name_sort_entropy':[]}\n",
    "    medistream_predict_df = pd.DataFrame(medistream_predict_score)\n",
    "\n",
    "    all_prediction_df['first_day'].append(str(datetime.date(train['date_paid'].min()))+' '+str(datetime.date(train['date_paid'].max())))\n",
    "    all_prediction_df['last_day'].append(str(datetime.date(test['date_paid'].min()))+' '+str(datetime.date(test['date_paid'].max())))\n",
    "    all_prediction_df['train_데이터수'].append(len(train))\n",
    "    all_prediction_df['train_유저수'].append(len(set(train.customer_id)))\n",
    "    all_prediction_df['test_데이터수'].append(len(test))\n",
    "    all_prediction_df['test_유저수'].append(len(set(test.customer_id)))\n",
    "    all_prediction_df['test_신규유저수'].append(len(set(test['customer_id'].unique())- set(train['customer_id'].unique())))\n",
    "    all_prediction_df['test_신규아이템수'].append(len(set(test.product_ids.unique())-set(train.product_ids.unique())))\n",
    "    all_prediction_df['원본_test수'].append(len(test))\n",
    "    all_prediction_df['전처리진행test수'].append(len(if_prepro_test))\n",
    "\n",
    "    # ndcg\n",
    "    all_prediction_df['als_mf'].append(pd.DataFrame(als_mf_hyper_parameter).sort_values(by='NDCG',ascending=False)['NDCG'].iloc[0])\n",
    "    all_prediction_df['lmf'].append(pd.DataFrame(lmf_hyper_parameter).sort_values(by='NDCG',ascending=False)['NDCG'].iloc[0])\n",
    "    all_prediction_df['mp'].append(evaluator._eval(ground_trues, predict_popular_list)[0])\n",
    "    all_prediction_df['medi_popular'].append(medistream_predict_df[medistream_predict_df['medistream_predict']=='medi_popular'].iloc[0]['ndcg'])\n",
    "    all_prediction_df['latest'].append(medistream_predict_df[medistream_predict_df['medistream_predict']=='latest'].iloc[0]['ndcg'])\n",
    "    all_prediction_df['oldest'].append(medistream_predict_df[medistream_predict_df['medistream_predict']=='oldest'].iloc[0]['ndcg'])\n",
    "    all_prediction_df['high_price'].append(medistream_predict_df[medistream_predict_df['medistream_predict']=='high_price'].iloc[0]['ndcg'])\n",
    "    all_prediction_df['low_price'].append(medistream_predict_df[medistream_predict_df['medistream_predict']=='low_price'].iloc[0]['ndcg'])\n",
    "    all_prediction_df['name_sort'].append(medistream_predict_df[medistream_predict_df['medistream_predict']=='name_sort'].iloc[0]['ndcg'])\n",
    "\n",
    "#     entropy\n",
    "    all_prediction_df['als_mf_entropy'].append(pd.DataFrame(als_mf_hyper_parameter).sort_values(by='entropy',ascending=False)['entropy'].iloc[0])\n",
    "    all_prediction_df['lmf_entropy'].append(pd.DataFrame(lmf_hyper_parameter).sort_values(by='entropy',ascending=False)['entropy'].iloc[0])\n",
    "    all_prediction_df['mp_entropy'].append(evaluator._eval(ground_trues, predict_popular_list)[1])\n",
    "    all_prediction_df['medi_popular_entropy'].append(medistream_predict_df[medistream_predict_df['medistream_predict']=='medi_popular'].iloc[0]['entropy'])\n",
    "    all_prediction_df['latest_entropy'].append(medistream_predict_df[medistream_predict_df['medistream_predict']=='latest'].iloc[0]['entropy'])\n",
    "    all_prediction_df['oldest_entropy'].append(medistream_predict_df[medistream_predict_df['medistream_predict']=='oldest'].iloc[0]['entropy'])\n",
    "    all_prediction_df['high_price_entropy'].append(medistream_predict_df[medistream_predict_df['medistream_predict']=='high_price'].iloc[0]['entropy'])\n",
    "    all_prediction_df['low_price_entropy'].append(medistream_predict_df[medistream_predict_df['medistream_predict']=='low_price'].iloc[0]['entropy'])\n",
    "    all_prediction_df['name_sort_entropy'].append(medistream_predict_df[medistream_predict_df['medistream_predict']=='name_sort'].iloc[0]['entropy'])\n",
    "\n",
    "    print('train 총 기간:',train['date_paid'].max()-train['date_paid'].min())\n",
    "    print('test 총 기간:',test['date_paid'].max()-test['date_paid'].min())\n",
    "    \n",
    "    return pd.DataFrame(all_prediction_df)"
   ]
  },
  {
   "cell_type": "code",
   "execution_count": 9,
   "id": "02d7e20c",
   "metadata": {
    "scrolled": false
   },
   "outputs": [
    {
     "name": "stderr",
     "output_type": "stream",
     "text": [
      "0it [00:00, ?it/s]<ipython-input-8-b3ae7dbb3584>:64: SettingWithCopyWarning: \n",
      "A value is trying to be set on a copy of a slice from a DataFrame.\n",
      "Try using .loc[row_indexer,col_indexer] = value instead\n",
      "\n",
      "See the caveats in the documentation: https://pandas.pydata.org/pandas-docs/stable/user_guide/indexing.html#returning-a-view-versus-a-copy\n",
      "  medistream_prediction_preprop_df['date_created'] = pd.to_datetime(medistream_prediction_preprop_df['date_created'])\n"
     ]
    },
    {
     "data": {
      "application/vnd.jupyter.widget-view+json": {
       "model_id": "7c1e5cb280d3464693ad0662be8e09a8",
       "version_major": 2,
       "version_minor": 0
      },
      "text/plain": [
       "  0%|          | 0/50 [00:00<?, ?it/s]"
      ]
     },
     "metadata": {},
     "output_type": "display_data"
    },
    {
     "data": {
      "application/vnd.jupyter.widget-view+json": {
       "model_id": "78a3f6a4065741f29a624f7de704f05d",
       "version_major": 2,
       "version_minor": 0
      },
      "text/plain": [
       "  0%|          | 0/20 [00:00<?, ?it/s]"
      ]
     },
     "metadata": {},
     "output_type": "display_data"
    },
    {
     "name": "stderr",
     "output_type": "stream",
     "text": [
      "\r",
      "1it [01:55, 115.12s/it]"
     ]
    },
    {
     "name": "stdout",
     "output_type": "stream",
     "text": [
      "train 총 기간: 183 days 22:54:50.728000\n",
      "test 총 기간: 0 days 08:44:11.628000\n"
     ]
    },
    {
     "name": "stderr",
     "output_type": "stream",
     "text": [
      "<ipython-input-8-b3ae7dbb3584>:64: SettingWithCopyWarning: \n",
      "A value is trying to be set on a copy of a slice from a DataFrame.\n",
      "Try using .loc[row_indexer,col_indexer] = value instead\n",
      "\n",
      "See the caveats in the documentation: https://pandas.pydata.org/pandas-docs/stable/user_guide/indexing.html#returning-a-view-versus-a-copy\n",
      "  medistream_prediction_preprop_df['date_created'] = pd.to_datetime(medistream_prediction_preprop_df['date_created'])\n"
     ]
    },
    {
     "data": {
      "application/vnd.jupyter.widget-view+json": {
       "model_id": "c43c217a71814ab28d4fd8fb54eb212d",
       "version_major": 2,
       "version_minor": 0
      },
      "text/plain": [
       "  0%|          | 0/50 [00:00<?, ?it/s]"
      ]
     },
     "metadata": {},
     "output_type": "display_data"
    },
    {
     "data": {
      "application/vnd.jupyter.widget-view+json": {
       "model_id": "c736e9b3d17247e38d8dcdb30fef9132",
       "version_major": 2,
       "version_minor": 0
      },
      "text/plain": [
       "  0%|          | 0/20 [00:00<?, ?it/s]"
      ]
     },
     "metadata": {},
     "output_type": "display_data"
    },
    {
     "name": "stderr",
     "output_type": "stream",
     "text": [
      "\r",
      "2it [03:43, 111.16s/it]"
     ]
    },
    {
     "name": "stdout",
     "output_type": "stream",
     "text": [
      "train 총 기간: 183 days 19:52:40.102000\n",
      "test 총 기간: 0 days 23:18:07.974000\n"
     ]
    },
    {
     "name": "stderr",
     "output_type": "stream",
     "text": [
      "<ipython-input-8-b3ae7dbb3584>:64: SettingWithCopyWarning: \n",
      "A value is trying to be set on a copy of a slice from a DataFrame.\n",
      "Try using .loc[row_indexer,col_indexer] = value instead\n",
      "\n",
      "See the caveats in the documentation: https://pandas.pydata.org/pandas-docs/stable/user_guide/indexing.html#returning-a-view-versus-a-copy\n",
      "  medistream_prediction_preprop_df['date_created'] = pd.to_datetime(medistream_prediction_preprop_df['date_created'])\n"
     ]
    },
    {
     "data": {
      "application/vnd.jupyter.widget-view+json": {
       "model_id": "d9376015e0bc446ca26995b488df76aa",
       "version_major": 2,
       "version_minor": 0
      },
      "text/plain": [
       "  0%|          | 0/50 [00:00<?, ?it/s]"
      ]
     },
     "metadata": {},
     "output_type": "display_data"
    },
    {
     "data": {
      "application/vnd.jupyter.widget-view+json": {
       "model_id": "fbef2d5b26e94ae1bbab6baff0b73802",
       "version_major": 2,
       "version_minor": 0
      },
      "text/plain": [
       "  0%|          | 0/20 [00:00<?, ?it/s]"
      ]
     },
     "metadata": {},
     "output_type": "display_data"
    },
    {
     "name": "stderr",
     "output_type": "stream",
     "text": [
      "\r",
      "3it [06:00, 123.08s/it]"
     ]
    },
    {
     "name": "stdout",
     "output_type": "stream",
     "text": [
      "train 총 기간: 183 days 21:36:50.476000\n",
      "test 총 기간: 0 days 07:14:08.106000\n"
     ]
    },
    {
     "name": "stderr",
     "output_type": "stream",
     "text": [
      "<ipython-input-8-b3ae7dbb3584>:64: SettingWithCopyWarning: \n",
      "A value is trying to be set on a copy of a slice from a DataFrame.\n",
      "Try using .loc[row_indexer,col_indexer] = value instead\n",
      "\n",
      "See the caveats in the documentation: https://pandas.pydata.org/pandas-docs/stable/user_guide/indexing.html#returning-a-view-versus-a-copy\n",
      "  medistream_prediction_preprop_df['date_created'] = pd.to_datetime(medistream_prediction_preprop_df['date_created'])\n"
     ]
    },
    {
     "data": {
      "application/vnd.jupyter.widget-view+json": {
       "model_id": "6ff934df247649c7bd89b0080a67371a",
       "version_major": 2,
       "version_minor": 0
      },
      "text/plain": [
       "  0%|          | 0/50 [00:00<?, ?it/s]"
      ]
     },
     "metadata": {},
     "output_type": "display_data"
    },
    {
     "data": {
      "application/vnd.jupyter.widget-view+json": {
       "model_id": "8afec977c765428d886caa8eda959dbb",
       "version_major": 2,
       "version_minor": 0
      },
      "text/plain": [
       "  0%|          | 0/20 [00:00<?, ?it/s]"
      ]
     },
     "metadata": {},
     "output_type": "display_data"
    },
    {
     "name": "stderr",
     "output_type": "stream",
     "text": [
      "\r",
      "4it [10:06, 171.53s/it]"
     ]
    },
    {
     "name": "stdout",
     "output_type": "stream",
     "text": [
      "train 총 기간: 183 days 08:59:03.597000\n",
      "test 총 기간: 0 days 00:01:36.172000\n"
     ]
    },
    {
     "name": "stderr",
     "output_type": "stream",
     "text": [
      "<ipython-input-8-b3ae7dbb3584>:64: SettingWithCopyWarning: \n",
      "A value is trying to be set on a copy of a slice from a DataFrame.\n",
      "Try using .loc[row_indexer,col_indexer] = value instead\n",
      "\n",
      "See the caveats in the documentation: https://pandas.pydata.org/pandas-docs/stable/user_guide/indexing.html#returning-a-view-versus-a-copy\n",
      "  medistream_prediction_preprop_df['date_created'] = pd.to_datetime(medistream_prediction_preprop_df['date_created'])\n"
     ]
    },
    {
     "data": {
      "application/vnd.jupyter.widget-view+json": {
       "model_id": "8457fe0d759e41b3952583c4369ed639",
       "version_major": 2,
       "version_minor": 0
      },
      "text/plain": [
       "  0%|          | 0/50 [00:00<?, ?it/s]"
      ]
     },
     "metadata": {},
     "output_type": "display_data"
    },
    {
     "data": {
      "application/vnd.jupyter.widget-view+json": {
       "model_id": "0c6ccebde4f8449c9f96e79e2c60a31a",
       "version_major": 2,
       "version_minor": 0
      },
      "text/plain": [
       "  0%|          | 0/20 [00:00<?, ?it/s]"
      ]
     },
     "metadata": {},
     "output_type": "display_data"
    },
    {
     "name": "stderr",
     "output_type": "stream",
     "text": [
      "\r",
      "5it [14:10, 197.74s/it]"
     ]
    },
    {
     "name": "stdout",
     "output_type": "stream",
     "text": [
      "train 총 기간: 183 days 22:01:36.986000\n",
      "test 총 기간: 0 days 08:09:01.373000\n"
     ]
    },
    {
     "name": "stderr",
     "output_type": "stream",
     "text": [
      "<ipython-input-8-b3ae7dbb3584>:64: SettingWithCopyWarning: \n",
      "A value is trying to be set on a copy of a slice from a DataFrame.\n",
      "Try using .loc[row_indexer,col_indexer] = value instead\n",
      "\n",
      "See the caveats in the documentation: https://pandas.pydata.org/pandas-docs/stable/user_guide/indexing.html#returning-a-view-versus-a-copy\n",
      "  medistream_prediction_preprop_df['date_created'] = pd.to_datetime(medistream_prediction_preprop_df['date_created'])\n"
     ]
    },
    {
     "data": {
      "application/vnd.jupyter.widget-view+json": {
       "model_id": "a1120fc321f04c77b3835e36682ec398",
       "version_major": 2,
       "version_minor": 0
      },
      "text/plain": [
       "  0%|          | 0/50 [00:00<?, ?it/s]"
      ]
     },
     "metadata": {},
     "output_type": "display_data"
    },
    {
     "data": {
      "application/vnd.jupyter.widget-view+json": {
       "model_id": "c32ca0241e7646b0b0c0484921f0ba76",
       "version_major": 2,
       "version_minor": 0
      },
      "text/plain": [
       "  0%|          | 0/20 [00:00<?, ?it/s]"
      ]
     },
     "metadata": {},
     "output_type": "display_data"
    },
    {
     "name": "stderr",
     "output_type": "stream",
     "text": [
      "\r",
      "6it [19:31, 239.41s/it]"
     ]
    },
    {
     "name": "stdout",
     "output_type": "stream",
     "text": [
      "train 총 기간: 183 days 18:07:49.623000\n",
      "test 총 기간: 0 days 22:28:59.805000\n"
     ]
    },
    {
     "name": "stderr",
     "output_type": "stream",
     "text": [
      "<ipython-input-8-b3ae7dbb3584>:64: SettingWithCopyWarning: \n",
      "A value is trying to be set on a copy of a slice from a DataFrame.\n",
      "Try using .loc[row_indexer,col_indexer] = value instead\n",
      "\n",
      "See the caveats in the documentation: https://pandas.pydata.org/pandas-docs/stable/user_guide/indexing.html#returning-a-view-versus-a-copy\n",
      "  medistream_prediction_preprop_df['date_created'] = pd.to_datetime(medistream_prediction_preprop_df['date_created'])\n"
     ]
    },
    {
     "data": {
      "application/vnd.jupyter.widget-view+json": {
       "model_id": "2e03660f62294bf4912104629e630773",
       "version_major": 2,
       "version_minor": 0
      },
      "text/plain": [
       "  0%|          | 0/50 [00:00<?, ?it/s]"
      ]
     },
     "metadata": {},
     "output_type": "display_data"
    },
    {
     "data": {
      "application/vnd.jupyter.widget-view+json": {
       "model_id": "4e45c40e13de49a9997c1a7b47f32a65",
       "version_major": 2,
       "version_minor": 0
      },
      "text/plain": [
       "  0%|          | 0/20 [00:00<?, ?it/s]"
      ]
     },
     "metadata": {},
     "output_type": "display_data"
    },
    {
     "name": "stderr",
     "output_type": "stream",
     "text": [
      "\r",
      "7it [26:14, 293.13s/it]"
     ]
    },
    {
     "name": "stdout",
     "output_type": "stream",
     "text": [
      "train 총 기간: 183 days 23:07:45.836000\n",
      "test 총 기간: 0 days 17:54:30.909000\n"
     ]
    },
    {
     "name": "stderr",
     "output_type": "stream",
     "text": [
      "<ipython-input-8-b3ae7dbb3584>:64: SettingWithCopyWarning: \n",
      "A value is trying to be set on a copy of a slice from a DataFrame.\n",
      "Try using .loc[row_indexer,col_indexer] = value instead\n",
      "\n",
      "See the caveats in the documentation: https://pandas.pydata.org/pandas-docs/stable/user_guide/indexing.html#returning-a-view-versus-a-copy\n",
      "  medistream_prediction_preprop_df['date_created'] = pd.to_datetime(medistream_prediction_preprop_df['date_created'])\n"
     ]
    },
    {
     "data": {
      "application/vnd.jupyter.widget-view+json": {
       "model_id": "402b1ffd3c774d69829bcb97431b8cb0",
       "version_major": 2,
       "version_minor": 0
      },
      "text/plain": [
       "  0%|          | 0/50 [00:00<?, ?it/s]"
      ]
     },
     "metadata": {},
     "output_type": "display_data"
    },
    {
     "data": {
      "application/vnd.jupyter.widget-view+json": {
       "model_id": "4bb1280603164d46ada7450a007cd6e9",
       "version_major": 2,
       "version_minor": 0
      },
      "text/plain": [
       "  0%|          | 0/20 [00:00<?, ?it/s]"
      ]
     },
     "metadata": {},
     "output_type": "display_data"
    },
    {
     "name": "stderr",
     "output_type": "stream",
     "text": [
      "\r",
      "8it [33:26, 337.21s/it]"
     ]
    },
    {
     "name": "stdout",
     "output_type": "stream",
     "text": [
      "train 총 기간: 183 days 10:01:10.587000\n",
      "test 총 기간: 0 days 21:52:14.628000\n"
     ]
    },
    {
     "name": "stderr",
     "output_type": "stream",
     "text": [
      "<ipython-input-8-b3ae7dbb3584>:64: SettingWithCopyWarning: \n",
      "A value is trying to be set on a copy of a slice from a DataFrame.\n",
      "Try using .loc[row_indexer,col_indexer] = value instead\n",
      "\n",
      "See the caveats in the documentation: https://pandas.pydata.org/pandas-docs/stable/user_guide/indexing.html#returning-a-view-versus-a-copy\n",
      "  medistream_prediction_preprop_df['date_created'] = pd.to_datetime(medistream_prediction_preprop_df['date_created'])\n"
     ]
    },
    {
     "data": {
      "application/vnd.jupyter.widget-view+json": {
       "model_id": "0e90020e11294affbefe654756b7c282",
       "version_major": 2,
       "version_minor": 0
      },
      "text/plain": [
       "  0%|          | 0/50 [00:00<?, ?it/s]"
      ]
     },
     "metadata": {},
     "output_type": "display_data"
    },
    {
     "data": {
      "application/vnd.jupyter.widget-view+json": {
       "model_id": "b21a75ccbfca4a799a9c10c907c31a4a",
       "version_major": 2,
       "version_minor": 0
      },
      "text/plain": [
       "  0%|          | 0/20 [00:00<?, ?it/s]"
      ]
     },
     "metadata": {},
     "output_type": "display_data"
    },
    {
     "name": "stderr",
     "output_type": "stream",
     "text": [
      "\r",
      "9it [40:13, 358.94s/it]"
     ]
    },
    {
     "name": "stdout",
     "output_type": "stream",
     "text": [
      "train 총 기간: 183 days 16:07:31.013000\n",
      "test 총 기간: 0 days 10:50:13.966000\n"
     ]
    },
    {
     "name": "stderr",
     "output_type": "stream",
     "text": [
      "<ipython-input-8-b3ae7dbb3584>:64: SettingWithCopyWarning: \n",
      "A value is trying to be set on a copy of a slice from a DataFrame.\n",
      "Try using .loc[row_indexer,col_indexer] = value instead\n",
      "\n",
      "See the caveats in the documentation: https://pandas.pydata.org/pandas-docs/stable/user_guide/indexing.html#returning-a-view-versus-a-copy\n",
      "  medistream_prediction_preprop_df['date_created'] = pd.to_datetime(medistream_prediction_preprop_df['date_created'])\n"
     ]
    },
    {
     "data": {
      "application/vnd.jupyter.widget-view+json": {
       "model_id": "2900ab1a73fe4da4b8b5ffcdab89ed44",
       "version_major": 2,
       "version_minor": 0
      },
      "text/plain": [
       "  0%|          | 0/50 [00:00<?, ?it/s]"
      ]
     },
     "metadata": {},
     "output_type": "display_data"
    },
    {
     "data": {
      "application/vnd.jupyter.widget-view+json": {
       "model_id": "f36124683ad040b297e35fe9f855607e",
       "version_major": 2,
       "version_minor": 0
      },
      "text/plain": [
       "  0%|          | 0/20 [00:00<?, ?it/s]"
      ]
     },
     "metadata": {},
     "output_type": "display_data"
    },
    {
     "name": "stderr",
     "output_type": "stream",
     "text": [
      "\r",
      "10it [46:56, 372.64s/it]"
     ]
    },
    {
     "name": "stdout",
     "output_type": "stream",
     "text": [
      "train 총 기간: 183 days 14:00:56.839000\n",
      "test 총 기간: 0 days 14:08:27.575000\n"
     ]
    },
    {
     "name": "stderr",
     "output_type": "stream",
     "text": [
      "<ipython-input-8-b3ae7dbb3584>:64: SettingWithCopyWarning: \n",
      "A value is trying to be set on a copy of a slice from a DataFrame.\n",
      "Try using .loc[row_indexer,col_indexer] = value instead\n",
      "\n",
      "See the caveats in the documentation: https://pandas.pydata.org/pandas-docs/stable/user_guide/indexing.html#returning-a-view-versus-a-copy\n",
      "  medistream_prediction_preprop_df['date_created'] = pd.to_datetime(medistream_prediction_preprop_df['date_created'])\n"
     ]
    },
    {
     "data": {
      "application/vnd.jupyter.widget-view+json": {
       "model_id": "ea2660e542d040deabfd934182e81161",
       "version_major": 2,
       "version_minor": 0
      },
      "text/plain": [
       "  0%|          | 0/50 [00:00<?, ?it/s]"
      ]
     },
     "metadata": {},
     "output_type": "display_data"
    },
    {
     "data": {
      "application/vnd.jupyter.widget-view+json": {
       "model_id": "aeb151db866d423484ce1aaf7d36ede9",
       "version_major": 2,
       "version_minor": 0
      },
      "text/plain": [
       "  0%|          | 0/20 [00:00<?, ?it/s]"
      ]
     },
     "metadata": {},
     "output_type": "display_data"
    },
    {
     "name": "stderr",
     "output_type": "stream",
     "text": [
      "\r",
      "11it [53:40, 382.17s/it]"
     ]
    },
    {
     "name": "stdout",
     "output_type": "stream",
     "text": [
      "train 총 기간: 183 days 14:41:49.962000\n",
      "test 총 기간: 0 days 12:50:59.716000\n"
     ]
    },
    {
     "name": "stderr",
     "output_type": "stream",
     "text": [
      "<ipython-input-8-b3ae7dbb3584>:64: SettingWithCopyWarning: \n",
      "A value is trying to be set on a copy of a slice from a DataFrame.\n",
      "Try using .loc[row_indexer,col_indexer] = value instead\n",
      "\n",
      "See the caveats in the documentation: https://pandas.pydata.org/pandas-docs/stable/user_guide/indexing.html#returning-a-view-versus-a-copy\n",
      "  medistream_prediction_preprop_df['date_created'] = pd.to_datetime(medistream_prediction_preprop_df['date_created'])\n"
     ]
    },
    {
     "data": {
      "application/vnd.jupyter.widget-view+json": {
       "model_id": "e06883418ffe4b7193101bedadc77a4f",
       "version_major": 2,
       "version_minor": 0
      },
      "text/plain": [
       "  0%|          | 0/50 [00:00<?, ?it/s]"
      ]
     },
     "metadata": {},
     "output_type": "display_data"
    },
    {
     "data": {
      "application/vnd.jupyter.widget-view+json": {
       "model_id": "87f76ca331d04ce68c224dcb929f43ab",
       "version_major": 2,
       "version_minor": 0
      },
      "text/plain": [
       "  0%|          | 0/20 [00:00<?, ?it/s]"
      ]
     },
     "metadata": {},
     "output_type": "display_data"
    },
    {
     "name": "stderr",
     "output_type": "stream",
     "text": [
      "\r",
      "12it [1:00:14, 385.84s/it]"
     ]
    },
    {
     "name": "stdout",
     "output_type": "stream",
     "text": [
      "train 총 기간: 183 days 21:13:27.398000\n",
      "test 총 기간: 0 days 14:55:30.724000\n"
     ]
    },
    {
     "name": "stderr",
     "output_type": "stream",
     "text": [
      "<ipython-input-8-b3ae7dbb3584>:64: SettingWithCopyWarning: \n",
      "A value is trying to be set on a copy of a slice from a DataFrame.\n",
      "Try using .loc[row_indexer,col_indexer] = value instead\n",
      "\n",
      "See the caveats in the documentation: https://pandas.pydata.org/pandas-docs/stable/user_guide/indexing.html#returning-a-view-versus-a-copy\n",
      "  medistream_prediction_preprop_df['date_created'] = pd.to_datetime(medistream_prediction_preprop_df['date_created'])\n"
     ]
    },
    {
     "data": {
      "application/vnd.jupyter.widget-view+json": {
       "model_id": "5edaff5340be47a5819bf9c62b6f4347",
       "version_major": 2,
       "version_minor": 0
      },
      "text/plain": [
       "  0%|          | 0/50 [00:00<?, ?it/s]"
      ]
     },
     "metadata": {},
     "output_type": "display_data"
    },
    {
     "data": {
      "application/vnd.jupyter.widget-view+json": {
       "model_id": "bd885afbbe09458a922fc0ba816772e2",
       "version_major": 2,
       "version_minor": 0
      },
      "text/plain": [
       "  0%|          | 0/20 [00:00<?, ?it/s]"
      ]
     },
     "metadata": {},
     "output_type": "display_data"
    },
    {
     "name": "stderr",
     "output_type": "stream",
     "text": [
      "\r",
      "13it [1:08:16, 415.10s/it]"
     ]
    },
    {
     "name": "stdout",
     "output_type": "stream",
     "text": [
      "train 총 기간: 183 days 15:04:03.763000\n",
      "test 총 기간: 0 days 22:01:47.993000\n"
     ]
    },
    {
     "name": "stderr",
     "output_type": "stream",
     "text": [
      "<ipython-input-8-b3ae7dbb3584>:64: SettingWithCopyWarning: \n",
      "A value is trying to be set on a copy of a slice from a DataFrame.\n",
      "Try using .loc[row_indexer,col_indexer] = value instead\n",
      "\n",
      "See the caveats in the documentation: https://pandas.pydata.org/pandas-docs/stable/user_guide/indexing.html#returning-a-view-versus-a-copy\n",
      "  medistream_prediction_preprop_df['date_created'] = pd.to_datetime(medistream_prediction_preprop_df['date_created'])\n"
     ]
    },
    {
     "data": {
      "application/vnd.jupyter.widget-view+json": {
       "model_id": "ede029c00b484489a26fbb2ace66d5c9",
       "version_major": 2,
       "version_minor": 0
      },
      "text/plain": [
       "  0%|          | 0/50 [00:00<?, ?it/s]"
      ]
     },
     "metadata": {},
     "output_type": "display_data"
    },
    {
     "data": {
      "application/vnd.jupyter.widget-view+json": {
       "model_id": "0efdf93a564e49a18d478047dfb6fcaf",
       "version_major": 2,
       "version_minor": 0
      },
      "text/plain": [
       "  0%|          | 0/20 [00:00<?, ?it/s]"
      ]
     },
     "metadata": {},
     "output_type": "display_data"
    },
    {
     "name": "stderr",
     "output_type": "stream",
     "text": [
      "\r",
      "14it [1:15:28, 419.95s/it]"
     ]
    },
    {
     "name": "stdout",
     "output_type": "stream",
     "text": [
      "train 총 기간: 183 days 23:20:31.146000\n",
      "test 총 기간: 0 days 17:13:15.067000\n"
     ]
    },
    {
     "name": "stderr",
     "output_type": "stream",
     "text": [
      "<ipython-input-8-b3ae7dbb3584>:64: SettingWithCopyWarning: \n",
      "A value is trying to be set on a copy of a slice from a DataFrame.\n",
      "Try using .loc[row_indexer,col_indexer] = value instead\n",
      "\n",
      "See the caveats in the documentation: https://pandas.pydata.org/pandas-docs/stable/user_guide/indexing.html#returning-a-view-versus-a-copy\n",
      "  medistream_prediction_preprop_df['date_created'] = pd.to_datetime(medistream_prediction_preprop_df['date_created'])\n"
     ]
    },
    {
     "data": {
      "application/vnd.jupyter.widget-view+json": {
       "model_id": "e76add4b1228407189d0f90a4f0ae224",
       "version_major": 2,
       "version_minor": 0
      },
      "text/plain": [
       "  0%|          | 0/50 [00:00<?, ?it/s]"
      ]
     },
     "metadata": {},
     "output_type": "display_data"
    },
    {
     "data": {
      "application/vnd.jupyter.widget-view+json": {
       "model_id": "e939e3a38289438db7306ad65e443b64",
       "version_major": 2,
       "version_minor": 0
      },
      "text/plain": [
       "  0%|          | 0/20 [00:00<?, ?it/s]"
      ]
     },
     "metadata": {},
     "output_type": "display_data"
    },
    {
     "name": "stderr",
     "output_type": "stream",
     "text": [
      "\r",
      "15it [1:23:52, 445.48s/it]"
     ]
    },
    {
     "name": "stdout",
     "output_type": "stream",
     "text": [
      "train 총 기간: 183 days 13:07:53.872000\n",
      "test 총 기간: 0 days 23:10:01.979000\n"
     ]
    },
    {
     "name": "stderr",
     "output_type": "stream",
     "text": [
      "<ipython-input-8-b3ae7dbb3584>:64: SettingWithCopyWarning: \n",
      "A value is trying to be set on a copy of a slice from a DataFrame.\n",
      "Try using .loc[row_indexer,col_indexer] = value instead\n",
      "\n",
      "See the caveats in the documentation: https://pandas.pydata.org/pandas-docs/stable/user_guide/indexing.html#returning-a-view-versus-a-copy\n",
      "  medistream_prediction_preprop_df['date_created'] = pd.to_datetime(medistream_prediction_preprop_df['date_created'])\n"
     ]
    },
    {
     "data": {
      "application/vnd.jupyter.widget-view+json": {
       "model_id": "f3913ac692e04586bcdd977605b83185",
       "version_major": 2,
       "version_minor": 0
      },
      "text/plain": [
       "  0%|          | 0/50 [00:00<?, ?it/s]"
      ]
     },
     "metadata": {},
     "output_type": "display_data"
    },
    {
     "data": {
      "application/vnd.jupyter.widget-view+json": {
       "model_id": "b6dc7627760143a2aa282beac21ae06b",
       "version_major": 2,
       "version_minor": 0
      },
      "text/plain": [
       "  0%|          | 0/20 [00:00<?, ?it/s]"
      ]
     },
     "metadata": {},
     "output_type": "display_data"
    },
    {
     "name": "stderr",
     "output_type": "stream",
     "text": [
      "\r",
      "16it [1:30:21, 428.50s/it]"
     ]
    },
    {
     "name": "stdout",
     "output_type": "stream",
     "text": [
      "train 총 기간: 183 days 15:28:34.051000\n",
      "test 총 기간: 0 days 14:46:55.481000\n"
     ]
    },
    {
     "name": "stderr",
     "output_type": "stream",
     "text": [
      "<ipython-input-8-b3ae7dbb3584>:64: SettingWithCopyWarning: \n",
      "A value is trying to be set on a copy of a slice from a DataFrame.\n",
      "Try using .loc[row_indexer,col_indexer] = value instead\n",
      "\n",
      "See the caveats in the documentation: https://pandas.pydata.org/pandas-docs/stable/user_guide/indexing.html#returning-a-view-versus-a-copy\n",
      "  medistream_prediction_preprop_df['date_created'] = pd.to_datetime(medistream_prediction_preprop_df['date_created'])\n"
     ]
    },
    {
     "data": {
      "application/vnd.jupyter.widget-view+json": {
       "model_id": "a0724cefcea747d58b4f524b96a83cd5",
       "version_major": 2,
       "version_minor": 0
      },
      "text/plain": [
       "  0%|          | 0/50 [00:00<?, ?it/s]"
      ]
     },
     "metadata": {},
     "output_type": "display_data"
    },
    {
     "data": {
      "application/vnd.jupyter.widget-view+json": {
       "model_id": "ac62344f885b4c20b8584a232dd5ba1e",
       "version_major": 2,
       "version_minor": 0
      },
      "text/plain": [
       "  0%|          | 0/20 [00:00<?, ?it/s]"
      ]
     },
     "metadata": {},
     "output_type": "display_data"
    },
    {
     "name": "stderr",
     "output_type": "stream",
     "text": [
      "\r",
      "17it [1:36:51, 416.95s/it]"
     ]
    },
    {
     "name": "stdout",
     "output_type": "stream",
     "text": [
      "train 총 기간: 183 days 23:55:43.065000\n",
      "test 총 기간: 0 days 15:15:03.304000\n"
     ]
    },
    {
     "name": "stderr",
     "output_type": "stream",
     "text": [
      "<ipython-input-8-b3ae7dbb3584>:64: SettingWithCopyWarning: \n",
      "A value is trying to be set on a copy of a slice from a DataFrame.\n",
      "Try using .loc[row_indexer,col_indexer] = value instead\n",
      "\n",
      "See the caveats in the documentation: https://pandas.pydata.org/pandas-docs/stable/user_guide/indexing.html#returning-a-view-versus-a-copy\n",
      "  medistream_prediction_preprop_df['date_created'] = pd.to_datetime(medistream_prediction_preprop_df['date_created'])\n"
     ]
    },
    {
     "data": {
      "application/vnd.jupyter.widget-view+json": {
       "model_id": "667fb737825e4674a1b6ba0f19d9a0e9",
       "version_major": 2,
       "version_minor": 0
      },
      "text/plain": [
       "  0%|          | 0/50 [00:00<?, ?it/s]"
      ]
     },
     "metadata": {},
     "output_type": "display_data"
    },
    {
     "data": {
      "application/vnd.jupyter.widget-view+json": {
       "model_id": "44e799d0b9294aa2b6dd1bf5ed2bce16",
       "version_major": 2,
       "version_minor": 0
      },
      "text/plain": [
       "  0%|          | 0/20 [00:00<?, ?it/s]"
      ]
     },
     "metadata": {},
     "output_type": "display_data"
    },
    {
     "name": "stderr",
     "output_type": "stream",
     "text": [
      "\r",
      "18it [1:43:10, 405.30s/it]"
     ]
    },
    {
     "name": "stdout",
     "output_type": "stream",
     "text": [
      "train 총 기간: 183 days 23:05:00.955000\n",
      "test 총 기간: 0 days 23:44:50.763000\n"
     ]
    },
    {
     "name": "stderr",
     "output_type": "stream",
     "text": [
      "<ipython-input-8-b3ae7dbb3584>:64: SettingWithCopyWarning: \n",
      "A value is trying to be set on a copy of a slice from a DataFrame.\n",
      "Try using .loc[row_indexer,col_indexer] = value instead\n",
      "\n",
      "See the caveats in the documentation: https://pandas.pydata.org/pandas-docs/stable/user_guide/indexing.html#returning-a-view-versus-a-copy\n",
      "  medistream_prediction_preprop_df['date_created'] = pd.to_datetime(medistream_prediction_preprop_df['date_created'])\n"
     ]
    },
    {
     "data": {
      "application/vnd.jupyter.widget-view+json": {
       "model_id": "52fec14b6e264c97b6a4e5687f548fca",
       "version_major": 2,
       "version_minor": 0
      },
      "text/plain": [
       "  0%|          | 0/50 [00:00<?, ?it/s]"
      ]
     },
     "metadata": {},
     "output_type": "display_data"
    },
    {
     "data": {
      "application/vnd.jupyter.widget-view+json": {
       "model_id": "b4dcf7078dea4458baba9792035e8624",
       "version_major": 2,
       "version_minor": 0
      },
      "text/plain": [
       "  0%|          | 0/20 [00:00<?, ?it/s]"
      ]
     },
     "metadata": {},
     "output_type": "display_data"
    },
    {
     "name": "stderr",
     "output_type": "stream",
     "text": [
      "\r",
      "19it [1:49:40, 400.96s/it]"
     ]
    },
    {
     "name": "stdout",
     "output_type": "stream",
     "text": [
      "train 총 기간: 183 days 22:55:35.853000\n",
      "test 총 기간: 0 days 23:18:49.452000\n"
     ]
    },
    {
     "name": "stderr",
     "output_type": "stream",
     "text": [
      "<ipython-input-8-b3ae7dbb3584>:64: SettingWithCopyWarning: \n",
      "A value is trying to be set on a copy of a slice from a DataFrame.\n",
      "Try using .loc[row_indexer,col_indexer] = value instead\n",
      "\n",
      "See the caveats in the documentation: https://pandas.pydata.org/pandas-docs/stable/user_guide/indexing.html#returning-a-view-versus-a-copy\n",
      "  medistream_prediction_preprop_df['date_created'] = pd.to_datetime(medistream_prediction_preprop_df['date_created'])\n"
     ]
    },
    {
     "data": {
      "application/vnd.jupyter.widget-view+json": {
       "model_id": "76b1a1ca221c4dec9c17a5c81dec8889",
       "version_major": 2,
       "version_minor": 0
      },
      "text/plain": [
       "  0%|          | 0/50 [00:00<?, ?it/s]"
      ]
     },
     "metadata": {},
     "output_type": "display_data"
    },
    {
     "data": {
      "application/vnd.jupyter.widget-view+json": {
       "model_id": "d953af4ab888498aa5ce011d78b81e9f",
       "version_major": 2,
       "version_minor": 0
      },
      "text/plain": [
       "  0%|          | 0/20 [00:00<?, ?it/s]"
      ]
     },
     "metadata": {},
     "output_type": "display_data"
    },
    {
     "name": "stderr",
     "output_type": "stream",
     "text": [
      "\r",
      "20it [1:56:13, 398.31s/it]"
     ]
    },
    {
     "name": "stdout",
     "output_type": "stream",
     "text": [
      "train 총 기간: 183 days 13:14:54.546000\n",
      "test 총 기간: 0 days 23:24:35.809000\n"
     ]
    },
    {
     "name": "stderr",
     "output_type": "stream",
     "text": [
      "<ipython-input-8-b3ae7dbb3584>:64: SettingWithCopyWarning: \n",
      "A value is trying to be set on a copy of a slice from a DataFrame.\n",
      "Try using .loc[row_indexer,col_indexer] = value instead\n",
      "\n",
      "See the caveats in the documentation: https://pandas.pydata.org/pandas-docs/stable/user_guide/indexing.html#returning-a-view-versus-a-copy\n",
      "  medistream_prediction_preprop_df['date_created'] = pd.to_datetime(medistream_prediction_preprop_df['date_created'])\n"
     ]
    },
    {
     "data": {
      "application/vnd.jupyter.widget-view+json": {
       "model_id": "21e348078cc54b8e85632e2664596f52",
       "version_major": 2,
       "version_minor": 0
      },
      "text/plain": [
       "  0%|          | 0/50 [00:00<?, ?it/s]"
      ]
     },
     "metadata": {},
     "output_type": "display_data"
    },
    {
     "data": {
      "application/vnd.jupyter.widget-view+json": {
       "model_id": "ade1805fe2824e9fbf599391109b8dcb",
       "version_major": 2,
       "version_minor": 0
      },
      "text/plain": [
       "  0%|          | 0/20 [00:00<?, ?it/s]"
      ]
     },
     "metadata": {},
     "output_type": "display_data"
    },
    {
     "name": "stderr",
     "output_type": "stream",
     "text": [
      "21it [2:02:49, 350.93s/it]"
     ]
    },
    {
     "name": "stdout",
     "output_type": "stream",
     "text": [
      "train 총 기간: 183 days 23:10:37.482000\n",
      "test 총 기간: 0 days 13:49:59\n"
     ]
    },
    {
     "name": "stderr",
     "output_type": "stream",
     "text": [
      "\n"
     ]
    },
    {
     "data": {
      "text/html": [
       "<div>\n",
       "<style scoped>\n",
       "    .dataframe tbody tr th:only-of-type {\n",
       "        vertical-align: middle;\n",
       "    }\n",
       "\n",
       "    .dataframe tbody tr th {\n",
       "        vertical-align: top;\n",
       "    }\n",
       "\n",
       "    .dataframe thead th {\n",
       "        text-align: right;\n",
       "    }\n",
       "</style>\n",
       "<table border=\"1\" class=\"dataframe\">\n",
       "  <thead>\n",
       "    <tr style=\"text-align: right;\">\n",
       "      <th></th>\n",
       "      <th>first_day</th>\n",
       "      <th>last_day</th>\n",
       "      <th>train_데이터수</th>\n",
       "      <th>train_유저수</th>\n",
       "      <th>test_데이터수</th>\n",
       "      <th>test_유저수</th>\n",
       "      <th>test_신규유저수</th>\n",
       "      <th>test_신규아이템수</th>\n",
       "      <th>원본_test수</th>\n",
       "      <th>전처리진행test수</th>\n",
       "      <th>als_mf</th>\n",
       "      <th>lmf</th>\n",
       "      <th>mp</th>\n",
       "      <th>medi_popular</th>\n",
       "      <th>latest</th>\n",
       "      <th>oldest</th>\n",
       "      <th>high_price</th>\n",
       "      <th>low_price</th>\n",
       "      <th>name_sort</th>\n",
       "      <th>als_mf_entropy</th>\n",
       "      <th>lmf_entropy</th>\n",
       "      <th>mp_entropy</th>\n",
       "      <th>medi_popular_entropy</th>\n",
       "      <th>latest_entropy</th>\n",
       "      <th>oldest_entropy</th>\n",
       "      <th>high_price_entropy</th>\n",
       "      <th>low_price_entropy</th>\n",
       "      <th>name_sort_entropy</th>\n",
       "    </tr>\n",
       "  </thead>\n",
       "  <tbody>\n",
       "    <tr>\n",
       "      <th>0</th>\n",
       "      <td>2022-03-13 2022-09-12</td>\n",
       "      <td>2022-09-13 2022-09-13</td>\n",
       "      <td>8312</td>\n",
       "      <td>3246</td>\n",
       "      <td>16</td>\n",
       "      <td>13</td>\n",
       "      <td>5</td>\n",
       "      <td>1</td>\n",
       "      <td>16</td>\n",
       "      <td>15</td>\n",
       "      <td>0.303554</td>\n",
       "      <td>0.290814</td>\n",
       "      <td>0.226360</td>\n",
       "      <td>0.212849</td>\n",
       "      <td>0.134415</td>\n",
       "      <td>0.105423</td>\n",
       "      <td>0.056727</td>\n",
       "      <td>0.071304</td>\n",
       "      <td>0.112681</td>\n",
       "      <td>5.285401</td>\n",
       "      <td>5.160008</td>\n",
       "      <td>4.660108</td>\n",
       "      <td>4.60517</td>\n",
       "      <td>4.60517</td>\n",
       "      <td>4.60517</td>\n",
       "      <td>4.60517</td>\n",
       "      <td>4.60517</td>\n",
       "      <td>4.60517</td>\n",
       "    </tr>\n",
       "    <tr>\n",
       "      <th>1</th>\n",
       "      <td>2022-03-12 2022-09-11</td>\n",
       "      <td>2022-09-12 2022-09-12</td>\n",
       "      <td>8319</td>\n",
       "      <td>3250</td>\n",
       "      <td>15</td>\n",
       "      <td>11</td>\n",
       "      <td>4</td>\n",
       "      <td>0</td>\n",
       "      <td>15</td>\n",
       "      <td>15</td>\n",
       "      <td>0.313633</td>\n",
       "      <td>0.381456</td>\n",
       "      <td>0.286805</td>\n",
       "      <td>0.292327</td>\n",
       "      <td>0.072003</td>\n",
       "      <td>0.140445</td>\n",
       "      <td>0.111384</td>\n",
       "      <td>0.034349</td>\n",
       "      <td>0.069693</td>\n",
       "      <td>5.097010</td>\n",
       "      <td>5.180468</td>\n",
       "      <td>4.659659</td>\n",
       "      <td>4.60517</td>\n",
       "      <td>4.60517</td>\n",
       "      <td>4.60517</td>\n",
       "      <td>4.60517</td>\n",
       "      <td>4.60517</td>\n",
       "      <td>4.60517</td>\n",
       "    </tr>\n",
       "    <tr>\n",
       "      <th>2</th>\n",
       "      <td>2022-03-11 2022-09-10</td>\n",
       "      <td>2022-09-11 2022-09-11</td>\n",
       "      <td>8354</td>\n",
       "      <td>3257</td>\n",
       "      <td>4</td>\n",
       "      <td>2</td>\n",
       "      <td>1</td>\n",
       "      <td>0</td>\n",
       "      <td>4</td>\n",
       "      <td>4</td>\n",
       "      <td>0.500000</td>\n",
       "      <td>0.500000</td>\n",
       "      <td>0.500000</td>\n",
       "      <td>0.425172</td>\n",
       "      <td>0.175544</td>\n",
       "      <td>0.046995</td>\n",
       "      <td>0.193426</td>\n",
       "      <td>0.116461</td>\n",
       "      <td>0.107439</td>\n",
       "      <td>4.847772</td>\n",
       "      <td>4.910155</td>\n",
       "      <td>4.612102</td>\n",
       "      <td>4.60517</td>\n",
       "      <td>4.60517</td>\n",
       "      <td>4.60517</td>\n",
       "      <td>4.60517</td>\n",
       "      <td>4.60517</td>\n",
       "      <td>4.60517</td>\n",
       "    </tr>\n",
       "    <tr>\n",
       "      <th>3</th>\n",
       "      <td>2022-03-10 2022-09-09</td>\n",
       "      <td>2022-09-10 2022-09-10</td>\n",
       "      <td>8378</td>\n",
       "      <td>3265</td>\n",
       "      <td>2</td>\n",
       "      <td>1</td>\n",
       "      <td>0</td>\n",
       "      <td>0</td>\n",
       "      <td>2</td>\n",
       "      <td>2</td>\n",
       "      <td>0.205957</td>\n",
       "      <td>0.919721</td>\n",
       "      <td>0.208226</td>\n",
       "      <td>0.230191</td>\n",
       "      <td>0.000000</td>\n",
       "      <td>0.211477</td>\n",
       "      <td>0.100723</td>\n",
       "      <td>0.112310</td>\n",
       "      <td>0.097267</td>\n",
       "      <td>4.605170</td>\n",
       "      <td>4.605170</td>\n",
       "      <td>4.605170</td>\n",
       "      <td>4.60517</td>\n",
       "      <td>4.60517</td>\n",
       "      <td>4.60517</td>\n",
       "      <td>4.60517</td>\n",
       "      <td>4.60517</td>\n",
       "      <td>4.60517</td>\n",
       "    </tr>\n",
       "    <tr>\n",
       "      <th>4</th>\n",
       "      <td>2022-03-09 2022-09-08</td>\n",
       "      <td>2022-09-09 2022-09-09</td>\n",
       "      <td>8380</td>\n",
       "      <td>3266</td>\n",
       "      <td>6</td>\n",
       "      <td>4</td>\n",
       "      <td>1</td>\n",
       "      <td>0</td>\n",
       "      <td>6</td>\n",
       "      <td>6</td>\n",
       "      <td>0.319339</td>\n",
       "      <td>0.301004</td>\n",
       "      <td>0.168688</td>\n",
       "      <td>0.162623</td>\n",
       "      <td>0.025453</td>\n",
       "      <td>0.250087</td>\n",
       "      <td>0.118327</td>\n",
       "      <td>0.024388</td>\n",
       "      <td>0.023122</td>\n",
       "      <td>5.092651</td>\n",
       "      <td>5.140645</td>\n",
       "      <td>4.662185</td>\n",
       "      <td>4.60517</td>\n",
       "      <td>4.60517</td>\n",
       "      <td>4.60517</td>\n",
       "      <td>4.60517</td>\n",
       "      <td>4.60517</td>\n",
       "      <td>4.60517</td>\n",
       "    </tr>\n",
       "    <tr>\n",
       "      <th>5</th>\n",
       "      <td>2022-03-08 2022-09-07</td>\n",
       "      <td>2022-09-08 2022-09-08</td>\n",
       "      <td>8315</td>\n",
       "      <td>3238</td>\n",
       "      <td>99</td>\n",
       "      <td>81</td>\n",
       "      <td>37</td>\n",
       "      <td>0</td>\n",
       "      <td>99</td>\n",
       "      <td>99</td>\n",
       "      <td>0.352723</td>\n",
       "      <td>0.303666</td>\n",
       "      <td>0.303352</td>\n",
       "      <td>0.398092</td>\n",
       "      <td>0.406999</td>\n",
       "      <td>0.039976</td>\n",
       "      <td>0.018795</td>\n",
       "      <td>0.028720</td>\n",
       "      <td>0.025187</td>\n",
       "      <td>5.276669</td>\n",
       "      <td>5.204263</td>\n",
       "      <td>4.667209</td>\n",
       "      <td>4.60517</td>\n",
       "      <td>4.60517</td>\n",
       "      <td>4.60517</td>\n",
       "      <td>4.60517</td>\n",
       "      <td>4.60517</td>\n",
       "      <td>4.60517</td>\n",
       "    </tr>\n",
       "    <tr>\n",
       "      <th>6</th>\n",
       "      <td>2022-03-07 2022-09-06</td>\n",
       "      <td>2022-09-07 2022-09-07</td>\n",
       "      <td>8330</td>\n",
       "      <td>3242</td>\n",
       "      <td>33</td>\n",
       "      <td>22</td>\n",
       "      <td>4</td>\n",
       "      <td>0</td>\n",
       "      <td>33</td>\n",
       "      <td>33</td>\n",
       "      <td>0.277976</td>\n",
       "      <td>0.269955</td>\n",
       "      <td>0.277754</td>\n",
       "      <td>0.295842</td>\n",
       "      <td>0.157896</td>\n",
       "      <td>0.120129</td>\n",
       "      <td>0.027949</td>\n",
       "      <td>0.085911</td>\n",
       "      <td>0.031597</td>\n",
       "      <td>5.343949</td>\n",
       "      <td>5.338146</td>\n",
       "      <td>4.678907</td>\n",
       "      <td>4.60517</td>\n",
       "      <td>4.60517</td>\n",
       "      <td>4.60517</td>\n",
       "      <td>4.60517</td>\n",
       "      <td>4.60517</td>\n",
       "      <td>4.60517</td>\n",
       "    </tr>\n",
       "    <tr>\n",
       "      <th>7</th>\n",
       "      <td>2022-03-06 2022-09-05</td>\n",
       "      <td>2022-09-06 2022-09-06</td>\n",
       "      <td>8282</td>\n",
       "      <td>3231</td>\n",
       "      <td>58</td>\n",
       "      <td>50</td>\n",
       "      <td>14</td>\n",
       "      <td>0</td>\n",
       "      <td>58</td>\n",
       "      <td>58</td>\n",
       "      <td>0.140563</td>\n",
       "      <td>0.097932</td>\n",
       "      <td>0.101982</td>\n",
       "      <td>0.291558</td>\n",
       "      <td>0.084193</td>\n",
       "      <td>0.132681</td>\n",
       "      <td>0.006057</td>\n",
       "      <td>0.015802</td>\n",
       "      <td>0.009075</td>\n",
       "      <td>5.352636</td>\n",
       "      <td>5.307212</td>\n",
       "      <td>4.712000</td>\n",
       "      <td>4.60517</td>\n",
       "      <td>4.60517</td>\n",
       "      <td>4.60517</td>\n",
       "      <td>4.60517</td>\n",
       "      <td>4.60517</td>\n",
       "      <td>4.60517</td>\n",
       "    </tr>\n",
       "    <tr>\n",
       "      <th>8</th>\n",
       "      <td>2022-03-05 2022-09-04</td>\n",
       "      <td>2022-09-05 2022-09-05</td>\n",
       "      <td>8268</td>\n",
       "      <td>3223</td>\n",
       "      <td>25</td>\n",
       "      <td>19</td>\n",
       "      <td>9</td>\n",
       "      <td>0</td>\n",
       "      <td>25</td>\n",
       "      <td>25</td>\n",
       "      <td>0.294181</td>\n",
       "      <td>0.346889</td>\n",
       "      <td>0.337690</td>\n",
       "      <td>0.332222</td>\n",
       "      <td>0.206070</td>\n",
       "      <td>0.077259</td>\n",
       "      <td>0.057511</td>\n",
       "      <td>0.069551</td>\n",
       "      <td>0.063201</td>\n",
       "      <td>5.251735</td>\n",
       "      <td>5.196215</td>\n",
       "      <td>4.649103</td>\n",
       "      <td>4.60517</td>\n",
       "      <td>4.60517</td>\n",
       "      <td>4.60517</td>\n",
       "      <td>4.60517</td>\n",
       "      <td>4.60517</td>\n",
       "      <td>4.60517</td>\n",
       "    </tr>\n",
       "    <tr>\n",
       "      <th>9</th>\n",
       "      <td>2022-03-04 2022-09-03</td>\n",
       "      <td>2022-09-04 2022-09-04</td>\n",
       "      <td>8277</td>\n",
       "      <td>3226</td>\n",
       "      <td>20</td>\n",
       "      <td>15</td>\n",
       "      <td>6</td>\n",
       "      <td>0</td>\n",
       "      <td>20</td>\n",
       "      <td>20</td>\n",
       "      <td>0.253189</td>\n",
       "      <td>0.304108</td>\n",
       "      <td>0.267942</td>\n",
       "      <td>0.267394</td>\n",
       "      <td>0.120879</td>\n",
       "      <td>0.176058</td>\n",
       "      <td>0.139931</td>\n",
       "      <td>0.024545</td>\n",
       "      <td>0.104338</td>\n",
       "      <td>5.221423</td>\n",
       "      <td>5.209074</td>\n",
       "      <td>4.652651</td>\n",
       "      <td>4.60517</td>\n",
       "      <td>4.60517</td>\n",
       "      <td>4.60517</td>\n",
       "      <td>4.60517</td>\n",
       "      <td>4.60517</td>\n",
       "      <td>4.60517</td>\n",
       "    </tr>\n",
       "    <tr>\n",
       "      <th>10</th>\n",
       "      <td>2022-03-03 2022-09-02</td>\n",
       "      <td>2022-09-03 2022-09-03</td>\n",
       "      <td>8304</td>\n",
       "      <td>3230</td>\n",
       "      <td>12</td>\n",
       "      <td>11</td>\n",
       "      <td>6</td>\n",
       "      <td>0</td>\n",
       "      <td>12</td>\n",
       "      <td>12</td>\n",
       "      <td>0.306801</td>\n",
       "      <td>0.417163</td>\n",
       "      <td>0.405319</td>\n",
       "      <td>0.425193</td>\n",
       "      <td>0.226620</td>\n",
       "      <td>0.066392</td>\n",
       "      <td>0.061179</td>\n",
       "      <td>0.079567</td>\n",
       "      <td>0.087979</td>\n",
       "      <td>5.123465</td>\n",
       "      <td>5.074146</td>\n",
       "      <td>4.641817</td>\n",
       "      <td>4.60517</td>\n",
       "      <td>4.60517</td>\n",
       "      <td>4.60517</td>\n",
       "      <td>4.60517</td>\n",
       "      <td>4.60517</td>\n",
       "      <td>4.60517</td>\n",
       "    </tr>\n",
       "    <tr>\n",
       "      <th>11</th>\n",
       "      <td>2022-03-02 2022-09-01</td>\n",
       "      <td>2022-09-02 2022-09-02</td>\n",
       "      <td>8302</td>\n",
       "      <td>3229</td>\n",
       "      <td>37</td>\n",
       "      <td>23</td>\n",
       "      <td>7</td>\n",
       "      <td>2</td>\n",
       "      <td>37</td>\n",
       "      <td>35</td>\n",
       "      <td>0.176325</td>\n",
       "      <td>0.218497</td>\n",
       "      <td>0.166062</td>\n",
       "      <td>0.185322</td>\n",
       "      <td>0.138250</td>\n",
       "      <td>0.097924</td>\n",
       "      <td>0.078354</td>\n",
       "      <td>0.038918</td>\n",
       "      <td>0.062463</td>\n",
       "      <td>5.352702</td>\n",
       "      <td>5.242691</td>\n",
       "      <td>4.651798</td>\n",
       "      <td>4.60517</td>\n",
       "      <td>4.60517</td>\n",
       "      <td>4.60517</td>\n",
       "      <td>4.60517</td>\n",
       "      <td>4.60517</td>\n",
       "      <td>4.60517</td>\n",
       "    </tr>\n",
       "    <tr>\n",
       "      <th>12</th>\n",
       "      <td>2022-03-01 2022-08-31</td>\n",
       "      <td>2022-09-01 2022-09-01</td>\n",
       "      <td>8192</td>\n",
       "      <td>3190</td>\n",
       "      <td>130</td>\n",
       "      <td>108</td>\n",
       "      <td>42</td>\n",
       "      <td>1</td>\n",
       "      <td>130</td>\n",
       "      <td>129</td>\n",
       "      <td>0.411192</td>\n",
       "      <td>0.352159</td>\n",
       "      <td>0.369066</td>\n",
       "      <td>0.460147</td>\n",
       "      <td>0.623961</td>\n",
       "      <td>0.010416</td>\n",
       "      <td>0.010408</td>\n",
       "      <td>0.128021</td>\n",
       "      <td>0.010234</td>\n",
       "      <td>5.300450</td>\n",
       "      <td>5.252467</td>\n",
       "      <td>4.654354</td>\n",
       "      <td>4.60517</td>\n",
       "      <td>4.60517</td>\n",
       "      <td>4.60517</td>\n",
       "      <td>4.60517</td>\n",
       "      <td>4.60517</td>\n",
       "      <td>4.60517</td>\n",
       "    </tr>\n",
       "    <tr>\n",
       "      <th>13</th>\n",
       "      <td>2022-02-28 2022-08-30</td>\n",
       "      <td>2022-08-31 2022-08-31</td>\n",
       "      <td>8168</td>\n",
       "      <td>3181</td>\n",
       "      <td>66</td>\n",
       "      <td>48</td>\n",
       "      <td>18</td>\n",
       "      <td>0</td>\n",
       "      <td>66</td>\n",
       "      <td>66</td>\n",
       "      <td>0.286078</td>\n",
       "      <td>0.319451</td>\n",
       "      <td>0.316461</td>\n",
       "      <td>0.430691</td>\n",
       "      <td>0.682309</td>\n",
       "      <td>0.030642</td>\n",
       "      <td>0.019702</td>\n",
       "      <td>0.082674</td>\n",
       "      <td>0.019395</td>\n",
       "      <td>5.293382</td>\n",
       "      <td>5.232229</td>\n",
       "      <td>4.670436</td>\n",
       "      <td>4.60517</td>\n",
       "      <td>4.60517</td>\n",
       "      <td>4.60517</td>\n",
       "      <td>4.60517</td>\n",
       "      <td>4.60517</td>\n",
       "      <td>4.60517</td>\n",
       "    </tr>\n",
       "    <tr>\n",
       "      <th>14</th>\n",
       "      <td>2022-02-27 2022-08-29</td>\n",
       "      <td>2022-08-30 2022-08-30</td>\n",
       "      <td>8058</td>\n",
       "      <td>3130</td>\n",
       "      <td>127</td>\n",
       "      <td>119</td>\n",
       "      <td>55</td>\n",
       "      <td>2</td>\n",
       "      <td>127</td>\n",
       "      <td>33</td>\n",
       "      <td>0.083220</td>\n",
       "      <td>0.080658</td>\n",
       "      <td>0.077916</td>\n",
       "      <td>0.085203</td>\n",
       "      <td>0.125732</td>\n",
       "      <td>0.004959</td>\n",
       "      <td>0.008873</td>\n",
       "      <td>0.027492</td>\n",
       "      <td>0.007574</td>\n",
       "      <td>5.225312</td>\n",
       "      <td>5.220208</td>\n",
       "      <td>4.684153</td>\n",
       "      <td>4.60517</td>\n",
       "      <td>4.60517</td>\n",
       "      <td>4.60517</td>\n",
       "      <td>4.60517</td>\n",
       "      <td>4.60517</td>\n",
       "      <td>4.60517</td>\n",
       "    </tr>\n",
       "    <tr>\n",
       "      <th>15</th>\n",
       "      <td>2022-02-26 2022-08-28</td>\n",
       "      <td>2022-08-29 2022-08-29</td>\n",
       "      <td>8058</td>\n",
       "      <td>3128</td>\n",
       "      <td>14</td>\n",
       "      <td>12</td>\n",
       "      <td>4</td>\n",
       "      <td>1</td>\n",
       "      <td>14</td>\n",
       "      <td>13</td>\n",
       "      <td>0.273629</td>\n",
       "      <td>0.292451</td>\n",
       "      <td>0.312285</td>\n",
       "      <td>0.287874</td>\n",
       "      <td>0.266335</td>\n",
       "      <td>0.060105</td>\n",
       "      <td>0.059517</td>\n",
       "      <td>0.084941</td>\n",
       "      <td>0.038006</td>\n",
       "      <td>5.334826</td>\n",
       "      <td>5.264707</td>\n",
       "      <td>4.652846</td>\n",
       "      <td>4.60517</td>\n",
       "      <td>4.60517</td>\n",
       "      <td>4.60517</td>\n",
       "      <td>4.60517</td>\n",
       "      <td>4.60517</td>\n",
       "      <td>4.60517</td>\n",
       "    </tr>\n",
       "    <tr>\n",
       "      <th>16</th>\n",
       "      <td>2022-02-25 2022-08-27</td>\n",
       "      <td>2022-08-28 2022-08-28</td>\n",
       "      <td>8067</td>\n",
       "      <td>3133</td>\n",
       "      <td>17</td>\n",
       "      <td>10</td>\n",
       "      <td>4</td>\n",
       "      <td>1</td>\n",
       "      <td>17</td>\n",
       "      <td>16</td>\n",
       "      <td>0.402779</td>\n",
       "      <td>0.427363</td>\n",
       "      <td>0.343903</td>\n",
       "      <td>0.388253</td>\n",
       "      <td>0.522031</td>\n",
       "      <td>0.084034</td>\n",
       "      <td>0.041985</td>\n",
       "      <td>0.104665</td>\n",
       "      <td>0.048289</td>\n",
       "      <td>5.211806</td>\n",
       "      <td>5.162823</td>\n",
       "      <td>4.642137</td>\n",
       "      <td>4.60517</td>\n",
       "      <td>4.60517</td>\n",
       "      <td>4.60517</td>\n",
       "      <td>4.60517</td>\n",
       "      <td>4.60517</td>\n",
       "      <td>4.60517</td>\n",
       "    </tr>\n",
       "    <tr>\n",
       "      <th>17</th>\n",
       "      <td>2022-02-24 2022-08-26</td>\n",
       "      <td>2022-08-27 2022-08-27</td>\n",
       "      <td>8080</td>\n",
       "      <td>3132</td>\n",
       "      <td>18</td>\n",
       "      <td>14</td>\n",
       "      <td>6</td>\n",
       "      <td>0</td>\n",
       "      <td>18</td>\n",
       "      <td>18</td>\n",
       "      <td>0.396771</td>\n",
       "      <td>0.327688</td>\n",
       "      <td>0.325191</td>\n",
       "      <td>0.436243</td>\n",
       "      <td>0.840024</td>\n",
       "      <td>0.037220</td>\n",
       "      <td>0.036518</td>\n",
       "      <td>0.140476</td>\n",
       "      <td>0.022141</td>\n",
       "      <td>5.218564</td>\n",
       "      <td>5.130530</td>\n",
       "      <td>4.638138</td>\n",
       "      <td>4.60517</td>\n",
       "      <td>4.60517</td>\n",
       "      <td>4.60517</td>\n",
       "      <td>4.60517</td>\n",
       "      <td>4.60517</td>\n",
       "      <td>4.60517</td>\n",
       "    </tr>\n",
       "    <tr>\n",
       "      <th>18</th>\n",
       "      <td>2022-02-23 2022-08-25</td>\n",
       "      <td>2022-08-26 2022-08-26</td>\n",
       "      <td>8076</td>\n",
       "      <td>3133</td>\n",
       "      <td>38</td>\n",
       "      <td>25</td>\n",
       "      <td>11</td>\n",
       "      <td>0</td>\n",
       "      <td>38</td>\n",
       "      <td>38</td>\n",
       "      <td>0.353884</td>\n",
       "      <td>0.315294</td>\n",
       "      <td>0.310131</td>\n",
       "      <td>0.442958</td>\n",
       "      <td>0.781417</td>\n",
       "      <td>0.044315</td>\n",
       "      <td>0.014434</td>\n",
       "      <td>0.166267</td>\n",
       "      <td>0.016683</td>\n",
       "      <td>5.216317</td>\n",
       "      <td>5.211906</td>\n",
       "      <td>4.649538</td>\n",
       "      <td>4.60517</td>\n",
       "      <td>4.60517</td>\n",
       "      <td>4.60517</td>\n",
       "      <td>4.60517</td>\n",
       "      <td>4.60517</td>\n",
       "      <td>4.60517</td>\n",
       "    </tr>\n",
       "    <tr>\n",
       "      <th>19</th>\n",
       "      <td>2022-02-22 2022-08-24</td>\n",
       "      <td>2022-08-25 2022-08-25</td>\n",
       "      <td>8087</td>\n",
       "      <td>3133</td>\n",
       "      <td>22</td>\n",
       "      <td>20</td>\n",
       "      <td>7</td>\n",
       "      <td>0</td>\n",
       "      <td>22</td>\n",
       "      <td>22</td>\n",
       "      <td>0.350787</td>\n",
       "      <td>0.332994</td>\n",
       "      <td>0.299887</td>\n",
       "      <td>0.384735</td>\n",
       "      <td>0.582883</td>\n",
       "      <td>0.025445</td>\n",
       "      <td>0.064963</td>\n",
       "      <td>0.089123</td>\n",
       "      <td>0.030060</td>\n",
       "      <td>5.283813</td>\n",
       "      <td>5.248264</td>\n",
       "      <td>4.669164</td>\n",
       "      <td>4.60517</td>\n",
       "      <td>4.60517</td>\n",
       "      <td>4.60517</td>\n",
       "      <td>4.60517</td>\n",
       "      <td>4.60517</td>\n",
       "      <td>4.60517</td>\n",
       "    </tr>\n",
       "    <tr>\n",
       "      <th>20</th>\n",
       "      <td>2022-02-21 2022-08-23</td>\n",
       "      <td>2022-08-24 2022-08-24</td>\n",
       "      <td>8123</td>\n",
       "      <td>3137</td>\n",
       "      <td>30</td>\n",
       "      <td>28</td>\n",
       "      <td>11</td>\n",
       "      <td>0</td>\n",
       "      <td>30</td>\n",
       "      <td>30</td>\n",
       "      <td>0.347953</td>\n",
       "      <td>0.381373</td>\n",
       "      <td>0.303576</td>\n",
       "      <td>0.459980</td>\n",
       "      <td>0.832262</td>\n",
       "      <td>0.004061</td>\n",
       "      <td>0.030787</td>\n",
       "      <td>0.141183</td>\n",
       "      <td>0.006503</td>\n",
       "      <td>5.283122</td>\n",
       "      <td>5.247744</td>\n",
       "      <td>4.645857</td>\n",
       "      <td>4.60517</td>\n",
       "      <td>4.60517</td>\n",
       "      <td>4.60517</td>\n",
       "      <td>4.60517</td>\n",
       "      <td>4.60517</td>\n",
       "      <td>4.60517</td>\n",
       "    </tr>\n",
       "  </tbody>\n",
       "</table>\n",
       "</div>"
      ],
      "text/plain": [
       "                first_day               last_day  train_데이터수  train_유저수  \\\n",
       "0   2022-03-13 2022-09-12  2022-09-13 2022-09-13        8312       3246   \n",
       "1   2022-03-12 2022-09-11  2022-09-12 2022-09-12        8319       3250   \n",
       "2   2022-03-11 2022-09-10  2022-09-11 2022-09-11        8354       3257   \n",
       "3   2022-03-10 2022-09-09  2022-09-10 2022-09-10        8378       3265   \n",
       "4   2022-03-09 2022-09-08  2022-09-09 2022-09-09        8380       3266   \n",
       "5   2022-03-08 2022-09-07  2022-09-08 2022-09-08        8315       3238   \n",
       "6   2022-03-07 2022-09-06  2022-09-07 2022-09-07        8330       3242   \n",
       "7   2022-03-06 2022-09-05  2022-09-06 2022-09-06        8282       3231   \n",
       "8   2022-03-05 2022-09-04  2022-09-05 2022-09-05        8268       3223   \n",
       "9   2022-03-04 2022-09-03  2022-09-04 2022-09-04        8277       3226   \n",
       "10  2022-03-03 2022-09-02  2022-09-03 2022-09-03        8304       3230   \n",
       "11  2022-03-02 2022-09-01  2022-09-02 2022-09-02        8302       3229   \n",
       "12  2022-03-01 2022-08-31  2022-09-01 2022-09-01        8192       3190   \n",
       "13  2022-02-28 2022-08-30  2022-08-31 2022-08-31        8168       3181   \n",
       "14  2022-02-27 2022-08-29  2022-08-30 2022-08-30        8058       3130   \n",
       "15  2022-02-26 2022-08-28  2022-08-29 2022-08-29        8058       3128   \n",
       "16  2022-02-25 2022-08-27  2022-08-28 2022-08-28        8067       3133   \n",
       "17  2022-02-24 2022-08-26  2022-08-27 2022-08-27        8080       3132   \n",
       "18  2022-02-23 2022-08-25  2022-08-26 2022-08-26        8076       3133   \n",
       "19  2022-02-22 2022-08-24  2022-08-25 2022-08-25        8087       3133   \n",
       "20  2022-02-21 2022-08-23  2022-08-24 2022-08-24        8123       3137   \n",
       "\n",
       "    test_데이터수  test_유저수  test_신규유저수  test_신규아이템수  원본_test수  전처리진행test수  \\\n",
       "0          16        13           5            1        16          15   \n",
       "1          15        11           4            0        15          15   \n",
       "2           4         2           1            0         4           4   \n",
       "3           2         1           0            0         2           2   \n",
       "4           6         4           1            0         6           6   \n",
       "5          99        81          37            0        99          99   \n",
       "6          33        22           4            0        33          33   \n",
       "7          58        50          14            0        58          58   \n",
       "8          25        19           9            0        25          25   \n",
       "9          20        15           6            0        20          20   \n",
       "10         12        11           6            0        12          12   \n",
       "11         37        23           7            2        37          35   \n",
       "12        130       108          42            1       130         129   \n",
       "13         66        48          18            0        66          66   \n",
       "14        127       119          55            2       127          33   \n",
       "15         14        12           4            1        14          13   \n",
       "16         17        10           4            1        17          16   \n",
       "17         18        14           6            0        18          18   \n",
       "18         38        25          11            0        38          38   \n",
       "19         22        20           7            0        22          22   \n",
       "20         30        28          11            0        30          30   \n",
       "\n",
       "      als_mf       lmf        mp  medi_popular    latest    oldest  \\\n",
       "0   0.303554  0.290814  0.226360      0.212849  0.134415  0.105423   \n",
       "1   0.313633  0.381456  0.286805      0.292327  0.072003  0.140445   \n",
       "2   0.500000  0.500000  0.500000      0.425172  0.175544  0.046995   \n",
       "3   0.205957  0.919721  0.208226      0.230191  0.000000  0.211477   \n",
       "4   0.319339  0.301004  0.168688      0.162623  0.025453  0.250087   \n",
       "5   0.352723  0.303666  0.303352      0.398092  0.406999  0.039976   \n",
       "6   0.277976  0.269955  0.277754      0.295842  0.157896  0.120129   \n",
       "7   0.140563  0.097932  0.101982      0.291558  0.084193  0.132681   \n",
       "8   0.294181  0.346889  0.337690      0.332222  0.206070  0.077259   \n",
       "9   0.253189  0.304108  0.267942      0.267394  0.120879  0.176058   \n",
       "10  0.306801  0.417163  0.405319      0.425193  0.226620  0.066392   \n",
       "11  0.176325  0.218497  0.166062      0.185322  0.138250  0.097924   \n",
       "12  0.411192  0.352159  0.369066      0.460147  0.623961  0.010416   \n",
       "13  0.286078  0.319451  0.316461      0.430691  0.682309  0.030642   \n",
       "14  0.083220  0.080658  0.077916      0.085203  0.125732  0.004959   \n",
       "15  0.273629  0.292451  0.312285      0.287874  0.266335  0.060105   \n",
       "16  0.402779  0.427363  0.343903      0.388253  0.522031  0.084034   \n",
       "17  0.396771  0.327688  0.325191      0.436243  0.840024  0.037220   \n",
       "18  0.353884  0.315294  0.310131      0.442958  0.781417  0.044315   \n",
       "19  0.350787  0.332994  0.299887      0.384735  0.582883  0.025445   \n",
       "20  0.347953  0.381373  0.303576      0.459980  0.832262  0.004061   \n",
       "\n",
       "    high_price  low_price  name_sort  als_mf_entropy  lmf_entropy  mp_entropy  \\\n",
       "0     0.056727   0.071304   0.112681        5.285401     5.160008    4.660108   \n",
       "1     0.111384   0.034349   0.069693        5.097010     5.180468    4.659659   \n",
       "2     0.193426   0.116461   0.107439        4.847772     4.910155    4.612102   \n",
       "3     0.100723   0.112310   0.097267        4.605170     4.605170    4.605170   \n",
       "4     0.118327   0.024388   0.023122        5.092651     5.140645    4.662185   \n",
       "5     0.018795   0.028720   0.025187        5.276669     5.204263    4.667209   \n",
       "6     0.027949   0.085911   0.031597        5.343949     5.338146    4.678907   \n",
       "7     0.006057   0.015802   0.009075        5.352636     5.307212    4.712000   \n",
       "8     0.057511   0.069551   0.063201        5.251735     5.196215    4.649103   \n",
       "9     0.139931   0.024545   0.104338        5.221423     5.209074    4.652651   \n",
       "10    0.061179   0.079567   0.087979        5.123465     5.074146    4.641817   \n",
       "11    0.078354   0.038918   0.062463        5.352702     5.242691    4.651798   \n",
       "12    0.010408   0.128021   0.010234        5.300450     5.252467    4.654354   \n",
       "13    0.019702   0.082674   0.019395        5.293382     5.232229    4.670436   \n",
       "14    0.008873   0.027492   0.007574        5.225312     5.220208    4.684153   \n",
       "15    0.059517   0.084941   0.038006        5.334826     5.264707    4.652846   \n",
       "16    0.041985   0.104665   0.048289        5.211806     5.162823    4.642137   \n",
       "17    0.036518   0.140476   0.022141        5.218564     5.130530    4.638138   \n",
       "18    0.014434   0.166267   0.016683        5.216317     5.211906    4.649538   \n",
       "19    0.064963   0.089123   0.030060        5.283813     5.248264    4.669164   \n",
       "20    0.030787   0.141183   0.006503        5.283122     5.247744    4.645857   \n",
       "\n",
       "    medi_popular_entropy  latest_entropy  oldest_entropy  high_price_entropy  \\\n",
       "0                4.60517         4.60517         4.60517             4.60517   \n",
       "1                4.60517         4.60517         4.60517             4.60517   \n",
       "2                4.60517         4.60517         4.60517             4.60517   \n",
       "3                4.60517         4.60517         4.60517             4.60517   \n",
       "4                4.60517         4.60517         4.60517             4.60517   \n",
       "5                4.60517         4.60517         4.60517             4.60517   \n",
       "6                4.60517         4.60517         4.60517             4.60517   \n",
       "7                4.60517         4.60517         4.60517             4.60517   \n",
       "8                4.60517         4.60517         4.60517             4.60517   \n",
       "9                4.60517         4.60517         4.60517             4.60517   \n",
       "10               4.60517         4.60517         4.60517             4.60517   \n",
       "11               4.60517         4.60517         4.60517             4.60517   \n",
       "12               4.60517         4.60517         4.60517             4.60517   \n",
       "13               4.60517         4.60517         4.60517             4.60517   \n",
       "14               4.60517         4.60517         4.60517             4.60517   \n",
       "15               4.60517         4.60517         4.60517             4.60517   \n",
       "16               4.60517         4.60517         4.60517             4.60517   \n",
       "17               4.60517         4.60517         4.60517             4.60517   \n",
       "18               4.60517         4.60517         4.60517             4.60517   \n",
       "19               4.60517         4.60517         4.60517             4.60517   \n",
       "20               4.60517         4.60517         4.60517             4.60517   \n",
       "\n",
       "    low_price_entropy  name_sort_entropy  \n",
       "0             4.60517            4.60517  \n",
       "1             4.60517            4.60517  \n",
       "2             4.60517            4.60517  \n",
       "3             4.60517            4.60517  \n",
       "4             4.60517            4.60517  \n",
       "5             4.60517            4.60517  \n",
       "6             4.60517            4.60517  \n",
       "7             4.60517            4.60517  \n",
       "8             4.60517            4.60517  \n",
       "9             4.60517            4.60517  \n",
       "10            4.60517            4.60517  \n",
       "11            4.60517            4.60517  \n",
       "12            4.60517            4.60517  \n",
       "13            4.60517            4.60517  \n",
       "14            4.60517            4.60517  \n",
       "15            4.60517            4.60517  \n",
       "16            4.60517            4.60517  \n",
       "17            4.60517            4.60517  \n",
       "18            4.60517            4.60517  \n",
       "19            4.60517            4.60517  \n",
       "20            4.60517            4.60517  "
      ]
     },
     "execution_count": 9,
     "metadata": {},
     "output_type": "execute_result"
    }
   ],
   "source": [
    "from tqdm import tqdm\n",
    "\n",
    "twenty_df_list = []\n",
    "for sp_day, tt_day in tqdm(zip(split_day_list,test_day_list)):\n",
    "    module_df = module(df, sp_day,tt_day)\n",
    "    twenty_df_list.append(module_df)\n",
    "twenty_df = pd.concat(twenty_df_list, ignore_index=True)\n",
    "twenty_df"
   ]
  },
  {
   "cell_type": "code",
   "execution_count": null,
   "id": "72d35993",
   "metadata": {},
   "outputs": [],
   "source": []
  }
 ],
 "metadata": {
  "kernelspec": {
   "display_name": "Python 3",
   "language": "python",
   "name": "python3"
  },
  "language_info": {
   "codemirror_mode": {
    "name": "ipython",
    "version": 3
   },
   "file_extension": ".py",
   "mimetype": "text/x-python",
   "name": "python",
   "nbconvert_exporter": "python",
   "pygments_lexer": "ipython3",
   "version": "3.8.8"
  }
 },
 "nbformat": 4,
 "nbformat_minor": 5
}
