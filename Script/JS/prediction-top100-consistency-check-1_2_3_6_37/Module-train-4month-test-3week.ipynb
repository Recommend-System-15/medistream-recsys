{
 "cells": [
  {
   "cell_type": "markdown",
   "id": "144c71b0",
   "metadata": {},
   "source": [
    "https://assaeunji.github.io/machine%20learning/2020-11-29-implicitfeedback/"
   ]
  },
  {
   "cell_type": "markdown",
   "id": "1758f1b3",
   "metadata": {},
   "source": [
    "# test 3주 정합성 검증\n",
    "- "
   ]
  },
  {
   "cell_type": "markdown",
   "id": "97dbe592",
   "metadata": {},
   "source": [
    "# 추천 모델\n",
    "- ALS MF, LMF, MP (총 3개)\n",
    "- 총 3개의 추천을 진행하며 MF와 LMF 의 경우 콜드스타트 유저(신규 유저)인 경우 MP로 추천 진행"
   ]
  },
  {
   "cell_type": "code",
   "execution_count": 22,
   "id": "053cf1d2",
   "metadata": {},
   "outputs": [
    {
     "name": "stdout",
     "output_type": "stream",
     "text": [
      "/home/user_3/medistream-recsys/Script\n"
     ]
    }
   ],
   "source": [
    "import pandas as pd\n",
    "import numpy as np\n",
    "import matplotlib.pyplot as plt\n",
    "import seaborn as sns\n",
    "from tqdm import tqdm\n",
    "\n",
    "import scipy.sparse as sparse\n",
    "import random\n",
    "import implicit\n",
    "from implicit.als import AlternatingLeastSquares as ALS\n",
    "\n",
    "%cd /home/user_3/medistream-recsys/Script\n",
    "from preprocessing import drop_columns,dict_to_column,dict_to_set,set_to_column,key_to_element\n",
    "\n",
    "pd.set_option('display.max_rows', 300)\n",
    "pd.set_option('display.max_columns', 100)\n",
    "\n",
    "from dateutil.relativedelta import relativedelta\n",
    "from datetime import datetime, timedelta\n",
    "import scipy.sparse as sp\n",
    "from implicit.lmf import LogisticMatrixFactorization as LMF"
   ]
  },
  {
   "cell_type": "markdown",
   "id": "c5943a3d",
   "metadata": {},
   "source": [
    "# 1.Dataload"
   ]
  },
  {
   "cell_type": "code",
   "execution_count": 23,
   "id": "1bfc0ddc",
   "metadata": {},
   "outputs": [
    {
     "name": "stderr",
     "output_type": "stream",
     "text": [
      "100%|██████████| 5141/5141 [00:00<00:00, 708397.68it/s]\n"
     ]
    }
   ],
   "source": [
    "# products name 확인 용\n",
    "products_df = pd.read_json(\"/fastcampus-data/products/products.json\")\n",
    "products_df = key_to_element(['_id'],products_df)"
   ]
  },
  {
   "cell_type": "code",
   "execution_count": 24,
   "id": "392f7771",
   "metadata": {},
   "outputs": [],
   "source": [
    "df = pd.read_json('/fastcampus-data/select_column_version_4.json')"
   ]
  },
  {
   "cell_type": "code",
   "execution_count": 25,
   "id": "5a9b3f4b",
   "metadata": {},
   "outputs": [],
   "source": [
    "df['date_paid'] = pd.to_datetime(df['date_paid'])"
   ]
  },
  {
   "cell_type": "code",
   "execution_count": 26,
   "id": "7e42cf73",
   "metadata": {},
   "outputs": [
    {
     "data": {
      "text/plain": [
       "Timestamp('2022-09-13 08:59:21.151000+0000', tz='UTC')"
      ]
     },
     "execution_count": 26,
     "metadata": {},
     "output_type": "execute_result"
    }
   ],
   "source": [
    "df['date_paid'].max()"
   ]
  },
  {
   "cell_type": "code",
   "execution_count": 27,
   "id": "912c29ad",
   "metadata": {},
   "outputs": [],
   "source": [
    "split_day_list =  []\n",
    "test_day_list = []\n",
    "\n",
    "# 1일 test 날짜 확인\n",
    "last_date_state = '2022-09-13'\n",
    "split_day = pd.to_datetime(last_date_state)-relativedelta(months=4)\n",
    "test_day = pd.to_datetime(last_date_state)\n",
    "'''\n",
    "마지막 날짜에서 개월 수를 자름 -> split_day\n",
    "months 만 바꾸면 21번 분량이 나옴\n",
    "'''\n",
    "\n",
    "for i in range(0,21):\n",
    "    sp_day = str((split_day-timedelta(days=i)).to_pydatetime().date())\n",
    "    tt_day  = str((test_day-timedelta(days=i)).to_pydatetime().date())\n",
    "    split_day_list.append(sp_day)\n",
    "    test_day_list.append(tt_day)"
   ]
  },
  {
   "cell_type": "code",
   "execution_count": 32,
   "id": "77f69294",
   "metadata": {},
   "outputs": [
    {
     "data": {
      "text/plain": [
       "['2022-09-13',\n",
       " '2022-09-12',\n",
       " '2022-09-11',\n",
       " '2022-09-10',\n",
       " '2022-09-09',\n",
       " '2022-09-08',\n",
       " '2022-09-07',\n",
       " '2022-09-06',\n",
       " '2022-09-05',\n",
       " '2022-09-04',\n",
       " '2022-09-03',\n",
       " '2022-09-02',\n",
       " '2022-09-01',\n",
       " '2022-08-31',\n",
       " '2022-08-30',\n",
       " '2022-08-29',\n",
       " '2022-08-28',\n",
       " '2022-08-27',\n",
       " '2022-08-26',\n",
       " '2022-08-25',\n",
       " '2022-08-24']"
      ]
     },
     "execution_count": 32,
     "metadata": {},
     "output_type": "execute_result"
    }
   ],
   "source": [
    "test_day_list"
   ]
  },
  {
   "cell_type": "code",
   "execution_count": 28,
   "id": "c51fdb8d",
   "metadata": {},
   "outputs": [],
   "source": [
    "class CustomEvaluator:\n",
    "    # relavence 모두 1로 동일하게 봄\n",
    "    def _idcg(self, l):\n",
    "        return sum((1.0 / np.log(i + 2) for i in range(l)))\n",
    "    \n",
    "\n",
    "    def __init__(self):\n",
    "        self._idcgs = [self._idcg(i) for i in range(1000)]\n",
    "    '''\n",
    "    idcgs 예시, item 3개 추천되므로 3.074281787960283 가 됩니다.\n",
    "    [0, 1.4426950408889634, 2.352934267515801, 3.074281787960283]\n",
    "    '''\n",
    "\n",
    "    def _ndcg(self, gt, rec):\n",
    "        dcg = 0.0\n",
    "        for i, r in enumerate(rec):\n",
    "            if r in gt:\n",
    "                dcg += 1.0 / np.log(i + 2)\n",
    "\n",
    "        return dcg / self._idcgs[len(gt)]\n",
    "    \n",
    "    def _entropy_diversity(self,rec_list):\n",
    "        import six\n",
    "        import math\n",
    "        \n",
    "        topn = len(rec_list[0]['items'])\n",
    "        users = [i.get('id',None) for i in rec_list]\n",
    "        sz = float(len(users)) * topn\n",
    "        freq = {}\n",
    "        for rec in rec_list:\n",
    "            for r in rec['items']:\n",
    "                freq[r] = freq.get(r, 0) + 1\n",
    "        ent = -sum([v / sz * math.log(v / sz) for v in six.itervalues(freq)])\n",
    "        return ent\n",
    "\n",
    "    def _eval(self, gt_list, rec_list):\n",
    "        gt_dict = {g[\"id\"]: g for g in gt_list}\n",
    "        ndcg_score = 0.0\n",
    "\n",
    "        for rec in rec_list:\n",
    "            gt = gt_dict[rec[\"id\"]]\n",
    "            ndcg_score += self._ndcg(gt[\"items\"], rec[\"items\"])\n",
    "\n",
    "\n",
    "        ndcg_score = ndcg_score / len(rec_list)\n",
    "        ent = self._entropy_diversity(rec_list)\n",
    "        \n",
    "        return ndcg_score, ent\n",
    "\n",
    "    def evaluate(self, gt_list, rec_list):\n",
    "        try:\n",
    "            ndcg_score, ent_score = self._eval(gt_list, rec_list)\n",
    "            print(f\"NDCG: {ndcg_score:.6}\")\n",
    "            print(f\"Entropy Diversity: {ent_score:.6} \")\n",
    "        except Exception as e:\n",
    "            print(e)\n"
   ]
  },
  {
   "cell_type": "code",
   "execution_count": 29,
   "id": "53019274",
   "metadata": {},
   "outputs": [],
   "source": [
    "def module(df:pd.DataFrame(), split_date, test_date)->pd.DataFrame():\n",
    "    \n",
    "    # paid orders만 가져오기\n",
    "    df['date_paid'] = pd.to_datetime(df['date_paid'])\n",
    "    df_only_paid = df[~df['date_paid'].isna()]\n",
    "    # 3개월치 데이터만 가져오기\n",
    "    df_date = df_only_paid[df_only_paid['date_paid'] >= split_date]\n",
    "    # 취소 안된 것만 가져오기\n",
    "    complete_df = df_date[(df_date['paid'] == True) & (df_date['cancelled']==False)]\n",
    "    # 도서 카테고리만 가져오기\n",
    "    only_book = complete_df[complete_df['name'] == '도서']\n",
    "\n",
    "    # 유저가 중복으로 아이템 구매 삭제\n",
    "    df_duplicated_book = only_book.drop_duplicates(subset=['customer_id','product_ids'])\n",
    "    df_book = df_duplicated_book.sort_values(by='date_paid').reset_index(drop=True)\n",
    "    \n",
    "    train = df_book[df_book['date_paid'] < test_date]\n",
    "    test = df_book[df_book['date_paid'].dt.date == pd.to_datetime(test_date)]\n",
    "    \n",
    "    \n",
    "    # test 만 있는 item 제거\n",
    "    only_test_items = set(test.product_ids.unique())-set(train.product_ids.unique())\n",
    "    if_prepro_test = test[~test['product_ids'].isin(only_test_items)]\n",
    "    \n",
    "    \n",
    "    PdIds = train.product_ids.unique()\n",
    "\n",
    "    PdIdToIndex = {}\n",
    "    indexToPdId = {}\n",
    "\n",
    "    colIdx = 0\n",
    "\n",
    "    for PdId in PdIds:\n",
    "        PdIdToIndex[PdId] = colIdx\n",
    "        indexToPdId[colIdx] = PdId\n",
    "        colIdx += 1\n",
    "\n",
    "    userIds = train.customer_id.unique()\n",
    "\n",
    "    userIdToIndex = {}\n",
    "    indexToUserId = {}\n",
    "\n",
    "    rowIdx = 0\n",
    "\n",
    "    for userId in userIds:\n",
    "        userIdToIndex[userId] = rowIdx\n",
    "        indexToUserId[rowIdx] = userId\n",
    "        rowIdx += 1\n",
    "    rows = []\n",
    "    cols = []\n",
    "    vals = []\n",
    "\n",
    "    for row in train.itertuples():\n",
    "        rows.append(userIdToIndex[row.customer_id])\n",
    "        cols.append(PdIdToIndex[row.product_ids])\n",
    "        vals.append(1)\n",
    "\n",
    "    purchase_sparse = sp.csr_matrix((vals, (rows, cols)), shape=(rowIdx,colIdx))\n",
    "\n",
    "    matrix = purchase_sparse.todense()\n",
    "\n",
    "    medistream_prediction_df = train[['date_created','regular_price','sale_price','three_months','product_ids','name_x']]\n",
    "    medistream_prediction_preprop_df = medistream_prediction_df.drop_duplicates(subset=['product_ids'], ignore_index=True)\n",
    "    medistream_prediction_preprop_df['date_created'] = pd.to_datetime(medistream_prediction_preprop_df['date_created'])    \n",
    "    \n",
    "    als_model = ALS(factors=20,regularization=0.01, iterations = 50, random_state=42)\n",
    "    alsmodel = als_model.fit(purchase_sparse)\n",
    "    lmf_model = LMF(factors=20, regularization=0.001, iterations = 20, random_state=42)\n",
    "    lmfmodel = lmf_model.fit(purchase_sparse)\n",
    "    \n",
    "    most_popular = train.groupby(['product_ids','name_x']).count()['customer_id'].reset_index()\n",
    "    most_popular_list = most_popular.sort_values(by='customer_id',ascending=False).index\n",
    "    \n",
    "\n",
    "        # test 예측값, 이미 구매 했을 경우 제외\n",
    "    als_predict_list = []\n",
    "    for user_id in test['customer_id'].unique():\n",
    "        try:\n",
    "            result = als_model.recommend(userIdToIndex[user_id], purchase_sparse[userIdToIndex[user_id]], N=100)\n",
    "            als_predict_list.append({'id':user_id ,'items':[indexToPdId[num] for num in result[0]]})\n",
    "        except:\n",
    "            train_purchase_list = list(train[train['customer_id']==user_id].product_ids)\n",
    "            als_predict_list.append({'id':user_id ,'items':[most_popular.product_ids.loc[num] for num in most_popular_list \\\n",
    "                                                                if most_popular.product_ids.loc[num] not in train_purchase_list \\\n",
    "                                                                ]})\n",
    "\n",
    "        # 100 개만 예측하기\n",
    "    for idx, pred_list in enumerate(als_predict_list):\n",
    "        als_predict_list[idx]['items'] = pred_list['items'][:100]\n",
    "\n",
    "    \n",
    "\n",
    "        # test 예측값\n",
    "    lmf_predict_list = []\n",
    "    for user_id in test['customer_id'].unique():\n",
    "        try:\n",
    "            result = lmf_model.recommend(userIdToIndex[user_id], purchase_sparse[userIdToIndex[user_id]], N=100)\n",
    "            lmf_predict_list.append({'id':user_id ,'items':[indexToPdId[num] for num in result[0]]})\n",
    "        except:\n",
    "            train_purchase_list = list(train[train['customer_id']==user_id].product_ids)\n",
    "            lmf_predict_list.append({'id':user_id ,'items':[most_popular.product_ids.loc[num] for num in most_popular_list \\\n",
    "                                                                if most_popular.product_ids.loc[num] not in train_purchase_list \\\n",
    "                                                                ]})\n",
    "\n",
    "        # 100 개만 예측하기\n",
    "    for idx, pred_list in enumerate(lmf_predict_list):\n",
    "        lmf_predict_list[idx]['items'] = pred_list['items'][:100]\n",
    "\n",
    "    \n",
    "\n",
    "        # test 예측값, 이미 구매 했을 경우 제외\n",
    "    predict_popular_list = []\n",
    "    for user_id in test['customer_id'].unique():\n",
    "        train_purchase_list = list(train[train['customer_id']==user_id].product_ids)\n",
    "        predict_popular_list.append({'id':user_id ,'items':[most_popular.product_ids.loc[num] for num in most_popular_list \\\n",
    "                                                                if most_popular.product_ids.loc[num] not in train_purchase_list \\\n",
    "                                                                ]})\n",
    "\n",
    "        # 100 개만 예측하기\n",
    "    for idx, pred_list in enumerate(predict_popular_list):\n",
    "        predict_popular_list[idx]['items'] = pred_list['items'][:100]\n",
    "        \n",
    "    # real test \n",
    "    ground_trues = []\n",
    "    for user_id in test['customer_id'].unique():\n",
    "        ground_trues.append({'id': user_id,\\\n",
    "        'items':list(test[test['customer_id']==user_id].product_ids)\n",
    "        })\n",
    "    # ALS \n",
    "    evaluator = CustomEvaluator()\n",
    "    als = evaluator._eval(ground_trues, als_predict_list)\n",
    "    \n",
    "    # LMF \n",
    "    evaluator = CustomEvaluator()\n",
    "    lmf = evaluator._eval(ground_trues, lmf_predict_list)\n",
    "    # MP\n",
    "    evaluator = CustomEvaluator()\n",
    "    mp = evaluator._eval(ground_trues, predict_popular_list)\n",
    "    \n",
    "    # 인기도순\n",
    "    medistream_popular_list = medistream_prediction_preprop_df.sort_values(by='three_months', ascending=False).index\n",
    "    # 최신순\n",
    "    medistream_latest_list = medistream_prediction_preprop_df.sort_values(by='date_created', ascending=False).index\n",
    "    # 오랜된 순\n",
    "    medistream_oldest_list = medistream_prediction_preprop_df.sort_values(by='date_created', ascending=True).index\n",
    "    # 높은 가격 순\n",
    "    medistream_high_price_list = medistream_prediction_preprop_df.sort_values(by='sale_price', ascending=False).index\n",
    "    # 낮은 가격 순\n",
    "    medistream_low_price_list = medistream_prediction_preprop_df.sort_values(by='sale_price', ascending=True).index\n",
    "    # 이름 순\n",
    "    medistream_name_sort_list = medistream_prediction_preprop_df.sort_values(by='name_x',ascending=True).index\n",
    "\n",
    "    def medistream_prediction_method(predict_num:int ,medi_predict_list:list)->list:\n",
    "        medistream_predict_list = []\n",
    "        for user_id in test['customer_id'].unique():\n",
    "            medistream_predict_list.append({'id':user_id ,'items':[medistream_prediction_preprop_df.product_ids.loc[num] \\\n",
    "                                                                           for num in medi_predict_list]})\n",
    "\n",
    "        # 100 개만 예측하기\n",
    "        for idx, pred_list in enumerate(medistream_predict_list):\n",
    "            medistream_predict_list[idx]['items'] = pred_list['items'][:predict_num]\n",
    "\n",
    "        return medistream_predict_list\n",
    "    \n",
    "    medistream_predict_popular_list = medistream_prediction_method(100, medistream_popular_list)\n",
    "    medistream_predict_latest_list = medistream_prediction_method(100, medistream_latest_list)\n",
    "    medistream_predict_oldest_list = medistream_prediction_method(100, medistream_oldest_list)\n",
    "    medistream_predict_high_price_list = medistream_prediction_method(100, medistream_high_price_list)\n",
    "    medistream_predict_low_price_list = medistream_prediction_method(100, medistream_low_price_list)\n",
    "    medistream_predict_name_sort_list = medistream_prediction_method(100, medistream_name_sort_list)\n",
    "    \n",
    "    def medistream_prediction(ground_trues:list, predict_list:list):\n",
    "        evaluator = CustomEvaluator()\n",
    "        ndcg, entropy = evaluator._eval(ground_trues, predict_list)\n",
    "\n",
    "        assert len(predict_list) == len(ground_trues)\n",
    "\n",
    "        cnt = 0\n",
    "        for gt, pred_list in zip(ground_trues, predict_list):\n",
    "            for pred in pred_list['items']:\n",
    "                if pred in gt['items']:\n",
    "                    cnt += 1\n",
    "        return ndcg, entropy, cnt\n",
    "    \n",
    "    medistream_predict_score = {'medistream_predict':['medi_popular','latest','oldest','high_price','low_price','name_sort'], \\\n",
    "                                'ndcg':[], 'entropy':[], 'cnt':[]}\n",
    "\n",
    "    medistream_predict_list = [medistream_predict_popular_list, medistream_predict_latest_list, medistream_predict_oldest_list,\\\n",
    "                              medistream_predict_high_price_list, medistream_predict_low_price_list, medistream_predict_name_sort_list]\n",
    "\n",
    "    for medistream_predict in medistream_predict_list:\n",
    "        ndcg, entropy, cnt = medistream_prediction(ground_trues, medistream_predict)\n",
    "        medistream_predict_score['ndcg'].append(ndcg)\n",
    "        medistream_predict_score['entropy'].append(entropy)\n",
    "        medistream_predict_score['cnt'].append(cnt)\n",
    "\n",
    "        \n",
    "######## hyper parameter\n",
    "    als_mf_hyper_parameter = {'factor':[],'regularization':[],'iteration':[],'NDCG':[],'entropy':[]}\n",
    "\n",
    "    factors = [5,10,15,20]\n",
    "    regularizations = [0.01,0.005]\n",
    "    iterations = [5,10,15,20,25,30,40,50]\n",
    "\n",
    "    for factor in factors:\n",
    "        for regularization in regularizations:\n",
    "            for iteration in iterations:\n",
    "                als_model = ALS(factors=factor, regularization=regularization, iterations = iteration, random_state=42)\n",
    "                als_model.fit(purchase_sparse, show_progress=False)\n",
    "\n",
    "                # 신규 유저인 경우 mp로 넣기\n",
    "                # 전체 도서에 대한 판매 만큼 정렬 후 넣기\n",
    "                most_popular_list = most_popular.sort_values(by='customer_id',ascending=False).index\n",
    "\n",
    "                # test 예측값, 이미 구매 했을 경우 제외\n",
    "                als_predict_list = []\n",
    "                for user_id in test['customer_id'].unique():\n",
    "                    try:\n",
    "                        result = als_model.recommend(userIdToIndex[user_id], purchase_sparse[userIdToIndex[user_id]], N=100)\n",
    "                        als_predict_list.append({'id':user_id ,'items':[indexToPdId[num] for num in result[0]]})\n",
    "                    except:\n",
    "                        train_purchase_list = list(train[train['customer_id']==user_id].product_ids)\n",
    "                        als_predict_list.append({'id':user_id ,'items':[most_popular.product_ids.loc[num] for num in most_popular_list \\\n",
    "                                                                            if most_popular.product_ids.loc[num] not in train_purchase_list \\\n",
    "                                                                            ]})\n",
    "\n",
    "                # 100 개만 예측하기\n",
    "                for idx, pred_list in enumerate(als_predict_list):\n",
    "                    als_predict_list[idx]['items'] = pred_list['items'][:100]\n",
    "\n",
    "                # ALS \n",
    "                evaluator = CustomEvaluator()\n",
    "                ndcg, entropy = evaluator._eval(ground_trues, als_predict_list)\n",
    "\n",
    "                als_mf_hyper_parameter['factor'].append(factor)\n",
    "                als_mf_hyper_parameter['regularization'].append(regularization)\n",
    "                als_mf_hyper_parameter['iteration'].append(iteration)\n",
    "                als_mf_hyper_parameter['NDCG'].append(ndcg)\n",
    "                als_mf_hyper_parameter['entropy'].append(entropy)\n",
    "                \n",
    "                \n",
    "    lmf_hyper_parameter = {'factor':[],'regularization':[],'iteration':[],'NDCG':[],'entropy':[]}\n",
    "\n",
    "    factors = [5,10,15,20]\n",
    "    regularizations = [0.01,0.005]\n",
    "    iterations = [5,10,15,20,25,30,40,50]\n",
    "\n",
    "    for factor in factors:\n",
    "        for regularization in regularizations:\n",
    "            for iteration in iterations:\n",
    "                lmf_model = LMF(factors=factor, regularization=regularization, iterations = iteration, random_state=42)\n",
    "                lmf_model.fit(purchase_sparse, show_progress=False)\n",
    "\n",
    "                # 신규 유저 mp로 넣기\n",
    "                most_popular_list = most_popular.sort_values(by='customer_id',ascending=False).index\n",
    "\n",
    "                # test 예측값\n",
    "                lmf_predict_list = []\n",
    "                for user_id in test['customer_id'].unique():\n",
    "                    try:\n",
    "                        result = lmf_model.recommend(userIdToIndex[user_id], purchase_sparse[userIdToIndex[user_id]], N=100)\n",
    "                        lmf_predict_list.append({'id':user_id ,'items':[indexToPdId[num] for num in result[0]]})\n",
    "                    except:\n",
    "                        train_purchase_list = list(train[train['customer_id']==user_id].product_ids)\n",
    "                        lmf_predict_list.append({'id':user_id ,'items':[most_popular.product_ids.loc[num] for num in most_popular_list \\\n",
    "                                                                            if most_popular.product_ids.loc[num] not in train_purchase_list \\\n",
    "                                                                            ]})\n",
    "\n",
    "                # 100 개만 예측하기\n",
    "                for idx, pred_list in enumerate(lmf_predict_list):\n",
    "                    lmf_predict_list[idx]['items'] = pred_list['items'][:100]\n",
    "\n",
    "                # LMF\n",
    "                evaluator = CustomEvaluator()\n",
    "                ndcg, entropy = evaluator._eval(ground_trues, lmf_predict_list)\n",
    "\n",
    "                lmf_hyper_parameter['factor'].append(factor)\n",
    "                lmf_hyper_parameter['regularization'].append(regularization)\n",
    "                lmf_hyper_parameter['iteration'].append(iteration)\n",
    "                lmf_hyper_parameter['NDCG'].append(ndcg)\n",
    "                lmf_hyper_parameter['entropy'].append(entropy)\n",
    "                \n",
    "#     return als_mf_hyper_parameter, lmf_hyper_parameter, medistream_predict_score\n",
    "\n",
    "    all_prediction_df = {'first_day':[],'last_day':[],'train_데이터수':[],'train_유저수':[],'test_데이터수':[],\\\n",
    "        'test_유저수':[],'test_신규유저수':[],'test_신규아이템수':[],'원본_test수':[],'전처리진행test수':[],\\\n",
    "        'als_mf':[],'lmf':[],'mp':[],'medi_popular':[],'latest':[],\\\n",
    "        'oldest':[],'high_price':[],'low_price':[],'name_sort':[],\\\n",
    "         'als_mf_entropy':[],'lmf_entropy':[],'mp_entropy':[],'medi_popular_entropy':[],'latest_entropy':[],\\\n",
    "         'oldest_entropy':[],'high_price_entropy':[],'low_price_entropy':[],'name_sort_entropy':[]}\n",
    "    medistream_predict_df = pd.DataFrame(medistream_predict_score)\n",
    "\n",
    "    all_prediction_df['first_day'].append(str(datetime.date(train['date_paid'].min()))+' '+str(datetime.date(train['date_paid'].max())))\n",
    "    all_prediction_df['last_day'].append(str(datetime.date(test['date_paid'].min()))+' '+str(datetime.date(test['date_paid'].max())))\n",
    "    all_prediction_df['train_데이터수'].append(len(train))\n",
    "    all_prediction_df['train_유저수'].append(len(set(train.customer_id)))\n",
    "    all_prediction_df['test_데이터수'].append(len(test))\n",
    "    all_prediction_df['test_유저수'].append(len(set(test.customer_id)))\n",
    "    all_prediction_df['test_신규유저수'].append(len(set(test['customer_id'].unique())- set(train['customer_id'].unique())))\n",
    "    all_prediction_df['test_신규아이템수'].append(len(set(test.product_ids.unique())-set(train.product_ids.unique())))\n",
    "    all_prediction_df['원본_test수'].append(len(test))\n",
    "    all_prediction_df['전처리진행test수'].append(len(if_prepro_test))\n",
    "\n",
    "    # ndcg\n",
    "    all_prediction_df['als_mf'].append(pd.DataFrame(als_mf_hyper_parameter).sort_values(by='NDCG',ascending=False)['NDCG'].iloc[0])\n",
    "    all_prediction_df['lmf'].append(pd.DataFrame(lmf_hyper_parameter).sort_values(by='NDCG',ascending=False)['NDCG'].iloc[0])\n",
    "    all_prediction_df['mp'].append(evaluator._eval(ground_trues, predict_popular_list)[0])\n",
    "    all_prediction_df['medi_popular'].append(medistream_predict_df[medistream_predict_df['medistream_predict']=='medi_popular'].iloc[0]['ndcg'])\n",
    "    all_prediction_df['latest'].append(medistream_predict_df[medistream_predict_df['medistream_predict']=='latest'].iloc[0]['ndcg'])\n",
    "    all_prediction_df['oldest'].append(medistream_predict_df[medistream_predict_df['medistream_predict']=='oldest'].iloc[0]['ndcg'])\n",
    "    all_prediction_df['high_price'].append(medistream_predict_df[medistream_predict_df['medistream_predict']=='high_price'].iloc[0]['ndcg'])\n",
    "    all_prediction_df['low_price'].append(medistream_predict_df[medistream_predict_df['medistream_predict']=='low_price'].iloc[0]['ndcg'])\n",
    "    all_prediction_df['name_sort'].append(medistream_predict_df[medistream_predict_df['medistream_predict']=='name_sort'].iloc[0]['ndcg'])\n",
    "\n",
    "#     entropy\n",
    "    all_prediction_df['als_mf_entropy'].append(pd.DataFrame(als_mf_hyper_parameter).sort_values(by='entropy',ascending=False)['entropy'].iloc[0])\n",
    "    all_prediction_df['lmf_entropy'].append(pd.DataFrame(lmf_hyper_parameter).sort_values(by='entropy',ascending=False)['entropy'].iloc[0])\n",
    "    all_prediction_df['mp_entropy'].append(evaluator._eval(ground_trues, predict_popular_list)[1])\n",
    "    all_prediction_df['medi_popular_entropy'].append(medistream_predict_df[medistream_predict_df['medistream_predict']=='medi_popular'].iloc[0]['entropy'])\n",
    "    all_prediction_df['latest_entropy'].append(medistream_predict_df[medistream_predict_df['medistream_predict']=='latest'].iloc[0]['entropy'])\n",
    "    all_prediction_df['oldest_entropy'].append(medistream_predict_df[medistream_predict_df['medistream_predict']=='oldest'].iloc[0]['entropy'])\n",
    "    all_prediction_df['high_price_entropy'].append(medistream_predict_df[medistream_predict_df['medistream_predict']=='high_price'].iloc[0]['entropy'])\n",
    "    all_prediction_df['low_price_entropy'].append(medistream_predict_df[medistream_predict_df['medistream_predict']=='low_price'].iloc[0]['entropy'])\n",
    "    all_prediction_df['name_sort_entropy'].append(medistream_predict_df[medistream_predict_df['medistream_predict']=='name_sort'].iloc[0]['entropy'])\n",
    "\n",
    "    print('train 총 기간:',train['date_paid'].max()-train['date_paid'].min())\n",
    "    print('test 총 기간:',test['date_paid'].max()-test['date_paid'].min())\n",
    "    \n",
    "    return pd.DataFrame(all_prediction_df)"
   ]
  },
  {
   "cell_type": "code",
   "execution_count": null,
   "id": "02d7e20c",
   "metadata": {
    "scrolled": false
   },
   "outputs": [
    {
     "name": "stderr",
     "output_type": "stream",
     "text": [
      "0it [00:00, ?it/s]<ipython-input-29-b3ae7dbb3584>:64: SettingWithCopyWarning: \n",
      "A value is trying to be set on a copy of a slice from a DataFrame.\n",
      "Try using .loc[row_indexer,col_indexer] = value instead\n",
      "\n",
      "See the caveats in the documentation: https://pandas.pydata.org/pandas-docs/stable/user_guide/indexing.html#returning-a-view-versus-a-copy\n",
      "  medistream_prediction_preprop_df['date_created'] = pd.to_datetime(medistream_prediction_preprop_df['date_created'])\n"
     ]
    },
    {
     "data": {
      "application/vnd.jupyter.widget-view+json": {
       "model_id": "9c3900c3f2694e8a928c852c8533dece",
       "version_major": 2,
       "version_minor": 0
      },
      "text/plain": [
       "  0%|          | 0/50 [00:00<?, ?it/s]"
      ]
     },
     "metadata": {},
     "output_type": "display_data"
    },
    {
     "data": {
      "application/vnd.jupyter.widget-view+json": {
       "model_id": "187358044f664bc7846762313a4f4508",
       "version_major": 2,
       "version_minor": 0
      },
      "text/plain": [
       "  0%|          | 0/20 [00:00<?, ?it/s]"
      ]
     },
     "metadata": {},
     "output_type": "display_data"
    },
    {
     "name": "stderr",
     "output_type": "stream",
     "text": [
      "\r",
      "1it [01:50, 110.92s/it]"
     ]
    },
    {
     "name": "stdout",
     "output_type": "stream",
     "text": [
      "train 총 기간: 122 days 23:26:53.198000\n",
      "test 총 기간: 0 days 08:44:11.628000\n"
     ]
    },
    {
     "name": "stderr",
     "output_type": "stream",
     "text": [
      "<ipython-input-29-b3ae7dbb3584>:64: SettingWithCopyWarning: \n",
      "A value is trying to be set on a copy of a slice from a DataFrame.\n",
      "Try using .loc[row_indexer,col_indexer] = value instead\n",
      "\n",
      "See the caveats in the documentation: https://pandas.pydata.org/pandas-docs/stable/user_guide/indexing.html#returning-a-view-versus-a-copy\n",
      "  medistream_prediction_preprop_df['date_created'] = pd.to_datetime(medistream_prediction_preprop_df['date_created'])\n"
     ]
    },
    {
     "data": {
      "application/vnd.jupyter.widget-view+json": {
       "model_id": "3e5dc5cbc8154f19848f95a7d9343852",
       "version_major": 2,
       "version_minor": 0
      },
      "text/plain": [
       "  0%|          | 0/50 [00:00<?, ?it/s]"
      ]
     },
     "metadata": {},
     "output_type": "display_data"
    },
    {
     "data": {
      "application/vnd.jupyter.widget-view+json": {
       "model_id": "d405e18446d1437b815b80b25ff8b6d6",
       "version_major": 2,
       "version_minor": 0
      },
      "text/plain": [
       "  0%|          | 0/20 [00:00<?, ?it/s]"
      ]
     },
     "metadata": {},
     "output_type": "display_data"
    },
    {
     "name": "stderr",
     "output_type": "stream",
     "text": [
      "\r",
      "2it [03:41, 110.50s/it]"
     ]
    },
    {
     "name": "stdout",
     "output_type": "stream",
     "text": [
      "train 총 기간: 122 days 20:07:23.880000\n",
      "test 총 기간: 0 days 23:18:07.974000\n"
     ]
    },
    {
     "name": "stderr",
     "output_type": "stream",
     "text": [
      "<ipython-input-29-b3ae7dbb3584>:64: SettingWithCopyWarning: \n",
      "A value is trying to be set on a copy of a slice from a DataFrame.\n",
      "Try using .loc[row_indexer,col_indexer] = value instead\n",
      "\n",
      "See the caveats in the documentation: https://pandas.pydata.org/pandas-docs/stable/user_guide/indexing.html#returning-a-view-versus-a-copy\n",
      "  medistream_prediction_preprop_df['date_created'] = pd.to_datetime(medistream_prediction_preprop_df['date_created'])\n"
     ]
    },
    {
     "data": {
      "application/vnd.jupyter.widget-view+json": {
       "model_id": "6104cb6ced4a4bccba1711c9a3a14dbe",
       "version_major": 2,
       "version_minor": 0
      },
      "text/plain": [
       "  0%|          | 0/50 [00:00<?, ?it/s]"
      ]
     },
     "metadata": {},
     "output_type": "display_data"
    },
    {
     "data": {
      "application/vnd.jupyter.widget-view+json": {
       "model_id": "2433a6c49bbb47c8bfc5f78fb039811f",
       "version_major": 2,
       "version_minor": 0
      },
      "text/plain": [
       "  0%|          | 0/20 [00:00<?, ?it/s]"
      ]
     },
     "metadata": {},
     "output_type": "display_data"
    },
    {
     "name": "stderr",
     "output_type": "stream",
     "text": [
      "\r",
      "3it [05:26, 108.07s/it]"
     ]
    },
    {
     "name": "stdout",
     "output_type": "stream",
     "text": [
      "train 총 기간: 122 days 21:31:47.533000\n",
      "test 총 기간: 0 days 07:14:08.106000\n"
     ]
    },
    {
     "name": "stderr",
     "output_type": "stream",
     "text": [
      "<ipython-input-29-b3ae7dbb3584>:64: SettingWithCopyWarning: \n",
      "A value is trying to be set on a copy of a slice from a DataFrame.\n",
      "Try using .loc[row_indexer,col_indexer] = value instead\n",
      "\n",
      "See the caveats in the documentation: https://pandas.pydata.org/pandas-docs/stable/user_guide/indexing.html#returning-a-view-versus-a-copy\n",
      "  medistream_prediction_preprop_df['date_created'] = pd.to_datetime(medistream_prediction_preprop_df['date_created'])\n"
     ]
    },
    {
     "data": {
      "application/vnd.jupyter.widget-view+json": {
       "model_id": "67d406db260f4f87bab806ac44728a73",
       "version_major": 2,
       "version_minor": 0
      },
      "text/plain": [
       "  0%|          | 0/50 [00:00<?, ?it/s]"
      ]
     },
     "metadata": {},
     "output_type": "display_data"
    },
    {
     "data": {
      "application/vnd.jupyter.widget-view+json": {
       "model_id": "2f5cb3cdd0e743db8e1b31b8f11c5d94",
       "version_major": 2,
       "version_minor": 0
      },
      "text/plain": [
       "  0%|          | 0/20 [00:00<?, ?it/s]"
      ]
     },
     "metadata": {},
     "output_type": "display_data"
    },
    {
     "name": "stderr",
     "output_type": "stream",
     "text": [
      "\r",
      "4it [07:10, 106.49s/it]"
     ]
    },
    {
     "name": "stdout",
     "output_type": "stream",
     "text": [
      "train 총 기간: 122 days 10:06:55.307000\n",
      "test 총 기간: 0 days 00:01:36.172000\n"
     ]
    },
    {
     "name": "stderr",
     "output_type": "stream",
     "text": [
      "<ipython-input-29-b3ae7dbb3584>:64: SettingWithCopyWarning: \n",
      "A value is trying to be set on a copy of a slice from a DataFrame.\n",
      "Try using .loc[row_indexer,col_indexer] = value instead\n",
      "\n",
      "See the caveats in the documentation: https://pandas.pydata.org/pandas-docs/stable/user_guide/indexing.html#returning-a-view-versus-a-copy\n",
      "  medistream_prediction_preprop_df['date_created'] = pd.to_datetime(medistream_prediction_preprop_df['date_created'])\n"
     ]
    },
    {
     "data": {
      "application/vnd.jupyter.widget-view+json": {
       "model_id": "ae1a0646a1134361a7ae939efcbad25c",
       "version_major": 2,
       "version_minor": 0
      },
      "text/plain": [
       "  0%|          | 0/50 [00:00<?, ?it/s]"
      ]
     },
     "metadata": {},
     "output_type": "display_data"
    },
    {
     "data": {
      "application/vnd.jupyter.widget-view+json": {
       "model_id": "464398ba60cd411b836c7c3227faecfc",
       "version_major": 2,
       "version_minor": 0
      },
      "text/plain": [
       "  0%|          | 0/20 [00:00<?, ?it/s]"
      ]
     },
     "metadata": {},
     "output_type": "display_data"
    },
    {
     "name": "stderr",
     "output_type": "stream",
     "text": [
      "\r",
      "5it [08:55, 106.15s/it]"
     ]
    },
    {
     "name": "stdout",
     "output_type": "stream",
     "text": [
      "train 총 기간: 122 days 21:39:26.339000\n",
      "test 총 기간: 0 days 08:09:01.373000\n"
     ]
    },
    {
     "name": "stderr",
     "output_type": "stream",
     "text": [
      "<ipython-input-29-b3ae7dbb3584>:64: SettingWithCopyWarning: \n",
      "A value is trying to be set on a copy of a slice from a DataFrame.\n",
      "Try using .loc[row_indexer,col_indexer] = value instead\n",
      "\n",
      "See the caveats in the documentation: https://pandas.pydata.org/pandas-docs/stable/user_guide/indexing.html#returning-a-view-versus-a-copy\n",
      "  medistream_prediction_preprop_df['date_created'] = pd.to_datetime(medistream_prediction_preprop_df['date_created'])\n"
     ]
    },
    {
     "data": {
      "application/vnd.jupyter.widget-view+json": {
       "model_id": "6e5b3537821f405c99519a17fff995c1",
       "version_major": 2,
       "version_minor": 0
      },
      "text/plain": [
       "  0%|          | 0/50 [00:00<?, ?it/s]"
      ]
     },
     "metadata": {},
     "output_type": "display_data"
    },
    {
     "data": {
      "application/vnd.jupyter.widget-view+json": {
       "model_id": "60105aa56d39403290dc2904cd18467c",
       "version_major": 2,
       "version_minor": 0
      },
      "text/plain": [
       "  0%|          | 0/20 [00:00<?, ?it/s]"
      ]
     },
     "metadata": {},
     "output_type": "display_data"
    },
    {
     "name": "stderr",
     "output_type": "stream",
     "text": [
      "\r",
      "6it [11:39, 125.80s/it]"
     ]
    },
    {
     "name": "stdout",
     "output_type": "stream",
     "text": [
      "train 총 기간: 122 days 16:29:40.909000\n",
      "test 총 기간: 0 days 22:28:59.805000\n"
     ]
    },
    {
     "name": "stderr",
     "output_type": "stream",
     "text": [
      "<ipython-input-29-b3ae7dbb3584>:64: SettingWithCopyWarning: \n",
      "A value is trying to be set on a copy of a slice from a DataFrame.\n",
      "Try using .loc[row_indexer,col_indexer] = value instead\n",
      "\n",
      "See the caveats in the documentation: https://pandas.pydata.org/pandas-docs/stable/user_guide/indexing.html#returning-a-view-versus-a-copy\n",
      "  medistream_prediction_preprop_df['date_created'] = pd.to_datetime(medistream_prediction_preprop_df['date_created'])\n"
     ]
    },
    {
     "data": {
      "application/vnd.jupyter.widget-view+json": {
       "model_id": "5e96d44d3fc74a279c9160ba77a14c4f",
       "version_major": 2,
       "version_minor": 0
      },
      "text/plain": [
       "  0%|          | 0/50 [00:00<?, ?it/s]"
      ]
     },
     "metadata": {},
     "output_type": "display_data"
    },
    {
     "data": {
      "application/vnd.jupyter.widget-view+json": {
       "model_id": "1043619b7f4d4285ba6dc2e7154dae87",
       "version_major": 2,
       "version_minor": 0
      },
      "text/plain": [
       "  0%|          | 0/20 [00:00<?, ?it/s]"
      ]
     },
     "metadata": {},
     "output_type": "display_data"
    },
    {
     "name": "stderr",
     "output_type": "stream",
     "text": [
      "\r",
      "7it [13:32, 121.37s/it]"
     ]
    },
    {
     "name": "stdout",
     "output_type": "stream",
     "text": [
      "train 총 기간: 122 days 20:55:17.761000\n",
      "test 총 기간: 0 days 17:54:30.909000\n"
     ]
    },
    {
     "name": "stderr",
     "output_type": "stream",
     "text": [
      "<ipython-input-29-b3ae7dbb3584>:64: SettingWithCopyWarning: \n",
      "A value is trying to be set on a copy of a slice from a DataFrame.\n",
      "Try using .loc[row_indexer,col_indexer] = value instead\n",
      "\n",
      "See the caveats in the documentation: https://pandas.pydata.org/pandas-docs/stable/user_guide/indexing.html#returning-a-view-versus-a-copy\n",
      "  medistream_prediction_preprop_df['date_created'] = pd.to_datetime(medistream_prediction_preprop_df['date_created'])\n"
     ]
    },
    {
     "data": {
      "application/vnd.jupyter.widget-view+json": {
       "model_id": "7039940239744abf9b9852f215a1c729",
       "version_major": 2,
       "version_minor": 0
      },
      "text/plain": [
       "  0%|          | 0/50 [00:00<?, ?it/s]"
      ]
     },
     "metadata": {},
     "output_type": "display_data"
    },
    {
     "data": {
      "application/vnd.jupyter.widget-view+json": {
       "model_id": "912496b98fe84de2bf1dfef12f0813d7",
       "version_major": 2,
       "version_minor": 0
      },
      "text/plain": [
       "  0%|          | 0/20 [00:00<?, ?it/s]"
      ]
     },
     "metadata": {},
     "output_type": "display_data"
    },
    {
     "name": "stderr",
     "output_type": "stream",
     "text": [
      "\r",
      "8it [15:40, 123.62s/it]"
     ]
    },
    {
     "name": "stdout",
     "output_type": "stream",
     "text": [
      "train 총 기간: 122 days 10:33:34.694000\n",
      "test 총 기간: 0 days 21:52:14.628000\n"
     ]
    },
    {
     "name": "stderr",
     "output_type": "stream",
     "text": [
      "<ipython-input-29-b3ae7dbb3584>:64: SettingWithCopyWarning: \n",
      "A value is trying to be set on a copy of a slice from a DataFrame.\n",
      "Try using .loc[row_indexer,col_indexer] = value instead\n",
      "\n",
      "See the caveats in the documentation: https://pandas.pydata.org/pandas-docs/stable/user_guide/indexing.html#returning-a-view-versus-a-copy\n",
      "  medistream_prediction_preprop_df['date_created'] = pd.to_datetime(medistream_prediction_preprop_df['date_created'])\n"
     ]
    },
    {
     "data": {
      "application/vnd.jupyter.widget-view+json": {
       "model_id": "bd066ee6dd0a448c8f5dae90bdbd8b8f",
       "version_major": 2,
       "version_minor": 0
      },
      "text/plain": [
       "  0%|          | 0/50 [00:00<?, ?it/s]"
      ]
     },
     "metadata": {},
     "output_type": "display_data"
    },
    {
     "data": {
      "application/vnd.jupyter.widget-view+json": {
       "model_id": "c462bd709e83403da9001d4c3d5578e7",
       "version_major": 2,
       "version_minor": 0
      },
      "text/plain": [
       "  0%|          | 0/20 [00:00<?, ?it/s]"
      ]
     },
     "metadata": {},
     "output_type": "display_data"
    },
    {
     "name": "stderr",
     "output_type": "stream",
     "text": [
      "\r",
      "9it [17:38, 121.99s/it]"
     ]
    },
    {
     "name": "stdout",
     "output_type": "stream",
     "text": [
      "train 총 기간: 122 days 15:27:55.074000\n",
      "test 총 기간: 0 days 10:50:13.966000\n"
     ]
    },
    {
     "name": "stderr",
     "output_type": "stream",
     "text": [
      "<ipython-input-29-b3ae7dbb3584>:64: SettingWithCopyWarning: \n",
      "A value is trying to be set on a copy of a slice from a DataFrame.\n",
      "Try using .loc[row_indexer,col_indexer] = value instead\n",
      "\n",
      "See the caveats in the documentation: https://pandas.pydata.org/pandas-docs/stable/user_guide/indexing.html#returning-a-view-versus-a-copy\n",
      "  medistream_prediction_preprop_df['date_created'] = pd.to_datetime(medistream_prediction_preprop_df['date_created'])\n"
     ]
    },
    {
     "data": {
      "application/vnd.jupyter.widget-view+json": {
       "model_id": "7eb924828ad947bfbecd66b5b1d7e478",
       "version_major": 2,
       "version_minor": 0
      },
      "text/plain": [
       "  0%|          | 0/50 [00:00<?, ?it/s]"
      ]
     },
     "metadata": {},
     "output_type": "display_data"
    },
    {
     "data": {
      "application/vnd.jupyter.widget-view+json": {
       "model_id": "0ec9bbc13f064313be41ddfb890dfe0e",
       "version_major": 2,
       "version_minor": 0
      },
      "text/plain": [
       "  0%|          | 0/20 [00:00<?, ?it/s]"
      ]
     },
     "metadata": {},
     "output_type": "display_data"
    },
    {
     "name": "stderr",
     "output_type": "stream",
     "text": [
      "\r",
      "10it [19:32, 119.45s/it]"
     ]
    },
    {
     "name": "stdout",
     "output_type": "stream",
     "text": [
      "train 총 기간: 122 days 14:19:15.373000\n",
      "test 총 기간: 0 days 14:08:27.575000\n"
     ]
    },
    {
     "name": "stderr",
     "output_type": "stream",
     "text": [
      "<ipython-input-29-b3ae7dbb3584>:64: SettingWithCopyWarning: \n",
      "A value is trying to be set on a copy of a slice from a DataFrame.\n",
      "Try using .loc[row_indexer,col_indexer] = value instead\n",
      "\n",
      "See the caveats in the documentation: https://pandas.pydata.org/pandas-docs/stable/user_guide/indexing.html#returning-a-view-versus-a-copy\n",
      "  medistream_prediction_preprop_df['date_created'] = pd.to_datetime(medistream_prediction_preprop_df['date_created'])\n"
     ]
    },
    {
     "data": {
      "application/vnd.jupyter.widget-view+json": {
       "model_id": "a15b02ddbaa34bfd9a7416e69c05fde8",
       "version_major": 2,
       "version_minor": 0
      },
      "text/plain": [
       "  0%|          | 0/50 [00:00<?, ?it/s]"
      ]
     },
     "metadata": {},
     "output_type": "display_data"
    },
    {
     "data": {
      "application/vnd.jupyter.widget-view+json": {
       "model_id": "7e0c8969de9145939ff86ef3797e6197",
       "version_major": 2,
       "version_minor": 0
      },
      "text/plain": [
       "  0%|          | 0/20 [00:00<?, ?it/s]"
      ]
     },
     "metadata": {},
     "output_type": "display_data"
    },
    {
     "name": "stderr",
     "output_type": "stream",
     "text": [
      "\r",
      "11it [21:24, 117.21s/it]"
     ]
    },
    {
     "name": "stdout",
     "output_type": "stream",
     "text": [
      "train 총 기간: 122 days 14:12:50.748000\n",
      "test 총 기간: 0 days 12:50:59.716000\n"
     ]
    },
    {
     "name": "stderr",
     "output_type": "stream",
     "text": [
      "<ipython-input-29-b3ae7dbb3584>:64: SettingWithCopyWarning: \n",
      "A value is trying to be set on a copy of a slice from a DataFrame.\n",
      "Try using .loc[row_indexer,col_indexer] = value instead\n",
      "\n",
      "See the caveats in the documentation: https://pandas.pydata.org/pandas-docs/stable/user_guide/indexing.html#returning-a-view-versus-a-copy\n",
      "  medistream_prediction_preprop_df['date_created'] = pd.to_datetime(medistream_prediction_preprop_df['date_created'])\n"
     ]
    },
    {
     "data": {
      "application/vnd.jupyter.widget-view+json": {
       "model_id": "b62402a19c95422093ba0f0d1b9cb68b",
       "version_major": 2,
       "version_minor": 0
      },
      "text/plain": [
       "  0%|          | 0/50 [00:00<?, ?it/s]"
      ]
     },
     "metadata": {},
     "output_type": "display_data"
    },
    {
     "data": {
      "application/vnd.jupyter.widget-view+json": {
       "model_id": "b48496f6c21b442e930167aa4ae9bab9",
       "version_major": 2,
       "version_minor": 0
      },
      "text/plain": [
       "  0%|          | 0/20 [00:00<?, ?it/s]"
      ]
     },
     "metadata": {},
     "output_type": "display_data"
    },
    {
     "name": "stderr",
     "output_type": "stream",
     "text": [
      "\r",
      "12it [23:22, 117.44s/it]"
     ]
    },
    {
     "name": "stdout",
     "output_type": "stream",
     "text": [
      "train 총 기간: 122 days 20:58:33.557000\n",
      "test 총 기간: 0 days 14:55:30.724000\n"
     ]
    },
    {
     "name": "stderr",
     "output_type": "stream",
     "text": [
      "<ipython-input-29-b3ae7dbb3584>:64: SettingWithCopyWarning: \n",
      "A value is trying to be set on a copy of a slice from a DataFrame.\n",
      "Try using .loc[row_indexer,col_indexer] = value instead\n",
      "\n",
      "See the caveats in the documentation: https://pandas.pydata.org/pandas-docs/stable/user_guide/indexing.html#returning-a-view-versus-a-copy\n",
      "  medistream_prediction_preprop_df['date_created'] = pd.to_datetime(medistream_prediction_preprop_df['date_created'])\n"
     ]
    },
    {
     "data": {
      "application/vnd.jupyter.widget-view+json": {
       "model_id": "ff1ee5ec2c674e75987211ed379f3d42",
       "version_major": 2,
       "version_minor": 0
      },
      "text/plain": [
       "  0%|          | 0/50 [00:00<?, ?it/s]"
      ]
     },
     "metadata": {},
     "output_type": "display_data"
    },
    {
     "data": {
      "application/vnd.jupyter.widget-view+json": {
       "model_id": "167fa1f187aa427f84ee36a77b288de8",
       "version_major": 2,
       "version_minor": 0
      },
      "text/plain": [
       "  0%|          | 0/20 [00:00<?, ?it/s]"
      ]
     },
     "metadata": {},
     "output_type": "display_data"
    },
    {
     "name": "stderr",
     "output_type": "stream",
     "text": [
      "\r",
      "13it [26:27, 137.68s/it]"
     ]
    },
    {
     "name": "stdout",
     "output_type": "stream",
     "text": [
      "train 총 기간: 122 days 17:10:22.801000\n",
      "test 총 기간: 0 days 22:01:47.993000\n"
     ]
    },
    {
     "name": "stderr",
     "output_type": "stream",
     "text": [
      "<ipython-input-29-b3ae7dbb3584>:64: SettingWithCopyWarning: \n",
      "A value is trying to be set on a copy of a slice from a DataFrame.\n",
      "Try using .loc[row_indexer,col_indexer] = value instead\n",
      "\n",
      "See the caveats in the documentation: https://pandas.pydata.org/pandas-docs/stable/user_guide/indexing.html#returning-a-view-versus-a-copy\n",
      "  medistream_prediction_preprop_df['date_created'] = pd.to_datetime(medistream_prediction_preprop_df['date_created'])\n"
     ]
    },
    {
     "data": {
      "application/vnd.jupyter.widget-view+json": {
       "model_id": "937c4dd01f504841905954e0a6140402",
       "version_major": 2,
       "version_minor": 0
      },
      "text/plain": [
       "  0%|          | 0/50 [00:00<?, ?it/s]"
      ]
     },
     "metadata": {},
     "output_type": "display_data"
    },
    {
     "data": {
      "application/vnd.jupyter.widget-view+json": {
       "model_id": "62f1315d59b042a8bb66d8bf3c946478",
       "version_major": 2,
       "version_minor": 0
      },
      "text/plain": [
       "  0%|          | 0/20 [00:00<?, ?it/s]"
      ]
     },
     "metadata": {},
     "output_type": "display_data"
    },
    {
     "name": "stderr",
     "output_type": "stream",
     "text": [
      "\r",
      "14it [28:40, 136.45s/it]"
     ]
    },
    {
     "name": "stdout",
     "output_type": "stream",
     "text": [
      "train 총 기간: 122 days 20:30:59.345000\n",
      "test 총 기간: 0 days 17:13:15.067000\n"
     ]
    },
    {
     "name": "stderr",
     "output_type": "stream",
     "text": [
      "<ipython-input-29-b3ae7dbb3584>:64: SettingWithCopyWarning: \n",
      "A value is trying to be set on a copy of a slice from a DataFrame.\n",
      "Try using .loc[row_indexer,col_indexer] = value instead\n",
      "\n",
      "See the caveats in the documentation: https://pandas.pydata.org/pandas-docs/stable/user_guide/indexing.html#returning-a-view-versus-a-copy\n",
      "  medistream_prediction_preprop_df['date_created'] = pd.to_datetime(medistream_prediction_preprop_df['date_created'])\n"
     ]
    },
    {
     "data": {
      "application/vnd.jupyter.widget-view+json": {
       "model_id": "9a5658262781412f92b2e68b413f0ae4",
       "version_major": 2,
       "version_minor": 0
      },
      "text/plain": [
       "  0%|          | 0/50 [00:00<?, ?it/s]"
      ]
     },
     "metadata": {},
     "output_type": "display_data"
    },
    {
     "data": {
      "application/vnd.jupyter.widget-view+json": {
       "model_id": "662b301b3168476d97f0bffd2c250a43",
       "version_major": 2,
       "version_minor": 0
      },
      "text/plain": [
       "  0%|          | 0/20 [00:00<?, ?it/s]"
      ]
     },
     "metadata": {},
     "output_type": "display_data"
    },
    {
     "name": "stderr",
     "output_type": "stream",
     "text": [
      "\r",
      "15it [31:55, 154.18s/it]"
     ]
    },
    {
     "name": "stdout",
     "output_type": "stream",
     "text": [
      "train 총 기간: 122 days 14:48:38.621000\n",
      "test 총 기간: 0 days 23:10:01.979000\n"
     ]
    },
    {
     "name": "stderr",
     "output_type": "stream",
     "text": [
      "<ipython-input-29-b3ae7dbb3584>:64: SettingWithCopyWarning: \n",
      "A value is trying to be set on a copy of a slice from a DataFrame.\n",
      "Try using .loc[row_indexer,col_indexer] = value instead\n",
      "\n",
      "See the caveats in the documentation: https://pandas.pydata.org/pandas-docs/stable/user_guide/indexing.html#returning-a-view-versus-a-copy\n",
      "  medistream_prediction_preprop_df['date_created'] = pd.to_datetime(medistream_prediction_preprop_df['date_created'])\n"
     ]
    },
    {
     "data": {
      "application/vnd.jupyter.widget-view+json": {
       "model_id": "c32b43d1af914ec3b6448fcf38ab7656",
       "version_major": 2,
       "version_minor": 0
      },
      "text/plain": [
       "  0%|          | 0/50 [00:00<?, ?it/s]"
      ]
     },
     "metadata": {},
     "output_type": "display_data"
    },
    {
     "data": {
      "application/vnd.jupyter.widget-view+json": {
       "model_id": "e55a030a6c6c49488739991dfbabab7a",
       "version_major": 2,
       "version_minor": 0
      },
      "text/plain": [
       "  0%|          | 0/20 [00:00<?, ?it/s]"
      ]
     },
     "metadata": {},
     "output_type": "display_data"
    },
    {
     "name": "stderr",
     "output_type": "stream",
     "text": [
      "\r",
      "16it [33:47, 141.25s/it]"
     ]
    },
    {
     "name": "stdout",
     "output_type": "stream",
     "text": [
      "train 총 기간: 122 days 16:20:06.709000\n",
      "test 총 기간: 0 days 14:46:55.481000\n"
     ]
    },
    {
     "name": "stderr",
     "output_type": "stream",
     "text": [
      "<ipython-input-29-b3ae7dbb3584>:64: SettingWithCopyWarning: \n",
      "A value is trying to be set on a copy of a slice from a DataFrame.\n",
      "Try using .loc[row_indexer,col_indexer] = value instead\n",
      "\n",
      "See the caveats in the documentation: https://pandas.pydata.org/pandas-docs/stable/user_guide/indexing.html#returning-a-view-versus-a-copy\n",
      "  medistream_prediction_preprop_df['date_created'] = pd.to_datetime(medistream_prediction_preprop_df['date_created'])\n"
     ]
    },
    {
     "data": {
      "application/vnd.jupyter.widget-view+json": {
       "model_id": "39e376c58c1941b2addeb641b1d0df63",
       "version_major": 2,
       "version_minor": 0
      },
      "text/plain": [
       "  0%|          | 0/50 [00:00<?, ?it/s]"
      ]
     },
     "metadata": {},
     "output_type": "display_data"
    },
    {
     "data": {
      "application/vnd.jupyter.widget-view+json": {
       "model_id": "85800f96bdf044e88a2c330ac17b9c7c",
       "version_major": 2,
       "version_minor": 0
      },
      "text/plain": [
       "  0%|          | 0/20 [00:00<?, ?it/s]"
      ]
     },
     "metadata": {},
     "output_type": "display_data"
    }
   ],
   "source": [
    "from tqdm import tqdm\n",
    "\n",
    "twenty_df_list = []\n",
    "for sp_day, tt_day in tqdm(zip(split_day_list,test_day_list)):\n",
    "    module_df = module(df, sp_day,tt_day)\n",
    "    twenty_df_list.append(module_df)\n",
    "twenty_df = pd.concat(twenty_df_list, ignore_index=True)\n",
    "twenty_df"
   ]
  },
  {
   "cell_type": "code",
   "execution_count": null,
   "id": "72d35993",
   "metadata": {},
   "outputs": [],
   "source": []
  }
 ],
 "metadata": {
  "kernelspec": {
   "display_name": "Python 3",
   "language": "python",
   "name": "python3"
  },
  "language_info": {
   "codemirror_mode": {
    "name": "ipython",
    "version": 3
   },
   "file_extension": ".py",
   "mimetype": "text/x-python",
   "name": "python",
   "nbconvert_exporter": "python",
   "pygments_lexer": "ipython3",
   "version": "3.8.8"
  }
 },
 "nbformat": 4,
 "nbformat_minor": 5
}
