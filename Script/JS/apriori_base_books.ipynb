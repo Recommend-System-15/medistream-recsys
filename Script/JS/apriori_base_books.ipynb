{
 "cells": [
  {
   "cell_type": "code",
   "execution_count": 65,
   "id": "d303a52e",
   "metadata": {
    "scrolled": true
   },
   "outputs": [
    {
     "name": "stdout",
     "output_type": "stream",
     "text": [
      "/home/user_3/medistream-recsys/Script\n"
     ]
    },
    {
     "name": "stderr",
     "output_type": "stream",
     "text": [
      "/home/user_3/anaconda3/lib/python3.8/site-packages/ipykernel/ipkernel.py:287: DeprecationWarning: `should_run_async` will not call `transform_cell` automatically in the future. Please pass the result to `transformed_cell` argument and any exception that happen during thetransform in `preprocessing_exc_tuple` in IPython 7.17 and above.\n",
      "  and should_run_async(code)\n"
     ]
    }
   ],
   "source": [
    "import pandas as pd\n",
    "import numpy as np\n",
    "import matplotlib.pyplot as plt\n",
    "import seaborn as sns\n",
    "from tqdm import tqdm\n",
    "\n",
    "import scipy.sparse as sparse\n",
    "import random\n",
    "# import implicit\n",
    "# from implicit.als import AlternatingLeastSquares as ALS\n",
    "\n",
    "%cd /home/user_3/medistream-recsys/Script\n",
    "from preprocessing import drop_columns,dict_to_column,dict_to_set,set_to_column,key_to_element\n",
    "\n",
    "pd.set_option('display.max_rows', 300)\n",
    "pd.set_option('display.max_columns', 100)\n",
    "\n",
    "import warnings\n",
    "warnings.filterwarnings(\"ignore\", category=DeprecationWarning)"
   ]
  },
  {
   "cell_type": "code",
   "execution_count": 32,
   "id": "1a97bec0",
   "metadata": {},
   "outputs": [],
   "source": [
    "df = pd.read_json('/fastcampus-data/select_column_version_3.json')"
   ]
  },
  {
   "cell_type": "code",
   "execution_count": 33,
   "id": "050b327c",
   "metadata": {},
   "outputs": [],
   "source": [
    "date_state = \"2022-05-12\"\n",
    "\n",
    "# paid orders만 가져오기\n",
    "df['date_paid'] = pd.to_datetime(df['date_paid'])\n",
    "df_only_paid = df[~df['date_paid'].isna()]\n",
    "# 3개월치 데이터만 가져오기\n",
    "df_date = df_only_paid[df_only_paid['date_paid'] > date_state]\n",
    "# 취소 안된 것만 가져오기\n",
    "complete_df = df_date[(df_date['paid'] == True) & (df_date['cancelled']==False)]\n",
    "# 도서 카테고리만 가져오기\n",
    "only_book = complete_df[complete_df['name'] == '도서']\n",
    "\n",
    "# 유저가 중복으로 아이템 구매 삭제\n",
    "df_duplicated_book = only_book.drop_duplicates(subset=['customer_id','product_ids'])\n",
    "df_book = df_duplicated_book.sort_values(by='date_paid').reset_index(drop=True)"
   ]
  },
  {
   "cell_type": "markdown",
   "id": "85dce50e",
   "metadata": {},
   "source": [
    "# train test split"
   ]
  },
  {
   "cell_type": "code",
   "execution_count": 38,
   "id": "58b7270f",
   "metadata": {},
   "outputs": [],
   "source": [
    "from datetime import datetime, timedelta\n",
    "\n",
    "date = df_book['date_paid'].max()-timedelta(weeks=3)\n",
    "train_before_preprocess = df_book[df_book['date_paid'] < date]\n",
    "test_before_preprocess = df_book[df_book['date_paid'] >= date]\n",
    "\n",
    "# train 3개 이상 구매 기록유저에 대한 학습 진행\n",
    "train_drop_row_index = train_before_preprocess['customer_id'].value_counts()[train_before_preprocess['customer_id'].value_counts()>=3].index\n",
    "train = train_before_preprocess.copy()\n",
    "train_mf = train_before_preprocess[train_before_preprocess['customer_id'].isin(train_drop_row_index)]\n",
    "train_ap_mp = train_before_preprocess[~(train_before_preprocess['customer_id'].isin(train_drop_row_index))]"
   ]
  },
  {
   "cell_type": "code",
   "execution_count": 35,
   "id": "8373ef00",
   "metadata": {},
   "outputs": [],
   "source": [
    "# test 만 있는 item 제거\n",
    "only_test_items = set(test_before_preprocess.product_ids.unique())-set(train_before_preprocess.product_ids.unique())\n",
    "test = test_before_preprocess[~test_before_preprocess['product_ids'].isin(only_test_items)]"
   ]
  },
  {
   "cell_type": "markdown",
   "id": "d2ace354",
   "metadata": {},
   "source": [
    "# train test eda"
   ]
  },
  {
   "cell_type": "markdown",
   "id": "4aa02378",
   "metadata": {},
   "source": [
    "### 전처리 전후 비교"
   ]
  },
  {
   "cell_type": "code",
   "execution_count": 16,
   "id": "fa864170",
   "metadata": {},
   "outputs": [
    {
     "name": "stdout",
     "output_type": "stream",
     "text": [
      "train 전처리 전: 5024 train 전처리 후: 5024\n"
     ]
    }
   ],
   "source": [
    "print('train 전처리 전:',len(train_before_preprocess), 'train 전처리 후:',len(train))"
   ]
  },
  {
   "cell_type": "code",
   "execution_count": 17,
   "id": "a23c8040",
   "metadata": {},
   "outputs": [
    {
     "name": "stdout",
     "output_type": "stream",
     "text": [
      "test 전처리 전: 886 test 전처리 후: 651\n"
     ]
    }
   ],
   "source": [
    "print('test 전처리 전:',len(test_before_preprocess), 'test 전처리 후:',len(test))"
   ]
  },
  {
   "cell_type": "markdown",
   "id": "d2b934f1",
   "metadata": {},
   "source": [
    "### user 수 비교"
   ]
  },
  {
   "cell_type": "code",
   "execution_count": 18,
   "id": "591089bc",
   "metadata": {},
   "outputs": [
    {
     "name": "stdout",
     "output_type": "stream",
     "text": [
      "train 유저 수: 2323\n"
     ]
    }
   ],
   "source": [
    "print('train 유저 수:',len(train.customer_id.unique()))"
   ]
  },
  {
   "cell_type": "code",
   "execution_count": 19,
   "id": "92ee7230",
   "metadata": {},
   "outputs": [
    {
     "name": "stdout",
     "output_type": "stream",
     "text": [
      "test 유저 수: 491\n"
     ]
    }
   ],
   "source": [
    "print('test 유저 수:',len(test.customer_id.unique()))"
   ]
  },
  {
   "cell_type": "markdown",
   "id": "afed050f",
   "metadata": {},
   "source": [
    "### item 개수 비교"
   ]
  },
  {
   "cell_type": "code",
   "execution_count": 20,
   "id": "a54f5fe0",
   "metadata": {},
   "outputs": [
    {
     "name": "stdout",
     "output_type": "stream",
     "text": [
      "train 아이템 수 : 243 test 아이템 수 : 121\n"
     ]
    }
   ],
   "source": [
    "print('train 아이템 수 :',len(set(train.product_ids)), 'test 아이템 수 :',len(set(test.product_ids)))"
   ]
  },
  {
   "cell_type": "code",
   "execution_count": 21,
   "id": "ebb53aa7",
   "metadata": {},
   "outputs": [
    {
     "name": "stdout",
     "output_type": "stream",
     "text": [
      "train 만 있는 아이템 수: 122\n"
     ]
    }
   ],
   "source": [
    "print('train 만 있는 아이템 수:',  len(set(train.product_ids)-set(test.product_ids)))"
   ]
  },
  {
   "cell_type": "code",
   "execution_count": 22,
   "id": "b6ba9aa4",
   "metadata": {},
   "outputs": [
    {
     "name": "stdout",
     "output_type": "stream",
     "text": [
      "test 만 있는 아이템 수: 0\n"
     ]
    }
   ],
   "source": [
    "print('test 만 있는 아이템 수:', len(set(test.product_ids) - set(train.product_ids)))"
   ]
  },
  {
   "cell_type": "code",
   "execution_count": 29,
   "id": "91a8cf8a",
   "metadata": {
    "scrolled": false
   },
   "outputs": [
    {
     "name": "stdout",
     "output_type": "stream",
     "text": [
      "(5024, 16)\n",
      "(651, 16)\n"
     ]
    }
   ],
   "source": [
    "print(train.shape)\n",
    "print(test.shape)"
   ]
  },
  {
   "cell_type": "markdown",
   "id": "882e2ffb",
   "metadata": {},
   "source": [
    "## train_mf 와 train_ap_mp 비교"
   ]
  },
  {
   "cell_type": "code",
   "execution_count": 209,
   "id": "db28579e",
   "metadata": {},
   "outputs": [
    {
     "name": "stdout",
     "output_type": "stream",
     "text": [
      "train_mf 수: 2745 train_ap_mp 수: 2279\n"
     ]
    }
   ],
   "source": [
    "print('train_mf 수:',len(train_mf), 'train_ap_mp 수:',len(train_ap_mp))"
   ]
  },
  {
   "cell_type": "code",
   "execution_count": 47,
   "id": "e001f7d9",
   "metadata": {},
   "outputs": [
    {
     "name": "stdout",
     "output_type": "stream",
     "text": [
      "train_mf 유저 수: 557 train_ap_mp 유저 수: 1766\n"
     ]
    }
   ],
   "source": [
    "print('train_mf 유저 수:',len(train_mf.customer_id.unique()) , 'train_ap_mp 유저 수:',len(train_ap_mp.customer_id.unique()))"
   ]
  },
  {
   "cell_type": "code",
   "execution_count": 48,
   "id": "136207e3",
   "metadata": {},
   "outputs": [
    {
     "name": "stdout",
     "output_type": "stream",
     "text": [
      "train_mf 아이템 수: 231 train_ap_mp 아이템 수: 162\n"
     ]
    }
   ],
   "source": [
    "print('train_mf 아이템 수:',len(train_mf.product_ids.unique()) , 'train_ap_mp 아이템 수:',len(train_ap_mp.product_ids.unique()))"
   ]
  },
  {
   "cell_type": "markdown",
   "id": "420622f4",
   "metadata": {},
   "source": [
    "# copy kaggle example"
   ]
  },
  {
   "cell_type": "markdown",
   "id": "8e6dc789",
   "metadata": {},
   "source": [
    "# Load Transactions, Reduce Memory"
   ]
  },
  {
   "cell_type": "code",
   "execution_count": 41,
   "id": "c304a9bf",
   "metadata": {},
   "outputs": [
    {
     "name": "stdout",
     "output_type": "stream",
     "text": [
      "Train shape: (3222, 6)\n"
     ]
    }
   ],
   "source": [
    "# tmp = train.groupby('customer_id').date_paid.max().reset_index()\n",
    "# tmp.columns = ['customer_id','max_dat']\n",
    "# train = train.merge(tmp,on=['customer_id'],how='left')\n",
    "# train['diff_dat'] = (train.max_dat - train.date_paid).dt.days\n",
    "\n",
    "# # 다른 날짜를 6보다 작은 것으로 하는건 최신의 정보를 반영하기 위함인가?\n",
    "# train = train.loc[train['diff_dat']<=6]\n",
    "# print('Train shape:',train.shape)"
   ]
  },
  {
   "cell_type": "code",
   "execution_count": null,
   "id": "46c17c72",
   "metadata": {},
   "outputs": [],
   "source": [
    "# train.diff_dat.unique()"
   ]
  },
  {
   "cell_type": "markdown",
   "id": "97fc4c96",
   "metadata": {},
   "source": [
    "# Apriori Transformation:"
   ]
  },
  {
   "cell_type": "code",
   "execution_count": 49,
   "id": "a8f289d0",
   "metadata": {
    "scrolled": false
   },
   "outputs": [
    {
     "data": {
      "text/html": [
       "<div>\n",
       "<style scoped>\n",
       "    .dataframe tbody tr th:only-of-type {\n",
       "        vertical-align: middle;\n",
       "    }\n",
       "\n",
       "    .dataframe tbody tr th {\n",
       "        vertical-align: top;\n",
       "    }\n",
       "\n",
       "    .dataframe thead th {\n",
       "        text-align: right;\n",
       "    }\n",
       "</style>\n",
       "<table border=\"1\" class=\"dataframe\">\n",
       "  <thead>\n",
       "    <tr style=\"text-align: right;\">\n",
       "      <th></th>\n",
       "      <th>customer_id</th>\n",
       "      <th>name_x</th>\n",
       "    </tr>\n",
       "  </thead>\n",
       "  <tbody>\n",
       "    <tr>\n",
       "      <th>0</th>\n",
       "      <td>5d60cab24e77525ec5ca13d5</td>\n",
       "      <td>[흔히보는 정형외과 외래진료 가이드북, 숲을 보는 요통치료]</td>\n",
       "    </tr>\n",
       "    <tr>\n",
       "      <th>1</th>\n",
       "      <td>5d60cb754e77525ec5ca13d9</td>\n",
       "      <td>[흔히보는 정형외과 외래진료 가이드북]</td>\n",
       "    </tr>\n",
       "    <tr>\n",
       "      <th>2</th>\n",
       "      <td>5d60cc294e77525ec5ca13e0</td>\n",
       "      <td>[약침의 정석 –통증편]</td>\n",
       "    </tr>\n",
       "    <tr>\n",
       "      <th>3</th>\n",
       "      <td>5d60ccd84e77525ec5ca13f2</td>\n",
       "      <td>[증보운곡본초학]</td>\n",
       "    </tr>\n",
       "    <tr>\n",
       "      <th>4</th>\n",
       "      <td>5d60cce84e77525ec5ca13f3</td>\n",
       "      <td>[보험한약 브런치 the # 2판 개정판]</td>\n",
       "    </tr>\n",
       "    <tr>\n",
       "      <th>5</th>\n",
       "      <td>5d60cd1b4e77525ec5ca13fd</td>\n",
       "      <td>[동씨침법입문 2판, 윤상훈·권병조의 알짜 근육학]</td>\n",
       "    </tr>\n",
       "    <tr>\n",
       "      <th>6</th>\n",
       "      <td>5d60cd414e77525ec5ca1401</td>\n",
       "      <td>[흔히보는 정형외과 외래진료 가이드북, 약침의 정석 –통증편, 초음파 유도하 침 시...</td>\n",
       "    </tr>\n",
       "    <tr>\n",
       "      <th>7</th>\n",
       "      <td>5d60cd634e77525ec5ca1402</td>\n",
       "      <td>[트리거포인트 침치료, 흔히보는 정형외과 외래진료 가이드북, 뇌의학의 첫걸음]</td>\n",
       "    </tr>\n",
       "    <tr>\n",
       "      <th>8</th>\n",
       "      <td>5d60ce694e77525ec5ca140e</td>\n",
       "      <td>[趙紹琴(조소금) 내과학]</td>\n",
       "    </tr>\n",
       "    <tr>\n",
       "      <th>9</th>\n",
       "      <td>5d60cea34e77525ec5ca1413</td>\n",
       "      <td>[흔히보는 정형외과 외래진료 가이드북, 비만문답]</td>\n",
       "    </tr>\n",
       "    <tr>\n",
       "      <th>10</th>\n",
       "      <td>5d60ceca4e77525ec5ca141d</td>\n",
       "      <td>[카이로프랙틱 기본테크닉론, 황황교수의 임상의를 위한 근거기반 상한금궤 처방 매뉴얼...</td>\n",
       "    </tr>\n",
       "    <tr>\n",
       "      <th>11</th>\n",
       "      <td>5d60cedb4e77525ec5ca141e</td>\n",
       "      <td>[플로차트 정형외과 진단]</td>\n",
       "    </tr>\n",
       "    <tr>\n",
       "      <th>12</th>\n",
       "      <td>5d60cef84e77525ec5ca1423</td>\n",
       "      <td>[임상 한의사를 위한 기본 한약처방 강의 2판]</td>\n",
       "    </tr>\n",
       "    <tr>\n",
       "      <th>13</th>\n",
       "      <td>5d60cf814e77525ec5ca1432</td>\n",
       "      <td>[근골격계 약침의학]</td>\n",
       "    </tr>\n",
       "    <tr>\n",
       "      <th>14</th>\n",
       "      <td>5d60cfa84e77525ec5ca1436</td>\n",
       "      <td>[응급상황 자신있게 대처하기]</td>\n",
       "    </tr>\n",
       "    <tr>\n",
       "      <th>15</th>\n",
       "      <td>5d60d0984e77525ec5ca1445</td>\n",
       "      <td>[흔히보는 정형외과 외래진료 가이드북, 임산부에게 사용할 수 있는 한방처방, 초음파...</td>\n",
       "    </tr>\n",
       "    <tr>\n",
       "      <th>16</th>\n",
       "      <td>5d60d0e54e77525ec5ca144b</td>\n",
       "      <td>[사상임상약물대전, 사상의학[병증편], 숲을 보는 요통치료, 황황교수의 개원 한의사...</td>\n",
       "    </tr>\n",
       "    <tr>\n",
       "      <th>17</th>\n",
       "      <td>5d60d2194e77525ec5ca1459</td>\n",
       "      <td>[비만문답]</td>\n",
       "    </tr>\n",
       "    <tr>\n",
       "      <th>18</th>\n",
       "      <td>5d60d3004e77525ec5ca145e</td>\n",
       "      <td>[피부질환의 한의학치료 57증례, 일차진료 한의사를 위한 보험한약입문 - 둘째 판,...</td>\n",
       "    </tr>\n",
       "    <tr>\n",
       "      <th>19</th>\n",
       "      <td>5d60d4044e77525ec5ca1460</td>\n",
       "      <td>[흔히보는 정형외과 외래진료 가이드북]</td>\n",
       "    </tr>\n",
       "    <tr>\n",
       "      <th>20</th>\n",
       "      <td>5d60d45a4e77525ec5ca1465</td>\n",
       "      <td>[황황교수의 개원 한의사를 위한 상한금궤 처방 강의록, 황황교수의 임상의를 위한 근...</td>\n",
       "    </tr>\n",
       "    <tr>\n",
       "      <th>21</th>\n",
       "      <td>5d60d4d14e77525ec5ca146d</td>\n",
       "      <td>[흔히보는 정형외과 외래진료 가이드북]</td>\n",
       "    </tr>\n",
       "    <tr>\n",
       "      <th>22</th>\n",
       "      <td>5d60d5374e77525ec5ca1471</td>\n",
       "      <td>[윤상훈·권병조의 알짜 근육학]</td>\n",
       "    </tr>\n",
       "    <tr>\n",
       "      <th>23</th>\n",
       "      <td>5d60d5f14e77525ec5ca1475</td>\n",
       "      <td>[흔히보는 정형외과 외래진료 가이드북]</td>\n",
       "    </tr>\n",
       "    <tr>\n",
       "      <th>24</th>\n",
       "      <td>5d60d6ef4e77525ec5ca147b</td>\n",
       "      <td>[황황교수의 임상의를 위한 근거기반 상한금궤 처방 매뉴얼, 황황교수의 개원 한의사를...</td>\n",
       "    </tr>\n",
       "    <tr>\n",
       "      <th>25</th>\n",
       "      <td>5d60d7254e77525ec5ca147c</td>\n",
       "      <td>[선생님, 이제 그만 저 좀 포기해 주세요]</td>\n",
       "    </tr>\n",
       "    <tr>\n",
       "      <th>26</th>\n",
       "      <td>5d60d7eb4e77525ec5ca1485</td>\n",
       "      <td>[윤상훈·권병조의 알짜 근육학, 비만문답, 사암침의 해석과 임상]</td>\n",
       "    </tr>\n",
       "    <tr>\n",
       "      <th>27</th>\n",
       "      <td>5d60d8cf4e77525ec5ca148c</td>\n",
       "      <td>[토털매선의학, 최강통증매선, 흔히보는 정형외과 외래진료 가이드북]</td>\n",
       "    </tr>\n",
       "    <tr>\n",
       "      <th>28</th>\n",
       "      <td>5d60d9134e77525ec5ca1490</td>\n",
       "      <td>[趙紹琴(조소금) 내과학]</td>\n",
       "    </tr>\n",
       "    <tr>\n",
       "      <th>29</th>\n",
       "      <td>5d60dd194e77525ec5ca14a9</td>\n",
       "      <td>[비만문답]</td>\n",
       "    </tr>\n",
       "  </tbody>\n",
       "</table>\n",
       "</div>"
      ],
      "text/plain": [
       "                 customer_id  \\\n",
       "0   5d60cab24e77525ec5ca13d5   \n",
       "1   5d60cb754e77525ec5ca13d9   \n",
       "2   5d60cc294e77525ec5ca13e0   \n",
       "3   5d60ccd84e77525ec5ca13f2   \n",
       "4   5d60cce84e77525ec5ca13f3   \n",
       "5   5d60cd1b4e77525ec5ca13fd   \n",
       "6   5d60cd414e77525ec5ca1401   \n",
       "7   5d60cd634e77525ec5ca1402   \n",
       "8   5d60ce694e77525ec5ca140e   \n",
       "9   5d60cea34e77525ec5ca1413   \n",
       "10  5d60ceca4e77525ec5ca141d   \n",
       "11  5d60cedb4e77525ec5ca141e   \n",
       "12  5d60cef84e77525ec5ca1423   \n",
       "13  5d60cf814e77525ec5ca1432   \n",
       "14  5d60cfa84e77525ec5ca1436   \n",
       "15  5d60d0984e77525ec5ca1445   \n",
       "16  5d60d0e54e77525ec5ca144b   \n",
       "17  5d60d2194e77525ec5ca1459   \n",
       "18  5d60d3004e77525ec5ca145e   \n",
       "19  5d60d4044e77525ec5ca1460   \n",
       "20  5d60d45a4e77525ec5ca1465   \n",
       "21  5d60d4d14e77525ec5ca146d   \n",
       "22  5d60d5374e77525ec5ca1471   \n",
       "23  5d60d5f14e77525ec5ca1475   \n",
       "24  5d60d6ef4e77525ec5ca147b   \n",
       "25  5d60d7254e77525ec5ca147c   \n",
       "26  5d60d7eb4e77525ec5ca1485   \n",
       "27  5d60d8cf4e77525ec5ca148c   \n",
       "28  5d60d9134e77525ec5ca1490   \n",
       "29  5d60dd194e77525ec5ca14a9   \n",
       "\n",
       "                                               name_x  \n",
       "0                   [흔히보는 정형외과 외래진료 가이드북, 숲을 보는 요통치료]  \n",
       "1                               [흔히보는 정형외과 외래진료 가이드북]  \n",
       "2                                       [약침의 정석 –통증편]  \n",
       "3                                           [증보운곡본초학]  \n",
       "4                             [보험한약 브런치 the # 2판 개정판]  \n",
       "5                        [동씨침법입문 2판, 윤상훈·권병조의 알짜 근육학]  \n",
       "6   [흔히보는 정형외과 외래진료 가이드북, 약침의 정석 –통증편, 초음파 유도하 침 시...  \n",
       "7         [트리거포인트 침치료, 흔히보는 정형외과 외래진료 가이드북, 뇌의학의 첫걸음]  \n",
       "8                                      [趙紹琴(조소금) 내과학]  \n",
       "9                         [흔히보는 정형외과 외래진료 가이드북, 비만문답]  \n",
       "10  [카이로프랙틱 기본테크닉론, 황황교수의 임상의를 위한 근거기반 상한금궤 처방 매뉴얼...  \n",
       "11                                     [플로차트 정형외과 진단]  \n",
       "12                         [임상 한의사를 위한 기본 한약처방 강의 2판]  \n",
       "13                                        [근골격계 약침의학]  \n",
       "14                                   [응급상황 자신있게 대처하기]  \n",
       "15  [흔히보는 정형외과 외래진료 가이드북, 임산부에게 사용할 수 있는 한방처방, 초음파...  \n",
       "16  [사상임상약물대전, 사상의학[병증편], 숲을 보는 요통치료, 황황교수의 개원 한의사...  \n",
       "17                                             [비만문답]  \n",
       "18  [피부질환의 한의학치료 57증례, 일차진료 한의사를 위한 보험한약입문 - 둘째 판,...  \n",
       "19                              [흔히보는 정형외과 외래진료 가이드북]  \n",
       "20  [황황교수의 개원 한의사를 위한 상한금궤 처방 강의록, 황황교수의 임상의를 위한 근...  \n",
       "21                              [흔히보는 정형외과 외래진료 가이드북]  \n",
       "22                                  [윤상훈·권병조의 알짜 근육학]  \n",
       "23                              [흔히보는 정형외과 외래진료 가이드북]  \n",
       "24  [황황교수의 임상의를 위한 근거기반 상한금궤 처방 매뉴얼, 황황교수의 개원 한의사를...  \n",
       "25                           [선생님, 이제 그만 저 좀 포기해 주세요]  \n",
       "26               [윤상훈·권병조의 알짜 근육학, 비만문답, 사암침의 해석과 임상]  \n",
       "27              [토털매선의학, 최강통증매선, 흔히보는 정형외과 외래진료 가이드북]  \n",
       "28                                     [趙紹琴(조소금) 내과학]  \n",
       "29                                             [비만문답]  "
      ]
     },
     "execution_count": 49,
     "metadata": {},
     "output_type": "execute_result"
    }
   ],
   "source": [
    "#Apriori treats duplicates as a single occurence\n",
    "# 한 유저당 구매한 제품들의 unique -> 중복을 없앰.\n",
    "train_apri = train.groupby('customer_id')['name_x'].unique().reset_index()\n",
    "train_apri[:30]"
   ]
  },
  {
   "cell_type": "code",
   "execution_count": 52,
   "id": "e52eb46b",
   "metadata": {},
   "outputs": [],
   "source": [
    "from mlxtend.preprocessing import TransactionEncoder"
   ]
  },
  {
   "cell_type": "code",
   "execution_count": 179,
   "id": "353ce763",
   "metadata": {
    "scrolled": false
   },
   "outputs": [],
   "source": [
    "transactions = [a[1]['name_x'].tolist() for a in list(train.groupby(['customer_id']))]"
   ]
  },
  {
   "cell_type": "code",
   "execution_count": 180,
   "id": "75918f82",
   "metadata": {},
   "outputs": [],
   "source": [
    "te = TransactionEncoder()\n",
    "te_ary = te.fit(transactions).transform(transactions)"
   ]
  },
  {
   "cell_type": "markdown",
   "id": "22e6fd4b",
   "metadata": {},
   "source": [
    "# orders_1hot"
   ]
  },
  {
   "cell_type": "code",
   "execution_count": 181,
   "id": "e793ce84",
   "metadata": {},
   "outputs": [],
   "source": [
    "orders_1hot = pd.DataFrame(te_ary, columns=te.columns_)\n",
    "pf = orders_1hot.describe()"
   ]
  },
  {
   "cell_type": "code",
   "execution_count": 189,
   "id": "d8a25b46",
   "metadata": {
    "scrolled": true
   },
   "outputs": [
    {
     "name": "stdout",
     "output_type": "stream",
     "text": [
      "MOST POPULAR\n"
     ]
    },
    {
     "data": {
      "text/html": [
       "<div>\n",
       "<style scoped>\n",
       "    .dataframe tbody tr th:only-of-type {\n",
       "        vertical-align: middle;\n",
       "    }\n",
       "\n",
       "    .dataframe tbody tr th {\n",
       "        vertical-align: top;\n",
       "    }\n",
       "\n",
       "    .dataframe thead th {\n",
       "        text-align: right;\n",
       "    }\n",
       "</style>\n",
       "<table border=\"1\" class=\"dataframe\">\n",
       "  <thead>\n",
       "    <tr style=\"text-align: right;\">\n",
       "      <th></th>\n",
       "      <th>Count</th>\n",
       "      <th>Item</th>\n",
       "    </tr>\n",
       "  </thead>\n",
       "  <tbody>\n",
       "    <tr>\n",
       "      <th>84</th>\n",
       "      <td>574</td>\n",
       "      <td>비만문답</td>\n",
       "    </tr>\n",
       "    <tr>\n",
       "      <th>211</th>\n",
       "      <td>447</td>\n",
       "      <td>플로차트 정형외과 진단</td>\n",
       "    </tr>\n",
       "    <tr>\n",
       "      <th>242</th>\n",
       "      <td>313</td>\n",
       "      <td>흔히보는 정형외과 외래진료 가이드북</td>\n",
       "    </tr>\n",
       "    <tr>\n",
       "      <th>144</th>\n",
       "      <td>222</td>\n",
       "      <td>윤상훈·권병조의 알짜 근육학</td>\n",
       "    </tr>\n",
       "    <tr>\n",
       "      <th>241</th>\n",
       "      <td>213</td>\n",
       "      <td>황황교수의 임상의를 위한 근거기반 상한금궤 처방 매뉴얼</td>\n",
       "    </tr>\n",
       "    <tr>\n",
       "      <th>240</th>\n",
       "      <td>197</td>\n",
       "      <td>황황교수의 개원 한의사를 위한 상한금궤 처방 강의록</td>\n",
       "    </tr>\n",
       "    <tr>\n",
       "      <th>131</th>\n",
       "      <td>143</td>\n",
       "      <td>외래에서 꼭 알아야 할 통증증후군 137가지</td>\n",
       "    </tr>\n",
       "    <tr>\n",
       "      <th>196</th>\n",
       "      <td>133</td>\n",
       "      <td>카이로프랙틱 기본테크닉론</td>\n",
       "    </tr>\n",
       "    <tr>\n",
       "      <th>90</th>\n",
       "      <td>125</td>\n",
       "      <td>사암침의 해석과 임상</td>\n",
       "    </tr>\n",
       "    <tr>\n",
       "      <th>126</th>\n",
       "      <td>101</td>\n",
       "      <td>약침의 정석 –통증편</td>\n",
       "    </tr>\n",
       "  </tbody>\n",
       "</table>\n",
       "</div>"
      ],
      "text/plain": [
       "     Count                            Item\n",
       "84   574    비만문답                          \n",
       "211  447    플로차트 정형외과 진단                  \n",
       "242  313    흔히보는 정형외과 외래진료 가이드북           \n",
       "144  222    윤상훈·권병조의 알짜 근육학               \n",
       "241  213    황황교수의 임상의를 위한 근거기반 상한금궤 처방 매뉴얼\n",
       "240  197    황황교수의 개원 한의사를 위한 상한금궤 처방 강의록  \n",
       "131  143    외래에서 꼭 알아야 할 통증증후군 137가지      \n",
       "196  133    카이로프랙틱 기본테크닉론                 \n",
       "90   125    사암침의 해석과 임상                   \n",
       "126  101    약침의 정석 –통증편                   "
      ]
     },
     "execution_count": 189,
     "metadata": {},
     "output_type": "execute_result"
    }
   ],
   "source": [
    "f = pf.iloc[0]-pf.iloc[3] # count - frequent\n",
    "a = f.tolist()\n",
    "b = list(f.index)\n",
    "item = pd.DataFrame([[a[r],b[r]]for r in range(len(a))], columns=['Count','Item'])\n",
    "item = item.sort_values(['Count'], ascending=False).head(10)\n",
    "print(\"MOST POPULAR\")\n",
    "item"
   ]
  },
  {
   "cell_type": "code",
   "execution_count": 190,
   "id": "8b7731c9",
   "metadata": {},
   "outputs": [],
   "source": [
    "from mlxtend.frequent_patterns import apriori"
   ]
  },
  {
   "cell_type": "code",
   "execution_count": 205,
   "id": "b236b767",
   "metadata": {},
   "outputs": [],
   "source": [
    "is_ap = apriori(orders_1hot, min_support=0.09, max_len=None, use_colnames=True)"
   ]
  },
  {
   "cell_type": "markdown",
   "id": "ed9f9f60",
   "metadata": {},
   "source": [
    "# Calculate Association Rules"
   ]
  },
  {
   "cell_type": "code",
   "execution_count": 207,
   "id": "048f16b1",
   "metadata": {},
   "outputs": [],
   "source": [
    "from mlxtend.frequent_patterns import association_rules"
   ]
  },
  {
   "cell_type": "code",
   "execution_count": 208,
   "id": "0d35669d",
   "metadata": {
    "scrolled": true
   },
   "outputs": [
    {
     "data": {
      "text/html": [
       "<div>\n",
       "<style scoped>\n",
       "    .dataframe tbody tr th:only-of-type {\n",
       "        vertical-align: middle;\n",
       "    }\n",
       "\n",
       "    .dataframe tbody tr th {\n",
       "        vertical-align: top;\n",
       "    }\n",
       "\n",
       "    .dataframe thead th {\n",
       "        text-align: right;\n",
       "    }\n",
       "</style>\n",
       "<table border=\"1\" class=\"dataframe\">\n",
       "  <thead>\n",
       "    <tr style=\"text-align: right;\">\n",
       "      <th></th>\n",
       "      <th>antecedents</th>\n",
       "      <th>consequents</th>\n",
       "      <th>antecedent support</th>\n",
       "      <th>consequent support</th>\n",
       "      <th>support</th>\n",
       "      <th>confidence</th>\n",
       "      <th>lift</th>\n",
       "      <th>leverage</th>\n",
       "      <th>conviction</th>\n",
       "    </tr>\n",
       "  </thead>\n",
       "  <tbody>\n",
       "  </tbody>\n",
       "</table>\n",
       "</div>"
      ],
      "text/plain": [
       "Empty DataFrame\n",
       "Columns: [antecedents, consequents, antecedent support, consequent support, support, confidence, lift, leverage, conviction]\n",
       "Index: []"
      ]
     },
     "metadata": {},
     "output_type": "display_data"
    }
   ],
   "source": [
    "rules_confidence = association_rules(is_ap, min_threshold=0.03) # default가 confidence\n",
    "# rules_lift = association_rules(is_ap, metric= \"confidence\", min_threshold=0.01)\n",
    "\n",
    "display(rules_confidence)"
   ]
  },
  {
   "cell_type": "markdown",
   "id": "60318e9d",
   "metadata": {},
   "source": [
    "# (1) Recommend Most Often Previously Purchased Items"
   ]
  },
  {
   "cell_type": "code",
   "execution_count": 62,
   "id": "dbe6e336",
   "metadata": {
    "scrolled": true
   },
   "outputs": [
    {
     "name": "stderr",
     "output_type": "stream",
     "text": [
      "/home/user_3/anaconda3/lib/python3.8/site-packages/ipykernel/ipkernel.py:287: DeprecationWarning: `should_run_async` will not call `transform_cell` automatically in the future. Please pass the result to `transformed_cell` argument and any exception that happen during thetransform in `preprocessing_exc_tuple` in IPython 7.17 and above.\n",
      "  and should_run_async(code)\n"
     ]
    },
    {
     "data": {
      "text/html": [
       "<div>\n",
       "<style scoped>\n",
       "    .dataframe tbody tr th:only-of-type {\n",
       "        vertical-align: middle;\n",
       "    }\n",
       "\n",
       "    .dataframe tbody tr th {\n",
       "        vertical-align: top;\n",
       "    }\n",
       "\n",
       "    .dataframe thead th {\n",
       "        text-align: right;\n",
       "    }\n",
       "</style>\n",
       "<table border=\"1\" class=\"dataframe\">\n",
       "  <thead>\n",
       "    <tr style=\"text-align: right;\">\n",
       "      <th></th>\n",
       "      <th>_id</th>\n",
       "      <th>date_paid</th>\n",
       "      <th>customer_id</th>\n",
       "      <th>paid</th>\n",
       "      <th>name_x</th>\n",
       "      <th>category_id_y</th>\n",
       "      <th>product_ids</th>\n",
       "      <th>quantity</th>\n",
       "      <th>price</th>\n",
       "      <th>price_total</th>\n",
       "      <th>age_group</th>\n",
       "      <th>한의사 여부</th>\n",
       "      <th>사업자 여부</th>\n",
       "      <th>cancelled</th>\n",
       "      <th>name</th>\n",
       "      <th>slug</th>\n",
       "      <th>ct</th>\n",
       "    </tr>\n",
       "  </thead>\n",
       "  <tbody>\n",
       "    <tr>\n",
       "      <th>4912</th>\n",
       "      <td>63022db558e1680033a577fa</td>\n",
       "      <td>2022-08-21 13:06:29.249000+00:00</td>\n",
       "      <td>5e997e27bfe4260944785d49</td>\n",
       "      <td>True</td>\n",
       "      <td>흔히보는 정형외과 외래진료 가이드북</td>\n",
       "      <td>5cf8bbba0098b2225c5dfaa3</td>\n",
       "      <td>6182113bbc63410023473754</td>\n",
       "      <td>1.0</td>\n",
       "      <td>57000.0</td>\n",
       "      <td>57000.0</td>\n",
       "      <td>20-29</td>\n",
       "      <td>0.0</td>\n",
       "      <td>0.0</td>\n",
       "      <td>False</td>\n",
       "      <td>도서</td>\n",
       "      <td>book</td>\n",
       "      <td>1</td>\n",
       "    </tr>\n",
       "    <tr>\n",
       "      <th>4885</th>\n",
       "      <td>63004f04ca740b0024398005</td>\n",
       "      <td>2022-08-20 03:05:17+00:00</td>\n",
       "      <td>60fba9e7d26af90681b1d395</td>\n",
       "      <td>True</td>\n",
       "      <td>흔히보는 정형외과 외래진료 가이드북</td>\n",
       "      <td>5cf8bbba0098b2225c5dfaa3</td>\n",
       "      <td>6182113bbc63410023473754</td>\n",
       "      <td>1.0</td>\n",
       "      <td>57000.0</td>\n",
       "      <td>57000.0</td>\n",
       "      <td>None</td>\n",
       "      <td>0.0</td>\n",
       "      <td>0.0</td>\n",
       "      <td>False</td>\n",
       "      <td>도서</td>\n",
       "      <td>book</td>\n",
       "      <td>1</td>\n",
       "    </tr>\n",
       "    <tr>\n",
       "      <th>4882</th>\n",
       "      <td>63002b54ca740b0024397fb0</td>\n",
       "      <td>2022-08-20 00:31:55.091000+00:00</td>\n",
       "      <td>62cb762eb99f01002300b840</td>\n",
       "      <td>True</td>\n",
       "      <td>흔히보는 정형외과 외래진료 가이드북</td>\n",
       "      <td>5cf8bbba0098b2225c5dfaa3</td>\n",
       "      <td>6182113bbc63410023473754</td>\n",
       "      <td>1.0</td>\n",
       "      <td>57000.0</td>\n",
       "      <td>57000.0</td>\n",
       "      <td>30-39</td>\n",
       "      <td>1.0</td>\n",
       "      <td>1.0</td>\n",
       "      <td>False</td>\n",
       "      <td>도서</td>\n",
       "      <td>book</td>\n",
       "      <td>1</td>\n",
       "    </tr>\n",
       "    <tr>\n",
       "      <th>4871</th>\n",
       "      <td>62ff4281ca740b0024397d97</td>\n",
       "      <td>2022-08-19 07:58:31.348000+00:00</td>\n",
       "      <td>5dc22ddf2bb59605ca3cf731</td>\n",
       "      <td>True</td>\n",
       "      <td>흔히보는 정형외과 외래진료 가이드북</td>\n",
       "      <td>5cf8bbba0098b2225c5dfaa3</td>\n",
       "      <td>6182113bbc63410023473754</td>\n",
       "      <td>1.0</td>\n",
       "      <td>57000.0</td>\n",
       "      <td>57000.0</td>\n",
       "      <td>20-29</td>\n",
       "      <td>1.0</td>\n",
       "      <td>0.0</td>\n",
       "      <td>False</td>\n",
       "      <td>도서</td>\n",
       "      <td>book</td>\n",
       "      <td>1</td>\n",
       "    </tr>\n",
       "    <tr>\n",
       "      <th>4815</th>\n",
       "      <td>62fd8a8eca740b0024397482</td>\n",
       "      <td>2022-08-18 00:41:47.318000+00:00</td>\n",
       "      <td>5d9692e90dabe405b156d97b</td>\n",
       "      <td>True</td>\n",
       "      <td>흔히보는 정형외과 외래진료 가이드북</td>\n",
       "      <td>5cf8bbba0098b2225c5dfaa3</td>\n",
       "      <td>6182113bbc63410023473754</td>\n",
       "      <td>1.0</td>\n",
       "      <td>57000.0</td>\n",
       "      <td>57000.0</td>\n",
       "      <td>40-49</td>\n",
       "      <td>1.0</td>\n",
       "      <td>1.0</td>\n",
       "      <td>False</td>\n",
       "      <td>도서</td>\n",
       "      <td>book</td>\n",
       "      <td>1</td>\n",
       "    </tr>\n",
       "    <tr>\n",
       "      <th>...</th>\n",
       "      <td>...</td>\n",
       "      <td>...</td>\n",
       "      <td>...</td>\n",
       "      <td>...</td>\n",
       "      <td>...</td>\n",
       "      <td>...</td>\n",
       "      <td>...</td>\n",
       "      <td>...</td>\n",
       "      <td>...</td>\n",
       "      <td>...</td>\n",
       "      <td>...</td>\n",
       "      <td>...</td>\n",
       "      <td>...</td>\n",
       "      <td>...</td>\n",
       "      <td>...</td>\n",
       "      <td>...</td>\n",
       "      <td>...</td>\n",
       "    </tr>\n",
       "    <tr>\n",
       "      <th>1017</th>\n",
       "      <td>62a0027f9d93880024072fd2</td>\n",
       "      <td>2022-06-08 02:01:54.409000+00:00</td>\n",
       "      <td>5dcd1a312bb59605ca3cfe72</td>\n",
       "      <td>True</td>\n",
       "      <td>2022 통장잔고 2배 늘려주는 병의원 절세비법</td>\n",
       "      <td>5cf8bbba0098b2225c5dfaa3</td>\n",
       "      <td>6279c9439d93880024062730</td>\n",
       "      <td>1.0</td>\n",
       "      <td>18000.0</td>\n",
       "      <td>18000.0</td>\n",
       "      <td>60-</td>\n",
       "      <td>1.0</td>\n",
       "      <td>0.0</td>\n",
       "      <td>False</td>\n",
       "      <td>도서</td>\n",
       "      <td>book</td>\n",
       "      <td>1</td>\n",
       "    </tr>\n",
       "    <tr>\n",
       "      <th>1011</th>\n",
       "      <td>629ff6ef9d93880024072eee</td>\n",
       "      <td>2022-06-08 01:10:52.392000+00:00</td>\n",
       "      <td>5d96906a0dabe405b156d8e3</td>\n",
       "      <td>True</td>\n",
       "      <td>2022 통장잔고 2배 늘려주는 병의원 절세비법</td>\n",
       "      <td>5cf8bbba0098b2225c5dfaa3</td>\n",
       "      <td>6279c9439d93880024062730</td>\n",
       "      <td>1.0</td>\n",
       "      <td>18000.0</td>\n",
       "      <td>18000.0</td>\n",
       "      <td>40-49</td>\n",
       "      <td>1.0</td>\n",
       "      <td>0.0</td>\n",
       "      <td>False</td>\n",
       "      <td>도서</td>\n",
       "      <td>book</td>\n",
       "      <td>1</td>\n",
       "    </tr>\n",
       "    <tr>\n",
       "      <th>457</th>\n",
       "      <td>628c77659d9388002406e685</td>\n",
       "      <td>2022-05-24 06:17:08.346000+00:00</td>\n",
       "      <td>5ea8cbe41a3ca36b96784ddf</td>\n",
       "      <td>True</td>\n",
       "      <td>2022 통장잔고 2배 늘려주는 병의원 절세비법</td>\n",
       "      <td>5cf8bbba0098b2225c5dfaa3</td>\n",
       "      <td>6279c9439d93880024062730</td>\n",
       "      <td>1.0</td>\n",
       "      <td>18000.0</td>\n",
       "      <td>18000.0</td>\n",
       "      <td>20-29</td>\n",
       "      <td>1.0</td>\n",
       "      <td>0.0</td>\n",
       "      <td>False</td>\n",
       "      <td>도서</td>\n",
       "      <td>book</td>\n",
       "      <td>1</td>\n",
       "    </tr>\n",
       "    <tr>\n",
       "      <th>336</th>\n",
       "      <td>628b0b8e9d9388002406deea</td>\n",
       "      <td>2022-05-23 04:22:30.193000+00:00</td>\n",
       "      <td>5d6696914e77525ec5ca17b9</td>\n",
       "      <td>True</td>\n",
       "      <td>2022 통장잔고 2배 늘려주는 병의원 절세비법</td>\n",
       "      <td>5cf8bbba0098b2225c5dfaa3</td>\n",
       "      <td>6279c9439d93880024062730</td>\n",
       "      <td>1.0</td>\n",
       "      <td>18000.0</td>\n",
       "      <td>18000.0</td>\n",
       "      <td>50-59</td>\n",
       "      <td>1.0</td>\n",
       "      <td>1.0</td>\n",
       "      <td>False</td>\n",
       "      <td>도서</td>\n",
       "      <td>book</td>\n",
       "      <td>1</td>\n",
       "    </tr>\n",
       "    <tr>\n",
       "      <th>206</th>\n",
       "      <td>628464d89d93880024064e1c</td>\n",
       "      <td>2022-05-18 03:16:13.625000+00:00</td>\n",
       "      <td>5e7bf122bfe426094478417f</td>\n",
       "      <td>True</td>\n",
       "      <td>2022 통장잔고 2배 늘려주는 병의원 절세비법</td>\n",
       "      <td>5cf8bbba0098b2225c5dfaa3</td>\n",
       "      <td>6279c9439d93880024062730</td>\n",
       "      <td>1.0</td>\n",
       "      <td>18000.0</td>\n",
       "      <td>18000.0</td>\n",
       "      <td>30-39</td>\n",
       "      <td>1.0</td>\n",
       "      <td>1.0</td>\n",
       "      <td>False</td>\n",
       "      <td>도서</td>\n",
       "      <td>book</td>\n",
       "      <td>1</td>\n",
       "    </tr>\n",
       "  </tbody>\n",
       "</table>\n",
       "<p>5024 rows × 17 columns</p>\n",
       "</div>"
      ],
      "text/plain": [
       "                           _id                        date_paid  \\\n",
       "4912  63022db558e1680033a577fa 2022-08-21 13:06:29.249000+00:00   \n",
       "4885  63004f04ca740b0024398005 2022-08-20 03:05:17+00:00          \n",
       "4882  63002b54ca740b0024397fb0 2022-08-20 00:31:55.091000+00:00   \n",
       "4871  62ff4281ca740b0024397d97 2022-08-19 07:58:31.348000+00:00   \n",
       "4815  62fd8a8eca740b0024397482 2022-08-18 00:41:47.318000+00:00   \n",
       "...                        ...                              ...   \n",
       "1017  62a0027f9d93880024072fd2 2022-06-08 02:01:54.409000+00:00   \n",
       "1011  629ff6ef9d93880024072eee 2022-06-08 01:10:52.392000+00:00   \n",
       "457   628c77659d9388002406e685 2022-05-24 06:17:08.346000+00:00   \n",
       "336   628b0b8e9d9388002406deea 2022-05-23 04:22:30.193000+00:00   \n",
       "206   628464d89d93880024064e1c 2022-05-18 03:16:13.625000+00:00   \n",
       "\n",
       "                   customer_id  paid                      name_x  \\\n",
       "4912  5e997e27bfe4260944785d49  True  흔히보는 정형외과 외래진료 가이드북          \n",
       "4885  60fba9e7d26af90681b1d395  True  흔히보는 정형외과 외래진료 가이드북          \n",
       "4882  62cb762eb99f01002300b840  True  흔히보는 정형외과 외래진료 가이드북          \n",
       "4871  5dc22ddf2bb59605ca3cf731  True  흔히보는 정형외과 외래진료 가이드북          \n",
       "4815  5d9692e90dabe405b156d97b  True  흔히보는 정형외과 외래진료 가이드북          \n",
       "...                        ...   ...                  ...          \n",
       "1017  5dcd1a312bb59605ca3cfe72  True  2022 통장잔고 2배 늘려주는 병의원 절세비법   \n",
       "1011  5d96906a0dabe405b156d8e3  True  2022 통장잔고 2배 늘려주는 병의원 절세비법   \n",
       "457   5ea8cbe41a3ca36b96784ddf  True  2022 통장잔고 2배 늘려주는 병의원 절세비법   \n",
       "336   5d6696914e77525ec5ca17b9  True  2022 통장잔고 2배 늘려주는 병의원 절세비법   \n",
       "206   5e7bf122bfe426094478417f  True  2022 통장잔고 2배 늘려주는 병의원 절세비법   \n",
       "\n",
       "                 category_id_y               product_ids  quantity    price  \\\n",
       "4912  5cf8bbba0098b2225c5dfaa3  6182113bbc63410023473754  1.0       57000.0   \n",
       "4885  5cf8bbba0098b2225c5dfaa3  6182113bbc63410023473754  1.0       57000.0   \n",
       "4882  5cf8bbba0098b2225c5dfaa3  6182113bbc63410023473754  1.0       57000.0   \n",
       "4871  5cf8bbba0098b2225c5dfaa3  6182113bbc63410023473754  1.0       57000.0   \n",
       "4815  5cf8bbba0098b2225c5dfaa3  6182113bbc63410023473754  1.0       57000.0   \n",
       "...                        ...                       ...  ...           ...   \n",
       "1017  5cf8bbba0098b2225c5dfaa3  6279c9439d93880024062730  1.0       18000.0   \n",
       "1011  5cf8bbba0098b2225c5dfaa3  6279c9439d93880024062730  1.0       18000.0   \n",
       "457   5cf8bbba0098b2225c5dfaa3  6279c9439d93880024062730  1.0       18000.0   \n",
       "336   5cf8bbba0098b2225c5dfaa3  6279c9439d93880024062730  1.0       18000.0   \n",
       "206   5cf8bbba0098b2225c5dfaa3  6279c9439d93880024062730  1.0       18000.0   \n",
       "\n",
       "      price_total age_group  한의사 여부  사업자 여부  cancelled name  slug  ct  \n",
       "4912  57000.0      20-29     0.0     0.0     False      도서   book  1   \n",
       "4885  57000.0      None      0.0     0.0     False      도서   book  1   \n",
       "4882  57000.0      30-39     1.0     1.0     False      도서   book  1   \n",
       "4871  57000.0      20-29     1.0     0.0     False      도서   book  1   \n",
       "4815  57000.0      40-49     1.0     1.0     False      도서   book  1   \n",
       "...       ...        ...     ...     ...       ...      ..    ... ..   \n",
       "1017  18000.0      60-       1.0     0.0     False      도서   book  1   \n",
       "1011  18000.0      40-49     1.0     0.0     False      도서   book  1   \n",
       "457   18000.0      20-29     1.0     0.0     False      도서   book  1   \n",
       "336   18000.0      50-59     1.0     1.0     False      도서   book  1   \n",
       "206   18000.0      30-39     1.0     1.0     False      도서   book  1   \n",
       "\n",
       "[5024 rows x 17 columns]"
      ]
     },
     "execution_count": 62,
     "metadata": {},
     "output_type": "execute_result"
    }
   ],
   "source": [
    "tmp = train.groupby(['customer_id','name_x'])['date_paid'].agg('count').reset_index()\n",
    "tmp.columns = ['customer_id','name_x','ct']\n",
    "train = train.merge(tmp,on=['customer_id','name_x'],how='left')\n",
    "train = train.sort_values(['ct','date_paid'],ascending=False)\n",
    "train = train.drop_duplicates(['customer_id','name_x'])\n",
    "train = train.sort_values(['ct','name_x'],ascending=False)\n",
    "train"
   ]
  },
  {
   "cell_type": "markdown",
   "id": "b5c38703",
   "metadata": {},
   "source": [
    "# (2) Recommend Items Purchased Together"
   ]
  },
  {
   "cell_type": "code",
   "execution_count": 73,
   "id": "73ba3e7c",
   "metadata": {
    "scrolled": false
   },
   "outputs": [
    {
     "data": {
      "text/html": [
       "<div>\n",
       "<style scoped>\n",
       "    .dataframe tbody tr th:only-of-type {\n",
       "        vertical-align: middle;\n",
       "    }\n",
       "\n",
       "    .dataframe tbody tr th {\n",
       "        vertical-align: top;\n",
       "    }\n",
       "\n",
       "    .dataframe thead th {\n",
       "        text-align: right;\n",
       "    }\n",
       "</style>\n",
       "<table border=\"1\" class=\"dataframe\">\n",
       "  <thead>\n",
       "    <tr style=\"text-align: right;\">\n",
       "      <th></th>\n",
       "      <th>antecedents</th>\n",
       "      <th>consequents</th>\n",
       "      <th>antecedent support</th>\n",
       "      <th>consequent support</th>\n",
       "      <th>support</th>\n",
       "      <th>confidence</th>\n",
       "      <th>lift</th>\n",
       "      <th>leverage</th>\n",
       "      <th>conviction</th>\n",
       "    </tr>\n",
       "  </thead>\n",
       "  <tbody>\n",
       "    <tr>\n",
       "      <th>0</th>\n",
       "      <td>(사암침의 해석과 임상)</td>\n",
       "      <td>(비만문답)</td>\n",
       "      <td>0.033148</td>\n",
       "      <td>0.152214</td>\n",
       "      <td>0.022275</td>\n",
       "      <td>0.672000</td>\n",
       "      <td>4.414829</td>\n",
       "      <td>0.017230</td>\n",
       "      <td>2.584713</td>\n",
       "    </tr>\n",
       "    <tr>\n",
       "      <th>1</th>\n",
       "      <td>(비만문답)</td>\n",
       "      <td>(사암침의 해석과 임상)</td>\n",
       "      <td>0.152214</td>\n",
       "      <td>0.033148</td>\n",
       "      <td>0.022275</td>\n",
       "      <td>0.146341</td>\n",
       "      <td>4.414829</td>\n",
       "      <td>0.017230</td>\n",
       "      <td>1.132598</td>\n",
       "    </tr>\n",
       "    <tr>\n",
       "      <th>2</th>\n",
       "      <td>(황황교수의 임상의를 위한 근거기반 상한금궤 처방 매뉴얼)</td>\n",
       "      <td>(황황교수의 개원 한의사를 위한 상한금궤 처방 강의록)</td>\n",
       "      <td>0.056484</td>\n",
       "      <td>0.052241</td>\n",
       "      <td>0.042694</td>\n",
       "      <td>0.755869</td>\n",
       "      <td>14.468935</td>\n",
       "      <td>0.039743</td>\n",
       "      <td>3.882168</td>\n",
       "    </tr>\n",
       "    <tr>\n",
       "      <th>3</th>\n",
       "      <td>(황황교수의 개원 한의사를 위한 상한금궤 처방 강의록)</td>\n",
       "      <td>(황황교수의 임상의를 위한 근거기반 상한금궤 처방 매뉴얼)</td>\n",
       "      <td>0.052241</td>\n",
       "      <td>0.056484</td>\n",
       "      <td>0.042694</td>\n",
       "      <td>0.817259</td>\n",
       "      <td>14.468935</td>\n",
       "      <td>0.039743</td>\n",
       "      <td>5.163131</td>\n",
       "    </tr>\n",
       "  </tbody>\n",
       "</table>\n",
       "</div>"
      ],
      "text/plain": [
       "                        antecedents                       consequents  \\\n",
       "0  (사암침의 해석과 임상)                     (비만문답)                             \n",
       "1  (비만문답)                            (사암침의 해석과 임상)                      \n",
       "2  (황황교수의 임상의를 위한 근거기반 상한금궤 처방 매뉴얼)  (황황교수의 개원 한의사를 위한 상한금궤 처방 강의록)     \n",
       "3  (황황교수의 개원 한의사를 위한 상한금궤 처방 강의록)    (황황교수의 임상의를 위한 근거기반 상한금궤 처방 매뉴얼)   \n",
       "\n",
       "   antecedent support  consequent support   support  confidence       lift  \\\n",
       "0  0.033148            0.152214            0.022275  0.672000    4.414829    \n",
       "1  0.152214            0.033148            0.022275  0.146341    4.414829    \n",
       "2  0.056484            0.052241            0.042694  0.755869    14.468935   \n",
       "3  0.052241            0.056484            0.042694  0.817259    14.468935   \n",
       "\n",
       "   leverage  conviction  \n",
       "0  0.017230  2.584713    \n",
       "1  0.017230  1.132598    \n",
       "2  0.039743  3.882168    \n",
       "3  0.039743  5.163131    "
      ]
     },
     "execution_count": 73,
     "metadata": {},
     "output_type": "execute_result"
    }
   ],
   "source": [
    "is_ap = apriori(orders_1hot, min_support=0.01, use_colnames=True)\n",
    "rules_confidence_item = association_rules(is_ap, min_threshold=0.1) # default가 confidence\n",
    "rules_confidence_item"
   ]
  },
  {
   "cell_type": "code",
   "execution_count": 74,
   "id": "78d80a30",
   "metadata": {},
   "outputs": [],
   "source": [
    "apriori_items = rules_confidence_item[['antecedents','consequents']].iloc[:15]"
   ]
  },
  {
   "cell_type": "code",
   "execution_count": 115,
   "id": "808c4cd0",
   "metadata": {},
   "outputs": [
    {
     "name": "stderr",
     "output_type": "stream",
     "text": [
      "/home/user_4/anaconda3/lib/python3.8/site-packages/ipykernel/ipkernel.py:287: DeprecationWarning: `should_run_async` will not call `transform_cell` automatically in the future. Please pass the result to `transformed_cell` argument and any exception that happen during thetransform in `preprocessing_exc_tuple` in IPython 7.17 and above.\n",
      "  and should_run_async(code)\n"
     ]
    }
   ],
   "source": [
    "apriori_items['antecedents'] = apriori_items['antecedents'].apply(lambda x: list(map(str,x))[0])\n",
    "apriori_items['consequents'] = apriori_items['consequents'].apply(lambda x: list(map(str,x))[0])"
   ]
  },
  {
   "cell_type": "code",
   "execution_count": 120,
   "id": "3d2591b4",
   "metadata": {
    "scrolled": true
   },
   "outputs": [
    {
     "name": "stderr",
     "output_type": "stream",
     "text": [
      "/home/user_4/anaconda3/lib/python3.8/site-packages/ipykernel/ipkernel.py:287: DeprecationWarning: `should_run_async` will not call `transform_cell` automatically in the future. Please pass the result to `transformed_cell` argument and any exception that happen during thetransform in `preprocessing_exc_tuple` in IPython 7.17 and above.\n",
      "  and should_run_async(code)\n"
     ]
    },
    {
     "data": {
      "text/html": [
       "<div>\n",
       "<style scoped>\n",
       "    .dataframe tbody tr th:only-of-type {\n",
       "        vertical-align: middle;\n",
       "    }\n",
       "\n",
       "    .dataframe tbody tr th {\n",
       "        vertical-align: top;\n",
       "    }\n",
       "\n",
       "    .dataframe thead th {\n",
       "        text-align: right;\n",
       "    }\n",
       "</style>\n",
       "<table border=\"1\" class=\"dataframe\">\n",
       "  <thead>\n",
       "    <tr style=\"text-align: right;\">\n",
       "      <th></th>\n",
       "      <th>A</th>\n",
       "      <th>A의 연관 아이템 (B)</th>\n",
       "    </tr>\n",
       "  </thead>\n",
       "  <tbody>\n",
       "    <tr>\n",
       "      <th>0</th>\n",
       "      <td>사암침의 해석과 임상</td>\n",
       "      <td>비만문답</td>\n",
       "    </tr>\n",
       "    <tr>\n",
       "      <th>1</th>\n",
       "      <td>황황교수의 임상의를 위한 근거기반 상한금궤 처방 매뉴얼</td>\n",
       "      <td>황황교수의 개원 한의사를 위한 상한금궤 처방 강의록</td>\n",
       "    </tr>\n",
       "    <tr>\n",
       "      <th>2</th>\n",
       "      <td>황황교수의 개원 한의사를 위한 상한금궤 처방 강의록</td>\n",
       "      <td>황황교수의 임상의를 위한 근거기반 상한금궤 처방 매뉴얼</td>\n",
       "    </tr>\n",
       "  </tbody>\n",
       "</table>\n",
       "</div>"
      ],
      "text/plain": [
       "                                A                   A의 연관 아이템 (B)\n",
       "0  사암침의 해석과 임상                     비만문답                          \n",
       "1  황황교수의 임상의를 위한 근거기반 상한금궤 처방 매뉴얼  황황교수의 개원 한의사를 위한 상한금궤 처방 강의록  \n",
       "2  황황교수의 개원 한의사를 위한 상한금궤 처방 강의록    황황교수의 임상의를 위한 근거기반 상한금궤 처방 매뉴얼"
      ]
     },
     "execution_count": 120,
     "metadata": {},
     "output_type": "execute_result"
    }
   ],
   "source": [
    "apriori_items.rename(columns={\"antecedents\": \"A\", \"consequents\": \"A의 연관 아이템 (B)\"})"
   ]
  },
  {
   "cell_type": "code",
   "execution_count": 99,
   "id": "a755e3e2",
   "metadata": {},
   "outputs": [
    {
     "name": "stderr",
     "output_type": "stream",
     "text": [
      "/home/user_4/anaconda3/lib/python3.8/site-packages/ipykernel/ipkernel.py:287: DeprecationWarning: `should_run_async` will not call `transform_cell` automatically in the future. Please pass the result to `transformed_cell` argument and any exception that happen during thetransform in `preprocessing_exc_tuple` in IPython 7.17 and above.\n",
      "  and should_run_async(code)\n"
     ]
    }
   ],
   "source": [
    "train_items = train[['date_paid','customer_id','name_x','product_ids']]\n",
    "\n",
    "# apriori_items\n",
    "# train_items[train_items['name_x']==]\n",
    "train_items['apriori_pred'] = train_items['name_x'].apply(lambda x: apriori_items[apriori_items['antecedents']==x]['consequents'].values[0] if x in list(apriori_items['antecedents']) \\\n",
    "                            else None)\n",
    "# for idx, row in train_items.iterrows():"
   ]
  },
  {
   "cell_type": "code",
   "execution_count": 100,
   "id": "9be462a4",
   "metadata": {},
   "outputs": [
    {
     "name": "stderr",
     "output_type": "stream",
     "text": [
      "/home/user_4/anaconda3/lib/python3.8/site-packages/ipykernel/ipkernel.py:287: DeprecationWarning: `should_run_async` will not call `transform_cell` automatically in the future. Please pass the result to `transformed_cell` argument and any exception that happen during thetransform in `preprocessing_exc_tuple` in IPython 7.17 and above.\n",
      "  and should_run_async(code)\n"
     ]
    }
   ],
   "source": [
    "name_x_df = train_items.groupby('customer_id')['name_x'].unique().reset_index()\n",
    "apriori_pred_df  = train_items.groupby('customer_id')['apriori_pred'].unique().reset_index()\n",
    "real_pred = test.groupby('customer_id')['name_x'].unique().reset_index().rename(columns={'name_x':'real_product'})\n",
    "\n",
    "train_pred = pd.merge(name_x_df,apriori_pred_df, on='customer_id', how='left')\n",
    "train_real_pred = pd.merge(train_pred,real_pred, on='customer_id', how='right')"
   ]
  },
  {
   "cell_type": "code",
   "execution_count": 101,
   "id": "498a0225",
   "metadata": {},
   "outputs": [
    {
     "name": "stderr",
     "output_type": "stream",
     "text": [
      "/home/user_4/anaconda3/lib/python3.8/site-packages/ipykernel/ipkernel.py:287: DeprecationWarning: `should_run_async` will not call `transform_cell` automatically in the future. Please pass the result to `transformed_cell` argument and any exception that happen during thetransform in `preprocessing_exc_tuple` in IPython 7.17 and above.\n",
      "  and should_run_async(code)\n"
     ]
    },
    {
     "data": {
      "text/html": [
       "<div>\n",
       "<style scoped>\n",
       "    .dataframe tbody tr th:only-of-type {\n",
       "        vertical-align: middle;\n",
       "    }\n",
       "\n",
       "    .dataframe tbody tr th {\n",
       "        vertical-align: top;\n",
       "    }\n",
       "\n",
       "    .dataframe thead th {\n",
       "        text-align: right;\n",
       "    }\n",
       "</style>\n",
       "<table border=\"1\" class=\"dataframe\">\n",
       "  <thead>\n",
       "    <tr style=\"text-align: right;\">\n",
       "      <th></th>\n",
       "      <th>customer_id</th>\n",
       "      <th>name_x</th>\n",
       "      <th>apriori_pred</th>\n",
       "      <th>real_product</th>\n",
       "    </tr>\n",
       "  </thead>\n",
       "  <tbody>\n",
       "    <tr>\n",
       "      <th>0</th>\n",
       "      <td>5d61fb634e77525ec5ca1585</td>\n",
       "      <td>[플로차트 정형외과 진단]</td>\n",
       "      <td>[None]</td>\n",
       "      <td>[미안침, 파킨슨병 한의진료, 필라테스 해부학(PILATES ANATOMY)]</td>\n",
       "    </tr>\n",
       "    <tr>\n",
       "      <th>1</th>\n",
       "      <td>5d6f735b19efa30eb2914094</td>\n",
       "      <td>[약침의 정석 –통증편]</td>\n",
       "      <td>[None]</td>\n",
       "      <td>[뇌의학의 첫걸음, 한의학 상담, 수면장애의 한방치료]</td>\n",
       "    </tr>\n",
       "    <tr>\n",
       "      <th>2</th>\n",
       "      <td>5d83468b3f0e6805c47067c9</td>\n",
       "      <td>[외래에서 꼭 알아야 할 통증증후군 137가지]</td>\n",
       "      <td>[None]</td>\n",
       "      <td>[초음파 유도하 침 시술 가이드북, 영어 진료 가이드북 , 비만문답]</td>\n",
       "    </tr>\n",
       "    <tr>\n",
       "      <th>3</th>\n",
       "      <td>5d9690200dabe405b156d8c0</td>\n",
       "      <td>[그린만의 수기의학 원리]</td>\n",
       "      <td>[None]</td>\n",
       "      <td>[임상 한의사를 위한 기본 한약처방 강의 2판, 플로차트 정형외과 진단, 장골의 PI 변위는 없다]</td>\n",
       "    </tr>\n",
       "    <tr>\n",
       "      <th>4</th>\n",
       "      <td>5d96fccb0dabe405b156dbc9</td>\n",
       "      <td>[플로차트 정형외과 진단]</td>\n",
       "      <td>[None]</td>\n",
       "      <td>[초음파 유도하 침 시술 가이드북, 영어 진료 가이드북 , 카이로프랙틱 기본테크닉론]</td>\n",
       "    </tr>\n",
       "    <tr>\n",
       "      <th>5</th>\n",
       "      <td>5d9708790dabe405b156dccc</td>\n",
       "      <td>[파킨슨병 한의진료, 이해하면 보이는 어깨치료 ABC, 우리 아이 감기, 비수술정형외과, 무릎통증(아프니까 무릎이다)]</td>\n",
       "      <td>[None]</td>\n",
       "      <td>[감별진단의 정석, 신경학 증상의 감별법, The 정형내과(The Orthopaedic Medicine), 초음파 유도하 침 시술 가이드북, 장골의 PI 변위는 없다]</td>\n",
       "    </tr>\n",
       "    <tr>\n",
       "      <th>6</th>\n",
       "      <td>5d970b4f0dabe405b156dce4</td>\n",
       "      <td>[SMART 응급진료매뉴얼(세트), SMART 소아진료매뉴얼 3판, SMART 기본 일차진료매뉴얼 3판(세트)]</td>\n",
       "      <td>[None]</td>\n",
       "      <td>[초음파 유도하 침 시술 가이드북, 영어 진료 가이드북 , 소아피부질환해설]</td>\n",
       "    </tr>\n",
       "    <tr>\n",
       "      <th>7</th>\n",
       "      <td>5d9c0beb0dabe405b156e1de</td>\n",
       "      <td>[이것이 알고싶다! 당뇨병진료, 그림으로 이해하는 수분과 전해질 및 산-염기 대사, 갑상선 진료 완전정복]</td>\n",
       "      <td>[None]</td>\n",
       "      <td>[초음파 유도하 침 시술 가이드북, SMART 응급진료매뉴얼(세트), 영어 진료 가이드북 ]</td>\n",
       "    </tr>\n",
       "    <tr>\n",
       "      <th>8</th>\n",
       "      <td>5dce69512bb59605ca3cffb6</td>\n",
       "      <td>[한의 피부진료 첫 걸음, 침의 과학적 접근의 이해, 말초신경 약침의학, 근골격계 약침의학]</td>\n",
       "      <td>[None]</td>\n",
       "      <td>[임상 한의사를 위한 기본 한약처방 강의 2판, 일차진료 한의사를 위한 보험한약입문 - 둘째 판, 숲을 보는 요통치료, NEO 인턴 핸드북]</td>\n",
       "    </tr>\n",
       "    <tr>\n",
       "      <th>9</th>\n",
       "      <td>5df191784267e105dffef5d1</td>\n",
       "      <td>[초음파 유도하 침 시술 가이드북]</td>\n",
       "      <td>[None]</td>\n",
       "      <td>[비만문답, 바른 자세를 위한 교정운동, 약침의 정석 –통증편]</td>\n",
       "    </tr>\n",
       "    <tr>\n",
       "      <th>10</th>\n",
       "      <td>5e0b36b14267e105dfff0422</td>\n",
       "      <td>[플로차트 정형외과 진단]</td>\n",
       "      <td>[None]</td>\n",
       "      <td>[초음파 유도하 침 시술 가이드북, 비만문답, 영어 진료 가이드북 ]</td>\n",
       "    </tr>\n",
       "    <tr>\n",
       "      <th>11</th>\n",
       "      <td>5e1011394267e105dfff0538</td>\n",
       "      <td>[SMART 소아진료매뉴얼 3판, SMART 기본 일차진료매뉴얼 3판(세트)]</td>\n",
       "      <td>[None]</td>\n",
       "      <td>[외래에서 꼭 알아야 할 통증증후군 137가지, 이해하면 보이는 어깨치료 ABC, 최강통증매선, 우리 병원의 문제? 현장에서 답을 찾다!]</td>\n",
       "    </tr>\n",
       "    <tr>\n",
       "      <th>12</th>\n",
       "      <td>5e53b0f1bfe42609447827e4</td>\n",
       "      <td>[동씨침법입문 2판]</td>\n",
       "      <td>[None]</td>\n",
       "      <td>[외래에서 꼭 알아야 할 통증증후군 137가지, 흔히보는 정형외과 외래진료 가이드북, 환자상담의 달인, 비만문답]</td>\n",
       "    </tr>\n",
       "    <tr>\n",
       "      <th>13</th>\n",
       "      <td>5e5da336bfe4260944782c29</td>\n",
       "      <td>[환자상담의 달인]</td>\n",
       "      <td>[None]</td>\n",
       "      <td>[경혈학, 한의사를 위한 통증치료 매뉴얼 Part 3, 맥학심오 강의, 의학입문 맥학강의]</td>\n",
       "    </tr>\n",
       "    <tr>\n",
       "      <th>14</th>\n",
       "      <td>5e5fb67cbfe4260944782d88</td>\n",
       "      <td>[Medical acupuncture '침의 과학적 접근과 임상활용' ]</td>\n",
       "      <td>[None]</td>\n",
       "      <td>[초음파 유도하 침 시술 가이드북, 근골격계 질환의 진단 및 재활치료, 4판, 카이로프랙틱 기본테크닉론]</td>\n",
       "    </tr>\n",
       "    <tr>\n",
       "      <th>15</th>\n",
       "      <td>5e674c5fbfe426094478334d</td>\n",
       "      <td>[사암침의 해석과 임상, 비만문답]</td>\n",
       "      <td>[비만문답, None]</td>\n",
       "      <td>[소아피부질환해설, 영어 진료 가이드북 , Kendall 자세와 통증치료에 있어서 근육의 기능과 검사 5판]</td>\n",
       "    </tr>\n",
       "    <tr>\n",
       "      <th>16</th>\n",
       "      <td>5e6c4d85bfe42609447836eb</td>\n",
       "      <td>[흔히보는 정형외과 외래진료 가이드북, 알기쉬운 초음파 유도하 척추신경블록법]</td>\n",
       "      <td>[None]</td>\n",
       "      <td>[초음파 유도하 침 시술 가이드북, 초음파 유도하 말초신경의 치료 (Ultrasound-Guided Peripheral Nerve Blocks), 그림과 모식도로 배우는 복부초음파, 통증치료를 위한 신경초음파와 하이드로다이섹션 테크닉]</td>\n",
       "    </tr>\n",
       "    <tr>\n",
       "      <th>17</th>\n",
       "      <td>5ebb5aa409982e0735b2d76b</td>\n",
       "      <td>[통증백해(痛症百解)]</td>\n",
       "      <td>[None]</td>\n",
       "      <td>[초음파 유도하 침 시술 가이드북, 플로차트 정형외과 진단, 치매의 간단진단과 치료, 약처방의 정석 (1, 2권 세트) , 병의원 경영과 자산 관리 클리닉]</td>\n",
       "    </tr>\n",
       "    <tr>\n",
       "      <th>18</th>\n",
       "      <td>5ec3586fe510ee503167aa4c</td>\n",
       "      <td>[흔히보는 정형외과 외래진료 가이드북]</td>\n",
       "      <td>[None]</td>\n",
       "      <td>[숲을 보는 요통치료, 윤상훈·권병조의 알짜 근육학, 비만문답]</td>\n",
       "    </tr>\n",
       "    <tr>\n",
       "      <th>19</th>\n",
       "      <td>5f560405a0b91001bf48f643</td>\n",
       "      <td>[플로차트 한약치료, 유도주 상한론강의 1권, 경계 너머의 한방처방]</td>\n",
       "      <td>[None]</td>\n",
       "      <td>[초음파 유도하 침 시술 가이드북, 사상방 사용설명서, 사상임상약물대전, 음양승강으로 해석하는 사상의학: 생리병리]</td>\n",
       "    </tr>\n",
       "    <tr>\n",
       "      <th>20</th>\n",
       "      <td>5fa0749351203163343212a3</td>\n",
       "      <td>[핸즈온 허리, 망설식병]</td>\n",
       "      <td>[None]</td>\n",
       "      <td>[Kendall 자세와 통증치료에 있어서 근육의 기능과 검사 5판, 맥학심오 강의, 의학입문 맥학강의, 개원의를 위한 통증사냥법]</td>\n",
       "    </tr>\n",
       "    <tr>\n",
       "      <th>21</th>\n",
       "      <td>5fad04025120316334322cb8</td>\n",
       "      <td>[황황교수의 임상의를 위한 근거기반 상한금궤 처방 매뉴얼, 황황교수의 개원 한의사를 위한 상한금궤 처방 강의록]</td>\n",
       "      <td>[황황교수의 개원 한의사를 위한 상한금궤 처방 강의록, 황황교수의 임상의를 위한 근거기반 상한금궤 처방 매뉴얼]</td>\n",
       "      <td>[신종바이러스 감염증 예방과 치료를 위한 한방진료전략, 영어 진료 가이드북 , 초음파 유도하 침 시술 가이드북, 임산부에게 사용할 수 있는 한방처방]</td>\n",
       "    </tr>\n",
       "    <tr>\n",
       "      <th>22</th>\n",
       "      <td>5ff7fdc7d6491c001b1785f6</td>\n",
       "      <td>[흔히보는 정형외과 외래진료 가이드북]</td>\n",
       "      <td>[None]</td>\n",
       "      <td>[적방! 한약처방 100문 100답, 고령자 한방진료, 음양승강으로 해석하는 사상의학: 생리병리, 실전, 임상한의학 내과질환을 중심으로, 증례와 함께 하는 한약처방, 황황교수의 임상의를 위한 근거기반 상한금궤 처방 매뉴얼, 일차진료 한의사를 위한 보험한약입문 - 둘째 판, 황황교수의 개원 한의사를 위한 상한금궤 처방 강의록, 임상 한의사를 위한 기본 한약처방 강의 2판, 비만문답, 플로차트 정형외과 진단, 이해하면 보이는 어깨치료 ABC, 일반혈액검사 판독법]</td>\n",
       "    </tr>\n",
       "    <tr>\n",
       "      <th>23</th>\n",
       "      <td>60239968527223001a208810</td>\n",
       "      <td>[한방치료 44철칙, 사상임상약물대전, 사상방 사용설명서, 藥徵, 약의 징표]</td>\n",
       "      <td>[None]</td>\n",
       "      <td>[실전, 임상한의학 내과질환을 중심으로, 일차진료 한의사를 위한 보험한약입문 - 둘째 판, 플로차트 정형외과 진단, 음양승강으로 해석하는 사상의학: 생리병리, 증례와 함께 하는 한약처방]</td>\n",
       "    </tr>\n",
       "    <tr>\n",
       "      <th>24</th>\n",
       "      <td>602ac6c22c593a001acea9c9</td>\n",
       "      <td>[일차진료 한의사를 위한 보험한약입문 - 둘째 판, 숲을 보는 요통치료]</td>\n",
       "      <td>[None]</td>\n",
       "      <td>[트리거포인트 침치료, Medical acupuncture '침의 과학적 접근과 임상활용' , 근골격계 약침의학, 한눈에 보는 스트레칭 해부학, 침의 과학적 접근의 이해, 동씨침법입문 2판, 적방! 한약처방 100문 100답]</td>\n",
       "    </tr>\n",
       "    <tr>\n",
       "      <th>25</th>\n",
       "      <td>60541266c1908b001a63b679</td>\n",
       "      <td>[실용오수혈발휘]</td>\n",
       "      <td>[None]</td>\n",
       "      <td>[여과백문, 윤상훈·권병조의 알짜 근육학, 비만문답]</td>\n",
       "    </tr>\n",
       "    <tr>\n",
       "      <th>26</th>\n",
       "      <td>6076dac90ccc56001bc7b4e1</td>\n",
       "      <td>[흔히보는 정형외과 외래진료 가이드북, 필라테스 해부학(PILATES ANATOMY), NEO 인턴 핸드북]</td>\n",
       "      <td>[None]</td>\n",
       "      <td>[침의 과학적 접근의 이해, 한눈에 보는 스트레칭 해부학, 해리슨 내과학 제20판, KCD 한방내과 진찰진단 가이드라인]</td>\n",
       "    </tr>\n",
       "    <tr>\n",
       "      <th>27</th>\n",
       "      <td>6177e5a3bc63410023470ec5</td>\n",
       "      <td>[SMART 기본 일차진료매뉴얼 3판(세트)]</td>\n",
       "      <td>[None]</td>\n",
       "      <td>[윤상훈·권병조의 알짜 근육학, 영어 진료 가이드북 , 소아피부질환해설]</td>\n",
       "    </tr>\n",
       "    <tr>\n",
       "      <th>28</th>\n",
       "      <td>6220687af967570023fa7e74</td>\n",
       "      <td>[트리거포인트 침치료]</td>\n",
       "      <td>[None]</td>\n",
       "      <td>[증보운곡본초학, 유도주 상한론강의 1권, 유도주 상한론강의 2권]</td>\n",
       "    </tr>\n",
       "  </tbody>\n",
       "</table>\n",
       "</div>"
      ],
      "text/plain": [
       "                 customer_id  \\\n",
       "0   5d61fb634e77525ec5ca1585   \n",
       "1   5d6f735b19efa30eb2914094   \n",
       "2   5d83468b3f0e6805c47067c9   \n",
       "3   5d9690200dabe405b156d8c0   \n",
       "4   5d96fccb0dabe405b156dbc9   \n",
       "5   5d9708790dabe405b156dccc   \n",
       "6   5d970b4f0dabe405b156dce4   \n",
       "7   5d9c0beb0dabe405b156e1de   \n",
       "8   5dce69512bb59605ca3cffb6   \n",
       "9   5df191784267e105dffef5d1   \n",
       "10  5e0b36b14267e105dfff0422   \n",
       "11  5e1011394267e105dfff0538   \n",
       "12  5e53b0f1bfe42609447827e4   \n",
       "13  5e5da336bfe4260944782c29   \n",
       "14  5e5fb67cbfe4260944782d88   \n",
       "15  5e674c5fbfe426094478334d   \n",
       "16  5e6c4d85bfe42609447836eb   \n",
       "17  5ebb5aa409982e0735b2d76b   \n",
       "18  5ec3586fe510ee503167aa4c   \n",
       "19  5f560405a0b91001bf48f643   \n",
       "20  5fa0749351203163343212a3   \n",
       "21  5fad04025120316334322cb8   \n",
       "22  5ff7fdc7d6491c001b1785f6   \n",
       "23  60239968527223001a208810   \n",
       "24  602ac6c22c593a001acea9c9   \n",
       "25  60541266c1908b001a63b679   \n",
       "26  6076dac90ccc56001bc7b4e1   \n",
       "27  6177e5a3bc63410023470ec5   \n",
       "28  6220687af967570023fa7e74   \n",
       "\n",
       "                                                                name_x  \\\n",
       "0   [플로차트 정형외과 진단]                                                       \n",
       "1   [약침의 정석 –통증편]                                                        \n",
       "2   [외래에서 꼭 알아야 할 통증증후군 137가지]                                           \n",
       "3   [그린만의 수기의학 원리]                                                       \n",
       "4   [플로차트 정형외과 진단]                                                       \n",
       "5   [파킨슨병 한의진료, 이해하면 보이는 어깨치료 ABC, 우리 아이 감기, 비수술정형외과, 무릎통증(아프니까 무릎이다)]   \n",
       "6   [SMART 응급진료매뉴얼(세트), SMART 소아진료매뉴얼 3판, SMART 기본 일차진료매뉴얼 3판(세트)]       \n",
       "7   [이것이 알고싶다! 당뇨병진료, 그림으로 이해하는 수분과 전해질 및 산-염기 대사, 갑상선 진료 완전정복]          \n",
       "8   [한의 피부진료 첫 걸음, 침의 과학적 접근의 이해, 말초신경 약침의학, 근골격계 약침의학]                  \n",
       "9   [초음파 유도하 침 시술 가이드북]                                                  \n",
       "10  [플로차트 정형외과 진단]                                                       \n",
       "11  [SMART 소아진료매뉴얼 3판, SMART 기본 일차진료매뉴얼 3판(세트)]                          \n",
       "12  [동씨침법입문 2판]                                                          \n",
       "13  [환자상담의 달인]                                                           \n",
       "14  [Medical acupuncture '침의 과학적 접근과 임상활용' ]                             \n",
       "15  [사암침의 해석과 임상, 비만문답]                                                  \n",
       "16  [흔히보는 정형외과 외래진료 가이드북, 알기쉬운 초음파 유도하 척추신경블록법]                          \n",
       "17  [통증백해(痛症百解)]                                                         \n",
       "18  [흔히보는 정형외과 외래진료 가이드북]                                                \n",
       "19  [플로차트 한약치료, 유도주 상한론강의 1권, 경계 너머의 한방처방]                               \n",
       "20  [핸즈온 허리, 망설식병]                                                       \n",
       "21  [황황교수의 임상의를 위한 근거기반 상한금궤 처방 매뉴얼, 황황교수의 개원 한의사를 위한 상한금궤 처방 강의록]       \n",
       "22  [흔히보는 정형외과 외래진료 가이드북]                                                \n",
       "23  [한방치료 44철칙, 사상임상약물대전, 사상방 사용설명서, 藥徵, 약의 징표]                          \n",
       "24  [일차진료 한의사를 위한 보험한약입문 - 둘째 판, 숲을 보는 요통치료]                             \n",
       "25  [실용오수혈발휘]                                                            \n",
       "26  [흔히보는 정형외과 외래진료 가이드북, 필라테스 해부학(PILATES ANATOMY), NEO 인턴 핸드북]         \n",
       "27  [SMART 기본 일차진료매뉴얼 3판(세트)]                                            \n",
       "28  [트리거포인트 침치료]                                                         \n",
       "\n",
       "                                                      apriori_pred  \\\n",
       "0   [None]                                                           \n",
       "1   [None]                                                           \n",
       "2   [None]                                                           \n",
       "3   [None]                                                           \n",
       "4   [None]                                                           \n",
       "5   [None]                                                           \n",
       "6   [None]                                                           \n",
       "7   [None]                                                           \n",
       "8   [None]                                                           \n",
       "9   [None]                                                           \n",
       "10  [None]                                                           \n",
       "11  [None]                                                           \n",
       "12  [None]                                                           \n",
       "13  [None]                                                           \n",
       "14  [None]                                                           \n",
       "15  [비만문답, None]                                                     \n",
       "16  [None]                                                           \n",
       "17  [None]                                                           \n",
       "18  [None]                                                           \n",
       "19  [None]                                                           \n",
       "20  [None]                                                           \n",
       "21  [황황교수의 개원 한의사를 위한 상한금궤 처방 강의록, 황황교수의 임상의를 위한 근거기반 상한금궤 처방 매뉴얼]   \n",
       "22  [None]                                                           \n",
       "23  [None]                                                           \n",
       "24  [None]                                                           \n",
       "25  [None]                                                           \n",
       "26  [None]                                                           \n",
       "27  [None]                                                           \n",
       "28  [None]                                                           \n",
       "\n",
       "                                                                                                                                                                                                                                                           real_product  \n",
       "0   [미안침, 파킨슨병 한의진료, 필라테스 해부학(PILATES ANATOMY)]                                                                                                                                                                                                                          \n",
       "1   [뇌의학의 첫걸음, 한의학 상담, 수면장애의 한방치료]                                                                                                                                                                                                                                       \n",
       "2   [초음파 유도하 침 시술 가이드북, 영어 진료 가이드북 , 비만문답]                                                                                                                                                                                                                               \n",
       "3   [임상 한의사를 위한 기본 한약처방 강의 2판, 플로차트 정형외과 진단, 장골의 PI 변위는 없다]                                                                                                                                                                                                              \n",
       "4   [초음파 유도하 침 시술 가이드북, 영어 진료 가이드북 , 카이로프랙틱 기본테크닉론]                                                                                                                                                                                                                      \n",
       "5   [감별진단의 정석, 신경학 증상의 감별법, The 정형내과(The Orthopaedic Medicine), 초음파 유도하 침 시술 가이드북, 장골의 PI 변위는 없다]                                                                                                                                                                        \n",
       "6   [초음파 유도하 침 시술 가이드북, 영어 진료 가이드북 , 소아피부질환해설]                                                                                                                                                                                                                           \n",
       "7   [초음파 유도하 침 시술 가이드북, SMART 응급진료매뉴얼(세트), 영어 진료 가이드북 ]                                                                                                                                                                                                                  \n",
       "8   [임상 한의사를 위한 기본 한약처방 강의 2판, 일차진료 한의사를 위한 보험한약입문 - 둘째 판, 숲을 보는 요통치료, NEO 인턴 핸드북]                                                                                                                                                                                       \n",
       "9   [비만문답, 바른 자세를 위한 교정운동, 약침의 정석 –통증편]                                                                                                                                                                                                                                  \n",
       "10  [초음파 유도하 침 시술 가이드북, 비만문답, 영어 진료 가이드북 ]                                                                                                                                                                                                                               \n",
       "11  [외래에서 꼭 알아야 할 통증증후군 137가지, 이해하면 보이는 어깨치료 ABC, 최강통증매선, 우리 병원의 문제? 현장에서 답을 찾다!]                                                                                                                                                                                        \n",
       "12  [외래에서 꼭 알아야 할 통증증후군 137가지, 흔히보는 정형외과 외래진료 가이드북, 환자상담의 달인, 비만문답]                                                                                                                                                                                                      \n",
       "13  [경혈학, 한의사를 위한 통증치료 매뉴얼 Part 3, 맥학심오 강의, 의학입문 맥학강의]                                                                                                                                                                                                                   \n",
       "14  [초음파 유도하 침 시술 가이드북, 근골격계 질환의 진단 및 재활치료, 4판, 카이로프랙틱 기본테크닉론]                                                                                                                                                                                                           \n",
       "15  [소아피부질환해설, 영어 진료 가이드북 , Kendall 자세와 통증치료에 있어서 근육의 기능과 검사 5판]                                                                                                                                                                                                         \n",
       "16  [초음파 유도하 침 시술 가이드북, 초음파 유도하 말초신경의 치료 (Ultrasound-Guided Peripheral Nerve Blocks), 그림과 모식도로 배우는 복부초음파, 통증치료를 위한 신경초음파와 하이드로다이섹션 테크닉]                                                                                                                                  \n",
       "17  [초음파 유도하 침 시술 가이드북, 플로차트 정형외과 진단, 치매의 간단진단과 치료, 약처방의 정석 (1, 2권 세트) , 병의원 경영과 자산 관리 클리닉]                                                                                                                                                                              \n",
       "18  [숲을 보는 요통치료, 윤상훈·권병조의 알짜 근육학, 비만문답]                                                                                                                                                                                                                                  \n",
       "19  [초음파 유도하 침 시술 가이드북, 사상방 사용설명서, 사상임상약물대전, 음양승강으로 해석하는 사상의학: 생리병리]                                                                                                                                                                                                     \n",
       "20  [Kendall 자세와 통증치료에 있어서 근육의 기능과 검사 5판, 맥학심오 강의, 의학입문 맥학강의, 개원의를 위한 통증사냥법]                                                                                                                                                                                             \n",
       "21  [신종바이러스 감염증 예방과 치료를 위한 한방진료전략, 영어 진료 가이드북 , 초음파 유도하 침 시술 가이드북, 임산부에게 사용할 수 있는 한방처방]                                                                                                                                                                                  \n",
       "22  [적방! 한약처방 100문 100답, 고령자 한방진료, 음양승강으로 해석하는 사상의학: 생리병리, 실전, 임상한의학 내과질환을 중심으로, 증례와 함께 하는 한약처방, 황황교수의 임상의를 위한 근거기반 상한금궤 처방 매뉴얼, 일차진료 한의사를 위한 보험한약입문 - 둘째 판, 황황교수의 개원 한의사를 위한 상한금궤 처방 강의록, 임상 한의사를 위한 기본 한약처방 강의 2판, 비만문답, 플로차트 정형외과 진단, 이해하면 보이는 어깨치료 ABC, 일반혈액검사 판독법]  \n",
       "23  [실전, 임상한의학 내과질환을 중심으로, 일차진료 한의사를 위한 보험한약입문 - 둘째 판, 플로차트 정형외과 진단, 음양승강으로 해석하는 사상의학: 생리병리, 증례와 함께 하는 한약처방]                                                                                                                                                             \n",
       "24  [트리거포인트 침치료, Medical acupuncture '침의 과학적 접근과 임상활용' , 근골격계 약침의학, 한눈에 보는 스트레칭 해부학, 침의 과학적 접근의 이해, 동씨침법입문 2판, 적방! 한약처방 100문 100답]                                                                                                                                       \n",
       "25  [여과백문, 윤상훈·권병조의 알짜 근육학, 비만문답]                                                                                                                                                                                                                                        \n",
       "26  [침의 과학적 접근의 이해, 한눈에 보는 스트레칭 해부학, 해리슨 내과학 제20판, KCD 한방내과 진찰진단 가이드라인]                                                                                                                                                                                                  \n",
       "27  [윤상훈·권병조의 알짜 근육학, 영어 진료 가이드북 , 소아피부질환해설]                                                                                                                                                                                                                             \n",
       "28  [증보운곡본초학, 유도주 상한론강의 1권, 유도주 상한론강의 2권]                                                                                                                                                                                                                                "
      ]
     },
     "execution_count": 101,
     "metadata": {},
     "output_type": "execute_result"
    }
   ],
   "source": [
    "train_real_pred"
   ]
  },
  {
   "cell_type": "code",
   "execution_count": 102,
   "id": "5f642fde",
   "metadata": {},
   "outputs": [
    {
     "name": "stderr",
     "output_type": "stream",
     "text": [
      "/home/user_4/anaconda3/lib/python3.8/site-packages/ipykernel/ipkernel.py:287: DeprecationWarning: `should_run_async` will not call `transform_cell` automatically in the future. Please pass the result to `transformed_cell` argument and any exception that happen during thetransform in `preprocessing_exc_tuple` in IPython 7.17 and above.\n",
      "  and should_run_async(code)\n"
     ]
    },
    {
     "data": {
      "text/plain": [
       "0"
      ]
     },
     "execution_count": 102,
     "metadata": {},
     "output_type": "execute_result"
    }
   ],
   "source": [
    "# 아이템 맞춘 개수\n",
    "cnt = 0\n",
    "for preds, reals in zip(train_real_pred['apriori_pred'], train_real_pred['real_product']):\n",
    "    for pred in preds:\n",
    "        if pred in reals:\n",
    "            cnt += 1\n",
    "cnt"
   ]
  },
  {
   "cell_type": "code",
   "execution_count": null,
   "id": "a0780c6e",
   "metadata": {},
   "outputs": [],
   "source": []
  }
 ],
 "metadata": {
  "kernelspec": {
   "display_name": "Python 3",
   "language": "python",
   "name": "python3"
  },
  "language_info": {
   "codemirror_mode": {
    "name": "ipython",
    "version": 3
   },
   "file_extension": ".py",
   "mimetype": "text/x-python",
   "name": "python",
   "nbconvert_exporter": "python",
   "pygments_lexer": "ipython3",
   "version": "3.8.8"
  }
 },
 "nbformat": 4,
 "nbformat_minor": 5
}
