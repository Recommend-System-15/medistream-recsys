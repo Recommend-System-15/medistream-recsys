{
 "cells": [
  {
   "cell_type": "code",
   "execution_count": 1,
   "id": "64a6ba67",
   "metadata": {},
   "outputs": [
    {
     "name": "stderr",
     "output_type": "stream",
     "text": [
      "/home/user_3/anaconda3/lib/python3.8/site-packages/scipy/__init__.py:138: UserWarning: A NumPy version >=1.16.5 and <1.23.0 is required for this version of SciPy (detected version 1.23.1)\n",
      "  warnings.warn(f\"A NumPy version >={np_minversion} and <{np_maxversion} is required for this version of \"\n"
     ]
    }
   ],
   "source": [
    "import numpy as np\n",
    "import pandas as pd\n",
    "import matplotlib.pyplot as plt\n",
    "import seaborn as sns"
   ]
  },
  {
   "cell_type": "code",
   "execution_count": 2,
   "id": "cc3a3927",
   "metadata": {},
   "outputs": [],
   "source": [
    "df = pd.read_json('/fastcampus-data/users/users.json', lines=True)\n",
    "\n",
    "# 한글 컬럼명 변경\n",
    "df.columns = ['realname_sha_id', 'customer_id', 'age_group', 'docter', 'buisnessman']"
   ]
  },
  {
   "cell_type": "code",
   "execution_count": 4,
   "id": "9853e3ac",
   "metadata": {
    "scrolled": false
   },
   "outputs": [
    {
     "data": {
      "text/html": [
       "<div>\n",
       "<style scoped>\n",
       "    .dataframe tbody tr th:only-of-type {\n",
       "        vertical-align: middle;\n",
       "    }\n",
       "\n",
       "    .dataframe tbody tr th {\n",
       "        vertical-align: top;\n",
       "    }\n",
       "\n",
       "    .dataframe thead th {\n",
       "        text-align: right;\n",
       "    }\n",
       "</style>\n",
       "<table border=\"1\" class=\"dataframe\">\n",
       "  <thead>\n",
       "    <tr style=\"text-align: right;\">\n",
       "      <th></th>\n",
       "      <th>realname_sha_id</th>\n",
       "      <th>customer_id</th>\n",
       "      <th>age_group</th>\n",
       "      <th>docter</th>\n",
       "      <th>buisnessman</th>\n",
       "    </tr>\n",
       "  </thead>\n",
       "  <tbody>\n",
       "    <tr>\n",
       "      <th>0</th>\n",
       "      <td>4ce68f6f3b61e0900936889d56369b826e42b83a432497...</td>\n",
       "      <td>5d60cefc4e77525ec5ca1426</td>\n",
       "      <td>30-39</td>\n",
       "      <td>1</td>\n",
       "      <td>1</td>\n",
       "    </tr>\n",
       "    <tr>\n",
       "      <th>1</th>\n",
       "      <td>99600209b7900c50c9d79c22f858b2a21d1181a230172e...</td>\n",
       "      <td>5d689c3019efa30eb2913d7c</td>\n",
       "      <td>30-39</td>\n",
       "      <td>1</td>\n",
       "      <td>1</td>\n",
       "    </tr>\n",
       "    <tr>\n",
       "      <th>2</th>\n",
       "      <td>f7689e65284f958a7566653eaa32615227e904bdd7a6b4...</td>\n",
       "      <td>5d6ca7cd19efa30eb2913e7e</td>\n",
       "      <td>20-29</td>\n",
       "      <td>1</td>\n",
       "      <td>1</td>\n",
       "    </tr>\n",
       "    <tr>\n",
       "      <th>3</th>\n",
       "      <td>b91127b7b25f4fe8ae843076298cd08f026977d63c5c89...</td>\n",
       "      <td>5d6f43e919efa30eb2913f97</td>\n",
       "      <td>40-49</td>\n",
       "      <td>1</td>\n",
       "      <td>1</td>\n",
       "    </tr>\n",
       "    <tr>\n",
       "      <th>4</th>\n",
       "      <td>d0af532d80ee4144f6e0120bf4c70025e0337102f64a34...</td>\n",
       "      <td>5d6f5fb319efa30eb2913fac</td>\n",
       "      <td>30-39</td>\n",
       "      <td>1</td>\n",
       "      <td>1</td>\n",
       "    </tr>\n",
       "  </tbody>\n",
       "</table>\n",
       "</div>"
      ],
      "text/plain": [
       "                                     realname_sha_id  \\\n",
       "0  4ce68f6f3b61e0900936889d56369b826e42b83a432497...   \n",
       "1  99600209b7900c50c9d79c22f858b2a21d1181a230172e...   \n",
       "2  f7689e65284f958a7566653eaa32615227e904bdd7a6b4...   \n",
       "3  b91127b7b25f4fe8ae843076298cd08f026977d63c5c89...   \n",
       "4  d0af532d80ee4144f6e0120bf4c70025e0337102f64a34...   \n",
       "\n",
       "                customer_id age_group  docter  buisnessman  \n",
       "0  5d60cefc4e77525ec5ca1426     30-39       1            1  \n",
       "1  5d689c3019efa30eb2913d7c     30-39       1            1  \n",
       "2  5d6ca7cd19efa30eb2913e7e     20-29       1            1  \n",
       "3  5d6f43e919efa30eb2913f97     40-49       1            1  \n",
       "4  5d6f5fb319efa30eb2913fac     30-39       1            1  "
      ]
     },
     "execution_count": 4,
     "metadata": {},
     "output_type": "execute_result"
    }
   ],
   "source": [
    "df.head()"
   ]
  },
  {
   "cell_type": "code",
   "execution_count": 44,
   "id": "fa476467",
   "metadata": {},
   "outputs": [
    {
     "data": {
      "text/plain": [
       "20-29    5063\n",
       "30-39    4843\n",
       "40-49    2423\n",
       "50-59    1025\n",
       "60-       159\n",
       "10-19       3\n",
       "0-9         2\n",
       "Name: age_group, dtype: int64"
      ]
     },
     "execution_count": 44,
     "metadata": {},
     "output_type": "execute_result"
    }
   ],
   "source": [
    "df.age_group.value_counts()"
   ]
  },
  {
   "cell_type": "code",
   "execution_count": 21,
   "id": "8c442891",
   "metadata": {},
   "outputs": [
    {
     "data": {
      "text/plain": [
       "1    15308\n",
       "0     5204\n",
       "Name: docter, dtype: int64"
      ]
     },
     "execution_count": 21,
     "metadata": {},
     "output_type": "execute_result"
    }
   ],
   "source": [
    "df.docter.value_counts()"
   ]
  },
  {
   "cell_type": "code",
   "execution_count": 22,
   "id": "691f549a",
   "metadata": {},
   "outputs": [
    {
     "data": {
      "text/plain": [
       "0    14267\n",
       "1     6245\n",
       "Name: buisnessman, dtype: int64"
      ]
     },
     "execution_count": 22,
     "metadata": {},
     "output_type": "execute_result"
    }
   ],
   "source": [
    "df.buisnessman.value_counts()"
   ]
  },
  {
   "cell_type": "markdown",
   "id": "ff2eb638",
   "metadata": {},
   "source": [
    "총 20512 개 \\\n",
    "realname_sha_id.unique 수 : 18814명 \\\n",
    "ex) 의사되기전 의사된 후\n",
    "\n",
    "|    column     | 설명      |결측치 |전처리 |   type |  \n",
    "|:--------------|:---------|----:|----:|----:|\n",
    "|realname_sha_id|  실명     |   0  |    x  |    str |\n",
    "|customer_id    |   아이디   |    6 |    x  | str    |\n",
    "|age_group      |   연령대   |   6994  |  x    |  str(median은 int)  |\n",
    "|docter         | 의사 여부  |    0 |    x  |   int(0,1)  |\n",
    "|buisnessman    |사업자 여부  |    0 |    x  |   int(0,1)  |"
   ]
  },
  {
   "cell_type": "code",
   "execution_count": null,
   "id": "800187c3",
   "metadata": {},
   "outputs": [],
   "source": []
  }
 ],
 "metadata": {
  "kernelspec": {
   "display_name": "Python 3",
   "language": "python",
   "name": "python3"
  },
  "language_info": {
   "codemirror_mode": {
    "name": "ipython",
    "version": 3
   },
   "file_extension": ".py",
   "mimetype": "text/x-python",
   "name": "python",
   "nbconvert_exporter": "python",
   "pygments_lexer": "ipython3",
   "version": "3.8.8"
  }
 },
 "nbformat": 4,
 "nbformat_minor": 5
}
