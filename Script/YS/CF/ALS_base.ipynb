{
 "cells": [
  {
   "cell_type": "markdown",
   "id": "144c71b0",
   "metadata": {},
   "source": [
    "https://assaeunji.github.io/machine%20learning/2020-11-29-implicitfeedback/"
   ]
  },
  {
   "cell_type": "code",
   "execution_count": 1,
   "id": "053cf1d2",
   "metadata": {},
   "outputs": [],
   "source": [
    "import pandas as pd\n",
    "import numpy as np\n",
    "import matplotlib.pyplot as plt\n",
    "import seaborn as sns\n",
    "from tqdm import tqdm\n",
    "pd.set_option('display.max_rows', 100)\n",
    "pd.set_option('display.max_columns', 100)\n",
    "import scipy.sparse as sparse\n",
    "import random\n",
    "import implicit\n",
    "from implicit.als import AlternatingLeastSquares as ALS"
   ]
  },
  {
   "cell_type": "code",
   "execution_count": 2,
   "id": "b8098e25",
   "metadata": {},
   "outputs": [],
   "source": [
    "########### 원본\n",
    "# drop columns 전처리\n",
    "def drop_columns(delete_columns:list,df:pd.DataFrame) -> pd.DataFrame:\n",
    "    # 회의 때 얘기한 컬럼 전처리\n",
    "    # None or 필요 없는 컬럼\n",
    "    df = df.drop(columns=delete_columns)\n",
    "    return df\n",
    "\n",
    "def dict_to_column(columns:list,df:pd.DataFrame) -> pd.DataFrame:\n",
    "    for col in columns:\n",
    "        key_set = dict_to_set(col,df)\n",
    "        df = set_to_column(col,key_set,df)\n",
    "    return df\n",
    "\n",
    "def dict_to_set(column:str,df:pd.DataFrame) -> set:\n",
    "    key_set = set()\n",
    "    for i in tqdm(df[column]):\n",
    "        \n",
    "        # column 내용이 dict일 경우\n",
    "        if isinstance(i, dict):\n",
    "            key_set |= set(i.keys())\n",
    "        \n",
    "        # column 내용이 None type 일 경우\n",
    "        elif i == None:\n",
    "            continue\n",
    "        \n",
    "        # column 내용이 [dict]로 감싸져있는 경우\n",
    "        elif isinstance(i, list)&len(i)>0:\n",
    "            if isinstance(i[0], str):\n",
    "                continue\n",
    "            key_set |= set(i[0].keys())\n",
    "        \n",
    "    return key_set\n",
    "\n",
    "def set_to_column(column:str,key_set:set,df:pd.DataFrame) -> pd.DataFrame:\n",
    "    for key in key_set:\n",
    "        \n",
    "        #중복인 경우 컬럼_중복컬럼으로 추가\n",
    "        if key in df.columns:\n",
    "            df[column+'_'+key] = df[column].apply(lambda x: x.get(key, None) if isinstance(x, dict) else None if x==None\n",
    "                                       else ( None \\\n",
    "                                       if len(x)==0 else ( x[0].get(key, None) \\\n",
    "                                       if isinstance(x[0],dict)  else \\\n",
    "                                           None)) \\\n",
    "                                      )\n",
    "        #중복이 아닌 경우\n",
    "        else:\n",
    "            df[key] = df[column].apply(lambda x: x.get(key, None) if isinstance(x, dict) else None if x==None\n",
    "                                       else ( None \\\n",
    "                                       if len(x)==0 else ( x[0].get(key, None) \\\n",
    "                                       if isinstance(x[0],dict)  else \\\n",
    "                                           None)) \\\n",
    "                                       \n",
    "                                      )\n",
    "\n",
    "    df = df.drop(columns=[column])\n",
    "    return df\n",
    "\n",
    "# 컬럼안 key 값이 한 개일 경우 딕셔너리만 풉니다!\n",
    "def key_to_element(element_columns:list,df:pd.DataFrame)->pd.DataFrame:\n",
    "    for col in element_columns:\n",
    "        key_set = dict_to_set(col, df)\n",
    "        assert len(key_set)==1, f'{col}: key가 2개 이상이므로 dict_to_column 함수 이용하세요'\n",
    "        for key in key_set:\n",
    "            df[col] = df[col].apply(lambda x: x.get(key,None) if isinstance(x,dict) else None)\n",
    "    return df"
   ]
  },
  {
   "cell_type": "code",
   "execution_count": 3,
   "id": "8a7082f8",
   "metadata": {},
   "outputs": [],
   "source": [
    "df = pd.read_csv('no_test_df.csv').iloc[:,1:]"
   ]
  },
  {
   "cell_type": "code",
   "execution_count": 4,
   "id": "86713582",
   "metadata": {},
   "outputs": [],
   "source": [
    "df_book = df[df['name'] == '도서']"
   ]
  },
  {
   "cell_type": "markdown",
   "id": "a19564e8",
   "metadata": {},
   "source": [
    "## 도서 필터링"
   ]
  },
  {
   "cell_type": "code",
   "execution_count": 5,
   "id": "1357839e",
   "metadata": {},
   "outputs": [],
   "source": [
    "# 고객과 아이템 얼마나 구매했는가\n",
    "grouped_purchased = df_book.groupby(['customer_id','product_ids']).sum().reset_index()"
   ]
  },
  {
   "cell_type": "code",
   "execution_count": 6,
   "id": "21463559",
   "metadata": {},
   "outputs": [
    {
     "name": "stdout",
     "output_type": "stream",
     "text": [
      "2663\n",
      "223\n"
     ]
    },
    {
     "data": {
      "text/plain": [
       "<2663x223 sparse matrix of type '<class 'numpy.int64'>'\n",
       "\twith 4512 stored elements in Compressed Sparse Row format>"
      ]
     },
     "execution_count": 6,
     "metadata": {},
     "output_type": "execute_result"
    }
   ],
   "source": [
    "customers = list(np.sort(grouped_purchased['customer_id'].unique()))\n",
    "products = list (grouped_purchased['product_ids'].unique())\n",
    "quantity = list(grouped_purchased['paid'])\n",
    "\n",
    "rows = grouped_purchased['customer_id'].astype('category').cat.codes\n",
    "cols = grouped_purchased['product_ids'].astype('category').cat.codes\n",
    "print(len(customers)) # 2663\n",
    "print(len(products))  # 223\n",
    "purchase_sparse = sparse.csr_matrix((quantity, (rows, cols)), shape = (len(customers),len(products)))\n",
    "purchase_sparse #2663 * 223 행렬"
   ]
  },
  {
   "cell_type": "code",
   "execution_count": 7,
   "id": "47f55717",
   "metadata": {},
   "outputs": [
    {
     "data": {
      "text/plain": [
       "99.2402108953623"
      ]
     },
     "execution_count": 7,
     "metadata": {},
     "output_type": "execute_result"
    }
   ],
   "source": [
    "# Sparsity: 얼마나 비어있나?\n",
    "matrix_size = purchase_sparse.shape[0]* purchase_sparse.shape[1]\n",
    "num_purchases = len(purchase_sparse.nonzero()[0])\n",
    "sparsity = 100 * (1 - (num_purchases / matrix_size))\n",
    "sparsity"
   ]
  },
  {
   "cell_type": "code",
   "execution_count": 8,
   "id": "71f6003c",
   "metadata": {},
   "outputs": [
    {
     "data": {
      "application/vnd.jupyter.widget-view+json": {
       "model_id": "1f193764490e4761aa27c2c73be395d6",
       "version_major": 2,
       "version_minor": 0
      },
      "text/plain": [
       "  0%|          | 0/100 [00:00<?, ?it/s]"
      ]
     },
     "metadata": {},
     "output_type": "display_data"
    }
   ],
   "source": [
    "als_model = ALS(factors=20, regularization=0.01, iterations = 100)\n",
    "als_model.fit(purchase_sparse)"
   ]
  },
  {
   "cell_type": "code",
   "execution_count": 9,
   "id": "aae784ad",
   "metadata": {},
   "outputs": [],
   "source": [
    "result = als_model.recommend(2, purchase_sparse[2], N=10)"
   ]
  },
  {
   "cell_type": "code",
   "execution_count": 10,
   "id": "c0eee3f4",
   "metadata": {},
   "outputs": [
    {
     "data": {
      "text/plain": [
       "(array([195, 206, 193, 201, 128, 188,  59, 172, 170, 134], dtype=int32),\n",
       " array([0.05436036, 0.04319233, 0.03490718, 0.0286657 , 0.02736679,\n",
       "        0.02705139, 0.01702726, 0.01642221, 0.01533489, 0.01462266],\n",
       "       dtype=float32))"
      ]
     },
     "execution_count": 10,
     "metadata": {},
     "output_type": "execute_result"
    }
   ],
   "source": [
    "result"
   ]
  },
  {
   "cell_type": "code",
   "execution_count": 11,
   "id": "5292dd9b",
   "metadata": {},
   "outputs": [],
   "source": [
    "products_json = pd.read_json(\"/fastcampus-data/products/products.json\")\n",
    "products_df = pd.DataFrame(products_json)"
   ]
  },
  {
   "cell_type": "code",
   "execution_count": 12,
   "id": "93d2bdea",
   "metadata": {},
   "outputs": [
    {
     "name": "stderr",
     "output_type": "stream",
     "text": [
      "100%|██████████| 5141/5141 [00:00<00:00, 778922.69it/s]\n"
     ]
    }
   ],
   "source": [
    "products_df = key_to_element(['_id'],products_df)"
   ]
  },
  {
   "cell_type": "code",
   "execution_count": 13,
   "id": "48b65dc5",
   "metadata": {},
   "outputs": [],
   "source": [
    "def recommended_product(products, result):\n",
    "    products_id = products[result[0][0]]\n",
    "    return products_df[products_df['_id'] == products_id].loc[:,'meta_title']"
   ]
  },
  {
   "cell_type": "code",
   "execution_count": 14,
   "id": "6e8271a6",
   "metadata": {},
   "outputs": [
    {
     "data": {
      "text/plain": [
       "236    정골의학 핵심정리\n",
       "Name: meta_title, dtype: object"
      ]
     },
     "execution_count": 14,
     "metadata": {},
     "output_type": "execute_result"
    }
   ],
   "source": [
    "recommended_product(products,result)"
   ]
  },
  {
   "cell_type": "code",
   "execution_count": null,
   "id": "d3910baf",
   "metadata": {},
   "outputs": [],
   "source": []
  }
 ],
 "metadata": {
  "kernelspec": {
   "display_name": "Python 3",
   "language": "python",
   "name": "python3"
  },
  "language_info": {
   "codemirror_mode": {
    "name": "ipython",
    "version": 3
   },
   "file_extension": ".py",
   "mimetype": "text/x-python",
   "name": "python",
   "nbconvert_exporter": "python",
   "pygments_lexer": "ipython3",
   "version": "3.8.8"
  }
 },
 "nbformat": 4,
 "nbformat_minor": 5
}
