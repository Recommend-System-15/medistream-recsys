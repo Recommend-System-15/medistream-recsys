{
 "cells": [
  {
   "cell_type": "code",
   "execution_count": 2,
   "id": "41cfb2dd",
   "metadata": {},
   "outputs": [
    {
     "name": "stdout",
     "output_type": "stream",
     "text": [
      "/home/user_3/medistream-recsys/Script\n"
     ]
    }
   ],
   "source": [
    "import pandas as pd\n",
    "import numpy as np\n",
    "import matplotlib.pyplot as plt\n",
    "import seaborn as sns\n",
    "from tqdm import tqdm\n",
    "\n",
    "import scipy.sparse as sparse\n",
    "import random\n",
    "import implicit\n",
    "from implicit.als import AlternatingLeastSquares as ALS\n",
    "\n",
    "%cd /home/user_3/medistream-recsys/Script\n",
    "from preprocessing import drop_columns,dict_to_column,dict_to_set,set_to_column,key_to_element\n",
    "\n",
    "pd.set_option('display.max_rows', 300)\n",
    "pd.set_option('display.max_columns', 100)"
   ]
  },
  {
   "cell_type": "markdown",
   "id": "d2900ee5",
   "metadata": {},
   "source": [
    "# 1. LoadData"
   ]
  },
  {
   "cell_type": "code",
   "execution_count": 3,
   "id": "0a28adc2",
   "metadata": {},
   "outputs": [
    {
     "name": "stderr",
     "output_type": "stream",
     "text": [
      "100%|██████████| 5141/5141 [00:00<00:00, 789041.16it/s]\n"
     ]
    }
   ],
   "source": [
    "# products name 확인 용\n",
    "products_df = pd.read_json(\"/fastcampus-data/products/products.json\")\n",
    "products_df = key_to_element(['_id'],products_df)\n",
    "df = pd.read_json('/fastcampus-data/select_column_version_3.json')"
   ]
  },
  {
   "cell_type": "code",
   "execution_count": 4,
   "id": "3019c696",
   "metadata": {},
   "outputs": [],
   "source": [
    "date_state = \"2022-05-12\"\n",
    "\n",
    "# paid orders만 가져오기\n",
    "df['date_paid'] = pd.to_datetime(df['date_paid'])\n",
    "df_only_paid = df[~df['date_paid'].isna()]\n",
    "# 3개월치 데이터만 가져오기\n",
    "df_date = df_only_paid[df_only_paid['date_paid'] > date_state]\n",
    "# 취소 안된 것만 가져오기\n",
    "complete_df = df_date[(df_date['paid'] == True) & (df_date['cancelled']==False)]\n",
    "# 도서 카테고리만 가져오기\n",
    "only_book = complete_df[complete_df['name'] == '도서']\n",
    "\n",
    "# 유저가 중복으로 아이템 구매 삭제\n",
    "df_duplicated_book = only_book.drop_duplicates(subset=['customer_id','product_ids'])\n",
    "df_book = df_duplicated_book.sort_values(by='date_paid').reset_index(drop=True)\n",
    "\n",
    "# 전체\n",
    "# df_book = complete_df[complete_df['name'].isin(['도서','소모품'])].sort_values(by='date_paid')"
   ]
  },
  {
   "cell_type": "markdown",
   "id": "b6c376f8",
   "metadata": {},
   "source": [
    "# 2. Train_Test_split"
   ]
  },
  {
   "cell_type": "code",
   "execution_count": 5,
   "id": "dfcee49e",
   "metadata": {},
   "outputs": [],
   "source": [
    "from datetime import datetime, timedelta\n",
    "\n",
    "date = df_book['date_paid'].max()-timedelta(weeks=3)\n",
    "train_before_preprocess = df_book[df_book['date_paid'] < date]\n",
    "test_before_preprocess = df_book[df_book['date_paid'] >= date]\n",
    "# train 3개 이상 구매 기록유저에 대한 학습 진행\n",
    "# train_drop_row_index = train_before_preprocess['customer_id'].value_counts()[train_before_preprocess['customer_id'].value_counts()>2].index\n",
    "# train = train_before_preprocess[train_before_preprocess['customer_id'].isin(train_drop_row_index)]"
   ]
  },
  {
   "cell_type": "code",
   "execution_count": 6,
   "id": "d0f0a2ae",
   "metadata": {},
   "outputs": [
    {
     "data": {
      "text/plain": [
       "(252, 252)"
      ]
     },
     "execution_count": 6,
     "metadata": {},
     "output_type": "execute_result"
    }
   ],
   "source": [
    "# 아이템 중복확인\n",
    "# product_ids, name_x 수는 일치\n",
    "len(df_book.product_ids.unique()), len(df_book.name_x.unique())"
   ]
  },
  {
   "cell_type": "code",
   "execution_count": 7,
   "id": "857081b5",
   "metadata": {},
   "outputs": [
    {
     "data": {
      "text/plain": [
       "(243, 130)"
      ]
     },
     "execution_count": 7,
     "metadata": {},
     "output_type": "execute_result"
    }
   ],
   "source": [
    "len(train_before_preprocess.product_ids.unique()),len(test_before_preprocess.product_ids.unique())"
   ]
  },
  {
   "cell_type": "code",
   "execution_count": 8,
   "id": "7682c686",
   "metadata": {},
   "outputs": [
    {
     "data": {
      "text/plain": [
       "9"
      ]
     },
     "execution_count": 8,
     "metadata": {},
     "output_type": "execute_result"
    }
   ],
   "source": [
    "# test 아이템에 train 없는 아이템 확인\n",
    "len(set(test_before_preprocess.product_ids.unique())-set(train_before_preprocess.product_ids.unique()))"
   ]
  },
  {
   "cell_type": "code",
   "execution_count": 9,
   "id": "cbb3aa80",
   "metadata": {},
   "outputs": [],
   "source": [
    "# test 만 있는 item 제거\n",
    "only_test_items = set(test_before_preprocess.product_ids.unique())-set(train_before_preprocess.product_ids.unique())\n",
    "test = test_before_preprocess[~test_before_preprocess['product_ids'].isin(only_test_items)]\n",
    "train = train_before_preprocess"
   ]
  },
  {
   "cell_type": "code",
   "execution_count": 10,
   "id": "8d25b656",
   "metadata": {},
   "outputs": [
    {
     "data": {
      "text/plain": [
       "(491, 2323)"
      ]
     },
     "execution_count": 10,
     "metadata": {},
     "output_type": "execute_result"
    }
   ],
   "source": [
    "len(test.customer_id.unique()), len(train_before_preprocess.customer_id.unique())"
   ]
  },
  {
   "cell_type": "code",
   "execution_count": 11,
   "id": "f0b56cdd",
   "metadata": {},
   "outputs": [],
   "source": [
    "##################################################################################################################"
   ]
  },
  {
   "cell_type": "markdown",
   "id": "9092a6d8",
   "metadata": {},
   "source": [
    "# 3. 도서 Sparse matrix 만들기"
   ]
  },
  {
   "cell_type": "code",
   "execution_count": 12,
   "id": "632ddd45",
   "metadata": {},
   "outputs": [],
   "source": [
    "# # 고객과 아이템 얼마나 구매했는가\n",
    "# grouped_purchased = train.groupby(['customer_id','product_ids']).sum().reset_index()\n",
    "# customers = list(np.sort(grouped_purchased['customer_id'].unique()))\n",
    "# products = list (grouped_purchased['product_ids'].unique())\n",
    "# quantity = list(grouped_purchased['paid'])\n",
    "\n",
    "# rows = grouped_purchased['customer_id'].astype('category').cat.codes\n",
    "# cols = grouped_purchased['product_ids'].astype('category').cat.codes\n",
    "# print(len(customers)) \n",
    "# print(len(products)) \n",
    "\n",
    "# # most popular matrix\n",
    "# most_popular_sparse = sparse.csr_matrix((quantity, (rows, cols)), shape = (len(customers),len(products)))\n",
    "# # ALS matrix\n",
    "# purchase_sparse = sparse.csr_matrix(([1 for _ in range(len(quantity))], (rows, cols)), shape = (len(customers),len(products)))\n",
    "# purchase_sparse"
   ]
  },
  {
   "cell_type": "code",
   "execution_count": 13,
   "id": "0acfa139",
   "metadata": {},
   "outputs": [
    {
     "data": {
      "text/plain": [
       "matrix([[1, 0, 0, ..., 0, 0, 0],\n",
       "        [0, 1, 0, ..., 0, 0, 0],\n",
       "        [0, 1, 0, ..., 0, 0, 0],\n",
       "        ...,\n",
       "        [0, 0, 0, ..., 0, 1, 0],\n",
       "        [0, 0, 0, ..., 0, 1, 0],\n",
       "        [0, 0, 0, ..., 0, 1, 0]])"
      ]
     },
     "execution_count": 13,
     "metadata": {},
     "output_type": "execute_result"
    }
   ],
   "source": [
    "PdIds = train.product_ids.unique()\n",
    "\n",
    "PdIdToIndex = {}\n",
    "indexToPdId = {}\n",
    "\n",
    "colIdx = 0\n",
    "\n",
    "for PdId in PdIds:\n",
    "    PdIdToIndex[PdId] = colIdx\n",
    "    indexToPdId[colIdx] = PdId\n",
    "    colIdx += 1\n",
    "    \n",
    "userIds = train.customer_id.unique()\n",
    "\n",
    "userIdToIndex = {}\n",
    "indexToUserId = {}\n",
    "\n",
    "rowIdx = 0\n",
    "\n",
    "for userId in userIds:\n",
    "    userIdToIndex[userId] = rowIdx\n",
    "    indexToUserId[rowIdx] = userId\n",
    "    rowIdx += 1\n",
    "\n",
    "import scipy.sparse as sp\n",
    "\n",
    "rows = []\n",
    "cols = []\n",
    "vals = []\n",
    "\n",
    "for row in train.itertuples():\n",
    "    rows.append(userIdToIndex[row.customer_id])\n",
    "    cols.append(PdIdToIndex[row.product_ids])\n",
    "    vals.append(1)\n",
    "\n",
    "purchase_sparse = sp.csr_matrix((vals, (rows, cols)), shape=(rowIdx,colIdx))\n",
    "\n",
    "matrix = purchase_sparse.todense()\n",
    "matrix"
   ]
  },
  {
   "cell_type": "code",
   "execution_count": 14,
   "id": "0fbe56f0",
   "metadata": {},
   "outputs": [
    {
     "data": {
      "text/plain": [
       "99.10999151444935"
      ]
     },
     "execution_count": 14,
     "metadata": {},
     "output_type": "execute_result"
    }
   ],
   "source": [
    "# Sparsity: 얼마나 비어있나?\n",
    "matrix_size = purchase_sparse.shape[0]* purchase_sparse.shape[1]\n",
    "num_purchases = len(purchase_sparse.nonzero()[0])\n",
    "sparsity = 100 * (1 - (num_purchases / matrix_size))\n",
    "sparsity"
   ]
  },
  {
   "cell_type": "markdown",
   "id": "6dd62a79",
   "metadata": {},
   "source": [
    "# 4. Test에 Random 추천"
   ]
  },
  {
   "cell_type": "code",
   "execution_count": 15,
   "id": "d097e1b7",
   "metadata": {},
   "outputs": [],
   "source": [
    "np.random.seed(42)"
   ]
  },
  {
   "cell_type": "code",
   "execution_count": 16,
   "id": "0cf3aca4",
   "metadata": {},
   "outputs": [],
   "source": [
    "item_ids = df_book['product_ids'].unique()\n",
    "user_ids = test['customer_id'].unique()"
   ]
  },
  {
   "cell_type": "code",
   "execution_count": 17,
   "id": "1136ed32",
   "metadata": {},
   "outputs": [],
   "source": [
    "# test 실제 값\n",
    "ground_trues = []\n",
    "for user_id in user_ids:\n",
    "    ground_trues.append({'id': user_id,\\\n",
    "    'items':list(test[test['customer_id']==user_id].product_ids)\n",
    "    })"
   ]
  },
  {
   "cell_type": "code",
   "execution_count": 19,
   "id": "5c0e9405",
   "metadata": {},
   "outputs": [
    {
     "name": "stdout",
     "output_type": "stream",
     "text": [
      "nDCG: 0.0882093\n"
     ]
    }
   ],
   "source": [
    "## # test 예측값| 랜덤 추천( 100개 추천)\n",
    "predict_list = []\n",
    "products = train['product_ids'].unique()\n",
    "np.random.seed(42)\n",
    "for user_id in test['customer_id'].unique():\n",
    "    random_products_num = np.random.randint(len(products),size=len(products))\n",
    "    random_products = [indexToPdId[num] for num in random_products_num]\n",
    "    train_purchase_list = list(train[train['customer_id']==user_id].product_ids)\n",
    "    predict_list.append({'id':user_id ,'items':[product for product in random_products \\\n",
    "                                               if product not in train_purchase_list]})\n",
    "for idx, pred_list in enumerate(predict_list):\n",
    "    predict_list[idx]['items'] = pred_list['items'][:100]\n",
    "# ALS \n",
    "evaluator = CustomEvaluator()\n",
    "evaluator.evaluate(ground_trues, predict_list)"
   ]
  },
  {
   "cell_type": "code",
   "execution_count": 30,
   "id": "d35a893b",
   "metadata": {},
   "outputs": [
    {
     "data": {
      "text/plain": [
       "100"
      ]
     },
     "execution_count": 30,
     "metadata": {},
     "output_type": "execute_result"
    }
   ],
   "source": [
    "len(predict_list[0]['items'])"
   ]
  },
  {
   "cell_type": "markdown",
   "id": "9935775a",
   "metadata": {},
   "source": [
    "# 5. 평가"
   ]
  },
  {
   "cell_type": "markdown",
   "id": "795f60b0",
   "metadata": {},
   "source": [
    "## 평가지표"
   ]
  },
  {
   "cell_type": "code",
   "execution_count": 18,
   "id": "1d8bdf5c",
   "metadata": {},
   "outputs": [],
   "source": [
    "class CustomEvaluator:\n",
    "    # relavence 모두 1로 동일하게 봄\n",
    "    def _idcg(self, l):\n",
    "        return sum((1.0 / np.log(i + 2) for i in range(l)))\n",
    "    \n",
    "\n",
    "    def __init__(self):\n",
    "        self._idcgs = [self._idcg(i) for i in range(1000)]\n",
    "    '''\n",
    "    idcgs 예시, item 3개 추천되므로 3.074281787960283 가 됩니다.\n",
    "    [0, 1.4426950408889634, 2.352934267515801, 3.074281787960283]\n",
    "    '''\n",
    "\n",
    "    def _ndcg(self, gt, rec):\n",
    "        dcg = 0.0\n",
    "        for i, r in enumerate(rec):\n",
    "            if r in gt:\n",
    "                dcg += 1.0 / np.log(i + 2)\n",
    "\n",
    "        return dcg / self._idcgs[len(gt)]\n",
    "\n",
    "    def _eval(self, gt_list, rec_list):\n",
    "        gt_dict = {g[\"id\"]: g for g in gt_list}\n",
    "        ndcg_score = 0.0\n",
    "\n",
    "        for rec in rec_list:\n",
    "            gt = gt_dict[rec[\"id\"]]\n",
    "            ndcg_score += self._ndcg(gt[\"items\"], rec[\"items\"])\n",
    "\n",
    "\n",
    "        ndcg_score = ndcg_score / len(rec_list)\n",
    "\n",
    "\n",
    "        return ndcg_score\n",
    "\n",
    "    def evaluate(self, gt_list, rec_list):\n",
    "        try:\n",
    "            ndcg_score = self._eval(gt_list, rec_list)\n",
    "            print(f\"nDCG: {ndcg_score:.6}\")\n",
    "        except Exception as e:\n",
    "            print(e)\n"
   ]
  },
  {
   "cell_type": "code",
   "execution_count": 32,
   "id": "93c01d47",
   "metadata": {},
   "outputs": [
    {
     "name": "stdout",
     "output_type": "stream",
     "text": [
      "nDCG: 0.0870465\n"
     ]
    }
   ],
   "source": [
    "# ALS \n",
    "evaluator = CustomEvaluator()\n",
    "evaluator.evaluate(ground_trues, predict_list)"
   ]
  },
  {
   "cell_type": "code",
   "execution_count": null,
   "id": "f6278ca0",
   "metadata": {},
   "outputs": [],
   "source": []
  },
  {
   "cell_type": "code",
   "execution_count": 33,
   "id": "4a77e651",
   "metadata": {},
   "outputs": [
    {
     "data": {
      "text/plain": [
       "(491, 491)"
      ]
     },
     "execution_count": 33,
     "metadata": {},
     "output_type": "execute_result"
    }
   ],
   "source": [
    "len(predict_list),len(ground_trues)"
   ]
  },
  {
   "cell_type": "code",
   "execution_count": 34,
   "id": "ca19bb7d",
   "metadata": {},
   "outputs": [
    {
     "data": {
      "text/plain": [
       "(245, 49100)"
      ]
     },
     "execution_count": 34,
     "metadata": {},
     "output_type": "execute_result"
    }
   ],
   "source": [
    "# 아이템 맞춘 개수\n",
    "cnt = 0\n",
    "total = 0\n",
    "for gt, pred_list in zip(ground_trues, predict_list):\n",
    "    for pred in pred_list['items']:\n",
    "        total += 1\n",
    "        if pred in gt['items']:\n",
    "            cnt += 1\n",
    "cnt,total"
   ]
  },
  {
   "cell_type": "code",
   "execution_count": null,
   "id": "593c1379",
   "metadata": {},
   "outputs": [],
   "source": []
  },
  {
   "cell_type": "code",
   "execution_count": null,
   "id": "324a45fd",
   "metadata": {},
   "outputs": [],
   "source": []
  }
 ],
 "metadata": {
  "kernelspec": {
   "display_name": "Python 3",
   "language": "python",
   "name": "python3"
  },
  "language_info": {
   "codemirror_mode": {
    "name": "ipython",
    "version": 3
   },
   "file_extension": ".py",
   "mimetype": "text/x-python",
   "name": "python",
   "nbconvert_exporter": "python",
   "pygments_lexer": "ipython3",
   "version": "3.8.8"
  }
 },
 "nbformat": 4,
 "nbformat_minor": 5
}
