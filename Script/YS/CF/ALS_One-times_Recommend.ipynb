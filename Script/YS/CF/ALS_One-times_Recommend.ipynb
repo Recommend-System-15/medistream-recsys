{
 "cells": [
  {
   "cell_type": "code",
   "execution_count": 1,
   "id": "41cfb2dd",
   "metadata": {},
   "outputs": [
    {
     "name": "stdout",
     "output_type": "stream",
     "text": [
      "/home/user_3/medistream-recsys/Script\n"
     ]
    }
   ],
   "source": [
    "import pandas as pd\n",
    "import numpy as np\n",
    "import matplotlib.pyplot as plt\n",
    "import seaborn as sns\n",
    "from tqdm import tqdm\n",
    "\n",
    "import scipy.sparse as sparse\n",
    "import random\n",
    "import implicit\n",
    "from implicit.als import AlternatingLeastSquares as ALS\n",
    "\n",
    "%cd /home/user_3/medistream-recsys/Script\n",
    "from preprocessing import drop_columns,dict_to_column,dict_to_set,set_to_column,key_to_element\n",
    "\n",
    "pd.set_option('display.max_rows', 300)\n",
    "pd.set_option('display.max_columns', 100)"
   ]
  },
  {
   "cell_type": "markdown",
   "id": "d2900ee5",
   "metadata": {},
   "source": [
    "# 1. LoadData"
   ]
  },
  {
   "cell_type": "code",
   "execution_count": 2,
   "id": "0a28adc2",
   "metadata": {},
   "outputs": [
    {
     "name": "stderr",
     "output_type": "stream",
     "text": [
      "100%|██████████| 5141/5141 [00:00<00:00, 760596.71it/s]\n"
     ]
    }
   ],
   "source": [
    "# products name 확인 용\n",
    "products_df = pd.read_json(\"/fastcampus-data/products/products.json\")\n",
    "products_df = key_to_element(['_id'],products_df)\n",
    "df = pd.read_json('/fastcampus-data/select_column_version_3.json')"
   ]
  },
  {
   "cell_type": "code",
   "execution_count": 3,
   "id": "3019c696",
   "metadata": {},
   "outputs": [],
   "source": [
    "date_state = \"2022-05-12\"\n",
    "\n",
    "# paid orders만 가져오기\n",
    "df['date_paid'] = pd.to_datetime(df['date_paid'])\n",
    "df_only_paid = df[~df['date_paid'].isna()]\n",
    "# 3개월치 데이터만 가져오기\n",
    "df_date = df_only_paid[df_only_paid['date_paid'] > date_state]\n",
    "# 취소 안된 것만 가져오기\n",
    "complete_df = df_date[(df_date['paid'] == True) & (df_date['cancelled']==False)]\n",
    "# 도서 카테고리만 가져오기\n",
    "only_book = complete_df[complete_df['name'] == '도서']\n",
    "\n",
    "# 유저가 중복으로 아이템 구매 삭제\n",
    "df_duplicated_book = only_book.drop_duplicates(subset=['customer_id','product_ids'])\n",
    "df_book = df_duplicated_book.sort_values(by='date_paid').reset_index(drop=True)\n",
    "\n",
    "# 전체\n",
    "# df_book = complete_df[complete_df['name'].isin(['도서','소모품'])].sort_values(by='date_paid')"
   ]
  },
  {
   "cell_type": "markdown",
   "id": "b6c376f8",
   "metadata": {},
   "source": [
    "# 2. Train_Test_split"
   ]
  },
  {
   "cell_type": "code",
   "execution_count": 13,
   "id": "dfcee49e",
   "metadata": {},
   "outputs": [],
   "source": [
    "from datetime import datetime, timedelta\n",
    "\n",
    "date = df_book['date_paid'].max()-timedelta(weeks=3)\n",
    "train_before_preprocess = df_book[df_book['date_paid'] < date]\n",
    "test_before_preprocess = df_book[df_book['date_paid'] >= date]\n",
    "## train 1개 이상 구매 기록유저에 대한 학습 진행 ###\n",
    "train_drop_row_index = train_before_preprocess['customer_id'].value_counts()[train_before_preprocess['customer_id'].value_counts()>1].index\n",
    "train = train_before_preprocess[train_before_preprocess['customer_id'].isin(train_drop_row_index)]"
   ]
  },
  {
   "cell_type": "code",
   "execution_count": 14,
   "id": "d0f0a2ae",
   "metadata": {},
   "outputs": [
    {
     "data": {
      "text/plain": [
       "(252, 252)"
      ]
     },
     "execution_count": 14,
     "metadata": {},
     "output_type": "execute_result"
    }
   ],
   "source": [
    "# 아이템 중복확인\n",
    "# product_ids, name_x 수는 일치\n",
    "len(df_book.product_ids.unique()), len(df_book.name_x.unique())"
   ]
  },
  {
   "cell_type": "code",
   "execution_count": 15,
   "id": "857081b5",
   "metadata": {},
   "outputs": [
    {
     "data": {
      "text/plain": [
       "(243, 130)"
      ]
     },
     "execution_count": 15,
     "metadata": {},
     "output_type": "execute_result"
    }
   ],
   "source": [
    "len(train_before_preprocess.product_ids.unique()),len(test_before_preprocess.product_ids.unique())"
   ]
  },
  {
   "cell_type": "code",
   "execution_count": 16,
   "id": "7682c686",
   "metadata": {},
   "outputs": [
    {
     "data": {
      "text/plain": [
       "9"
      ]
     },
     "execution_count": 16,
     "metadata": {},
     "output_type": "execute_result"
    }
   ],
   "source": [
    "# test 아이템에 train 없는 아이템 확인\n",
    "len(set(test_before_preprocess.product_ids.unique())-set(train_before_preprocess.product_ids.unique()))"
   ]
  },
  {
   "cell_type": "code",
   "execution_count": 17,
   "id": "cbb3aa80",
   "metadata": {},
   "outputs": [],
   "source": [
    "# test 만 있는 item 제거\n",
    "only_test_items = set(test_before_preprocess.product_ids.unique())-set(train_before_preprocess.product_ids.unique())\n",
    "test = test_before_preprocess[~test_before_preprocess['product_ids'].isin(only_test_items)]\n",
    "train = train_before_preprocess"
   ]
  },
  {
   "cell_type": "code",
   "execution_count": 18,
   "id": "8d25b656",
   "metadata": {},
   "outputs": [
    {
     "data": {
      "text/plain": [
       "(491, 2323)"
      ]
     },
     "execution_count": 18,
     "metadata": {},
     "output_type": "execute_result"
    }
   ],
   "source": [
    "len(test.customer_id.unique()), len(train_before_preprocess.customer_id.unique())"
   ]
  },
  {
   "cell_type": "code",
   "execution_count": 19,
   "id": "f0b56cdd",
   "metadata": {},
   "outputs": [],
   "source": [
    "##################################################################################################################"
   ]
  },
  {
   "cell_type": "markdown",
   "id": "9092a6d8",
   "metadata": {},
   "source": [
    "# 3. 도서 Sparse matrix 만들기"
   ]
  },
  {
   "cell_type": "code",
   "execution_count": 20,
   "id": "632ddd45",
   "metadata": {},
   "outputs": [
    {
     "name": "stdout",
     "output_type": "stream",
     "text": [
      "2323\n",
      "243\n"
     ]
    },
    {
     "data": {
      "text/plain": [
       "<2323x243 sparse matrix of type '<class 'numpy.int64'>'\n",
       "\twith 5024 stored elements in Compressed Sparse Row format>"
      ]
     },
     "execution_count": 20,
     "metadata": {},
     "output_type": "execute_result"
    }
   ],
   "source": [
    "# 고객과 아이템 얼마나 구매했는가\n",
    "grouped_purchased = train.groupby(['customer_id','product_ids']).sum().reset_index()\n",
    "customers = list(np.sort(grouped_purchased['customer_id'].unique()))\n",
    "products = list (grouped_purchased['product_ids'].unique())\n",
    "quantity = list(grouped_purchased['paid'])\n",
    "\n",
    "rows = grouped_purchased['customer_id'].astype('category').cat.codes\n",
    "cols = grouped_purchased['product_ids'].astype('category').cat.codes\n",
    "print(len(customers)) \n",
    "print(len(products)) \n",
    "\n",
    "# most popular matrix\n",
    "most_popular_sparse = sparse.csr_matrix((quantity, (rows, cols)), shape = (len(customers),len(products)))\n",
    "# ALS matrix\n",
    "purchase_sparse = sparse.csr_matrix(([1 for _ in range(len(quantity))], (rows, cols)), shape = (len(customers),len(products)))\n",
    "purchase_sparse"
   ]
  },
  {
   "cell_type": "code",
   "execution_count": 21,
   "id": "0fbe56f0",
   "metadata": {},
   "outputs": [
    {
     "data": {
      "text/plain": [
       "99.10999151444935"
      ]
     },
     "execution_count": 21,
     "metadata": {},
     "output_type": "execute_result"
    }
   ],
   "source": [
    "# Sparsity: 얼마나 비어있나?\n",
    "matrix_size = purchase_sparse.shape[0]* purchase_sparse.shape[1]\n",
    "num_purchases = len(purchase_sparse.nonzero()[0])\n",
    "sparsity = 100 * (1 - (num_purchases / matrix_size))\n",
    "sparsity"
   ]
  },
  {
   "cell_type": "markdown",
   "id": "6dd62a79",
   "metadata": {},
   "source": [
    "# 4. MP 추천"
   ]
  },
  {
   "cell_type": "code",
   "execution_count": 28,
   "id": "e7b94d0a",
   "metadata": {},
   "outputs": [],
   "source": [
    "most_popular_index = pd.DataFrame(most_popular_sparse.todense()).sum(axis=0).sort_values(ascending=False).head(100).index"
   ]
  },
  {
   "cell_type": "code",
   "execution_count": 30,
   "id": "0d39613f",
   "metadata": {},
   "outputs": [],
   "source": [
    "item_ids = df_book['product_ids'].unique()\n",
    "user_ids = test['customer_id'].unique()"
   ]
  },
  {
   "cell_type": "code",
   "execution_count": 31,
   "id": "1136ed32",
   "metadata": {},
   "outputs": [],
   "source": [
    "# test 실제 값\n",
    "ground_trues = []\n",
    "for user_id in user_ids:\n",
    "    ground_trues.append({'id': user_id,\\\n",
    "    'items':list(test[test['customer_id']==user_id].product_ids)\n",
    "    })"
   ]
  },
  {
   "cell_type": "code",
   "execution_count": 32,
   "id": "5c0e9405",
   "metadata": {},
   "outputs": [],
   "source": [
    "# test 예측값| 랜덤 추천( 100개 추천)\n",
    "predict_list = []\n",
    "for user_id in user_ids:\n",
    "    random_products = np.random.randint(len(products),size=100)\n",
    "#     result = als_model.recommend(customers.index(user_id), purchase_sparse[customers.index(user_id)], N=3)\n",
    "    predict_list.append({'id':user_id ,'items':[products[num] for num in most_popular_index]})"
   ]
  }
 ],
 "metadata": {
  "kernelspec": {
   "display_name": "Python 3",
   "language": "python",
   "name": "python3"
  },
  "language_info": {
   "codemirror_mode": {
    "name": "ipython",
    "version": 3
   },
   "file_extension": ".py",
   "mimetype": "text/x-python",
   "name": "python",
   "nbconvert_exporter": "python",
   "pygments_lexer": "ipython3",
   "version": "3.8.8"
  }
 },
 "nbformat": 4,
 "nbformat_minor": 5
}
