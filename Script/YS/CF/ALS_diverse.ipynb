{
 "cells": [
  {
   "cell_type": "code",
   "execution_count": 2,
   "id": "361e26a3",
   "metadata": {},
   "outputs": [],
   "source": [
    "import pandas as pd\n",
    "import numpy as np\n",
    "import matplotlib.pyplot as plt\n",
    "import seaborn as sns\n",
    "from tqdm import tqdm\n",
    "pd.set_option('display.max_rows', 100)\n",
    "pd.set_option('display.max_columns', 100)\n",
    "import scipy.sparse as sparse\n",
    "import random\n",
    "import implicit\n",
    "from implicit.als import AlternatingLeastSquares as ALS"
   ]
  },
  {
   "cell_type": "code",
   "execution_count": 3,
   "id": "08de4331",
   "metadata": {},
   "outputs": [],
   "source": [
    "########### 원본\n",
    "# drop columns 전처리\n",
    "def drop_columns(delete_columns:list,df:pd.DataFrame) -> pd.DataFrame:\n",
    "    # 회의 때 얘기한 컬럼 전처리\n",
    "    # None or 필요 없는 컬럼\n",
    "    df = df.drop(columns=delete_columns)\n",
    "    return df\n",
    "\n",
    "def dict_to_column(columns:list,df:pd.DataFrame) -> pd.DataFrame:\n",
    "    for col in columns:\n",
    "        key_set = dict_to_set(col,df)\n",
    "        df = set_to_column(col,key_set,df)\n",
    "    return df\n",
    "\n",
    "def dict_to_set(column:str,df:pd.DataFrame) -> set:\n",
    "    key_set = set()\n",
    "    for i in tqdm(df[column]):\n",
    "        \n",
    "        # column 내용이 dict일 경우\n",
    "        if isinstance(i, dict):\n",
    "            key_set |= set(i.keys())\n",
    "        \n",
    "        # column 내용이 None type 일 경우\n",
    "        elif i == None:\n",
    "            continue\n",
    "        \n",
    "        # column 내용이 [dict]로 감싸져있는 경우\n",
    "        elif isinstance(i, list)&len(i)>0:\n",
    "            if isinstance(i[0], str):\n",
    "                continue\n",
    "            key_set |= set(i[0].keys())\n",
    "        \n",
    "    return key_set\n",
    "\n",
    "def set_to_column(column:str,key_set:set,df:pd.DataFrame) -> pd.DataFrame:\n",
    "    for key in key_set:\n",
    "        \n",
    "        #중복인 경우 컬럼_중복컬럼으로 추가\n",
    "        if key in df.columns:\n",
    "            df[column+'_'+key] = df[column].apply(lambda x: x.get(key, None) if isinstance(x, dict) else None if x==None\n",
    "                                       else ( None \\\n",
    "                                       if len(x)==0 else ( x[0].get(key, None) \\\n",
    "                                       if isinstance(x[0],dict)  else \\\n",
    "                                           None)) \\\n",
    "                                      )\n",
    "        #중복이 아닌 경우\n",
    "        else:\n",
    "            df[key] = df[column].apply(lambda x: x.get(key, None) if isinstance(x, dict) else None if x==None\n",
    "                                       else ( None \\\n",
    "                                       if len(x)==0 else ( x[0].get(key, None) \\\n",
    "                                       if isinstance(x[0],dict)  else \\\n",
    "                                           None)) \\\n",
    "                                       \n",
    "                                      )\n",
    "\n",
    "    df = df.drop(columns=[column])\n",
    "    return df\n",
    "\n",
    "# 컬럼안 key 값이 한 개일 경우 딕셔너리만 풉니다!\n",
    "def key_to_element(element_columns:list,df:pd.DataFrame)->pd.DataFrame:\n",
    "    for col in element_columns:\n",
    "        key_set = dict_to_set(col, df)\n",
    "        assert len(key_set)==1, f'{col}: key가 2개 이상이므로 dict_to_column 함수 이용하세요'\n",
    "        for key in key_set:\n",
    "            df[col] = df[col].apply(lambda x: x.get(key,None) if isinstance(x,dict) else None)\n",
    "    return df"
   ]
  },
  {
   "cell_type": "code",
   "execution_count": 4,
   "id": "fb3467b8",
   "metadata": {
    "scrolled": true
   },
   "outputs": [],
   "source": [
    "df_json = pd.read_json('/fastcampus-data/select_column_version_3.json')"
   ]
  },
  {
   "cell_type": "code",
   "execution_count": 5,
   "id": "a44fba3c",
   "metadata": {},
   "outputs": [],
   "source": [
    "df = pd.DataFrame(df_json)"
   ]
  },
  {
   "cell_type": "code",
   "execution_count": 6,
   "id": "f466f8ab",
   "metadata": {},
   "outputs": [],
   "source": [
    "df2 = df.copy()"
   ]
  },
  {
   "cell_type": "markdown",
   "id": "3dc8eb15",
   "metadata": {},
   "source": [
    "# 전처리"
   ]
  },
  {
   "cell_type": "markdown",
   "id": "b13ad8ee",
   "metadata": {},
   "source": [
    "## 날짜"
   ]
  },
  {
   "cell_type": "code",
   "execution_count": 7,
   "id": "67edf4e1",
   "metadata": {},
   "outputs": [],
   "source": [
    "df2['date_paid'] = pd.to_datetime(df['date_paid'])\n",
    "df2 = df2[~df2['date_paid'].isna()]\n",
    "df2 = df2[df2['date_paid'] > \"2022-05-12\"]"
   ]
  },
  {
   "cell_type": "markdown",
   "id": "ae29c246",
   "metadata": {},
   "source": [
    "## paid == Ture and cancelled ==False"
   ]
  },
  {
   "cell_type": "code",
   "execution_count": 8,
   "id": "79a9a419",
   "metadata": {},
   "outputs": [],
   "source": [
    "df2 = df2[(df2['paid'] == True) & (df2['cancelled']==False)]\n",
    "df2.reset_index(drop=True,inplace=True)"
   ]
  },
  {
   "cell_type": "markdown",
   "id": "7bedd6fd",
   "metadata": {},
   "source": [
    "## 한의사, 사업자 여부"
   ]
  },
  {
   "cell_type": "code",
   "execution_count": 9,
   "id": "702ff91a",
   "metadata": {},
   "outputs": [],
   "source": [
    "# 응답이 없으니 일단 학생으로 넣는다.\n",
    "df2['한의사 여부'] = df2['한의사 여부'].fillna(0)\n",
    "df2['사업자 여부'] = df2['사업자 여부'].fillna(0)"
   ]
  },
  {
   "cell_type": "markdown",
   "id": "85a0a554",
   "metadata": {},
   "source": [
    "## age_group\n",
    "\n",
    "우선 null값을 etc로 넣는다. 나중에 사업자 여부 학생여부로 연령대를 나눌수도 있겠지만 일단은 미응답자로 넣는다."
   ]
  },
  {
   "cell_type": "code",
   "execution_count": 10,
   "id": "e96b60b8",
   "metadata": {},
   "outputs": [],
   "source": [
    "df2['age_group'] = df2['age_group'].fillna('etc')"
   ]
  },
  {
   "cell_type": "code",
   "execution_count": 11,
   "id": "b7c105f1",
   "metadata": {},
   "outputs": [
    {
     "data": {
      "text/plain": [
       "_id              0\n",
       "date_paid        0\n",
       "customer_id      0\n",
       "paid             0\n",
       "name_x           0\n",
       "category_id_y    0\n",
       "product_ids      0\n",
       "quantity         0\n",
       "price            0\n",
       "price_total      0\n",
       "age_group        0\n",
       "한의사 여부           0\n",
       "사업자 여부           0\n",
       "cancelled        0\n",
       "name             0\n",
       "slug             0\n",
       "dtype: int64"
      ]
     },
     "execution_count": 11,
     "metadata": {},
     "output_type": "execute_result"
    }
   ],
   "source": [
    "df2.isnull().sum()"
   ]
  },
  {
   "cell_type": "markdown",
   "id": "21f9bd1c",
   "metadata": {},
   "source": [
    "## 도서 필터링"
   ]
  },
  {
   "cell_type": "code",
   "execution_count": 12,
   "id": "2419ec60",
   "metadata": {},
   "outputs": [],
   "source": [
    "df3 = df2[df2['name'] == '도서']"
   ]
  },
  {
   "cell_type": "markdown",
   "id": "23cc7223",
   "metadata": {},
   "source": [
    "# EDA 유저별 segment\n",
    "학생, 페이한의사, 창업가, 병원장"
   ]
  },
  {
   "cell_type": "code",
   "execution_count": 13,
   "id": "e044457b",
   "metadata": {},
   "outputs": [
    {
     "data": {
      "text/html": [
       "<div>\n",
       "<style scoped>\n",
       "    .dataframe tbody tr th:only-of-type {\n",
       "        vertical-align: middle;\n",
       "    }\n",
       "\n",
       "    .dataframe tbody tr th {\n",
       "        vertical-align: top;\n",
       "    }\n",
       "\n",
       "    .dataframe thead th {\n",
       "        text-align: right;\n",
       "    }\n",
       "</style>\n",
       "<table border=\"1\" class=\"dataframe\">\n",
       "  <thead>\n",
       "    <tr style=\"text-align: right;\">\n",
       "      <th></th>\n",
       "      <th>_id</th>\n",
       "      <th>date_paid</th>\n",
       "      <th>customer_id</th>\n",
       "      <th>paid</th>\n",
       "      <th>name_x</th>\n",
       "      <th>category_id_y</th>\n",
       "      <th>product_ids</th>\n",
       "      <th>quantity</th>\n",
       "      <th>price</th>\n",
       "      <th>price_total</th>\n",
       "      <th>age_group</th>\n",
       "      <th>한의사 여부</th>\n",
       "      <th>사업자 여부</th>\n",
       "      <th>cancelled</th>\n",
       "      <th>name</th>\n",
       "      <th>slug</th>\n",
       "    </tr>\n",
       "  </thead>\n",
       "  <tbody>\n",
       "    <tr>\n",
       "      <th>24</th>\n",
       "      <td>627a68ad9d93880024062b39</td>\n",
       "      <td>2022-05-12 02:16:04.401000+00:00</td>\n",
       "      <td>5dbd44572bb59605ca3cf52b</td>\n",
       "      <td>True</td>\n",
       "      <td>섭혜민 명의경방험안</td>\n",
       "      <td>5cf8bbba0098b2225c5dfaa3</td>\n",
       "      <td>626a4b8ae1579900234bd4b0</td>\n",
       "      <td>1.0</td>\n",
       "      <td>117000.0</td>\n",
       "      <td>117000.0</td>\n",
       "      <td>20-29</td>\n",
       "      <td>1.0</td>\n",
       "      <td>0.0</td>\n",
       "      <td>False</td>\n",
       "      <td>도서</td>\n",
       "      <td>book</td>\n",
       "    </tr>\n",
       "    <tr>\n",
       "      <th>28</th>\n",
       "      <td>627c50279d9388002406326a</td>\n",
       "      <td>2022-05-12 00:10:00.012000+00:00</td>\n",
       "      <td>5d838c7f3f0e6805c4706894</td>\n",
       "      <td>True</td>\n",
       "      <td>장골의 PI 변위는 없다</td>\n",
       "      <td>5cf8bbba0098b2225c5dfaa3</td>\n",
       "      <td>623bc8886f766b0024668eb5</td>\n",
       "      <td>1.0</td>\n",
       "      <td>38800.0</td>\n",
       "      <td>38800.0</td>\n",
       "      <td>30-39</td>\n",
       "      <td>1.0</td>\n",
       "      <td>0.0</td>\n",
       "      <td>False</td>\n",
       "      <td>도서</td>\n",
       "      <td>book</td>\n",
       "    </tr>\n",
       "    <tr>\n",
       "      <th>30</th>\n",
       "      <td>627c519c9d93880024063275</td>\n",
       "      <td>2022-05-12 00:15:59.124000+00:00</td>\n",
       "      <td>5ebc8bee09982e0735b2d835</td>\n",
       "      <td>True</td>\n",
       "      <td>초음파 가이드 근골격계 통증 치료의 정석</td>\n",
       "      <td>5cf8bbba0098b2225c5dfaa3</td>\n",
       "      <td>626a4b89e1579900234bd4af</td>\n",
       "      <td>1.0</td>\n",
       "      <td>199500.0</td>\n",
       "      <td>199500.0</td>\n",
       "      <td>30-39</td>\n",
       "      <td>1.0</td>\n",
       "      <td>1.0</td>\n",
       "      <td>False</td>\n",
       "      <td>도서</td>\n",
       "      <td>book</td>\n",
       "    </tr>\n",
       "    <tr>\n",
       "      <th>31</th>\n",
       "      <td>627c51a69d93880024063278</td>\n",
       "      <td>2022-05-12 00:21:00+00:00</td>\n",
       "      <td>5dae9a8d0dabe405b156efd0</td>\n",
       "      <td>True</td>\n",
       "      <td>초음파 가이드 근골격계 통증 치료의 정석</td>\n",
       "      <td>5cf8bbba0098b2225c5dfaa3</td>\n",
       "      <td>626a4b89e1579900234bd4af</td>\n",
       "      <td>1.0</td>\n",
       "      <td>199500.0</td>\n",
       "      <td>199500.0</td>\n",
       "      <td>30-39</td>\n",
       "      <td>1.0</td>\n",
       "      <td>1.0</td>\n",
       "      <td>False</td>\n",
       "      <td>도서</td>\n",
       "      <td>book</td>\n",
       "    </tr>\n",
       "    <tr>\n",
       "      <th>32</th>\n",
       "      <td>627c51c69d9388002406327e</td>\n",
       "      <td>2022-05-12 00:17:17.201000+00:00</td>\n",
       "      <td>5f6be49c48060c52caf1528e</td>\n",
       "      <td>True</td>\n",
       "      <td>초음파 가이드 근골격계 통증 치료의 정석</td>\n",
       "      <td>5cf8bbba0098b2225c5dfaa3</td>\n",
       "      <td>626a4b89e1579900234bd4af</td>\n",
       "      <td>1.0</td>\n",
       "      <td>199500.0</td>\n",
       "      <td>199500.0</td>\n",
       "      <td>50-59</td>\n",
       "      <td>1.0</td>\n",
       "      <td>1.0</td>\n",
       "      <td>False</td>\n",
       "      <td>도서</td>\n",
       "      <td>book</td>\n",
       "    </tr>\n",
       "    <tr>\n",
       "      <th>...</th>\n",
       "      <td>...</td>\n",
       "      <td>...</td>\n",
       "      <td>...</td>\n",
       "      <td>...</td>\n",
       "      <td>...</td>\n",
       "      <td>...</td>\n",
       "      <td>...</td>\n",
       "      <td>...</td>\n",
       "      <td>...</td>\n",
       "      <td>...</td>\n",
       "      <td>...</td>\n",
       "      <td>...</td>\n",
       "      <td>...</td>\n",
       "      <td>...</td>\n",
       "      <td>...</td>\n",
       "      <td>...</td>\n",
       "    </tr>\n",
       "    <tr>\n",
       "      <th>57702</th>\n",
       "      <td>632024716c2e37002369f008</td>\n",
       "      <td>2022-09-13 08:51:40+00:00</td>\n",
       "      <td>5e5f01c7bfe4260944782d10</td>\n",
       "      <td>True</td>\n",
       "      <td>한방피부진료레슨</td>\n",
       "      <td>5cf8bbba0098b2225c5dfaa3</td>\n",
       "      <td>5dd397592bb59605ca3d01ea</td>\n",
       "      <td>1.0</td>\n",
       "      <td>43200.0</td>\n",
       "      <td>43200.0</td>\n",
       "      <td>30-39</td>\n",
       "      <td>1.0</td>\n",
       "      <td>1.0</td>\n",
       "      <td>False</td>\n",
       "      <td>도서</td>\n",
       "      <td>book</td>\n",
       "    </tr>\n",
       "    <tr>\n",
       "      <th>57710</th>\n",
       "      <td>632029a46c2e37002369f03b</td>\n",
       "      <td>2022-09-13 06:59:14+00:00</td>\n",
       "      <td>6131f79097686100197d7860</td>\n",
       "      <td>True</td>\n",
       "      <td>윤상훈·권병조의 알짜 근육학</td>\n",
       "      <td>5cf8bbba0098b2225c5dfaa3</td>\n",
       "      <td>60d018b7d26af90681b18980</td>\n",
       "      <td>1.0</td>\n",
       "      <td>18000.0</td>\n",
       "      <td>18000.0</td>\n",
       "      <td>etc</td>\n",
       "      <td>0.0</td>\n",
       "      <td>0.0</td>\n",
       "      <td>False</td>\n",
       "      <td>도서</td>\n",
       "      <td>book</td>\n",
       "    </tr>\n",
       "    <tr>\n",
       "      <th>57719</th>\n",
       "      <td>63202f736c2e37002369f06e</td>\n",
       "      <td>2022-09-13 07:22:18.847000+00:00</td>\n",
       "      <td>5dee019d4267e105dffef02d</td>\n",
       "      <td>True</td>\n",
       "      <td>트리거포인트 침치료</td>\n",
       "      <td>5cf8bbba0098b2225c5dfaa3</td>\n",
       "      <td>617a3aacbc63410023471ab6</td>\n",
       "      <td>1.0</td>\n",
       "      <td>58500.0</td>\n",
       "      <td>58500.0</td>\n",
       "      <td>20-29</td>\n",
       "      <td>1.0</td>\n",
       "      <td>0.0</td>\n",
       "      <td>False</td>\n",
       "      <td>도서</td>\n",
       "      <td>book</td>\n",
       "    </tr>\n",
       "    <tr>\n",
       "      <th>57731</th>\n",
       "      <td>632033be6c2e37002369f09a</td>\n",
       "      <td>2022-09-13 07:40:23.148000+00:00</td>\n",
       "      <td>617e903bbc6341002347262a</td>\n",
       "      <td>True</td>\n",
       "      <td>스파이랄 및 키네지오 테이핑</td>\n",
       "      <td>5cf8bbba0098b2225c5dfaa3</td>\n",
       "      <td>62551d67cb28e6002469d8fb</td>\n",
       "      <td>1.0</td>\n",
       "      <td>28500.0</td>\n",
       "      <td>28500.0</td>\n",
       "      <td>etc</td>\n",
       "      <td>1.0</td>\n",
       "      <td>1.0</td>\n",
       "      <td>False</td>\n",
       "      <td>도서</td>\n",
       "      <td>book</td>\n",
       "    </tr>\n",
       "    <tr>\n",
       "      <th>57743</th>\n",
       "      <td>63203ac86c2e37002369f0e7</td>\n",
       "      <td>2022-09-13 08:15:51+00:00</td>\n",
       "      <td>6136d8e597686100197d7db2</td>\n",
       "      <td>True</td>\n",
       "      <td>소아피부질환해설</td>\n",
       "      <td>5cf8bbba0098b2225c5dfaa3</td>\n",
       "      <td>5e4215f84267e105dfff17b9</td>\n",
       "      <td>1.0</td>\n",
       "      <td>49500.0</td>\n",
       "      <td>49500.0</td>\n",
       "      <td>40-49</td>\n",
       "      <td>1.0</td>\n",
       "      <td>1.0</td>\n",
       "      <td>False</td>\n",
       "      <td>도서</td>\n",
       "      <td>book</td>\n",
       "    </tr>\n",
       "  </tbody>\n",
       "</table>\n",
       "<p>5931 rows × 16 columns</p>\n",
       "</div>"
      ],
      "text/plain": [
       "                            _id                        date_paid  \\\n",
       "24     627a68ad9d93880024062b39 2022-05-12 02:16:04.401000+00:00   \n",
       "28     627c50279d9388002406326a 2022-05-12 00:10:00.012000+00:00   \n",
       "30     627c519c9d93880024063275 2022-05-12 00:15:59.124000+00:00   \n",
       "31     627c51a69d93880024063278        2022-05-12 00:21:00+00:00   \n",
       "32     627c51c69d9388002406327e 2022-05-12 00:17:17.201000+00:00   \n",
       "...                         ...                              ...   \n",
       "57702  632024716c2e37002369f008        2022-09-13 08:51:40+00:00   \n",
       "57710  632029a46c2e37002369f03b        2022-09-13 06:59:14+00:00   \n",
       "57719  63202f736c2e37002369f06e 2022-09-13 07:22:18.847000+00:00   \n",
       "57731  632033be6c2e37002369f09a 2022-09-13 07:40:23.148000+00:00   \n",
       "57743  63203ac86c2e37002369f0e7        2022-09-13 08:15:51+00:00   \n",
       "\n",
       "                    customer_id  paid                  name_x  \\\n",
       "24     5dbd44572bb59605ca3cf52b  True              섭혜민 명의경방험안   \n",
       "28     5d838c7f3f0e6805c4706894  True           장골의 PI 변위는 없다   \n",
       "30     5ebc8bee09982e0735b2d835  True  초음파 가이드 근골격계 통증 치료의 정석   \n",
       "31     5dae9a8d0dabe405b156efd0  True  초음파 가이드 근골격계 통증 치료의 정석   \n",
       "32     5f6be49c48060c52caf1528e  True  초음파 가이드 근골격계 통증 치료의 정석   \n",
       "...                         ...   ...                     ...   \n",
       "57702  5e5f01c7bfe4260944782d10  True                한방피부진료레슨   \n",
       "57710  6131f79097686100197d7860  True         윤상훈·권병조의 알짜 근육학   \n",
       "57719  5dee019d4267e105dffef02d  True              트리거포인트 침치료   \n",
       "57731  617e903bbc6341002347262a  True         스파이랄 및 키네지오 테이핑   \n",
       "57743  6136d8e597686100197d7db2  True                소아피부질환해설   \n",
       "\n",
       "                  category_id_y               product_ids  quantity     price  \\\n",
       "24     5cf8bbba0098b2225c5dfaa3  626a4b8ae1579900234bd4b0       1.0  117000.0   \n",
       "28     5cf8bbba0098b2225c5dfaa3  623bc8886f766b0024668eb5       1.0   38800.0   \n",
       "30     5cf8bbba0098b2225c5dfaa3  626a4b89e1579900234bd4af       1.0  199500.0   \n",
       "31     5cf8bbba0098b2225c5dfaa3  626a4b89e1579900234bd4af       1.0  199500.0   \n",
       "32     5cf8bbba0098b2225c5dfaa3  626a4b89e1579900234bd4af       1.0  199500.0   \n",
       "...                         ...                       ...       ...       ...   \n",
       "57702  5cf8bbba0098b2225c5dfaa3  5dd397592bb59605ca3d01ea       1.0   43200.0   \n",
       "57710  5cf8bbba0098b2225c5dfaa3  60d018b7d26af90681b18980       1.0   18000.0   \n",
       "57719  5cf8bbba0098b2225c5dfaa3  617a3aacbc63410023471ab6       1.0   58500.0   \n",
       "57731  5cf8bbba0098b2225c5dfaa3  62551d67cb28e6002469d8fb       1.0   28500.0   \n",
       "57743  5cf8bbba0098b2225c5dfaa3  5e4215f84267e105dfff17b9       1.0   49500.0   \n",
       "\n",
       "       price_total age_group  한의사 여부  사업자 여부  cancelled name  slug  \n",
       "24        117000.0     20-29     1.0     0.0      False   도서  book  \n",
       "28         38800.0     30-39     1.0     0.0      False   도서  book  \n",
       "30        199500.0     30-39     1.0     1.0      False   도서  book  \n",
       "31        199500.0     30-39     1.0     1.0      False   도서  book  \n",
       "32        199500.0     50-59     1.0     1.0      False   도서  book  \n",
       "...            ...       ...     ...     ...        ...  ...   ...  \n",
       "57702      43200.0     30-39     1.0     1.0      False   도서  book  \n",
       "57710      18000.0       etc     0.0     0.0      False   도서  book  \n",
       "57719      58500.0     20-29     1.0     0.0      False   도서  book  \n",
       "57731      28500.0       etc     1.0     1.0      False   도서  book  \n",
       "57743      49500.0     40-49     1.0     1.0      False   도서  book  \n",
       "\n",
       "[5931 rows x 16 columns]"
      ]
     },
     "execution_count": 13,
     "metadata": {},
     "output_type": "execute_result"
    }
   ],
   "source": [
    "df3"
   ]
  },
  {
   "cell_type": "markdown",
   "id": "f03f745d",
   "metadata": {},
   "source": [
    "# 베스트 도서의 총 도서 구매 비율을 확인해보자!"
   ]
  },
  {
   "cell_type": "code",
   "execution_count": 30,
   "id": "5eba3e58",
   "metadata": {
    "scrolled": true
   },
   "outputs": [
    {
     "data": {
      "text/html": [
       "<div>\n",
       "<style scoped>\n",
       "    .dataframe tbody tr th:only-of-type {\n",
       "        vertical-align: middle;\n",
       "    }\n",
       "\n",
       "    .dataframe tbody tr th {\n",
       "        vertical-align: top;\n",
       "    }\n",
       "\n",
       "    .dataframe thead th {\n",
       "        text-align: right;\n",
       "    }\n",
       "</style>\n",
       "<table border=\"1\" class=\"dataframe\">\n",
       "  <thead>\n",
       "    <tr style=\"text-align: right;\">\n",
       "      <th></th>\n",
       "      <th></th>\n",
       "      <th>0</th>\n",
       "    </tr>\n",
       "    <tr>\n",
       "      <th>product_ids</th>\n",
       "      <th>name_x</th>\n",
       "      <th></th>\n",
       "    </tr>\n",
       "  </thead>\n",
       "  <tbody>\n",
       "    <tr>\n",
       "      <th>629860599d93880024071acc</th>\n",
       "      <th>비만문답</th>\n",
       "      <td>594</td>\n",
       "    </tr>\n",
       "    <tr>\n",
       "      <th>62bbee3a08e04900234e36c8</th>\n",
       "      <th>플로차트 정형외과 진단</th>\n",
       "      <td>463</td>\n",
       "    </tr>\n",
       "    <tr>\n",
       "      <th>62ff2f43ca740b0024397ca4</th>\n",
       "      <th>초음파 유도하 침 시술 가이드북</th>\n",
       "      <td>354</td>\n",
       "    </tr>\n",
       "    <tr>\n",
       "      <th>6182113bbc63410023473754</th>\n",
       "      <th>흔히보는 정형외과 외래진료 가이드북</th>\n",
       "      <td>324</td>\n",
       "    </tr>\n",
       "    <tr>\n",
       "      <th>60d018b7d26af90681b18980</th>\n",
       "      <th>윤상훈·권병조의 알짜 근육학</th>\n",
       "      <td>251</td>\n",
       "    </tr>\n",
       "    <tr>\n",
       "      <th>63046e9358e1680033a580d6</th>\n",
       "      <th>영어 진료 가이드북</th>\n",
       "      <td>227</td>\n",
       "    </tr>\n",
       "    <tr>\n",
       "      <th>629860589d93880024071acb</th>\n",
       "      <th>황황교수의 임상의를 위한 근거기반 상한금궤 처방 매뉴얼</th>\n",
       "      <td>215</td>\n",
       "    </tr>\n",
       "    <tr>\n",
       "      <th>629860569d93880024071aca</th>\n",
       "      <th>황황교수의 개원 한의사를 위한 상한금궤 처방 강의록</th>\n",
       "      <td>201</td>\n",
       "    </tr>\n",
       "    <tr>\n",
       "      <th>62da5dd81b3c480022189fdf</th>\n",
       "      <th>외래에서 꼭 알아야 할 통증증후군 137가지</th>\n",
       "      <td>149</td>\n",
       "    </tr>\n",
       "    <tr>\n",
       "      <th>62392e146f766b0024667fe2</th>\n",
       "      <th>카이로프랙틱 기본테크닉론</th>\n",
       "      <td>137</td>\n",
       "    </tr>\n",
       "    <tr>\n",
       "      <th>62cd2dbb3fc97a002bec851b</th>\n",
       "      <th>사암침의 해석과 임상</th>\n",
       "      <td>125</td>\n",
       "    </tr>\n",
       "    <tr>\n",
       "      <th>610b6f9ad26af90681b1e699</th>\n",
       "      <th>임상 한의사를 위한 기본 한약처방 강의 2판</th>\n",
       "      <td>112</td>\n",
       "    </tr>\n",
       "    <tr>\n",
       "      <th>628ecd6b9d9388002406f05b</th>\n",
       "      <th>약침의 정석 –통증편</th>\n",
       "      <td>103</td>\n",
       "    </tr>\n",
       "    <tr>\n",
       "      <th>628df3509d9388002406ed08</th>\n",
       "      <th>趙紹琴(조소금) 내과학</th>\n",
       "      <td>76</td>\n",
       "    </tr>\n",
       "    <tr>\n",
       "      <th>628f154b9d9388002406f447</th>\n",
       "      <th>선생님, 이제 그만 저 좀 포기해 주세요</th>\n",
       "      <td>75</td>\n",
       "    </tr>\n",
       "    <tr>\n",
       "      <th>617f9228bc63410023472aa4</th>\n",
       "      <th>숲을 보는 요통치료</th>\n",
       "      <td>61</td>\n",
       "    </tr>\n",
       "    <tr>\n",
       "      <th>628ecd659d9388002406f055</th>\n",
       "      <th>침구과 진료매뉴얼</th>\n",
       "      <td>60</td>\n",
       "    </tr>\n",
       "    <tr>\n",
       "      <th>617a3aacbc63410023471ab6</th>\n",
       "      <th>트리거포인트 침치료</th>\n",
       "      <td>57</td>\n",
       "    </tr>\n",
       "    <tr>\n",
       "      <th>62cd2c353fc97a002bec8509</th>\n",
       "      <th>SMART 기본 일차진료매뉴얼 3판(세트)</th>\n",
       "      <td>56</td>\n",
       "    </tr>\n",
       "    <tr>\n",
       "      <th>5f6860f348060c52caf14690</th>\n",
       "      <th>사상방 사용설명서</th>\n",
       "      <td>55</td>\n",
       "    </tr>\n",
       "  </tbody>\n",
       "</table>\n",
       "</div>"
      ],
      "text/plain": [
       "                                                           0\n",
       "product_ids              name_x                             \n",
       "629860599d93880024071acc 비만문답                            594\n",
       "62bbee3a08e04900234e36c8 플로차트 정형외과 진단                    463\n",
       "62ff2f43ca740b0024397ca4 초음파 유도하 침 시술 가이드북               354\n",
       "6182113bbc63410023473754 흔히보는 정형외과 외래진료 가이드북             324\n",
       "60d018b7d26af90681b18980 윤상훈·권병조의 알짜 근육학                 251\n",
       "63046e9358e1680033a580d6 영어 진료 가이드북                      227\n",
       "629860589d93880024071acb 황황교수의 임상의를 위한 근거기반 상한금궤 처방 매뉴얼  215\n",
       "629860569d93880024071aca 황황교수의 개원 한의사를 위한 상한금궤 처방 강의록    201\n",
       "62da5dd81b3c480022189fdf 외래에서 꼭 알아야 할 통증증후군 137가지        149\n",
       "62392e146f766b0024667fe2 카이로프랙틱 기본테크닉론                   137\n",
       "62cd2dbb3fc97a002bec851b 사암침의 해석과 임상                     125\n",
       "610b6f9ad26af90681b1e699 임상 한의사를 위한 기본 한약처방 강의 2판        112\n",
       "628ecd6b9d9388002406f05b 약침의 정석 –통증편                     103\n",
       "628df3509d9388002406ed08 趙紹琴(조소금) 내과학                     76\n",
       "628f154b9d9388002406f447 선생님, 이제 그만 저 좀 포기해 주세요           75\n",
       "617f9228bc63410023472aa4 숲을 보는 요통치료                       61\n",
       "628ecd659d9388002406f055 침구과 진료매뉴얼                        60\n",
       "617a3aacbc63410023471ab6 트리거포인트 침치료                       57\n",
       "62cd2c353fc97a002bec8509 SMART 기본 일차진료매뉴얼 3판(세트)          56\n",
       "5f6860f348060c52caf14690 사상방 사용설명서                        55"
      ]
     },
     "execution_count": 30,
     "metadata": {},
     "output_type": "execute_result"
    }
   ],
   "source": [
    "best_seller_20 = pd.DataFrame(df3[['product_ids','name_x']].value_counts()[:20])\n",
    "best_seller_20"
   ]
  },
  {
   "cell_type": "code",
   "execution_count": 96,
   "id": "3fdeaf9c",
   "metadata": {},
   "outputs": [],
   "source": [
    "best = df3.groupby('product_ids').sum()['quantity'].sort_values(ascending=False)[:20].reset_index()\n",
    "# best\n",
    "best_seller_20 = pd.merge(best,df3[df3['product_ids'].isin(best['product_ids'])][['product_ids','name_x']],how='inner',on='product_ids').drop_duplicates()"
   ]
  },
  {
   "cell_type": "code",
   "execution_count": 97,
   "id": "c215dae6",
   "metadata": {},
   "outputs": [
    {
     "data": {
      "text/html": [
       "<div>\n",
       "<style scoped>\n",
       "    .dataframe tbody tr th:only-of-type {\n",
       "        vertical-align: middle;\n",
       "    }\n",
       "\n",
       "    .dataframe tbody tr th {\n",
       "        vertical-align: top;\n",
       "    }\n",
       "\n",
       "    .dataframe thead th {\n",
       "        text-align: right;\n",
       "    }\n",
       "</style>\n",
       "<table border=\"1\" class=\"dataframe\">\n",
       "  <thead>\n",
       "    <tr style=\"text-align: right;\">\n",
       "      <th></th>\n",
       "      <th>product_ids</th>\n",
       "      <th>quantity</th>\n",
       "      <th>name_x</th>\n",
       "    </tr>\n",
       "  </thead>\n",
       "  <tbody>\n",
       "    <tr>\n",
       "      <th>0</th>\n",
       "      <td>629860599d93880024071acc</td>\n",
       "      <td>597.0</td>\n",
       "      <td>비만문답</td>\n",
       "    </tr>\n",
       "    <tr>\n",
       "      <th>594</th>\n",
       "      <td>62bbee3a08e04900234e36c8</td>\n",
       "      <td>465.0</td>\n",
       "      <td>플로차트 정형외과 진단</td>\n",
       "    </tr>\n",
       "    <tr>\n",
       "      <th>1057</th>\n",
       "      <td>62ff2f43ca740b0024397ca4</td>\n",
       "      <td>383.0</td>\n",
       "      <td>초음파 유도하 침 시술 가이드북</td>\n",
       "    </tr>\n",
       "    <tr>\n",
       "      <th>1411</th>\n",
       "      <td>6182113bbc63410023473754</td>\n",
       "      <td>328.0</td>\n",
       "      <td>흔히보는 정형외과 외래진료 가이드북</td>\n",
       "    </tr>\n",
       "    <tr>\n",
       "      <th>1735</th>\n",
       "      <td>60d018b7d26af90681b18980</td>\n",
       "      <td>259.0</td>\n",
       "      <td>윤상훈·권병조의 알짜 근육학</td>\n",
       "    </tr>\n",
       "    <tr>\n",
       "      <th>1986</th>\n",
       "      <td>63046e9358e1680033a580d6</td>\n",
       "      <td>229.0</td>\n",
       "      <td>영어 진료 가이드북</td>\n",
       "    </tr>\n",
       "    <tr>\n",
       "      <th>2213</th>\n",
       "      <td>629860589d93880024071acb</td>\n",
       "      <td>216.0</td>\n",
       "      <td>황황교수의 임상의를 위한 근거기반 상한금궤 처방 매뉴얼</td>\n",
       "    </tr>\n",
       "    <tr>\n",
       "      <th>2428</th>\n",
       "      <td>629860569d93880024071aca</td>\n",
       "      <td>201.0</td>\n",
       "      <td>황황교수의 개원 한의사를 위한 상한금궤 처방 강의록</td>\n",
       "    </tr>\n",
       "    <tr>\n",
       "      <th>2629</th>\n",
       "      <td>62da5dd81b3c480022189fdf</td>\n",
       "      <td>149.0</td>\n",
       "      <td>외래에서 꼭 알아야 할 통증증후군 137가지</td>\n",
       "    </tr>\n",
       "    <tr>\n",
       "      <th>2778</th>\n",
       "      <td>62392e146f766b0024667fe2</td>\n",
       "      <td>139.0</td>\n",
       "      <td>카이로프랙틱 기본테크닉론</td>\n",
       "    </tr>\n",
       "    <tr>\n",
       "      <th>2915</th>\n",
       "      <td>62cd2dbb3fc97a002bec851b</td>\n",
       "      <td>125.0</td>\n",
       "      <td>사암침의 해석과 임상</td>\n",
       "    </tr>\n",
       "    <tr>\n",
       "      <th>3040</th>\n",
       "      <td>610b6f9ad26af90681b1e699</td>\n",
       "      <td>112.0</td>\n",
       "      <td>임상 한의사를 위한 기본 한약처방 강의 2판</td>\n",
       "    </tr>\n",
       "    <tr>\n",
       "      <th>3152</th>\n",
       "      <td>628ecd6b9d9388002406f05b</td>\n",
       "      <td>104.0</td>\n",
       "      <td>약침의 정석 –통증편</td>\n",
       "    </tr>\n",
       "    <tr>\n",
       "      <th>3255</th>\n",
       "      <td>628f154b9d9388002406f447</td>\n",
       "      <td>77.0</td>\n",
       "      <td>선생님, 이제 그만 저 좀 포기해 주세요</td>\n",
       "    </tr>\n",
       "    <tr>\n",
       "      <th>3330</th>\n",
       "      <td>628df3509d9388002406ed08</td>\n",
       "      <td>76.0</td>\n",
       "      <td>趙紹琴(조소금) 내과학</td>\n",
       "    </tr>\n",
       "    <tr>\n",
       "      <th>3406</th>\n",
       "      <td>617f9228bc63410023472aa4</td>\n",
       "      <td>65.0</td>\n",
       "      <td>숲을 보는 요통치료</td>\n",
       "    </tr>\n",
       "    <tr>\n",
       "      <th>3467</th>\n",
       "      <td>628ecd659d9388002406f055</td>\n",
       "      <td>60.0</td>\n",
       "      <td>침구과 진료매뉴얼</td>\n",
       "    </tr>\n",
       "    <tr>\n",
       "      <th>3527</th>\n",
       "      <td>617a3aacbc63410023471ab6</td>\n",
       "      <td>57.0</td>\n",
       "      <td>트리거포인트 침치료</td>\n",
       "    </tr>\n",
       "    <tr>\n",
       "      <th>3584</th>\n",
       "      <td>62cd2c353fc97a002bec8509</td>\n",
       "      <td>56.0</td>\n",
       "      <td>SMART 기본 일차진료매뉴얼 3판(세트)</td>\n",
       "    </tr>\n",
       "    <tr>\n",
       "      <th>3640</th>\n",
       "      <td>5f6860f348060c52caf14690</td>\n",
       "      <td>55.0</td>\n",
       "      <td>사상방 사용설명서</td>\n",
       "    </tr>\n",
       "  </tbody>\n",
       "</table>\n",
       "</div>"
      ],
      "text/plain": [
       "                   product_ids  quantity                          name_x\n",
       "0     629860599d93880024071acc     597.0                            비만문답\n",
       "594   62bbee3a08e04900234e36c8     465.0                    플로차트 정형외과 진단\n",
       "1057  62ff2f43ca740b0024397ca4     383.0               초음파 유도하 침 시술 가이드북\n",
       "1411  6182113bbc63410023473754     328.0             흔히보는 정형외과 외래진료 가이드북\n",
       "1735  60d018b7d26af90681b18980     259.0                 윤상훈·권병조의 알짜 근육학\n",
       "1986  63046e9358e1680033a580d6     229.0                     영어 진료 가이드북 \n",
       "2213  629860589d93880024071acb     216.0  황황교수의 임상의를 위한 근거기반 상한금궤 처방 매뉴얼\n",
       "2428  629860569d93880024071aca     201.0    황황교수의 개원 한의사를 위한 상한금궤 처방 강의록\n",
       "2629  62da5dd81b3c480022189fdf     149.0        외래에서 꼭 알아야 할 통증증후군 137가지\n",
       "2778  62392e146f766b0024667fe2     139.0                   카이로프랙틱 기본테크닉론\n",
       "2915  62cd2dbb3fc97a002bec851b     125.0                     사암침의 해석과 임상\n",
       "3040  610b6f9ad26af90681b1e699     112.0        임상 한의사를 위한 기본 한약처방 강의 2판\n",
       "3152  628ecd6b9d9388002406f05b     104.0                     약침의 정석 –통증편\n",
       "3255  628f154b9d9388002406f447      77.0          선생님, 이제 그만 저 좀 포기해 주세요\n",
       "3330  628df3509d9388002406ed08      76.0                    趙紹琴(조소금) 내과학\n",
       "3406  617f9228bc63410023472aa4      65.0                      숲을 보는 요통치료\n",
       "3467  628ecd659d9388002406f055      60.0                       침구과 진료매뉴얼\n",
       "3527  617a3aacbc63410023471ab6      57.0                      트리거포인트 침치료\n",
       "3584  62cd2c353fc97a002bec8509      56.0         SMART 기본 일차진료매뉴얼 3판(세트)\n",
       "3640  5f6860f348060c52caf14690      55.0                       사상방 사용설명서"
      ]
     },
     "execution_count": 97,
     "metadata": {},
     "output_type": "execute_result"
    }
   ],
   "source": [
    "best_seller_20"
   ]
  },
  {
   "cell_type": "code",
   "execution_count": 59,
   "id": "411a7c21",
   "metadata": {},
   "outputs": [],
   "source": [
    "best_seller_ratio = round(sum(best_seller_20['quantity']) / sum(df3['quantity']) * 100, 2)"
   ]
  },
  {
   "cell_type": "code",
   "execution_count": 60,
   "id": "6ba6740a",
   "metadata": {},
   "outputs": [
    {
     "data": {
      "text/plain": [
       "62.37"
      ]
     },
     "execution_count": 60,
     "metadata": {},
     "output_type": "execute_result"
    }
   ],
   "source": [
    "best_seller_ratio"
   ]
  },
  {
   "cell_type": "code",
   "execution_count": 78,
   "id": "f33cbed1",
   "metadata": {},
   "outputs": [],
   "source": [
    "student = df3[(df3['한의사 여부'] == 0) &(df3['사업자 여부'] == 0) ]\n",
    "ceo = df3[(df3['한의사 여부'] == 0) &(df3['사업자 여부'] == 1) ]\n",
    "paydoc = df3[(df3['한의사 여부'] == 1) &(df3['사업자 여부'] == 0) ]\n",
    "docceo = df3[(df3['한의사 여부'] == 1) &(df3['사업자 여부'] == 1) ]"
   ]
  },
  {
   "cell_type": "markdown",
   "id": "8d1b323f",
   "metadata": {},
   "source": [
    "# nDCG 평가지표를 만들어서 추천이 잘 되었는지 여부를 파악해야 한다."
   ]
  },
  {
   "cell_type": "markdown",
   "id": "1da58df9",
   "metadata": {},
   "source": [
    "## 고객군별 베스트 20 도서"
   ]
  },
  {
   "cell_type": "code",
   "execution_count": 483,
   "id": "f007b891",
   "metadata": {},
   "outputs": [],
   "source": [
    "student_top20 = pd.DataFrame(student[['product_ids','name_x','name']].value_counts()[:20])\n",
    "ceo_top20 = pd.DataFrame(ceo[['product_ids','name_x','name']].value_counts()[:20])\n",
    "paydoc_top20 = pd.DataFrame(paydoc[['product_ids','name_x','name']].value_counts()[:20])\n",
    "docceo_top20 = pd.DataFrame(docceo[['product_ids','name_x','name']].value_counts()[:20])"
   ]
  },
  {
   "cell_type": "code",
   "execution_count": 484,
   "id": "101558a6",
   "metadata": {},
   "outputs": [
    {
     "data": {
      "text/html": [
       "<div>\n",
       "<style scoped>\n",
       "    .dataframe tbody tr th:only-of-type {\n",
       "        vertical-align: middle;\n",
       "    }\n",
       "\n",
       "    .dataframe tbody tr th {\n",
       "        vertical-align: top;\n",
       "    }\n",
       "\n",
       "    .dataframe thead th {\n",
       "        text-align: right;\n",
       "    }\n",
       "</style>\n",
       "<table border=\"1\" class=\"dataframe\">\n",
       "  <thead>\n",
       "    <tr style=\"text-align: right;\">\n",
       "      <th></th>\n",
       "      <th></th>\n",
       "      <th></th>\n",
       "      <th>0</th>\n",
       "    </tr>\n",
       "    <tr>\n",
       "      <th>product_ids</th>\n",
       "      <th>name_x</th>\n",
       "      <th>name</th>\n",
       "      <th></th>\n",
       "    </tr>\n",
       "  </thead>\n",
       "  <tbody>\n",
       "    <tr>\n",
       "      <th>60d018b7d26af90681b18980</th>\n",
       "      <th>윤상훈·권병조의 알짜 근육학</th>\n",
       "      <th>도서</th>\n",
       "      <td>105</td>\n",
       "    </tr>\n",
       "    <tr>\n",
       "      <th>629860599d93880024071acc</th>\n",
       "      <th>비만문답</th>\n",
       "      <th>도서</th>\n",
       "      <td>70</td>\n",
       "    </tr>\n",
       "    <tr>\n",
       "      <th>62ff2f43ca740b0024397ca4</th>\n",
       "      <th>초음파 유도하 침 시술 가이드북</th>\n",
       "      <th>도서</th>\n",
       "      <td>42</td>\n",
       "    </tr>\n",
       "    <tr>\n",
       "      <th>62bbee3a08e04900234e36c8</th>\n",
       "      <th>플로차트 정형외과 진단</th>\n",
       "      <th>도서</th>\n",
       "      <td>40</td>\n",
       "    </tr>\n",
       "    <tr>\n",
       "      <th>6182113bbc63410023473754</th>\n",
       "      <th>흔히보는 정형외과 외래진료 가이드북</th>\n",
       "      <th>도서</th>\n",
       "      <td>33</td>\n",
       "    </tr>\n",
       "    <tr>\n",
       "      <th>610b6f9ad26af90681b1e699</th>\n",
       "      <th>임상 한의사를 위한 기본 한약처방 강의 2판</th>\n",
       "      <th>도서</th>\n",
       "      <td>29</td>\n",
       "    </tr>\n",
       "    <tr>\n",
       "      <th>628f154b9d9388002406f447</th>\n",
       "      <th>선생님, 이제 그만 저 좀 포기해 주세요</th>\n",
       "      <th>도서</th>\n",
       "      <td>25</td>\n",
       "    </tr>\n",
       "    <tr>\n",
       "      <th>617f9228bc63410023472aa4</th>\n",
       "      <th>숲을 보는 요통치료</th>\n",
       "      <th>도서</th>\n",
       "      <td>24</td>\n",
       "    </tr>\n",
       "    <tr>\n",
       "      <th>5d78491b19efa30eb29143cc</th>\n",
       "      <th>플로차트 한약치료</th>\n",
       "      <th>도서</th>\n",
       "      <td>23</td>\n",
       "    </tr>\n",
       "    <tr>\n",
       "      <th>629860589d93880024071acb</th>\n",
       "      <th>황황교수의 임상의를 위한 근거기반 상한금궤 처방 매뉴얼</th>\n",
       "      <th>도서</th>\n",
       "      <td>23</td>\n",
       "    </tr>\n",
       "    <tr>\n",
       "      <th>629860569d93880024071aca</th>\n",
       "      <th>황황교수의 개원 한의사를 위한 상한금궤 처방 강의록</th>\n",
       "      <th>도서</th>\n",
       "      <td>22</td>\n",
       "    </tr>\n",
       "    <tr>\n",
       "      <th>5d59ee854e77525ec5ca1212</th>\n",
       "      <th>일차진료 한의사를 위한 보험한약입문 - 둘째 판</th>\n",
       "      <th>도서</th>\n",
       "      <td>19</td>\n",
       "    </tr>\n",
       "    <tr>\n",
       "      <th>62cd2dbb3fc97a002bec851b</th>\n",
       "      <th>사암침의 해석과 임상</th>\n",
       "      <th>도서</th>\n",
       "      <td>18</td>\n",
       "    </tr>\n",
       "    <tr>\n",
       "      <th>62392e146f766b0024667fe2</th>\n",
       "      <th>카이로프랙틱 기본테크닉론</th>\n",
       "      <th>도서</th>\n",
       "      <td>16</td>\n",
       "    </tr>\n",
       "    <tr>\n",
       "      <th>60e7e0b0d26af90681b1b61c</th>\n",
       "      <th>침의 과학적 접근의 이해</th>\n",
       "      <th>도서</th>\n",
       "      <td>16</td>\n",
       "    </tr>\n",
       "    <tr>\n",
       "      <th>63046e9358e1680033a580d6</th>\n",
       "      <th>영어 진료 가이드북</th>\n",
       "      <th>도서</th>\n",
       "      <td>15</td>\n",
       "    </tr>\n",
       "    <tr>\n",
       "      <th>628ecd659d9388002406f055</th>\n",
       "      <th>침구과 진료매뉴얼</th>\n",
       "      <th>도서</th>\n",
       "      <td>14</td>\n",
       "    </tr>\n",
       "    <tr>\n",
       "      <th>628df3509d9388002406ed08</th>\n",
       "      <th>趙紹琴(조소금) 내과학</th>\n",
       "      <th>도서</th>\n",
       "      <td>11</td>\n",
       "    </tr>\n",
       "    <tr>\n",
       "      <th>62da5dd81b3c480022189fdf</th>\n",
       "      <th>외래에서 꼭 알아야 할 통증증후군 137가지</th>\n",
       "      <th>도서</th>\n",
       "      <td>11</td>\n",
       "    </tr>\n",
       "    <tr>\n",
       "      <th>5f6860f348060c52caf14690</th>\n",
       "      <th>사상방 사용설명서</th>\n",
       "      <th>도서</th>\n",
       "      <td>11</td>\n",
       "    </tr>\n",
       "  </tbody>\n",
       "</table>\n",
       "</div>"
      ],
      "text/plain": [
       "                                                                0\n",
       "product_ids              name_x                         name     \n",
       "60d018b7d26af90681b18980 윤상훈·권병조의 알짜 근육학                도서    105\n",
       "629860599d93880024071acc 비만문답                           도서     70\n",
       "62ff2f43ca740b0024397ca4 초음파 유도하 침 시술 가이드북              도서     42\n",
       "62bbee3a08e04900234e36c8 플로차트 정형외과 진단                   도서     40\n",
       "6182113bbc63410023473754 흔히보는 정형외과 외래진료 가이드북            도서     33\n",
       "610b6f9ad26af90681b1e699 임상 한의사를 위한 기본 한약처방 강의 2판       도서     29\n",
       "628f154b9d9388002406f447 선생님, 이제 그만 저 좀 포기해 주세요         도서     25\n",
       "617f9228bc63410023472aa4 숲을 보는 요통치료                     도서     24\n",
       "5d78491b19efa30eb29143cc 플로차트 한약치료                      도서     23\n",
       "629860589d93880024071acb 황황교수의 임상의를 위한 근거기반 상한금궤 처방 매뉴얼 도서     23\n",
       "629860569d93880024071aca 황황교수의 개원 한의사를 위한 상한금궤 처방 강의록   도서     22\n",
       "5d59ee854e77525ec5ca1212 일차진료 한의사를 위한 보험한약입문 - 둘째 판     도서     19\n",
       "62cd2dbb3fc97a002bec851b 사암침의 해석과 임상                    도서     18\n",
       "62392e146f766b0024667fe2 카이로프랙틱 기본테크닉론                  도서     16\n",
       "60e7e0b0d26af90681b1b61c 침의 과학적 접근의 이해                  도서     16\n",
       "63046e9358e1680033a580d6 영어 진료 가이드북                     도서     15\n",
       "628ecd659d9388002406f055 침구과 진료매뉴얼                      도서     14\n",
       "628df3509d9388002406ed08 趙紹琴(조소금) 내과학                   도서     11\n",
       "62da5dd81b3c480022189fdf 외래에서 꼭 알아야 할 통증증후군 137가지       도서     11\n",
       "5f6860f348060c52caf14690 사상방 사용설명서                      도서     11"
      ]
     },
     "metadata": {},
     "output_type": "display_data"
    },
    {
     "data": {
      "text/html": [
       "<div>\n",
       "<style scoped>\n",
       "    .dataframe tbody tr th:only-of-type {\n",
       "        vertical-align: middle;\n",
       "    }\n",
       "\n",
       "    .dataframe tbody tr th {\n",
       "        vertical-align: top;\n",
       "    }\n",
       "\n",
       "    .dataframe thead th {\n",
       "        text-align: right;\n",
       "    }\n",
       "</style>\n",
       "<table border=\"1\" class=\"dataframe\">\n",
       "  <thead>\n",
       "    <tr style=\"text-align: right;\">\n",
       "      <th></th>\n",
       "      <th></th>\n",
       "      <th></th>\n",
       "      <th>0</th>\n",
       "    </tr>\n",
       "    <tr>\n",
       "      <th>product_ids</th>\n",
       "      <th>name_x</th>\n",
       "      <th>name</th>\n",
       "      <th></th>\n",
       "    </tr>\n",
       "  </thead>\n",
       "  <tbody>\n",
       "    <tr>\n",
       "      <th>629860599d93880024071acc</th>\n",
       "      <th>비만문답</th>\n",
       "      <th>도서</th>\n",
       "      <td>26</td>\n",
       "    </tr>\n",
       "    <tr>\n",
       "      <th>62bbee3a08e04900234e36c8</th>\n",
       "      <th>플로차트 정형외과 진단</th>\n",
       "      <th>도서</th>\n",
       "      <td>24</td>\n",
       "    </tr>\n",
       "    <tr>\n",
       "      <th>62ff2f43ca740b0024397ca4</th>\n",
       "      <th>초음파 유도하 침 시술 가이드북</th>\n",
       "      <th>도서</th>\n",
       "      <td>24</td>\n",
       "    </tr>\n",
       "    <tr>\n",
       "      <th>63046e9358e1680033a580d6</th>\n",
       "      <th>영어 진료 가이드북</th>\n",
       "      <th>도서</th>\n",
       "      <td>13</td>\n",
       "    </tr>\n",
       "    <tr>\n",
       "      <th>6182113bbc63410023473754</th>\n",
       "      <th>흔히보는 정형외과 외래진료 가이드북</th>\n",
       "      <th>도서</th>\n",
       "      <td>12</td>\n",
       "    </tr>\n",
       "    <tr>\n",
       "      <th>629860589d93880024071acb</th>\n",
       "      <th>황황교수의 임상의를 위한 근거기반 상한금궤 처방 매뉴얼</th>\n",
       "      <th>도서</th>\n",
       "      <td>9</td>\n",
       "    </tr>\n",
       "    <tr>\n",
       "      <th>62cd2dbb3fc97a002bec851b</th>\n",
       "      <th>사암침의 해석과 임상</th>\n",
       "      <th>도서</th>\n",
       "      <td>9</td>\n",
       "    </tr>\n",
       "    <tr>\n",
       "      <th>629860569d93880024071aca</th>\n",
       "      <th>황황교수의 개원 한의사를 위한 상한금궤 처방 강의록</th>\n",
       "      <th>도서</th>\n",
       "      <td>9</td>\n",
       "    </tr>\n",
       "    <tr>\n",
       "      <th>62da5dd81b3c480022189fdf</th>\n",
       "      <th>외래에서 꼭 알아야 할 통증증후군 137가지</th>\n",
       "      <th>도서</th>\n",
       "      <td>8</td>\n",
       "    </tr>\n",
       "    <tr>\n",
       "      <th>628df3509d9388002406ed08</th>\n",
       "      <th>趙紹琴(조소금) 내과학</th>\n",
       "      <th>도서</th>\n",
       "      <td>5</td>\n",
       "    </tr>\n",
       "    <tr>\n",
       "      <th>628ecd6a9d9388002406f059</th>\n",
       "      <th>뇌의학의 첫걸음</th>\n",
       "      <th>도서</th>\n",
       "      <td>5</td>\n",
       "    </tr>\n",
       "    <tr>\n",
       "      <th>62392e146f766b0024667fe2</th>\n",
       "      <th>카이로프랙틱 기본테크닉론</th>\n",
       "      <th>도서</th>\n",
       "      <td>5</td>\n",
       "    </tr>\n",
       "    <tr>\n",
       "      <th>623bc8886f766b0024668eb5</th>\n",
       "      <th>장골의 PI 변위는 없다</th>\n",
       "      <th>도서</th>\n",
       "      <td>4</td>\n",
       "    </tr>\n",
       "    <tr>\n",
       "      <th>5e4215f84267e105dfff17b9</th>\n",
       "      <th>소아피부질환해설</th>\n",
       "      <th>도서</th>\n",
       "      <td>4</td>\n",
       "    </tr>\n",
       "    <tr>\n",
       "      <th>628ecd6d9d9388002406f05d</th>\n",
       "      <th>이것이 알고싶다! 당뇨병진료</th>\n",
       "      <th>도서</th>\n",
       "      <td>4</td>\n",
       "    </tr>\n",
       "    <tr>\n",
       "      <th>62cd2c373fc97a002bec850a</th>\n",
       "      <th>SMART 소아진료매뉴얼 3판</th>\n",
       "      <th>도서</th>\n",
       "      <td>3</td>\n",
       "    </tr>\n",
       "    <tr>\n",
       "      <th>5f6860f348060c52caf14690</th>\n",
       "      <th>사상방 사용설명서</th>\n",
       "      <th>도서</th>\n",
       "      <td>3</td>\n",
       "    </tr>\n",
       "    <tr>\n",
       "      <th>628ecd669d9388002406f056</th>\n",
       "      <th>한방순환 신경내과학</th>\n",
       "      <th>도서</th>\n",
       "      <td>3</td>\n",
       "    </tr>\n",
       "    <tr>\n",
       "      <th>5d96811f0dabe405b156d83a</th>\n",
       "      <th>통증치료를 위한 알기 쉬운 근골격계 이학적 검사법</th>\n",
       "      <th>도서</th>\n",
       "      <td>3</td>\n",
       "    </tr>\n",
       "    <tr>\n",
       "      <th>60d018b7d26af90681b18980</th>\n",
       "      <th>윤상훈·권병조의 알짜 근육학</th>\n",
       "      <th>도서</th>\n",
       "      <td>3</td>\n",
       "    </tr>\n",
       "  </tbody>\n",
       "</table>\n",
       "</div>"
      ],
      "text/plain": [
       "                                                               0\n",
       "product_ids              name_x                         name    \n",
       "629860599d93880024071acc 비만문답                           도서    26\n",
       "62bbee3a08e04900234e36c8 플로차트 정형외과 진단                   도서    24\n",
       "62ff2f43ca740b0024397ca4 초음파 유도하 침 시술 가이드북              도서    24\n",
       "63046e9358e1680033a580d6 영어 진료 가이드북                     도서    13\n",
       "6182113bbc63410023473754 흔히보는 정형외과 외래진료 가이드북            도서    12\n",
       "629860589d93880024071acb 황황교수의 임상의를 위한 근거기반 상한금궤 처방 매뉴얼 도서     9\n",
       "62cd2dbb3fc97a002bec851b 사암침의 해석과 임상                    도서     9\n",
       "629860569d93880024071aca 황황교수의 개원 한의사를 위한 상한금궤 처방 강의록   도서     9\n",
       "62da5dd81b3c480022189fdf 외래에서 꼭 알아야 할 통증증후군 137가지       도서     8\n",
       "628df3509d9388002406ed08 趙紹琴(조소금) 내과학                   도서     5\n",
       "628ecd6a9d9388002406f059 뇌의학의 첫걸음                       도서     5\n",
       "62392e146f766b0024667fe2 카이로프랙틱 기본테크닉론                  도서     5\n",
       "623bc8886f766b0024668eb5 장골의 PI 변위는 없다                  도서     4\n",
       "5e4215f84267e105dfff17b9 소아피부질환해설                       도서     4\n",
       "628ecd6d9d9388002406f05d 이것이 알고싶다! 당뇨병진료                도서     4\n",
       "62cd2c373fc97a002bec850a SMART 소아진료매뉴얼 3판               도서     3\n",
       "5f6860f348060c52caf14690 사상방 사용설명서                      도서     3\n",
       "628ecd669d9388002406f056 한방순환 신경내과학                     도서     3\n",
       "5d96811f0dabe405b156d83a 통증치료를 위한 알기 쉬운 근골격계 이학적 검사법    도서     3\n",
       "60d018b7d26af90681b18980 윤상훈·권병조의 알짜 근육학                도서     3"
      ]
     },
     "metadata": {},
     "output_type": "display_data"
    },
    {
     "data": {
      "text/html": [
       "<div>\n",
       "<style scoped>\n",
       "    .dataframe tbody tr th:only-of-type {\n",
       "        vertical-align: middle;\n",
       "    }\n",
       "\n",
       "    .dataframe tbody tr th {\n",
       "        vertical-align: top;\n",
       "    }\n",
       "\n",
       "    .dataframe thead th {\n",
       "        text-align: right;\n",
       "    }\n",
       "</style>\n",
       "<table border=\"1\" class=\"dataframe\">\n",
       "  <thead>\n",
       "    <tr style=\"text-align: right;\">\n",
       "      <th></th>\n",
       "      <th></th>\n",
       "      <th></th>\n",
       "      <th>0</th>\n",
       "    </tr>\n",
       "    <tr>\n",
       "      <th>product_ids</th>\n",
       "      <th>name_x</th>\n",
       "      <th>name</th>\n",
       "      <th></th>\n",
       "    </tr>\n",
       "  </thead>\n",
       "  <tbody>\n",
       "    <tr>\n",
       "      <th>629860599d93880024071acc</th>\n",
       "      <th>비만문답</th>\n",
       "      <th>도서</th>\n",
       "      <td>249</td>\n",
       "    </tr>\n",
       "    <tr>\n",
       "      <th>62bbee3a08e04900234e36c8</th>\n",
       "      <th>플로차트 정형외과 진단</th>\n",
       "      <th>도서</th>\n",
       "      <td>198</td>\n",
       "    </tr>\n",
       "    <tr>\n",
       "      <th>62ff2f43ca740b0024397ca4</th>\n",
       "      <th>초음파 유도하 침 시술 가이드북</th>\n",
       "      <th>도서</th>\n",
       "      <td>140</td>\n",
       "    </tr>\n",
       "    <tr>\n",
       "      <th>6182113bbc63410023473754</th>\n",
       "      <th>흔히보는 정형외과 외래진료 가이드북</th>\n",
       "      <th>도서</th>\n",
       "      <td>135</td>\n",
       "    </tr>\n",
       "    <tr>\n",
       "      <th>60d018b7d26af90681b18980</th>\n",
       "      <th>윤상훈·권병조의 알짜 근육학</th>\n",
       "      <th>도서</th>\n",
       "      <td>93</td>\n",
       "    </tr>\n",
       "    <tr>\n",
       "      <th>629860589d93880024071acb</th>\n",
       "      <th>황황교수의 임상의를 위한 근거기반 상한금궤 처방 매뉴얼</th>\n",
       "      <th>도서</th>\n",
       "      <td>76</td>\n",
       "    </tr>\n",
       "    <tr>\n",
       "      <th>63046e9358e1680033a580d6</th>\n",
       "      <th>영어 진료 가이드북</th>\n",
       "      <th>도서</th>\n",
       "      <td>75</td>\n",
       "    </tr>\n",
       "    <tr>\n",
       "      <th>629860569d93880024071aca</th>\n",
       "      <th>황황교수의 개원 한의사를 위한 상한금궤 처방 강의록</th>\n",
       "      <th>도서</th>\n",
       "      <td>68</td>\n",
       "    </tr>\n",
       "    <tr>\n",
       "      <th>62392e146f766b0024667fe2</th>\n",
       "      <th>카이로프랙틱 기본테크닉론</th>\n",
       "      <th>도서</th>\n",
       "      <td>56</td>\n",
       "    </tr>\n",
       "    <tr>\n",
       "      <th>610b6f9ad26af90681b1e699</th>\n",
       "      <th>임상 한의사를 위한 기본 한약처방 강의 2판</th>\n",
       "      <th>도서</th>\n",
       "      <td>55</td>\n",
       "    </tr>\n",
       "    <tr>\n",
       "      <th>62da5dd81b3c480022189fdf</th>\n",
       "      <th>외래에서 꼭 알아야 할 통증증후군 137가지</th>\n",
       "      <th>도서</th>\n",
       "      <td>50</td>\n",
       "    </tr>\n",
       "    <tr>\n",
       "      <th>62cd2dbb3fc97a002bec851b</th>\n",
       "      <th>사암침의 해석과 임상</th>\n",
       "      <th>도서</th>\n",
       "      <td>45</td>\n",
       "    </tr>\n",
       "    <tr>\n",
       "      <th>628ecd6b9d9388002406f05b</th>\n",
       "      <th>약침의 정석 –통증편</th>\n",
       "      <th>도서</th>\n",
       "      <td>41</td>\n",
       "    </tr>\n",
       "    <tr>\n",
       "      <th>5d13115e32026c0b35383897</th>\n",
       "      <th>KCD 한방내과 진찰진단 가이드라인</th>\n",
       "      <th>도서</th>\n",
       "      <td>31</td>\n",
       "    </tr>\n",
       "    <tr>\n",
       "      <th>617f9228bc63410023472aa4</th>\n",
       "      <th>숲을 보는 요통치료</th>\n",
       "      <th>도서</th>\n",
       "      <td>29</td>\n",
       "    </tr>\n",
       "    <tr>\n",
       "      <th>628df3509d9388002406ed08</th>\n",
       "      <th>趙紹琴(조소금) 내과학</th>\n",
       "      <th>도서</th>\n",
       "      <td>29</td>\n",
       "    </tr>\n",
       "    <tr>\n",
       "      <th>617a3aacbc63410023471ab6</th>\n",
       "      <th>트리거포인트 침치료</th>\n",
       "      <th>도서</th>\n",
       "      <td>27</td>\n",
       "    </tr>\n",
       "    <tr>\n",
       "      <th>62cd2c353fc97a002bec8509</th>\n",
       "      <th>SMART 기본 일차진료매뉴얼 3판(세트)</th>\n",
       "      <th>도서</th>\n",
       "      <td>26</td>\n",
       "    </tr>\n",
       "    <tr>\n",
       "      <th>628ecd659d9388002406f055</th>\n",
       "      <th>침구과 진료매뉴얼</th>\n",
       "      <th>도서</th>\n",
       "      <td>24</td>\n",
       "    </tr>\n",
       "    <tr>\n",
       "      <th>628f154b9d9388002406f447</th>\n",
       "      <th>선생님, 이제 그만 저 좀 포기해 주세요</th>\n",
       "      <th>도서</th>\n",
       "      <td>23</td>\n",
       "    </tr>\n",
       "  </tbody>\n",
       "</table>\n",
       "</div>"
      ],
      "text/plain": [
       "                                                                0\n",
       "product_ids              name_x                         name     \n",
       "629860599d93880024071acc 비만문답                           도서    249\n",
       "62bbee3a08e04900234e36c8 플로차트 정형외과 진단                   도서    198\n",
       "62ff2f43ca740b0024397ca4 초음파 유도하 침 시술 가이드북              도서    140\n",
       "6182113bbc63410023473754 흔히보는 정형외과 외래진료 가이드북            도서    135\n",
       "60d018b7d26af90681b18980 윤상훈·권병조의 알짜 근육학                도서     93\n",
       "629860589d93880024071acb 황황교수의 임상의를 위한 근거기반 상한금궤 처방 매뉴얼 도서     76\n",
       "63046e9358e1680033a580d6 영어 진료 가이드북                     도서     75\n",
       "629860569d93880024071aca 황황교수의 개원 한의사를 위한 상한금궤 처방 강의록   도서     68\n",
       "62392e146f766b0024667fe2 카이로프랙틱 기본테크닉론                  도서     56\n",
       "610b6f9ad26af90681b1e699 임상 한의사를 위한 기본 한약처방 강의 2판       도서     55\n",
       "62da5dd81b3c480022189fdf 외래에서 꼭 알아야 할 통증증후군 137가지       도서     50\n",
       "62cd2dbb3fc97a002bec851b 사암침의 해석과 임상                    도서     45\n",
       "628ecd6b9d9388002406f05b 약침의 정석 –통증편                    도서     41\n",
       "5d13115e32026c0b35383897 KCD 한방내과 진찰진단 가이드라인            도서     31\n",
       "617f9228bc63410023472aa4 숲을 보는 요통치료                     도서     29\n",
       "628df3509d9388002406ed08 趙紹琴(조소금) 내과학                   도서     29\n",
       "617a3aacbc63410023471ab6 트리거포인트 침치료                     도서     27\n",
       "62cd2c353fc97a002bec8509 SMART 기본 일차진료매뉴얼 3판(세트)        도서     26\n",
       "628ecd659d9388002406f055 침구과 진료매뉴얼                      도서     24\n",
       "628f154b9d9388002406f447 선생님, 이제 그만 저 좀 포기해 주세요         도서     23"
      ]
     },
     "metadata": {},
     "output_type": "display_data"
    },
    {
     "data": {
      "text/html": [
       "<div>\n",
       "<style scoped>\n",
       "    .dataframe tbody tr th:only-of-type {\n",
       "        vertical-align: middle;\n",
       "    }\n",
       "\n",
       "    .dataframe tbody tr th {\n",
       "        vertical-align: top;\n",
       "    }\n",
       "\n",
       "    .dataframe thead th {\n",
       "        text-align: right;\n",
       "    }\n",
       "</style>\n",
       "<table border=\"1\" class=\"dataframe\">\n",
       "  <thead>\n",
       "    <tr style=\"text-align: right;\">\n",
       "      <th></th>\n",
       "      <th></th>\n",
       "      <th></th>\n",
       "      <th>0</th>\n",
       "    </tr>\n",
       "    <tr>\n",
       "      <th>product_ids</th>\n",
       "      <th>name_x</th>\n",
       "      <th>name</th>\n",
       "      <th></th>\n",
       "    </tr>\n",
       "  </thead>\n",
       "  <tbody>\n",
       "    <tr>\n",
       "      <th>629860599d93880024071acc</th>\n",
       "      <th>비만문답</th>\n",
       "      <th>도서</th>\n",
       "      <td>249</td>\n",
       "    </tr>\n",
       "    <tr>\n",
       "      <th>62bbee3a08e04900234e36c8</th>\n",
       "      <th>플로차트 정형외과 진단</th>\n",
       "      <th>도서</th>\n",
       "      <td>201</td>\n",
       "    </tr>\n",
       "    <tr>\n",
       "      <th>62ff2f43ca740b0024397ca4</th>\n",
       "      <th>초음파 유도하 침 시술 가이드북</th>\n",
       "      <th>도서</th>\n",
       "      <td>148</td>\n",
       "    </tr>\n",
       "    <tr>\n",
       "      <th>6182113bbc63410023473754</th>\n",
       "      <th>흔히보는 정형외과 외래진료 가이드북</th>\n",
       "      <th>도서</th>\n",
       "      <td>144</td>\n",
       "    </tr>\n",
       "    <tr>\n",
       "      <th>63046e9358e1680033a580d6</th>\n",
       "      <th>영어 진료 가이드북</th>\n",
       "      <th>도서</th>\n",
       "      <td>124</td>\n",
       "    </tr>\n",
       "    <tr>\n",
       "      <th>629860589d93880024071acb</th>\n",
       "      <th>황황교수의 임상의를 위한 근거기반 상한금궤 처방 매뉴얼</th>\n",
       "      <th>도서</th>\n",
       "      <td>107</td>\n",
       "    </tr>\n",
       "    <tr>\n",
       "      <th>629860569d93880024071aca</th>\n",
       "      <th>황황교수의 개원 한의사를 위한 상한금궤 처방 강의록</th>\n",
       "      <th>도서</th>\n",
       "      <td>102</td>\n",
       "    </tr>\n",
       "    <tr>\n",
       "      <th>62da5dd81b3c480022189fdf</th>\n",
       "      <th>외래에서 꼭 알아야 할 통증증후군 137가지</th>\n",
       "      <th>도서</th>\n",
       "      <td>80</td>\n",
       "    </tr>\n",
       "    <tr>\n",
       "      <th>62392e146f766b0024667fe2</th>\n",
       "      <th>카이로프랙틱 기본테크닉론</th>\n",
       "      <th>도서</th>\n",
       "      <td>60</td>\n",
       "    </tr>\n",
       "    <tr>\n",
       "      <th>628ecd6b9d9388002406f05b</th>\n",
       "      <th>약침의 정석 –통증편</th>\n",
       "      <th>도서</th>\n",
       "      <td>56</td>\n",
       "    </tr>\n",
       "    <tr>\n",
       "      <th>62cd2dbb3fc97a002bec851b</th>\n",
       "      <th>사암침의 해석과 임상</th>\n",
       "      <th>도서</th>\n",
       "      <td>53</td>\n",
       "    </tr>\n",
       "    <tr>\n",
       "      <th>60d018b7d26af90681b18980</th>\n",
       "      <th>윤상훈·권병조의 알짜 근육학</th>\n",
       "      <th>도서</th>\n",
       "      <td>50</td>\n",
       "    </tr>\n",
       "    <tr>\n",
       "      <th>626a4b89e1579900234bd4af</th>\n",
       "      <th>초음파 가이드 근골격계 통증 치료의 정석</th>\n",
       "      <th>도서</th>\n",
       "      <td>41</td>\n",
       "    </tr>\n",
       "    <tr>\n",
       "      <th>628df3509d9388002406ed08</th>\n",
       "      <th>趙紹琴(조소금) 내과학</th>\n",
       "      <th>도서</th>\n",
       "      <td>31</td>\n",
       "    </tr>\n",
       "    <tr>\n",
       "      <th>5e4215f84267e105dfff17b9</th>\n",
       "      <th>소아피부질환해설</th>\n",
       "      <th>도서</th>\n",
       "      <td>30</td>\n",
       "    </tr>\n",
       "    <tr>\n",
       "      <th>628ecd689d9388002406f058</th>\n",
       "      <th>갑상선 진료 완전정복</th>\n",
       "      <th>도서</th>\n",
       "      <td>29</td>\n",
       "    </tr>\n",
       "    <tr>\n",
       "      <th>610b6f9ad26af90681b1e699</th>\n",
       "      <th>임상 한의사를 위한 기본 한약처방 강의 2판</th>\n",
       "      <th>도서</th>\n",
       "      <td>26</td>\n",
       "    </tr>\n",
       "    <tr>\n",
       "      <th>628f154b9d9388002406f447</th>\n",
       "      <th>선생님, 이제 그만 저 좀 포기해 주세요</th>\n",
       "      <th>도서</th>\n",
       "      <td>26</td>\n",
       "    </tr>\n",
       "    <tr>\n",
       "      <th>628ecd6a9d9388002406f05a</th>\n",
       "      <th>신경학 증상의 감별법</th>\n",
       "      <th>도서</th>\n",
       "      <td>24</td>\n",
       "    </tr>\n",
       "    <tr>\n",
       "      <th>628ecd6d9d9388002406f05d</th>\n",
       "      <th>이것이 알고싶다! 당뇨병진료</th>\n",
       "      <th>도서</th>\n",
       "      <td>20</td>\n",
       "    </tr>\n",
       "  </tbody>\n",
       "</table>\n",
       "</div>"
      ],
      "text/plain": [
       "                                                                0\n",
       "product_ids              name_x                         name     \n",
       "629860599d93880024071acc 비만문답                           도서    249\n",
       "62bbee3a08e04900234e36c8 플로차트 정형외과 진단                   도서    201\n",
       "62ff2f43ca740b0024397ca4 초음파 유도하 침 시술 가이드북              도서    148\n",
       "6182113bbc63410023473754 흔히보는 정형외과 외래진료 가이드북            도서    144\n",
       "63046e9358e1680033a580d6 영어 진료 가이드북                     도서    124\n",
       "629860589d93880024071acb 황황교수의 임상의를 위한 근거기반 상한금궤 처방 매뉴얼 도서    107\n",
       "629860569d93880024071aca 황황교수의 개원 한의사를 위한 상한금궤 처방 강의록   도서    102\n",
       "62da5dd81b3c480022189fdf 외래에서 꼭 알아야 할 통증증후군 137가지       도서     80\n",
       "62392e146f766b0024667fe2 카이로프랙틱 기본테크닉론                  도서     60\n",
       "628ecd6b9d9388002406f05b 약침의 정석 –통증편                    도서     56\n",
       "62cd2dbb3fc97a002bec851b 사암침의 해석과 임상                    도서     53\n",
       "60d018b7d26af90681b18980 윤상훈·권병조의 알짜 근육학                도서     50\n",
       "626a4b89e1579900234bd4af 초음파 가이드 근골격계 통증 치료의 정석         도서     41\n",
       "628df3509d9388002406ed08 趙紹琴(조소금) 내과학                   도서     31\n",
       "5e4215f84267e105dfff17b9 소아피부질환해설                       도서     30\n",
       "628ecd689d9388002406f058 갑상선 진료 완전정복                    도서     29\n",
       "610b6f9ad26af90681b1e699 임상 한의사를 위한 기본 한약처방 강의 2판       도서     26\n",
       "628f154b9d9388002406f447 선생님, 이제 그만 저 좀 포기해 주세요         도서     26\n",
       "628ecd6a9d9388002406f05a 신경학 증상의 감별법                    도서     24\n",
       "628ecd6d9d9388002406f05d 이것이 알고싶다! 당뇨병진료                도서     20"
      ]
     },
     "metadata": {},
     "output_type": "display_data"
    }
   ],
   "source": [
    "display(student_top20,ceo_top20,paydoc_top20,docceo_top20)"
   ]
  },
  {
   "cell_type": "markdown",
   "id": "62cdee9f",
   "metadata": {},
   "source": [
    "# ALS"
   ]
  },
  {
   "cell_type": "code",
   "execution_count": 61,
   "id": "01671fa2",
   "metadata": {},
   "outputs": [
    {
     "name": "stderr",
     "output_type": "stream",
     "text": [
      "100%|██████████| 5141/5141 [00:00<00:00, 704072.25it/s]\n"
     ]
    }
   ],
   "source": [
    "products_json = pd.read_json(\"/fastcampus-data/products/products.json\")\n",
    "products_df = pd.DataFrame(products_json)\n",
    "products_df = key_to_element(['_id'],products_df)"
   ]
  },
  {
   "cell_type": "code",
   "execution_count": 62,
   "id": "5800100f",
   "metadata": {},
   "outputs": [],
   "source": [
    "def recommended_product(products, result):\n",
    "    products_id = products[result[0][0]]\n",
    "    return products_df[products_df['_id'] == products_id].loc[:,'meta_title']"
   ]
  },
  {
   "cell_type": "code",
   "execution_count": 63,
   "id": "d438241f",
   "metadata": {},
   "outputs": [],
   "source": [
    "def recommend(df, als_model,purchase_sparse, products:list, customers:list,customerId:str):\n",
    "    id_index = customers.index(customerId)\n",
    "    result = als_model.recommend(id_index, purchase_sparse[id_index], N=10)\n",
    "    products = [ df[df['product_ids'] == products[i]]['name_x'].values[0] for i in result[0]]\n",
    "    return pd.DataFrame(products)"
   ]
  },
  {
   "cell_type": "markdown",
   "id": "e531e531",
   "metadata": {},
   "source": [
    "## ALS 전체 고객"
   ]
  },
  {
   "cell_type": "code",
   "execution_count": 64,
   "id": "df326ace",
   "metadata": {},
   "outputs": [],
   "source": [
    "# 고객과 아이템 얼마나 구매했는가\n",
    "grouped_purchased = df3.groupby(['customer_id','product_ids']).sum().reset_index()"
   ]
  },
  {
   "cell_type": "code",
   "execution_count": 65,
   "id": "6dc70772",
   "metadata": {},
   "outputs": [
    {
     "name": "stdout",
     "output_type": "stream",
     "text": [
      "2663\n",
      "252\n"
     ]
    },
    {
     "data": {
      "text/plain": [
       "<2663x252 sparse matrix of type '<class 'numpy.float64'>'\n",
       "\twith 5910 stored elements in Compressed Sparse Row format>"
      ]
     },
     "execution_count": 65,
     "metadata": {},
     "output_type": "execute_result"
    }
   ],
   "source": [
    "customers = list(np.sort(grouped_purchased['customer_id'].unique()))\n",
    "products = list (grouped_purchased['product_ids'].unique())\n",
    "quantity = list(grouped_purchased['quantity'])\n",
    "\n",
    "rows = grouped_purchased['customer_id'].astype('category').cat.codes\n",
    "cols = grouped_purchased['product_ids'].astype('category').cat.codes\n",
    "print(len(customers)) # 2663\n",
    "print(len(products))  # 223\n",
    "purchase_sparse = sparse.csr_matrix((quantity, (rows, cols)), shape = (len(customers),len(products)))\n",
    "purchase_sparse #2663 * 252 행렬"
   ]
  },
  {
   "cell_type": "code",
   "execution_count": 66,
   "id": "ffc80f0e",
   "metadata": {},
   "outputs": [
    {
     "data": {
      "text/plain": [
       "99.11932478586628"
      ]
     },
     "execution_count": 66,
     "metadata": {},
     "output_type": "execute_result"
    }
   ],
   "source": [
    "# Sparsity: 얼마나 비어있나?\n",
    "matrix_size = purchase_sparse.shape[0]* purchase_sparse.shape[1]\n",
    "num_purchases = len(purchase_sparse.nonzero()[0])\n",
    "sparsity = 100 * (1 - (num_purchases / matrix_size))\n",
    "sparsity"
   ]
  },
  {
   "cell_type": "code",
   "execution_count": 67,
   "id": "cfbb0b33",
   "metadata": {},
   "outputs": [
    {
     "data": {
      "application/vnd.jupyter.widget-view+json": {
       "model_id": "e01064c409dc4b68b732a574c643efbb",
       "version_major": 2,
       "version_minor": 0
      },
      "text/plain": [
       "  0%|          | 0/100 [00:00<?, ?it/s]"
      ]
     },
     "metadata": {},
     "output_type": "display_data"
    }
   ],
   "source": [
    "als_model = ALS(factors=20, regularization=0.01, iterations = 100)\n",
    "als_model.fit(purchase_sparse)"
   ]
  },
  {
   "cell_type": "code",
   "execution_count": 68,
   "id": "1a54cc3d",
   "metadata": {},
   "outputs": [
    {
     "data": {
      "text/plain": [
       "(array([160,   2, 135, 162,  73, 198,   8,  23, 177,  15], dtype=int32),\n",
       " array([0.21755786, 0.15902099, 0.10876625, 0.09228627, 0.08397196,\n",
       "        0.07077934, 0.06653977, 0.05999781, 0.05383343, 0.05367574],\n",
       "       dtype=float32))"
      ]
     },
     "execution_count": 68,
     "metadata": {},
     "output_type": "execute_result"
    }
   ],
   "source": [
    "result = als_model.recommend(0, purchase_sparse[0], N=10)\n",
    "result"
   ]
  },
  {
   "cell_type": "code",
   "execution_count": 69,
   "id": "ca99b779",
   "metadata": {},
   "outputs": [
    {
     "data": {
      "text/plain": [
       "234    사진으로 공부하는 이비인후과학\n",
       "Name: meta_title, dtype: object"
      ]
     },
     "execution_count": 69,
     "metadata": {},
     "output_type": "execute_result"
    }
   ],
   "source": [
    "recommended_product(products, result)"
   ]
  },
  {
   "cell_type": "code",
   "execution_count": 70,
   "id": "181a6cad",
   "metadata": {},
   "outputs": [
    {
     "data": {
      "text/plain": [
       "'5d60cab24e77525ec5ca13d5'"
      ]
     },
     "execution_count": 70,
     "metadata": {},
     "output_type": "execute_result"
    }
   ],
   "source": [
    "customers[0]"
   ]
  },
  {
   "cell_type": "code",
   "execution_count": 71,
   "id": "6a5edf08",
   "metadata": {},
   "outputs": [
    {
     "data": {
      "text/html": [
       "<div>\n",
       "<style scoped>\n",
       "    .dataframe tbody tr th:only-of-type {\n",
       "        vertical-align: middle;\n",
       "    }\n",
       "\n",
       "    .dataframe tbody tr th {\n",
       "        vertical-align: top;\n",
       "    }\n",
       "\n",
       "    .dataframe thead th {\n",
       "        text-align: right;\n",
       "    }\n",
       "</style>\n",
       "<table border=\"1\" class=\"dataframe\">\n",
       "  <thead>\n",
       "    <tr style=\"text-align: right;\">\n",
       "      <th></th>\n",
       "      <th>0</th>\n",
       "    </tr>\n",
       "  </thead>\n",
       "  <tbody>\n",
       "    <tr>\n",
       "      <th>0</th>\n",
       "      <td>사진으로 공부하는 이비인후과학</td>\n",
       "    </tr>\n",
       "    <tr>\n",
       "      <th>1</th>\n",
       "      <td>약침의 정석 –통증편</td>\n",
       "    </tr>\n",
       "    <tr>\n",
       "      <th>2</th>\n",
       "      <td>주문봉 진단학강의</td>\n",
       "    </tr>\n",
       "    <tr>\n",
       "      <th>3</th>\n",
       "      <td>쉽게 배우는 근근막통증증후군 TPI치료법</td>\n",
       "    </tr>\n",
       "    <tr>\n",
       "      <th>4</th>\n",
       "      <td>알기 쉬운 이비인후과 한약처방가이드</td>\n",
       "    </tr>\n",
       "    <tr>\n",
       "      <th>5</th>\n",
       "      <td>하루10분운동으로 100세 건강지키기</td>\n",
       "    </tr>\n",
       "    <tr>\n",
       "      <th>6</th>\n",
       "      <td>초음파 유도하 침 시술 가이드북</td>\n",
       "    </tr>\n",
       "    <tr>\n",
       "      <th>7</th>\n",
       "      <td>사상임상약물대전</td>\n",
       "    </tr>\n",
       "    <tr>\n",
       "      <th>8</th>\n",
       "      <td>귤창서영</td>\n",
       "    </tr>\n",
       "    <tr>\n",
       "      <th>9</th>\n",
       "      <td>침구과 진료매뉴얼</td>\n",
       "    </tr>\n",
       "  </tbody>\n",
       "</table>\n",
       "</div>"
      ],
      "text/plain": [
       "                        0\n",
       "0        사진으로 공부하는 이비인후과학\n",
       "1             약침의 정석 –통증편\n",
       "2               주문봉 진단학강의\n",
       "3  쉽게 배우는 근근막통증증후군 TPI치료법\n",
       "4     알기 쉬운 이비인후과 한약처방가이드\n",
       "5    하루10분운동으로 100세 건강지키기\n",
       "6       초음파 유도하 침 시술 가이드북\n",
       "7                사상임상약물대전\n",
       "8                    귤창서영\n",
       "9               침구과 진료매뉴얼"
      ]
     },
     "execution_count": 71,
     "metadata": {},
     "output_type": "execute_result"
    }
   ],
   "source": [
    "recommend(df3,als_model,purchase_sparse,products,customers,customers[0])"
   ]
  },
  {
   "cell_type": "code",
   "execution_count": 88,
   "id": "f7889bf7",
   "metadata": {},
   "outputs": [],
   "source": [
    "customers = pd.Series(customers)\n",
    "student_series = customers[customers.isin(student['customer_id'])]\n",
    "paydoc_series = customers[customers.isin(paydoc['customer_id'])]\n",
    "ceo_series = customers[customers.isin(ceo['customer_id'])]\n",
    "docceo_series = customers[customers.isin(docceo['customer_id'])]"
   ]
  },
  {
   "cell_type": "markdown",
   "id": "4323e727",
   "metadata": {},
   "source": [
    "학생"
   ]
  },
  {
   "cell_type": "code",
   "execution_count": 89,
   "id": "64521ef7",
   "metadata": {},
   "outputs": [
    {
     "data": {
      "text/plain": [
       "20      5d60d45a4e77525ec5ca1465\n",
       "23      5d60d5f14e77525ec5ca1475\n",
       "40      5d610caa4e77525ec5ca1518\n",
       "41      5d610ff44e77525ec5ca151a\n",
       "42      5d6119754e77525ec5ca151e\n",
       "                  ...           \n",
       "2647    62c64fa9b99f01002300a886\n",
       "2654    62f1acfba670760022a3eaa0\n",
       "2658    63155514c640eb0021af84fc\n",
       "2661    63195d5e6c2e37002369dd30\n",
       "2662    63199ec06c2e37002369df0f\n",
       "Length: 461, dtype: object"
      ]
     },
     "execution_count": 89,
     "metadata": {},
     "output_type": "execute_result"
    }
   ],
   "source": [
    "student_series"
   ]
  },
  {
   "cell_type": "markdown",
   "id": "650c26bf",
   "metadata": {},
   "source": [
    "# 고객군별 추천"
   ]
  },
  {
   "cell_type": "markdown",
   "id": "0238f42b",
   "metadata": {},
   "source": [
    "### 학생"
   ]
  },
  {
   "cell_type": "code",
   "execution_count": 502,
   "id": "521bad05",
   "metadata": {},
   "outputs": [],
   "source": [
    "grouped_purchased = student.groupby(['customer_id','product_ids']).sum().reset_index()"
   ]
  },
  {
   "cell_type": "code",
   "execution_count": 503,
   "id": "1fa56d61",
   "metadata": {},
   "outputs": [
    {
     "name": "stdout",
     "output_type": "stream",
     "text": [
      "461\n",
      "147\n"
     ]
    },
    {
     "data": {
      "text/plain": [
       "<461x147 sparse matrix of type '<class 'numpy.float64'>'\n",
       "\twith 930 stored elements in Compressed Sparse Row format>"
      ]
     },
     "execution_count": 503,
     "metadata": {},
     "output_type": "execute_result"
    }
   ],
   "source": [
    "customers = list(np.sort(grouped_purchased['customer_id'].unique()))\n",
    "products = list (grouped_purchased['product_ids'].unique())\n",
    "quantity = list(grouped_purchased['quantity'])\n",
    "\n",
    "rows = grouped_purchased['customer_id'].astype('category').cat.codes\n",
    "cols = grouped_purchased['product_ids'].astype('category').cat.codes\n",
    "print(len(customers)) # 461\n",
    "print(len(products))  # 147\n",
    "purchase_sparse = sparse.csr_matrix((quantity, (rows, cols)), shape = (len(customers),len(products)))\n",
    "purchase_sparse #461 * 147 행렬"
   ]
  },
  {
   "cell_type": "code",
   "execution_count": 504,
   "id": "478d2366",
   "metadata": {},
   "outputs": [
    {
     "data": {
      "text/plain": [
       "98.6276506264111"
      ]
     },
     "execution_count": 504,
     "metadata": {},
     "output_type": "execute_result"
    }
   ],
   "source": [
    "# Sparsity: 얼마나 비어있나?\n",
    "matrix_size = purchase_sparse.shape[0]* purchase_sparse.shape[1]\n",
    "num_purchases = len(purchase_sparse.nonzero()[0])\n",
    "sparsity = 100 * (1 - (num_purchases / matrix_size))\n",
    "sparsity"
   ]
  },
  {
   "cell_type": "code",
   "execution_count": 505,
   "id": "3687b040",
   "metadata": {},
   "outputs": [
    {
     "data": {
      "application/vnd.jupyter.widget-view+json": {
       "model_id": "c0b12eeb02834eb7859aa88944617b11",
       "version_major": 2,
       "version_minor": 0
      },
      "text/plain": [
       "  0%|          | 0/100 [00:00<?, ?it/s]"
      ]
     },
     "metadata": {},
     "output_type": "display_data"
    }
   ],
   "source": [
    "als_model = ALS(factors=20, regularization=0.01, iterations = 100)\n",
    "als_model.fit(purchase_sparse)"
   ]
  },
  {
   "cell_type": "code",
   "execution_count": 506,
   "id": "0cb0e75d",
   "metadata": {},
   "outputs": [
    {
     "data": {
      "text/plain": [
       "(array([129, 124,  31, 127,  96, 106, 140,  76, 142,  18], dtype=int32),\n",
       " array([0.12192045, 0.11228589, 0.10810536, 0.1052188 , 0.08762927,\n",
       "        0.07781832, 0.07385367, 0.0696134 , 0.05553171, 0.0544217 ],\n",
       "       dtype=float32))"
      ]
     },
     "execution_count": 506,
     "metadata": {},
     "output_type": "execute_result"
    }
   ],
   "source": [
    "result = als_model.recommend(0, purchase_sparse[0], N=10)\n",
    "result"
   ]
  },
  {
   "cell_type": "code",
   "execution_count": 507,
   "id": "8ed42f24",
   "metadata": {
    "scrolled": true
   },
   "outputs": [
    {
     "data": {
      "text/plain": [
       "2776    현동의감\n",
       "Name: meta_title, dtype: object"
      ]
     },
     "execution_count": 507,
     "metadata": {},
     "output_type": "execute_result"
    }
   ],
   "source": [
    "recommended_product(products,result)"
   ]
  },
  {
   "cell_type": "code",
   "execution_count": 539,
   "id": "f1ef1423",
   "metadata": {},
   "outputs": [
    {
     "data": {
      "text/html": [
       "<div>\n",
       "<style scoped>\n",
       "    .dataframe tbody tr th:only-of-type {\n",
       "        vertical-align: middle;\n",
       "    }\n",
       "\n",
       "    .dataframe tbody tr th {\n",
       "        vertical-align: top;\n",
       "    }\n",
       "\n",
       "    .dataframe thead th {\n",
       "        text-align: right;\n",
       "    }\n",
       "</style>\n",
       "<table border=\"1\" class=\"dataframe\">\n",
       "  <thead>\n",
       "    <tr style=\"text-align: right;\">\n",
       "      <th></th>\n",
       "      <th>0</th>\n",
       "    </tr>\n",
       "  </thead>\n",
       "  <tbody>\n",
       "    <tr>\n",
       "      <th>0</th>\n",
       "      <td>약처방의 정석</td>\n",
       "    </tr>\n",
       "    <tr>\n",
       "      <th>1</th>\n",
       "      <td>면역학강의</td>\n",
       "    </tr>\n",
       "    <tr>\n",
       "      <th>2</th>\n",
       "      <td>경계 너머의 한방처방</td>\n",
       "    </tr>\n",
       "    <tr>\n",
       "      <th>3</th>\n",
       "      <td>섭혜민 명의경방험안</td>\n",
       "    </tr>\n",
       "    <tr>\n",
       "      <th>4</th>\n",
       "      <td>Cyriax 정형의학 3판</td>\n",
       "    </tr>\n",
       "    <tr>\n",
       "      <th>5</th>\n",
       "      <td>중국 왕문원 평형침구학</td>\n",
       "    </tr>\n",
       "    <tr>\n",
       "      <th>6</th>\n",
       "      <td>한방피부진료레슨</td>\n",
       "    </tr>\n",
       "    <tr>\n",
       "      <th>7</th>\n",
       "      <td>[세트] 말초신경 약침의학, 근골격계 약침의학</td>\n",
       "    </tr>\n",
       "    <tr>\n",
       "      <th>8</th>\n",
       "      <td>경락도해</td>\n",
       "    </tr>\n",
       "    <tr>\n",
       "      <th>9</th>\n",
       "      <td>플로차트 정형외과 진단</td>\n",
       "    </tr>\n",
       "  </tbody>\n",
       "</table>\n",
       "</div>"
      ],
      "text/plain": [
       "                           0\n",
       "0                    약처방의 정석\n",
       "1                      면역학강의\n",
       "2                경계 너머의 한방처방\n",
       "3                 섭혜민 명의경방험안\n",
       "4             Cyriax 정형의학 3판\n",
       "5               중국 왕문원 평형침구학\n",
       "6                   한방피부진료레슨\n",
       "7  [세트] 말초신경 약침의학, 근골격계 약침의학\n",
       "8                       경락도해\n",
       "9               플로차트 정형외과 진단"
      ]
     },
     "execution_count": 539,
     "metadata": {},
     "output_type": "execute_result"
    }
   ],
   "source": [
    "recommend(df, als_model,purchase_sparse, products, customers,customerId=customers[4])"
   ]
  },
  {
   "cell_type": "markdown",
   "id": "54b270fd",
   "metadata": {},
   "source": [
    "### 페이한의사"
   ]
  },
  {
   "cell_type": "code",
   "execution_count": 509,
   "id": "b53d1f70",
   "metadata": {},
   "outputs": [
    {
     "name": "stdout",
     "output_type": "stream",
     "text": [
      "1112\n",
      "205\n"
     ]
    },
    {
     "data": {
      "text/plain": [
       "<1112x205 sparse matrix of type '<class 'numpy.float64'>'\n",
       "\twith 2380 stored elements in Compressed Sparse Row format>"
      ]
     },
     "execution_count": 509,
     "metadata": {},
     "output_type": "execute_result"
    }
   ],
   "source": [
    "grouped_purchased = paydoc.groupby(['customer_id','product_ids']).sum().reset_index()\n",
    "customers = list(np.sort(grouped_purchased['customer_id'].unique()))\n",
    "products = list (grouped_purchased['product_ids'].unique())\n",
    "quantity = list(grouped_purchased['quantity'])\n",
    "\n",
    "rows = grouped_purchased['customer_id'].astype('category').cat.codes\n",
    "cols = grouped_purchased['product_ids'].astype('category').cat.codes\n",
    "print(len(customers)) # 1112\n",
    "print(len(products))  # 205\n",
    "purchase_sparse = sparse.csr_matrix((quantity, (rows, cols)), shape = (len(customers),len(products)))\n",
    "purchase_sparse #461 * 147 행렬"
   ]
  },
  {
   "cell_type": "code",
   "execution_count": 510,
   "id": "e2715616",
   "metadata": {},
   "outputs": [
    {
     "data": {
      "text/plain": [
       "98.95595718547114"
      ]
     },
     "execution_count": 510,
     "metadata": {},
     "output_type": "execute_result"
    }
   ],
   "source": [
    "# Sparsity: 얼마나 비어있나?\n",
    "matrix_size = purchase_sparse.shape[0]* purchase_sparse.shape[1]\n",
    "num_purchases = len(purchase_sparse.nonzero()[0])\n",
    "sparsity = 100 * (1 - (num_purchases / matrix_size))\n",
    "sparsity"
   ]
  },
  {
   "cell_type": "code",
   "execution_count": 511,
   "id": "ccd20a85",
   "metadata": {},
   "outputs": [
    {
     "data": {
      "application/vnd.jupyter.widget-view+json": {
       "model_id": "64f909eef2934e1aa12da45a3a6db43e",
       "version_major": 2,
       "version_minor": 0
      },
      "text/plain": [
       "  0%|          | 0/100 [00:00<?, ?it/s]"
      ]
     },
     "metadata": {},
     "output_type": "display_data"
    }
   ],
   "source": [
    "als_model = ALS(factors=20, regularization=0.01, iterations = 100)\n",
    "als_model.fit(purchase_sparse)"
   ]
  },
  {
   "cell_type": "code",
   "execution_count": 512,
   "id": "212729fa",
   "metadata": {},
   "outputs": [
    {
     "data": {
      "text/plain": [
       "(array([180, 202, 190, 140, 185,  16,  98, 156, 195,  91], dtype=int32),\n",
       " array([0.02086133, 0.01420359, 0.01266685, 0.01011939, 0.00657014,\n",
       "        0.00473182, 0.00451789, 0.00428839, 0.0041318 , 0.00407216],\n",
       "       dtype=float32))"
      ]
     },
     "execution_count": 512,
     "metadata": {},
     "output_type": "execute_result"
    }
   ],
   "source": [
    "result = als_model.recommend(2, purchase_sparse[2], N=10)\n",
    "result"
   ]
  },
  {
   "cell_type": "code",
   "execution_count": 513,
   "id": "38581b3e",
   "metadata": {},
   "outputs": [
    {
     "data": {
      "text/plain": [
       "49    통증치료를 위한 알기 쉬운 근골격계 이학적 검사법\n",
       "Name: meta_title, dtype: object"
      ]
     },
     "execution_count": 513,
     "metadata": {},
     "output_type": "execute_result"
    }
   ],
   "source": [
    "recommended_product(products,result)"
   ]
  },
  {
   "cell_type": "code",
   "execution_count": 514,
   "id": "86fad8a2",
   "metadata": {},
   "outputs": [
    {
     "data": {
      "text/html": [
       "<div>\n",
       "<style scoped>\n",
       "    .dataframe tbody tr th:only-of-type {\n",
       "        vertical-align: middle;\n",
       "    }\n",
       "\n",
       "    .dataframe tbody tr th {\n",
       "        vertical-align: top;\n",
       "    }\n",
       "\n",
       "    .dataframe thead th {\n",
       "        text-align: right;\n",
       "    }\n",
       "</style>\n",
       "<table border=\"1\" class=\"dataframe\">\n",
       "  <thead>\n",
       "    <tr style=\"text-align: right;\">\n",
       "      <th></th>\n",
       "      <th>0</th>\n",
       "    </tr>\n",
       "  </thead>\n",
       "  <tbody>\n",
       "    <tr>\n",
       "      <th>0</th>\n",
       "      <td>통증치료를 위한 알기 쉬운 근골격계 이학적 검사법</td>\n",
       "    </tr>\n",
       "    <tr>\n",
       "      <th>1</th>\n",
       "      <td>증보운곡본초학</td>\n",
       "    </tr>\n",
       "    <tr>\n",
       "      <th>2</th>\n",
       "      <td>나가노식 치료</td>\n",
       "    </tr>\n",
       "    <tr>\n",
       "      <th>3</th>\n",
       "      <td>알기 쉬운 이비인후과 한약처방가이드</td>\n",
       "    </tr>\n",
       "    <tr>\n",
       "      <th>4</th>\n",
       "      <td>실전한약가이드</td>\n",
       "    </tr>\n",
       "    <tr>\n",
       "      <th>5</th>\n",
       "      <td>그림으로 보는 뇌와 신경</td>\n",
       "    </tr>\n",
       "    <tr>\n",
       "      <th>6</th>\n",
       "      <td>근골격계 약침의학</td>\n",
       "    </tr>\n",
       "    <tr>\n",
       "      <th>7</th>\n",
       "      <td>오국통 온병명방</td>\n",
       "    </tr>\n",
       "    <tr>\n",
       "      <th>8</th>\n",
       "      <td>외래진료 달인되기</td>\n",
       "    </tr>\n",
       "    <tr>\n",
       "      <th>9</th>\n",
       "      <td>QBook: Case based Review</td>\n",
       "    </tr>\n",
       "  </tbody>\n",
       "</table>\n",
       "</div>"
      ],
      "text/plain": [
       "                             0\n",
       "0  통증치료를 위한 알기 쉬운 근골격계 이학적 검사법\n",
       "1                      증보운곡본초학\n",
       "2                      나가노식 치료\n",
       "3          알기 쉬운 이비인후과 한약처방가이드\n",
       "4                      실전한약가이드\n",
       "5                그림으로 보는 뇌와 신경\n",
       "6                    근골격계 약침의학\n",
       "7                     오국통 온병명방\n",
       "8                    외래진료 달인되기\n",
       "9     QBook: Case based Review"
      ]
     },
     "execution_count": 514,
     "metadata": {},
     "output_type": "execute_result"
    }
   ],
   "source": [
    "recommend(df, als_model,purchase_sparse, products, customers,customerId=customers[0])"
   ]
  },
  {
   "cell_type": "markdown",
   "id": "de739c83",
   "metadata": {},
   "source": [
    "### 창업가"
   ]
  },
  {
   "cell_type": "code",
   "execution_count": 515,
   "id": "0671c7db",
   "metadata": {},
   "outputs": [
    {
     "name": "stdout",
     "output_type": "stream",
     "text": [
      "90\n",
      "90\n"
     ]
    },
    {
     "data": {
      "text/plain": [
       "<90x90 sparse matrix of type '<class 'numpy.float64'>'\n",
       "\twith 266 stored elements in Compressed Sparse Row format>"
      ]
     },
     "execution_count": 515,
     "metadata": {},
     "output_type": "execute_result"
    }
   ],
   "source": [
    "grouped_purchased = ceo.groupby(['customer_id','product_ids']).sum().reset_index()\n",
    "customers = list(np.sort(grouped_purchased['customer_id'].unique()))\n",
    "products = list (grouped_purchased['product_ids'].unique())\n",
    "quantity = list(grouped_purchased['quantity'])\n",
    "\n",
    "rows = grouped_purchased['customer_id'].astype('category').cat.codes\n",
    "cols = grouped_purchased['product_ids'].astype('category').cat.codes\n",
    "print(len(customers)) # 90\n",
    "print(len(products))  # 90\n",
    "purchase_sparse = sparse.csr_matrix((quantity, (rows, cols)), shape = (len(customers),len(products)))\n",
    "purchase_sparse #90 * 90 행렬"
   ]
  },
  {
   "cell_type": "code",
   "execution_count": 516,
   "id": "df749471",
   "metadata": {},
   "outputs": [
    {
     "data": {
      "text/plain": [
       "96.71604938271605"
      ]
     },
     "execution_count": 516,
     "metadata": {},
     "output_type": "execute_result"
    }
   ],
   "source": [
    "# Sparsity: 얼마나 비어있나?\n",
    "matrix_size = purchase_sparse.shape[0]* purchase_sparse.shape[1]\n",
    "num_purchases = len(purchase_sparse.nonzero()[0])\n",
    "sparsity = 100 * (1 - (num_purchases / matrix_size))\n",
    "sparsity"
   ]
  },
  {
   "cell_type": "code",
   "execution_count": 517,
   "id": "878ba756",
   "metadata": {},
   "outputs": [
    {
     "data": {
      "application/vnd.jupyter.widget-view+json": {
       "model_id": "7d3562c3b9b14e1fbeae6d3b2cd18d40",
       "version_major": 2,
       "version_minor": 0
      },
      "text/plain": [
       "  0%|          | 0/100 [00:00<?, ?it/s]"
      ]
     },
     "metadata": {},
     "output_type": "display_data"
    }
   ],
   "source": [
    "als_model = ALS(factors=20, regularization=0.01, iterations = 100)\n",
    "als_model.fit(purchase_sparse)"
   ]
  },
  {
   "cell_type": "code",
   "execution_count": 518,
   "id": "cca8cfd3",
   "metadata": {},
   "outputs": [
    {
     "data": {
      "text/plain": [
       "(array([41,  7,  5, 31,  6, 70, 82, 28, 14, 57], dtype=int32),\n",
       " array([0.14130181, 0.14130181, 0.1413018 , 0.12762347, 0.12762345,\n",
       "        0.12250176, 0.10146499, 0.07488124, 0.06875424, 0.0675987 ],\n",
       "       dtype=float32))"
      ]
     },
     "execution_count": 518,
     "metadata": {},
     "output_type": "execute_result"
    }
   ],
   "source": [
    "result = als_model.recommend(0, purchase_sparse[0], N=10)\n",
    "result"
   ]
  },
  {
   "cell_type": "code",
   "execution_count": 519,
   "id": "a13ff2d1",
   "metadata": {},
   "outputs": [
    {
     "data": {
      "text/plain": [
       "4341    증례와 함께 하는 한약처방\n",
       "Name: meta_title, dtype: object"
      ]
     },
     "execution_count": 519,
     "metadata": {},
     "output_type": "execute_result"
    }
   ],
   "source": [
    "recommended_product(products,result)"
   ]
  },
  {
   "cell_type": "code",
   "execution_count": 520,
   "id": "2a6e34b2",
   "metadata": {},
   "outputs": [
    {
     "data": {
      "text/html": [
       "<div>\n",
       "<style scoped>\n",
       "    .dataframe tbody tr th:only-of-type {\n",
       "        vertical-align: middle;\n",
       "    }\n",
       "\n",
       "    .dataframe tbody tr th {\n",
       "        vertical-align: top;\n",
       "    }\n",
       "\n",
       "    .dataframe thead th {\n",
       "        text-align: right;\n",
       "    }\n",
       "</style>\n",
       "<table border=\"1\" class=\"dataframe\">\n",
       "  <thead>\n",
       "    <tr style=\"text-align: right;\">\n",
       "      <th></th>\n",
       "      <th>0</th>\n",
       "    </tr>\n",
       "  </thead>\n",
       "  <tbody>\n",
       "    <tr>\n",
       "      <th>0</th>\n",
       "      <td>증례와 함께 하는 한약처방</td>\n",
       "    </tr>\n",
       "    <tr>\n",
       "      <th>1</th>\n",
       "      <td>플로차트 정형외과 진단</td>\n",
       "    </tr>\n",
       "    <tr>\n",
       "      <th>2</th>\n",
       "      <td>초음파 가이드 근골격계 통증 치료의 정석</td>\n",
       "    </tr>\n",
       "    <tr>\n",
       "      <th>3</th>\n",
       "      <td>실전, 임상한의학 알레르기질환</td>\n",
       "    </tr>\n",
       "    <tr>\n",
       "      <th>4</th>\n",
       "      <td>비만문답</td>\n",
       "    </tr>\n",
       "    <tr>\n",
       "      <th>5</th>\n",
       "      <td>한의사를 위한 통증치료 매뉴얼 Part 3</td>\n",
       "    </tr>\n",
       "    <tr>\n",
       "      <th>6</th>\n",
       "      <td>복증기람(익)</td>\n",
       "    </tr>\n",
       "    <tr>\n",
       "      <th>7</th>\n",
       "      <td>플로차트 정신질환의 한방치료</td>\n",
       "    </tr>\n",
       "    <tr>\n",
       "      <th>8</th>\n",
       "      <td>초음파 유도하 침 시술 가이드북</td>\n",
       "    </tr>\n",
       "    <tr>\n",
       "      <th>9</th>\n",
       "      <td>나의 갑상선 진료</td>\n",
       "    </tr>\n",
       "  </tbody>\n",
       "</table>\n",
       "</div>"
      ],
      "text/plain": [
       "                         0\n",
       "0           증례와 함께 하는 한약처방\n",
       "1             플로차트 정형외과 진단\n",
       "2   초음파 가이드 근골격계 통증 치료의 정석\n",
       "3         실전, 임상한의학 알레르기질환\n",
       "4                     비만문답\n",
       "5  한의사를 위한 통증치료 매뉴얼 Part 3\n",
       "6                  복증기람(익)\n",
       "7          플로차트 정신질환의 한방치료\n",
       "8        초음파 유도하 침 시술 가이드북\n",
       "9                나의 갑상선 진료"
      ]
     },
     "execution_count": 520,
     "metadata": {},
     "output_type": "execute_result"
    }
   ],
   "source": [
    "recommend(df, als_model,purchase_sparse, products, customers,customerId=customers[0])"
   ]
  },
  {
   "cell_type": "markdown",
   "id": "b8758fa8",
   "metadata": {},
   "source": [
    "### 병원장"
   ]
  },
  {
   "cell_type": "code",
   "execution_count": 521,
   "id": "c3ace50f",
   "metadata": {},
   "outputs": [
    {
     "name": "stdout",
     "output_type": "stream",
     "text": [
      "1000\n",
      "189\n"
     ]
    },
    {
     "data": {
      "text/plain": [
       "<1000x189 sparse matrix of type '<class 'numpy.float64'>'\n",
       "\twith 2334 stored elements in Compressed Sparse Row format>"
      ]
     },
     "execution_count": 521,
     "metadata": {},
     "output_type": "execute_result"
    }
   ],
   "source": [
    "grouped_purchased = docceo.groupby(['customer_id','product_ids']).sum().reset_index()\n",
    "customers = list(np.sort(grouped_purchased['customer_id'].unique()))\n",
    "products = list (grouped_purchased['product_ids'].unique())\n",
    "quantity = list(grouped_purchased['quantity'])\n",
    "\n",
    "rows = grouped_purchased['customer_id'].astype('category').cat.codes\n",
    "cols = grouped_purchased['product_ids'].astype('category').cat.codes\n",
    "print(len(customers)) # 1000\n",
    "print(len(products))  # 189\n",
    "purchase_sparse = sparse.csr_matrix((quantity, (rows, cols)), shape = (len(customers),len(products)))\n",
    "purchase_sparse #1000 * 189 행렬"
   ]
  },
  {
   "cell_type": "code",
   "execution_count": 522,
   "id": "91b92f44",
   "metadata": {},
   "outputs": [
    {
     "data": {
      "text/plain": [
       "98.76507936507937"
      ]
     },
     "execution_count": 522,
     "metadata": {},
     "output_type": "execute_result"
    }
   ],
   "source": [
    "# Sparsity: 얼마나 비어있나?\n",
    "matrix_size = purchase_sparse.shape[0]* purchase_sparse.shape[1]\n",
    "num_purchases = len(purchase_sparse.nonzero()[0])\n",
    "sparsity = 100 * (1 - (num_purchases / matrix_size))\n",
    "sparsity"
   ]
  },
  {
   "cell_type": "code",
   "execution_count": 523,
   "id": "d3a77ab3",
   "metadata": {},
   "outputs": [
    {
     "data": {
      "application/vnd.jupyter.widget-view+json": {
       "model_id": "792cdf2601bb4837a4f717c896984969",
       "version_major": 2,
       "version_minor": 0
      },
      "text/plain": [
       "  0%|          | 0/100 [00:00<?, ?it/s]"
      ]
     },
     "metadata": {},
     "output_type": "display_data"
    }
   ],
   "source": [
    "als_model = ALS(factors=20, regularization=0.01, iterations = 100)\n",
    "als_model.fit(purchase_sparse)"
   ]
  },
  {
   "cell_type": "code",
   "execution_count": 524,
   "id": "d5e49857",
   "metadata": {},
   "outputs": [
    {
     "data": {
      "text/plain": [
       "(array([117, 106, 139, 128,  35,  87, 150,  94,   8, 141], dtype=int32),\n",
       " array([0.03631108, 0.01743528, 0.01114338, 0.00790505, 0.00634375,\n",
       "        0.0060242 , 0.00547767, 0.0050641 , 0.00491204, 0.00424065],\n",
       "       dtype=float32))"
      ]
     },
     "execution_count": 524,
     "metadata": {},
     "output_type": "execute_result"
    }
   ],
   "source": [
    "result = als_model.recommend(0, purchase_sparse[0], N=10)\n",
    "result"
   ]
  },
  {
   "cell_type": "code",
   "execution_count": 525,
   "id": "f3f22c4a",
   "metadata": {},
   "outputs": [
    {
     "data": {
      "text/plain": [
       "572    약처방의 정석 (1, 2권 세트) \n",
       "Name: meta_title, dtype: object"
      ]
     },
     "execution_count": 525,
     "metadata": {},
     "output_type": "execute_result"
    }
   ],
   "source": [
    "recommended_product(products,result)"
   ]
  },
  {
   "cell_type": "code",
   "execution_count": 535,
   "id": "04b0af81",
   "metadata": {},
   "outputs": [
    {
     "data": {
      "text/html": [
       "<div>\n",
       "<style scoped>\n",
       "    .dataframe tbody tr th:only-of-type {\n",
       "        vertical-align: middle;\n",
       "    }\n",
       "\n",
       "    .dataframe tbody tr th {\n",
       "        vertical-align: top;\n",
       "    }\n",
       "\n",
       "    .dataframe thead th {\n",
       "        text-align: right;\n",
       "    }\n",
       "</style>\n",
       "<table border=\"1\" class=\"dataframe\">\n",
       "  <thead>\n",
       "    <tr style=\"text-align: right;\">\n",
       "      <th></th>\n",
       "      <th>0</th>\n",
       "    </tr>\n",
       "  </thead>\n",
       "  <tbody>\n",
       "    <tr>\n",
       "      <th>0</th>\n",
       "      <td>약처방의 정석</td>\n",
       "    </tr>\n",
       "    <tr>\n",
       "      <th>1</th>\n",
       "      <td>임상에서 자주 쓰이는 근골격계 검진법</td>\n",
       "    </tr>\n",
       "    <tr>\n",
       "      <th>2</th>\n",
       "      <td>척추통증 - 움직임 문제 -(Back Pain: A Movement Problem-...</td>\n",
       "    </tr>\n",
       "    <tr>\n",
       "      <th>3</th>\n",
       "      <td>호희서 상한론강의</td>\n",
       "    </tr>\n",
       "    <tr>\n",
       "      <th>4</th>\n",
       "      <td>면역학강의</td>\n",
       "    </tr>\n",
       "    <tr>\n",
       "      <th>5</th>\n",
       "      <td>주사영양치료</td>\n",
       "    </tr>\n",
       "    <tr>\n",
       "      <th>6</th>\n",
       "      <td>경계 너머의 한방처방</td>\n",
       "    </tr>\n",
       "    <tr>\n",
       "      <th>7</th>\n",
       "      <td>실전한약가이드</td>\n",
       "    </tr>\n",
       "    <tr>\n",
       "      <th>8</th>\n",
       "      <td>플로차트 정형외과 진단</td>\n",
       "    </tr>\n",
       "    <tr>\n",
       "      <th>9</th>\n",
       "      <td>불면 장애 -INSOMNIA DISORDERS</td>\n",
       "    </tr>\n",
       "  </tbody>\n",
       "</table>\n",
       "</div>"
      ],
      "text/plain": [
       "                                                   0\n",
       "0                                            약처방의 정석\n",
       "1                               임상에서 자주 쓰이는 근골격계 검진법\n",
       "2  척추통증 - 움직임 문제 -(Back Pain: A Movement Problem-...\n",
       "3                                          호희서 상한론강의\n",
       "4                                              면역학강의\n",
       "5                                             주사영양치료\n",
       "6                                        경계 너머의 한방처방\n",
       "7                                            실전한약가이드\n",
       "8                                       플로차트 정형외과 진단\n",
       "9                          불면 장애 -INSOMNIA DISORDERS"
      ]
     },
     "execution_count": 535,
     "metadata": {},
     "output_type": "execute_result"
    }
   ],
   "source": [
    "recommend(df, als_model,purchase_sparse, products, customers,customerId=customers[0])"
   ]
  },
  {
   "cell_type": "code",
   "execution_count": null,
   "id": "8ee63628",
   "metadata": {},
   "outputs": [],
   "source": []
  }
 ],
 "metadata": {
  "kernelspec": {
   "display_name": "Python 3",
   "language": "python",
   "name": "python3"
  },
  "language_info": {
   "codemirror_mode": {
    "name": "ipython",
    "version": 3
   },
   "file_extension": ".py",
   "mimetype": "text/x-python",
   "name": "python",
   "nbconvert_exporter": "python",
   "pygments_lexer": "ipython3",
   "version": "3.8.8"
  }
 },
 "nbformat": 4,
 "nbformat_minor": 5
}
