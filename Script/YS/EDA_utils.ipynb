{
 "cells": [
  {
   "cell_type": "code",
   "execution_count": 2,
   "id": "9c2e2996",
   "metadata": {
    "ExecuteTime": {
     "end_time": "2022-09-20T04:55:04.606731Z",
     "start_time": "2022-09-20T04:55:02.421337Z"
    }
   },
   "outputs": [],
   "source": [
    "import pandas as pd\n",
    "import numpy as np\n",
    "import matplotlib.pyplot as plt\n",
    "import seaborn as sns"
   ]
  },
  {
   "cell_type": "code",
   "execution_count": 3,
   "id": "22cee7f6",
   "metadata": {
    "ExecuteTime": {
     "end_time": "2022-09-20T04:55:11.396145Z",
     "start_time": "2022-09-20T04:55:05.736266Z"
    }
   },
   "outputs": [
    {
     "name": "stderr",
     "output_type": "stream",
     "text": [
      "C:\\Users\\y0010\\AppData\\Local\\Temp\\ipykernel_23148\\394980597.py:2: DtypeWarning: Columns (14,15,23,29,30) have mixed types. Specify dtype option on import or set low_memory=False.\n",
      "  articles = pd.read_csv(\"../data/articles.csv\")\n",
      "C:\\Users\\y0010\\AppData\\Local\\Temp\\ipykernel_23148\\394980597.py:3: DtypeWarning: Columns (5,7,26) have mixed types. Specify dtype option on import or set low_memory=False.\n",
      "  orders_csv = pd.read_csv(\"../data/orders.csv\")\n"
     ]
    }
   ],
   "source": [
    "## local 환경에서 실행\n",
    "articles = pd.read_csv(\"../data/articles.csv\")\n",
    "orders_csv = pd.read_csv(\"../data/orders.csv\")\n",
    "products = pd.read_csv(\"../data/products.csv\")"
   ]
  },
  {
   "cell_type": "code",
   "execution_count": 4,
   "id": "8469ef51",
   "metadata": {
    "ExecuteTime": {
     "end_time": "2022-09-20T04:55:22.474670Z",
     "start_time": "2022-09-20T04:55:22.418699Z"
    }
   },
   "outputs": [],
   "source": [
    "articles_df= pd.DataFrame(articles).iloc[:,1:]\n",
    "orders_df = pd.DataFrame(orders_csv).iloc[:,1:]\n",
    "products_df = pd.DataFrame(products).iloc[:,1:]"
   ]
  },
  {
   "cell_type": "markdown",
   "id": "73458b3d",
   "metadata": {},
   "source": [
    "# orders table"
   ]
  },
  {
   "cell_type": "code",
   "execution_count": 5,
   "id": "930be9a2",
   "metadata": {
    "ExecuteTime": {
     "end_time": "2022-09-20T04:55:23.040328Z",
     "start_time": "2022-09-20T04:55:23.028356Z"
    }
   },
   "outputs": [],
   "source": [
    "# product와 연결되는 item product_id를 찾는 함수\n",
    "def find_product(index):\n",
    "    '''\n",
    "    Find out the product_id in orders table with index number\n",
    "    \n",
    "    Args:\n",
    "    index(int): input the index\n",
    "    \n",
    "    Returns:\n",
    "    product_id\n",
    "    '''\n",
    "    try:\n",
    "        product_id = str(eval(orders_csv[\"items\"][index])[0]['product_id'])\n",
    "        return product_id\n",
    "    except:\n",
    "        print(\"no item\")"
   ]
  },
  {
   "cell_type": "code",
   "execution_count": 7,
   "id": "66357558",
   "metadata": {
    "ExecuteTime": {
     "end_time": "2022-09-20T04:55:30.647097Z",
     "start_time": "2022-09-20T04:55:30.629083Z"
    },
    "scrolled": true
   },
   "outputs": [],
   "source": [
    "# column에 product_id 포함하는지 검색, customer_id 특정 가능\n",
    "def find_product_id(df,column,product_id,customer_id=None):\n",
    "    '''\n",
    "    Find if the dataframe contains the product_id and returns the dataframe which contains input product_id and customer_id\n",
    "    \n",
    "    Args:\n",
    "    df(Dataframe): orders table\n",
    "    column(column): 'item' column\n",
    "    product_id(string): product_id which you want figure out\n",
    "    customer_id(string): customer_id which you want figure out, defalt=None\n",
    "    \n",
    "    Returns:\n",
    "    df(Dataframe): table\n",
    "    '''\n",
    "    if customer_id == None:\n",
    "        df_temp = df[df[column].str.contains(product_id ,na=False)]\n",
    "    else:\n",
    "        df_temp = df[( df[column].str.contains(product_id ,na=False) ) & ( df['customer_id'].str.contains(customer_id ,na=False) )]\n",
    "    return df_temp\n",
    "# find_product_id(orders_df,'items','5f51fecca0b91001bf48f211','60c6f4b80ccc56001bc8075f')"
   ]
  },
  {
   "cell_type": "code",
   "execution_count": 8,
   "id": "f3398b51",
   "metadata": {
    "ExecuteTime": {
     "end_time": "2022-09-20T04:55:33.969052Z",
     "start_time": "2022-09-20T04:55:33.962930Z"
    }
   },
   "outputs": [],
   "source": [
    "def strtodict(string):\n",
    "    return eval(string)"
   ]
  },
  {
   "cell_type": "code",
   "execution_count": 9,
   "id": "afa622a9",
   "metadata": {
    "ExecuteTime": {
     "end_time": "2022-09-20T04:55:34.548559Z",
     "start_time": "2022-09-20T04:55:34.533551Z"
    }
   },
   "outputs": [],
   "source": [
    "# 전처리 할때 딕셔너리 형태의 str null 값 찾기\n",
    "def findnull(df,column):\n",
    "    df[column] = df[column].apply(strtodict)\n",
    "    return df[df[column].str.len() == 0]"
   ]
  },
  {
   "cell_type": "code",
   "execution_count": null,
   "id": "19eeff9a",
   "metadata": {},
   "outputs": [],
   "source": []
  },
  {
   "cell_type": "markdown",
   "id": "e88f35b9",
   "metadata": {},
   "source": [
    "# log table"
   ]
  },
  {
   "cell_type": "code",
   "execution_count": 10,
   "id": "d8cd9d2a",
   "metadata": {
    "ExecuteTime": {
     "end_time": "2022-09-20T04:55:37.743268Z",
     "start_time": "2022-09-20T04:55:37.734316Z"
    }
   },
   "outputs": [],
   "source": [
    "path = '../data/1663027200000/'\n",
    "import os\n",
    "def logconcat(path, startswith):\n",
    "    file_list = os.listdir(path)\n",
    "    file_list_py = [file for file in file_list if file.startswith(startswith)]\n",
    "    file_list_py\n",
    "    df = pd.DataFrame()\n",
    "    for i in file_list_py:\n",
    "        data = pd.read_json(path+i,lines=True)\n",
    "        df = pd.concat([df,data])\n",
    "    return df.reset_index(drop = True)"
   ]
  },
  {
   "cell_type": "code",
   "execution_count": 12,
   "id": "1af359c6",
   "metadata": {
    "ExecuteTime": {
     "end_time": "2022-09-20T04:55:41.749919Z",
     "start_time": "2022-09-20T04:55:41.740676Z"
    }
   },
   "outputs": [],
   "source": [
    "# logconcat(path,'1')"
   ]
  },
  {
   "cell_type": "code",
   "execution_count": 13,
   "id": "1cadf2f8",
   "metadata": {
    "ExecuteTime": {
     "end_time": "2022-09-20T04:55:42.156976Z",
     "start_time": "2022-09-20T04:55:42.151977Z"
    }
   },
   "outputs": [],
   "source": [
    "def findcontext(df):\n",
    "    '''\n",
    "    Figure out the context column table's dictionary which is 'page' value\n",
    "    \n",
    "    Args:\n",
    "    df(Dataframe): log dataset\n",
    "    \n",
    "    Returns:\n",
    "    li(list): values of 'page'\n",
    "    '''\n",
    "    li = []\n",
    "    for i, row in df.iterrows():\n",
    "        for j in row['context'].keys():\n",
    "            if j == 'page':\n",
    "                li.append(row['context'][j])\n",
    "    return li"
   ]
  },
  {
   "cell_type": "code",
   "execution_count": 14,
   "id": "a1558327",
   "metadata": {
    "ExecuteTime": {
     "end_time": "2022-09-20T04:55:43.665524Z",
     "start_time": "2022-09-20T04:55:43.649441Z"
    }
   },
   "outputs": [],
   "source": [
    "def contexttocolumn(df):\n",
    "    '''\n",
    "    Add columns with context column's 'page' key-value\n",
    "    \n",
    "    Args:\n",
    "    df(Dataframe): log table\n",
    "    \n",
    "    Returns:\n",
    "    df(Dataframe): key-value added log table\n",
    "    \n",
    "    '''\n",
    "    li = []\n",
    "    for i, row in df.iterrows():\n",
    "        for j in row['context'].keys():\n",
    "            if j == 'page':\n",
    "                li.append(row['context'][j])    \n",
    "    df_dic = df.copy()\n",
    "    df_dic['page'] = li\n",
    "    path, referrer, search, title, url = [], [],[],[],[]\n",
    "    for i, row in df_dic.iterrows():\n",
    "        for j in row['page'].keys():\n",
    "            if j == 'path':\n",
    "                path.append(row['page'][j])\n",
    "            if j == 'referrer':\n",
    "                referrer.append(row['page'][j])\n",
    "            if j == 'search':\n",
    "                search.append(row['page'][j])\n",
    "            if j == 'title':\n",
    "                title.append(row['page'][j])\n",
    "            if j == 'url':\n",
    "                url.append(row['page'][j])\n",
    "    df_dic['path'] = path\n",
    "    df_dic['referrer'] = referrer\n",
    "    df_dic['search'] = search\n",
    "    df_dic['title'] = title\n",
    "    df_dic['url'] = url  \n",
    "    return df_dic"
   ]
  },
  {
   "cell_type": "code",
   "execution_count": 61,
   "id": "68bebc74",
   "metadata": {
    "ExecuteTime": {
     "end_time": "2022-09-20T02:43:48.091445Z",
     "start_time": "2022-09-20T02:43:48.066380Z"
    }
   },
   "outputs": [
    {
     "data": {
      "text/plain": [
       "0.5500329404875192"
      ]
     },
     "execution_count": 61,
     "metadata": {},
     "output_type": "execute_result"
    }
   ],
   "source": [
    "len(df_dic[df_dic['traits'].isna() == True]) / len(df_dic)"
   ]
  },
  {
   "cell_type": "code",
   "execution_count": 62,
   "id": "d7bbdc3a",
   "metadata": {
    "ExecuteTime": {
     "end_time": "2022-09-20T02:44:25.624848Z",
     "start_time": "2022-09-20T02:44:25.609847Z"
    }
   },
   "outputs": [
    {
     "data": {
      "text/plain": [
       "0.004355464460874021"
      ]
     },
     "execution_count": 62,
     "metadata": {},
     "output_type": "execute_result"
    }
   ],
   "source": [
    "len(df_dic[df_dic['userId'].isna() == True]) / len(df_dic)"
   ]
  },
  {
   "cell_type": "code",
   "execution_count": 16,
   "id": "615e1864",
   "metadata": {
    "ExecuteTime": {
     "end_time": "2022-09-20T04:55:59.889559Z",
     "start_time": "2022-09-20T04:55:59.874532Z"
    }
   },
   "outputs": [],
   "source": [
    "# traits에 customerId인 데이터 찾기\n",
    "def find_data_customerId(df,column,customerId):\n",
    "    '''\n",
    "    Make the dataframe which contains input customerId\n",
    "    \n",
    "    Args:\n",
    "    df(Dataframe): log dataframe \n",
    "    column(String): 'trait' column\n",
    "    customerId(String): customerId you want to find\n",
    "    \n",
    "    Returns:\n",
    "    df(Dataframe): Dataframe which contains input customerId\n",
    "    '''\n",
    "    li=[]\n",
    "    for i, row in df.iterrows():\n",
    "        try:\n",
    "            if row[column]['customerId'] == customerId:\n",
    "                li.append(i)\n",
    "        except:\n",
    "            continue\n",
    "    return df.iloc[li,:]\n",
    "# find_data_customerId(df_dic,'traits','5d705e9419efa30eb29141e8')"
   ]
  },
  {
   "cell_type": "code",
   "execution_count": null,
   "id": "7b22f28d",
   "metadata": {},
   "outputs": [],
   "source": []
  }
 ],
 "metadata": {
  "kernelspec": {
   "display_name": "Python 3",
   "language": "python",
   "name": "python3"
  },
  "language_info": {
   "codemirror_mode": {
    "name": "ipython",
    "version": 3
   },
   "file_extension": ".py",
   "mimetype": "text/x-python",
   "name": "python",
   "nbconvert_exporter": "python",
   "pygments_lexer": "ipython3",
   "version": "3.8.8"
  },
  "toc": {
   "base_numbering": 1,
   "nav_menu": {},
   "number_sections": true,
   "sideBar": true,
   "skip_h1_title": false,
   "title_cell": "Table of Contents",
   "title_sidebar": "Contents",
   "toc_cell": false,
   "toc_position": {},
   "toc_section_display": true,
   "toc_window_display": true
  }
 },
 "nbformat": 4,
 "nbformat_minor": 5
}
