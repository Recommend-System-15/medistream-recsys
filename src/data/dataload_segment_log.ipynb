{
 "cells": [
  {
   "cell_type": "code",
   "execution_count": null,
   "id": "1bb83b1b",
   "metadata": {},
   "outputs": [],
   "source": [
    "# 용량이 클 경우 chunk 사용 방법\n",
    "\n",
    "filename = '/fastcampus-data/log-data/segment_log000.json'\n",
    "chunksize = 10 ** 6\n",
    "\n",
    "df_list = []\n",
    "with pd.read_json(filename, chunksize=chunksize, lines=True) as reader:\n",
    "    for chunk in tqdm(reader):\n",
    "        df_list.append(chunk)\n",
    "    df = pd.concat(df_list)\n",
    "\n",
    "df = df.reset_index( drop=True )"
   ]
  }
 ],
 "metadata": {
  "kernelspec": {
   "display_name": "Python 3",
   "language": "python",
   "name": "python3"
  },
  "language_info": {
   "codemirror_mode": {
    "name": "ipython",
    "version": 3
   },
   "file_extension": ".py",
   "mimetype": "text/x-python",
   "name": "python",
   "nbconvert_exporter": "python",
   "pygments_lexer": "ipython3",
   "version": "3.8.8"
  }
 },
 "nbformat": 4,
 "nbformat_minor": 5
}
